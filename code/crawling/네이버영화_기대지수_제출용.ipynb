{
 "cells": [
  {
   "cell_type": "code",
   "execution_count": 1,
   "id": "5d0279c6",
   "metadata": {
    "ExecuteTime": {
     "end_time": "2022-05-14T01:26:49.647602Z",
     "start_time": "2022-05-14T01:26:48.707392Z"
    }
   },
   "outputs": [],
   "source": [
    "import os\n",
    "import pandas as pd\n",
    "import numpy as np\n",
    "import math\n",
    "\n",
    "from selenium.webdriver.common.alert import Alert\n",
    "from selenium import webdriver  # 라이브러리(모듈) 가져오라\n",
    "import chromedriver_autoinstaller\n",
    "\n",
    "from selenium.webdriver.common.keys import Keys\n",
    "from selenium.webdriver import ActionChains as AC\n",
    "from tqdm import tqdm, tqdm_notebook\n",
    "from tqdm.notebook import tqdm\n",
    "import re\n",
    "from time import sleep\n",
    "import time\n",
    "\n",
    "# 워닝 무시\n",
    "import warnings\n",
    "warnings.filterwarnings('ignore')"
   ]
  },
  {
   "cell_type": "code",
   "execution_count": 3,
   "id": "adef1261",
   "metadata": {
    "ExecuteTime": {
     "end_time": "2022-05-14T01:26:51.624925Z",
     "start_time": "2022-05-14T01:26:51.574036Z"
    }
   },
   "outputs": [
    {
     "data": {
      "text/html": [
       "<div>\n",
       "<style scoped>\n",
       "    .dataframe tbody tr th:only-of-type {\n",
       "        vertical-align: middle;\n",
       "    }\n",
       "\n",
       "    .dataframe tbody tr th {\n",
       "        vertical-align: top;\n",
       "    }\n",
       "\n",
       "    .dataframe thead th {\n",
       "        text-align: right;\n",
       "    }\n",
       "</style>\n",
       "<table border=\"1\" class=\"dataframe\">\n",
       "  <thead>\n",
       "    <tr style=\"text-align: right;\">\n",
       "      <th></th>\n",
       "      <th>no.</th>\n",
       "      <th>title</th>\n",
       "      <th>directors</th>\n",
       "      <th>actors</th>\n",
       "      <th>plots</th>\n",
       "      <th>genre</th>\n",
       "      <th>runtime</th>\n",
       "      <th>keywords</th>\n",
       "      <th>등급</th>\n",
       "      <th>국적</th>\n",
       "      <th>screenCnt</th>\n",
       "      <th>audiAcc</th>\n",
       "      <th>salesAcc</th>\n",
       "      <th>개봉일</th>\n",
       "      <th>제작비</th>\n",
       "    </tr>\n",
       "  </thead>\n",
       "  <tbody>\n",
       "    <tr>\n",
       "      <th>0</th>\n",
       "      <td>2.0</td>\n",
       "      <td>물괴</td>\n",
       "      <td>허종호</td>\n",
       "      <td>김명민, 김인권, 혜리, 최우식, 이경영, 박희순, 박성웅, 이도경, 김중희, 이규...</td>\n",
       "      <td>“인왕산에 흉악한 짐승이 나타나 사람을 해쳤다 하옵니다.그것을 두고 듣지도 보지도 ...</td>\n",
       "      <td>액션</td>\n",
       "      <td>105.0</td>\n",
       "      <td>조선시대,전염병,괴물,시대극/사극,사투</td>\n",
       "      <td>15세이상관람가</td>\n",
       "      <td>한국</td>\n",
       "      <td>1183.0</td>\n",
       "      <td>723414.0</td>\n",
       "      <td>6.104165e+09</td>\n",
       "      <td>2018-09-12</td>\n",
       "      <td>1.250000e+10</td>\n",
       "    </tr>\n",
       "    <tr>\n",
       "      <th>1</th>\n",
       "      <td>3.0</td>\n",
       "      <td>싱글라이더</td>\n",
       "      <td>이주영</td>\n",
       "      <td>이병헌, 공효진, 안소희, 잭 캠벨, 양유진, 애니카 화이틀리, 케이 에크룬드, 백...</td>\n",
       "      <td>그가 사라졌다그에게서 모든 것이 사라졌다증권회사의 지점장 강재훈(이병헌). 안정된 ...</td>\n",
       "      <td>드라마</td>\n",
       "      <td>97.0</td>\n",
       "      <td>기러기아빠,호주,오스트레일리아,반전,반전영화,동물</td>\n",
       "      <td>15세이상관람가</td>\n",
       "      <td>한국</td>\n",
       "      <td>576.0</td>\n",
       "      <td>351276.0</td>\n",
       "      <td>2.685519e+09</td>\n",
       "      <td>2017-02-22</td>\n",
       "      <td>4.500000e+09</td>\n",
       "    </tr>\n",
       "    <tr>\n",
       "      <th>2</th>\n",
       "      <td>7.0</td>\n",
       "      <td>허스토리</td>\n",
       "      <td>민규동</td>\n",
       "      <td>김희애, 김해숙, 예수정, 문숙, 이용녀, 김선영, 김준한, 이유영, 이지하, 이용...</td>\n",
       "      <td>이겨야죠! 이겨야 할매들 분이 안풀리겠습니까? 1992~1998 6년의 기간, 2...</td>\n",
       "      <td>드라마</td>\n",
       "      <td>121.0</td>\n",
       "      <td>종군위안부,위안부,일본군위안부피해자,실화바탕,재판,관부재판,정신대,정신대할머니,법정...</td>\n",
       "      <td>12세이상관람가</td>\n",
       "      <td>한국</td>\n",
       "      <td>696.0</td>\n",
       "      <td>336822.0</td>\n",
       "      <td>2.521026e+09</td>\n",
       "      <td>2018-06-27</td>\n",
       "      <td>2.500000e+09</td>\n",
       "    </tr>\n",
       "    <tr>\n",
       "      <th>3</th>\n",
       "      <td>9.0</td>\n",
       "      <td>풀잎들</td>\n",
       "      <td>홍상수</td>\n",
       "      <td>김민희, 정진영, 기주봉, 서영화, 김새벽, 안재홍, 공민정, 안선영, 신석호, 김...</td>\n",
       "      <td>커피집이 있을 것 같지 않은 골목 안으로 커피집이 있고 사람들이 커피집 안 여기저기...</td>\n",
       "      <td>드라마</td>\n",
       "      <td>66.0</td>\n",
       "      <td>삶과죽음,타인의 삶,언행,부산국제영화제,베를린영화제,삶의굴레,삶의순환,삶의의미</td>\n",
       "      <td>15세이상관람가</td>\n",
       "      <td>한국</td>\n",
       "      <td>54.0</td>\n",
       "      <td>7443.0</td>\n",
       "      <td>6.032025e+07</td>\n",
       "      <td>2018-10-25</td>\n",
       "      <td>1.000000e+08</td>\n",
       "    </tr>\n",
       "    <tr>\n",
       "      <th>4</th>\n",
       "      <td>13.0</td>\n",
       "      <td>영주</td>\n",
       "      <td>차성덕</td>\n",
       "      <td>김향기, 김호정, 유재명, 탕준상, 장혜진, 김용준, 강동윤, 박옥출, 현봉식, 전...</td>\n",
       "      <td>나쁘고 좋은 사람들을 만났다.교통사고로 부모를 잃고 졸지에 가장이 된 영주는 자신의...</td>\n",
       "      <td>드라마</td>\n",
       "      <td>101.0</td>\n",
       "      <td>부산국제영화제,부모님의죽음,장편데뷔작,복수극</td>\n",
       "      <td>12세이상관람가</td>\n",
       "      <td>한국</td>\n",
       "      <td>106.0</td>\n",
       "      <td>24823.0</td>\n",
       "      <td>1.927298e+08</td>\n",
       "      <td>2018-11-22</td>\n",
       "      <td>2.200000e+08</td>\n",
       "    </tr>\n",
       "    <tr>\n",
       "      <th>...</th>\n",
       "      <td>...</td>\n",
       "      <td>...</td>\n",
       "      <td>...</td>\n",
       "      <td>...</td>\n",
       "      <td>...</td>\n",
       "      <td>...</td>\n",
       "      <td>...</td>\n",
       "      <td>...</td>\n",
       "      <td>...</td>\n",
       "      <td>...</td>\n",
       "      <td>...</td>\n",
       "      <td>...</td>\n",
       "      <td>...</td>\n",
       "      <td>...</td>\n",
       "      <td>...</td>\n",
       "    </tr>\n",
       "    <tr>\n",
       "      <th>572</th>\n",
       "      <td>6317.0</td>\n",
       "      <td>방황하는 칼날</td>\n",
       "      <td>이정호</td>\n",
       "      <td>정재영, 이성민, 서준영, 김대명, 김현, 이수빈, 이주승, 최상욱, 김지혁, 김홍...</td>\n",
       "      <td>한 아이의 아버지는 하나뿐인 딸을 잃은 피해자가 되고, 이제는 살인자가 되었습니다....</td>\n",
       "      <td>범죄</td>\n",
       "      <td>122.0</td>\n",
       "      <td>복수,살인자,소설원작,스릴러,아버지,윤간,일본소설원작,집단성폭행,추격,피해자,형사,...</td>\n",
       "      <td>청소년관람불가</td>\n",
       "      <td>한국</td>\n",
       "      <td>594.0</td>\n",
       "      <td>987420.0</td>\n",
       "      <td>7.806378e+09</td>\n",
       "      <td>2014-04-10</td>\n",
       "      <td>2.400000e+09</td>\n",
       "    </tr>\n",
       "    <tr>\n",
       "      <th>573</th>\n",
       "      <td>6320.0</td>\n",
       "      <td>히말라야</td>\n",
       "      <td>이석훈</td>\n",
       "      <td>황정민, 정우, 조성하, 김인권, 라미란, 김원해, 이해영, 전배수, 정규수, 성병...</td>\n",
       "      <td>“기다려... 우리가 꼭 데리러 갈게...”해발 8,750 미터 히말라야 에베레스트...</td>\n",
       "      <td>드라마</td>\n",
       "      <td>124.0</td>\n",
       "      <td>산,등산,히말라야,동료,에베레스트,실화바탕,실화바탕,실화바탕,실존인물,산악등반,동사...</td>\n",
       "      <td>12세이상관람가</td>\n",
       "      <td>한국</td>\n",
       "      <td>1009.0</td>\n",
       "      <td>7759473.0</td>\n",
       "      <td>6.017358e+10</td>\n",
       "      <td>2015-12-16</td>\n",
       "      <td>1.000000e+10</td>\n",
       "    </tr>\n",
       "    <tr>\n",
       "      <th>574</th>\n",
       "      <td>6334.0</td>\n",
       "      <td>허삼관</td>\n",
       "      <td>하정우</td>\n",
       "      <td>하정우, 하지원, 남다름, 노강민, 전현석, 전혜진, 장광, 민무제, 주진모, 성동...</td>\n",
       "      <td>그나저나 나한테 언제 시집 오실 생각이세요?  돈 없고, 대책 없고, 가진 것도 ...</td>\n",
       "      <td>드라마</td>\n",
       "      <td>123.0</td>\n",
       "      <td>소설원작,중국소설원작</td>\n",
       "      <td>12세이상관람가</td>\n",
       "      <td>한국</td>\n",
       "      <td>621.0</td>\n",
       "      <td>955175.0</td>\n",
       "      <td>7.405416e+09</td>\n",
       "      <td>2015-01-14</td>\n",
       "      <td>1.000000e+10</td>\n",
       "    </tr>\n",
       "    <tr>\n",
       "      <th>575</th>\n",
       "      <td>6338.0</td>\n",
       "      <td>해적: 바다로 간 산적</td>\n",
       "      <td>이석훈</td>\n",
       "      <td>손예진, 유해진, 김원해, 박철민, 조달환, 신정근, 설리, 이이경, 이경영, 김경...</td>\n",
       "      <td>전국민을 시원하게 웃겨줄 액션 어드벤처!조선을 뒤흔든 최강도적들의 대격전! 조선의 ...</td>\n",
       "      <td>어드벤처</td>\n",
       "      <td>130.0</td>\n",
       "      <td>고래,바다,사대부,조선,해적,국새</td>\n",
       "      <td>12세이상관람가</td>\n",
       "      <td>한국</td>\n",
       "      <td>838.0</td>\n",
       "      <td>8646758.0</td>\n",
       "      <td>6.624063e+10</td>\n",
       "      <td>2014-08-06</td>\n",
       "      <td>1.500000e+10</td>\n",
       "    </tr>\n",
       "    <tr>\n",
       "      <th>576</th>\n",
       "      <td>6358.0</td>\n",
       "      <td>숫호구</td>\n",
       "      <td>백승기</td>\n",
       "      <td>백승기, 손이용, 박지나, 조한철, 김선호, 성충경, 신예주, 백대현, 이순자, 손...</td>\n",
       "      <td>얼굴, 몸매, 성적 매력까지 다 가진 슈퍼 섹시 아바타로 변신!내 인생 최고의 특급...</td>\n",
       "      <td>코미디</td>\n",
       "      <td>80.0</td>\n",
       "      <td>백수,생체실험,정체불명,숫총각,아바타</td>\n",
       "      <td>청소년관람불가</td>\n",
       "      <td>한국</td>\n",
       "      <td>14.0</td>\n",
       "      <td>1660.0</td>\n",
       "      <td>1.300650e+07</td>\n",
       "      <td>2014-08-07</td>\n",
       "      <td>5.000000e+06</td>\n",
       "    </tr>\n",
       "  </tbody>\n",
       "</table>\n",
       "<p>577 rows × 15 columns</p>\n",
       "</div>"
      ],
      "text/plain": [
       "        no.         title directors  \\\n",
       "0       2.0            물괴       허종호   \n",
       "1       3.0         싱글라이더       이주영   \n",
       "2       7.0          허스토리       민규동   \n",
       "3       9.0           풀잎들       홍상수   \n",
       "4      13.0            영주       차성덕   \n",
       "..      ...           ...       ...   \n",
       "572  6317.0       방황하는 칼날       이정호   \n",
       "573  6320.0          히말라야       이석훈   \n",
       "574  6334.0           허삼관       하정우   \n",
       "575  6338.0  해적: 바다로 간 산적       이석훈   \n",
       "576  6358.0           숫호구       백승기   \n",
       "\n",
       "                                                actors  \\\n",
       "0    김명민, 김인권, 혜리, 최우식, 이경영, 박희순, 박성웅, 이도경, 김중희, 이규...   \n",
       "1    이병헌, 공효진, 안소희, 잭 캠벨, 양유진, 애니카 화이틀리, 케이 에크룬드, 백...   \n",
       "2    김희애, 김해숙, 예수정, 문숙, 이용녀, 김선영, 김준한, 이유영, 이지하, 이용...   \n",
       "3    김민희, 정진영, 기주봉, 서영화, 김새벽, 안재홍, 공민정, 안선영, 신석호, 김...   \n",
       "4    김향기, 김호정, 유재명, 탕준상, 장혜진, 김용준, 강동윤, 박옥출, 현봉식, 전...   \n",
       "..                                                 ...   \n",
       "572  정재영, 이성민, 서준영, 김대명, 김현, 이수빈, 이주승, 최상욱, 김지혁, 김홍...   \n",
       "573  황정민, 정우, 조성하, 김인권, 라미란, 김원해, 이해영, 전배수, 정규수, 성병...   \n",
       "574  하정우, 하지원, 남다름, 노강민, 전현석, 전혜진, 장광, 민무제, 주진모, 성동...   \n",
       "575  손예진, 유해진, 김원해, 박철민, 조달환, 신정근, 설리, 이이경, 이경영, 김경...   \n",
       "576  백승기, 손이용, 박지나, 조한철, 김선호, 성충경, 신예주, 백대현, 이순자, 손...   \n",
       "\n",
       "                                                 plots genre  runtime  \\\n",
       "0    “인왕산에 흉악한 짐승이 나타나 사람을 해쳤다 하옵니다.그것을 두고 듣지도 보지도 ...    액션    105.0   \n",
       "1    그가 사라졌다그에게서 모든 것이 사라졌다증권회사의 지점장 강재훈(이병헌). 안정된 ...   드라마     97.0   \n",
       "2     이겨야죠! 이겨야 할매들 분이 안풀리겠습니까? 1992~1998 6년의 기간, 2...   드라마    121.0   \n",
       "3    커피집이 있을 것 같지 않은 골목 안으로 커피집이 있고 사람들이 커피집 안 여기저기...   드라마     66.0   \n",
       "4    나쁘고 좋은 사람들을 만났다.교통사고로 부모를 잃고 졸지에 가장이 된 영주는 자신의...   드라마    101.0   \n",
       "..                                                 ...   ...      ...   \n",
       "572  한 아이의 아버지는 하나뿐인 딸을 잃은 피해자가 되고, 이제는 살인자가 되었습니다....    범죄    122.0   \n",
       "573  “기다려... 우리가 꼭 데리러 갈게...”해발 8,750 미터 히말라야 에베레스트...   드라마    124.0   \n",
       "574   그나저나 나한테 언제 시집 오실 생각이세요?  돈 없고, 대책 없고, 가진 것도 ...   드라마    123.0   \n",
       "575  전국민을 시원하게 웃겨줄 액션 어드벤처!조선을 뒤흔든 최강도적들의 대격전! 조선의 ...  어드벤처    130.0   \n",
       "576  얼굴, 몸매, 성적 매력까지 다 가진 슈퍼 섹시 아바타로 변신!내 인생 최고의 특급...   코미디     80.0   \n",
       "\n",
       "                                              keywords        등급  국적  \\\n",
       "0                                조선시대,전염병,괴물,시대극/사극,사투  15세이상관람가  한국   \n",
       "1                          기러기아빠,호주,오스트레일리아,반전,반전영화,동물  15세이상관람가  한국   \n",
       "2    종군위안부,위안부,일본군위안부피해자,실화바탕,재판,관부재판,정신대,정신대할머니,법정...  12세이상관람가  한국   \n",
       "3          삶과죽음,타인의 삶,언행,부산국제영화제,베를린영화제,삶의굴레,삶의순환,삶의의미  15세이상관람가  한국   \n",
       "4                             부산국제영화제,부모님의죽음,장편데뷔작,복수극  12세이상관람가  한국   \n",
       "..                                                 ...       ...  ..   \n",
       "572  복수,살인자,소설원작,스릴러,아버지,윤간,일본소설원작,집단성폭행,추격,피해자,형사,...   청소년관람불가  한국   \n",
       "573  산,등산,히말라야,동료,에베레스트,실화바탕,실화바탕,실화바탕,실존인물,산악등반,동사...  12세이상관람가  한국   \n",
       "574                                        소설원작,중국소설원작  12세이상관람가  한국   \n",
       "575                                 고래,바다,사대부,조선,해적,국새  12세이상관람가  한국   \n",
       "576                               백수,생체실험,정체불명,숫총각,아바타   청소년관람불가  한국   \n",
       "\n",
       "     screenCnt    audiAcc      salesAcc         개봉일           제작비  \n",
       "0       1183.0   723414.0  6.104165e+09  2018-09-12  1.250000e+10  \n",
       "1        576.0   351276.0  2.685519e+09  2017-02-22  4.500000e+09  \n",
       "2        696.0   336822.0  2.521026e+09  2018-06-27  2.500000e+09  \n",
       "3         54.0     7443.0  6.032025e+07  2018-10-25  1.000000e+08  \n",
       "4        106.0    24823.0  1.927298e+08  2018-11-22  2.200000e+08  \n",
       "..         ...        ...           ...         ...           ...  \n",
       "572      594.0   987420.0  7.806378e+09  2014-04-10  2.400000e+09  \n",
       "573     1009.0  7759473.0  6.017358e+10  2015-12-16  1.000000e+10  \n",
       "574      621.0   955175.0  7.405416e+09  2015-01-14  1.000000e+10  \n",
       "575      838.0  8646758.0  6.624063e+10  2014-08-06  1.500000e+10  \n",
       "576       14.0     1660.0  1.300650e+07  2014-08-07  5.000000e+06  \n",
       "\n",
       "[577 rows x 15 columns]"
      ]
     },
     "execution_count": 3,
     "metadata": {},
     "output_type": "execute_result"
    }
   ],
   "source": [
    "df = pd.read_csv('data/data_제작비_한국.csv')\n",
    "df.drop('Unnamed: 0', axis=1, inplace=True)\n",
    "df"
   ]
  },
  {
   "cell_type": "code",
   "execution_count": 4,
   "id": "925e8b10",
   "metadata": {
    "ExecuteTime": {
     "end_time": "2022-05-14T01:26:53.931563Z",
     "start_time": "2022-05-14T01:26:53.929563Z"
    }
   },
   "outputs": [],
   "source": [
    "df_title = df['title']"
   ]
  },
  {
   "cell_type": "code",
   "execution_count": 5,
   "id": "250c8c0d",
   "metadata": {
    "ExecuteTime": {
     "end_time": "2022-05-14T01:26:54.323582Z",
     "start_time": "2022-05-14T01:26:54.319581Z"
    }
   },
   "outputs": [
    {
     "data": {
      "text/plain": [
       "0                물괴\n",
       "1             싱글라이더\n",
       "2              허스토리\n",
       "3               풀잎들\n",
       "4                영주\n",
       "           ...     \n",
       "572         방황하는 칼날\n",
       "573            히말라야\n",
       "574             허삼관\n",
       "575    해적: 바다로 간 산적\n",
       "576             숫호구\n",
       "Name: title, Length: 577, dtype: object"
      ]
     },
     "execution_count": 5,
     "metadata": {},
     "output_type": "execute_result"
    }
   ],
   "source": [
    "df_title"
   ]
  },
  {
   "cell_type": "code",
   "execution_count": 6,
   "id": "bed81f4b",
   "metadata": {
    "ExecuteTime": {
     "end_time": "2022-05-14T01:27:01.196470Z",
     "start_time": "2022-05-14T01:26:56.538582Z"
    }
   },
   "outputs": [],
   "source": [
    "chrome_path = chromedriver_autoinstaller.install()\n",
    "\n",
    "driver = webdriver.Chrome(chrome_path)\n",
    "\n",
    "driver.get('https://movie.naver.com/')\n",
    "\n",
    "time.sleep(2)"
   ]
  },
  {
   "cell_type": "code",
   "execution_count": 8,
   "id": "c714cb75",
   "metadata": {
    "ExecuteTime": {
     "end_time": "2022-05-14T01:27:29.971534Z",
     "start_time": "2022-05-14T01:27:29.943528Z"
    }
   },
   "outputs": [],
   "source": [
    "name = driver.find_element_by_css_selector('.ipt_tx_srch')\n",
    "name.clear()\n",
    "name.send_keys('강남')"
   ]
  },
  {
   "cell_type": "code",
   "execution_count": 9,
   "id": "515e19fe",
   "metadata": {
    "ExecuteTime": {
     "end_time": "2022-05-14T01:27:31.969809Z",
     "start_time": "2022-05-14T01:27:31.556717Z"
    }
   },
   "outputs": [],
   "source": [
    "movie = driver.find_element_by_css_selector('.thumb_spec')\n",
    "movie.click()"
   ]
  },
  {
   "cell_type": "code",
   "execution_count": 10,
   "id": "ea62b1d9",
   "metadata": {
    "ExecuteTime": {
     "end_time": "2022-05-14T01:27:34.961477Z",
     "start_time": "2022-05-14T01:27:34.949475Z"
    }
   },
   "outputs": [],
   "source": [
    "movie_score = driver.find_element_by_css_selector('.exp_cnt').get_attribute('textContent')"
   ]
  },
  {
   "cell_type": "code",
   "execution_count": 11,
   "id": "9decd48b",
   "metadata": {
    "ExecuteTime": {
     "end_time": "2022-05-14T01:27:35.335561Z",
     "start_time": "2022-05-14T01:27:35.332561Z"
    }
   },
   "outputs": [
    {
     "data": {
      "text/plain": [
       "'보고싶어요7'"
      ]
     },
     "execution_count": 11,
     "metadata": {},
     "output_type": "execute_result"
    }
   ],
   "source": [
    "movie_score"
   ]
  },
  {
   "cell_type": "code",
   "execution_count": 22,
   "id": "382cee2c",
   "metadata": {
    "ExecuteTime": {
     "end_time": "2022-05-11T01:00:45.312285Z",
     "start_time": "2022-05-11T01:00:45.308284Z"
    },
    "scrolled": true
   },
   "outputs": [
    {
     "data": {
      "text/plain": [
       "7"
      ]
     },
     "execution_count": 22,
     "metadata": {},
     "output_type": "execute_result"
    }
   ],
   "source": [
    "extract = re.compile('[0-9]*,*[0-9]+')\n",
    "str_num = extract.findall(movie_score)\n",
    "str_num = str_num[0]\n",
    "if ',' in str_num:\n",
    "    str_num = str_num.split(',')\n",
    "    str_num = int(str_num[0] + str_num[1])\n",
    "    num = int(str_num)\n",
    "else:\n",
    "    num = int(str_num)\n",
    "num"
   ]
  },
  {
   "cell_type": "code",
   "execution_count": 35,
   "id": "49cf55c9",
   "metadata": {
    "ExecuteTime": {
     "end_time": "2022-05-11T01:06:05.108942Z",
     "start_time": "2022-05-11T01:06:05.103942Z"
    }
   },
   "outputs": [],
   "source": [
    "def naver_expectation(m_title):\n",
    "    \n",
    "    chrome_path = chromedriver_autoinstaller.install()\n",
    "    options = webdriver.ChromeOptions()\n",
    "    options.add_argument(\"headless\")\n",
    "    options.add_argument('windows-size=1920x1080')\n",
    "    driver = webdriver.Chrome(chrome_path, options=options)\n",
    "    \n",
    "    driver.get('https://movie.naver.com/')\n",
    "    time.sleep(1)\n",
    "\n",
    "\n",
    "    name = driver.find_element_by_css_selector('.ipt_tx_srch')\n",
    "    name.clear()\n",
    "    name.send_keys(m_title)\n",
    "    time.sleep(1)\n",
    "\n",
    "    # 영화 클릭 \n",
    "    movie = driver.find_element_by_css_selector('.thumb_spec')\n",
    "    movie.click()\n",
    "    time.sleep(2)\n",
    "\n",
    "    # 기대지수 \n",
    "    movie_score = driver.find_element_by_css_selector('.exp_cnt').get_attribute('textContent')\n",
    "    time.sleep(1)\n",
    "\n",
    "    extract = re.compile('[0-9]*,*[0-9]+')\n",
    "    str_num = extract.findall(movie_score)\n",
    "    str_num = str_num[0]\n",
    "    if ',' in str_num:\n",
    "        str_num = str_num.split(',')\n",
    "        str_num = int(str_num[0] + str_num[1])\n",
    "        num = int(str_num)\n",
    "    else:\n",
    "        num = int(str_num)\n",
    "    \n",
    "    return num"
   ]
  },
  {
   "cell_type": "code",
   "execution_count": 38,
   "id": "31c58404",
   "metadata": {
    "ExecuteTime": {
     "end_time": "2022-05-11T01:08:31.084651Z",
     "start_time": "2022-05-11T01:08:21.339772Z"
    }
   },
   "outputs": [],
   "source": [
    "naver_expectation = naver_expectation('강남')"
   ]
  },
  {
   "cell_type": "code",
   "execution_count": 39,
   "id": "1f09af91",
   "metadata": {
    "ExecuteTime": {
     "end_time": "2022-05-11T01:08:31.837821Z",
     "start_time": "2022-05-11T01:08:31.834820Z"
    }
   },
   "outputs": [
    {
     "data": {
      "text/plain": [
       "7"
      ]
     },
     "execution_count": 39,
     "metadata": {},
     "output_type": "execute_result"
    }
   ],
   "source": [
    "naver_expectation"
   ]
  },
  {
   "cell_type": "code",
   "execution_count": null,
   "id": "0729c9d0",
   "metadata": {
    "ExecuteTime": {
     "start_time": "2022-05-11T00:51:05.199Z"
    },
    "scrolled": true
   },
   "outputs": [],
   "source": [
    "dict = {}\n",
    "chrome_path = chromedriver_autoinstaller.install()\n",
    "\n",
    "webdriver_options = webdriver.ChromeOptions()\n",
    "webdriver_options .add_argument('headless')\n",
    "\n",
    "driver = webdriver.Chrome(chrome_path, options=webdriver_options)\n",
    "\n",
    "\n",
    "driver.get('https://movie.naver.com/')\n",
    "time.sleep(2)\n",
    "\n",
    "for i in tqdm_notebook(range(len(df_title))):\n",
    "    # 영화 검색창 클릭 및 입력\n",
    "    try:\n",
    "        name = driver.find_element_by_css_selector('.ipt_tx_srch')\n",
    "        time.sleep(0.5)\n",
    "        name.click()\n",
    "        time.sleep(0.5)\n",
    "        name.clear()\n",
    "        time.sleep(0.5)\n",
    "        name.send_keys(df_title[i])\n",
    "        time.sleep(1)\n",
    "\n",
    "        # 영화 클릭 \n",
    "        movie = driver.find_element_by_css_selector('.thumb_spec')\n",
    "        movie.click()\n",
    "        time.sleep(2)\n",
    "        \n",
    "        # 영화 제목\n",
    "        title = df_title[i]\n",
    "        time.sleep(1)\n",
    "        \n",
    "        # 기대지수 \n",
    "        movie_score = driver.find_element_by_css_selector('.exp_cnt').get_attribute('textContent')\n",
    "        time.sleep(1)\n",
    "        \n",
    "        extract = re.compile('[0-9]*,*[0-9]+')\n",
    "        str_num = extract.findall(movie_score)\n",
    "        str_num = str_num[0]\n",
    "        if ',' in str_num:\n",
    "            str_num = str_num.split(',')\n",
    "            str_num = int(str_num[0] + str_num[1])\n",
    "            num = int(str_num)\n",
    "        else:\n",
    "            num = int(str_num)\n",
    "        num\n",
    "        \n",
    "        time.sleep(1)\n",
    "        \n",
    "        total = {}\n",
    "\n",
    "        total['title'] = title\n",
    "        total['movie_score'] = num\n",
    "        time.sleep(1)\n",
    "        \n",
    "        dict[i] = total\n",
    "        time.sleep(1)\n",
    "        \n",
    "        print(title, num)\n",
    "        \n",
    "    except:\n",
    "        pass\n",
    "    "
   ]
  },
  {
   "cell_type": "code",
   "execution_count": 7,
   "id": "5fbf6b33",
   "metadata": {
    "ExecuteTime": {
     "end_time": "2022-05-03T09:15:02.517178Z",
     "start_time": "2022-05-03T09:15:02.505175Z"
    }
   },
   "outputs": [],
   "source": [
    "data = pd.DataFrame.from_dict(dict, 'index')"
   ]
  },
  {
   "cell_type": "code",
   "execution_count": 8,
   "id": "e68a800b",
   "metadata": {
    "ExecuteTime": {
     "end_time": "2022-05-03T09:15:03.449821Z",
     "start_time": "2022-05-03T09:15:03.435819Z"
    }
   },
   "outputs": [
    {
     "data": {
      "text/html": [
       "<div>\n",
       "<style scoped>\n",
       "    .dataframe tbody tr th:only-of-type {\n",
       "        vertical-align: middle;\n",
       "    }\n",
       "\n",
       "    .dataframe tbody tr th {\n",
       "        vertical-align: top;\n",
       "    }\n",
       "\n",
       "    .dataframe thead th {\n",
       "        text-align: right;\n",
       "    }\n",
       "</style>\n",
       "<table border=\"1\" class=\"dataframe\">\n",
       "  <thead>\n",
       "    <tr style=\"text-align: right;\">\n",
       "      <th></th>\n",
       "      <th>title</th>\n",
       "      <th>movie_score</th>\n",
       "    </tr>\n",
       "  </thead>\n",
       "  <tbody>\n",
       "    <tr>\n",
       "      <th>0</th>\n",
       "      <td>물괴</td>\n",
       "      <td>1274</td>\n",
       "    </tr>\n",
       "    <tr>\n",
       "      <th>1</th>\n",
       "      <td>싱글라이더</td>\n",
       "      <td>3838</td>\n",
       "    </tr>\n",
       "    <tr>\n",
       "      <th>2</th>\n",
       "      <td>허스토리</td>\n",
       "      <td>494</td>\n",
       "    </tr>\n",
       "    <tr>\n",
       "      <th>3</th>\n",
       "      <td>풀잎들</td>\n",
       "      <td>162</td>\n",
       "    </tr>\n",
       "    <tr>\n",
       "      <th>4</th>\n",
       "      <td>영주</td>\n",
       "      <td>800</td>\n",
       "    </tr>\n",
       "    <tr>\n",
       "      <th>...</th>\n",
       "      <td>...</td>\n",
       "      <td>...</td>\n",
       "    </tr>\n",
       "    <tr>\n",
       "      <th>572</th>\n",
       "      <td>방황하는 칼날</td>\n",
       "      <td>1932</td>\n",
       "    </tr>\n",
       "    <tr>\n",
       "      <th>573</th>\n",
       "      <td>히말라야</td>\n",
       "      <td>13693</td>\n",
       "    </tr>\n",
       "    <tr>\n",
       "      <th>574</th>\n",
       "      <td>허삼관</td>\n",
       "      <td>10731</td>\n",
       "    </tr>\n",
       "    <tr>\n",
       "      <th>575</th>\n",
       "      <td>해적: 바다로 간 산적</td>\n",
       "      <td>4941</td>\n",
       "    </tr>\n",
       "    <tr>\n",
       "      <th>576</th>\n",
       "      <td>숫호구</td>\n",
       "      <td>247</td>\n",
       "    </tr>\n",
       "  </tbody>\n",
       "</table>\n",
       "<p>577 rows × 2 columns</p>\n",
       "</div>"
      ],
      "text/plain": [
       "            title  movie_score\n",
       "0              물괴         1274\n",
       "1           싱글라이더         3838\n",
       "2            허스토리          494\n",
       "3             풀잎들          162\n",
       "4              영주          800\n",
       "..            ...          ...\n",
       "572       방황하는 칼날         1932\n",
       "573          히말라야        13693\n",
       "574           허삼관        10731\n",
       "575  해적: 바다로 간 산적         4941\n",
       "576           숫호구          247\n",
       "\n",
       "[577 rows x 2 columns]"
      ]
     },
     "execution_count": 8,
     "metadata": {},
     "output_type": "execute_result"
    }
   ],
   "source": [
    "data"
   ]
  },
  {
   "cell_type": "code",
   "execution_count": 9,
   "id": "aa00a6e4",
   "metadata": {
    "ExecuteTime": {
     "end_time": "2022-05-03T09:15:51.136017Z",
     "start_time": "2022-05-03T09:15:51.130022Z"
    }
   },
   "outputs": [],
   "source": [
    "data.to_csv('movie_buzz/naver_movie_score.csv', encoding='utf-8-sig')"
   ]
  },
  {
   "cell_type": "code",
   "execution_count": 18,
   "id": "abc591e5",
   "metadata": {
    "ExecuteTime": {
     "end_time": "2022-05-04T01:43:09.480964Z",
     "start_time": "2022-05-04T01:43:09.472963Z"
    },
    "scrolled": true
   },
   "outputs": [
    {
     "data": {
      "text/html": [
       "<div>\n",
       "<style scoped>\n",
       "    .dataframe tbody tr th:only-of-type {\n",
       "        vertical-align: middle;\n",
       "    }\n",
       "\n",
       "    .dataframe tbody tr th {\n",
       "        vertical-align: top;\n",
       "    }\n",
       "\n",
       "    .dataframe thead th {\n",
       "        text-align: right;\n",
       "    }\n",
       "</style>\n",
       "<table border=\"1\" class=\"dataframe\">\n",
       "  <thead>\n",
       "    <tr style=\"text-align: right;\">\n",
       "      <th></th>\n",
       "      <th>title</th>\n",
       "      <th>movie_score</th>\n",
       "    </tr>\n",
       "  </thead>\n",
       "  <tbody>\n",
       "    <tr>\n",
       "      <th>0</th>\n",
       "      <td>물괴</td>\n",
       "      <td>1274</td>\n",
       "    </tr>\n",
       "    <tr>\n",
       "      <th>1</th>\n",
       "      <td>싱글라이더</td>\n",
       "      <td>3838</td>\n",
       "    </tr>\n",
       "    <tr>\n",
       "      <th>2</th>\n",
       "      <td>허스토리</td>\n",
       "      <td>494</td>\n",
       "    </tr>\n",
       "    <tr>\n",
       "      <th>3</th>\n",
       "      <td>풀잎들</td>\n",
       "      <td>162</td>\n",
       "    </tr>\n",
       "    <tr>\n",
       "      <th>4</th>\n",
       "      <td>영주</td>\n",
       "      <td>800</td>\n",
       "    </tr>\n",
       "    <tr>\n",
       "      <th>...</th>\n",
       "      <td>...</td>\n",
       "      <td>...</td>\n",
       "    </tr>\n",
       "    <tr>\n",
       "      <th>570</th>\n",
       "      <td>방황하는 칼날</td>\n",
       "      <td>1932</td>\n",
       "    </tr>\n",
       "    <tr>\n",
       "      <th>571</th>\n",
       "      <td>히말라야</td>\n",
       "      <td>13693</td>\n",
       "    </tr>\n",
       "    <tr>\n",
       "      <th>572</th>\n",
       "      <td>허삼관</td>\n",
       "      <td>10731</td>\n",
       "    </tr>\n",
       "    <tr>\n",
       "      <th>573</th>\n",
       "      <td>해적: 바다로 간 산적</td>\n",
       "      <td>4941</td>\n",
       "    </tr>\n",
       "    <tr>\n",
       "      <th>574</th>\n",
       "      <td>숫호구</td>\n",
       "      <td>247</td>\n",
       "    </tr>\n",
       "  </tbody>\n",
       "</table>\n",
       "<p>575 rows × 2 columns</p>\n",
       "</div>"
      ],
      "text/plain": [
       "            title  movie_score\n",
       "0              물괴         1274\n",
       "1           싱글라이더         3838\n",
       "2            허스토리          494\n",
       "3             풀잎들          162\n",
       "4              영주          800\n",
       "..            ...          ...\n",
       "570       방황하는 칼날         1932\n",
       "571          히말라야        13693\n",
       "572           허삼관        10731\n",
       "573  해적: 바다로 간 산적         4941\n",
       "574           숫호구          247\n",
       "\n",
       "[575 rows x 2 columns]"
      ]
     },
     "execution_count": 18,
     "metadata": {},
     "output_type": "execute_result"
    }
   ],
   "source": [
    "data = pd.read_csv('movie_buzz/naver_movie_기대지수.csv')\n",
    "data.drop('Unnamed: 0', axis=1, inplace=True)\n",
    "data"
   ]
  },
  {
   "cell_type": "code",
   "execution_count": 15,
   "id": "e4c3b306",
   "metadata": {
    "ExecuteTime": {
     "end_time": "2022-05-03T09:24:40.503770Z",
     "start_time": "2022-05-03T09:24:40.473825Z"
    }
   },
   "outputs": [],
   "source": [
    "# 잘못들어간 데이터 변경\n",
    "data.loc[data['title'] == '목격자', 'movie_score'] = 583\n",
    "data.loc[data['title'] == '형', 'movie_score'] = 25600\n",
    "data.loc[data['title'] == '인랑', 'movie_score'] = 2941\n",
    "data.loc[data['title'] == '범죄도시', 'movie_score'] = 7567\n",
    "data.loc[data['title'] == '데자뷰', 'movie_score'] = 159\n",
    "data.loc[data['title'] == '챔피언', 'movie_score'] = 726\n",
    "data.loc[data['title'] == '변신', 'movie_score'] = 336\n",
    "data.loc[data['title'] == '프리즌', 'movie_score'] = 8022\n",
    "data.loc[data['title'] == '공작', 'movie_score'] = 2437\n",
    "data.loc[data['title'] == '사냥', 'movie_score'] = 5209\n",
    "data.loc[data['title'] == '럭키', 'movie_score'] = 15767\n",
    "data.loc[data['title'] == '우리들', 'movie_score'] = 1035\n",
    "data.loc[data['title'] == '아수라', 'movie_score'] = 28898\n",
    "data.loc[data['title'] == '리얼', 'movie_score'] = 25803\n",
    "data.loc[data['title'] == '인천상륙작전', 'movie_score'] = 35317\n",
    "data.loc[data['title'] == '소리꾼', 'movie_score'] = 0\n",
    "data.loc[data['title'] == '우리집', 'movie_score'] = 149\n",
    "data.loc[data['title'] == '부라더', 'movie_score'] = 3484\n",
    "data.loc[data['title'] == '더 킹', 'movie_score'] = 17679\n",
    "data.loc[data['title'] == '침묵', 'movie_score'] = 5381\n",
    "data.loc[data['title'] == '강철비', 'movie_score'] = 5965\n",
    "data.loc[data['title'] == '사자', 'movie_score'] = 754\n",
    "data.loc[data['title'] == '아이', 'movie_score'] = 1218\n",
    "data.loc[data['title'] == '돈', 'movie_score'] = 2278\n",
    "data.loc[data['title'] == '베를린', 'movie_score'] = 0\n",
    "data.loc[data['title'] == '화차', 'movie_score'] = 0\n",
    "data.loc[data['title'] == '무서운 이야기', 'movie_score'] = 0\n",
    "data.loc[data['title'] == '더 테러 라이브', 'movie_score'] = 0\n",
    "data.loc[data['title'] == '내부자들', 'movie_score'] = 12198\n",
    "data.loc[data['title'] == '순정', 'movie_score'] = 31698\n",
    "data.loc[data['title'] == '귀향', 'movie_score'] = 47687\n",
    "data.loc[data['title'] == '대호', 'movie_score'] = 8397\n",
    "data.loc[data['title'] == '검은사제들', 'movie_score'] = 15918\n",
    "data.loc[data['title'] == '오빠생각', 'movie_score'] = 8257\n",
    "data.loc[data['title'] == '사도', 'movie_score'] = 22459\n",
    "data.loc[data['title'] == '화장', 'movie_score'] = 3583\n",
    "data.loc[data['title'] == '용의자', 'movie_score'] = 0\n",
    "data.loc[data['title'] == '소녀괴담', 'movie_score'] = 3750\n",
    "data.loc[data['title'] == '신의 한 수', 'movie_score'] = 2407"
   ]
  },
  {
   "cell_type": "markdown",
   "id": "e4e8579d",
   "metadata": {},
   "source": [
    "- 국적이 잘못되어있는 영화\n",
    "    - 숨바꼭질 index: 37\n",
    "    - 사이코메트리 index: 159"
   ]
  },
  {
   "cell_type": "code",
   "execution_count": 20,
   "id": "ade196a9",
   "metadata": {
    "ExecuteTime": {
     "end_time": "2022-05-04T01:43:27.746946Z",
     "start_time": "2022-05-04T01:43:27.742946Z"
    }
   },
   "outputs": [
    {
     "data": {
      "text/html": [
       "<div>\n",
       "<style scoped>\n",
       "    .dataframe tbody tr th:only-of-type {\n",
       "        vertical-align: middle;\n",
       "    }\n",
       "\n",
       "    .dataframe tbody tr th {\n",
       "        vertical-align: top;\n",
       "    }\n",
       "\n",
       "    .dataframe thead th {\n",
       "        text-align: right;\n",
       "    }\n",
       "</style>\n",
       "<table border=\"1\" class=\"dataframe\">\n",
       "  <thead>\n",
       "    <tr style=\"text-align: right;\">\n",
       "      <th></th>\n",
       "      <th>title</th>\n",
       "      <th>movie_score</th>\n",
       "    </tr>\n",
       "  </thead>\n",
       "  <tbody>\n",
       "    <tr>\n",
       "      <th>457</th>\n",
       "      <td>스파이</td>\n",
       "      <td>45780</td>\n",
       "    </tr>\n",
       "  </tbody>\n",
       "</table>\n",
       "</div>"
      ],
      "text/plain": [
       "    title  movie_score\n",
       "457   스파이        45780"
      ]
     },
     "execution_count": 20,
     "metadata": {},
     "output_type": "execute_result"
    }
   ],
   "source": [
    "data.loc[data['title'] == '스파이']"
   ]
  },
  {
   "cell_type": "code",
   "execution_count": 22,
   "id": "c0adfb4f",
   "metadata": {
    "ExecuteTime": {
     "end_time": "2022-05-03T09:30:09.753066Z",
     "start_time": "2022-05-03T09:30:09.740064Z"
    }
   },
   "outputs": [
    {
     "data": {
      "text/html": [
       "<div>\n",
       "<style scoped>\n",
       "    .dataframe tbody tr th:only-of-type {\n",
       "        vertical-align: middle;\n",
       "    }\n",
       "\n",
       "    .dataframe tbody tr th {\n",
       "        vertical-align: top;\n",
       "    }\n",
       "\n",
       "    .dataframe thead th {\n",
       "        text-align: right;\n",
       "    }\n",
       "</style>\n",
       "<table border=\"1\" class=\"dataframe\">\n",
       "  <thead>\n",
       "    <tr style=\"text-align: right;\">\n",
       "      <th></th>\n",
       "      <th>title</th>\n",
       "      <th>movie_score</th>\n",
       "    </tr>\n",
       "  </thead>\n",
       "  <tbody>\n",
       "    <tr>\n",
       "      <th>477</th>\n",
       "      <td>대호</td>\n",
       "      <td>8397</td>\n",
       "    </tr>\n",
       "  </tbody>\n",
       "</table>\n",
       "</div>"
      ],
      "text/plain": [
       "    title  movie_score\n",
       "477    대호         8397"
      ]
     },
     "execution_count": 22,
     "metadata": {},
     "output_type": "execute_result"
    }
   ],
   "source": [
    "data.loc[data['title'] == '대호']"
   ]
  },
  {
   "cell_type": "code",
   "execution_count": 24,
   "id": "653f1ae0",
   "metadata": {
    "ExecuteTime": {
     "end_time": "2022-05-03T09:31:23.948951Z",
     "start_time": "2022-05-03T09:31:23.935933Z"
    }
   },
   "outputs": [
    {
     "data": {
      "text/plain": [
       "title          숨바꼭질\n",
       "movie_score      24\n",
       "Name: 37, dtype: object"
      ]
     },
     "execution_count": 24,
     "metadata": {},
     "output_type": "execute_result"
    }
   ],
   "source": [
    "data.loc[37]"
   ]
  },
  {
   "cell_type": "code",
   "execution_count": 25,
   "id": "5b9061ff",
   "metadata": {
    "ExecuteTime": {
     "end_time": "2022-05-03T09:31:31.736894Z",
     "start_time": "2022-05-03T09:31:31.725893Z"
    },
    "scrolled": true
   },
   "outputs": [
    {
     "data": {
      "text/plain": [
       "title          사이코메트리\n",
       "movie_score        46\n",
       "Name: 159, dtype: object"
      ]
     },
     "execution_count": 25,
     "metadata": {},
     "output_type": "execute_result"
    }
   ],
   "source": [
    "data.loc[159]"
   ]
  },
  {
   "cell_type": "code",
   "execution_count": 15,
   "id": "3fdcd09d",
   "metadata": {
    "ExecuteTime": {
     "end_time": "2022-05-04T01:42:03.054247Z",
     "start_time": "2022-05-04T01:42:03.050246Z"
    }
   },
   "outputs": [
    {
     "data": {
      "text/plain": [
       "Unnamed: 0       457\n",
       "title            스파이\n",
       "movie_score    45780\n",
       "Name: 457, dtype: object"
      ]
     },
     "execution_count": 15,
     "metadata": {},
     "output_type": "execute_result"
    }
   ],
   "source": [
    "data.loc[457]"
   ]
  },
  {
   "cell_type": "code",
   "execution_count": 26,
   "id": "2af79eb8",
   "metadata": {
    "ExecuteTime": {
     "end_time": "2022-05-03T09:31:35.270889Z",
     "start_time": "2022-05-03T09:31:35.256885Z"
    },
    "scrolled": false
   },
   "outputs": [],
   "source": [
    "data.drop([37, 159], inplace=True)"
   ]
  },
  {
   "cell_type": "code",
   "execution_count": 21,
   "id": "6f853f9c",
   "metadata": {
    "ExecuteTime": {
     "end_time": "2022-05-04T01:43:56.593535Z",
     "start_time": "2022-05-04T01:43:56.590535Z"
    }
   },
   "outputs": [],
   "source": [
    "data.drop(457, inplace=True)"
   ]
  },
  {
   "cell_type": "code",
   "execution_count": 29,
   "id": "91128674",
   "metadata": {
    "ExecuteTime": {
     "end_time": "2022-05-03T09:31:55.419287Z",
     "start_time": "2022-05-03T09:31:55.407285Z"
    }
   },
   "outputs": [
    {
     "data": {
      "text/html": [
       "<div>\n",
       "<style scoped>\n",
       "    .dataframe tbody tr th:only-of-type {\n",
       "        vertical-align: middle;\n",
       "    }\n",
       "\n",
       "    .dataframe tbody tr th {\n",
       "        vertical-align: top;\n",
       "    }\n",
       "\n",
       "    .dataframe thead th {\n",
       "        text-align: right;\n",
       "    }\n",
       "</style>\n",
       "<table border=\"1\" class=\"dataframe\">\n",
       "  <thead>\n",
       "    <tr style=\"text-align: right;\">\n",
       "      <th></th>\n",
       "      <th>title</th>\n",
       "      <th>movie_score</th>\n",
       "    </tr>\n",
       "  </thead>\n",
       "  <tbody>\n",
       "    <tr>\n",
       "      <th>36</th>\n",
       "      <td>봉이 김선달</td>\n",
       "      <td>20055</td>\n",
       "    </tr>\n",
       "    <tr>\n",
       "      <th>38</th>\n",
       "      <td>영하의 바람</td>\n",
       "      <td>71</td>\n",
       "    </tr>\n",
       "  </tbody>\n",
       "</table>\n",
       "</div>"
      ],
      "text/plain": [
       "     title  movie_score\n",
       "36  봉이 김선달        20055\n",
       "38  영하의 바람           71"
      ]
     },
     "execution_count": 29,
     "metadata": {},
     "output_type": "execute_result"
    }
   ],
   "source": [
    "data.loc[36:38]"
   ]
  },
  {
   "cell_type": "code",
   "execution_count": 30,
   "id": "a6f8d762",
   "metadata": {
    "ExecuteTime": {
     "end_time": "2022-05-03T09:32:03.162530Z",
     "start_time": "2022-05-03T09:32:03.148527Z"
    },
    "scrolled": true
   },
   "outputs": [
    {
     "data": {
      "text/html": [
       "<div>\n",
       "<style scoped>\n",
       "    .dataframe tbody tr th:only-of-type {\n",
       "        vertical-align: middle;\n",
       "    }\n",
       "\n",
       "    .dataframe tbody tr th {\n",
       "        vertical-align: top;\n",
       "    }\n",
       "\n",
       "    .dataframe thead th {\n",
       "        text-align: right;\n",
       "    }\n",
       "</style>\n",
       "<table border=\"1\" class=\"dataframe\">\n",
       "  <thead>\n",
       "    <tr style=\"text-align: right;\">\n",
       "      <th></th>\n",
       "      <th>title</th>\n",
       "      <th>movie_score</th>\n",
       "    </tr>\n",
       "  </thead>\n",
       "  <tbody>\n",
       "    <tr>\n",
       "      <th>158</th>\n",
       "      <td>나홀로 휴가</td>\n",
       "      <td>946</td>\n",
       "    </tr>\n",
       "    <tr>\n",
       "      <th>160</th>\n",
       "      <td>조작된 도시</td>\n",
       "      <td>12267</td>\n",
       "    </tr>\n",
       "  </tbody>\n",
       "</table>\n",
       "</div>"
      ],
      "text/plain": [
       "      title  movie_score\n",
       "158  나홀로 휴가          946\n",
       "160  조작된 도시        12267"
      ]
     },
     "execution_count": 30,
     "metadata": {},
     "output_type": "execute_result"
    }
   ],
   "source": [
    "data.loc[158:160]"
   ]
  },
  {
   "cell_type": "code",
   "execution_count": 22,
   "id": "f0f4425f",
   "metadata": {
    "ExecuteTime": {
     "end_time": "2022-05-04T01:44:08.504384Z",
     "start_time": "2022-05-04T01:44:08.499382Z"
    }
   },
   "outputs": [
    {
     "data": {
      "text/html": [
       "<div>\n",
       "<style scoped>\n",
       "    .dataframe tbody tr th:only-of-type {\n",
       "        vertical-align: middle;\n",
       "    }\n",
       "\n",
       "    .dataframe tbody tr th {\n",
       "        vertical-align: top;\n",
       "    }\n",
       "\n",
       "    .dataframe thead th {\n",
       "        text-align: right;\n",
       "    }\n",
       "</style>\n",
       "<table border=\"1\" class=\"dataframe\">\n",
       "  <thead>\n",
       "    <tr style=\"text-align: right;\">\n",
       "      <th></th>\n",
       "      <th>title</th>\n",
       "      <th>movie_score</th>\n",
       "    </tr>\n",
       "  </thead>\n",
       "  <tbody>\n",
       "    <tr>\n",
       "      <th>456</th>\n",
       "      <td>경성학교: 사라진 소녀들</td>\n",
       "      <td>8640</td>\n",
       "    </tr>\n",
       "    <tr>\n",
       "      <th>458</th>\n",
       "      <td>내부자들</td>\n",
       "      <td>12198</td>\n",
       "    </tr>\n",
       "  </tbody>\n",
       "</table>\n",
       "</div>"
      ],
      "text/plain": [
       "             title  movie_score\n",
       "456  경성학교: 사라진 소녀들         8640\n",
       "458           내부자들        12198"
      ]
     },
     "execution_count": 22,
     "metadata": {},
     "output_type": "execute_result"
    }
   ],
   "source": [
    "data.loc[456:458]"
   ]
  },
  {
   "cell_type": "code",
   "execution_count": 23,
   "id": "1d5a652d",
   "metadata": {
    "ExecuteTime": {
     "end_time": "2022-05-04T01:44:12.515943Z",
     "start_time": "2022-05-04T01:44:12.510941Z"
    }
   },
   "outputs": [
    {
     "data": {
      "text/html": [
       "<div>\n",
       "<style scoped>\n",
       "    .dataframe tbody tr th:only-of-type {\n",
       "        vertical-align: middle;\n",
       "    }\n",
       "\n",
       "    .dataframe tbody tr th {\n",
       "        vertical-align: top;\n",
       "    }\n",
       "\n",
       "    .dataframe thead th {\n",
       "        text-align: right;\n",
       "    }\n",
       "</style>\n",
       "<table border=\"1\" class=\"dataframe\">\n",
       "  <thead>\n",
       "    <tr style=\"text-align: right;\">\n",
       "      <th></th>\n",
       "      <th>title</th>\n",
       "      <th>movie_score</th>\n",
       "    </tr>\n",
       "  </thead>\n",
       "  <tbody>\n",
       "    <tr>\n",
       "      <th>0</th>\n",
       "      <td>물괴</td>\n",
       "      <td>1274</td>\n",
       "    </tr>\n",
       "    <tr>\n",
       "      <th>1</th>\n",
       "      <td>싱글라이더</td>\n",
       "      <td>3838</td>\n",
       "    </tr>\n",
       "    <tr>\n",
       "      <th>2</th>\n",
       "      <td>허스토리</td>\n",
       "      <td>494</td>\n",
       "    </tr>\n",
       "    <tr>\n",
       "      <th>3</th>\n",
       "      <td>풀잎들</td>\n",
       "      <td>162</td>\n",
       "    </tr>\n",
       "    <tr>\n",
       "      <th>4</th>\n",
       "      <td>영주</td>\n",
       "      <td>800</td>\n",
       "    </tr>\n",
       "    <tr>\n",
       "      <th>...</th>\n",
       "      <td>...</td>\n",
       "      <td>...</td>\n",
       "    </tr>\n",
       "    <tr>\n",
       "      <th>569</th>\n",
       "      <td>방황하는 칼날</td>\n",
       "      <td>1932</td>\n",
       "    </tr>\n",
       "    <tr>\n",
       "      <th>570</th>\n",
       "      <td>히말라야</td>\n",
       "      <td>13693</td>\n",
       "    </tr>\n",
       "    <tr>\n",
       "      <th>571</th>\n",
       "      <td>허삼관</td>\n",
       "      <td>10731</td>\n",
       "    </tr>\n",
       "    <tr>\n",
       "      <th>572</th>\n",
       "      <td>해적: 바다로 간 산적</td>\n",
       "      <td>4941</td>\n",
       "    </tr>\n",
       "    <tr>\n",
       "      <th>573</th>\n",
       "      <td>숫호구</td>\n",
       "      <td>247</td>\n",
       "    </tr>\n",
       "  </tbody>\n",
       "</table>\n",
       "<p>574 rows × 2 columns</p>\n",
       "</div>"
      ],
      "text/plain": [
       "            title  movie_score\n",
       "0              물괴         1274\n",
       "1           싱글라이더         3838\n",
       "2            허스토리          494\n",
       "3             풀잎들          162\n",
       "4              영주          800\n",
       "..            ...          ...\n",
       "569       방황하는 칼날         1932\n",
       "570          히말라야        13693\n",
       "571           허삼관        10731\n",
       "572  해적: 바다로 간 산적         4941\n",
       "573           숫호구          247\n",
       "\n",
       "[574 rows x 2 columns]"
      ]
     },
     "execution_count": 23,
     "metadata": {},
     "output_type": "execute_result"
    }
   ],
   "source": [
    "data.reset_index(drop=True, inplace=True)\n",
    "data"
   ]
  },
  {
   "cell_type": "code",
   "execution_count": 24,
   "id": "3d2a6810",
   "metadata": {
    "ExecuteTime": {
     "end_time": "2022-05-04T01:44:15.002640Z",
     "start_time": "2022-05-04T01:44:14.994638Z"
    }
   },
   "outputs": [],
   "source": [
    "data.to_csv('movie_buzz/naver_movie_기대지수.csv', encoding='utf-8-sig')"
   ]
  },
  {
   "cell_type": "code",
   "execution_count": null,
   "id": "c5ee5c03",
   "metadata": {},
   "outputs": [],
   "source": []
  }
 ],
 "metadata": {
  "kernelspec": {
   "display_name": "Python 3 (ipykernel)",
   "language": "python",
   "name": "python3"
  },
  "language_info": {
   "codemirror_mode": {
    "name": "ipython",
    "version": 3
   },
   "file_extension": ".py",
   "mimetype": "text/x-python",
   "name": "python",
   "nbconvert_exporter": "python",
   "pygments_lexer": "ipython3",
   "version": "3.9.7"
  },
  "toc": {
   "base_numbering": 1,
   "nav_menu": {},
   "number_sections": true,
   "sideBar": true,
   "skip_h1_title": false,
   "title_cell": "Table of Contents",
   "title_sidebar": "Contents",
   "toc_cell": false,
   "toc_position": {},
   "toc_section_display": true,
   "toc_window_display": false
  },
  "varInspector": {
   "cols": {
    "lenName": 16,
    "lenType": 16,
    "lenVar": 40
   },
   "kernels_config": {
    "python": {
     "delete_cmd_postfix": "",
     "delete_cmd_prefix": "del ",
     "library": "var_list.py",
     "varRefreshCmd": "print(var_dic_list())"
    },
    "r": {
     "delete_cmd_postfix": ") ",
     "delete_cmd_prefix": "rm(",
     "library": "var_list.r",
     "varRefreshCmd": "cat(var_dic_list()) "
    }
   },
   "position": {
    "height": "612.865px",
    "left": "506.753px",
    "right": "20px",
    "top": "77.9792px",
    "width": "450.556px"
   },
   "types_to_exclude": [
    "module",
    "function",
    "builtin_function_or_method",
    "instance",
    "_Feature"
   ],
   "window_display": false
  }
 },
 "nbformat": 4,
 "nbformat_minor": 5
}
