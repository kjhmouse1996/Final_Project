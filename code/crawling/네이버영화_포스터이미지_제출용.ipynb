{
 "cells": [
  {
   "cell_type": "code",
   "execution_count": 10,
   "id": "0de50ba4",
   "metadata": {
    "ExecuteTime": {
     "end_time": "2022-05-15T15:20:08.737108Z",
     "start_time": "2022-05-15T15:20:08.724103Z"
    }
   },
   "outputs": [],
   "source": [
    "import os\n",
    "import pandas as pd\n",
    "import numpy as np\n",
    "import math\n",
    "\n",
    "from selenium import webdriver  # 라이브러리(모듈) 가져오라\n",
    "import chromedriver_autoinstaller\n",
    "import urllib\n",
    "\n",
    "from selenium.webdriver.common.by import By\n",
    "from selenium.webdriver.common.keys import Keys\n",
    "from selenium.webdriver import ActionChains as AC\n",
    "from tqdm import tqdm, tqdm_notebook\n",
    "from tqdm.notebook import tqdm\n",
    "import re\n",
    "from time import sleep\n",
    "import time\n",
    "\n",
    "# 워닝 무시\n",
    "import warnings\n",
    "warnings.filterwarnings('ignore')"
   ]
  },
  {
   "cell_type": "code",
   "execution_count": 12,
   "id": "1c56228e",
   "metadata": {
    "ExecuteTime": {
     "end_time": "2022-05-15T15:20:10.343100Z",
     "start_time": "2022-05-15T15:20:10.337100Z"
    }
   },
   "outputs": [],
   "source": [
    "title = '범죄도시2'"
   ]
  },
  {
   "cell_type": "code",
   "execution_count": 4,
   "id": "1ee07a52",
   "metadata": {
    "ExecuteTime": {
     "end_time": "2022-05-15T12:58:52.834305Z",
     "start_time": "2022-05-15T12:58:47.829540Z"
    }
   },
   "outputs": [],
   "source": [
    "chrome_path = chromedriver_autoinstaller.install()\n",
    "\n",
    "driver = webdriver.Chrome(chrome_path)\n",
    "\n",
    "driver.get('https://movie.naver.com/')\n",
    "\n",
    "time.sleep(2)"
   ]
  },
  {
   "cell_type": "code",
   "execution_count": 6,
   "id": "e057cec7",
   "metadata": {
    "ExecuteTime": {
     "end_time": "2022-05-15T12:59:14.689229Z",
     "start_time": "2022-05-15T12:59:14.632217Z"
    }
   },
   "outputs": [],
   "source": [
    "# name = driver.find_element_by_css_selector('.ipt_tx_srch')\n",
    "name = driver.find_element(By.CSS_SELECTOR, '.ipt_tx_srch')\n",
    "name.clear()\n",
    "name.send_keys(title)"
   ]
  },
  {
   "cell_type": "code",
   "execution_count": 5,
   "id": "a43c6aaf",
   "metadata": {
    "ExecuteTime": {
     "end_time": "2022-05-14T01:28:04.158193Z",
     "start_time": "2022-05-14T01:28:03.695090Z"
    }
   },
   "outputs": [],
   "source": [
    "movie = driver.find_element_by_css_selector('.thumb_spec')\n",
    "movie.click()"
   ]
  },
  {
   "cell_type": "code",
   "execution_count": 6,
   "id": "562664a5",
   "metadata": {
    "ExecuteTime": {
     "end_time": "2022-05-14T01:28:36.982594Z",
     "start_time": "2022-05-14T01:28:36.969592Z"
    }
   },
   "outputs": [],
   "source": [
    "imgUrl = driver.find_element_by_xpath('//*[@id=\"content\"]/div[1]/div[2]/div[2]/a/img').get_attribute('src')"
   ]
  },
  {
   "cell_type": "code",
   "execution_count": 7,
   "id": "d7efcfc6",
   "metadata": {
    "ExecuteTime": {
     "end_time": "2022-05-14T01:28:37.463702Z",
     "start_time": "2022-05-14T01:28:37.458700Z"
    }
   },
   "outputs": [
    {
     "data": {
      "text/plain": [
       "'https://movie-phinf.pstatic.net/20220420_22/16504370785559wHfw_JPEG/movie_image.jpg?type=m203_290_2'"
      ]
     },
     "execution_count": 7,
     "metadata": {},
     "output_type": "execute_result"
    }
   ],
   "source": [
    "imgUrl "
   ]
  },
  {
   "cell_type": "code",
   "execution_count": 19,
   "id": "830312c7",
   "metadata": {
    "ExecuteTime": {
     "end_time": "2022-05-12T08:19:06.670747Z",
     "start_time": "2022-05-12T08:19:06.627737Z"
    },
    "scrolled": true
   },
   "outputs": [
    {
     "data": {
      "text/plain": [
       "('django_project/범죄도시2.jpg', <http.client.HTTPMessage at 0x14841ee1520>)"
      ]
     },
     "execution_count": 19,
     "metadata": {},
     "output_type": "execute_result"
    }
   ],
   "source": [
    "urllib.request.urlretrieve(imgUrl, \"django_project/범죄도시2.jpg\")"
   ]
  },
  {
   "cell_type": "code",
   "execution_count": null,
   "id": "931b1afd",
   "metadata": {},
   "outputs": [],
   "source": []
  },
  {
   "cell_type": "code",
   "execution_count": 8,
   "id": "88afe32b",
   "metadata": {
    "ExecuteTime": {
     "end_time": "2022-05-14T01:29:19.010542Z",
     "start_time": "2022-05-14T01:29:19.005541Z"
    }
   },
   "outputs": [],
   "source": [
    "def naver_image(title):\n",
    "    chrome_path = chromedriver_autoinstaller.install()\n",
    "    options = webdriver.ChromeOptions()\n",
    "    options.add_argument(\"headless\")\n",
    "    options.add_argument('windows-size=1920x1080')\n",
    "    driver = webdriver.Chrome(chrome_path, options=options)\n",
    "    \n",
    "    driver.get('https://movie.naver.com/')\n",
    "    time.sleep(2)\n",
    "    \n",
    "    name = driver.find_element_by_css_selector('.ipt_tx_srch')\n",
    "    name.clear()\n",
    "    name.send_keys(title)\n",
    "    time.sleep(1)\n",
    "    \n",
    "    movie = driver.find_element_by_css_selector('.thumb_spec')\n",
    "    movie.click()\n",
    "    time.sleep(2)\n",
    "    \n",
    "    imgUrl = driver.find_element_by_xpath('//*[@id=\"content\"]/div[1]/div[2]/div[2]/a/img').get_attribute('src')\n",
    "    time.sleep(0.5)\n",
    "    filename = '{0}.jpg'.format(title)\n",
    "    time.sleep(0.5)\n",
    "    urllib.request.urlretrieve(imgUrl, filename)"
   ]
  },
  {
   "cell_type": "code",
   "execution_count": 9,
   "id": "9a444755",
   "metadata": {
    "ExecuteTime": {
     "end_time": "2022-05-14T01:29:30.627595Z",
     "start_time": "2022-05-14T01:29:19.538659Z"
    }
   },
   "outputs": [],
   "source": [
    "naver_image(title)"
   ]
  },
  {
   "cell_type": "code",
   "execution_count": null,
   "id": "6a69aea0",
   "metadata": {},
   "outputs": [],
   "source": []
  }
 ],
 "metadata": {
  "kernelspec": {
   "display_name": "Python 3 (ipykernel)",
   "language": "python",
   "name": "python3"
  },
  "language_info": {
   "codemirror_mode": {
    "name": "ipython",
    "version": 3
   },
   "file_extension": ".py",
   "mimetype": "text/x-python",
   "name": "python",
   "nbconvert_exporter": "python",
   "pygments_lexer": "ipython3",
   "version": "3.9.7"
  },
  "toc": {
   "base_numbering": 1,
   "nav_menu": {},
   "number_sections": true,
   "sideBar": true,
   "skip_h1_title": false,
   "title_cell": "Table of Contents",
   "title_sidebar": "Contents",
   "toc_cell": false,
   "toc_position": {},
   "toc_section_display": true,
   "toc_window_display": false
  },
  "varInspector": {
   "cols": {
    "lenName": 16,
    "lenType": 16,
    "lenVar": 40
   },
   "kernels_config": {
    "python": {
     "delete_cmd_postfix": "",
     "delete_cmd_prefix": "del ",
     "library": "var_list.py",
     "varRefreshCmd": "print(var_dic_list())"
    },
    "r": {
     "delete_cmd_postfix": ") ",
     "delete_cmd_prefix": "rm(",
     "library": "var_list.r",
     "varRefreshCmd": "cat(var_dic_list()) "
    }
   },
   "types_to_exclude": [
    "module",
    "function",
    "builtin_function_or_method",
    "instance",
    "_Feature"
   ],
   "window_display": false
  }
 },
 "nbformat": 4,
 "nbformat_minor": 5
}
