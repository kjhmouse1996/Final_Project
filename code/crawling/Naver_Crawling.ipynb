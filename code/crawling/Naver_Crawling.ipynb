{
 "cells": [
  {
   "cell_type": "code",
   "execution_count": 1,
   "metadata": {},
   "outputs": [],
   "source": [
    "# 네이버 영화 리뷰 크롤링\n",
    "\n",
    "### Code\n",
    "\n",
    "\n",
    "from urllib.request import urlopen\n",
    "from bs4 import BeautifulSoup\n",
    "import pandas as pd\n",
    "\n",
    "url = 'https://movie.naver.com/movie/bi/mi/pointWriteFormList.naver?code=154282&type=after&onlyActualPointYn=N&onlySpoilerPointYn=N&order=sympathyScore&page=%7b%7d'\n",
    "html = urlopen(url)\n",
    "soup = BeautifulSoup(html,'html.parser')\n"
   ]
  },
  {
   "cell_type": "code",
   "execution_count": 2,
   "metadata": {},
   "outputs": [
    {
     "name": "stderr",
     "output_type": "stream",
     "text": [
      "IOPub data rate exceeded.\n",
      "The notebook server will temporarily stop sending output\n",
      "to the client in order to avoid crashing it.\n",
      "To change this limit, set the config variable\n",
      "`--NotebookApp.iopub_data_rate_limit`.\n",
      "\n",
      "Current values:\n",
      "NotebookApp.iopub_data_rate_limit=1000000.0 (bytes/sec)\n",
      "NotebookApp.rate_limit_window=3.0 (secs)\n",
      "\n"
     ]
    }
   ],
   "source": [
    "%%time\n",
    "rating_list = []\n",
    "review_list = []\n",
    "\n",
    "for page in range(1,6000):\n",
    "    try:\n",
    "        url = f'https://movie.naver.com/movie/bi/mi/pointWriteFormList.naver?code=154282&type=after&onlyActualPointYn=N&onlySpoilerPointYn=N&order=sympathyScore&page={page}'\n",
    "        html = urlopen(url)\n",
    "        soup = BeautifulSoup(html,'html.parser')\n",
    "        for i in range(10):\n",
    "            rating = soup.select('div > em')\n",
    "            rating = rating[i].get_text()\n",
    "            rating_list.append(rating)\n",
    "            \n",
    "            review = soup.find('span',{'id':f'_filtered_ment_{i}'})            \n",
    "            review = review.get_text().strip()\n",
    "            review_list.append(review)\n",
    "    except:\n",
    "        pass\n",
    "\n",
    "print(len(rating_list))\n",
    "print(rating_list)\n",
    "print(len(review_list))\n",
    "print(review_list)\n",
    "# 더 배트맨"
   ]
  },
  {
   "cell_type": "code",
   "execution_count": 3,
   "metadata": {},
   "outputs": [
    {
     "data": {
      "text/html": [
       "<div>\n",
       "<style scoped>\n",
       "    .dataframe tbody tr th:only-of-type {\n",
       "        vertical-align: middle;\n",
       "    }\n",
       "\n",
       "    .dataframe tbody tr th {\n",
       "        vertical-align: top;\n",
       "    }\n",
       "\n",
       "    .dataframe thead th {\n",
       "        text-align: right;\n",
       "    }\n",
       "</style>\n",
       "<table border=\"1\" class=\"dataframe\">\n",
       "  <thead>\n",
       "    <tr style=\"text-align: right;\">\n",
       "      <th></th>\n",
       "      <th>ratings</th>\n",
       "      <th>reviews</th>\n",
       "    </tr>\n",
       "  </thead>\n",
       "  <tbody>\n",
       "    <tr>\n",
       "      <th>0</th>\n",
       "      <td>10</td>\n",
       "      <td>원래 dc가 detective comics의 준말임. 이거에 가장 부합하는 영화인 ...</td>\n",
       "    </tr>\n",
       "    <tr>\n",
       "      <th>1</th>\n",
       "      <td>10</td>\n",
       "      <td>MCU나 DCEU 같은 분위기를 기대하는 사람이면 그냥 가지마라. 그런 영화 아니니...</td>\n",
       "    </tr>\n",
       "    <tr>\n",
       "      <th>2</th>\n",
       "      <td>10</td>\n",
       "      <td>전작 배트맨 영화들과 다른 장르 느낌 화려함 느와르 한편 본거 같음 난 다크나이트 ...</td>\n",
       "    </tr>\n",
       "    <tr>\n",
       "      <th>3</th>\n",
       "      <td>10</td>\n",
       "      <td>지루..할 수가 있나..?또 보고 싶은데</td>\n",
       "    </tr>\n",
       "    <tr>\n",
       "      <th>4</th>\n",
       "      <td>10</td>\n",
       "      <td>로버트 패틴슨 뜬다뜬다</td>\n",
       "    </tr>\n",
       "    <tr>\n",
       "      <th>...</th>\n",
       "      <td>...</td>\n",
       "      <td>...</td>\n",
       "    </tr>\n",
       "    <tr>\n",
       "      <th>5890</th>\n",
       "      <td>6</td>\n",
       "      <td>나는 복수다. = 어벤져스에 끼고싶다.</td>\n",
       "    </tr>\n",
       "    <tr>\n",
       "      <th>5891</th>\n",
       "      <td>2</td>\n",
       "      <td>잡아 쳐 죽이지 배트맨이 무슨 명탐정 코난이냐? 계속 수수께끼만 풀고있네</td>\n",
       "    </tr>\n",
       "    <tr>\n",
       "      <th>5892</th>\n",
       "      <td>1</td>\n",
       "      <td>진짜 너무너무너무너무너무나 지루하다세 시간에 걸친 졸음과의 대사투!!완전히 잠들지 ...</td>\n",
       "    </tr>\n",
       "    <tr>\n",
       "      <th>5893</th>\n",
       "      <td>1</td>\n",
       "      <td>기생오래비 같은애가 배트맨이라니...개인적으론 불호....크리스챤베일, 벤애플랙같은...</td>\n",
       "    </tr>\n",
       "    <tr>\n",
       "      <th>5894</th>\n",
       "      <td>2</td>\n",
       "      <td>마블 매니아~방금 롯데시네마4D보다 나옴3시간 런닝타임~~개지루함~그나마4D로 보다...</td>\n",
       "    </tr>\n",
       "  </tbody>\n",
       "</table>\n",
       "<p>5624 rows × 2 columns</p>\n",
       "</div>"
      ],
      "text/plain": [
       "     ratings                                            reviews\n",
       "0         10  원래 dc가 detective comics의 준말임. 이거에 가장 부합하는 영화인 ...\n",
       "1         10  MCU나 DCEU 같은 분위기를 기대하는 사람이면 그냥 가지마라. 그런 영화 아니니...\n",
       "2         10  전작 배트맨 영화들과 다른 장르 느낌 화려함 느와르 한편 본거 같음 난 다크나이트 ...\n",
       "3         10                             지루..할 수가 있나..?또 보고 싶은데\n",
       "4         10                                       로버트 패틴슨 뜬다뜬다\n",
       "...      ...                                                ...\n",
       "5890       6                              나는 복수다. = 어벤져스에 끼고싶다.\n",
       "5891       2           잡아 쳐 죽이지 배트맨이 무슨 명탐정 코난이냐? 계속 수수께끼만 풀고있네\n",
       "5892       1  진짜 너무너무너무너무너무나 지루하다세 시간에 걸친 졸음과의 대사투!!완전히 잠들지 ...\n",
       "5893       1  기생오래비 같은애가 배트맨이라니...개인적으론 불호....크리스챤베일, 벤애플랙같은...\n",
       "5894       2  마블 매니아~방금 롯데시네마4D보다 나옴3시간 런닝타임~~개지루함~그나마4D로 보다...\n",
       "\n",
       "[5624 rows x 2 columns]"
      ]
     },
     "execution_count": 3,
     "metadata": {},
     "output_type": "execute_result"
    }
   ],
   "source": [
    "df = pd.DataFrame({\"ratings\": rating_list, \"reviews\": review_list})\n",
    "df = df.drop_duplicates()\n",
    "df"
   ]
  },
  {
   "cell_type": "code",
   "execution_count": 19,
   "metadata": {},
   "outputs": [],
   "source": [
    "### Naver Developers - Open API\n",
    "import urllib\n",
    "# Open API 사용 요청\n",
    "client_id = 'PG3kwbDlhgk80hJqt_Ob'\n",
    "client_secret = 'fbMT9Q0JGb'\n",
    "\n",
    "\n",
    "def cleanhtml(raw_html):\n",
    "    cleanr = re.compile('<.*?>')\n",
    "    cleantext = re.sub(cleanr, '', raw_html)\n",
    "    return cleantext\n",
    "\n",
    "def search_title(title):\n",
    "    encText = urllib.parse.quote(title)\n",
    "    url = 'https://openapi.naver.com/v1/search/movie.json?display=100&query=' + encText\n",
    "    request = urllib.request.Request(url)\n",
    "    request.add_header(\"X-Naver-Client-Id\",client_id)\n",
    "    request.add_header(\"X-Naver-Client-Secret\",client_secret)\n",
    "    response = urllib.request.urlopen(request)\n",
    "    rescode = response.getcode()\n",
    "    if(rescode==200):\n",
    "        response_body = response.read()\n",
    "        d = json.loads(response_body.decode('utf-8'))\n",
    "        if (len(d['items']) > 0):\n",
    "            return d['items']\n",
    "        else:\n",
    "            return None\n",
    "\n",
    "    else:\n",
    "        print(\"Error Code:\" + rescode)"
   ]
  },
  {
   "cell_type": "code",
   "execution_count": 20,
   "metadata": {
    "scrolled": true
   },
   "outputs": [],
   "source": [
    "m = search_title('스왈로 탐험대와 아마존 해적')"
   ]
  },
  {
   "cell_type": "code",
   "execution_count": 21,
   "metadata": {},
   "outputs": [
    {
     "data": {
      "text/plain": [
       "[{'title': '<b>스왈로 탐험대와 아마존 해적</b>',\n",
       "  'link': 'https://movie.naver.com/movie/bi/mi/basic.nhn?code=143399',\n",
       "  'image': 'https://ssl.pstatic.net/imgmovie/mdi/mit110/1433/143399_P13_172551.jpg',\n",
       "  'subtitle': 'Swallows and Amazons',\n",
       "  'pubDate': '2016',\n",
       "  'director': '필립파 로소프|',\n",
       "  'actor': '켈리 맥도날드|앤드류 스캇|라프 스팰|',\n",
       "  'userRating': '4.21'}]"
      ]
     },
     "execution_count": 21,
     "metadata": {},
     "output_type": "execute_result"
    }
   ],
   "source": [
    "m"
   ]
  },
  {
   "cell_type": "code",
   "execution_count": 15,
   "metadata": {},
   "outputs": [],
   "source": []
  },
  {
   "cell_type": "code",
   "execution_count": null,
   "metadata": {},
   "outputs": [],
   "source": []
  }
 ],
 "metadata": {
  "kernelspec": {
   "display_name": "Python 3",
   "language": "python",
   "name": "python3"
  },
  "language_info": {
   "codemirror_mode": {
    "name": "ipython",
    "version": 3
   },
   "file_extension": ".py",
   "mimetype": "text/x-python",
   "name": "python",
   "nbconvert_exporter": "python",
   "pygments_lexer": "ipython3",
   "version": "3.8.5"
  },
  "toc": {
   "base_numbering": 1,
   "nav_menu": {},
   "number_sections": true,
   "sideBar": true,
   "skip_h1_title": false,
   "title_cell": "Table of Contents",
   "title_sidebar": "Contents",
   "toc_cell": false,
   "toc_position": {},
   "toc_section_display": true,
   "toc_window_display": false
  },
  "varInspector": {
   "cols": {
    "lenName": 16,
    "lenType": 16,
    "lenVar": 40
   },
   "kernels_config": {
    "python": {
     "delete_cmd_postfix": "",
     "delete_cmd_prefix": "del ",
     "library": "var_list.py",
     "varRefreshCmd": "print(var_dic_list())"
    },
    "r": {
     "delete_cmd_postfix": ") ",
     "delete_cmd_prefix": "rm(",
     "library": "var_list.r",
     "varRefreshCmd": "cat(var_dic_list()) "
    }
   },
   "types_to_exclude": [
    "module",
    "function",
    "builtin_function_or_method",
    "instance",
    "_Feature"
   ],
   "window_display": false
  }
 },
 "nbformat": 4,
 "nbformat_minor": 4
}
