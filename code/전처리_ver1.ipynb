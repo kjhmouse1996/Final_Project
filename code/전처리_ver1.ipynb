{
 "cells": [
  {
   "cell_type": "code",
   "execution_count": 1,
   "metadata": {
    "ExecuteTime": {
     "end_time": "2022-04-14T05:50:58.890228Z",
     "start_time": "2022-04-14T05:50:58.702373Z"
    }
   },
   "outputs": [],
   "source": [
    "import pandas as pd\n",
    "import numpy as np"
   ]
  },
  {
   "cell_type": "markdown",
   "metadata": {},
   "source": [
    "## kmdb 데이터"
   ]
  },
  {
   "cell_type": "code",
   "execution_count": 2,
   "metadata": {
    "ExecuteTime": {
     "end_time": "2022-04-14T05:51:00.052032Z",
     "start_time": "2022-04-14T05:50:59.886785Z"
    },
    "scrolled": false
   },
   "outputs": [
    {
     "data": {
      "text/html": [
       "<div>\n",
       "<style scoped>\n",
       "    .dataframe tbody tr th:only-of-type {\n",
       "        vertical-align: middle;\n",
       "    }\n",
       "\n",
       "    .dataframe tbody tr th {\n",
       "        vertical-align: top;\n",
       "    }\n",
       "\n",
       "    .dataframe thead th {\n",
       "        text-align: right;\n",
       "    }\n",
       "</style>\n",
       "<table border=\"1\" class=\"dataframe\">\n",
       "  <thead>\n",
       "    <tr style=\"text-align: right;\">\n",
       "      <th></th>\n",
       "      <th>title</th>\n",
       "      <th>prodYear</th>\n",
       "      <th>directors</th>\n",
       "      <th>actors</th>\n",
       "      <th>nation</th>\n",
       "      <th>plots</th>\n",
       "      <th>runtime</th>\n",
       "      <th>rating</th>\n",
       "      <th>genre</th>\n",
       "      <th>kmdbUrl</th>\n",
       "      <th>keywords</th>\n",
       "    </tr>\n",
       "  </thead>\n",
       "  <tbody>\n",
       "    <tr>\n",
       "      <th>0</th>\n",
       "      <td>칠복성</td>\n",
       "      <td>1985</td>\n",
       "      <td>홍금보</td>\n",
       "      <td>성룡, 원표, 유덕화, 관지림, 호혜중, 양자경</td>\n",
       "      <td>홍콩</td>\n",
       "      <td>괴짜 경찰관들로 이루어진 '오복성'(홍금보, 오요한, 증자위, 빙쉬범, 진상림)은,...</td>\n",
       "      <td>98.0</td>\n",
       "      <td>NaN</td>\n",
       "      <td>액션,코메디,무협</td>\n",
       "      <td>https://www.kmdb.or.kr/db/kor/detail/movie/F/0...</td>\n",
       "      <td>대만,마약조직,살인청부업자,일본,홍콩경찰,휴가,속편,시리즈</td>\n",
       "    </tr>\n",
       "    <tr>\n",
       "      <th>1</th>\n",
       "      <td>스왈로 탐험대와 아마존 해적</td>\n",
       "      <td>2016</td>\n",
       "      <td>필립파 로소프</td>\n",
       "      <td>켈리 맥도날드, 앤드류 스캇, 라페 스펠, 해리 엔필드, 제시카 하인즈</td>\n",
       "      <td>영국</td>\n",
       "      <td>“스왈로 탐험대의 출항을 허가한다”존과 엄마 그리고 동생들은 엄마가 어려서 뛰놀던 ...</td>\n",
       "      <td>97.0</td>\n",
       "      <td>전체관람가</td>\n",
       "      <td>가족,어드벤처,드라마,전쟁</td>\n",
       "      <td>https://www.kmdb.or.kr/db/kor/detail/movie/F/4...</td>\n",
       "      <td>여름휴가,외딴섬,아이들,모험,소설원작</td>\n",
       "    </tr>\n",
       "    <tr>\n",
       "      <th>2</th>\n",
       "      <td>물괴</td>\n",
       "      <td>2017</td>\n",
       "      <td>허종호</td>\n",
       "      <td>김명민, 김인권, 혜리, 최우식, 이경영, 박희순, 박성웅, 이도경, 김중희, 이규...</td>\n",
       "      <td>대한민국</td>\n",
       "      <td>“인왕산에 흉악한 짐승이 나타나 사람을 해쳤다 하옵니다.그것을 두고 듣지도 보지도 ...</td>\n",
       "      <td>105.0</td>\n",
       "      <td>15세관람가</td>\n",
       "      <td>액션,시대극/사극</td>\n",
       "      <td>https://www.kmdb.or.kr/db/kor/detail/movie/K/1...</td>\n",
       "      <td>조선시대,전염병,괴물,시대극/사극,사투</td>\n",
       "    </tr>\n",
       "  </tbody>\n",
       "</table>\n",
       "</div>"
      ],
      "text/plain": [
       "              title  prodYear directors  \\\n",
       "0               칠복성      1985       홍금보   \n",
       "1   스왈로 탐험대와 아마존 해적      2016   필립파 로소프   \n",
       "2                물괴      2017       허종호   \n",
       "\n",
       "                                              actors nation  \\\n",
       "0                         성룡, 원표, 유덕화, 관지림, 호혜중, 양자경     홍콩   \n",
       "1            켈리 맥도날드, 앤드류 스캇, 라페 스펠, 해리 엔필드, 제시카 하인즈     영국   \n",
       "2  김명민, 김인권, 혜리, 최우식, 이경영, 박희순, 박성웅, 이도경, 김중희, 이규...   대한민국   \n",
       "\n",
       "                                               plots  runtime  rating  \\\n",
       "0  괴짜 경찰관들로 이루어진 '오복성'(홍금보, 오요한, 증자위, 빙쉬범, 진상림)은,...     98.0     NaN   \n",
       "1  “스왈로 탐험대의 출항을 허가한다”존과 엄마 그리고 동생들은 엄마가 어려서 뛰놀던 ...     97.0   전체관람가   \n",
       "2  “인왕산에 흉악한 짐승이 나타나 사람을 해쳤다 하옵니다.그것을 두고 듣지도 보지도 ...    105.0  15세관람가   \n",
       "\n",
       "            genre                                            kmdbUrl  \\\n",
       "0       액션,코메디,무협  https://www.kmdb.or.kr/db/kor/detail/movie/F/0...   \n",
       "1  가족,어드벤처,드라마,전쟁  https://www.kmdb.or.kr/db/kor/detail/movie/F/4...   \n",
       "2       액션,시대극/사극  https://www.kmdb.or.kr/db/kor/detail/movie/K/1...   \n",
       "\n",
       "                           keywords  \n",
       "0  대만,마약조직,살인청부업자,일본,홍콩경찰,휴가,속편,시리즈  \n",
       "1              여름휴가,외딴섬,아이들,모험,소설원작  \n",
       "2             조선시대,전염병,괴물,시대극/사극,사투  "
      ]
     },
     "execution_count": 2,
     "metadata": {},
     "output_type": "execute_result"
    }
   ],
   "source": [
    "kmdb = pd.read_csv('data/KMDB_FINAL.csv')\n",
    "kmdb.drop('Unnamed: 0', axis=1, inplace=True)\n",
    "kmdb.head(3)"
   ]
  },
  {
   "cell_type": "code",
   "execution_count": 3,
   "metadata": {
    "ExecuteTime": {
     "end_time": "2022-04-14T05:51:01.436633Z",
     "start_time": "2022-04-14T05:51:01.407231Z"
    }
   },
   "outputs": [
    {
     "name": "stdout",
     "output_type": "stream",
     "text": [
      "<class 'pandas.core.frame.DataFrame'>\n",
      "RangeIndex: 9770 entries, 0 to 9769\n",
      "Data columns (total 11 columns):\n",
      " #   Column     Non-Null Count  Dtype  \n",
      "---  ------     --------------  -----  \n",
      " 0   title      9770 non-null   object \n",
      " 1   prodYear   9770 non-null   int64  \n",
      " 2   directors  9734 non-null   object \n",
      " 3   actors     9300 non-null   object \n",
      " 4   nation     9759 non-null   object \n",
      " 5   plots      9631 non-null   object \n",
      " 6   runtime    9730 non-null   float64\n",
      " 7   rating     9351 non-null   object \n",
      " 8   genre      9711 non-null   object \n",
      " 9   kmdbUrl    9770 non-null   object \n",
      " 10  keywords   5986 non-null   object \n",
      "dtypes: float64(1), int64(1), object(9)\n",
      "memory usage: 839.7+ KB\n"
     ]
    }
   ],
   "source": [
    "kmdb.info()"
   ]
  },
  {
   "cell_type": "markdown",
   "metadata": {
    "ExecuteTime": {
     "end_time": "2022-04-14T04:16:12.437242Z",
     "start_time": "2022-04-14T04:16:12.430604Z"
    }
   },
   "source": [
    "## kmdb prodYear 2010이전 데이터 제거"
   ]
  },
  {
   "cell_type": "code",
   "execution_count": 4,
   "metadata": {
    "ExecuteTime": {
     "end_time": "2022-04-14T05:51:07.317106Z",
     "start_time": "2022-04-14T05:51:07.307239Z"
    }
   },
   "outputs": [],
   "source": [
    "kmdb = kmdb[~(kmdb['prodYear'] < 2010.0)]"
   ]
  },
  {
   "cell_type": "code",
   "execution_count": 5,
   "metadata": {
    "ExecuteTime": {
     "end_time": "2022-04-14T05:51:08.269696Z",
     "start_time": "2022-04-14T05:51:08.240585Z"
    }
   },
   "outputs": [
    {
     "data": {
      "text/plain": [
       "title           0\n",
       "prodYear        0\n",
       "directors      33\n",
       "actors        438\n",
       "nation         10\n",
       "plots         133\n",
       "runtime        34\n",
       "rating        336\n",
       "genre          49\n",
       "kmdbUrl         0\n",
       "keywords     3627\n",
       "dtype: int64"
      ]
     },
     "execution_count": 5,
     "metadata": {},
     "output_type": "execute_result"
    }
   ],
   "source": [
    "kmdb.isna().sum()"
   ]
  },
  {
   "cell_type": "code",
   "execution_count": 6,
   "metadata": {
    "ExecuteTime": {
     "end_time": "2022-04-14T05:51:11.211534Z",
     "start_time": "2022-04-14T05:51:11.197015Z"
    }
   },
   "outputs": [],
   "source": [
    "kmdb['title'] = kmdb['title'].str.strip()"
   ]
  },
  {
   "cell_type": "code",
   "execution_count": 7,
   "metadata": {
    "ExecuteTime": {
     "end_time": "2022-04-14T05:51:18.406798Z",
     "start_time": "2022-04-14T05:51:18.375328Z"
    }
   },
   "outputs": [
    {
     "name": "stdout",
     "output_type": "stream",
     "text": [
      "<class 'pandas.core.frame.DataFrame'>\n",
      "Int64Index: 8914 entries, 1 to 9769\n",
      "Data columns (total 11 columns):\n",
      " #   Column     Non-Null Count  Dtype  \n",
      "---  ------     --------------  -----  \n",
      " 0   title      8914 non-null   object \n",
      " 1   prodYear   8914 non-null   int64  \n",
      " 2   directors  8881 non-null   object \n",
      " 3   actors     8476 non-null   object \n",
      " 4   nation     8904 non-null   object \n",
      " 5   plots      8781 non-null   object \n",
      " 6   runtime    8880 non-null   float64\n",
      " 7   rating     8578 non-null   object \n",
      " 8   genre      8865 non-null   object \n",
      " 9   kmdbUrl    8914 non-null   object \n",
      " 10  keywords   5287 non-null   object \n",
      "dtypes: float64(1), int64(1), object(9)\n",
      "memory usage: 835.7+ KB\n"
     ]
    }
   ],
   "source": [
    "kmdb.info()"
   ]
  },
  {
   "cell_type": "code",
   "execution_count": 11,
   "metadata": {
    "ExecuteTime": {
     "end_time": "2022-04-14T05:51:44.119589Z",
     "start_time": "2022-04-14T05:51:44.092585Z"
    },
    "scrolled": true
   },
   "outputs": [
    {
     "data": {
      "text/html": [
       "<div>\n",
       "<style scoped>\n",
       "    .dataframe tbody tr th:only-of-type {\n",
       "        vertical-align: middle;\n",
       "    }\n",
       "\n",
       "    .dataframe tbody tr th {\n",
       "        vertical-align: top;\n",
       "    }\n",
       "\n",
       "    .dataframe thead th {\n",
       "        text-align: right;\n",
       "    }\n",
       "</style>\n",
       "<table border=\"1\" class=\"dataframe\">\n",
       "  <thead>\n",
       "    <tr style=\"text-align: right;\">\n",
       "      <th></th>\n",
       "      <th>title</th>\n",
       "      <th>prodYear</th>\n",
       "      <th>directors</th>\n",
       "      <th>actors</th>\n",
       "      <th>nation</th>\n",
       "      <th>plots</th>\n",
       "      <th>runtime</th>\n",
       "      <th>rating</th>\n",
       "      <th>genre</th>\n",
       "      <th>kmdbUrl</th>\n",
       "      <th>keywords</th>\n",
       "    </tr>\n",
       "  </thead>\n",
       "  <tbody>\n",
       "    <tr>\n",
       "      <th>1289</th>\n",
       "      <td>사일런스</td>\n",
       "      <td>2016</td>\n",
       "      <td>마틴 스코세이지</td>\n",
       "      <td>앤드류 가필드, 애덤 드라이버, 리암 니슨, 아사노 타다노부</td>\n",
       "      <td>멕시코,대만,미국</td>\n",
       "      <td>고난의 순간에… 당신은 왜 침묵하십니까?…그 침묵 속에서 당신의 목소리를 들었습니다...</td>\n",
       "      <td>159.0</td>\n",
       "      <td>15세관람가</td>\n",
       "      <td>드라마,역사</td>\n",
       "      <td>https://www.kmdb.or.kr/db/kor/detail/movie/F/3...</td>\n",
       "      <td>소설원작,종교,종교박해</td>\n",
       "    </tr>\n",
       "    <tr>\n",
       "      <th>1563</th>\n",
       "      <td>카운트다운</td>\n",
       "      <td>2016</td>\n",
       "      <td>존 스톡웰</td>\n",
       "      <td>닉 네메스, 글렌 제이콥스, 캐서린 이자벨</td>\n",
       "      <td>미국</td>\n",
       "      <td>남은 시간은 6시간 40분…테러를 막기 위한 숨막히는 추격전이 시작된다!시애틀 경찰...</td>\n",
       "      <td>90.0</td>\n",
       "      <td>18세관람가(청소년관람불가)</td>\n",
       "      <td>액션</td>\n",
       "      <td>https://www.kmdb.or.kr/db/kor/detail/movie/F/3...</td>\n",
       "      <td>NaN</td>\n",
       "    </tr>\n",
       "    <tr>\n",
       "      <th>1702</th>\n",
       "      <td>엘로이즈</td>\n",
       "      <td>2014</td>\n",
       "      <td>마이크 바인더</td>\n",
       "      <td>케빈 코스트너, 옥타비아 스펜서, 질리언 이스텔, 윌리암 버레스, 엠포 코아호, 안...</td>\n",
       "      <td>미국</td>\n",
       "      <td>엘리엇 앤더슨은 하루 아침에 교통사고로 아내를 잃는다. 딸이 죽으면서 남긴 손녀 엘...</td>\n",
       "      <td>121.0</td>\n",
       "      <td>12세관람가</td>\n",
       "      <td>드라마</td>\n",
       "      <td>https://www.kmdb.or.kr/db/kor/detail/movie/F/3...</td>\n",
       "      <td>NaN</td>\n",
       "    </tr>\n",
       "    <tr>\n",
       "      <th>1802</th>\n",
       "      <td>터널</td>\n",
       "      <td>2016</td>\n",
       "      <td>김성훈</td>\n",
       "      <td>하정우, 배두나, 오달수, 신정근, 남지현, 조현철, 유승목, 이철민, 박진우, 이...</td>\n",
       "      <td>대한민국</td>\n",
       "      <td>집으로 가는 길, 터널이 무너졌다.자동차 영업대리점의 과장 정수(하정우), 큰 계약...</td>\n",
       "      <td>127.0</td>\n",
       "      <td>12세관람가</td>\n",
       "      <td>드라마</td>\n",
       "      <td>https://www.kmdb.or.kr/db/kor/detail/movie/K/1...</td>\n",
       "      <td>고립,구조,남자,재난,생존,낙오/고립,재난영화,고군분투,부실공사,119구조대</td>\n",
       "    </tr>\n",
       "    <tr>\n",
       "      <th>2084</th>\n",
       "      <td>토스카</td>\n",
       "      <td>2017</td>\n",
       "      <td>사이먼 래틀</td>\n",
       "      <td>NaN</td>\n",
       "      <td>독일</td>\n",
       "      <td>오페라 가수, 토스카의 연인인 화가 카바라도시는 우연히 정치범 안젤로티를 숨겨주게 ...</td>\n",
       "      <td>131.0</td>\n",
       "      <td>12세관람가</td>\n",
       "      <td>멜로드라마</td>\n",
       "      <td>https://www.kmdb.or.kr/db/kor/detail/movie/B/0...</td>\n",
       "      <td>NaN</td>\n",
       "    </tr>\n",
       "    <tr>\n",
       "      <th>...</th>\n",
       "      <td>...</td>\n",
       "      <td>...</td>\n",
       "      <td>...</td>\n",
       "      <td>...</td>\n",
       "      <td>...</td>\n",
       "      <td>...</td>\n",
       "      <td>...</td>\n",
       "      <td>...</td>\n",
       "      <td>...</td>\n",
       "      <td>...</td>\n",
       "      <td>...</td>\n",
       "    </tr>\n",
       "    <tr>\n",
       "      <th>9546</th>\n",
       "      <td>킬러스</td>\n",
       "      <td>2014</td>\n",
       "      <td>키모 스탐보엘, 티모 트자잔토</td>\n",
       "      <td>기타무라 가즈키, 타카나시 린, 오카 안타라</td>\n",
       "      <td>인도네시아,일본</td>\n",
       "      <td>살인마 vs 살인마 두 명의 살인마가 만났다!자신의 살인 행각을 동영상으로 찍고 웹...</td>\n",
       "      <td>137.0</td>\n",
       "      <td>18세관람가(청소년관람불가)</td>\n",
       "      <td>액션,스릴러</td>\n",
       "      <td>https://www.kmdb.or.kr/db/kor/detail/movie/F/3...</td>\n",
       "      <td>NaN</td>\n",
       "    </tr>\n",
       "    <tr>\n",
       "      <th>9624</th>\n",
       "      <td>몬스터</td>\n",
       "      <td>2013</td>\n",
       "      <td>황인호</td>\n",
       "      <td>이민기, 김고은, 김뢰하, 안서현, 김부선, 남경읍, 김보라, 한다은, 박병은, 김...</td>\n",
       "      <td>대한민국</td>\n",
       "      <td>노점상을 하며 하나뿐인 동생과 살고 있는 '복순', 약간 모자라지만 제대로 건드리면...</td>\n",
       "      <td>113.0</td>\n",
       "      <td>18세관람가(청소년관람불가)</td>\n",
       "      <td>드라마,스릴러</td>\n",
       "      <td>https://www.kmdb.or.kr/db/kor/detail/movie/K/1...</td>\n",
       "      <td>살인마,동생,복수,추격,스릴러</td>\n",
       "    </tr>\n",
       "    <tr>\n",
       "      <th>9625</th>\n",
       "      <td>앙상블</td>\n",
       "      <td>2012</td>\n",
       "      <td>이종필</td>\n",
       "      <td>권혁주, 김지윤, 박고은, 이한나, 성민제</td>\n",
       "      <td>대한민국</td>\n",
       "      <td>클래식 음악 연주자 일곱 명이 무대 위로 등장한다. 세 살때 처음 바이올린을 잡은 ...</td>\n",
       "      <td>73.0</td>\n",
       "      <td>전체관람가</td>\n",
       "      <td>드라마</td>\n",
       "      <td>https://www.kmdb.or.kr/db/kor/detail/movie/A/0...</td>\n",
       "      <td>NaN</td>\n",
       "    </tr>\n",
       "    <tr>\n",
       "      <th>9715</th>\n",
       "      <td>블랙버드</td>\n",
       "      <td>2014</td>\n",
       "      <td>지나 프린스바이써우드</td>\n",
       "      <td>구구 바샤-로, 네이트 파커, 미니 드라이버, 대니 글로버</td>\n",
       "      <td>미국</td>\n",
       "      <td>새로운 스타 탄생을 목격하라!최강 스태프들에 의해 철저하게 스타로 만들어진 노니. ...</td>\n",
       "      <td>116.0</td>\n",
       "      <td>15세관람가</td>\n",
       "      <td>드라마,뮤직</td>\n",
       "      <td>https://www.kmdb.or.kr/db/kor/detail/movie/F/3...</td>\n",
       "      <td>NaN</td>\n",
       "    </tr>\n",
       "    <tr>\n",
       "      <th>9727</th>\n",
       "      <td>마피아</td>\n",
       "      <td>2012</td>\n",
       "      <td>라이언 콤즈</td>\n",
       "      <td>NaN</td>\n",
       "      <td>미국</td>\n",
       "      <td>마피아 두목과 두 형사의 쫓고 쫓기는 추격전! 살아남기 위한 치열한 전쟁이 시작된다...</td>\n",
       "      <td>81.0</td>\n",
       "      <td>18세관람가(청소년관람불가)</td>\n",
       "      <td>액션,범죄</td>\n",
       "      <td>https://www.kmdb.or.kr/db/kor/detail/movie/F/3...</td>\n",
       "      <td>NaN</td>\n",
       "    </tr>\n",
       "  </tbody>\n",
       "</table>\n",
       "<p>134 rows × 11 columns</p>\n",
       "</div>"
      ],
      "text/plain": [
       "      title  prodYear         directors  \\\n",
       "1289   사일런스      2016          마틴 스코세이지   \n",
       "1563  카운트다운      2016             존 스톡웰   \n",
       "1702   엘로이즈      2014           마이크 바인더   \n",
       "1802     터널      2016               김성훈   \n",
       "2084    토스카      2017            사이먼 래틀   \n",
       "...     ...       ...               ...   \n",
       "9546    킬러스      2014  키모 스탐보엘, 티모 트자잔토   \n",
       "9624    몬스터      2013               황인호   \n",
       "9625    앙상블      2012               이종필   \n",
       "9715   블랙버드      2014       지나 프린스바이써우드   \n",
       "9727    마피아      2012            라이언 콤즈   \n",
       "\n",
       "                                                 actors     nation  \\\n",
       "1289                  앤드류 가필드, 애덤 드라이버, 리암 니슨, 아사노 타다노부  멕시코,대만,미국   \n",
       "1563                            닉 네메스, 글렌 제이콥스, 캐서린 이자벨         미국   \n",
       "1702  케빈 코스트너, 옥타비아 스펜서, 질리언 이스텔, 윌리암 버레스, 엠포 코아호, 안...         미국   \n",
       "1802  하정우, 배두나, 오달수, 신정근, 남지현, 조현철, 유승목, 이철민, 박진우, 이...       대한민국   \n",
       "2084                                                NaN         독일   \n",
       "...                                                 ...        ...   \n",
       "9546                           기타무라 가즈키, 타카나시 린, 오카 안타라   인도네시아,일본   \n",
       "9624  이민기, 김고은, 김뢰하, 안서현, 김부선, 남경읍, 김보라, 한다은, 박병은, 김...       대한민국   \n",
       "9625                            권혁주, 김지윤, 박고은, 이한나, 성민제       대한민국   \n",
       "9715                   구구 바샤-로, 네이트 파커, 미니 드라이버, 대니 글로버         미국   \n",
       "9727                                                NaN         미국   \n",
       "\n",
       "                                                  plots  runtime  \\\n",
       "1289  고난의 순간에… 당신은 왜 침묵하십니까?…그 침묵 속에서 당신의 목소리를 들었습니다...    159.0   \n",
       "1563  남은 시간은 6시간 40분…테러를 막기 위한 숨막히는 추격전이 시작된다!시애틀 경찰...     90.0   \n",
       "1702  엘리엇 앤더슨은 하루 아침에 교통사고로 아내를 잃는다. 딸이 죽으면서 남긴 손녀 엘...    121.0   \n",
       "1802  집으로 가는 길, 터널이 무너졌다.자동차 영업대리점의 과장 정수(하정우), 큰 계약...    127.0   \n",
       "2084  오페라 가수, 토스카의 연인인 화가 카바라도시는 우연히 정치범 안젤로티를 숨겨주게 ...    131.0   \n",
       "...                                                 ...      ...   \n",
       "9546  살인마 vs 살인마 두 명의 살인마가 만났다!자신의 살인 행각을 동영상으로 찍고 웹...    137.0   \n",
       "9624  노점상을 하며 하나뿐인 동생과 살고 있는 '복순', 약간 모자라지만 제대로 건드리면...    113.0   \n",
       "9625  클래식 음악 연주자 일곱 명이 무대 위로 등장한다. 세 살때 처음 바이올린을 잡은 ...     73.0   \n",
       "9715  새로운 스타 탄생을 목격하라!최강 스태프들에 의해 철저하게 스타로 만들어진 노니. ...    116.0   \n",
       "9727  마피아 두목과 두 형사의 쫓고 쫓기는 추격전! 살아남기 위한 치열한 전쟁이 시작된다...     81.0   \n",
       "\n",
       "               rating    genre  \\\n",
       "1289           15세관람가   드라마,역사   \n",
       "1563  18세관람가(청소년관람불가)       액션   \n",
       "1702           12세관람가      드라마   \n",
       "1802           12세관람가      드라마   \n",
       "2084           12세관람가    멜로드라마   \n",
       "...               ...      ...   \n",
       "9546  18세관람가(청소년관람불가)   액션,스릴러   \n",
       "9624  18세관람가(청소년관람불가)  드라마,스릴러   \n",
       "9625            전체관람가      드라마   \n",
       "9715           15세관람가   드라마,뮤직   \n",
       "9727  18세관람가(청소년관람불가)    액션,범죄   \n",
       "\n",
       "                                                kmdbUrl  \\\n",
       "1289  https://www.kmdb.or.kr/db/kor/detail/movie/F/3...   \n",
       "1563  https://www.kmdb.or.kr/db/kor/detail/movie/F/3...   \n",
       "1702  https://www.kmdb.or.kr/db/kor/detail/movie/F/3...   \n",
       "1802  https://www.kmdb.or.kr/db/kor/detail/movie/K/1...   \n",
       "2084  https://www.kmdb.or.kr/db/kor/detail/movie/B/0...   \n",
       "...                                                 ...   \n",
       "9546  https://www.kmdb.or.kr/db/kor/detail/movie/F/3...   \n",
       "9624  https://www.kmdb.or.kr/db/kor/detail/movie/K/1...   \n",
       "9625  https://www.kmdb.or.kr/db/kor/detail/movie/A/0...   \n",
       "9715  https://www.kmdb.or.kr/db/kor/detail/movie/F/3...   \n",
       "9727  https://www.kmdb.or.kr/db/kor/detail/movie/F/3...   \n",
       "\n",
       "                                        keywords  \n",
       "1289                                소설원작,종교,종교박해  \n",
       "1563                                         NaN  \n",
       "1702                                         NaN  \n",
       "1802  고립,구조,남자,재난,생존,낙오/고립,재난영화,고군분투,부실공사,119구조대  \n",
       "2084                                         NaN  \n",
       "...                                          ...  \n",
       "9546                                         NaN  \n",
       "9624                            살인마,동생,복수,추격,스릴러  \n",
       "9625                                         NaN  \n",
       "9715                                         NaN  \n",
       "9727                                         NaN  \n",
       "\n",
       "[134 rows x 11 columns]"
      ]
     },
     "execution_count": 11,
     "metadata": {},
     "output_type": "execute_result"
    }
   ],
   "source": [
    "kmdb[kmdb.title.duplicated()]"
   ]
  },
  {
   "cell_type": "code",
   "execution_count": null,
   "metadata": {
    "ExecuteTime": {
     "end_time": "2022-04-14T05:51:51.572235Z",
     "start_time": "2022-04-14T05:51:51.567748Z"
    }
   },
   "outputs": [],
   "source": [
    "kmdb['title'].drop_duplicates(inplace=True)"
   ]
  },
  {
   "cell_type": "code",
   "execution_count": 46,
   "metadata": {
    "ExecuteTime": {
     "end_time": "2022-04-14T05:59:03.203983Z",
     "start_time": "2022-04-14T05:59:03.195313Z"
    }
   },
   "outputs": [],
   "source": [
    "kmdb.drop('kmdbUrl', axis=1, inplace=True)"
   ]
  },
  {
   "cell_type": "code",
   "execution_count": 47,
   "metadata": {
    "ExecuteTime": {
     "end_time": "2022-04-14T05:59:03.824665Z",
     "start_time": "2022-04-14T05:59:03.797625Z"
    }
   },
   "outputs": [
    {
     "name": "stdout",
     "output_type": "stream",
     "text": [
      "<class 'pandas.core.frame.DataFrame'>\n",
      "Int64Index: 8914 entries, 1 to 9769\n",
      "Data columns (total 10 columns):\n",
      " #   Column     Non-Null Count  Dtype  \n",
      "---  ------     --------------  -----  \n",
      " 0   title      8914 non-null   object \n",
      " 1   prodYear   8914 non-null   int64  \n",
      " 2   directors  8881 non-null   object \n",
      " 3   actors     8476 non-null   object \n",
      " 4   nation     8904 non-null   object \n",
      " 5   plots      8781 non-null   object \n",
      " 6   runtime    8880 non-null   float64\n",
      " 7   rating     8578 non-null   object \n",
      " 8   genre      8865 non-null   object \n",
      " 9   keywords   5287 non-null   object \n",
      "dtypes: float64(1), int64(1), object(8)\n",
      "memory usage: 766.0+ KB\n"
     ]
    }
   ],
   "source": [
    "kmdb.info()"
   ]
  },
  {
   "cell_type": "markdown",
   "metadata": {},
   "source": [
    "## kobis 데이터"
   ]
  },
  {
   "cell_type": "code",
   "execution_count": 48,
   "metadata": {
    "ExecuteTime": {
     "end_time": "2022-04-14T05:59:06.031109Z",
     "start_time": "2022-04-14T05:59:05.978044Z"
    },
    "scrolled": true
   },
   "outputs": [
    {
     "data": {
      "text/html": [
       "<div>\n",
       "<style scoped>\n",
       "    .dataframe tbody tr th:only-of-type {\n",
       "        vertical-align: middle;\n",
       "    }\n",
       "\n",
       "    .dataframe tbody tr th {\n",
       "        vertical-align: top;\n",
       "    }\n",
       "\n",
       "    .dataframe thead th {\n",
       "        text-align: right;\n",
       "    }\n",
       "</style>\n",
       "<table border=\"1\" class=\"dataframe\">\n",
       "  <thead>\n",
       "    <tr style=\"text-align: right;\">\n",
       "      <th></th>\n",
       "      <th>title</th>\n",
       "      <th>directors</th>\n",
       "      <th>개봉일</th>\n",
       "      <th>국적</th>\n",
       "      <th>screenCnt</th>\n",
       "      <th>salesAcc</th>\n",
       "      <th>audiAcc</th>\n",
       "      <th>genre</th>\n",
       "      <th>등급</th>\n",
       "    </tr>\n",
       "  </thead>\n",
       "  <tbody>\n",
       "    <tr>\n",
       "      <th>0</th>\n",
       "      <td>명량</td>\n",
       "      <td>김한민</td>\n",
       "      <td>2014-07-30</td>\n",
       "      <td>한국</td>\n",
       "      <td>1587</td>\n",
       "      <td>135748398910</td>\n",
       "      <td>17613682</td>\n",
       "      <td>사극</td>\n",
       "      <td>15세이상관람가</td>\n",
       "    </tr>\n",
       "    <tr>\n",
       "      <th>1</th>\n",
       "      <td>극한직업</td>\n",
       "      <td>이병헌</td>\n",
       "      <td>2019-01-23</td>\n",
       "      <td>한국</td>\n",
       "      <td>1978</td>\n",
       "      <td>139647979516</td>\n",
       "      <td>16264944</td>\n",
       "      <td>코미디</td>\n",
       "      <td>15세이상관람가</td>\n",
       "    </tr>\n",
       "    <tr>\n",
       "      <th>2</th>\n",
       "      <td>신과함께-죄와 벌</td>\n",
       "      <td>김용화</td>\n",
       "      <td>2017-12-20</td>\n",
       "      <td>한국</td>\n",
       "      <td>1912</td>\n",
       "      <td>115698654137</td>\n",
       "      <td>14410754</td>\n",
       "      <td>판타지</td>\n",
       "      <td>12세이상관람가</td>\n",
       "    </tr>\n",
       "  </tbody>\n",
       "</table>\n",
       "</div>"
      ],
      "text/plain": [
       "       title directors         개봉일  국적  screenCnt      salesAcc   audiAcc  \\\n",
       "0         명량       김한민  2014-07-30  한국       1587  135748398910  17613682   \n",
       "1       극한직업       이병헌  2019-01-23  한국       1978  139647979516  16264944   \n",
       "2  신과함께-죄와 벌       김용화  2017-12-20  한국       1912  115698654137  14410754   \n",
       "\n",
       "  genre        등급  \n",
       "0    사극  15세이상관람가  \n",
       "1   코미디  15세이상관람가  \n",
       "2   판타지  12세이상관람가  "
      ]
     },
     "execution_count": 48,
     "metadata": {},
     "output_type": "execute_result"
    }
   ],
   "source": [
    "kobis = pd.read_csv('data/KOBIS_FINAL.csv')\n",
    "kobis.drop('Unnamed: 0', axis=1, inplace=True)\n",
    "kobis.head(3)"
   ]
  },
  {
   "cell_type": "code",
   "execution_count": 49,
   "metadata": {
    "ExecuteTime": {
     "end_time": "2022-04-14T05:59:06.151353Z",
     "start_time": "2022-04-14T05:59:06.140441Z"
    }
   },
   "outputs": [
    {
     "name": "stdout",
     "output_type": "stream",
     "text": [
      "<class 'pandas.core.frame.DataFrame'>\n",
      "RangeIndex: 15914 entries, 0 to 15913\n",
      "Data columns (total 9 columns):\n",
      " #   Column     Non-Null Count  Dtype \n",
      "---  ------     --------------  ----- \n",
      " 0   title      15904 non-null  object\n",
      " 1   directors  14879 non-null  object\n",
      " 2   개봉일        15914 non-null  object\n",
      " 3   국적         15914 non-null  object\n",
      " 4   screenCnt  15914 non-null  int64 \n",
      " 5   salesAcc   15914 non-null  int64 \n",
      " 6   audiAcc    15914 non-null  int64 \n",
      " 7   genre      15843 non-null  object\n",
      " 8   등급         15914 non-null  object\n",
      "dtypes: int64(3), object(6)\n",
      "memory usage: 1.1+ MB\n"
     ]
    }
   ],
   "source": [
    "kobis.info()"
   ]
  },
  {
   "cell_type": "markdown",
   "metadata": {},
   "source": [
    "## kobis prodYear 2010 이전 데이터 제거"
   ]
  },
  {
   "cell_type": "code",
   "execution_count": 50,
   "metadata": {
    "ExecuteTime": {
     "end_time": "2022-04-14T05:59:06.413420Z",
     "start_time": "2022-04-14T05:59:06.406046Z"
    }
   },
   "outputs": [],
   "source": [
    "kobis = kobis[~(kobis['개봉일'] < '2010-01-01')]"
   ]
  },
  {
   "cell_type": "code",
   "execution_count": 51,
   "metadata": {
    "ExecuteTime": {
     "end_time": "2022-04-14T05:59:06.545077Z",
     "start_time": "2022-04-14T05:59:06.543542Z"
    }
   },
   "outputs": [],
   "source": [
    "kobis.reset_index(drop=True, inplace=True)"
   ]
  },
  {
   "cell_type": "code",
   "execution_count": 52,
   "metadata": {
    "ExecuteTime": {
     "end_time": "2022-04-14T05:59:06.702276Z",
     "start_time": "2022-04-14T05:59:06.689726Z"
    }
   },
   "outputs": [
    {
     "name": "stdout",
     "output_type": "stream",
     "text": [
      "<class 'pandas.core.frame.DataFrame'>\n",
      "RangeIndex: 15858 entries, 0 to 15857\n",
      "Data columns (total 9 columns):\n",
      " #   Column     Non-Null Count  Dtype \n",
      "---  ------     --------------  ----- \n",
      " 0   title      15849 non-null  object\n",
      " 1   directors  14823 non-null  object\n",
      " 2   개봉일        15858 non-null  object\n",
      " 3   국적         15858 non-null  object\n",
      " 4   screenCnt  15858 non-null  int64 \n",
      " 5   salesAcc   15858 non-null  int64 \n",
      " 6   audiAcc    15858 non-null  int64 \n",
      " 7   genre      15787 non-null  object\n",
      " 8   등급         15858 non-null  object\n",
      "dtypes: int64(3), object(6)\n",
      "memory usage: 1.1+ MB\n"
     ]
    }
   ],
   "source": [
    "kobis.info()"
   ]
  },
  {
   "cell_type": "code",
   "execution_count": 53,
   "metadata": {
    "ExecuteTime": {
     "end_time": "2022-04-14T05:59:06.845067Z",
     "start_time": "2022-04-14T05:59:06.842126Z"
    }
   },
   "outputs": [],
   "source": [
    "kobis['title'].drop_duplicates(inplace=True)"
   ]
  },
  {
   "cell_type": "code",
   "execution_count": 54,
   "metadata": {
    "ExecuteTime": {
     "end_time": "2022-04-14T05:59:06.999592Z",
     "start_time": "2022-04-14T05:59:06.988205Z"
    }
   },
   "outputs": [
    {
     "data": {
      "text/plain": [
       "title           9\n",
       "directors    1035\n",
       "개봉일             0\n",
       "국적              0\n",
       "screenCnt       0\n",
       "salesAcc        0\n",
       "audiAcc         0\n",
       "genre          71\n",
       "등급              0\n",
       "dtype: int64"
      ]
     },
     "execution_count": 54,
     "metadata": {},
     "output_type": "execute_result"
    }
   ],
   "source": [
    "kobis.isna().sum()"
   ]
  },
  {
   "cell_type": "markdown",
   "metadata": {},
   "source": [
    "## kobis 영화제목(title) null값 처리 "
   ]
  },
  {
   "cell_type": "markdown",
   "metadata": {},
   "source": [
    "- title null 값 \n",
    "    - 41 : 1987\n",
    "    - 581 : 1917\n",
    "    - 1988 : 355\n",
    "    - 2216 : 33\n",
    "    - 2666 : 800\n",
    "    - 4585 : 22\n",
    "    - 5680 : 1944\n",
    "    - 6107 : 2067\n",
    "    - 8794 : 9/11"
   ]
  },
  {
   "cell_type": "code",
   "execution_count": 55,
   "metadata": {
    "ExecuteTime": {
     "end_time": "2022-04-14T05:59:07.486267Z",
     "start_time": "2022-04-14T05:59:07.468189Z"
    }
   },
   "outputs": [
    {
     "data": {
      "text/html": [
       "<div>\n",
       "<style scoped>\n",
       "    .dataframe tbody tr th:only-of-type {\n",
       "        vertical-align: middle;\n",
       "    }\n",
       "\n",
       "    .dataframe tbody tr th {\n",
       "        vertical-align: top;\n",
       "    }\n",
       "\n",
       "    .dataframe thead th {\n",
       "        text-align: right;\n",
       "    }\n",
       "</style>\n",
       "<table border=\"1\" class=\"dataframe\">\n",
       "  <thead>\n",
       "    <tr style=\"text-align: right;\">\n",
       "      <th></th>\n",
       "      <th>title</th>\n",
       "      <th>directors</th>\n",
       "      <th>개봉일</th>\n",
       "      <th>국적</th>\n",
       "      <th>screenCnt</th>\n",
       "      <th>salesAcc</th>\n",
       "      <th>audiAcc</th>\n",
       "      <th>genre</th>\n",
       "      <th>등급</th>\n",
       "    </tr>\n",
       "  </thead>\n",
       "  <tbody>\n",
       "    <tr>\n",
       "      <th>41</th>\n",
       "      <td>NaN</td>\n",
       "      <td>장준환</td>\n",
       "      <td>2017-12-27</td>\n",
       "      <td>한국</td>\n",
       "      <td>1299</td>\n",
       "      <td>58165581145</td>\n",
       "      <td>7231638</td>\n",
       "      <td>드라마</td>\n",
       "      <td>15세이상관람가</td>\n",
       "    </tr>\n",
       "    <tr>\n",
       "      <th>581</th>\n",
       "      <td>NaN</td>\n",
       "      <td>샘 멘데스</td>\n",
       "      <td>2020-02-19</td>\n",
       "      <td>미국</td>\n",
       "      <td>932</td>\n",
       "      <td>7872002760</td>\n",
       "      <td>870451</td>\n",
       "      <td>드라마</td>\n",
       "      <td>15세이상관람가</td>\n",
       "    </tr>\n",
       "    <tr>\n",
       "      <th>1988</th>\n",
       "      <td>NaN</td>\n",
       "      <td>사이먼 킨버그</td>\n",
       "      <td>2022-02-09</td>\n",
       "      <td>미국</td>\n",
       "      <td>540</td>\n",
       "      <td>383613590</td>\n",
       "      <td>42951</td>\n",
       "      <td>액션</td>\n",
       "      <td>15세이상관람가</td>\n",
       "    </tr>\n",
       "    <tr>\n",
       "      <th>2216</th>\n",
       "      <td>NaN</td>\n",
       "      <td>패트리시아 리건</td>\n",
       "      <td>2016-04-07</td>\n",
       "      <td>미국</td>\n",
       "      <td>320</td>\n",
       "      <td>228351400</td>\n",
       "      <td>29728</td>\n",
       "      <td>드라마</td>\n",
       "      <td>12세이상관람가</td>\n",
       "    </tr>\n",
       "    <tr>\n",
       "      <th>2666</th>\n",
       "      <td>NaN</td>\n",
       "      <td>관후</td>\n",
       "      <td>2020-12-10</td>\n",
       "      <td>중국</td>\n",
       "      <td>223</td>\n",
       "      <td>141698200</td>\n",
       "      <td>16625</td>\n",
       "      <td>전쟁</td>\n",
       "      <td>15세이상관람가</td>\n",
       "    </tr>\n",
       "    <tr>\n",
       "      <th>4585</th>\n",
       "      <td>NaN</td>\n",
       "      <td>궈커</td>\n",
       "      <td>2018-08-14</td>\n",
       "      <td>한국</td>\n",
       "      <td>31</td>\n",
       "      <td>18668000</td>\n",
       "      <td>2434</td>\n",
       "      <td>다큐멘터리</td>\n",
       "      <td>전체관람가</td>\n",
       "    </tr>\n",
       "    <tr>\n",
       "      <th>5680</th>\n",
       "      <td>NaN</td>\n",
       "      <td>엘모 누가넨</td>\n",
       "      <td>2015-12-23</td>\n",
       "      <td>에스토니아</td>\n",
       "      <td>5</td>\n",
       "      <td>4420000</td>\n",
       "      <td>880</td>\n",
       "      <td>전쟁</td>\n",
       "      <td>15세이상관람가</td>\n",
       "    </tr>\n",
       "    <tr>\n",
       "      <th>6107</th>\n",
       "      <td>NaN</td>\n",
       "      <td>세스 라니</td>\n",
       "      <td>2021-06-03</td>\n",
       "      <td>호주</td>\n",
       "      <td>36</td>\n",
       "      <td>4647600</td>\n",
       "      <td>509</td>\n",
       "      <td>어드벤처</td>\n",
       "      <td>12세이상관람가</td>\n",
       "    </tr>\n",
       "    <tr>\n",
       "      <th>8794</th>\n",
       "      <td>NaN</td>\n",
       "      <td>마틴 귀귀</td>\n",
       "      <td>2018-01-31</td>\n",
       "      <td>미국</td>\n",
       "      <td>5</td>\n",
       "      <td>490000</td>\n",
       "      <td>46</td>\n",
       "      <td>액션</td>\n",
       "      <td>15세이상관람가</td>\n",
       "    </tr>\n",
       "  </tbody>\n",
       "</table>\n",
       "</div>"
      ],
      "text/plain": [
       "     title directors         개봉일     국적  screenCnt     salesAcc  audiAcc  \\\n",
       "41     NaN       장준환  2017-12-27     한국       1299  58165581145  7231638   \n",
       "581    NaN     샘 멘데스  2020-02-19     미국        932   7872002760   870451   \n",
       "1988   NaN   사이먼 킨버그  2022-02-09     미국        540    383613590    42951   \n",
       "2216   NaN  패트리시아 리건  2016-04-07     미국        320    228351400    29728   \n",
       "2666   NaN        관후  2020-12-10     중국        223    141698200    16625   \n",
       "4585   NaN        궈커  2018-08-14     한국         31     18668000     2434   \n",
       "5680   NaN    엘모 누가넨  2015-12-23  에스토니아          5      4420000      880   \n",
       "6107   NaN     세스 라니  2021-06-03     호주         36      4647600      509   \n",
       "8794   NaN     마틴 귀귀  2018-01-31     미국          5       490000       46   \n",
       "\n",
       "      genre        등급  \n",
       "41      드라마  15세이상관람가  \n",
       "581     드라마  15세이상관람가  \n",
       "1988     액션  15세이상관람가  \n",
       "2216    드라마  12세이상관람가  \n",
       "2666     전쟁  15세이상관람가  \n",
       "4585  다큐멘터리     전체관람가  \n",
       "5680     전쟁  15세이상관람가  \n",
       "6107   어드벤처  12세이상관람가  \n",
       "8794     액션  15세이상관람가  "
      ]
     },
     "execution_count": 55,
     "metadata": {},
     "output_type": "execute_result"
    }
   ],
   "source": [
    "kobis[kobis.title.isna()]"
   ]
  },
  {
   "cell_type": "code",
   "execution_count": 56,
   "metadata": {
    "ExecuteTime": {
     "end_time": "2022-04-14T05:59:07.650412Z",
     "start_time": "2022-04-14T05:59:07.646704Z"
    }
   },
   "outputs": [],
   "source": [
    "kobis.loc[kobis.index == 41, 'title'] = '1987'\n",
    "\n",
    "kobis.loc[kobis.index == 581, 'title'] = '1917'\n",
    "\n",
    "kobis.loc[kobis.index == 1988, 'title'] = '355'\n",
    "\n",
    "kobis.loc[kobis.index == 2216, 'title'] = '33'\n",
    "\n",
    "kobis.loc[kobis.index == 2666, 'title'] = '800'\n",
    "\n",
    "kobis.loc[kobis.index == 4585, 'title'] = '22'\n",
    "\n",
    "kobis.loc[kobis.index == 5680, 'title'] = '1944'\n",
    "\n",
    "kobis.loc[kobis.index == 6107, 'title'] = '2067'\n",
    "\n",
    "kobis.loc[kobis.index == 8794, 'title'] = '9/11'"
   ]
  },
  {
   "cell_type": "code",
   "execution_count": 57,
   "metadata": {
    "ExecuteTime": {
     "end_time": "2022-04-14T05:59:07.809641Z",
     "start_time": "2022-04-14T05:59:07.804524Z"
    }
   },
   "outputs": [
    {
     "data": {
      "text/html": [
       "<div>\n",
       "<style scoped>\n",
       "    .dataframe tbody tr th:only-of-type {\n",
       "        vertical-align: middle;\n",
       "    }\n",
       "\n",
       "    .dataframe tbody tr th {\n",
       "        vertical-align: top;\n",
       "    }\n",
       "\n",
       "    .dataframe thead th {\n",
       "        text-align: right;\n",
       "    }\n",
       "</style>\n",
       "<table border=\"1\" class=\"dataframe\">\n",
       "  <thead>\n",
       "    <tr style=\"text-align: right;\">\n",
       "      <th></th>\n",
       "      <th>title</th>\n",
       "      <th>directors</th>\n",
       "      <th>개봉일</th>\n",
       "      <th>국적</th>\n",
       "      <th>screenCnt</th>\n",
       "      <th>salesAcc</th>\n",
       "      <th>audiAcc</th>\n",
       "      <th>genre</th>\n",
       "      <th>등급</th>\n",
       "    </tr>\n",
       "  </thead>\n",
       "  <tbody>\n",
       "  </tbody>\n",
       "</table>\n",
       "</div>"
      ],
      "text/plain": [
       "Empty DataFrame\n",
       "Columns: [title, directors, 개봉일, 국적, screenCnt, salesAcc, audiAcc, genre, 등급]\n",
       "Index: []"
      ]
     },
     "execution_count": 57,
     "metadata": {},
     "output_type": "execute_result"
    }
   ],
   "source": [
    "kobis[kobis.title.isna()]"
   ]
  },
  {
   "cell_type": "code",
   "execution_count": 58,
   "metadata": {
    "ExecuteTime": {
     "end_time": "2022-04-14T05:59:07.983871Z",
     "start_time": "2022-04-14T05:59:07.973944Z"
    },
    "scrolled": true
   },
   "outputs": [
    {
     "data": {
      "text/plain": [
       "title           0\n",
       "directors    1035\n",
       "개봉일             0\n",
       "국적              0\n",
       "screenCnt       0\n",
       "salesAcc        0\n",
       "audiAcc         0\n",
       "genre          71\n",
       "등급              0\n",
       "dtype: int64"
      ]
     },
     "execution_count": 58,
     "metadata": {},
     "output_type": "execute_result"
    }
   ],
   "source": [
    "kobis.isna().sum()"
   ]
  },
  {
   "cell_type": "markdown",
   "metadata": {},
   "source": [
    "## kobis 필요없는 데이터 제거"
   ]
  },
  {
   "cell_type": "code",
   "execution_count": 59,
   "metadata": {
    "ExecuteTime": {
     "end_time": "2022-04-14T05:59:08.317552Z",
     "start_time": "2022-04-14T05:59:08.308352Z"
    }
   },
   "outputs": [],
   "source": [
    "kobis.drop(['directors', 'genre'], axis=1, inplace=True)"
   ]
  },
  {
   "cell_type": "code",
   "execution_count": 60,
   "metadata": {
    "ExecuteTime": {
     "end_time": "2022-04-14T05:59:08.495395Z",
     "start_time": "2022-04-14T05:59:08.490758Z"
    }
   },
   "outputs": [
    {
     "data": {
      "text/html": [
       "<div>\n",
       "<style scoped>\n",
       "    .dataframe tbody tr th:only-of-type {\n",
       "        vertical-align: middle;\n",
       "    }\n",
       "\n",
       "    .dataframe tbody tr th {\n",
       "        vertical-align: top;\n",
       "    }\n",
       "\n",
       "    .dataframe thead th {\n",
       "        text-align: right;\n",
       "    }\n",
       "</style>\n",
       "<table border=\"1\" class=\"dataframe\">\n",
       "  <thead>\n",
       "    <tr style=\"text-align: right;\">\n",
       "      <th></th>\n",
       "      <th>title</th>\n",
       "      <th>개봉일</th>\n",
       "      <th>국적</th>\n",
       "      <th>screenCnt</th>\n",
       "      <th>salesAcc</th>\n",
       "      <th>audiAcc</th>\n",
       "      <th>등급</th>\n",
       "    </tr>\n",
       "  </thead>\n",
       "  <tbody>\n",
       "    <tr>\n",
       "      <th>0</th>\n",
       "      <td>명량</td>\n",
       "      <td>2014-07-30</td>\n",
       "      <td>한국</td>\n",
       "      <td>1587</td>\n",
       "      <td>135748398910</td>\n",
       "      <td>17613682</td>\n",
       "      <td>15세이상관람가</td>\n",
       "    </tr>\n",
       "    <tr>\n",
       "      <th>1</th>\n",
       "      <td>극한직업</td>\n",
       "      <td>2019-01-23</td>\n",
       "      <td>한국</td>\n",
       "      <td>1978</td>\n",
       "      <td>139647979516</td>\n",
       "      <td>16264944</td>\n",
       "      <td>15세이상관람가</td>\n",
       "    </tr>\n",
       "    <tr>\n",
       "      <th>2</th>\n",
       "      <td>신과함께-죄와 벌</td>\n",
       "      <td>2017-12-20</td>\n",
       "      <td>한국</td>\n",
       "      <td>1912</td>\n",
       "      <td>115698654137</td>\n",
       "      <td>14410754</td>\n",
       "      <td>12세이상관람가</td>\n",
       "    </tr>\n",
       "  </tbody>\n",
       "</table>\n",
       "</div>"
      ],
      "text/plain": [
       "       title         개봉일  국적  screenCnt      salesAcc   audiAcc        등급\n",
       "0         명량  2014-07-30  한국       1587  135748398910  17613682  15세이상관람가\n",
       "1       극한직업  2019-01-23  한국       1978  139647979516  16264944  15세이상관람가\n",
       "2  신과함께-죄와 벌  2017-12-20  한국       1912  115698654137  14410754  12세이상관람가"
      ]
     },
     "execution_count": 60,
     "metadata": {},
     "output_type": "execute_result"
    }
   ],
   "source": [
    "kobis.head(3)"
   ]
  },
  {
   "cell_type": "code",
   "execution_count": 61,
   "metadata": {
    "ExecuteTime": {
     "end_time": "2022-04-14T05:59:08.684823Z",
     "start_time": "2022-04-14T05:59:08.679935Z"
    }
   },
   "outputs": [],
   "source": [
    "kobis['title'] = kobis['title'].str.strip()"
   ]
  },
  {
   "cell_type": "code",
   "execution_count": 62,
   "metadata": {
    "ExecuteTime": {
     "end_time": "2022-04-14T05:59:08.878889Z",
     "start_time": "2022-04-14T05:59:08.864379Z"
    },
    "scrolled": true
   },
   "outputs": [
    {
     "name": "stdout",
     "output_type": "stream",
     "text": [
      "(7006, 16)\n"
     ]
    },
    {
     "data": {
      "text/html": [
       "<div>\n",
       "<style scoped>\n",
       "    .dataframe tbody tr th:only-of-type {\n",
       "        vertical-align: middle;\n",
       "    }\n",
       "\n",
       "    .dataframe tbody tr th {\n",
       "        vertical-align: top;\n",
       "    }\n",
       "\n",
       "    .dataframe thead th {\n",
       "        text-align: right;\n",
       "    }\n",
       "</style>\n",
       "<table border=\"1\" class=\"dataframe\">\n",
       "  <thead>\n",
       "    <tr style=\"text-align: right;\">\n",
       "      <th></th>\n",
       "      <th>title</th>\n",
       "      <th>prodYear</th>\n",
       "      <th>directors</th>\n",
       "      <th>actors</th>\n",
       "      <th>nation</th>\n",
       "      <th>plots</th>\n",
       "      <th>runtime</th>\n",
       "      <th>rating</th>\n",
       "      <th>genre</th>\n",
       "      <th>keywords</th>\n",
       "      <th>개봉일</th>\n",
       "      <th>국적</th>\n",
       "      <th>screenCnt</th>\n",
       "      <th>salesAcc</th>\n",
       "      <th>audiAcc</th>\n",
       "      <th>등급</th>\n",
       "    </tr>\n",
       "  </thead>\n",
       "  <tbody>\n",
       "    <tr>\n",
       "      <th>0</th>\n",
       "      <td>스왈로 탐험대와 아마존 해적</td>\n",
       "      <td>2016</td>\n",
       "      <td>필립파 로소프</td>\n",
       "      <td>켈리 맥도날드, 앤드류 스캇, 라페 스펠, 해리 엔필드, 제시카 하인즈</td>\n",
       "      <td>영국</td>\n",
       "      <td>“스왈로 탐험대의 출항을 허가한다”존과 엄마 그리고 동생들은 엄마가 어려서 뛰놀던 ...</td>\n",
       "      <td>97.0</td>\n",
       "      <td>전체관람가</td>\n",
       "      <td>가족,어드벤처,드라마,전쟁</td>\n",
       "      <td>여름휴가,외딴섬,아이들,모험,소설원작</td>\n",
       "      <td>2021-09-02</td>\n",
       "      <td>영국</td>\n",
       "      <td>1</td>\n",
       "      <td>50000</td>\n",
       "      <td>10</td>\n",
       "      <td>전체관람가</td>\n",
       "    </tr>\n",
       "    <tr>\n",
       "      <th>1</th>\n",
       "      <td>물괴</td>\n",
       "      <td>2017</td>\n",
       "      <td>허종호</td>\n",
       "      <td>김명민, 김인권, 혜리, 최우식, 이경영, 박희순, 박성웅, 이도경, 김중희, 이규...</td>\n",
       "      <td>대한민국</td>\n",
       "      <td>“인왕산에 흉악한 짐승이 나타나 사람을 해쳤다 하옵니다.그것을 두고 듣지도 보지도 ...</td>\n",
       "      <td>105.0</td>\n",
       "      <td>15세관람가</td>\n",
       "      <td>액션,시대극/사극</td>\n",
       "      <td>조선시대,전염병,괴물,시대극/사극,사투</td>\n",
       "      <td>2018-09-12</td>\n",
       "      <td>한국</td>\n",
       "      <td>1183</td>\n",
       "      <td>6104164954</td>\n",
       "      <td>723414</td>\n",
       "      <td>15세이상관람가</td>\n",
       "    </tr>\n",
       "    <tr>\n",
       "      <th>2</th>\n",
       "      <td>싱글라이더</td>\n",
       "      <td>2016</td>\n",
       "      <td>이주영</td>\n",
       "      <td>이병헌, 공효진, 안소희, 잭 캠벨, 양유진, 애니카 화이틀리, 케이 에크룬드, 백...</td>\n",
       "      <td>대한민국</td>\n",
       "      <td>그가 사라졌다그에게서 모든 것이 사라졌다증권회사의 지점장 강재훈(이병헌). 안정된 ...</td>\n",
       "      <td>97.0</td>\n",
       "      <td>15세관람가</td>\n",
       "      <td>드라마</td>\n",
       "      <td>기러기아빠,호주,오스트레일리아,반전,반전영화,동물</td>\n",
       "      <td>2017-02-22</td>\n",
       "      <td>한국</td>\n",
       "      <td>576</td>\n",
       "      <td>2685519021</td>\n",
       "      <td>351276</td>\n",
       "      <td>15세이상관람가</td>\n",
       "    </tr>\n",
       "  </tbody>\n",
       "</table>\n",
       "</div>"
      ],
      "text/plain": [
       "             title  prodYear directors  \\\n",
       "0  스왈로 탐험대와 아마존 해적      2016   필립파 로소프   \n",
       "1               물괴      2017       허종호   \n",
       "2            싱글라이더      2016       이주영   \n",
       "\n",
       "                                              actors nation  \\\n",
       "0            켈리 맥도날드, 앤드류 스캇, 라페 스펠, 해리 엔필드, 제시카 하인즈     영국   \n",
       "1  김명민, 김인권, 혜리, 최우식, 이경영, 박희순, 박성웅, 이도경, 김중희, 이규...   대한민국   \n",
       "2  이병헌, 공효진, 안소희, 잭 캠벨, 양유진, 애니카 화이틀리, 케이 에크룬드, 백...   대한민국   \n",
       "\n",
       "                                               plots  runtime  rating  \\\n",
       "0  “스왈로 탐험대의 출항을 허가한다”존과 엄마 그리고 동생들은 엄마가 어려서 뛰놀던 ...     97.0   전체관람가   \n",
       "1  “인왕산에 흉악한 짐승이 나타나 사람을 해쳤다 하옵니다.그것을 두고 듣지도 보지도 ...    105.0  15세관람가   \n",
       "2  그가 사라졌다그에게서 모든 것이 사라졌다증권회사의 지점장 강재훈(이병헌). 안정된 ...     97.0  15세관람가   \n",
       "\n",
       "            genre                     keywords         개봉일  국적  screenCnt  \\\n",
       "0  가족,어드벤처,드라마,전쟁         여름휴가,외딴섬,아이들,모험,소설원작  2021-09-02  영국          1   \n",
       "1       액션,시대극/사극        조선시대,전염병,괴물,시대극/사극,사투  2018-09-12  한국       1183   \n",
       "2             드라마  기러기아빠,호주,오스트레일리아,반전,반전영화,동물  2017-02-22  한국        576   \n",
       "\n",
       "     salesAcc  audiAcc        등급  \n",
       "0       50000       10     전체관람가  \n",
       "1  6104164954   723414  15세이상관람가  \n",
       "2  2685519021   351276  15세이상관람가  "
      ]
     },
     "execution_count": 62,
     "metadata": {},
     "output_type": "execute_result"
    }
   ],
   "source": [
    "df_merge = pd.merge(kmdb, kobis, on='title')\n",
    "print(df_merge.shape)\n",
    "df_merge.head(3)"
   ]
  },
  {
   "cell_type": "code",
   "execution_count": 63,
   "metadata": {
    "ExecuteTime": {
     "end_time": "2022-04-14T05:59:09.061175Z",
     "start_time": "2022-04-14T05:59:09.057638Z"
    }
   },
   "outputs": [],
   "source": [
    "df_merge.drop(['prodYear', 'nation', 'rating'], axis=1, inplace=True)"
   ]
  },
  {
   "cell_type": "code",
   "execution_count": 64,
   "metadata": {
    "ExecuteTime": {
     "end_time": "2022-04-14T05:59:09.414650Z",
     "start_time": "2022-04-14T05:59:09.410819Z"
    }
   },
   "outputs": [],
   "source": [
    "df_merge.reset_index(drop=True, inplace=True)"
   ]
  },
  {
   "cell_type": "code",
   "execution_count": 65,
   "metadata": {
    "ExecuteTime": {
     "end_time": "2022-04-14T05:59:09.613077Z",
     "start_time": "2022-04-14T05:59:09.603837Z"
    }
   },
   "outputs": [
    {
     "data": {
      "text/plain": [
       "title           0\n",
       "directors      21\n",
       "actors        354\n",
       "plots         103\n",
       "runtime         7\n",
       "genre          55\n",
       "keywords     2701\n",
       "개봉일             0\n",
       "국적              0\n",
       "screenCnt       0\n",
       "salesAcc        0\n",
       "audiAcc         0\n",
       "등급              0\n",
       "dtype: int64"
      ]
     },
     "execution_count": 65,
     "metadata": {},
     "output_type": "execute_result"
    }
   ],
   "source": [
    "df_merge.isna().sum()"
   ]
  },
  {
   "cell_type": "markdown",
   "metadata": {},
   "source": [
    "- runtime null 값\n",
    "    - 2437 : 72\n",
    "    - 2860 : 116\n",
    "    - 3484 : 113\n",
    "    - 4885 : 166\n",
    "    - 4914 : 66\n",
    "    - 6351 : 90\n",
    "    - 6647 : 125"
   ]
  },
  {
   "cell_type": "code",
   "execution_count": 66,
   "metadata": {
    "ExecuteTime": {
     "end_time": "2022-04-14T05:59:10.180430Z",
     "start_time": "2022-04-14T05:59:10.159814Z"
    }
   },
   "outputs": [
    {
     "data": {
      "text/html": [
       "<div>\n",
       "<style scoped>\n",
       "    .dataframe tbody tr th:only-of-type {\n",
       "        vertical-align: middle;\n",
       "    }\n",
       "\n",
       "    .dataframe tbody tr th {\n",
       "        vertical-align: top;\n",
       "    }\n",
       "\n",
       "    .dataframe thead th {\n",
       "        text-align: right;\n",
       "    }\n",
       "</style>\n",
       "<table border=\"1\" class=\"dataframe\">\n",
       "  <thead>\n",
       "    <tr style=\"text-align: right;\">\n",
       "      <th></th>\n",
       "      <th>title</th>\n",
       "      <th>directors</th>\n",
       "      <th>actors</th>\n",
       "      <th>plots</th>\n",
       "      <th>runtime</th>\n",
       "      <th>genre</th>\n",
       "      <th>keywords</th>\n",
       "      <th>개봉일</th>\n",
       "      <th>국적</th>\n",
       "      <th>screenCnt</th>\n",
       "      <th>salesAcc</th>\n",
       "      <th>audiAcc</th>\n",
       "      <th>등급</th>\n",
       "    </tr>\n",
       "  </thead>\n",
       "  <tbody>\n",
       "    <tr>\n",
       "      <th>2437</th>\n",
       "      <td>상견니</td>\n",
       "      <td>황천인</td>\n",
       "      <td>가가연, 허광한, 시백우</td>\n",
       "      <td>세상을 떠난 남자친구 ‘왕취안성’을 잊지 못한 주인공 ‘황위쉬안’이 운명처럼 199...</td>\n",
       "      <td>NaN</td>\n",
       "      <td>드라마,멜로/로맨스,판타지</td>\n",
       "      <td>NaN</td>\n",
       "      <td>2021-08-31</td>\n",
       "      <td>기타</td>\n",
       "      <td>99</td>\n",
       "      <td>46527880</td>\n",
       "      <td>6295</td>\n",
       "      <td>12세이상관람가</td>\n",
       "    </tr>\n",
       "    <tr>\n",
       "      <th>2860</th>\n",
       "      <td>스마트폰을 떨어뜨렸을 뿐인데</td>\n",
       "      <td>김태준</td>\n",
       "      <td>천우희, 임시완, 김희원</td>\n",
       "      <td>평범한 회사원이 자신의 모든 개인 정보가 담긴 스마트폰을 분실한 뒤 일상 전체를 위...</td>\n",
       "      <td>NaN</td>\n",
       "      <td>스릴러</td>\n",
       "      <td>NaN</td>\n",
       "      <td>2019-04-04</td>\n",
       "      <td>일본</td>\n",
       "      <td>3</td>\n",
       "      <td>3014000</td>\n",
       "      <td>414</td>\n",
       "      <td>15세이상관람가</td>\n",
       "    </tr>\n",
       "    <tr>\n",
       "      <th>3484</th>\n",
       "      <td>젠틀맨</td>\n",
       "      <td>김경원</td>\n",
       "      <td>주지훈, 박성웅, 최성은</td>\n",
       "      <td>흥신소 사장 ‘지현수’(주지훈)가 살인 누명을 벗으려다 거대한 사건에 휘말리게 되는...</td>\n",
       "      <td>NaN</td>\n",
       "      <td>범죄,액션</td>\n",
       "      <td>NaN</td>\n",
       "      <td>2020-02-26</td>\n",
       "      <td>미국</td>\n",
       "      <td>586</td>\n",
       "      <td>665658710</td>\n",
       "      <td>81482</td>\n",
       "      <td>청소년관람불가</td>\n",
       "    </tr>\n",
       "    <tr>\n",
       "      <th>4885</th>\n",
       "      <td>파리오페라발레 갈라쇼</td>\n",
       "      <td>NaN</td>\n",
       "      <td>NaN</td>\n",
       "      <td>NaN</td>\n",
       "      <td>NaN</td>\n",
       "      <td>NaN</td>\n",
       "      <td>NaN</td>\n",
       "      <td>2015-05-02</td>\n",
       "      <td>프랑스</td>\n",
       "      <td>11</td>\n",
       "      <td>23067500</td>\n",
       "      <td>1239</td>\n",
       "      <td>전체관람가</td>\n",
       "    </tr>\n",
       "    <tr>\n",
       "      <th>4914</th>\n",
       "      <td>말괄량이 마녀 로비와 숲 속 친구들</td>\n",
       "      <td>크리스티안 릴테니우스</td>\n",
       "      <td>피터 하베르, 모르간 알링, 토마스 볼미, 조나스 칼슨, 인젤라 올손</td>\n",
       "      <td>용감무쌍 영웅 곰 ‘벤’과 친구들의 마법 같은 모험이 시작된다!세상에서 가장 힘세고...</td>\n",
       "      <td>NaN</td>\n",
       "      <td>가족</td>\n",
       "      <td>NaN</td>\n",
       "      <td>2017-11-09</td>\n",
       "      <td>스웨덴</td>\n",
       "      <td>153</td>\n",
       "      <td>69087500</td>\n",
       "      <td>9628</td>\n",
       "      <td>전체관람가</td>\n",
       "    </tr>\n",
       "    <tr>\n",
       "      <th>6351</th>\n",
       "      <td>스타쉽 라이징</td>\n",
       "      <td>NaN</td>\n",
       "      <td>NaN</td>\n",
       "      <td>NaN</td>\n",
       "      <td>NaN</td>\n",
       "      <td>SF,액션</td>\n",
       "      <td>NaN</td>\n",
       "      <td>2014-12-24</td>\n",
       "      <td>미국</td>\n",
       "      <td>5</td>\n",
       "      <td>654000</td>\n",
       "      <td>244</td>\n",
       "      <td>15세이상관람가</td>\n",
       "    </tr>\n",
       "    <tr>\n",
       "      <th>6647</th>\n",
       "      <td>숲속으로</td>\n",
       "      <td>로브 마샬</td>\n",
       "      <td>메릴 스트립, 조니 뎁, 에밀리 블런트, 제임스 코든, 안나 켄드릭</td>\n",
       "      <td>각자의 소원을 이루기 위해 숲 속으로 들어온 동화 속 주인공들과 마녀의 저주를 풀 ...</td>\n",
       "      <td>NaN</td>\n",
       "      <td>코메디,가족,판타지</td>\n",
       "      <td>NaN</td>\n",
       "      <td>2014-12-24</td>\n",
       "      <td>미국</td>\n",
       "      <td>356</td>\n",
       "      <td>2596533288</td>\n",
       "      <td>341882</td>\n",
       "      <td>전체관람가</td>\n",
       "    </tr>\n",
       "  </tbody>\n",
       "</table>\n",
       "</div>"
      ],
      "text/plain": [
       "                    title    directors  \\\n",
       "2437                  상견니          황천인   \n",
       "2860      스마트폰을 떨어뜨렸을 뿐인데          김태준   \n",
       "3484                  젠틀맨          김경원   \n",
       "4885          파리오페라발레 갈라쇼          NaN   \n",
       "4914  말괄량이 마녀 로비와 숲 속 친구들  크리스티안 릴테니우스   \n",
       "6351              스타쉽 라이징          NaN   \n",
       "6647                 숲속으로        로브 마샬   \n",
       "\n",
       "                                      actors  \\\n",
       "2437                           가가연, 허광한, 시백우   \n",
       "2860                           천우희, 임시완, 김희원   \n",
       "3484                           주지훈, 박성웅, 최성은   \n",
       "4885                                     NaN   \n",
       "4914  피터 하베르, 모르간 알링, 토마스 볼미, 조나스 칼슨, 인젤라 올손   \n",
       "6351                                     NaN   \n",
       "6647   메릴 스트립, 조니 뎁, 에밀리 블런트, 제임스 코든, 안나 켄드릭   \n",
       "\n",
       "                                                  plots  runtime  \\\n",
       "2437  세상을 떠난 남자친구 ‘왕취안성’을 잊지 못한 주인공 ‘황위쉬안’이 운명처럼 199...      NaN   \n",
       "2860  평범한 회사원이 자신의 모든 개인 정보가 담긴 스마트폰을 분실한 뒤 일상 전체를 위...      NaN   \n",
       "3484  흥신소 사장 ‘지현수’(주지훈)가 살인 누명을 벗으려다 거대한 사건에 휘말리게 되는...      NaN   \n",
       "4885                                                NaN      NaN   \n",
       "4914  용감무쌍 영웅 곰 ‘벤’과 친구들의 마법 같은 모험이 시작된다!세상에서 가장 힘세고...      NaN   \n",
       "6351                                                NaN      NaN   \n",
       "6647  각자의 소원을 이루기 위해 숲 속으로 들어온 동화 속 주인공들과 마녀의 저주를 풀 ...      NaN   \n",
       "\n",
       "               genre keywords         개봉일   국적  screenCnt    salesAcc  \\\n",
       "2437  드라마,멜로/로맨스,판타지      NaN  2021-08-31   기타         99    46527880   \n",
       "2860             스릴러      NaN  2019-04-04   일본          3     3014000   \n",
       "3484           범죄,액션      NaN  2020-02-26   미국        586   665658710   \n",
       "4885             NaN      NaN  2015-05-02  프랑스         11    23067500   \n",
       "4914              가족      NaN  2017-11-09  스웨덴        153    69087500   \n",
       "6351           SF,액션      NaN  2014-12-24   미국          5      654000   \n",
       "6647      코메디,가족,판타지      NaN  2014-12-24   미국        356  2596533288   \n",
       "\n",
       "      audiAcc        등급  \n",
       "2437     6295  12세이상관람가  \n",
       "2860      414  15세이상관람가  \n",
       "3484    81482   청소년관람불가  \n",
       "4885     1239     전체관람가  \n",
       "4914     9628     전체관람가  \n",
       "6351      244  15세이상관람가  \n",
       "6647   341882     전체관람가  "
      ]
     },
     "execution_count": 66,
     "metadata": {},
     "output_type": "execute_result"
    }
   ],
   "source": [
    "df_merge[df_merge['runtime'].isna()]"
   ]
  },
  {
   "cell_type": "code",
   "execution_count": 67,
   "metadata": {
    "ExecuteTime": {
     "end_time": "2022-04-14T05:59:10.356632Z",
     "start_time": "2022-04-14T05:59:10.352360Z"
    }
   },
   "outputs": [],
   "source": [
    "df_merge.loc[df_merge.index == 2437, 'runtime'] = 72\n",
    "\n",
    "df_merge.loc[df_merge.index == 2860, 'runtime'] = 116\n",
    "\n",
    "df_merge.loc[df_merge.index == 3484, 'runtime'] = 113\n",
    "\n",
    "df_merge.loc[df_merge.index == 4885, 'runtime'] = 166\n",
    "\n",
    "df_merge.loc[df_merge.index == 4914, 'runtime'] = 66\n",
    "\n",
    "df_merge.loc[df_merge.index == 6351, 'runtime'] = 90\n",
    "\n",
    "df_merge.loc[df_merge.index == 6647, 'runtime'] = 125\n",
    "\n",
    "df_merge.loc[df_merge.index == 6351, 'plots'] = '국가에 맞서다 사망한 아버지를 부끄럽게 여기는 ‘워디’는 가족과의 연을 끊고 군대에 들어간다. 뛰어난 잠재력과 몸을 아끼지 않는 노력으로 ‘워디’는 최고 전투함선 스타쉽-01의 승무원이 되어 전쟁에 참여하게 된다. 그러나 민간인을 사살하라는 군 간부의 명령이 떨어지고, ‘워디’는 대량학살을 막기 위해 본의 아니게 스타쉽을 탈취하게 된다. 얼떨결에 영웅이 된 ‘워디’는 자신을 처단하려는 군에 맞서게 되고, 그 과정에서 사실 군대 배후에 존재하는 거대한 존재가 인류를 독재 지배하고 있었다는 사실을 알게 된다. 비로소 아버지의 진정한 뜻을 알게 된 ‘워디’는 이제 목숨을 걸고 인류를 위한 최후의 반격을 준비한다.'\n",
    "\n",
    "df_merge.loc[df_merge.index == 6351, 'directors'] = '닐 존슨'\n",
    "\n",
    "df_merge.loc[df_merge.index == 6351, 'actors'] = '대런 제이콥스'"
   ]
  },
  {
   "cell_type": "code",
   "execution_count": 68,
   "metadata": {
    "ExecuteTime": {
     "end_time": "2022-04-14T05:59:10.533716Z",
     "start_time": "2022-04-14T05:59:10.523118Z"
    },
    "scrolled": false
   },
   "outputs": [
    {
     "data": {
      "text/plain": [
       "title           0\n",
       "directors      20\n",
       "actors        353\n",
       "plots         102\n",
       "runtime         0\n",
       "genre          55\n",
       "keywords     2701\n",
       "개봉일             0\n",
       "국적              0\n",
       "screenCnt       0\n",
       "salesAcc        0\n",
       "audiAcc         0\n",
       "등급              0\n",
       "dtype: int64"
      ]
     },
     "execution_count": 68,
     "metadata": {},
     "output_type": "execute_result"
    }
   ],
   "source": [
    "df_merge.isna().sum()"
   ]
  },
  {
   "cell_type": "code",
   "execution_count": 69,
   "metadata": {
    "ExecuteTime": {
     "end_time": "2022-04-14T05:59:10.728623Z",
     "start_time": "2022-04-14T05:59:10.721801Z"
    }
   },
   "outputs": [
    {
     "data": {
      "text/html": [
       "<div>\n",
       "<style scoped>\n",
       "    .dataframe tbody tr th:only-of-type {\n",
       "        vertical-align: middle;\n",
       "    }\n",
       "\n",
       "    .dataframe tbody tr th {\n",
       "        vertical-align: top;\n",
       "    }\n",
       "\n",
       "    .dataframe thead th {\n",
       "        text-align: right;\n",
       "    }\n",
       "</style>\n",
       "<table border=\"1\" class=\"dataframe\">\n",
       "  <thead>\n",
       "    <tr style=\"text-align: right;\">\n",
       "      <th></th>\n",
       "      <th>title</th>\n",
       "      <th>directors</th>\n",
       "      <th>actors</th>\n",
       "      <th>plots</th>\n",
       "      <th>runtime</th>\n",
       "      <th>genre</th>\n",
       "      <th>keywords</th>\n",
       "      <th>개봉일</th>\n",
       "      <th>국적</th>\n",
       "      <th>screenCnt</th>\n",
       "      <th>salesAcc</th>\n",
       "      <th>audiAcc</th>\n",
       "      <th>등급</th>\n",
       "    </tr>\n",
       "  </thead>\n",
       "  <tbody>\n",
       "    <tr>\n",
       "      <th>4885</th>\n",
       "      <td>파리오페라발레 갈라쇼</td>\n",
       "      <td>NaN</td>\n",
       "      <td>NaN</td>\n",
       "      <td>NaN</td>\n",
       "      <td>166.0</td>\n",
       "      <td>NaN</td>\n",
       "      <td>NaN</td>\n",
       "      <td>2015-05-02</td>\n",
       "      <td>프랑스</td>\n",
       "      <td>11</td>\n",
       "      <td>23067500</td>\n",
       "      <td>1239</td>\n",
       "      <td>전체관람가</td>\n",
       "    </tr>\n",
       "  </tbody>\n",
       "</table>\n",
       "</div>"
      ],
      "text/plain": [
       "            title directors actors plots  runtime genre keywords         개봉일  \\\n",
       "4885  파리오페라발레 갈라쇼       NaN    NaN   NaN    166.0   NaN      NaN  2015-05-02   \n",
       "\n",
       "       국적  screenCnt  salesAcc  audiAcc     등급  \n",
       "4885  프랑스         11  23067500     1239  전체관람가  "
      ]
     },
     "execution_count": 69,
     "metadata": {},
     "output_type": "execute_result"
    }
   ],
   "source": [
    "df_merge.loc[df_merge.index == 4885]"
   ]
  },
  {
   "cell_type": "code",
   "execution_count": 70,
   "metadata": {
    "ExecuteTime": {
     "end_time": "2022-04-14T05:59:10.907964Z",
     "start_time": "2022-04-14T05:59:10.906136Z"
    }
   },
   "outputs": [],
   "source": [
    "df_merge.loc[df_merge.index == 4885, 'directors'] = '브리지트 르페브르'"
   ]
  },
  {
   "cell_type": "code",
   "execution_count": 71,
   "metadata": {
    "ExecuteTime": {
     "end_time": "2022-04-14T05:59:11.107947Z",
     "start_time": "2022-04-14T05:59:11.105369Z"
    }
   },
   "outputs": [],
   "source": [
    "df_merge.loc[df_merge.index == 4885, 'actors'] = '미리암 울-브라암'"
   ]
  },
  {
   "cell_type": "code",
   "execution_count": 72,
   "metadata": {
    "ExecuteTime": {
     "end_time": "2022-04-14T05:59:11.292587Z",
     "start_time": "2022-04-14T05:59:11.289760Z"
    }
   },
   "outputs": [],
   "source": [
    "df_merge.loc[df_merge.index == 4885, 'plots'] = '데필레 (Defile) 음악: 엑토르 베를리오즈 ‘트로이의 사람들’ 중 ‘행진’ 지휘: 프레데릭 라로크 갈라 또는 특별 행사 때만 선보이는 파리 오페라 발레의 ‘데필레’는 무용계에서도 독특한 공연으로, 단원 전원이 무대를 가득 채우는 행사다. 단원들은 무대 뒤 쪽의 무용 연습실로부터 출발하여 천천히 무대 앞쪽으로 이동하여 관객과 마주서며, 이 행진으로 생겨나는 줄의 길이는 무려 46미터에 이른다. 이 ‘데필레’에는 주역 무용수, 솔리스트, 드미 솔리스트, 군무 1, 군무 2들과 부속 발레 학교의 학생 100여명 등 총 154명이 참가하여 300년이 넘은 이 행사의 전통을 이어간다. 에튀드 (Etudes) 음악: 칼 체르니 안무: 하랄드 란더 관현악 편곡: 크누다게 리사거 ‘에튀드’는 클래식 발레 수업을 무대로 옮겨놓은 것이다. 안무가, 발레의 대가, 파리국립오페라 부속 발레학교의 교장이었던 하랄드 란더의 작품인 ‘에튀드’는 클래식 발레의 기술, 순수함, 엄격함과 혹독한 훈련 등을 생생히 보여준다. 호두까기 인형 (The Nutcracker, 하이라이트 공연) 작곡: 표트르 일리치 차이코프스키 원작: E.T.A. 호프만의 동화 각색: 알렉상드르 뒤마 원작 안무: 마리우스 프티파 안무, 연출: 루돌프 누레예프 무대, 의상: 니콜라스 조르지아디스 지휘: 케빈 로즈 출연: 미리암 울-브라암(클라라), 제레미 벨렝가르(왕자, 드로셀마이어) 어린이의 세계로 돌아갈 때면 차이코프스키는 어린 시절을 향한 향수, 매혹과 더불어 악몽과도 같은 공포가 뒤섞인 음악을 만들어낸다. 이렇게 상상의 세계로 시간 여행을 하며 얻은 결실 중 하나인 ‘호두까기 인형’의 선율은 탁월한 서정성과 독창성으로 넘치는 한편, 몽상적이면서도 때로는 불안감을 주기도 하는데, 이런 속에서 눈송이, 무수한 꽃, 사탕 요정이 춤을 추면서 차이코프스키 최고의 환상적 걸작을 완성한다.'"
   ]
  },
  {
   "cell_type": "code",
   "execution_count": 73,
   "metadata": {
    "ExecuteTime": {
     "end_time": "2022-04-14T05:59:11.483501Z",
     "start_time": "2022-04-14T05:59:11.481269Z"
    }
   },
   "outputs": [],
   "source": [
    "df_merge.loc[df_merge.index == 4885, 'genre'] = '공연'"
   ]
  },
  {
   "cell_type": "code",
   "execution_count": 74,
   "metadata": {
    "ExecuteTime": {
     "end_time": "2022-04-14T05:59:11.684397Z",
     "start_time": "2022-04-14T05:59:11.677381Z"
    },
    "scrolled": true
   },
   "outputs": [
    {
     "data": {
      "text/html": [
       "<div>\n",
       "<style scoped>\n",
       "    .dataframe tbody tr th:only-of-type {\n",
       "        vertical-align: middle;\n",
       "    }\n",
       "\n",
       "    .dataframe tbody tr th {\n",
       "        vertical-align: top;\n",
       "    }\n",
       "\n",
       "    .dataframe thead th {\n",
       "        text-align: right;\n",
       "    }\n",
       "</style>\n",
       "<table border=\"1\" class=\"dataframe\">\n",
       "  <thead>\n",
       "    <tr style=\"text-align: right;\">\n",
       "      <th></th>\n",
       "      <th>title</th>\n",
       "      <th>directors</th>\n",
       "      <th>actors</th>\n",
       "      <th>plots</th>\n",
       "      <th>runtime</th>\n",
       "      <th>genre</th>\n",
       "      <th>keywords</th>\n",
       "      <th>개봉일</th>\n",
       "      <th>국적</th>\n",
       "      <th>screenCnt</th>\n",
       "      <th>salesAcc</th>\n",
       "      <th>audiAcc</th>\n",
       "      <th>등급</th>\n",
       "    </tr>\n",
       "  </thead>\n",
       "  <tbody>\n",
       "    <tr>\n",
       "      <th>4885</th>\n",
       "      <td>파리오페라발레 갈라쇼</td>\n",
       "      <td>브리지트 르페브르</td>\n",
       "      <td>미리암 울-브라암</td>\n",
       "      <td>데필레 (Defile) 음악: 엑토르 베를리오즈 ‘트로이의 사람들’ 중 ‘행진’ 지...</td>\n",
       "      <td>166.0</td>\n",
       "      <td>공연</td>\n",
       "      <td>NaN</td>\n",
       "      <td>2015-05-02</td>\n",
       "      <td>프랑스</td>\n",
       "      <td>11</td>\n",
       "      <td>23067500</td>\n",
       "      <td>1239</td>\n",
       "      <td>전체관람가</td>\n",
       "    </tr>\n",
       "  </tbody>\n",
       "</table>\n",
       "</div>"
      ],
      "text/plain": [
       "            title  directors     actors  \\\n",
       "4885  파리오페라발레 갈라쇼  브리지트 르페브르  미리암 울-브라암   \n",
       "\n",
       "                                                  plots  runtime genre  \\\n",
       "4885  데필레 (Defile) 음악: 엑토르 베를리오즈 ‘트로이의 사람들’ 중 ‘행진’ 지...    166.0    공연   \n",
       "\n",
       "     keywords         개봉일   국적  screenCnt  salesAcc  audiAcc     등급  \n",
       "4885      NaN  2015-05-02  프랑스         11  23067500     1239  전체관람가  "
      ]
     },
     "execution_count": 74,
     "metadata": {},
     "output_type": "execute_result"
    }
   ],
   "source": [
    "df_merge.loc[df_merge.index == 4885]"
   ]
  },
  {
   "cell_type": "code",
   "execution_count": 75,
   "metadata": {
    "ExecuteTime": {
     "end_time": "2022-04-14T05:59:11.865259Z",
     "start_time": "2022-04-14T05:59:11.860001Z"
    }
   },
   "outputs": [
    {
     "data": {
      "text/html": [
       "<div>\n",
       "<style scoped>\n",
       "    .dataframe tbody tr th:only-of-type {\n",
       "        vertical-align: middle;\n",
       "    }\n",
       "\n",
       "    .dataframe tbody tr th {\n",
       "        vertical-align: top;\n",
       "    }\n",
       "\n",
       "    .dataframe thead th {\n",
       "        text-align: right;\n",
       "    }\n",
       "</style>\n",
       "<table border=\"1\" class=\"dataframe\">\n",
       "  <thead>\n",
       "    <tr style=\"text-align: right;\">\n",
       "      <th></th>\n",
       "      <th>title</th>\n",
       "      <th>directors</th>\n",
       "      <th>actors</th>\n",
       "      <th>plots</th>\n",
       "      <th>runtime</th>\n",
       "      <th>genre</th>\n",
       "      <th>keywords</th>\n",
       "      <th>개봉일</th>\n",
       "      <th>국적</th>\n",
       "      <th>screenCnt</th>\n",
       "      <th>salesAcc</th>\n",
       "      <th>audiAcc</th>\n",
       "      <th>등급</th>\n",
       "    </tr>\n",
       "  </thead>\n",
       "  <tbody>\n",
       "    <tr>\n",
       "      <th>6351</th>\n",
       "      <td>스타쉽 라이징</td>\n",
       "      <td>닐 존슨</td>\n",
       "      <td>대런 제이콥스</td>\n",
       "      <td>국가에 맞서다 사망한 아버지를 부끄럽게 여기는 ‘워디’는 가족과의 연을 끊고 군대에...</td>\n",
       "      <td>90.0</td>\n",
       "      <td>SF,액션</td>\n",
       "      <td>NaN</td>\n",
       "      <td>2014-12-24</td>\n",
       "      <td>미국</td>\n",
       "      <td>5</td>\n",
       "      <td>654000</td>\n",
       "      <td>244</td>\n",
       "      <td>15세이상관람가</td>\n",
       "    </tr>\n",
       "  </tbody>\n",
       "</table>\n",
       "</div>"
      ],
      "text/plain": [
       "        title directors   actors  \\\n",
       "6351  스타쉽 라이징      닐 존슨  대런 제이콥스   \n",
       "\n",
       "                                                  plots  runtime  genre  \\\n",
       "6351  국가에 맞서다 사망한 아버지를 부끄럽게 여기는 ‘워디’는 가족과의 연을 끊고 군대에...     90.0  SF,액션   \n",
       "\n",
       "     keywords         개봉일  국적  screenCnt  salesAcc  audiAcc        등급  \n",
       "6351      NaN  2014-12-24  미국          5    654000      244  15세이상관람가  "
      ]
     },
     "execution_count": 75,
     "metadata": {},
     "output_type": "execute_result"
    }
   ],
   "source": [
    "df_merge.loc[df_merge.index == 6351]"
   ]
  },
  {
   "cell_type": "code",
   "execution_count": 76,
   "metadata": {
    "ExecuteTime": {
     "end_time": "2022-04-14T05:59:12.056912Z",
     "start_time": "2022-04-14T05:59:12.046956Z"
    }
   },
   "outputs": [
    {
     "name": "stdout",
     "output_type": "stream",
     "text": [
      "<class 'pandas.core.frame.DataFrame'>\n",
      "RangeIndex: 7006 entries, 0 to 7005\n",
      "Data columns (total 13 columns):\n",
      " #   Column     Non-Null Count  Dtype  \n",
      "---  ------     --------------  -----  \n",
      " 0   title      7006 non-null   object \n",
      " 1   directors  6987 non-null   object \n",
      " 2   actors     6654 non-null   object \n",
      " 3   plots      6905 non-null   object \n",
      " 4   runtime    7006 non-null   float64\n",
      " 5   genre      6952 non-null   object \n",
      " 6   keywords   4305 non-null   object \n",
      " 7   개봉일        7006 non-null   object \n",
      " 8   국적         7006 non-null   object \n",
      " 9   screenCnt  7006 non-null   int64  \n",
      " 10  salesAcc   7006 non-null   int64  \n",
      " 11  audiAcc    7006 non-null   int64  \n",
      " 12  등급         7006 non-null   object \n",
      "dtypes: float64(1), int64(3), object(9)\n",
      "memory usage: 711.7+ KB\n"
     ]
    }
   ],
   "source": [
    "df_merge.info()"
   ]
  },
  {
   "cell_type": "code",
   "execution_count": 77,
   "metadata": {
    "ExecuteTime": {
     "end_time": "2022-04-14T05:59:12.251503Z",
     "start_time": "2022-04-14T05:59:12.240719Z"
    }
   },
   "outputs": [
    {
     "data": {
      "text/plain": [
       "title           0\n",
       "directors      19\n",
       "actors        352\n",
       "plots         101\n",
       "runtime         0\n",
       "genre          54\n",
       "keywords     2701\n",
       "개봉일             0\n",
       "국적              0\n",
       "screenCnt       0\n",
       "salesAcc        0\n",
       "audiAcc         0\n",
       "등급              0\n",
       "dtype: int64"
      ]
     },
     "execution_count": 77,
     "metadata": {},
     "output_type": "execute_result"
    }
   ],
   "source": [
    "df_merge.isna().sum()"
   ]
  },
  {
   "cell_type": "code",
   "execution_count": 78,
   "metadata": {
    "ExecuteTime": {
     "end_time": "2022-04-14T05:59:12.474681Z",
     "start_time": "2022-04-14T05:59:12.471151Z"
    }
   },
   "outputs": [
    {
     "data": {
      "text/plain": [
       "(7006, 13)"
      ]
     },
     "execution_count": 78,
     "metadata": {},
     "output_type": "execute_result"
    }
   ],
   "source": [
    "df_merge.shape"
   ]
  },
  {
   "cell_type": "code",
   "execution_count": 79,
   "metadata": {
    "ExecuteTime": {
     "end_time": "2022-04-14T05:59:12.740739Z",
     "start_time": "2022-04-14T05:59:12.665045Z"
    }
   },
   "outputs": [],
   "source": [
    "df_merge.to_csv('data/data_merge.csv',encoding='utf-8-sig')"
   ]
  },
  {
   "cell_type": "code",
   "execution_count": null,
   "metadata": {},
   "outputs": [],
   "source": []
  }
 ],
 "metadata": {
  "hide_input": false,
  "kernelspec": {
   "display_name": "Python 3",
   "language": "python",
   "name": "python3"
  },
  "language_info": {
   "codemirror_mode": {
    "name": "ipython",
    "version": 3
   },
   "file_extension": ".py",
   "mimetype": "text/x-python",
   "name": "python",
   "nbconvert_exporter": "python",
   "pygments_lexer": "ipython3",
   "version": "3.8.5"
  },
  "toc": {
   "base_numbering": 1,
   "nav_menu": {},
   "number_sections": true,
   "sideBar": true,
   "skip_h1_title": false,
   "title_cell": "Table of Contents",
   "title_sidebar": "Contents",
   "toc_cell": false,
   "toc_position": {},
   "toc_section_display": true,
   "toc_window_display": false
  },
  "varInspector": {
   "cols": {
    "lenName": 16,
    "lenType": 16,
    "lenVar": 40
   },
   "kernels_config": {
    "python": {
     "delete_cmd_postfix": "",
     "delete_cmd_prefix": "del ",
     "library": "var_list.py",
     "varRefreshCmd": "print(var_dic_list())"
    },
    "r": {
     "delete_cmd_postfix": ") ",
     "delete_cmd_prefix": "rm(",
     "library": "var_list.r",
     "varRefreshCmd": "cat(var_dic_list()) "
    }
   },
   "types_to_exclude": [
    "module",
    "function",
    "builtin_function_or_method",
    "instance",
    "_Feature"
   ],
   "window_display": false
  }
 },
 "nbformat": 4,
 "nbformat_minor": 5
}
