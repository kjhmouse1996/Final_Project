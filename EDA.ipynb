{
 "cells": [
  {
   "cell_type": "code",
   "execution_count": 2,
   "metadata": {},
   "outputs": [],
   "source": [
    "import pandas as pd"
   ]
  },
  {
   "cell_type": "code",
   "execution_count": 3,
   "metadata": {},
   "outputs": [],
   "source": [
    "df = pd.read_csv('data_merge수정2.csv')"
   ]
  },
  {
   "cell_type": "code",
   "execution_count": 195,
   "metadata": {
    "scrolled": true
   },
   "outputs": [
    {
     "data": {
      "text/html": [
       "<div>\n",
       "<style scoped>\n",
       "    .dataframe tbody tr th:only-of-type {\n",
       "        vertical-align: middle;\n",
       "    }\n",
       "\n",
       "    .dataframe tbody tr th {\n",
       "        vertical-align: top;\n",
       "    }\n",
       "\n",
       "    .dataframe thead th {\n",
       "        text-align: right;\n",
       "    }\n",
       "</style>\n",
       "<table border=\"1\" class=\"dataframe\">\n",
       "  <thead>\n",
       "    <tr style=\"text-align: right;\">\n",
       "      <th></th>\n",
       "      <th>title</th>\n",
       "      <th>directors</th>\n",
       "      <th>actors</th>\n",
       "      <th>plots</th>\n",
       "      <th>genre</th>\n",
       "      <th>runtime</th>\n",
       "      <th>keywords</th>\n",
       "      <th>개봉일</th>\n",
       "      <th>국적</th>\n",
       "      <th>screenCnt</th>\n",
       "      <th>salesAcc</th>\n",
       "      <th>audiAcc</th>\n",
       "      <th>등급_int</th>\n",
       "      <th>등급_12세관람가</th>\n",
       "      <th>등급_12세이상관람가</th>\n",
       "      <th>등급_15세이상관람가</th>\n",
       "      <th>등급_전체관람가</th>\n",
       "      <th>등급_청소년관람불가</th>\n",
       "    </tr>\n",
       "  </thead>\n",
       "  <tbody>\n",
       "    <tr>\n",
       "      <th>0</th>\n",
       "      <td>스왈로 탐험대와 아마존 해적</td>\n",
       "      <td>필립파 로소프</td>\n",
       "      <td>켈리 맥도날드, 앤드류 스캇, 라페 스펠, 해리 엔필드, 제시카 하인즈</td>\n",
       "      <td>“스왈로 탐험대의 출항을 허가한다”존과 엄마 그리고 동생들은 엄마가 어려서 뛰놀던 ...</td>\n",
       "      <td>어드벤처</td>\n",
       "      <td>97</td>\n",
       "      <td>여름휴가,외딴섬,아이들,모험,소설원작</td>\n",
       "      <td>2021-09-02</td>\n",
       "      <td>영국</td>\n",
       "      <td>1</td>\n",
       "      <td>5.000000e+04</td>\n",
       "      <td>10</td>\n",
       "      <td>3</td>\n",
       "      <td>0</td>\n",
       "      <td>0</td>\n",
       "      <td>0</td>\n",
       "      <td>1</td>\n",
       "      <td>0</td>\n",
       "    </tr>\n",
       "    <tr>\n",
       "      <th>1</th>\n",
       "      <td>물괴</td>\n",
       "      <td>허종호</td>\n",
       "      <td>김명민, 김인권, 혜리, 최우식, 이경영, 박희순, 박성웅, 이도경, 김중희, 이규...</td>\n",
       "      <td>“인왕산에 흉악한 짐승이 나타나 사람을 해쳤다 하옵니다.그것을 두고 듣지도 보지도 ...</td>\n",
       "      <td>액션</td>\n",
       "      <td>105</td>\n",
       "      <td>조선시대,전염병,괴물,시대극/사극,사투</td>\n",
       "      <td>2018-09-12</td>\n",
       "      <td>한국</td>\n",
       "      <td>1183</td>\n",
       "      <td>6.104165e+09</td>\n",
       "      <td>723414</td>\n",
       "      <td>2</td>\n",
       "      <td>0</td>\n",
       "      <td>0</td>\n",
       "      <td>1</td>\n",
       "      <td>0</td>\n",
       "      <td>0</td>\n",
       "    </tr>\n",
       "    <tr>\n",
       "      <th>2</th>\n",
       "      <td>싱글라이더</td>\n",
       "      <td>이주영</td>\n",
       "      <td>이병헌, 공효진, 안소희, 잭 캠벨, 양유진, 애니카 화이틀리, 케이 에크룬드, 백...</td>\n",
       "      <td>그가 사라졌다그에게서 모든 것이 사라졌다증권회사의 지점장 강재훈(이병헌). 안정된 ...</td>\n",
       "      <td>드라마</td>\n",
       "      <td>97</td>\n",
       "      <td>기러기아빠,호주,오스트레일리아,반전,반전영화,동물</td>\n",
       "      <td>2017-02-22</td>\n",
       "      <td>한국</td>\n",
       "      <td>576</td>\n",
       "      <td>2.685519e+09</td>\n",
       "      <td>351276</td>\n",
       "      <td>2</td>\n",
       "      <td>0</td>\n",
       "      <td>0</td>\n",
       "      <td>1</td>\n",
       "      <td>0</td>\n",
       "      <td>0</td>\n",
       "    </tr>\n",
       "    <tr>\n",
       "      <th>3</th>\n",
       "      <td>리즈와 파랑새</td>\n",
       "      <td>야마다 나오코</td>\n",
       "      <td>타네자키 아츠미, 토야마 나오, 혼다 미유, 후지무라 코노미, 야마오카 유리</td>\n",
       "      <td>“너에겐 날개가 있고, 끝없이 펼쳐진 하늘도 있어”  늘 혼자였던 ‘리즈’ 앞에 어...</td>\n",
       "      <td>애니메이션</td>\n",
       "      <td>90</td>\n",
       "      <td>십대소녀,단짝친구,외톨이,고3,합주,졸업반,마지막 연주</td>\n",
       "      <td>2018-10-09</td>\n",
       "      <td>일본</td>\n",
       "      <td>214</td>\n",
       "      <td>1.741404e+08</td>\n",
       "      <td>21153</td>\n",
       "      <td>3</td>\n",
       "      <td>0</td>\n",
       "      <td>0</td>\n",
       "      <td>0</td>\n",
       "      <td>1</td>\n",
       "      <td>0</td>\n",
       "    </tr>\n",
       "    <tr>\n",
       "      <th>4</th>\n",
       "      <td>레드 후드</td>\n",
       "      <td>르네 페르즈</td>\n",
       "      <td>로버트 앰슬러, 니콜 스탁, 로버트 S. 딕슨, 콜린 허시, 제이슨 제이 프라도</td>\n",
       "      <td>편찮은 할머니를 위해 약을 구해 돌아가던 빨간 모자 소녀는 늑대 모습을 한 기사에게...</td>\n",
       "      <td>판타지</td>\n",
       "      <td>81</td>\n",
       "      <td>괴물,성에 갇힌 남녀,감옥탈출</td>\n",
       "      <td>2018-11-11</td>\n",
       "      <td>미국</td>\n",
       "      <td>1</td>\n",
       "      <td>1.000000e+03</td>\n",
       "      <td>1</td>\n",
       "      <td>2</td>\n",
       "      <td>0</td>\n",
       "      <td>0</td>\n",
       "      <td>1</td>\n",
       "      <td>0</td>\n",
       "      <td>0</td>\n",
       "    </tr>\n",
       "    <tr>\n",
       "      <th>...</th>\n",
       "      <td>...</td>\n",
       "      <td>...</td>\n",
       "      <td>...</td>\n",
       "      <td>...</td>\n",
       "      <td>...</td>\n",
       "      <td>...</td>\n",
       "      <td>...</td>\n",
       "      <td>...</td>\n",
       "      <td>...</td>\n",
       "      <td>...</td>\n",
       "      <td>...</td>\n",
       "      <td>...</td>\n",
       "      <td>...</td>\n",
       "      <td>...</td>\n",
       "      <td>...</td>\n",
       "      <td>...</td>\n",
       "      <td>...</td>\n",
       "      <td>...</td>\n",
       "    </tr>\n",
       "    <tr>\n",
       "      <th>6376</th>\n",
       "      <td>파라노이아</td>\n",
       "      <td>로버트 루케틱</td>\n",
       "      <td>리암 햄스워스, 게리 올드만, 앰버 허드, 해리슨 포드, 엠베스 다비츠</td>\n",
       "      <td>유명 첨단 기술회사인 와이어트사 말단직원, 아담 캐시디(리암 헴스워스)는 밑바닥에서...</td>\n",
       "      <td>드라마</td>\n",
       "      <td>106</td>\n",
       "      <td>NaN</td>\n",
       "      <td>2014-09-18</td>\n",
       "      <td>미국</td>\n",
       "      <td>1</td>\n",
       "      <td>8.000000e+03</td>\n",
       "      <td>1</td>\n",
       "      <td>2</td>\n",
       "      <td>0</td>\n",
       "      <td>0</td>\n",
       "      <td>1</td>\n",
       "      <td>0</td>\n",
       "      <td>0</td>\n",
       "    </tr>\n",
       "    <tr>\n",
       "      <th>6377</th>\n",
       "      <td>춘하추동 로맨스</td>\n",
       "      <td>오창민</td>\n",
       "      <td>이응재, 최은아, 조석현, 이민아, 이서림, 오대환, 이준혁</td>\n",
       "      <td>Chapter 1    단풍맞이 단합대회 단풍놀이가 한창인 가을, 어설픈 산악인 상...</td>\n",
       "      <td>코미디</td>\n",
       "      <td>100</td>\n",
       "      <td>고백,허세,내숭,현실연애,옴니버스영화</td>\n",
       "      <td>2014-12-04</td>\n",
       "      <td>한국</td>\n",
       "      <td>5</td>\n",
       "      <td>7.368000e+06</td>\n",
       "      <td>1074</td>\n",
       "      <td>2</td>\n",
       "      <td>0</td>\n",
       "      <td>0</td>\n",
       "      <td>1</td>\n",
       "      <td>0</td>\n",
       "      <td>0</td>\n",
       "    </tr>\n",
       "    <tr>\n",
       "      <th>6378</th>\n",
       "      <td>4명의 암살자</td>\n",
       "      <td>스텐리 J. 오젤</td>\n",
       "      <td>미구엘 페러, 윌 윤 리, 메르세데스 레나드</td>\n",
       "      <td>최고의 실력을 가진 청부살인업자인 마커스, 일라이, 코딜리아, 체이스가 홍콩의 한 ...</td>\n",
       "      <td>액션</td>\n",
       "      <td>87</td>\n",
       "      <td>NaN</td>\n",
       "      <td>2015-01-05</td>\n",
       "      <td>미국</td>\n",
       "      <td>2</td>\n",
       "      <td>3.200000e+04</td>\n",
       "      <td>4</td>\n",
       "      <td>2</td>\n",
       "      <td>0</td>\n",
       "      <td>0</td>\n",
       "      <td>1</td>\n",
       "      <td>0</td>\n",
       "      <td>0</td>\n",
       "    </tr>\n",
       "    <tr>\n",
       "      <th>6379</th>\n",
       "      <td>변종샤크</td>\n",
       "      <td>그리프 퍼스트</td>\n",
       "      <td>크리스티 스완슨, D.B. 스위니</td>\n",
       "      <td>돌연변이 상어의 무차별 공격이 시작된다!벗어날 수 없는 죽음의 공포... 피할 곳은...</td>\n",
       "      <td>SF</td>\n",
       "      <td>89</td>\n",
       "      <td>돌연변이,공격,상어,죽음,자연</td>\n",
       "      <td>2014-12-11</td>\n",
       "      <td>미국</td>\n",
       "      <td>5</td>\n",
       "      <td>1.708000e+06</td>\n",
       "      <td>426</td>\n",
       "      <td>2</td>\n",
       "      <td>0</td>\n",
       "      <td>0</td>\n",
       "      <td>1</td>\n",
       "      <td>0</td>\n",
       "      <td>0</td>\n",
       "    </tr>\n",
       "    <tr>\n",
       "      <th>6380</th>\n",
       "      <td>터널 3D</td>\n",
       "      <td>박규택</td>\n",
       "      <td>정유미, 연우진, 송재림, 정시연, 손병호, 이시원, 이재희, 도희, 우희, 정진,...</td>\n",
       "      <td>재벌 2세인 기철의 권유로 최고급 리조트 여행을 떠난 5명.기철, 영민, 유경, 세...</td>\n",
       "      <td>공포(호러)</td>\n",
       "      <td>86</td>\n",
       "      <td>실종,터널,3D</td>\n",
       "      <td>2014-08-20</td>\n",
       "      <td>한국</td>\n",
       "      <td>264</td>\n",
       "      <td>6.208740e+08</td>\n",
       "      <td>80989</td>\n",
       "      <td>2</td>\n",
       "      <td>0</td>\n",
       "      <td>0</td>\n",
       "      <td>1</td>\n",
       "      <td>0</td>\n",
       "      <td>0</td>\n",
       "    </tr>\n",
       "  </tbody>\n",
       "</table>\n",
       "<p>6381 rows × 18 columns</p>\n",
       "</div>"
      ],
      "text/plain": [
       "                title  directors  \\\n",
       "0     스왈로 탐험대와 아마존 해적    필립파 로소프   \n",
       "1                  물괴        허종호   \n",
       "2               싱글라이더        이주영   \n",
       "3             리즈와 파랑새    야마다 나오코   \n",
       "4               레드 후드     르네 페르즈   \n",
       "...               ...        ...   \n",
       "6376            파라노이아    로버트 루케틱   \n",
       "6377         춘하추동 로맨스        오창민   \n",
       "6378          4명의 암살자  스텐리 J. 오젤   \n",
       "6379             변종샤크    그리프 퍼스트   \n",
       "6380            터널 3D        박규택   \n",
       "\n",
       "                                                 actors  \\\n",
       "0               켈리 맥도날드, 앤드류 스캇, 라페 스펠, 해리 엔필드, 제시카 하인즈   \n",
       "1     김명민, 김인권, 혜리, 최우식, 이경영, 박희순, 박성웅, 이도경, 김중희, 이규...   \n",
       "2     이병헌, 공효진, 안소희, 잭 캠벨, 양유진, 애니카 화이틀리, 케이 에크룬드, 백...   \n",
       "3            타네자키 아츠미, 토야마 나오, 혼다 미유, 후지무라 코노미, 야마오카 유리   \n",
       "4          로버트 앰슬러, 니콜 스탁, 로버트 S. 딕슨, 콜린 허시, 제이슨 제이 프라도   \n",
       "...                                                 ...   \n",
       "6376            리암 햄스워스, 게리 올드만, 앰버 허드, 해리슨 포드, 엠베스 다비츠   \n",
       "6377                  이응재, 최은아, 조석현, 이민아, 이서림, 오대환, 이준혁   \n",
       "6378                           미구엘 페러, 윌 윤 리, 메르세데스 레나드   \n",
       "6379                                 크리스티 스완슨, D.B. 스위니   \n",
       "6380  정유미, 연우진, 송재림, 정시연, 손병호, 이시원, 이재희, 도희, 우희, 정진,...   \n",
       "\n",
       "                                                  plots   genre  runtime  \\\n",
       "0     “스왈로 탐험대의 출항을 허가한다”존과 엄마 그리고 동생들은 엄마가 어려서 뛰놀던 ...    어드벤처       97   \n",
       "1     “인왕산에 흉악한 짐승이 나타나 사람을 해쳤다 하옵니다.그것을 두고 듣지도 보지도 ...      액션      105   \n",
       "2     그가 사라졌다그에게서 모든 것이 사라졌다증권회사의 지점장 강재훈(이병헌). 안정된 ...     드라마       97   \n",
       "3     “너에겐 날개가 있고, 끝없이 펼쳐진 하늘도 있어”  늘 혼자였던 ‘리즈’ 앞에 어...   애니메이션       90   \n",
       "4     편찮은 할머니를 위해 약을 구해 돌아가던 빨간 모자 소녀는 늑대 모습을 한 기사에게...     판타지       81   \n",
       "...                                                 ...     ...      ...   \n",
       "6376  유명 첨단 기술회사인 와이어트사 말단직원, 아담 캐시디(리암 헴스워스)는 밑바닥에서...     드라마      106   \n",
       "6377  Chapter 1    단풍맞이 단합대회 단풍놀이가 한창인 가을, 어설픈 산악인 상...     코미디      100   \n",
       "6378  최고의 실력을 가진 청부살인업자인 마커스, 일라이, 코딜리아, 체이스가 홍콩의 한 ...      액션       87   \n",
       "6379  돌연변이 상어의 무차별 공격이 시작된다!벗어날 수 없는 죽음의 공포... 피할 곳은...      SF       89   \n",
       "6380  재벌 2세인 기철의 권유로 최고급 리조트 여행을 떠난 5명.기철, 영민, 유경, 세...  공포(호러)       86   \n",
       "\n",
       "                            keywords         개봉일  국적  screenCnt      salesAcc  \\\n",
       "0               여름휴가,외딴섬,아이들,모험,소설원작  2021-09-02  영국          1  5.000000e+04   \n",
       "1              조선시대,전염병,괴물,시대극/사극,사투  2018-09-12  한국       1183  6.104165e+09   \n",
       "2        기러기아빠,호주,오스트레일리아,반전,반전영화,동물  2017-02-22  한국        576  2.685519e+09   \n",
       "3     십대소녀,단짝친구,외톨이,고3,합주,졸업반,마지막 연주  2018-10-09  일본        214  1.741404e+08   \n",
       "4                   괴물,성에 갇힌 남녀,감옥탈출  2018-11-11  미국          1  1.000000e+03   \n",
       "...                              ...         ...  ..        ...           ...   \n",
       "6376                             NaN  2014-09-18  미국          1  8.000000e+03   \n",
       "6377            고백,허세,내숭,현실연애,옴니버스영화  2014-12-04  한국          5  7.368000e+06   \n",
       "6378                             NaN  2015-01-05  미국          2  3.200000e+04   \n",
       "6379                돌연변이,공격,상어,죽음,자연  2014-12-11  미국          5  1.708000e+06   \n",
       "6380                        실종,터널,3D  2014-08-20  한국        264  6.208740e+08   \n",
       "\n",
       "      audiAcc  등급_int  등급_12세관람가  등급_12세이상관람가  등급_15세이상관람가  등급_전체관람가  \\\n",
       "0          10       3          0            0            0         1   \n",
       "1      723414       2          0            0            1         0   \n",
       "2      351276       2          0            0            1         0   \n",
       "3       21153       3          0            0            0         1   \n",
       "4           1       2          0            0            1         0   \n",
       "...       ...     ...        ...          ...          ...       ...   \n",
       "6376        1       2          0            0            1         0   \n",
       "6377     1074       2          0            0            1         0   \n",
       "6378        4       2          0            0            1         0   \n",
       "6379      426       2          0            0            1         0   \n",
       "6380    80989       2          0            0            1         0   \n",
       "\n",
       "      등급_청소년관람불가  \n",
       "0              0  \n",
       "1              0  \n",
       "2              0  \n",
       "3              0  \n",
       "4              0  \n",
       "...          ...  \n",
       "6376           0  \n",
       "6377           0  \n",
       "6378           0  \n",
       "6379           0  \n",
       "6380           0  \n",
       "\n",
       "[6381 rows x 18 columns]"
      ]
     },
     "execution_count": 195,
     "metadata": {},
     "output_type": "execute_result"
    }
   ],
   "source": [
    "df"
   ]
  },
  {
   "cell_type": "code",
   "execution_count": 5,
   "metadata": {},
   "outputs": [
    {
     "data": {
      "text/plain": [
       "(6381, 14)"
      ]
     },
     "execution_count": 5,
     "metadata": {},
     "output_type": "execute_result"
    }
   ],
   "source": [
    "df.shape"
   ]
  },
  {
   "cell_type": "code",
   "execution_count": 6,
   "metadata": {},
   "outputs": [
    {
     "name": "stdout",
     "output_type": "stream",
     "text": [
      "<class 'pandas.core.frame.DataFrame'>\n",
      "RangeIndex: 6381 entries, 0 to 6380\n",
      "Data columns (total 14 columns):\n",
      " #   Column      Non-Null Count  Dtype  \n",
      "---  ------      --------------  -----  \n",
      " 0   Unnamed: 0  6381 non-null   int64  \n",
      " 1   title       6381 non-null   object \n",
      " 2   directors   6381 non-null   object \n",
      " 3   actors      6381 non-null   object \n",
      " 4   plots       6381 non-null   object \n",
      " 5   genre       6381 non-null   object \n",
      " 6   runtime     6381 non-null   int64  \n",
      " 7   keywords    3980 non-null   object \n",
      " 8   등급          6381 non-null   object \n",
      " 9   개봉일         6381 non-null   object \n",
      " 10  국적          6381 non-null   object \n",
      " 11  screenCnt   6381 non-null   int64  \n",
      " 12  salesAcc    6381 non-null   float64\n",
      " 13  audiAcc     6381 non-null   int64  \n",
      "dtypes: float64(1), int64(4), object(9)\n",
      "memory usage: 698.0+ KB\n"
     ]
    }
   ],
   "source": [
    "df.info()"
   ]
  },
  {
   "cell_type": "code",
   "execution_count": 7,
   "metadata": {},
   "outputs": [
    {
     "data": {
      "text/plain": [
       "Unnamed: 0       0\n",
       "title            0\n",
       "directors        0\n",
       "actors           0\n",
       "plots            0\n",
       "genre            0\n",
       "runtime          0\n",
       "keywords      2401\n",
       "등급               0\n",
       "개봉일              0\n",
       "국적               0\n",
       "screenCnt        0\n",
       "salesAcc         0\n",
       "audiAcc          0\n",
       "dtype: int64"
      ]
     },
     "execution_count": 7,
     "metadata": {},
     "output_type": "execute_result"
    }
   ],
   "source": [
    "df.isnull().sum()"
   ]
  },
  {
   "cell_type": "code",
   "execution_count": 8,
   "metadata": {},
   "outputs": [
    {
     "data": {
      "text/html": [
       "<div>\n",
       "<style scoped>\n",
       "    .dataframe tbody tr th:only-of-type {\n",
       "        vertical-align: middle;\n",
       "    }\n",
       "\n",
       "    .dataframe tbody tr th {\n",
       "        vertical-align: top;\n",
       "    }\n",
       "\n",
       "    .dataframe thead th {\n",
       "        text-align: right;\n",
       "    }\n",
       "</style>\n",
       "<table border=\"1\" class=\"dataframe\">\n",
       "  <thead>\n",
       "    <tr style=\"text-align: right;\">\n",
       "      <th></th>\n",
       "      <th>Unnamed: 0</th>\n",
       "      <th>runtime</th>\n",
       "      <th>screenCnt</th>\n",
       "      <th>salesAcc</th>\n",
       "      <th>audiAcc</th>\n",
       "    </tr>\n",
       "  </thead>\n",
       "  <tbody>\n",
       "    <tr>\n",
       "      <th>count</th>\n",
       "      <td>6381.000000</td>\n",
       "      <td>6381.00000</td>\n",
       "      <td>6381.000000</td>\n",
       "      <td>6.381000e+03</td>\n",
       "      <td>6.381000e+03</td>\n",
       "    </tr>\n",
       "    <tr>\n",
       "      <th>mean</th>\n",
       "      <td>3190.000000</td>\n",
       "      <td>101.66792</td>\n",
       "      <td>183.968970</td>\n",
       "      <td>2.346510e+09</td>\n",
       "      <td>2.932971e+05</td>\n",
       "    </tr>\n",
       "    <tr>\n",
       "      <th>std</th>\n",
       "      <td>1842.180366</td>\n",
       "      <td>20.24847</td>\n",
       "      <td>313.387392</td>\n",
       "      <td>9.069067e+09</td>\n",
       "      <td>1.126454e+06</td>\n",
       "    </tr>\n",
       "    <tr>\n",
       "      <th>min</th>\n",
       "      <td>0.000000</td>\n",
       "      <td>40.00000</td>\n",
       "      <td>0.000000</td>\n",
       "      <td>0.000000e+00</td>\n",
       "      <td>0.000000e+00</td>\n",
       "    </tr>\n",
       "    <tr>\n",
       "      <th>25%</th>\n",
       "      <td>1595.000000</td>\n",
       "      <td>89.00000</td>\n",
       "      <td>6.000000</td>\n",
       "      <td>3.565000e+06</td>\n",
       "      <td>5.050000e+02</td>\n",
       "    </tr>\n",
       "    <tr>\n",
       "      <th>50%</th>\n",
       "      <td>3190.000000</td>\n",
       "      <td>99.00000</td>\n",
       "      <td>42.000000</td>\n",
       "      <td>3.819796e+07</td>\n",
       "      <td>5.045000e+03</td>\n",
       "    </tr>\n",
       "    <tr>\n",
       "      <th>75%</th>\n",
       "      <td>4785.000000</td>\n",
       "      <td>113.00000</td>\n",
       "      <td>226.000000</td>\n",
       "      <td>3.935495e+08</td>\n",
       "      <td>5.164600e+04</td>\n",
       "    </tr>\n",
       "    <tr>\n",
       "      <th>max</th>\n",
       "      <td>6380.000000</td>\n",
       "      <td>328.00000</td>\n",
       "      <td>2948.000000</td>\n",
       "      <td>1.400000e+11</td>\n",
       "      <td>1.761368e+07</td>\n",
       "    </tr>\n",
       "  </tbody>\n",
       "</table>\n",
       "</div>"
      ],
      "text/plain": [
       "        Unnamed: 0     runtime    screenCnt      salesAcc       audiAcc\n",
       "count  6381.000000  6381.00000  6381.000000  6.381000e+03  6.381000e+03\n",
       "mean   3190.000000   101.66792   183.968970  2.346510e+09  2.932971e+05\n",
       "std    1842.180366    20.24847   313.387392  9.069067e+09  1.126454e+06\n",
       "min       0.000000    40.00000     0.000000  0.000000e+00  0.000000e+00\n",
       "25%    1595.000000    89.00000     6.000000  3.565000e+06  5.050000e+02\n",
       "50%    3190.000000    99.00000    42.000000  3.819796e+07  5.045000e+03\n",
       "75%    4785.000000   113.00000   226.000000  3.935495e+08  5.164600e+04\n",
       "max    6380.000000   328.00000  2948.000000  1.400000e+11  1.761368e+07"
      ]
     },
     "execution_count": 8,
     "metadata": {},
     "output_type": "execute_result"
    }
   ],
   "source": [
    "df.describe()"
   ]
  },
  {
   "cell_type": "code",
   "execution_count": 9,
   "metadata": {},
   "outputs": [],
   "source": [
    "df = df.drop(['Unnamed: 0'], axis=1)"
   ]
  },
  {
   "cell_type": "code",
   "execution_count": 196,
   "metadata": {},
   "outputs": [
    {
     "data": {
      "text/plain": [
       "Index(['title', 'directors', 'actors', 'plots', 'genre', 'runtime', 'keywords',\n",
       "       '개봉일', '국적', 'screenCnt', 'salesAcc', 'audiAcc', '등급_int', '등급_12세관람가',\n",
       "       '등급_12세이상관람가', '등급_15세이상관람가', '등급_전체관람가', '등급_청소년관람불가'],\n",
       "      dtype='object')"
      ]
     },
     "execution_count": 196,
     "metadata": {},
     "output_type": "execute_result"
    }
   ],
   "source": [
    "df.columns"
   ]
  },
  {
   "cell_type": "code",
   "execution_count": 10,
   "metadata": {},
   "outputs": [],
   "source": [
    "import seaborn as sns\n",
    "from matplotlib import pyplot as plt"
   ]
  },
  {
   "cell_type": "code",
   "execution_count": 198,
   "metadata": {
    "scrolled": true
   },
   "outputs": [
    {
     "data": {
      "text/plain": [
       "<seaborn.axisgrid.PairGrid at 0x1cb107d0eb0>"
      ]
     },
     "execution_count": 198,
     "metadata": {},
     "output_type": "execute_result"
    },
    {
     "data": {
      "image/png": "[encoded data removed]",
      "text/plain": [
       "<Figure size 720x720 with 20 Axes>"
      ]
     },
     "metadata": {
      "needs_background": "light"
     },
     "output_type": "display_data"
    }
   ],
   "source": [
    "sns.pairplot(df[['screenCnt','audiAcc','salesAcc','runtime',]])"
   ]
  },
  {
   "cell_type": "code",
   "execution_count": 12,
   "metadata": {},
   "outputs": [
    {
     "data": {
      "text/plain": [
       "328"
      ]
     },
     "execution_count": 12,
     "metadata": {},
     "output_type": "execute_result"
    }
   ],
   "source": [
    "df['runtime'].max()"
   ]
  },
  {
   "cell_type": "code",
   "execution_count": 13,
   "metadata": {},
   "outputs": [
    {
     "data": {
      "text/html": [
       "<div>\n",
       "<style scoped>\n",
       "    .dataframe tbody tr th:only-of-type {\n",
       "        vertical-align: middle;\n",
       "    }\n",
       "\n",
       "    .dataframe tbody tr th {\n",
       "        vertical-align: top;\n",
       "    }\n",
       "\n",
       "    .dataframe thead th {\n",
       "        text-align: right;\n",
       "    }\n",
       "</style>\n",
       "<table border=\"1\" class=\"dataframe\">\n",
       "  <thead>\n",
       "    <tr style=\"text-align: right;\">\n",
       "      <th></th>\n",
       "      <th>title</th>\n",
       "      <th>directors</th>\n",
       "      <th>actors</th>\n",
       "      <th>plots</th>\n",
       "      <th>genre</th>\n",
       "      <th>runtime</th>\n",
       "      <th>keywords</th>\n",
       "      <th>등급</th>\n",
       "      <th>개봉일</th>\n",
       "      <th>국적</th>\n",
       "      <th>screenCnt</th>\n",
       "      <th>salesAcc</th>\n",
       "      <th>audiAcc</th>\n",
       "    </tr>\n",
       "  </thead>\n",
       "  <tbody>\n",
       "    <tr>\n",
       "      <th>3494</th>\n",
       "      <td>해피 아워</td>\n",
       "      <td>하마구치 류스케</td>\n",
       "      <td>다나카 사치에, 키쿠치 하즈키, 미하라 마이코, 카와무라 리라</td>\n",
       "      <td>'키네마 준보' 2015년 베스트 3위에 선정된 작품으로 5시간 17분이라는 긴 러...</td>\n",
       "      <td>드라마</td>\n",
       "      <td>328</td>\n",
       "      <td>30대여성,일상,이혼</td>\n",
       "      <td>15세이상관람가</td>\n",
       "      <td>2021-12-09</td>\n",
       "      <td>일본</td>\n",
       "      <td>15</td>\n",
       "      <td>52773500.0</td>\n",
       "      <td>3170</td>\n",
       "    </tr>\n",
       "  </tbody>\n",
       "</table>\n",
       "</div>"
      ],
      "text/plain": [
       "      title directors                              actors  \\\n",
       "3494  해피 아워  하마구치 류스케  다나카 사치에, 키쿠치 하즈키, 미하라 마이코, 카와무라 리라   \n",
       "\n",
       "                                                  plots genre  runtime  \\\n",
       "3494  '키네마 준보' 2015년 베스트 3위에 선정된 작품으로 5시간 17분이라는 긴 러...   드라마      328   \n",
       "\n",
       "         keywords        등급         개봉일  국적  screenCnt    salesAcc  audiAcc  \n",
       "3494  30대여성,일상,이혼  15세이상관람가  2021-12-09  일본         15  52773500.0     3170  "
      ]
     },
     "execution_count": 13,
     "metadata": {},
     "output_type": "execute_result"
    }
   ],
   "source": [
    "df[df['runtime']==328.0]"
   ]
  },
  {
   "cell_type": "code",
   "execution_count": 14,
   "metadata": {},
   "outputs": [
    {
     "data": {
      "text/plain": [
       "(array([1843.,  529.,  499.,  267.,  215.,  201.,  115.,  107.,   81.,\n",
       "          97.]),\n",
       " array([  0.,  10.,  20.,  30.,  40.,  50.,  60.,  70.,  80.,  90., 100.]),\n",
       " <BarContainer object of 10 artists>)"
      ]
     },
     "execution_count": 14,
     "metadata": {},
     "output_type": "execute_result"
    },
    {
     "data": {
      "image/png": "[encoded data removed]",
      "text/plain": [
       "<Figure size 432x288 with 1 Axes>"
      ]
     },
     "metadata": {
      "needs_background": "light"
     },
     "output_type": "display_data"
    }
   ],
   "source": [
    "plt.hist(df['screenCnt'], range=[0,100]) # screen 1개인것들 빼기, 10개 이하인 영화들이 1700개가 넘음"
   ]
  },
  {
   "cell_type": "code",
   "execution_count": 15,
   "metadata": {},
   "outputs": [
    {
     "data": {
      "text/plain": [
       "(array([1087.,  656.,  156.,  210.,  166.,  334.,  142.,   88.,  104.,\n",
       "         115.]),\n",
       " array([ 0. ,  3.6,  7.2, 10.8, 14.4, 18. , 21.6, 25.2, 28.8, 32.4, 36. ]),\n",
       " <BarContainer object of 10 artists>)"
      ]
     },
     "execution_count": 15,
     "metadata": {},
     "output_type": "execute_result"
    },
    {
     "data": {
      "image/png": "[encoded data removed]",
      "text/plain": [
       "<Figure size 432x288 with 1 Axes>"
      ]
     },
     "metadata": {
      "needs_background": "light"
     },
     "output_type": "display_data"
    }
   ],
   "source": [
    "plt.hist(df['screenCnt'], range=[0,36])"
   ]
  },
  {
   "cell_type": "code",
   "execution_count": 16,
   "metadata": {},
   "outputs": [
    {
     "data": {
      "text/plain": [
       "(array([ 10., 887., 111.,  79., 112., 378., 104.,  62.,  51., 105.]),\n",
       " array([ 0.,  1.,  2.,  3.,  4.,  5.,  6.,  7.,  8.,  9., 10.]),\n",
       " <BarContainer object of 10 artists>)"
      ]
     },
     "execution_count": 16,
     "metadata": {},
     "output_type": "execute_result"
    },
    {
     "data": {
      "image/png": "[encoded data removed]",
      "text/plain": [
       "<Figure size 432x288 with 1 Axes>"
      ]
     },
     "metadata": {
      "needs_background": "light"
     },
     "output_type": "display_data"
    }
   ],
   "source": [
    "plt.hist(df['screenCnt'], range=[0,10])"
   ]
  },
  {
   "cell_type": "code",
   "execution_count": 17,
   "metadata": {
    "scrolled": true
   },
   "outputs": [
    {
     "data": {
      "text/plain": [
       "(array([1.760e+02, 2.735e+03, 2.851e+03, 5.360e+02, 5.900e+01, 1.500e+01,\n",
       "        3.000e+00, 4.000e+00, 1.000e+00, 1.000e+00]),\n",
       " array([ 40. ,  68.8,  97.6, 126.4, 155.2, 184. , 212.8, 241.6, 270.4,\n",
       "        299.2, 328. ]),\n",
       " <BarContainer object of 10 artists>)"
      ]
     },
     "execution_count": 17,
     "metadata": {},
     "output_type": "execute_result"
    },
    {
     "data": {
      "image/png": "[encoded data removed]",
      "text/plain": [
       "<Figure size 432x288 with 1 Axes>"
      ]
     },
     "metadata": {
      "needs_background": "light"
     },
     "output_type": "display_data"
    }
   ],
   "source": [
    "plt.hist(df['runtime'])"
   ]
  },
  {
   "cell_type": "code",
   "execution_count": null,
   "metadata": {},
   "outputs": [],
   "source": []
  },
  {
   "cell_type": "code",
   "execution_count": null,
   "metadata": {},
   "outputs": [],
   "source": []
  },
  {
   "cell_type": "code",
   "execution_count": 136,
   "metadata": {},
   "outputs": [],
   "source": [
    "df_screen= df.drop(df[df['screenCnt'] < 10].index)"
   ]
  },
  {
   "cell_type": "code",
   "execution_count": 137,
   "metadata": {
    "scrolled": true
   },
   "outputs": [
    {
     "data": {
      "text/html": [
       "<div>\n",
       "<style scoped>\n",
       "    .dataframe tbody tr th:only-of-type {\n",
       "        vertical-align: middle;\n",
       "    }\n",
       "\n",
       "    .dataframe tbody tr th {\n",
       "        vertical-align: top;\n",
       "    }\n",
       "\n",
       "    .dataframe thead th {\n",
       "        text-align: right;\n",
       "    }\n",
       "</style>\n",
       "<table border=\"1\" class=\"dataframe\">\n",
       "  <thead>\n",
       "    <tr style=\"text-align: right;\">\n",
       "      <th></th>\n",
       "      <th>title</th>\n",
       "      <th>directors</th>\n",
       "      <th>actors</th>\n",
       "      <th>plots</th>\n",
       "      <th>genre</th>\n",
       "      <th>runtime</th>\n",
       "      <th>keywords</th>\n",
       "      <th>등급</th>\n",
       "      <th>개봉일</th>\n",
       "      <th>국적</th>\n",
       "      <th>screenCnt</th>\n",
       "      <th>salesAcc</th>\n",
       "      <th>audiAcc</th>\n",
       "    </tr>\n",
       "  </thead>\n",
       "  <tbody>\n",
       "    <tr>\n",
       "      <th>1</th>\n",
       "      <td>물괴</td>\n",
       "      <td>허종호</td>\n",
       "      <td>김명민, 김인권, 혜리, 최우식, 이경영, 박희순, 박성웅, 이도경, 김중희, 이규...</td>\n",
       "      <td>“인왕산에 흉악한 짐승이 나타나 사람을 해쳤다 하옵니다.그것을 두고 듣지도 보지도 ...</td>\n",
       "      <td>액션</td>\n",
       "      <td>105</td>\n",
       "      <td>조선시대,전염병,괴물,시대극/사극,사투</td>\n",
       "      <td>15세이상관람가</td>\n",
       "      <td>2018-09-12</td>\n",
       "      <td>한국</td>\n",
       "      <td>1183</td>\n",
       "      <td>6.104165e+09</td>\n",
       "      <td>723414</td>\n",
       "    </tr>\n",
       "    <tr>\n",
       "      <th>2</th>\n",
       "      <td>싱글라이더</td>\n",
       "      <td>이주영</td>\n",
       "      <td>이병헌, 공효진, 안소희, 잭 캠벨, 양유진, 애니카 화이틀리, 케이 에크룬드, 백...</td>\n",
       "      <td>그가 사라졌다그에게서 모든 것이 사라졌다증권회사의 지점장 강재훈(이병헌). 안정된 ...</td>\n",
       "      <td>드라마</td>\n",
       "      <td>97</td>\n",
       "      <td>기러기아빠,호주,오스트레일리아,반전,반전영화,동물</td>\n",
       "      <td>15세이상관람가</td>\n",
       "      <td>2017-02-22</td>\n",
       "      <td>한국</td>\n",
       "      <td>576</td>\n",
       "      <td>2.685519e+09</td>\n",
       "      <td>351276</td>\n",
       "    </tr>\n",
       "    <tr>\n",
       "      <th>3</th>\n",
       "      <td>리즈와 파랑새</td>\n",
       "      <td>야마다 나오코</td>\n",
       "      <td>타네자키 아츠미, 토야마 나오, 혼다 미유, 후지무라 코노미, 야마오카 유리</td>\n",
       "      <td>“너에겐 날개가 있고, 끝없이 펼쳐진 하늘도 있어”  늘 혼자였던 ‘리즈’ 앞에 어...</td>\n",
       "      <td>애니메이션</td>\n",
       "      <td>90</td>\n",
       "      <td>십대소녀,단짝친구,외톨이,고3,합주,졸업반,마지막 연주</td>\n",
       "      <td>전체관람가</td>\n",
       "      <td>2018-10-09</td>\n",
       "      <td>일본</td>\n",
       "      <td>214</td>\n",
       "      <td>1.741404e+08</td>\n",
       "      <td>21153</td>\n",
       "    </tr>\n",
       "    <tr>\n",
       "      <th>5</th>\n",
       "      <td>툴리</td>\n",
       "      <td>제이슨 라이트먼</td>\n",
       "      <td>샤를리즈 테론, 맥켄지 데이비스, 마크 듀플래스, 론 리빙스턴, 엘피나 룩</td>\n",
       "      <td>“아이만이 아니에요, 당신을 돌보러 왔어요”‘지금’의 ‘마를로’에게 찾아온 가장 소...</td>\n",
       "      <td>드라마</td>\n",
       "      <td>95</td>\n",
       "      <td>산후우울증,육아 스트레스,유모,분열된자아</td>\n",
       "      <td>15세이상관람가</td>\n",
       "      <td>2018-11-22</td>\n",
       "      <td>캐나다</td>\n",
       "      <td>161</td>\n",
       "      <td>3.024830e+08</td>\n",
       "      <td>37241</td>\n",
       "    </tr>\n",
       "    <tr>\n",
       "      <th>6</th>\n",
       "      <td>허스토리</td>\n",
       "      <td>민규동</td>\n",
       "      <td>김희애, 김해숙, 예수정, 문숙, 이용녀, 김선영, 김준한, 이유영, 이지하, 이용...</td>\n",
       "      <td>이겨야죠! 이겨야 할매들 분이 안풀리겠습니까? 1992~1998 6년의 기간, 2...</td>\n",
       "      <td>드라마</td>\n",
       "      <td>121</td>\n",
       "      <td>종군위안부,위안부,일본군위안부피해자,실화바탕,재판,관부재판,정신대,정신대할머니,법정...</td>\n",
       "      <td>12세이상관람가</td>\n",
       "      <td>2018-06-27</td>\n",
       "      <td>한국</td>\n",
       "      <td>696</td>\n",
       "      <td>2.521026e+09</td>\n",
       "      <td>336822</td>\n",
       "    </tr>\n",
       "    <tr>\n",
       "      <th>...</th>\n",
       "      <td>...</td>\n",
       "      <td>...</td>\n",
       "      <td>...</td>\n",
       "      <td>...</td>\n",
       "      <td>...</td>\n",
       "      <td>...</td>\n",
       "      <td>...</td>\n",
       "      <td>...</td>\n",
       "      <td>...</td>\n",
       "      <td>...</td>\n",
       "      <td>...</td>\n",
       "      <td>...</td>\n",
       "      <td>...</td>\n",
       "    </tr>\n",
       "    <tr>\n",
       "      <th>6371</th>\n",
       "      <td>헝그리 하트</td>\n",
       "      <td>사베리오 코스탄조</td>\n",
       "      <td>애덤 드라이버, 알바 로르와처, 로베르타 멕스웰, 알 로페</td>\n",
       "      <td>뉴욕에서 만난 미국 남자 주드와 이탈리아 여자 미나. 격렬한 연애, 그 후의 결혼과...</td>\n",
       "      <td>드라마</td>\n",
       "      <td>112</td>\n",
       "      <td>소설원작,이탈리아소설원작,뉴욕</td>\n",
       "      <td>15세이상관람가</td>\n",
       "      <td>2016-06-30</td>\n",
       "      <td>이탈리아</td>\n",
       "      <td>15</td>\n",
       "      <td>1.732680e+07</td>\n",
       "      <td>2398</td>\n",
       "    </tr>\n",
       "    <tr>\n",
       "      <th>6372</th>\n",
       "      <td>먹이사슬</td>\n",
       "      <td>한동호</td>\n",
       "      <td>윤설희, 손지완</td>\n",
       "      <td>피부관리사 인희(윤설희)와 고교 동창생으로 만나 일찍 결혼생활을 시작한 남혁(김민혁...</td>\n",
       "      <td>멜로/로맨스</td>\n",
       "      <td>92</td>\n",
       "      <td>NaN</td>\n",
       "      <td>청소년관람불가</td>\n",
       "      <td>2014-09-17</td>\n",
       "      <td>한국</td>\n",
       "      <td>20</td>\n",
       "      <td>1.022400e+07</td>\n",
       "      <td>2070</td>\n",
       "    </tr>\n",
       "    <tr>\n",
       "      <th>6374</th>\n",
       "      <td>토마스와 친구들: 잃어버린 왕관</td>\n",
       "      <td>롭 실베스트리</td>\n",
       "      <td>마크 모라한, 벤 스몰, 키스 위컴, 데이비드 베덱라</td>\n",
       "      <td>전설의 왕관과 사라진 친구는 어디에?!오랜 여행을 마치고 소도어섬으로 돌아온 로버트...</td>\n",
       "      <td>애니메이션</td>\n",
       "      <td>62</td>\n",
       "      <td>NaN</td>\n",
       "      <td>전체관람가</td>\n",
       "      <td>2014-11-13</td>\n",
       "      <td>영국</td>\n",
       "      <td>110</td>\n",
       "      <td>1.104827e+08</td>\n",
       "      <td>15202</td>\n",
       "    </tr>\n",
       "    <tr>\n",
       "      <th>6375</th>\n",
       "      <td>포세이돈</td>\n",
       "      <td>마크 래스터</td>\n",
       "      <td>브라이언 크라우즈, 앤 맥다니엘스</td>\n",
       "      <td>바다 속에 잠들어 있는 유물을 찾아 간 슬레이트. 위험천만한 블루홀에서 스노클링을 ...</td>\n",
       "      <td>SF</td>\n",
       "      <td>79</td>\n",
       "      <td>NaN</td>\n",
       "      <td>15세이상관람가</td>\n",
       "      <td>2014-09-18</td>\n",
       "      <td>미국</td>\n",
       "      <td>20</td>\n",
       "      <td>9.524000e+06</td>\n",
       "      <td>3576</td>\n",
       "    </tr>\n",
       "    <tr>\n",
       "      <th>6380</th>\n",
       "      <td>터널 3D</td>\n",
       "      <td>박규택</td>\n",
       "      <td>정유미, 연우진, 송재림, 정시연, 손병호, 이시원, 이재희, 도희, 우희, 정진,...</td>\n",
       "      <td>재벌 2세인 기철의 권유로 최고급 리조트 여행을 떠난 5명.기철, 영민, 유경, 세...</td>\n",
       "      <td>공포(호러)</td>\n",
       "      <td>86</td>\n",
       "      <td>실종,터널,3D</td>\n",
       "      <td>15세이상관람가</td>\n",
       "      <td>2014-08-20</td>\n",
       "      <td>한국</td>\n",
       "      <td>264</td>\n",
       "      <td>6.208740e+08</td>\n",
       "      <td>80989</td>\n",
       "    </tr>\n",
       "  </tbody>\n",
       "</table>\n",
       "<p>4538 rows × 13 columns</p>\n",
       "</div>"
      ],
      "text/plain": [
       "                  title  directors  \\\n",
       "1                    물괴        허종호   \n",
       "2                 싱글라이더        이주영   \n",
       "3               리즈와 파랑새    야마다 나오코   \n",
       "5                    툴리   제이슨 라이트먼   \n",
       "6                  허스토리        민규동   \n",
       "...                 ...        ...   \n",
       "6371             헝그리 하트  사베리오 코스탄조   \n",
       "6372               먹이사슬        한동호   \n",
       "6374  토마스와 친구들: 잃어버린 왕관    롭 실베스트리   \n",
       "6375               포세이돈     마크 래스터   \n",
       "6380              터널 3D        박규택   \n",
       "\n",
       "                                                 actors  \\\n",
       "1     김명민, 김인권, 혜리, 최우식, 이경영, 박희순, 박성웅, 이도경, 김중희, 이규...   \n",
       "2     이병헌, 공효진, 안소희, 잭 캠벨, 양유진, 애니카 화이틀리, 케이 에크룬드, 백...   \n",
       "3            타네자키 아츠미, 토야마 나오, 혼다 미유, 후지무라 코노미, 야마오카 유리   \n",
       "5             샤를리즈 테론, 맥켄지 데이비스, 마크 듀플래스, 론 리빙스턴, 엘피나 룩   \n",
       "6     김희애, 김해숙, 예수정, 문숙, 이용녀, 김선영, 김준한, 이유영, 이지하, 이용...   \n",
       "...                                                 ...   \n",
       "6371                   애덤 드라이버, 알바 로르와처, 로베르타 멕스웰, 알 로페   \n",
       "6372                                           윤설희, 손지완   \n",
       "6374                      마크 모라한, 벤 스몰, 키스 위컴, 데이비드 베덱라   \n",
       "6375                                 브라이언 크라우즈, 앤 맥다니엘스   \n",
       "6380  정유미, 연우진, 송재림, 정시연, 손병호, 이시원, 이재희, 도희, 우희, 정진,...   \n",
       "\n",
       "                                                  plots   genre  runtime  \\\n",
       "1     “인왕산에 흉악한 짐승이 나타나 사람을 해쳤다 하옵니다.그것을 두고 듣지도 보지도 ...      액션      105   \n",
       "2     그가 사라졌다그에게서 모든 것이 사라졌다증권회사의 지점장 강재훈(이병헌). 안정된 ...     드라마       97   \n",
       "3     “너에겐 날개가 있고, 끝없이 펼쳐진 하늘도 있어”  늘 혼자였던 ‘리즈’ 앞에 어...   애니메이션       90   \n",
       "5     “아이만이 아니에요, 당신을 돌보러 왔어요”‘지금’의 ‘마를로’에게 찾아온 가장 소...     드라마       95   \n",
       "6      이겨야죠! 이겨야 할매들 분이 안풀리겠습니까? 1992~1998 6년의 기간, 2...     드라마      121   \n",
       "...                                                 ...     ...      ...   \n",
       "6371  뉴욕에서 만난 미국 남자 주드와 이탈리아 여자 미나. 격렬한 연애, 그 후의 결혼과...     드라마      112   \n",
       "6372  피부관리사 인희(윤설희)와 고교 동창생으로 만나 일찍 결혼생활을 시작한 남혁(김민혁...  멜로/로맨스       92   \n",
       "6374  전설의 왕관과 사라진 친구는 어디에?!오랜 여행을 마치고 소도어섬으로 돌아온 로버트...   애니메이션       62   \n",
       "6375  바다 속에 잠들어 있는 유물을 찾아 간 슬레이트. 위험천만한 블루홀에서 스노클링을 ...      SF       79   \n",
       "6380  재벌 2세인 기철의 권유로 최고급 리조트 여행을 떠난 5명.기철, 영민, 유경, 세...  공포(호러)       86   \n",
       "\n",
       "                                               keywords        등급         개봉일  \\\n",
       "1                                 조선시대,전염병,괴물,시대극/사극,사투  15세이상관람가  2018-09-12   \n",
       "2                           기러기아빠,호주,오스트레일리아,반전,반전영화,동물  15세이상관람가  2017-02-22   \n",
       "3                        십대소녀,단짝친구,외톨이,고3,합주,졸업반,마지막 연주     전체관람가  2018-10-09   \n",
       "5                                산후우울증,육아 스트레스,유모,분열된자아  15세이상관람가  2018-11-22   \n",
       "6     종군위안부,위안부,일본군위안부피해자,실화바탕,재판,관부재판,정신대,정신대할머니,법정...  12세이상관람가  2018-06-27   \n",
       "...                                                 ...       ...         ...   \n",
       "6371                                   소설원작,이탈리아소설원작,뉴욕  15세이상관람가  2016-06-30   \n",
       "6372                                                NaN   청소년관람불가  2014-09-17   \n",
       "6374                                                NaN     전체관람가  2014-11-13   \n",
       "6375                                                NaN  15세이상관람가  2014-09-18   \n",
       "6380                                           실종,터널,3D  15세이상관람가  2014-08-20   \n",
       "\n",
       "        국적  screenCnt      salesAcc  audiAcc  \n",
       "1       한국       1183  6.104165e+09   723414  \n",
       "2       한국        576  2.685519e+09   351276  \n",
       "3       일본        214  1.741404e+08    21153  \n",
       "5      캐나다        161  3.024830e+08    37241  \n",
       "6       한국        696  2.521026e+09   336822  \n",
       "...    ...        ...           ...      ...  \n",
       "6371  이탈리아         15  1.732680e+07     2398  \n",
       "6372    한국         20  1.022400e+07     2070  \n",
       "6374    영국        110  1.104827e+08    15202  \n",
       "6375    미국         20  9.524000e+06     3576  \n",
       "6380    한국        264  6.208740e+08    80989  \n",
       "\n",
       "[4538 rows x 13 columns]"
      ]
     },
     "execution_count": 137,
     "metadata": {},
     "output_type": "execute_result"
    }
   ],
   "source": [
    "df_screen"
   ]
  },
  {
   "cell_type": "code",
   "execution_count": 60,
   "metadata": {
    "scrolled": true
   },
   "outputs": [
    {
     "data": {
      "text/plain": [
       "{'whiskers': [<matplotlib.lines.Line2D at 0x1cb0e00ce20>,\n",
       "  <matplotlib.lines.Line2D at 0x1cb0e01c1c0>,\n",
       "  <matplotlib.lines.Line2D at 0x1cb0e029580>,\n",
       "  <matplotlib.lines.Line2D at 0x1cb0e0298b0>,\n",
       "  <matplotlib.lines.Line2D at 0x1cb0e076c10>,\n",
       "  <matplotlib.lines.Line2D at 0x1cb0e076f40>],\n",
       " 'caps': [<matplotlib.lines.Line2D at 0x1cb0e01c520>,\n",
       "  <matplotlib.lines.Line2D at 0x1cb0e01c880>,\n",
       "  <matplotlib.lines.Line2D at 0x1cb0e029be0>,\n",
       "  <matplotlib.lines.Line2D at 0x1cb0e029f10>,\n",
       "  <matplotlib.lines.Line2D at 0x1cb0e0822b0>,\n",
       "  <matplotlib.lines.Line2D at 0x1cb0e0825e0>],\n",
       " 'boxes': [<matplotlib.lines.Line2D at 0x1cb0e00cac0>,\n",
       "  <matplotlib.lines.Line2D at 0x1cb0e029250>,\n",
       "  <matplotlib.lines.Line2D at 0x1cb0e0768e0>],\n",
       " 'medians': [<matplotlib.lines.Line2D at 0x1cb0e01cbb0>,\n",
       "  <matplotlib.lines.Line2D at 0x1cb0e076280>,\n",
       "  <matplotlib.lines.Line2D at 0x1cb0e082910>],\n",
       " 'fliers': [<matplotlib.lines.Line2D at 0x1cb0e01cee0>,\n",
       "  <matplotlib.lines.Line2D at 0x1cb0e0765b0>,\n",
       "  <matplotlib.lines.Line2D at 0x1cb0e082c40>],\n",
       " 'means': []}"
      ]
     },
     "execution_count": 60,
     "metadata": {},
     "output_type": "execute_result"
    },
    {
     "data": {
      "image/png": "[encoded data removed]",
      "text/plain": [
       "<Figure size 432x288 with 1 Axes>"
      ]
     },
     "metadata": {
      "needs_background": "light"
     },
     "output_type": "display_data"
    }
   ],
   "source": [
    "plt.boxplot()"
   ]
  },
  {
   "cell_type": "code",
   "execution_count": 84,
   "metadata": {},
   "outputs": [],
   "source": [
    "def outlier_iqr(data, column): \n",
    "\n",
    "    # lower, upper 글로벌 변수 선언하기     \n",
    "    global lower, upper    \n",
    "    \n",
    "    # 4분위수 기준 지정하기     \n",
    "    q25, q75 = np.quantile(data[column], 0.25), np.quantile(data[column], 0.75)          \n",
    "    \n",
    "    # IQR 계산하기     \n",
    "    iqr = q75 - q25    \n",
    "    \n",
    "    # outlier cutoff 계산하기     \n",
    "    cut_off = iqr * 1.5          \n",
    "    \n",
    "    # lower와 upper bound 값 구하기     \n",
    "    lower, upper = q25 - cut_off, q75 + cut_off     \n",
    "    \n",
    "    print('IQR은',iqr, '이다.')     \n",
    "    print('lower bound 값은', lower, '이다.')     \n",
    "    print('upper bound 값은', upper, '이다.')    \n",
    "    \n",
    "    # 1사 분위와 4사 분위에 속해있는 데이터 각각 저장하기     \n",
    "    data1 = data[data[column] > upper]     \n",
    "    data2 = data[data[column] < lower]    \n",
    "    print(data1)\n",
    "    print(data2)\n",
    "    # 이상치 총 개수 구하기\n",
    "    return print('총 이상치 개수는', data1.shape[0] + data2.shape[0], '이다.')"
   ]
  },
  {
   "cell_type": "code",
   "execution_count": 89,
   "metadata": {},
   "outputs": [],
   "source": [
    "q25, q75 = np.quantile(df_int['screenCnt'], 0.25), np.quantile(df_int['screenCnt'], 0.75)"
   ]
  },
  {
   "cell_type": "code",
   "execution_count": 90,
   "metadata": {},
   "outputs": [
    {
     "data": {
      "text/plain": [
       "6.0"
      ]
     },
     "execution_count": 90,
     "metadata": {},
     "output_type": "execute_result"
    }
   ],
   "source": [
    "q25"
   ]
  },
  {
   "cell_type": "code",
   "execution_count": 91,
   "metadata": {
    "scrolled": true
   },
   "outputs": [
    {
     "data": {
      "text/plain": [
       "226.0"
      ]
     },
     "execution_count": 91,
     "metadata": {},
     "output_type": "execute_result"
    }
   ],
   "source": [
    "q75 "
   ]
  },
  {
   "cell_type": "code",
   "execution_count": 93,
   "metadata": {},
   "outputs": [
    {
     "data": {
      "text/plain": [
       "220.0"
      ]
     },
     "execution_count": 93,
     "metadata": {},
     "output_type": "execute_result"
    }
   ],
   "source": [
    "qr = q75 - q25  \n",
    "qr"
   ]
  },
  {
   "cell_type": "code",
   "execution_count": 95,
   "metadata": {},
   "outputs": [
    {
     "data": {
      "text/plain": [
       "330.0"
      ]
     },
     "execution_count": 95,
     "metadata": {},
     "output_type": "execute_result"
    }
   ],
   "source": [
    "cut_off = qr * 1.5 \n",
    "cut_off"
   ]
  },
  {
   "cell_type": "code",
   "execution_count": 87,
   "metadata": {
    "scrolled": true
   },
   "outputs": [
    {
     "data": {
      "text/plain": [
       "0"
      ]
     },
     "execution_count": 87,
     "metadata": {},
     "output_type": "execute_result"
    }
   ],
   "source": [
    "df_int['screenCnt'].min()"
   ]
  },
  {
   "cell_type": "code",
   "execution_count": 110,
   "metadata": {},
   "outputs": [
    {
     "name": "stdout",
     "output_type": "stream",
     "text": [
      "IQR은 0.07462686567164178 이다.\n",
      "lower bound 값은 -0.10990502035278153 이다.\n",
      "upper bound 값은 0.1886024423337856 이다.\n",
      "      screenCnt  salesAcc   audiAcc\n",
      "1      0.401289  0.043601  0.041071\n",
      "2      0.195387  0.019182  0.019943\n",
      "6      0.236092  0.018007  0.019123\n",
      "19     0.294098  0.045096  0.043628\n",
      "21     0.327680  0.074849  0.076084\n",
      "...         ...       ...       ...\n",
      "6316   0.201493  0.055760  0.056060\n",
      "6319   0.342266  0.429811  0.440537\n",
      "6333   0.210651  0.052896  0.054229\n",
      "6334   0.293419  0.088887  0.085794\n",
      "6337   0.284261  0.473147  0.490911\n",
      "\n",
      "[638 rows x 3 columns]\n",
      "Empty DataFrame\n",
      "Columns: [screenCnt, salesAcc, audiAcc]\n",
      "Index: []\n",
      "총 이상치 개수는 638 이다.\n"
     ]
    }
   ],
   "source": [
    "outlier_iqr(df_int,'screenCnt')"
   ]
  },
  {
   "cell_type": "code",
   "execution_count": 75,
   "metadata": {},
   "outputs": [
    {
     "name": "stdout",
     "output_type": "stream",
     "text": [
      "IQR은 0.0027856035714285713 이다.\n",
      "lower bound 값은 -0.004152941071428571 이다.\n",
      "upper bound 값은 0.006989473214285714 이다.\n",
      "총 이상치 개수는 1191 이다.\n"
     ]
    }
   ],
   "source": [
    "outlier_iqr(df_int,'salesAcc')"
   ]
  },
  {
   "cell_type": "code",
   "execution_count": 76,
   "metadata": {
    "scrolled": true
   },
   "outputs": [
    {
     "name": "stdout",
     "output_type": "stream",
     "text": [
      "IQR은 0.0029034815094311343 이다.\n",
      "lower bound 값은 -0.004326551370690126 이다.\n",
      "upper bound 값은 0.007287374667034411 이다.\n",
      "총 이상치 개수는 1178 이다.\n"
     ]
    }
   ],
   "source": [
    "outlier_iqr(df_int,'audiAcc')"
   ]
  },
  {
   "cell_type": "code",
   "execution_count": 106,
   "metadata": {},
   "outputs": [
    {
     "name": "stdout",
     "output_type": "stream",
     "text": [
      "[0.58388855 3.18809673 1.25104507 ... 0.58069736 0.57112379 0.25539413]\n"
     ]
    }
   ],
   "source": [
    "from scipy import stats\n",
    "df_int_data_outlier= df_int.copy()\n",
    "z = np.abs(stats.zscore(df_int_data_outlier['screenCnt']))\n",
    "print(z)"
   ]
  },
  {
   "cell_type": "code",
   "execution_count": 116,
   "metadata": {
    "scrolled": true
   },
   "outputs": [
    {
     "name": "stdout",
     "output_type": "stream",
     "text": [
      "(array([   1,   36,   88,  142,  145,  174,  199,  208,  209,  220,  253,\n",
      "        330,  358,  411,  446,  455,  464,  466,  481,  508,  560,  565,\n",
      "        574,  576,  580,  648,  768,  779,  803,  812,  864,  873,  884,\n",
      "        887,  889,  982,  991,  996, 1001, 1008, 1062, 1089, 1094, 1245,\n",
      "       1263, 1275, 1303, 1320, 1365, 1412, 1426, 1430, 1526, 1650, 1729,\n",
      "       1759, 1763, 1767, 1792, 1822, 1844, 1871, 1878, 1881, 1904, 1962,\n",
      "       1971, 1974, 1991, 1993, 2015, 2056, 2088, 2104, 2154, 2178, 2183,\n",
      "       2199, 2228, 2257, 2258, 2313, 2407, 2413, 2424, 2425, 2451, 2458,\n",
      "       2470, 2475, 2505, 2517, 2543, 2551, 2563, 2630, 2705, 2720, 2742,\n",
      "       2763, 2791, 2832, 2872, 2937, 2945, 2971, 2978, 2981, 2995, 3042,\n",
      "       3048, 3063, 3076, 3093, 3107, 3119, 3124, 3134, 3148, 3198, 3209,\n",
      "       3232, 3253, 3287, 3291, 3304, 3313, 3326, 3346, 3386, 4169, 4301,\n",
      "       4306, 4333, 4445, 4600, 4701, 4703, 4808, 4847, 4932, 5010, 5030,\n",
      "       5167, 5172, 5217, 5236, 5293, 5391, 5579, 5702, 5837, 5961, 6207,\n",
      "       6314], dtype=int64),)\n"
     ]
    }
   ],
   "source": [
    "threshold = 3\n",
    "print(np.where(z > 3))"
   ]
  },
  {
   "cell_type": "code",
   "execution_count": 118,
   "metadata": {},
   "outputs": [
    {
     "data": {
      "text/html": [
       "<div>\n",
       "<style scoped>\n",
       "    .dataframe tbody tr th:only-of-type {\n",
       "        vertical-align: middle;\n",
       "    }\n",
       "\n",
       "    .dataframe tbody tr th {\n",
       "        vertical-align: top;\n",
       "    }\n",
       "\n",
       "    .dataframe thead th {\n",
       "        text-align: right;\n",
       "    }\n",
       "</style>\n",
       "<table border=\"1\" class=\"dataframe\">\n",
       "  <thead>\n",
       "    <tr style=\"text-align: right;\">\n",
       "      <th></th>\n",
       "      <th>screenCnt</th>\n",
       "      <th>salesAcc</th>\n",
       "      <th>audiAcc</th>\n",
       "    </tr>\n",
       "  </thead>\n",
       "  <tbody>\n",
       "    <tr>\n",
       "      <th>1</th>\n",
       "      <td>1183</td>\n",
       "      <td>6.104165e+09</td>\n",
       "      <td>723414</td>\n",
       "    </tr>\n",
       "    <tr>\n",
       "      <th>36</th>\n",
       "      <td>1453</td>\n",
       "      <td>1.387703e+10</td>\n",
       "      <td>1754375</td>\n",
       "    </tr>\n",
       "    <tr>\n",
       "      <th>88</th>\n",
       "      <td>1299</td>\n",
       "      <td>5.816558e+10</td>\n",
       "      <td>7231638</td>\n",
       "    </tr>\n",
       "    <tr>\n",
       "      <th>142</th>\n",
       "      <td>1138</td>\n",
       "      <td>3.581335e+09</td>\n",
       "      <td>416739</td>\n",
       "    </tr>\n",
       "    <tr>\n",
       "      <th>145</th>\n",
       "      <td>1176</td>\n",
       "      <td>1.809354e+10</td>\n",
       "      <td>2359174</td>\n",
       "    </tr>\n",
       "    <tr>\n",
       "      <th>...</th>\n",
       "      <td>...</td>\n",
       "      <td>...</td>\n",
       "      <td>...</td>\n",
       "    </tr>\n",
       "    <tr>\n",
       "      <th>5702</th>\n",
       "      <td>1843</td>\n",
       "      <td>8.858259e+10</td>\n",
       "      <td>10494499</td>\n",
       "    </tr>\n",
       "    <tr>\n",
       "      <th>5837</th>\n",
       "      <td>1190</td>\n",
       "      <td>6.600545e+10</td>\n",
       "      <td>9134586</td>\n",
       "    </tr>\n",
       "    <tr>\n",
       "      <th>5961</th>\n",
       "      <td>1312</td>\n",
       "      <td>3.486906e+10</td>\n",
       "      <td>4168350</td>\n",
       "    </tr>\n",
       "    <tr>\n",
       "      <th>6207</th>\n",
       "      <td>1519</td>\n",
       "      <td>9.846313e+10</td>\n",
       "      <td>12705700</td>\n",
       "    </tr>\n",
       "    <tr>\n",
       "      <th>6314</th>\n",
       "      <td>1171</td>\n",
       "      <td>3.511433e+10</td>\n",
       "      <td>4277071</td>\n",
       "    </tr>\n",
       "  </tbody>\n",
       "</table>\n",
       "<p>155 rows × 3 columns</p>\n",
       "</div>"
      ],
      "text/plain": [
       "      screenCnt      salesAcc   audiAcc\n",
       "1          1183  6.104165e+09    723414\n",
       "36         1453  1.387703e+10   1754375\n",
       "88         1299  5.816558e+10   7231638\n",
       "142        1138  3.581335e+09    416739\n",
       "145        1176  1.809354e+10   2359174\n",
       "...         ...           ...       ...\n",
       "5702       1843  8.858259e+10  10494499\n",
       "5837       1190  6.600545e+10   9134586\n",
       "5961       1312  3.486906e+10   4168350\n",
       "6207       1519  9.846313e+10  12705700\n",
       "6314       1171  3.511433e+10   4277071\n",
       "\n",
       "[155 rows x 3 columns]"
      ]
     },
     "execution_count": 118,
     "metadata": {},
     "output_type": "execute_result"
    }
   ],
   "source": [
    "df_int_data_outlier[(z > 3)]"
   ]
  },
  {
   "cell_type": "code",
   "execution_count": 115,
   "metadata": {},
   "outputs": [
    {
     "ename": "AxisError",
     "evalue": "axis 1 is out of bounds for array of dimension 1",
     "output_type": "error",
     "traceback": [
      "\u001b[1;31m---------------------------------------------------------------------------\u001b[0m",
      "\u001b[1;31mAxisError\u001b[0m                                 Traceback (most recent call last)",
      "\u001b[1;32m<ipython-input-115-4b12360df7dc>\u001b[0m in \u001b[0;36m<module>\u001b[1;34m\u001b[0m\n\u001b[1;32m----> 1\u001b[1;33m \u001b[0mdf_int_outlier\u001b[0m\u001b[1;33m=\u001b[0m \u001b[0mdf_int_data_outlier\u001b[0m\u001b[1;33m[\u001b[0m\u001b[1;33m(\u001b[0m\u001b[0mz\u001b[0m \u001b[1;33m<\u001b[0m \u001b[1;36m3\u001b[0m\u001b[1;33m)\u001b[0m\u001b[1;33m.\u001b[0m\u001b[0mall\u001b[0m\u001b[1;33m(\u001b[0m\u001b[0maxis\u001b[0m\u001b[1;33m=\u001b[0m\u001b[1;36m1\u001b[0m\u001b[1;33m)\u001b[0m\u001b[1;33m]\u001b[0m\u001b[1;33m\u001b[0m\u001b[1;33m\u001b[0m\u001b[0m\n\u001b[0m",
      "\u001b[1;32m~\\anaconda3\\lib\\site-packages\\numpy\\core\\_methods.py\u001b[0m in \u001b[0;36m_all\u001b[1;34m(a, axis, dtype, out, keepdims, where)\u001b[0m\n\u001b[0;32m     61\u001b[0m         \u001b[0maxis\u001b[0m \u001b[1;33m=\u001b[0m \u001b[0mtuple\u001b[0m\u001b[1;33m(\u001b[0m\u001b[0mrange\u001b[0m\u001b[1;33m(\u001b[0m\u001b[0marr\u001b[0m\u001b[1;33m.\u001b[0m\u001b[0mndim\u001b[0m\u001b[1;33m)\u001b[0m\u001b[1;33m)\u001b[0m\u001b[1;33m\u001b[0m\u001b[1;33m\u001b[0m\u001b[0m\n\u001b[0;32m     62\u001b[0m     \u001b[1;32mif\u001b[0m \u001b[1;32mnot\u001b[0m \u001b[0misinstance\u001b[0m\u001b[1;33m(\u001b[0m\u001b[0maxis\u001b[0m\u001b[1;33m,\u001b[0m \u001b[0mtuple\u001b[0m\u001b[1;33m)\u001b[0m\u001b[1;33m:\u001b[0m\u001b[1;33m\u001b[0m\u001b[1;33m\u001b[0m\u001b[0m\n\u001b[1;32m---> 63\u001b[1;33m         \u001b[0maxis\u001b[0m \u001b[1;33m=\u001b[0m \u001b[1;33m(\u001b[0m\u001b[0maxis\u001b[0m\u001b[1;33m,\u001b[0m\u001b[1;33m)\u001b[0m\u001b[1;33m\u001b[0m\u001b[1;33m\u001b[0m\u001b[0m\n\u001b[0m\u001b[0;32m     64\u001b[0m     \u001b[0mitems\u001b[0m \u001b[1;33m=\u001b[0m \u001b[1;36m1\u001b[0m\u001b[1;33m\u001b[0m\u001b[1;33m\u001b[0m\u001b[0m\n\u001b[0;32m     65\u001b[0m     \u001b[1;32mfor\u001b[0m \u001b[0max\u001b[0m \u001b[1;32min\u001b[0m \u001b[0maxis\u001b[0m\u001b[1;33m:\u001b[0m\u001b[1;33m\u001b[0m\u001b[1;33m\u001b[0m\u001b[0m\n",
      "\u001b[1;31mAxisError\u001b[0m: axis 1 is out of bounds for array of dimension 1"
     ]
    }
   ],
   "source": [
    "df_int_outlier= df_int_data_outlier[(z < 3).all(axis=1)]"
   ]
  },
  {
   "cell_type": "code",
   "execution_count": 104,
   "metadata": {},
   "outputs": [
    {
     "data": {
      "text/plain": [
       "(6381, 3)"
      ]
     },
     "execution_count": 104,
     "metadata": {},
     "output_type": "execute_result"
    }
   ],
   "source": [
    "df_int.shape"
   ]
  },
  {
   "cell_type": "code",
   "execution_count": 105,
   "metadata": {},
   "outputs": [
    {
     "data": {
      "text/plain": [
       "(6174, 3)"
      ]
     },
     "execution_count": 105,
     "metadata": {},
     "output_type": "execute_result"
    }
   ],
   "source": [
    "df_int_outlier.shape"
   ]
  },
  {
   "cell_type": "code",
   "execution_count": null,
   "metadata": {},
   "outputs": [],
   "source": []
  },
  {
   "cell_type": "code",
   "execution_count": 69,
   "metadata": {},
   "outputs": [
    {
     "name": "stderr",
     "output_type": "stream",
     "text": [
      "C:\\Users\\Seo\\anaconda3\\lib\\site-packages\\seaborn\\distributions.py:2551: FutureWarning: `distplot` is a deprecated function and will be removed in a future version. Please adapt your code to use either `displot` (a figure-level function with similar flexibility) or `histplot` (an axes-level function for histograms).\n",
      "  warnings.warn(msg, FutureWarning)\n"
     ]
    },
    {
     "data": {
      "text/plain": [
       "<matplotlib.patches.Polygon at 0x1cb0f531790>"
      ]
     },
     "execution_count": 69,
     "metadata": {},
     "output_type": "execute_result"
    },
    {
     "data": {
      "image/png": "[encoded data removed]",
      "text/plain": [
       "<Figure size 720x360 with 1 Axes>"
      ]
     },
     "metadata": {
      "needs_background": "light"
     },
     "output_type": "display_data"
    }
   ],
   "source": [
    "plt.figure(figsize=(10,5))\n",
    "\n",
    "sns.distplot(df_int.salesAcc, kde=False)\n",
    "\n",
    "\n",
    "# 이상치 영역 박스 그리기\n",
    "\n",
    "plt.axvspan(xmin=lower, xmax=df_int.salesAcc.min(), alpha=0.2, color='red')\n",
    "\n",
    "plt.axvspan(xmin=upper, xmax=df_int.salesAcc.max(), alpha=0.2, color='red')"
   ]
  },
  {
   "cell_type": "code",
   "execution_count": null,
   "metadata": {},
   "outputs": [],
   "source": []
  },
  {
   "cell_type": "code",
   "execution_count": 83,
   "metadata": {},
   "outputs": [
    {
     "data": {
      "text/html": [
       "<div>\n",
       "<style scoped>\n",
       "    .dataframe tbody tr th:only-of-type {\n",
       "        vertical-align: middle;\n",
       "    }\n",
       "\n",
       "    .dataframe tbody tr th {\n",
       "        vertical-align: top;\n",
       "    }\n",
       "\n",
       "    .dataframe thead th {\n",
       "        text-align: right;\n",
       "    }\n",
       "</style>\n",
       "<table border=\"1\" class=\"dataframe\">\n",
       "  <thead>\n",
       "    <tr style=\"text-align: right;\">\n",
       "      <th></th>\n",
       "      <th>screenCnt</th>\n",
       "      <th>salesAcc</th>\n",
       "      <th>audiAcc</th>\n",
       "    </tr>\n",
       "  </thead>\n",
       "  <tbody>\n",
       "    <tr>\n",
       "      <th>0</th>\n",
       "      <td>1</td>\n",
       "      <td>5.000000e+04</td>\n",
       "      <td>10</td>\n",
       "    </tr>\n",
       "    <tr>\n",
       "      <th>1</th>\n",
       "      <td>1183</td>\n",
       "      <td>6.104165e+09</td>\n",
       "      <td>723414</td>\n",
       "    </tr>\n",
       "    <tr>\n",
       "      <th>2</th>\n",
       "      <td>576</td>\n",
       "      <td>2.685519e+09</td>\n",
       "      <td>351276</td>\n",
       "    </tr>\n",
       "    <tr>\n",
       "      <th>3</th>\n",
       "      <td>214</td>\n",
       "      <td>1.741404e+08</td>\n",
       "      <td>21153</td>\n",
       "    </tr>\n",
       "    <tr>\n",
       "      <th>4</th>\n",
       "      <td>1</td>\n",
       "      <td>1.000000e+03</td>\n",
       "      <td>1</td>\n",
       "    </tr>\n",
       "    <tr>\n",
       "      <th>...</th>\n",
       "      <td>...</td>\n",
       "      <td>...</td>\n",
       "      <td>...</td>\n",
       "    </tr>\n",
       "    <tr>\n",
       "      <th>6376</th>\n",
       "      <td>1</td>\n",
       "      <td>8.000000e+03</td>\n",
       "      <td>1</td>\n",
       "    </tr>\n",
       "    <tr>\n",
       "      <th>6377</th>\n",
       "      <td>5</td>\n",
       "      <td>7.368000e+06</td>\n",
       "      <td>1074</td>\n",
       "    </tr>\n",
       "    <tr>\n",
       "      <th>6378</th>\n",
       "      <td>2</td>\n",
       "      <td>3.200000e+04</td>\n",
       "      <td>4</td>\n",
       "    </tr>\n",
       "    <tr>\n",
       "      <th>6379</th>\n",
       "      <td>5</td>\n",
       "      <td>1.708000e+06</td>\n",
       "      <td>426</td>\n",
       "    </tr>\n",
       "    <tr>\n",
       "      <th>6380</th>\n",
       "      <td>264</td>\n",
       "      <td>6.208740e+08</td>\n",
       "      <td>80989</td>\n",
       "    </tr>\n",
       "  </tbody>\n",
       "</table>\n",
       "<p>6381 rows × 3 columns</p>\n",
       "</div>"
      ],
      "text/plain": [
       "      screenCnt      salesAcc  audiAcc\n",
       "0             1  5.000000e+04       10\n",
       "1          1183  6.104165e+09   723414\n",
       "2           576  2.685519e+09   351276\n",
       "3           214  1.741404e+08    21153\n",
       "4             1  1.000000e+03        1\n",
       "...         ...           ...      ...\n",
       "6376          1  8.000000e+03        1\n",
       "6377          5  7.368000e+06     1074\n",
       "6378          2  3.200000e+04        4\n",
       "6379          5  1.708000e+06      426\n",
       "6380        264  6.208740e+08    80989\n",
       "\n",
       "[6381 rows x 3 columns]"
      ]
     },
     "execution_count": 83,
     "metadata": {},
     "output_type": "execute_result"
    }
   ],
   "source": [
    "df_int"
   ]
  },
  {
   "cell_type": "code",
   "execution_count": 18,
   "metadata": {},
   "outputs": [
    {
     "data": {
      "text/plain": [
       "Index(['title', 'directors', 'actors', 'plots', 'genre', 'runtime', 'keywords',\n",
       "       '등급', '개봉일', '국적', 'screenCnt', 'salesAcc', 'audiAcc'],\n",
       "      dtype='object')"
      ]
     },
     "execution_count": 18,
     "metadata": {},
     "output_type": "execute_result"
    }
   ],
   "source": [
    "df.columns"
   ]
  },
  {
   "cell_type": "code",
   "execution_count": 82,
   "metadata": {},
   "outputs": [],
   "source": [
    "df_int = df.drop(['title','directors','actors','plots','genre','개봉일','keywords','국적','등급','runtime'], axis=1)"
   ]
  },
  {
   "cell_type": "code",
   "execution_count": 146,
   "metadata": {},
   "outputs": [
    {
     "data": {
      "text/plain": [
       "array(['전체관람가', '15세이상관람가', '12세이상관람가', '청소년관람불가', '12세관람가'], dtype=object)"
      ]
     },
     "execution_count": 146,
     "metadata": {},
     "output_type": "execute_result"
    }
   ],
   "source": [
    "df['등급'].unique()"
   ]
  },
  {
   "cell_type": "code",
   "execution_count": 142,
   "metadata": {},
   "outputs": [],
   "source": [
    "from sklearn.preprocessing import LabelEncoder"
   ]
  },
  {
   "cell_type": "code",
   "execution_count": 151,
   "metadata": {},
   "outputs": [],
   "source": [
    "#encoder = LabelEncoder()\n",
    "#le = encoder.fit(df['등급'])\n",
    "#df['등급_int'] = le.transform(df['등급'])"
   ]
  },
  {
   "cell_type": "code",
   "execution_count": 170,
   "metadata": {},
   "outputs": [],
   "source": [
    "df = pd.get_dummies(df, columns=['등급'])"
   ]
  },
  {
   "cell_type": "code",
   "execution_count": 172,
   "metadata": {},
   "outputs": [
    {
     "data": {
      "text/html": [
       "<div>\n",
       "<style scoped>\n",
       "    .dataframe tbody tr th:only-of-type {\n",
       "        vertical-align: middle;\n",
       "    }\n",
       "\n",
       "    .dataframe tbody tr th {\n",
       "        vertical-align: top;\n",
       "    }\n",
       "\n",
       "    .dataframe thead th {\n",
       "        text-align: right;\n",
       "    }\n",
       "</style>\n",
       "<table border=\"1\" class=\"dataframe\">\n",
       "  <thead>\n",
       "    <tr style=\"text-align: right;\">\n",
       "      <th></th>\n",
       "      <th>title</th>\n",
       "      <th>directors</th>\n",
       "      <th>actors</th>\n",
       "      <th>plots</th>\n",
       "      <th>genre</th>\n",
       "      <th>runtime</th>\n",
       "      <th>keywords</th>\n",
       "      <th>개봉일</th>\n",
       "      <th>국적</th>\n",
       "      <th>screenCnt</th>\n",
       "      <th>salesAcc</th>\n",
       "      <th>audiAcc</th>\n",
       "      <th>등급_int</th>\n",
       "      <th>등급_12세관람가</th>\n",
       "      <th>등급_12세이상관람가</th>\n",
       "      <th>등급_15세이상관람가</th>\n",
       "      <th>등급_전체관람가</th>\n",
       "      <th>등급_청소년관람불가</th>\n",
       "    </tr>\n",
       "  </thead>\n",
       "  <tbody>\n",
       "    <tr>\n",
       "      <th>0</th>\n",
       "      <td>스왈로 탐험대와 아마존 해적</td>\n",
       "      <td>필립파 로소프</td>\n",
       "      <td>켈리 맥도날드, 앤드류 스캇, 라페 스펠, 해리 엔필드, 제시카 하인즈</td>\n",
       "      <td>“스왈로 탐험대의 출항을 허가한다”존과 엄마 그리고 동생들은 엄마가 어려서 뛰놀던 ...</td>\n",
       "      <td>어드벤처</td>\n",
       "      <td>97</td>\n",
       "      <td>여름휴가,외딴섬,아이들,모험,소설원작</td>\n",
       "      <td>2021-09-02</td>\n",
       "      <td>영국</td>\n",
       "      <td>1</td>\n",
       "      <td>5.000000e+04</td>\n",
       "      <td>10</td>\n",
       "      <td>3</td>\n",
       "      <td>0</td>\n",
       "      <td>0</td>\n",
       "      <td>0</td>\n",
       "      <td>1</td>\n",
       "      <td>0</td>\n",
       "    </tr>\n",
       "    <tr>\n",
       "      <th>1</th>\n",
       "      <td>물괴</td>\n",
       "      <td>허종호</td>\n",
       "      <td>김명민, 김인권, 혜리, 최우식, 이경영, 박희순, 박성웅, 이도경, 김중희, 이규...</td>\n",
       "      <td>“인왕산에 흉악한 짐승이 나타나 사람을 해쳤다 하옵니다.그것을 두고 듣지도 보지도 ...</td>\n",
       "      <td>액션</td>\n",
       "      <td>105</td>\n",
       "      <td>조선시대,전염병,괴물,시대극/사극,사투</td>\n",
       "      <td>2018-09-12</td>\n",
       "      <td>한국</td>\n",
       "      <td>1183</td>\n",
       "      <td>6.104165e+09</td>\n",
       "      <td>723414</td>\n",
       "      <td>2</td>\n",
       "      <td>0</td>\n",
       "      <td>0</td>\n",
       "      <td>1</td>\n",
       "      <td>0</td>\n",
       "      <td>0</td>\n",
       "    </tr>\n",
       "    <tr>\n",
       "      <th>2</th>\n",
       "      <td>싱글라이더</td>\n",
       "      <td>이주영</td>\n",
       "      <td>이병헌, 공효진, 안소희, 잭 캠벨, 양유진, 애니카 화이틀리, 케이 에크룬드, 백...</td>\n",
       "      <td>그가 사라졌다그에게서 모든 것이 사라졌다증권회사의 지점장 강재훈(이병헌). 안정된 ...</td>\n",
       "      <td>드라마</td>\n",
       "      <td>97</td>\n",
       "      <td>기러기아빠,호주,오스트레일리아,반전,반전영화,동물</td>\n",
       "      <td>2017-02-22</td>\n",
       "      <td>한국</td>\n",
       "      <td>576</td>\n",
       "      <td>2.685519e+09</td>\n",
       "      <td>351276</td>\n",
       "      <td>2</td>\n",
       "      <td>0</td>\n",
       "      <td>0</td>\n",
       "      <td>1</td>\n",
       "      <td>0</td>\n",
       "      <td>0</td>\n",
       "    </tr>\n",
       "    <tr>\n",
       "      <th>3</th>\n",
       "      <td>리즈와 파랑새</td>\n",
       "      <td>야마다 나오코</td>\n",
       "      <td>타네자키 아츠미, 토야마 나오, 혼다 미유, 후지무라 코노미, 야마오카 유리</td>\n",
       "      <td>“너에겐 날개가 있고, 끝없이 펼쳐진 하늘도 있어”  늘 혼자였던 ‘리즈’ 앞에 어...</td>\n",
       "      <td>애니메이션</td>\n",
       "      <td>90</td>\n",
       "      <td>십대소녀,단짝친구,외톨이,고3,합주,졸업반,마지막 연주</td>\n",
       "      <td>2018-10-09</td>\n",
       "      <td>일본</td>\n",
       "      <td>214</td>\n",
       "      <td>1.741404e+08</td>\n",
       "      <td>21153</td>\n",
       "      <td>3</td>\n",
       "      <td>0</td>\n",
       "      <td>0</td>\n",
       "      <td>0</td>\n",
       "      <td>1</td>\n",
       "      <td>0</td>\n",
       "    </tr>\n",
       "    <tr>\n",
       "      <th>4</th>\n",
       "      <td>레드 후드</td>\n",
       "      <td>르네 페르즈</td>\n",
       "      <td>로버트 앰슬러, 니콜 스탁, 로버트 S. 딕슨, 콜린 허시, 제이슨 제이 프라도</td>\n",
       "      <td>편찮은 할머니를 위해 약을 구해 돌아가던 빨간 모자 소녀는 늑대 모습을 한 기사에게...</td>\n",
       "      <td>판타지</td>\n",
       "      <td>81</td>\n",
       "      <td>괴물,성에 갇힌 남녀,감옥탈출</td>\n",
       "      <td>2018-11-11</td>\n",
       "      <td>미국</td>\n",
       "      <td>1</td>\n",
       "      <td>1.000000e+03</td>\n",
       "      <td>1</td>\n",
       "      <td>2</td>\n",
       "      <td>0</td>\n",
       "      <td>0</td>\n",
       "      <td>1</td>\n",
       "      <td>0</td>\n",
       "      <td>0</td>\n",
       "    </tr>\n",
       "    <tr>\n",
       "      <th>...</th>\n",
       "      <td>...</td>\n",
       "      <td>...</td>\n",
       "      <td>...</td>\n",
       "      <td>...</td>\n",
       "      <td>...</td>\n",
       "      <td>...</td>\n",
       "      <td>...</td>\n",
       "      <td>...</td>\n",
       "      <td>...</td>\n",
       "      <td>...</td>\n",
       "      <td>...</td>\n",
       "      <td>...</td>\n",
       "      <td>...</td>\n",
       "      <td>...</td>\n",
       "      <td>...</td>\n",
       "      <td>...</td>\n",
       "      <td>...</td>\n",
       "      <td>...</td>\n",
       "    </tr>\n",
       "    <tr>\n",
       "      <th>6376</th>\n",
       "      <td>파라노이아</td>\n",
       "      <td>로버트 루케틱</td>\n",
       "      <td>리암 햄스워스, 게리 올드만, 앰버 허드, 해리슨 포드, 엠베스 다비츠</td>\n",
       "      <td>유명 첨단 기술회사인 와이어트사 말단직원, 아담 캐시디(리암 헴스워스)는 밑바닥에서...</td>\n",
       "      <td>드라마</td>\n",
       "      <td>106</td>\n",
       "      <td>NaN</td>\n",
       "      <td>2014-09-18</td>\n",
       "      <td>미국</td>\n",
       "      <td>1</td>\n",
       "      <td>8.000000e+03</td>\n",
       "      <td>1</td>\n",
       "      <td>2</td>\n",
       "      <td>0</td>\n",
       "      <td>0</td>\n",
       "      <td>1</td>\n",
       "      <td>0</td>\n",
       "      <td>0</td>\n",
       "    </tr>\n",
       "    <tr>\n",
       "      <th>6377</th>\n",
       "      <td>춘하추동 로맨스</td>\n",
       "      <td>오창민</td>\n",
       "      <td>이응재, 최은아, 조석현, 이민아, 이서림, 오대환, 이준혁</td>\n",
       "      <td>Chapter 1    단풍맞이 단합대회 단풍놀이가 한창인 가을, 어설픈 산악인 상...</td>\n",
       "      <td>코미디</td>\n",
       "      <td>100</td>\n",
       "      <td>고백,허세,내숭,현실연애,옴니버스영화</td>\n",
       "      <td>2014-12-04</td>\n",
       "      <td>한국</td>\n",
       "      <td>5</td>\n",
       "      <td>7.368000e+06</td>\n",
       "      <td>1074</td>\n",
       "      <td>2</td>\n",
       "      <td>0</td>\n",
       "      <td>0</td>\n",
       "      <td>1</td>\n",
       "      <td>0</td>\n",
       "      <td>0</td>\n",
       "    </tr>\n",
       "    <tr>\n",
       "      <th>6378</th>\n",
       "      <td>4명의 암살자</td>\n",
       "      <td>스텐리 J. 오젤</td>\n",
       "      <td>미구엘 페러, 윌 윤 리, 메르세데스 레나드</td>\n",
       "      <td>최고의 실력을 가진 청부살인업자인 마커스, 일라이, 코딜리아, 체이스가 홍콩의 한 ...</td>\n",
       "      <td>액션</td>\n",
       "      <td>87</td>\n",
       "      <td>NaN</td>\n",
       "      <td>2015-01-05</td>\n",
       "      <td>미국</td>\n",
       "      <td>2</td>\n",
       "      <td>3.200000e+04</td>\n",
       "      <td>4</td>\n",
       "      <td>2</td>\n",
       "      <td>0</td>\n",
       "      <td>0</td>\n",
       "      <td>1</td>\n",
       "      <td>0</td>\n",
       "      <td>0</td>\n",
       "    </tr>\n",
       "    <tr>\n",
       "      <th>6379</th>\n",
       "      <td>변종샤크</td>\n",
       "      <td>그리프 퍼스트</td>\n",
       "      <td>크리스티 스완슨, D.B. 스위니</td>\n",
       "      <td>돌연변이 상어의 무차별 공격이 시작된다!벗어날 수 없는 죽음의 공포... 피할 곳은...</td>\n",
       "      <td>SF</td>\n",
       "      <td>89</td>\n",
       "      <td>돌연변이,공격,상어,죽음,자연</td>\n",
       "      <td>2014-12-11</td>\n",
       "      <td>미국</td>\n",
       "      <td>5</td>\n",
       "      <td>1.708000e+06</td>\n",
       "      <td>426</td>\n",
       "      <td>2</td>\n",
       "      <td>0</td>\n",
       "      <td>0</td>\n",
       "      <td>1</td>\n",
       "      <td>0</td>\n",
       "      <td>0</td>\n",
       "    </tr>\n",
       "    <tr>\n",
       "      <th>6380</th>\n",
       "      <td>터널 3D</td>\n",
       "      <td>박규택</td>\n",
       "      <td>정유미, 연우진, 송재림, 정시연, 손병호, 이시원, 이재희, 도희, 우희, 정진,...</td>\n",
       "      <td>재벌 2세인 기철의 권유로 최고급 리조트 여행을 떠난 5명.기철, 영민, 유경, 세...</td>\n",
       "      <td>공포(호러)</td>\n",
       "      <td>86</td>\n",
       "      <td>실종,터널,3D</td>\n",
       "      <td>2014-08-20</td>\n",
       "      <td>한국</td>\n",
       "      <td>264</td>\n",
       "      <td>6.208740e+08</td>\n",
       "      <td>80989</td>\n",
       "      <td>2</td>\n",
       "      <td>0</td>\n",
       "      <td>0</td>\n",
       "      <td>1</td>\n",
       "      <td>0</td>\n",
       "      <td>0</td>\n",
       "    </tr>\n",
       "  </tbody>\n",
       "</table>\n",
       "<p>6381 rows × 18 columns</p>\n",
       "</div>"
      ],
      "text/plain": [
       "                title  directors  \\\n",
       "0     스왈로 탐험대와 아마존 해적    필립파 로소프   \n",
       "1                  물괴        허종호   \n",
       "2               싱글라이더        이주영   \n",
       "3             리즈와 파랑새    야마다 나오코   \n",
       "4               레드 후드     르네 페르즈   \n",
       "...               ...        ...   \n",
       "6376            파라노이아    로버트 루케틱   \n",
       "6377         춘하추동 로맨스        오창민   \n",
       "6378          4명의 암살자  스텐리 J. 오젤   \n",
       "6379             변종샤크    그리프 퍼스트   \n",
       "6380            터널 3D        박규택   \n",
       "\n",
       "                                                 actors  \\\n",
       "0               켈리 맥도날드, 앤드류 스캇, 라페 스펠, 해리 엔필드, 제시카 하인즈   \n",
       "1     김명민, 김인권, 혜리, 최우식, 이경영, 박희순, 박성웅, 이도경, 김중희, 이규...   \n",
       "2     이병헌, 공효진, 안소희, 잭 캠벨, 양유진, 애니카 화이틀리, 케이 에크룬드, 백...   \n",
       "3            타네자키 아츠미, 토야마 나오, 혼다 미유, 후지무라 코노미, 야마오카 유리   \n",
       "4          로버트 앰슬러, 니콜 스탁, 로버트 S. 딕슨, 콜린 허시, 제이슨 제이 프라도   \n",
       "...                                                 ...   \n",
       "6376            리암 햄스워스, 게리 올드만, 앰버 허드, 해리슨 포드, 엠베스 다비츠   \n",
       "6377                  이응재, 최은아, 조석현, 이민아, 이서림, 오대환, 이준혁   \n",
       "6378                           미구엘 페러, 윌 윤 리, 메르세데스 레나드   \n",
       "6379                                 크리스티 스완슨, D.B. 스위니   \n",
       "6380  정유미, 연우진, 송재림, 정시연, 손병호, 이시원, 이재희, 도희, 우희, 정진,...   \n",
       "\n",
       "                                                  plots   genre  runtime  \\\n",
       "0     “스왈로 탐험대의 출항을 허가한다”존과 엄마 그리고 동생들은 엄마가 어려서 뛰놀던 ...    어드벤처       97   \n",
       "1     “인왕산에 흉악한 짐승이 나타나 사람을 해쳤다 하옵니다.그것을 두고 듣지도 보지도 ...      액션      105   \n",
       "2     그가 사라졌다그에게서 모든 것이 사라졌다증권회사의 지점장 강재훈(이병헌). 안정된 ...     드라마       97   \n",
       "3     “너에겐 날개가 있고, 끝없이 펼쳐진 하늘도 있어”  늘 혼자였던 ‘리즈’ 앞에 어...   애니메이션       90   \n",
       "4     편찮은 할머니를 위해 약을 구해 돌아가던 빨간 모자 소녀는 늑대 모습을 한 기사에게...     판타지       81   \n",
       "...                                                 ...     ...      ...   \n",
       "6376  유명 첨단 기술회사인 와이어트사 말단직원, 아담 캐시디(리암 헴스워스)는 밑바닥에서...     드라마      106   \n",
       "6377  Chapter 1    단풍맞이 단합대회 단풍놀이가 한창인 가을, 어설픈 산악인 상...     코미디      100   \n",
       "6378  최고의 실력을 가진 청부살인업자인 마커스, 일라이, 코딜리아, 체이스가 홍콩의 한 ...      액션       87   \n",
       "6379  돌연변이 상어의 무차별 공격이 시작된다!벗어날 수 없는 죽음의 공포... 피할 곳은...      SF       89   \n",
       "6380  재벌 2세인 기철의 권유로 최고급 리조트 여행을 떠난 5명.기철, 영민, 유경, 세...  공포(호러)       86   \n",
       "\n",
       "                            keywords         개봉일  국적  screenCnt      salesAcc  \\\n",
       "0               여름휴가,외딴섬,아이들,모험,소설원작  2021-09-02  영국          1  5.000000e+04   \n",
       "1              조선시대,전염병,괴물,시대극/사극,사투  2018-09-12  한국       1183  6.104165e+09   \n",
       "2        기러기아빠,호주,오스트레일리아,반전,반전영화,동물  2017-02-22  한국        576  2.685519e+09   \n",
       "3     십대소녀,단짝친구,외톨이,고3,합주,졸업반,마지막 연주  2018-10-09  일본        214  1.741404e+08   \n",
       "4                   괴물,성에 갇힌 남녀,감옥탈출  2018-11-11  미국          1  1.000000e+03   \n",
       "...                              ...         ...  ..        ...           ...   \n",
       "6376                             NaN  2014-09-18  미국          1  8.000000e+03   \n",
       "6377            고백,허세,내숭,현실연애,옴니버스영화  2014-12-04  한국          5  7.368000e+06   \n",
       "6378                             NaN  2015-01-05  미국          2  3.200000e+04   \n",
       "6379                돌연변이,공격,상어,죽음,자연  2014-12-11  미국          5  1.708000e+06   \n",
       "6380                        실종,터널,3D  2014-08-20  한국        264  6.208740e+08   \n",
       "\n",
       "      audiAcc  등급_int  등급_12세관람가  등급_12세이상관람가  등급_15세이상관람가  등급_전체관람가  \\\n",
       "0          10       3          0            0            0         1   \n",
       "1      723414       2          0            0            1         0   \n",
       "2      351276       2          0            0            1         0   \n",
       "3       21153       3          0            0            0         1   \n",
       "4           1       2          0            0            1         0   \n",
       "...       ...     ...        ...          ...          ...       ...   \n",
       "6376        1       2          0            0            1         0   \n",
       "6377     1074       2          0            0            1         0   \n",
       "6378        4       2          0            0            1         0   \n",
       "6379      426       2          0            0            1         0   \n",
       "6380    80989       2          0            0            1         0   \n",
       "\n",
       "      등급_청소년관람불가  \n",
       "0              0  \n",
       "1              0  \n",
       "2              0  \n",
       "3              0  \n",
       "4              0  \n",
       "...          ...  \n",
       "6376           0  \n",
       "6377           0  \n",
       "6378           0  \n",
       "6379           0  \n",
       "6380           0  \n",
       "\n",
       "[6381 rows x 18 columns]"
      ]
     },
     "execution_count": 172,
     "metadata": {},
     "output_type": "execute_result"
    }
   ],
   "source": [
    "df"
   ]
  },
  {
   "cell_type": "code",
   "execution_count": 180,
   "metadata": {},
   "outputs": [],
   "source": [
    "df_int = df.drop(['title','directors','actors','plots','genre','개봉일','keywords','국적','runtime','등급_int'], axis=1)"
   ]
  },
  {
   "cell_type": "code",
   "execution_count": 181,
   "metadata": {
    "scrolled": true
   },
   "outputs": [
    {
     "data": {
      "text/html": [
       "<div>\n",
       "<style scoped>\n",
       "    .dataframe tbody tr th:only-of-type {\n",
       "        vertical-align: middle;\n",
       "    }\n",
       "\n",
       "    .dataframe tbody tr th {\n",
       "        vertical-align: top;\n",
       "    }\n",
       "\n",
       "    .dataframe thead th {\n",
       "        text-align: right;\n",
       "    }\n",
       "</style>\n",
       "<table border=\"1\" class=\"dataframe\">\n",
       "  <thead>\n",
       "    <tr style=\"text-align: right;\">\n",
       "      <th></th>\n",
       "      <th>screenCnt</th>\n",
       "      <th>salesAcc</th>\n",
       "      <th>audiAcc</th>\n",
       "      <th>등급_12세관람가</th>\n",
       "      <th>등급_12세이상관람가</th>\n",
       "      <th>등급_15세이상관람가</th>\n",
       "      <th>등급_전체관람가</th>\n",
       "      <th>등급_청소년관람불가</th>\n",
       "    </tr>\n",
       "  </thead>\n",
       "  <tbody>\n",
       "    <tr>\n",
       "      <th>0</th>\n",
       "      <td>1</td>\n",
       "      <td>5.000000e+04</td>\n",
       "      <td>10</td>\n",
       "      <td>0</td>\n",
       "      <td>0</td>\n",
       "      <td>0</td>\n",
       "      <td>1</td>\n",
       "      <td>0</td>\n",
       "    </tr>\n",
       "    <tr>\n",
       "      <th>1</th>\n",
       "      <td>1183</td>\n",
       "      <td>6.104165e+09</td>\n",
       "      <td>723414</td>\n",
       "      <td>0</td>\n",
       "      <td>0</td>\n",
       "      <td>1</td>\n",
       "      <td>0</td>\n",
       "      <td>0</td>\n",
       "    </tr>\n",
       "    <tr>\n",
       "      <th>2</th>\n",
       "      <td>576</td>\n",
       "      <td>2.685519e+09</td>\n",
       "      <td>351276</td>\n",
       "      <td>0</td>\n",
       "      <td>0</td>\n",
       "      <td>1</td>\n",
       "      <td>0</td>\n",
       "      <td>0</td>\n",
       "    </tr>\n",
       "    <tr>\n",
       "      <th>3</th>\n",
       "      <td>214</td>\n",
       "      <td>1.741404e+08</td>\n",
       "      <td>21153</td>\n",
       "      <td>0</td>\n",
       "      <td>0</td>\n",
       "      <td>0</td>\n",
       "      <td>1</td>\n",
       "      <td>0</td>\n",
       "    </tr>\n",
       "    <tr>\n",
       "      <th>4</th>\n",
       "      <td>1</td>\n",
       "      <td>1.000000e+03</td>\n",
       "      <td>1</td>\n",
       "      <td>0</td>\n",
       "      <td>0</td>\n",
       "      <td>1</td>\n",
       "      <td>0</td>\n",
       "      <td>0</td>\n",
       "    </tr>\n",
       "    <tr>\n",
       "      <th>...</th>\n",
       "      <td>...</td>\n",
       "      <td>...</td>\n",
       "      <td>...</td>\n",
       "      <td>...</td>\n",
       "      <td>...</td>\n",
       "      <td>...</td>\n",
       "      <td>...</td>\n",
       "      <td>...</td>\n",
       "    </tr>\n",
       "    <tr>\n",
       "      <th>6376</th>\n",
       "      <td>1</td>\n",
       "      <td>8.000000e+03</td>\n",
       "      <td>1</td>\n",
       "      <td>0</td>\n",
       "      <td>0</td>\n",
       "      <td>1</td>\n",
       "      <td>0</td>\n",
       "      <td>0</td>\n",
       "    </tr>\n",
       "    <tr>\n",
       "      <th>6377</th>\n",
       "      <td>5</td>\n",
       "      <td>7.368000e+06</td>\n",
       "      <td>1074</td>\n",
       "      <td>0</td>\n",
       "      <td>0</td>\n",
       "      <td>1</td>\n",
       "      <td>0</td>\n",
       "      <td>0</td>\n",
       "    </tr>\n",
       "    <tr>\n",
       "      <th>6378</th>\n",
       "      <td>2</td>\n",
       "      <td>3.200000e+04</td>\n",
       "      <td>4</td>\n",
       "      <td>0</td>\n",
       "      <td>0</td>\n",
       "      <td>1</td>\n",
       "      <td>0</td>\n",
       "      <td>0</td>\n",
       "    </tr>\n",
       "    <tr>\n",
       "      <th>6379</th>\n",
       "      <td>5</td>\n",
       "      <td>1.708000e+06</td>\n",
       "      <td>426</td>\n",
       "      <td>0</td>\n",
       "      <td>0</td>\n",
       "      <td>1</td>\n",
       "      <td>0</td>\n",
       "      <td>0</td>\n",
       "    </tr>\n",
       "    <tr>\n",
       "      <th>6380</th>\n",
       "      <td>264</td>\n",
       "      <td>6.208740e+08</td>\n",
       "      <td>80989</td>\n",
       "      <td>0</td>\n",
       "      <td>0</td>\n",
       "      <td>1</td>\n",
       "      <td>0</td>\n",
       "      <td>0</td>\n",
       "    </tr>\n",
       "  </tbody>\n",
       "</table>\n",
       "<p>6381 rows × 8 columns</p>\n",
       "</div>"
      ],
      "text/plain": [
       "      screenCnt      salesAcc  audiAcc  등급_12세관람가  등급_12세이상관람가  등급_15세이상관람가  \\\n",
       "0             1  5.000000e+04       10          0            0            0   \n",
       "1          1183  6.104165e+09   723414          0            0            1   \n",
       "2           576  2.685519e+09   351276          0            0            1   \n",
       "3           214  1.741404e+08    21153          0            0            0   \n",
       "4             1  1.000000e+03        1          0            0            1   \n",
       "...         ...           ...      ...        ...          ...          ...   \n",
       "6376          1  8.000000e+03        1          0            0            1   \n",
       "6377          5  7.368000e+06     1074          0            0            1   \n",
       "6378          2  3.200000e+04        4          0            0            1   \n",
       "6379          5  1.708000e+06      426          0            0            1   \n",
       "6380        264  6.208740e+08    80989          0            0            1   \n",
       "\n",
       "      등급_전체관람가  등급_청소년관람불가  \n",
       "0            1           0  \n",
       "1            0           0  \n",
       "2            0           0  \n",
       "3            1           0  \n",
       "4            0           0  \n",
       "...        ...         ...  \n",
       "6376         0           0  \n",
       "6377         0           0  \n",
       "6378         0           0  \n",
       "6379         0           0  \n",
       "6380         0           0  \n",
       "\n",
       "[6381 rows x 8 columns]"
      ]
     },
     "execution_count": 181,
     "metadata": {},
     "output_type": "execute_result"
    }
   ],
   "source": [
    "df_int"
   ]
  },
  {
   "cell_type": "code",
   "execution_count": 182,
   "metadata": {},
   "outputs": [],
   "source": [
    "from sklearn.preprocessing import MinMaxScaler\n",
    "scaler= MinMaxScaler() \n",
    "df_int[df_int.columns] = scaler.fit_transform(df_int[df_int.columns])\n",
    "corr28 = df_int.corr(method= 'spearman')"
   ]
  },
  {
   "cell_type": "code",
   "execution_count": 1,
   "metadata": {},
   "outputs": [
    {
     "ename": "NameError",
     "evalue": "name 'df_int' is not defined",
     "output_type": "error",
     "traceback": [
      "\u001b[1;31m---------------------------------------------------------------------------\u001b[0m",
      "\u001b[1;31mNameError\u001b[0m                                 Traceback (most recent call last)",
      "\u001b[1;32m<ipython-input-1-5a1134de3f7e>\u001b[0m in \u001b[0;36m<module>\u001b[1;34m\u001b[0m\n\u001b[0;32m      1\u001b[0m \u001b[1;32mfrom\u001b[0m \u001b[0msklearn\u001b[0m\u001b[1;33m.\u001b[0m\u001b[0mpreprocessing\u001b[0m \u001b[1;32mimport\u001b[0m \u001b[0mStandardScaler\u001b[0m\u001b[1;33m\u001b[0m\u001b[1;33m\u001b[0m\u001b[0m\n\u001b[0;32m      2\u001b[0m \u001b[0mscaler\u001b[0m\u001b[1;33m=\u001b[0m \u001b[0mStandardScaler\u001b[0m\u001b[1;33m(\u001b[0m\u001b[1;33m)\u001b[0m\u001b[1;33m\u001b[0m\u001b[1;33m\u001b[0m\u001b[0m\n\u001b[1;32m----> 3\u001b[1;33m \u001b[0mdf_int\u001b[0m\u001b[1;33m[\u001b[0m\u001b[0mdf_int\u001b[0m\u001b[1;33m.\u001b[0m\u001b[0mcolumns\u001b[0m\u001b[1;33m]\u001b[0m \u001b[1;33m=\u001b[0m \u001b[0mscaler\u001b[0m\u001b[1;33m.\u001b[0m\u001b[0mfit_transform\u001b[0m\u001b[1;33m(\u001b[0m\u001b[0mdf_int\u001b[0m\u001b[1;33m[\u001b[0m\u001b[0mdf_int\u001b[0m\u001b[1;33m.\u001b[0m\u001b[0mcolumns\u001b[0m\u001b[1;33m]\u001b[0m\u001b[1;33m)\u001b[0m\u001b[1;33m\u001b[0m\u001b[1;33m\u001b[0m\u001b[0m\n\u001b[0m\u001b[0;32m      4\u001b[0m \u001b[0mcorr28\u001b[0m \u001b[1;33m=\u001b[0m \u001b[0mdf_int\u001b[0m\u001b[1;33m.\u001b[0m\u001b[0mcorr\u001b[0m\u001b[1;33m(\u001b[0m\u001b[0mmethod\u001b[0m\u001b[1;33m=\u001b[0m \u001b[1;34m'pearson'\u001b[0m\u001b[1;33m)\u001b[0m\u001b[1;33m\u001b[0m\u001b[1;33m\u001b[0m\u001b[0m\n",
      "\u001b[1;31mNameError\u001b[0m: name 'df_int' is not defined"
     ]
    }
   ],
   "source": [
    "from sklearn.preprocessing import StandardScaler\n",
    "scaler= StandardScaler() \n",
    "df_int[df_int.columns] = scaler.fit_transform(df_int[df_int.columns])\n",
    "corr28 = df_int.corr(method= 'pearson')"
   ]
  },
  {
   "cell_type": "code",
   "execution_count": null,
   "metadata": {
    "scrolled": true
   },
   "outputs": [],
   "source": [
    "plt.figure(figsize=(12,10))\n",
    "sns.heatmap(data = corr28, annot=True, linewidths=.5, cmap='Blues')\n",
    "plt.title('Correlation between features', fontsize=30)"
   ]
  },
  {
   "cell_type": "code",
   "execution_count": null,
   "metadata": {
    "scrolled": false
   },
   "outputs": [],
   "source": [
    "s28 = corr28.unstack()\n",
    "df_temp28 = pd.DataFrame(s28['salesAcc'].sort_values(ascending=False), columns=['salesAcc'])\n",
    "df_temp28.style.background_gradient(cmap='viridis')\n",
    "# runtime 상관관계가 적은것 같아서 빼도 될듯"
   ]
  },
  {
   "cell_type": "code",
   "execution_count": 184,
   "metadata": {},
   "outputs": [
    {
     "data": {
      "text/html": [
       "<div>\n",
       "<style scoped>\n",
       "    .dataframe tbody tr th:only-of-type {\n",
       "        vertical-align: middle;\n",
       "    }\n",
       "\n",
       "    .dataframe tbody tr th {\n",
       "        vertical-align: top;\n",
       "    }\n",
       "\n",
       "    .dataframe thead th {\n",
       "        text-align: right;\n",
       "    }\n",
       "</style>\n",
       "<table border=\"1\" class=\"dataframe\">\n",
       "  <thead>\n",
       "    <tr style=\"text-align: right;\">\n",
       "      <th></th>\n",
       "      <th>screenCnt</th>\n",
       "      <th>salesAcc</th>\n",
       "      <th>audiAcc</th>\n",
       "      <th>등급_12세관람가</th>\n",
       "      <th>등급_12세이상관람가</th>\n",
       "      <th>등급_15세이상관람가</th>\n",
       "      <th>등급_전체관람가</th>\n",
       "      <th>등급_청소년관람불가</th>\n",
       "    </tr>\n",
       "  </thead>\n",
       "  <tbody>\n",
       "    <tr>\n",
       "      <th>screenCnt</th>\n",
       "      <td>1.000000</td>\n",
       "      <td>0.709577</td>\n",
       "      <td>0.693689</td>\n",
       "      <td>-0.001757</td>\n",
       "      <td>0.122583</td>\n",
       "      <td>0.010987</td>\n",
       "      <td>0.022783</td>\n",
       "      <td>-0.153561</td>\n",
       "    </tr>\n",
       "    <tr>\n",
       "      <th>salesAcc</th>\n",
       "      <td>0.709577</td>\n",
       "      <td>1.000000</td>\n",
       "      <td>0.997099</td>\n",
       "      <td>-0.003120</td>\n",
       "      <td>0.092663</td>\n",
       "      <td>0.023627</td>\n",
       "      <td>-0.039917</td>\n",
       "      <td>-0.081817</td>\n",
       "    </tr>\n",
       "    <tr>\n",
       "      <th>audiAcc</th>\n",
       "      <td>0.693689</td>\n",
       "      <td>0.997099</td>\n",
       "      <td>1.000000</td>\n",
       "      <td>-0.003134</td>\n",
       "      <td>0.087472</td>\n",
       "      <td>0.028233</td>\n",
       "      <td>-0.039754</td>\n",
       "      <td>-0.082178</td>\n",
       "    </tr>\n",
       "    <tr>\n",
       "      <th>등급_12세관람가</th>\n",
       "      <td>-0.001757</td>\n",
       "      <td>-0.003120</td>\n",
       "      <td>-0.003134</td>\n",
       "      <td>1.000000</td>\n",
       "      <td>-0.006601</td>\n",
       "      <td>-0.009717</td>\n",
       "      <td>-0.005805</td>\n",
       "      <td>-0.006831</td>\n",
       "    </tr>\n",
       "    <tr>\n",
       "      <th>등급_12세이상관람가</th>\n",
       "      <td>0.122583</td>\n",
       "      <td>0.092663</td>\n",
       "      <td>0.087472</td>\n",
       "      <td>-0.006601</td>\n",
       "      <td>1.000000</td>\n",
       "      <td>-0.409240</td>\n",
       "      <td>-0.244455</td>\n",
       "      <td>-0.287696</td>\n",
       "    </tr>\n",
       "    <tr>\n",
       "      <th>등급_15세이상관람가</th>\n",
       "      <td>0.010987</td>\n",
       "      <td>0.023627</td>\n",
       "      <td>0.028233</td>\n",
       "      <td>-0.009717</td>\n",
       "      <td>-0.409240</td>\n",
       "      <td>1.000000</td>\n",
       "      <td>-0.359873</td>\n",
       "      <td>-0.423531</td>\n",
       "    </tr>\n",
       "    <tr>\n",
       "      <th>등급_전체관람가</th>\n",
       "      <td>0.022783</td>\n",
       "      <td>-0.039917</td>\n",
       "      <td>-0.039754</td>\n",
       "      <td>-0.005805</td>\n",
       "      <td>-0.244455</td>\n",
       "      <td>-0.359873</td>\n",
       "      <td>1.000000</td>\n",
       "      <td>-0.252991</td>\n",
       "    </tr>\n",
       "    <tr>\n",
       "      <th>등급_청소년관람불가</th>\n",
       "      <td>-0.153561</td>\n",
       "      <td>-0.081817</td>\n",
       "      <td>-0.082178</td>\n",
       "      <td>-0.006831</td>\n",
       "      <td>-0.287696</td>\n",
       "      <td>-0.423531</td>\n",
       "      <td>-0.252991</td>\n",
       "      <td>1.000000</td>\n",
       "    </tr>\n",
       "  </tbody>\n",
       "</table>\n",
       "</div>"
      ],
      "text/plain": [
       "             screenCnt  salesAcc   audiAcc  등급_12세관람가  등급_12세이상관람가  \\\n",
       "screenCnt     1.000000  0.709577  0.693689  -0.001757     0.122583   \n",
       "salesAcc      0.709577  1.000000  0.997099  -0.003120     0.092663   \n",
       "audiAcc       0.693689  0.997099  1.000000  -0.003134     0.087472   \n",
       "등급_12세관람가    -0.001757 -0.003120 -0.003134   1.000000    -0.006601   \n",
       "등급_12세이상관람가   0.122583  0.092663  0.087472  -0.006601     1.000000   \n",
       "등급_15세이상관람가   0.010987  0.023627  0.028233  -0.009717    -0.409240   \n",
       "등급_전체관람가      0.022783 -0.039917 -0.039754  -0.005805    -0.244455   \n",
       "등급_청소년관람불가   -0.153561 -0.081817 -0.082178  -0.006831    -0.287696   \n",
       "\n",
       "             등급_15세이상관람가  등급_전체관람가  등급_청소년관람불가  \n",
       "screenCnt       0.010987  0.022783   -0.153561  \n",
       "salesAcc        0.023627 -0.039917   -0.081817  \n",
       "audiAcc         0.028233 -0.039754   -0.082178  \n",
       "등급_12세관람가      -0.009717 -0.005805   -0.006831  \n",
       "등급_12세이상관람가    -0.409240 -0.244455   -0.287696  \n",
       "등급_15세이상관람가     1.000000 -0.359873   -0.423531  \n",
       "등급_전체관람가       -0.359873  1.000000   -0.252991  \n",
       "등급_청소년관람불가     -0.423531 -0.252991    1.000000  "
      ]
     },
     "execution_count": 184,
     "metadata": {},
     "output_type": "execute_result"
    }
   ],
   "source": [
    "df_int.corr()"
   ]
  },
  {
   "cell_type": "code",
   "execution_count": 185,
   "metadata": {},
   "outputs": [
    {
     "name": "stderr",
     "output_type": "stream",
     "text": [
      "C:\\Users\\Seo\\anaconda3\\lib\\site-packages\\matplotlib\\backends\\backend_agg.py:238: RuntimeWarning: Glyph 46321 missing from current font.\n",
      "  font.set_text(s, 0.0, flags=flags)\n",
      "C:\\Users\\Seo\\anaconda3\\lib\\site-packages\\matplotlib\\backends\\backend_agg.py:238: RuntimeWarning: Glyph 44553 missing from current font.\n",
      "  font.set_text(s, 0.0, flags=flags)\n",
      "C:\\Users\\Seo\\anaconda3\\lib\\site-packages\\matplotlib\\backends\\backend_agg.py:238: RuntimeWarning: Glyph 49464 missing from current font.\n",
      "  font.set_text(s, 0.0, flags=flags)\n",
      "C:\\Users\\Seo\\anaconda3\\lib\\site-packages\\matplotlib\\backends\\backend_agg.py:238: RuntimeWarning: Glyph 44288 missing from current font.\n",
      "  font.set_text(s, 0.0, flags=flags)\n",
      "C:\\Users\\Seo\\anaconda3\\lib\\site-packages\\matplotlib\\backends\\backend_agg.py:238: RuntimeWarning: Glyph 46988 missing from current font.\n",
      "  font.set_text(s, 0.0, flags=flags)\n",
      "C:\\Users\\Seo\\anaconda3\\lib\\site-packages\\matplotlib\\backends\\backend_agg.py:238: RuntimeWarning: Glyph 44032 missing from current font.\n",
      "  font.set_text(s, 0.0, flags=flags)\n",
      "C:\\Users\\Seo\\anaconda3\\lib\\site-packages\\matplotlib\\backends\\backend_agg.py:238: RuntimeWarning: Glyph 51060 missing from current font.\n",
      "  font.set_text(s, 0.0, flags=flags)\n",
      "C:\\Users\\Seo\\anaconda3\\lib\\site-packages\\matplotlib\\backends\\backend_agg.py:238: RuntimeWarning: Glyph 49345 missing from current font.\n",
      "  font.set_text(s, 0.0, flags=flags)\n",
      "C:\\Users\\Seo\\anaconda3\\lib\\site-packages\\matplotlib\\backends\\backend_agg.py:238: RuntimeWarning: Glyph 51204 missing from current font.\n",
      "  font.set_text(s, 0.0, flags=flags)\n",
      "C:\\Users\\Seo\\anaconda3\\lib\\site-packages\\matplotlib\\backends\\backend_agg.py:238: RuntimeWarning: Glyph 52404 missing from current font.\n",
      "  font.set_text(s, 0.0, flags=flags)\n",
      "C:\\Users\\Seo\\anaconda3\\lib\\site-packages\\matplotlib\\backends\\backend_agg.py:238: RuntimeWarning: Glyph 52397 missing from current font.\n",
      "  font.set_text(s, 0.0, flags=flags)\n",
      "C:\\Users\\Seo\\anaconda3\\lib\\site-packages\\matplotlib\\backends\\backend_agg.py:238: RuntimeWarning: Glyph 49548 missing from current font.\n",
      "  font.set_text(s, 0.0, flags=flags)\n",
      "C:\\Users\\Seo\\anaconda3\\lib\\site-packages\\matplotlib\\backends\\backend_agg.py:238: RuntimeWarning: Glyph 45380 missing from current font.\n",
      "  font.set_text(s, 0.0, flags=flags)\n",
      "C:\\Users\\Seo\\anaconda3\\lib\\site-packages\\matplotlib\\backends\\backend_agg.py:238: RuntimeWarning: Glyph 48520 missing from current font.\n",
      "  font.set_text(s, 0.0, flags=flags)\n",
      "C:\\Users\\Seo\\anaconda3\\lib\\site-packages\\matplotlib\\backends\\backend_agg.py:201: RuntimeWarning: Glyph 46321 missing from current font.\n",
      "  font.set_text(s, 0, flags=flags)\n",
      "C:\\Users\\Seo\\anaconda3\\lib\\site-packages\\matplotlib\\backends\\backend_agg.py:201: RuntimeWarning: Glyph 44553 missing from current font.\n",
      "  font.set_text(s, 0, flags=flags)\n",
      "C:\\Users\\Seo\\anaconda3\\lib\\site-packages\\matplotlib\\backends\\backend_agg.py:201: RuntimeWarning: Glyph 49464 missing from current font.\n",
      "  font.set_text(s, 0, flags=flags)\n",
      "C:\\Users\\Seo\\anaconda3\\lib\\site-packages\\matplotlib\\backends\\backend_agg.py:201: RuntimeWarning: Glyph 44288 missing from current font.\n",
      "  font.set_text(s, 0, flags=flags)\n",
      "C:\\Users\\Seo\\anaconda3\\lib\\site-packages\\matplotlib\\backends\\backend_agg.py:201: RuntimeWarning: Glyph 46988 missing from current font.\n",
      "  font.set_text(s, 0, flags=flags)\n",
      "C:\\Users\\Seo\\anaconda3\\lib\\site-packages\\matplotlib\\backends\\backend_agg.py:201: RuntimeWarning: Glyph 44032 missing from current font.\n",
      "  font.set_text(s, 0, flags=flags)\n",
      "C:\\Users\\Seo\\anaconda3\\lib\\site-packages\\matplotlib\\backends\\backend_agg.py:201: RuntimeWarning: Glyph 51060 missing from current font.\n",
      "  font.set_text(s, 0, flags=flags)\n",
      "C:\\Users\\Seo\\anaconda3\\lib\\site-packages\\matplotlib\\backends\\backend_agg.py:201: RuntimeWarning: Glyph 49345 missing from current font.\n",
      "  font.set_text(s, 0, flags=flags)\n",
      "C:\\Users\\Seo\\anaconda3\\lib\\site-packages\\matplotlib\\backends\\backend_agg.py:201: RuntimeWarning: Glyph 51204 missing from current font.\n",
      "  font.set_text(s, 0, flags=flags)\n",
      "C:\\Users\\Seo\\anaconda3\\lib\\site-packages\\matplotlib\\backends\\backend_agg.py:201: RuntimeWarning: Glyph 52404 missing from current font.\n",
      "  font.set_text(s, 0, flags=flags)\n",
      "C:\\Users\\Seo\\anaconda3\\lib\\site-packages\\matplotlib\\backends\\backend_agg.py:201: RuntimeWarning: Glyph 52397 missing from current font.\n",
      "  font.set_text(s, 0, flags=flags)\n",
      "C:\\Users\\Seo\\anaconda3\\lib\\site-packages\\matplotlib\\backends\\backend_agg.py:201: RuntimeWarning: Glyph 49548 missing from current font.\n",
      "  font.set_text(s, 0, flags=flags)\n",
      "C:\\Users\\Seo\\anaconda3\\lib\\site-packages\\matplotlib\\backends\\backend_agg.py:201: RuntimeWarning: Glyph 45380 missing from current font.\n",
      "  font.set_text(s, 0, flags=flags)\n",
      "C:\\Users\\Seo\\anaconda3\\lib\\site-packages\\matplotlib\\backends\\backend_agg.py:201: RuntimeWarning: Glyph 48520 missing from current font.\n",
      "  font.set_text(s, 0, flags=flags)\n"
     ]
    },
    {
     "data": {
      "image/png": "[encoded data removed]",
      "text/plain": [
       "<Figure size 720x504 with 2 Axes>"
      ]
     },
     "metadata": {
      "needs_background": "light"
     },
     "output_type": "display_data"
    }
   ],
   "source": [
    "sns.heatmap(df_int.corr(), annot=True, cmap='RdYlGn', linewidth = 0.2 )\n",
    "fig = plt.gcf()\n",
    "fig.set_size_inches(10,7)\n",
    "plt.show()"
   ]
  },
  {
   "cell_type": "code",
   "execution_count": 31,
   "metadata": {},
   "outputs": [
    {
     "data": {
      "text/plain": [
       "array(['영국', '한국', '일본', '미국', '캐나다', '스페인', '프랑스', '이탈리아', '러시아', '대만',\n",
       "       '중국', '독일', '스웨덴', '아르헨티나', '벨기에', '터키', '말레이시아', '홍콩', '아일랜드',\n",
       "       '아이슬란드', '기타', '체코', '호주', '폴란드', '노르웨이', '마케도니아', '핀란드', '인도',\n",
       "       '브라질', '필리핀', '베네수엘라', '헝가리', '태국', '우크라이나', '이란', '멕시코', '덴마크',\n",
       "       '뉴질랜드', '칠레', '싱가포르', '네덜란드', '에스토니아', '그리스', '오스트리아', '페루',\n",
       "       '이스라엘', '팔레스타인', '스위스', '인도네시아', '불가리아', '슬로바키아', '모로코', '포르투갈',\n",
       "       '우즈베키스탄', '쿠바', '남아프리카공화국', '크로아티아', '루마니아', '세르비아', '우루과이', '베트남',\n",
       "       '카자흐스탄', '아랍에미리트연합국정부'], dtype=object)"
      ]
     },
     "execution_count": 31,
     "metadata": {},
     "output_type": "execute_result"
    }
   ],
   "source": [
    "df['국적'].unique()"
   ]
  },
  {
   "cell_type": "code",
   "execution_count": null,
   "metadata": {},
   "outputs": [],
   "source": []
  },
  {
   "cell_type": "code",
   "execution_count": null,
   "metadata": {},
   "outputs": [],
   "source": []
  }
 ],
 "metadata": {
  "kernelspec": {
   "display_name": "Python 3",
   "language": "python",
   "name": "python3"
  },
  "language_info": {
   "codemirror_mode": {
    "name": "ipython",
    "version": 3
   },
   "file_extension": ".py",
   "mimetype": "text/x-python",
   "name": "python",
   "nbconvert_exporter": "python",
   "pygments_lexer": "ipython3",
   "version": "3.8.5"
  },
  "toc": {
   "base_numbering": 1,
   "nav_menu": {},
   "number_sections": true,
   "sideBar": true,
   "skip_h1_title": false,
   "title_cell": "Table of Contents",
   "title_sidebar": "Contents",
   "toc_cell": false,
   "toc_position": {},
   "toc_section_display": true,
   "toc_window_display": false
  },
  "varInspector": {
   "cols": {
    "lenName": 16,
    "lenType": 16,
    "lenVar": 40
   },
   "kernels_config": {
    "python": {
     "delete_cmd_postfix": "",
     "delete_cmd_prefix": "del ",
     "library": "var_list.py",
     "varRefreshCmd": "print(var_dic_list())"
    },
    "r": {
     "delete_cmd_postfix": ") ",
     "delete_cmd_prefix": "rm(",
     "library": "var_list.r",
     "varRefreshCmd": "cat(var_dic_list()) "
    }
   },
   "types_to_exclude": [
    "module",
    "function",
    "builtin_function_or_method",
    "instance",
    "_Feature"
   ],
   "window_display": false
  }
 },
 "nbformat": 4,
 "nbformat_minor": 4
}
