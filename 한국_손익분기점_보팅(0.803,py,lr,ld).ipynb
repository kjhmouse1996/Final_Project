{
 "cells": [
  {
   "cell_type": "markdown",
   "metadata": {},
   "source": [
    "# 모델링"
   ]
  },
  {
   "cell_type": "markdown",
   "metadata": {},
   "source": [
    "## train_test_split"
   ]
  },
  {
   "cell_type": "code",
   "execution_count": 327,
   "metadata": {},
   "outputs": [],
   "source": [
    "import pandas as pd\n",
    "df_fin = pd.read_csv('전처리_final.csv')"
   ]
  },
  {
   "cell_type": "code",
   "execution_count": 304,
   "metadata": {},
   "outputs": [],
   "source": [
    "df_fin = pd.read_csv('전처리_screen_act있는.csv')"
   ]
  },
  {
   "cell_type": "code",
   "execution_count": 328,
   "metadata": {},
   "outputs": [
    {
     "data": {
      "text/html": [
       "<div>\n",
       "<style scoped>\n",
       "    .dataframe tbody tr th:only-of-type {\n",
       "        vertical-align: middle;\n",
       "    }\n",
       "\n",
       "    .dataframe tbody tr th {\n",
       "        vertical-align: top;\n",
       "    }\n",
       "\n",
       "    .dataframe thead th {\n",
       "        text-align: right;\n",
       "    }\n",
       "</style>\n",
       "<table border=\"1\" class=\"dataframe\">\n",
       "  <thead>\n",
       "    <tr style=\"text-align: right;\">\n",
       "      <th></th>\n",
       "      <th>dist_rank</th>\n",
       "      <th>genre_rank</th>\n",
       "      <th>direct_rank</th>\n",
       "      <th>네이버_기대지수</th>\n",
       "      <th>star_buzz</th>\n",
       "      <th>movie_buzz_naver</th>\n",
       "      <th>google_trend</th>\n",
       "      <th>Target</th>\n",
       "    </tr>\n",
       "  </thead>\n",
       "  <tbody>\n",
       "    <tr>\n",
       "      <th>0</th>\n",
       "      <td>4</td>\n",
       "      <td>5</td>\n",
       "      <td>67</td>\n",
       "      <td>1274.0</td>\n",
       "      <td>1629</td>\n",
       "      <td>22</td>\n",
       "      <td>773.0</td>\n",
       "      <td>0</td>\n",
       "    </tr>\n",
       "    <tr>\n",
       "      <th>1</th>\n",
       "      <td>8</td>\n",
       "      <td>13</td>\n",
       "      <td>67</td>\n",
       "      <td>3838.0</td>\n",
       "      <td>581</td>\n",
       "      <td>19</td>\n",
       "      <td>387.0</td>\n",
       "      <td>0</td>\n",
       "    </tr>\n",
       "    <tr>\n",
       "      <th>2</th>\n",
       "      <td>2</td>\n",
       "      <td>13</td>\n",
       "      <td>41</td>\n",
       "      <td>494.0</td>\n",
       "      <td>943</td>\n",
       "      <td>30</td>\n",
       "      <td>616.0</td>\n",
       "      <td>0</td>\n",
       "    </tr>\n",
       "    <tr>\n",
       "      <th>3</th>\n",
       "      <td>8</td>\n",
       "      <td>13</td>\n",
       "      <td>94</td>\n",
       "      <td>162.0</td>\n",
       "      <td>111</td>\n",
       "      <td>6</td>\n",
       "      <td>0.0</td>\n",
       "      <td>0</td>\n",
       "    </tr>\n",
       "    <tr>\n",
       "      <th>4</th>\n",
       "      <td>3</td>\n",
       "      <td>13</td>\n",
       "      <td>67</td>\n",
       "      <td>800.0</td>\n",
       "      <td>335</td>\n",
       "      <td>5</td>\n",
       "      <td>1674.0</td>\n",
       "      <td>0</td>\n",
       "    </tr>\n",
       "    <tr>\n",
       "      <th>...</th>\n",
       "      <td>...</td>\n",
       "      <td>...</td>\n",
       "      <td>...</td>\n",
       "      <td>...</td>\n",
       "      <td>...</td>\n",
       "      <td>...</td>\n",
       "      <td>...</td>\n",
       "      <td>...</td>\n",
       "    </tr>\n",
       "    <tr>\n",
       "      <th>570</th>\n",
       "      <td>3</td>\n",
       "      <td>13</td>\n",
       "      <td>5</td>\n",
       "      <td>13693.0</td>\n",
       "      <td>1987</td>\n",
       "      <td>219</td>\n",
       "      <td>947.0</td>\n",
       "      <td>1</td>\n",
       "    </tr>\n",
       "    <tr>\n",
       "      <th>571</th>\n",
       "      <td>2</td>\n",
       "      <td>13</td>\n",
       "      <td>72</td>\n",
       "      <td>10731.0</td>\n",
       "      <td>1196</td>\n",
       "      <td>124</td>\n",
       "      <td>886.0</td>\n",
       "      <td>0</td>\n",
       "    </tr>\n",
       "    <tr>\n",
       "      <th>572</th>\n",
       "      <td>4</td>\n",
       "      <td>1</td>\n",
       "      <td>5</td>\n",
       "      <td>4941.0</td>\n",
       "      <td>1413</td>\n",
       "      <td>379</td>\n",
       "      <td>0.0</td>\n",
       "      <td>1</td>\n",
       "    </tr>\n",
       "    <tr>\n",
       "      <th>573</th>\n",
       "      <td>7</td>\n",
       "      <td>8</td>\n",
       "      <td>100</td>\n",
       "      <td>247.0</td>\n",
       "      <td>147</td>\n",
       "      <td>25</td>\n",
       "      <td>459.0</td>\n",
       "      <td>0</td>\n",
       "    </tr>\n",
       "    <tr>\n",
       "      <th>574</th>\n",
       "      <td>3</td>\n",
       "      <td>13</td>\n",
       "      <td>67</td>\n",
       "      <td>13877.0</td>\n",
       "      <td>1830</td>\n",
       "      <td>61</td>\n",
       "      <td>2593.0</td>\n",
       "      <td>1</td>\n",
       "    </tr>\n",
       "  </tbody>\n",
       "</table>\n",
       "<p>575 rows × 8 columns</p>\n",
       "</div>"
      ],
      "text/plain": [
       "     dist_rank  genre_rank  direct_rank  네이버_기대지수  star_buzz  \\\n",
       "0            4           5           67    1274.0       1629   \n",
       "1            8          13           67    3838.0        581   \n",
       "2            2          13           41     494.0        943   \n",
       "3            8          13           94     162.0        111   \n",
       "4            3          13           67     800.0        335   \n",
       "..         ...         ...          ...       ...        ...   \n",
       "570          3          13            5   13693.0       1987   \n",
       "571          2          13           72   10731.0       1196   \n",
       "572          4           1            5    4941.0       1413   \n",
       "573          7           8          100     247.0        147   \n",
       "574          3          13           67   13877.0       1830   \n",
       "\n",
       "     movie_buzz_naver  google_trend  Target  \n",
       "0                  22         773.0       0  \n",
       "1                  19         387.0       0  \n",
       "2                  30         616.0       0  \n",
       "3                   6           0.0       0  \n",
       "4                   5        1674.0       0  \n",
       "..                ...           ...     ...  \n",
       "570               219         947.0       1  \n",
       "571               124         886.0       0  \n",
       "572               379           0.0       1  \n",
       "573                25         459.0       0  \n",
       "574                61        2593.0       1  \n",
       "\n",
       "[575 rows x 8 columns]"
      ]
     },
     "execution_count": 328,
     "metadata": {},
     "output_type": "execute_result"
    }
   ],
   "source": [
    "df_fin"
   ]
  },
  {
   "cell_type": "code",
   "execution_count": 260,
   "metadata": {
    "scrolled": true
   },
   "outputs": [],
   "source": [
    "df_fin = df_fin.drop('act_n', axis=1)"
   ]
  },
  {
   "cell_type": "code",
   "execution_count": 329,
   "metadata": {},
   "outputs": [],
   "source": [
    "y = df_fin['Target']\n",
    "x = df_fin.drop('Target', axis=1)"
   ]
  },
  {
   "cell_type": "code",
   "execution_count": 330,
   "metadata": {},
   "outputs": [],
   "source": [
    "from sklearn.model_selection import train_test_split\n",
    "X_train, X_test, y_train, y_test = train_test_split(x, y, test_size=0.3, random_state=100)"
   ]
  },
  {
   "cell_type": "code",
   "execution_count": 331,
   "metadata": {
    "scrolled": true
   },
   "outputs": [],
   "source": [
    "# train_test 정규화, 정규화하는 것이 더 좋은 결과를 낳음\n",
    "from sklearn.preprocessing import StandardScaler\n",
    " \n",
    "sc = StandardScaler()\n",
    "sc.fit(X_train)\n",
    " \n",
    "X_train_std = sc.transform(X_train)\n",
    "X_test_std = sc.transform(X_test)"
   ]
  },
  {
   "cell_type": "code",
   "execution_count": 332,
   "metadata": {},
   "outputs": [],
   "source": [
    "from sklearn.preprocessing import StandardScaler\n",
    " # 전체 데이터 정규화-pycaret용\n",
    "sc = StandardScaler()\n",
    "sc.fit(x)\n",
    " \n",
    "x_std = sc.transform(x)"
   ]
  },
  {
   "cell_type": "code",
   "execution_count": 333,
   "metadata": {},
   "outputs": [],
   "source": [
    "df_std = pd.DataFrame(x_std) # pycaret용"
   ]
  },
  {
   "cell_type": "code",
   "execution_count": 334,
   "metadata": {},
   "outputs": [],
   "source": [
    "df_std['Target'] = y"
   ]
  },
  {
   "cell_type": "code",
   "execution_count": 335,
   "metadata": {
    "scrolled": true
   },
   "outputs": [
    {
     "data": {
      "text/html": [
       "<div>\n",
       "<style scoped>\n",
       "    .dataframe tbody tr th:only-of-type {\n",
       "        vertical-align: middle;\n",
       "    }\n",
       "\n",
       "    .dataframe tbody tr th {\n",
       "        vertical-align: top;\n",
       "    }\n",
       "\n",
       "    .dataframe thead th {\n",
       "        text-align: right;\n",
       "    }\n",
       "</style>\n",
       "<table border=\"1\" class=\"dataframe\">\n",
       "  <thead>\n",
       "    <tr style=\"text-align: right;\">\n",
       "      <th></th>\n",
       "      <th>0</th>\n",
       "      <th>1</th>\n",
       "      <th>2</th>\n",
       "      <th>3</th>\n",
       "      <th>4</th>\n",
       "      <th>5</th>\n",
       "      <th>6</th>\n",
       "      <th>Target</th>\n",
       "    </tr>\n",
       "  </thead>\n",
       "  <tbody>\n",
       "    <tr>\n",
       "      <th>0</th>\n",
       "      <td>-0.449913</td>\n",
       "      <td>-1.141880</td>\n",
       "      <td>0.337342</td>\n",
       "      <td>-0.312967</td>\n",
       "      <td>1.188551</td>\n",
       "      <td>-0.444762</td>\n",
       "      <td>0.393764</td>\n",
       "      <td>0</td>\n",
       "    </tr>\n",
       "    <tr>\n",
       "      <th>1</th>\n",
       "      <td>1.069617</td>\n",
       "      <td>0.874491</td>\n",
       "      <td>0.337342</td>\n",
       "      <td>-0.019480</td>\n",
       "      <td>-0.315426</td>\n",
       "      <td>-0.487298</td>\n",
       "      <td>-0.372524</td>\n",
       "      <td>0</td>\n",
       "    </tr>\n",
       "    <tr>\n",
       "      <th>2</th>\n",
       "      <td>-1.209678</td>\n",
       "      <td>0.874491</td>\n",
       "      <td>-0.908217</td>\n",
       "      <td>-0.402250</td>\n",
       "      <td>0.204078</td>\n",
       "      <td>-0.331334</td>\n",
       "      <td>0.082087</td>\n",
       "      <td>0</td>\n",
       "    </tr>\n",
       "    <tr>\n",
       "      <th>3</th>\n",
       "      <td>1.069617</td>\n",
       "      <td>0.874491</td>\n",
       "      <td>1.630808</td>\n",
       "      <td>-0.440252</td>\n",
       "      <td>-0.989919</td>\n",
       "      <td>-0.671618</td>\n",
       "      <td>-1.140796</td>\n",
       "      <td>0</td>\n",
       "    </tr>\n",
       "    <tr>\n",
       "      <th>4</th>\n",
       "      <td>-0.829795</td>\n",
       "      <td>0.874491</td>\n",
       "      <td>0.337342</td>\n",
       "      <td>-0.367224</td>\n",
       "      <td>-0.668458</td>\n",
       "      <td>-0.685797</td>\n",
       "      <td>2.182429</td>\n",
       "      <td>0</td>\n",
       "    </tr>\n",
       "    <tr>\n",
       "      <th>...</th>\n",
       "      <td>...</td>\n",
       "      <td>...</td>\n",
       "      <td>...</td>\n",
       "      <td>...</td>\n",
       "      <td>...</td>\n",
       "      <td>...</td>\n",
       "      <td>...</td>\n",
       "      <td>...</td>\n",
       "    </tr>\n",
       "    <tr>\n",
       "      <th>570</th>\n",
       "      <td>-0.829795</td>\n",
       "      <td>0.874491</td>\n",
       "      <td>-2.632837</td>\n",
       "      <td>1.108570</td>\n",
       "      <td>1.702314</td>\n",
       "      <td>2.348408</td>\n",
       "      <td>0.739188</td>\n",
       "      <td>1</td>\n",
       "    </tr>\n",
       "    <tr>\n",
       "      <th>571</th>\n",
       "      <td>-1.209678</td>\n",
       "      <td>0.874491</td>\n",
       "      <td>0.576873</td>\n",
       "      <td>0.769525</td>\n",
       "      <td>0.567156</td>\n",
       "      <td>1.001448</td>\n",
       "      <td>0.618091</td>\n",
       "      <td>0</td>\n",
       "    </tr>\n",
       "    <tr>\n",
       "      <th>572</th>\n",
       "      <td>-0.449913</td>\n",
       "      <td>-2.150065</td>\n",
       "      <td>-2.632837</td>\n",
       "      <td>0.106775</td>\n",
       "      <td>0.878571</td>\n",
       "      <td>4.616973</td>\n",
       "      <td>-1.140796</td>\n",
       "      <td>1</td>\n",
       "    </tr>\n",
       "    <tr>\n",
       "      <th>573</th>\n",
       "      <td>0.689734</td>\n",
       "      <td>-0.385741</td>\n",
       "      <td>1.918245</td>\n",
       "      <td>-0.430523</td>\n",
       "      <td>-0.938256</td>\n",
       "      <td>-0.402226</td>\n",
       "      <td>-0.229589</td>\n",
       "      <td>0</td>\n",
       "    </tr>\n",
       "    <tr>\n",
       "      <th>574</th>\n",
       "      <td>-0.829795</td>\n",
       "      <td>0.874491</td>\n",
       "      <td>0.337342</td>\n",
       "      <td>1.129631</td>\n",
       "      <td>1.477004</td>\n",
       "      <td>0.108201</td>\n",
       "      <td>4.006828</td>\n",
       "      <td>1</td>\n",
       "    </tr>\n",
       "  </tbody>\n",
       "</table>\n",
       "<p>575 rows × 8 columns</p>\n",
       "</div>"
      ],
      "text/plain": [
       "            0         1         2         3         4         5         6  \\\n",
       "0   -0.449913 -1.141880  0.337342 -0.312967  1.188551 -0.444762  0.393764   \n",
       "1    1.069617  0.874491  0.337342 -0.019480 -0.315426 -0.487298 -0.372524   \n",
       "2   -1.209678  0.874491 -0.908217 -0.402250  0.204078 -0.331334  0.082087   \n",
       "3    1.069617  0.874491  1.630808 -0.440252 -0.989919 -0.671618 -1.140796   \n",
       "4   -0.829795  0.874491  0.337342 -0.367224 -0.668458 -0.685797  2.182429   \n",
       "..        ...       ...       ...       ...       ...       ...       ...   \n",
       "570 -0.829795  0.874491 -2.632837  1.108570  1.702314  2.348408  0.739188   \n",
       "571 -1.209678  0.874491  0.576873  0.769525  0.567156  1.001448  0.618091   \n",
       "572 -0.449913 -2.150065 -2.632837  0.106775  0.878571  4.616973 -1.140796   \n",
       "573  0.689734 -0.385741  1.918245 -0.430523 -0.938256 -0.402226 -0.229589   \n",
       "574 -0.829795  0.874491  0.337342  1.129631  1.477004  0.108201  4.006828   \n",
       "\n",
       "     Target  \n",
       "0         0  \n",
       "1         0  \n",
       "2         0  \n",
       "3         0  \n",
       "4         0  \n",
       "..      ...  \n",
       "570       1  \n",
       "571       0  \n",
       "572       1  \n",
       "573       0  \n",
       "574       1  \n",
       "\n",
       "[575 rows x 8 columns]"
      ]
     },
     "execution_count": 335,
     "metadata": {},
     "output_type": "execute_result"
    }
   ],
   "source": [
    "df_std # 정규화된 pycaret용 데이터셋"
   ]
  },
  {
   "cell_type": "markdown",
   "metadata": {},
   "source": [
    "## 총 11개의 알고리즘 사용"
   ]
  },
  {
   "cell_type": "markdown",
   "metadata": {},
   "source": [
    "### pycaret"
   ]
  },
  {
   "cell_type": "code",
   "execution_count": 349,
   "metadata": {},
   "outputs": [],
   "source": [
    "from pycaret.classification import *\n",
    "from sklearn.model_selection import train_test_split\n",
    "train, test = train_test_split(df_std, test_size=0.3, random_state=100)"
   ]
  },
  {
   "cell_type": "code",
   "execution_count": 350,
   "metadata": {
    "scrolled": true
   },
   "outputs": [
    {
     "data": {
      "text/html": [
       "<style  type=\"text/css\" >\n",
       "#T_e07e21ab_d137_11ec_bdd2_7085c2294e08row44_col1{\n",
       "            background-color:  lightgreen;\n",
       "        }</style><table id=\"T_e07e21ab_d137_11ec_bdd2_7085c2294e08\" ><thead>    <tr>        <th class=\"blank level0\" ></th>        <th class=\"col_heading level0 col0\" >Description</th>        <th class=\"col_heading level0 col1\" >Value</th>    </tr></thead><tbody>\n",
       "                <tr>\n",
       "                        <th id=\"T_e07e21ab_d137_11ec_bdd2_7085c2294e08level0_row0\" class=\"row_heading level0 row0\" >0</th>\n",
       "                        <td id=\"T_e07e21ab_d137_11ec_bdd2_7085c2294e08row0_col0\" class=\"data row0 col0\" >session_id</td>\n",
       "                        <td id=\"T_e07e21ab_d137_11ec_bdd2_7085c2294e08row0_col1\" class=\"data row0 col1\" >5125</td>\n",
       "            </tr>\n",
       "            <tr>\n",
       "                        <th id=\"T_e07e21ab_d137_11ec_bdd2_7085c2294e08level0_row1\" class=\"row_heading level0 row1\" >1</th>\n",
       "                        <td id=\"T_e07e21ab_d137_11ec_bdd2_7085c2294e08row1_col0\" class=\"data row1 col0\" >Target</td>\n",
       "                        <td id=\"T_e07e21ab_d137_11ec_bdd2_7085c2294e08row1_col1\" class=\"data row1 col1\" >Target</td>\n",
       "            </tr>\n",
       "            <tr>\n",
       "                        <th id=\"T_e07e21ab_d137_11ec_bdd2_7085c2294e08level0_row2\" class=\"row_heading level0 row2\" >2</th>\n",
       "                        <td id=\"T_e07e21ab_d137_11ec_bdd2_7085c2294e08row2_col0\" class=\"data row2 col0\" >Target Type</td>\n",
       "                        <td id=\"T_e07e21ab_d137_11ec_bdd2_7085c2294e08row2_col1\" class=\"data row2 col1\" >Binary</td>\n",
       "            </tr>\n",
       "            <tr>\n",
       "                        <th id=\"T_e07e21ab_d137_11ec_bdd2_7085c2294e08level0_row3\" class=\"row_heading level0 row3\" >3</th>\n",
       "                        <td id=\"T_e07e21ab_d137_11ec_bdd2_7085c2294e08row3_col0\" class=\"data row3 col0\" >Label Encoded</td>\n",
       "                        <td id=\"T_e07e21ab_d137_11ec_bdd2_7085c2294e08row3_col1\" class=\"data row3 col1\" >None</td>\n",
       "            </tr>\n",
       "            <tr>\n",
       "                        <th id=\"T_e07e21ab_d137_11ec_bdd2_7085c2294e08level0_row4\" class=\"row_heading level0 row4\" >4</th>\n",
       "                        <td id=\"T_e07e21ab_d137_11ec_bdd2_7085c2294e08row4_col0\" class=\"data row4 col0\" >Original Data</td>\n",
       "                        <td id=\"T_e07e21ab_d137_11ec_bdd2_7085c2294e08row4_col1\" class=\"data row4 col1\" >(402, 8)</td>\n",
       "            </tr>\n",
       "            <tr>\n",
       "                        <th id=\"T_e07e21ab_d137_11ec_bdd2_7085c2294e08level0_row5\" class=\"row_heading level0 row5\" >5</th>\n",
       "                        <td id=\"T_e07e21ab_d137_11ec_bdd2_7085c2294e08row5_col0\" class=\"data row5 col0\" >Missing Values</td>\n",
       "                        <td id=\"T_e07e21ab_d137_11ec_bdd2_7085c2294e08row5_col1\" class=\"data row5 col1\" >False</td>\n",
       "            </tr>\n",
       "            <tr>\n",
       "                        <th id=\"T_e07e21ab_d137_11ec_bdd2_7085c2294e08level0_row6\" class=\"row_heading level0 row6\" >6</th>\n",
       "                        <td id=\"T_e07e21ab_d137_11ec_bdd2_7085c2294e08row6_col0\" class=\"data row6 col0\" >Numeric Features</td>\n",
       "                        <td id=\"T_e07e21ab_d137_11ec_bdd2_7085c2294e08row6_col1\" class=\"data row6 col1\" >7</td>\n",
       "            </tr>\n",
       "            <tr>\n",
       "                        <th id=\"T_e07e21ab_d137_11ec_bdd2_7085c2294e08level0_row7\" class=\"row_heading level0 row7\" >7</th>\n",
       "                        <td id=\"T_e07e21ab_d137_11ec_bdd2_7085c2294e08row7_col0\" class=\"data row7 col0\" >Categorical Features</td>\n",
       "                        <td id=\"T_e07e21ab_d137_11ec_bdd2_7085c2294e08row7_col1\" class=\"data row7 col1\" >0</td>\n",
       "            </tr>\n",
       "            <tr>\n",
       "                        <th id=\"T_e07e21ab_d137_11ec_bdd2_7085c2294e08level0_row8\" class=\"row_heading level0 row8\" >8</th>\n",
       "                        <td id=\"T_e07e21ab_d137_11ec_bdd2_7085c2294e08row8_col0\" class=\"data row8 col0\" >Ordinal Features</td>\n",
       "                        <td id=\"T_e07e21ab_d137_11ec_bdd2_7085c2294e08row8_col1\" class=\"data row8 col1\" >False</td>\n",
       "            </tr>\n",
       "            <tr>\n",
       "                        <th id=\"T_e07e21ab_d137_11ec_bdd2_7085c2294e08level0_row9\" class=\"row_heading level0 row9\" >9</th>\n",
       "                        <td id=\"T_e07e21ab_d137_11ec_bdd2_7085c2294e08row9_col0\" class=\"data row9 col0\" >High Cardinality Features</td>\n",
       "                        <td id=\"T_e07e21ab_d137_11ec_bdd2_7085c2294e08row9_col1\" class=\"data row9 col1\" >False</td>\n",
       "            </tr>\n",
       "            <tr>\n",
       "                        <th id=\"T_e07e21ab_d137_11ec_bdd2_7085c2294e08level0_row10\" class=\"row_heading level0 row10\" >10</th>\n",
       "                        <td id=\"T_e07e21ab_d137_11ec_bdd2_7085c2294e08row10_col0\" class=\"data row10 col0\" >High Cardinality Method</td>\n",
       "                        <td id=\"T_e07e21ab_d137_11ec_bdd2_7085c2294e08row10_col1\" class=\"data row10 col1\" >None</td>\n",
       "            </tr>\n",
       "            <tr>\n",
       "                        <th id=\"T_e07e21ab_d137_11ec_bdd2_7085c2294e08level0_row11\" class=\"row_heading level0 row11\" >11</th>\n",
       "                        <td id=\"T_e07e21ab_d137_11ec_bdd2_7085c2294e08row11_col0\" class=\"data row11 col0\" >Transformed Train Set</td>\n",
       "                        <td id=\"T_e07e21ab_d137_11ec_bdd2_7085c2294e08row11_col1\" class=\"data row11 col1\" >(281, 7)</td>\n",
       "            </tr>\n",
       "            <tr>\n",
       "                        <th id=\"T_e07e21ab_d137_11ec_bdd2_7085c2294e08level0_row12\" class=\"row_heading level0 row12\" >12</th>\n",
       "                        <td id=\"T_e07e21ab_d137_11ec_bdd2_7085c2294e08row12_col0\" class=\"data row12 col0\" >Transformed Test Set</td>\n",
       "                        <td id=\"T_e07e21ab_d137_11ec_bdd2_7085c2294e08row12_col1\" class=\"data row12 col1\" >(121, 7)</td>\n",
       "            </tr>\n",
       "            <tr>\n",
       "                        <th id=\"T_e07e21ab_d137_11ec_bdd2_7085c2294e08level0_row13\" class=\"row_heading level0 row13\" >13</th>\n",
       "                        <td id=\"T_e07e21ab_d137_11ec_bdd2_7085c2294e08row13_col0\" class=\"data row13 col0\" >Shuffle Train-Test</td>\n",
       "                        <td id=\"T_e07e21ab_d137_11ec_bdd2_7085c2294e08row13_col1\" class=\"data row13 col1\" >True</td>\n",
       "            </tr>\n",
       "            <tr>\n",
       "                        <th id=\"T_e07e21ab_d137_11ec_bdd2_7085c2294e08level0_row14\" class=\"row_heading level0 row14\" >14</th>\n",
       "                        <td id=\"T_e07e21ab_d137_11ec_bdd2_7085c2294e08row14_col0\" class=\"data row14 col0\" >Stratify Train-Test</td>\n",
       "                        <td id=\"T_e07e21ab_d137_11ec_bdd2_7085c2294e08row14_col1\" class=\"data row14 col1\" >False</td>\n",
       "            </tr>\n",
       "            <tr>\n",
       "                        <th id=\"T_e07e21ab_d137_11ec_bdd2_7085c2294e08level0_row15\" class=\"row_heading level0 row15\" >15</th>\n",
       "                        <td id=\"T_e07e21ab_d137_11ec_bdd2_7085c2294e08row15_col0\" class=\"data row15 col0\" >Fold Generator</td>\n",
       "                        <td id=\"T_e07e21ab_d137_11ec_bdd2_7085c2294e08row15_col1\" class=\"data row15 col1\" >StratifiedKFold</td>\n",
       "            </tr>\n",
       "            <tr>\n",
       "                        <th id=\"T_e07e21ab_d137_11ec_bdd2_7085c2294e08level0_row16\" class=\"row_heading level0 row16\" >16</th>\n",
       "                        <td id=\"T_e07e21ab_d137_11ec_bdd2_7085c2294e08row16_col0\" class=\"data row16 col0\" >Fold Number</td>\n",
       "                        <td id=\"T_e07e21ab_d137_11ec_bdd2_7085c2294e08row16_col1\" class=\"data row16 col1\" >10</td>\n",
       "            </tr>\n",
       "            <tr>\n",
       "                        <th id=\"T_e07e21ab_d137_11ec_bdd2_7085c2294e08level0_row17\" class=\"row_heading level0 row17\" >17</th>\n",
       "                        <td id=\"T_e07e21ab_d137_11ec_bdd2_7085c2294e08row17_col0\" class=\"data row17 col0\" >CPU Jobs</td>\n",
       "                        <td id=\"T_e07e21ab_d137_11ec_bdd2_7085c2294e08row17_col1\" class=\"data row17 col1\" >-1</td>\n",
       "            </tr>\n",
       "            <tr>\n",
       "                        <th id=\"T_e07e21ab_d137_11ec_bdd2_7085c2294e08level0_row18\" class=\"row_heading level0 row18\" >18</th>\n",
       "                        <td id=\"T_e07e21ab_d137_11ec_bdd2_7085c2294e08row18_col0\" class=\"data row18 col0\" >Use GPU</td>\n",
       "                        <td id=\"T_e07e21ab_d137_11ec_bdd2_7085c2294e08row18_col1\" class=\"data row18 col1\" >False</td>\n",
       "            </tr>\n",
       "            <tr>\n",
       "                        <th id=\"T_e07e21ab_d137_11ec_bdd2_7085c2294e08level0_row19\" class=\"row_heading level0 row19\" >19</th>\n",
       "                        <td id=\"T_e07e21ab_d137_11ec_bdd2_7085c2294e08row19_col0\" class=\"data row19 col0\" >Log Experiment</td>\n",
       "                        <td id=\"T_e07e21ab_d137_11ec_bdd2_7085c2294e08row19_col1\" class=\"data row19 col1\" >False</td>\n",
       "            </tr>\n",
       "            <tr>\n",
       "                        <th id=\"T_e07e21ab_d137_11ec_bdd2_7085c2294e08level0_row20\" class=\"row_heading level0 row20\" >20</th>\n",
       "                        <td id=\"T_e07e21ab_d137_11ec_bdd2_7085c2294e08row20_col0\" class=\"data row20 col0\" >Experiment Name</td>\n",
       "                        <td id=\"T_e07e21ab_d137_11ec_bdd2_7085c2294e08row20_col1\" class=\"data row20 col1\" >clf-default-name</td>\n",
       "            </tr>\n",
       "            <tr>\n",
       "                        <th id=\"T_e07e21ab_d137_11ec_bdd2_7085c2294e08level0_row21\" class=\"row_heading level0 row21\" >21</th>\n",
       "                        <td id=\"T_e07e21ab_d137_11ec_bdd2_7085c2294e08row21_col0\" class=\"data row21 col0\" >USI</td>\n",
       "                        <td id=\"T_e07e21ab_d137_11ec_bdd2_7085c2294e08row21_col1\" class=\"data row21 col1\" >8137</td>\n",
       "            </tr>\n",
       "            <tr>\n",
       "                        <th id=\"T_e07e21ab_d137_11ec_bdd2_7085c2294e08level0_row22\" class=\"row_heading level0 row22\" >22</th>\n",
       "                        <td id=\"T_e07e21ab_d137_11ec_bdd2_7085c2294e08row22_col0\" class=\"data row22 col0\" >Imputation Type</td>\n",
       "                        <td id=\"T_e07e21ab_d137_11ec_bdd2_7085c2294e08row22_col1\" class=\"data row22 col1\" >simple</td>\n",
       "            </tr>\n",
       "            <tr>\n",
       "                        <th id=\"T_e07e21ab_d137_11ec_bdd2_7085c2294e08level0_row23\" class=\"row_heading level0 row23\" >23</th>\n",
       "                        <td id=\"T_e07e21ab_d137_11ec_bdd2_7085c2294e08row23_col0\" class=\"data row23 col0\" >Iterative Imputation Iteration</td>\n",
       "                        <td id=\"T_e07e21ab_d137_11ec_bdd2_7085c2294e08row23_col1\" class=\"data row23 col1\" >None</td>\n",
       "            </tr>\n",
       "            <tr>\n",
       "                        <th id=\"T_e07e21ab_d137_11ec_bdd2_7085c2294e08level0_row24\" class=\"row_heading level0 row24\" >24</th>\n",
       "                        <td id=\"T_e07e21ab_d137_11ec_bdd2_7085c2294e08row24_col0\" class=\"data row24 col0\" >Numeric Imputer</td>\n",
       "                        <td id=\"T_e07e21ab_d137_11ec_bdd2_7085c2294e08row24_col1\" class=\"data row24 col1\" >mean</td>\n",
       "            </tr>\n",
       "            <tr>\n",
       "                        <th id=\"T_e07e21ab_d137_11ec_bdd2_7085c2294e08level0_row25\" class=\"row_heading level0 row25\" >25</th>\n",
       "                        <td id=\"T_e07e21ab_d137_11ec_bdd2_7085c2294e08row25_col0\" class=\"data row25 col0\" >Iterative Imputation Numeric Model</td>\n",
       "                        <td id=\"T_e07e21ab_d137_11ec_bdd2_7085c2294e08row25_col1\" class=\"data row25 col1\" >None</td>\n",
       "            </tr>\n",
       "            <tr>\n",
       "                        <th id=\"T_e07e21ab_d137_11ec_bdd2_7085c2294e08level0_row26\" class=\"row_heading level0 row26\" >26</th>\n",
       "                        <td id=\"T_e07e21ab_d137_11ec_bdd2_7085c2294e08row26_col0\" class=\"data row26 col0\" >Categorical Imputer</td>\n",
       "                        <td id=\"T_e07e21ab_d137_11ec_bdd2_7085c2294e08row26_col1\" class=\"data row26 col1\" >constant</td>\n",
       "            </tr>\n",
       "            <tr>\n",
       "                        <th id=\"T_e07e21ab_d137_11ec_bdd2_7085c2294e08level0_row27\" class=\"row_heading level0 row27\" >27</th>\n",
       "                        <td id=\"T_e07e21ab_d137_11ec_bdd2_7085c2294e08row27_col0\" class=\"data row27 col0\" >Iterative Imputation Categorical Model</td>\n",
       "                        <td id=\"T_e07e21ab_d137_11ec_bdd2_7085c2294e08row27_col1\" class=\"data row27 col1\" >None</td>\n",
       "            </tr>\n",
       "            <tr>\n",
       "                        <th id=\"T_e07e21ab_d137_11ec_bdd2_7085c2294e08level0_row28\" class=\"row_heading level0 row28\" >28</th>\n",
       "                        <td id=\"T_e07e21ab_d137_11ec_bdd2_7085c2294e08row28_col0\" class=\"data row28 col0\" >Unknown Categoricals Handling</td>\n",
       "                        <td id=\"T_e07e21ab_d137_11ec_bdd2_7085c2294e08row28_col1\" class=\"data row28 col1\" >least_frequent</td>\n",
       "            </tr>\n",
       "            <tr>\n",
       "                        <th id=\"T_e07e21ab_d137_11ec_bdd2_7085c2294e08level0_row29\" class=\"row_heading level0 row29\" >29</th>\n",
       "                        <td id=\"T_e07e21ab_d137_11ec_bdd2_7085c2294e08row29_col0\" class=\"data row29 col0\" >Normalize</td>\n",
       "                        <td id=\"T_e07e21ab_d137_11ec_bdd2_7085c2294e08row29_col1\" class=\"data row29 col1\" >False</td>\n",
       "            </tr>\n",
       "            <tr>\n",
       "                        <th id=\"T_e07e21ab_d137_11ec_bdd2_7085c2294e08level0_row30\" class=\"row_heading level0 row30\" >30</th>\n",
       "                        <td id=\"T_e07e21ab_d137_11ec_bdd2_7085c2294e08row30_col0\" class=\"data row30 col0\" >Normalize Method</td>\n",
       "                        <td id=\"T_e07e21ab_d137_11ec_bdd2_7085c2294e08row30_col1\" class=\"data row30 col1\" >None</td>\n",
       "            </tr>\n",
       "            <tr>\n",
       "                        <th id=\"T_e07e21ab_d137_11ec_bdd2_7085c2294e08level0_row31\" class=\"row_heading level0 row31\" >31</th>\n",
       "                        <td id=\"T_e07e21ab_d137_11ec_bdd2_7085c2294e08row31_col0\" class=\"data row31 col0\" >Transformation</td>\n",
       "                        <td id=\"T_e07e21ab_d137_11ec_bdd2_7085c2294e08row31_col1\" class=\"data row31 col1\" >False</td>\n",
       "            </tr>\n",
       "            <tr>\n",
       "                        <th id=\"T_e07e21ab_d137_11ec_bdd2_7085c2294e08level0_row32\" class=\"row_heading level0 row32\" >32</th>\n",
       "                        <td id=\"T_e07e21ab_d137_11ec_bdd2_7085c2294e08row32_col0\" class=\"data row32 col0\" >Transformation Method</td>\n",
       "                        <td id=\"T_e07e21ab_d137_11ec_bdd2_7085c2294e08row32_col1\" class=\"data row32 col1\" >None</td>\n",
       "            </tr>\n",
       "            <tr>\n",
       "                        <th id=\"T_e07e21ab_d137_11ec_bdd2_7085c2294e08level0_row33\" class=\"row_heading level0 row33\" >33</th>\n",
       "                        <td id=\"T_e07e21ab_d137_11ec_bdd2_7085c2294e08row33_col0\" class=\"data row33 col0\" >PCA</td>\n",
       "                        <td id=\"T_e07e21ab_d137_11ec_bdd2_7085c2294e08row33_col1\" class=\"data row33 col1\" >False</td>\n",
       "            </tr>\n",
       "            <tr>\n",
       "                        <th id=\"T_e07e21ab_d137_11ec_bdd2_7085c2294e08level0_row34\" class=\"row_heading level0 row34\" >34</th>\n",
       "                        <td id=\"T_e07e21ab_d137_11ec_bdd2_7085c2294e08row34_col0\" class=\"data row34 col0\" >PCA Method</td>\n",
       "                        <td id=\"T_e07e21ab_d137_11ec_bdd2_7085c2294e08row34_col1\" class=\"data row34 col1\" >None</td>\n",
       "            </tr>\n",
       "            <tr>\n",
       "                        <th id=\"T_e07e21ab_d137_11ec_bdd2_7085c2294e08level0_row35\" class=\"row_heading level0 row35\" >35</th>\n",
       "                        <td id=\"T_e07e21ab_d137_11ec_bdd2_7085c2294e08row35_col0\" class=\"data row35 col0\" >PCA Components</td>\n",
       "                        <td id=\"T_e07e21ab_d137_11ec_bdd2_7085c2294e08row35_col1\" class=\"data row35 col1\" >None</td>\n",
       "            </tr>\n",
       "            <tr>\n",
       "                        <th id=\"T_e07e21ab_d137_11ec_bdd2_7085c2294e08level0_row36\" class=\"row_heading level0 row36\" >36</th>\n",
       "                        <td id=\"T_e07e21ab_d137_11ec_bdd2_7085c2294e08row36_col0\" class=\"data row36 col0\" >Ignore Low Variance</td>\n",
       "                        <td id=\"T_e07e21ab_d137_11ec_bdd2_7085c2294e08row36_col1\" class=\"data row36 col1\" >False</td>\n",
       "            </tr>\n",
       "            <tr>\n",
       "                        <th id=\"T_e07e21ab_d137_11ec_bdd2_7085c2294e08level0_row37\" class=\"row_heading level0 row37\" >37</th>\n",
       "                        <td id=\"T_e07e21ab_d137_11ec_bdd2_7085c2294e08row37_col0\" class=\"data row37 col0\" >Combine Rare Levels</td>\n",
       "                        <td id=\"T_e07e21ab_d137_11ec_bdd2_7085c2294e08row37_col1\" class=\"data row37 col1\" >False</td>\n",
       "            </tr>\n",
       "            <tr>\n",
       "                        <th id=\"T_e07e21ab_d137_11ec_bdd2_7085c2294e08level0_row38\" class=\"row_heading level0 row38\" >38</th>\n",
       "                        <td id=\"T_e07e21ab_d137_11ec_bdd2_7085c2294e08row38_col0\" class=\"data row38 col0\" >Rare Level Threshold</td>\n",
       "                        <td id=\"T_e07e21ab_d137_11ec_bdd2_7085c2294e08row38_col1\" class=\"data row38 col1\" >None</td>\n",
       "            </tr>\n",
       "            <tr>\n",
       "                        <th id=\"T_e07e21ab_d137_11ec_bdd2_7085c2294e08level0_row39\" class=\"row_heading level0 row39\" >39</th>\n",
       "                        <td id=\"T_e07e21ab_d137_11ec_bdd2_7085c2294e08row39_col0\" class=\"data row39 col0\" >Numeric Binning</td>\n",
       "                        <td id=\"T_e07e21ab_d137_11ec_bdd2_7085c2294e08row39_col1\" class=\"data row39 col1\" >False</td>\n",
       "            </tr>\n",
       "            <tr>\n",
       "                        <th id=\"T_e07e21ab_d137_11ec_bdd2_7085c2294e08level0_row40\" class=\"row_heading level0 row40\" >40</th>\n",
       "                        <td id=\"T_e07e21ab_d137_11ec_bdd2_7085c2294e08row40_col0\" class=\"data row40 col0\" >Remove Outliers</td>\n",
       "                        <td id=\"T_e07e21ab_d137_11ec_bdd2_7085c2294e08row40_col1\" class=\"data row40 col1\" >False</td>\n",
       "            </tr>\n",
       "            <tr>\n",
       "                        <th id=\"T_e07e21ab_d137_11ec_bdd2_7085c2294e08level0_row41\" class=\"row_heading level0 row41\" >41</th>\n",
       "                        <td id=\"T_e07e21ab_d137_11ec_bdd2_7085c2294e08row41_col0\" class=\"data row41 col0\" >Outliers Threshold</td>\n",
       "                        <td id=\"T_e07e21ab_d137_11ec_bdd2_7085c2294e08row41_col1\" class=\"data row41 col1\" >None</td>\n",
       "            </tr>\n",
       "            <tr>\n",
       "                        <th id=\"T_e07e21ab_d137_11ec_bdd2_7085c2294e08level0_row42\" class=\"row_heading level0 row42\" >42</th>\n",
       "                        <td id=\"T_e07e21ab_d137_11ec_bdd2_7085c2294e08row42_col0\" class=\"data row42 col0\" >Remove Multicollinearity</td>\n",
       "                        <td id=\"T_e07e21ab_d137_11ec_bdd2_7085c2294e08row42_col1\" class=\"data row42 col1\" >False</td>\n",
       "            </tr>\n",
       "            <tr>\n",
       "                        <th id=\"T_e07e21ab_d137_11ec_bdd2_7085c2294e08level0_row43\" class=\"row_heading level0 row43\" >43</th>\n",
       "                        <td id=\"T_e07e21ab_d137_11ec_bdd2_7085c2294e08row43_col0\" class=\"data row43 col0\" >Multicollinearity Threshold</td>\n",
       "                        <td id=\"T_e07e21ab_d137_11ec_bdd2_7085c2294e08row43_col1\" class=\"data row43 col1\" >None</td>\n",
       "            </tr>\n",
       "            <tr>\n",
       "                        <th id=\"T_e07e21ab_d137_11ec_bdd2_7085c2294e08level0_row44\" class=\"row_heading level0 row44\" >44</th>\n",
       "                        <td id=\"T_e07e21ab_d137_11ec_bdd2_7085c2294e08row44_col0\" class=\"data row44 col0\" >Remove Perfect Collinearity</td>\n",
       "                        <td id=\"T_e07e21ab_d137_11ec_bdd2_7085c2294e08row44_col1\" class=\"data row44 col1\" >True</td>\n",
       "            </tr>\n",
       "            <tr>\n",
       "                        <th id=\"T_e07e21ab_d137_11ec_bdd2_7085c2294e08level0_row45\" class=\"row_heading level0 row45\" >45</th>\n",
       "                        <td id=\"T_e07e21ab_d137_11ec_bdd2_7085c2294e08row45_col0\" class=\"data row45 col0\" >Clustering</td>\n",
       "                        <td id=\"T_e07e21ab_d137_11ec_bdd2_7085c2294e08row45_col1\" class=\"data row45 col1\" >False</td>\n",
       "            </tr>\n",
       "            <tr>\n",
       "                        <th id=\"T_e07e21ab_d137_11ec_bdd2_7085c2294e08level0_row46\" class=\"row_heading level0 row46\" >46</th>\n",
       "                        <td id=\"T_e07e21ab_d137_11ec_bdd2_7085c2294e08row46_col0\" class=\"data row46 col0\" >Clustering Iteration</td>\n",
       "                        <td id=\"T_e07e21ab_d137_11ec_bdd2_7085c2294e08row46_col1\" class=\"data row46 col1\" >None</td>\n",
       "            </tr>\n",
       "            <tr>\n",
       "                        <th id=\"T_e07e21ab_d137_11ec_bdd2_7085c2294e08level0_row47\" class=\"row_heading level0 row47\" >47</th>\n",
       "                        <td id=\"T_e07e21ab_d137_11ec_bdd2_7085c2294e08row47_col0\" class=\"data row47 col0\" >Polynomial Features</td>\n",
       "                        <td id=\"T_e07e21ab_d137_11ec_bdd2_7085c2294e08row47_col1\" class=\"data row47 col1\" >False</td>\n",
       "            </tr>\n",
       "            <tr>\n",
       "                        <th id=\"T_e07e21ab_d137_11ec_bdd2_7085c2294e08level0_row48\" class=\"row_heading level0 row48\" >48</th>\n",
       "                        <td id=\"T_e07e21ab_d137_11ec_bdd2_7085c2294e08row48_col0\" class=\"data row48 col0\" >Polynomial Degree</td>\n",
       "                        <td id=\"T_e07e21ab_d137_11ec_bdd2_7085c2294e08row48_col1\" class=\"data row48 col1\" >None</td>\n",
       "            </tr>\n",
       "            <tr>\n",
       "                        <th id=\"T_e07e21ab_d137_11ec_bdd2_7085c2294e08level0_row49\" class=\"row_heading level0 row49\" >49</th>\n",
       "                        <td id=\"T_e07e21ab_d137_11ec_bdd2_7085c2294e08row49_col0\" class=\"data row49 col0\" >Trignometry Features</td>\n",
       "                        <td id=\"T_e07e21ab_d137_11ec_bdd2_7085c2294e08row49_col1\" class=\"data row49 col1\" >False</td>\n",
       "            </tr>\n",
       "            <tr>\n",
       "                        <th id=\"T_e07e21ab_d137_11ec_bdd2_7085c2294e08level0_row50\" class=\"row_heading level0 row50\" >50</th>\n",
       "                        <td id=\"T_e07e21ab_d137_11ec_bdd2_7085c2294e08row50_col0\" class=\"data row50 col0\" >Polynomial Threshold</td>\n",
       "                        <td id=\"T_e07e21ab_d137_11ec_bdd2_7085c2294e08row50_col1\" class=\"data row50 col1\" >None</td>\n",
       "            </tr>\n",
       "            <tr>\n",
       "                        <th id=\"T_e07e21ab_d137_11ec_bdd2_7085c2294e08level0_row51\" class=\"row_heading level0 row51\" >51</th>\n",
       "                        <td id=\"T_e07e21ab_d137_11ec_bdd2_7085c2294e08row51_col0\" class=\"data row51 col0\" >Group Features</td>\n",
       "                        <td id=\"T_e07e21ab_d137_11ec_bdd2_7085c2294e08row51_col1\" class=\"data row51 col1\" >False</td>\n",
       "            </tr>\n",
       "            <tr>\n",
       "                        <th id=\"T_e07e21ab_d137_11ec_bdd2_7085c2294e08level0_row52\" class=\"row_heading level0 row52\" >52</th>\n",
       "                        <td id=\"T_e07e21ab_d137_11ec_bdd2_7085c2294e08row52_col0\" class=\"data row52 col0\" >Feature Selection</td>\n",
       "                        <td id=\"T_e07e21ab_d137_11ec_bdd2_7085c2294e08row52_col1\" class=\"data row52 col1\" >False</td>\n",
       "            </tr>\n",
       "            <tr>\n",
       "                        <th id=\"T_e07e21ab_d137_11ec_bdd2_7085c2294e08level0_row53\" class=\"row_heading level0 row53\" >53</th>\n",
       "                        <td id=\"T_e07e21ab_d137_11ec_bdd2_7085c2294e08row53_col0\" class=\"data row53 col0\" >Feature Selection Method</td>\n",
       "                        <td id=\"T_e07e21ab_d137_11ec_bdd2_7085c2294e08row53_col1\" class=\"data row53 col1\" >classic</td>\n",
       "            </tr>\n",
       "            <tr>\n",
       "                        <th id=\"T_e07e21ab_d137_11ec_bdd2_7085c2294e08level0_row54\" class=\"row_heading level0 row54\" >54</th>\n",
       "                        <td id=\"T_e07e21ab_d137_11ec_bdd2_7085c2294e08row54_col0\" class=\"data row54 col0\" >Features Selection Threshold</td>\n",
       "                        <td id=\"T_e07e21ab_d137_11ec_bdd2_7085c2294e08row54_col1\" class=\"data row54 col1\" >None</td>\n",
       "            </tr>\n",
       "            <tr>\n",
       "                        <th id=\"T_e07e21ab_d137_11ec_bdd2_7085c2294e08level0_row55\" class=\"row_heading level0 row55\" >55</th>\n",
       "                        <td id=\"T_e07e21ab_d137_11ec_bdd2_7085c2294e08row55_col0\" class=\"data row55 col0\" >Feature Interaction</td>\n",
       "                        <td id=\"T_e07e21ab_d137_11ec_bdd2_7085c2294e08row55_col1\" class=\"data row55 col1\" >False</td>\n",
       "            </tr>\n",
       "            <tr>\n",
       "                        <th id=\"T_e07e21ab_d137_11ec_bdd2_7085c2294e08level0_row56\" class=\"row_heading level0 row56\" >56</th>\n",
       "                        <td id=\"T_e07e21ab_d137_11ec_bdd2_7085c2294e08row56_col0\" class=\"data row56 col0\" >Feature Ratio</td>\n",
       "                        <td id=\"T_e07e21ab_d137_11ec_bdd2_7085c2294e08row56_col1\" class=\"data row56 col1\" >False</td>\n",
       "            </tr>\n",
       "            <tr>\n",
       "                        <th id=\"T_e07e21ab_d137_11ec_bdd2_7085c2294e08level0_row57\" class=\"row_heading level0 row57\" >57</th>\n",
       "                        <td id=\"T_e07e21ab_d137_11ec_bdd2_7085c2294e08row57_col0\" class=\"data row57 col0\" >Interaction Threshold</td>\n",
       "                        <td id=\"T_e07e21ab_d137_11ec_bdd2_7085c2294e08row57_col1\" class=\"data row57 col1\" >None</td>\n",
       "            </tr>\n",
       "            <tr>\n",
       "                        <th id=\"T_e07e21ab_d137_11ec_bdd2_7085c2294e08level0_row58\" class=\"row_heading level0 row58\" >58</th>\n",
       "                        <td id=\"T_e07e21ab_d137_11ec_bdd2_7085c2294e08row58_col0\" class=\"data row58 col0\" >Fix Imbalance</td>\n",
       "                        <td id=\"T_e07e21ab_d137_11ec_bdd2_7085c2294e08row58_col1\" class=\"data row58 col1\" >False</td>\n",
       "            </tr>\n",
       "            <tr>\n",
       "                        <th id=\"T_e07e21ab_d137_11ec_bdd2_7085c2294e08level0_row59\" class=\"row_heading level0 row59\" >59</th>\n",
       "                        <td id=\"T_e07e21ab_d137_11ec_bdd2_7085c2294e08row59_col0\" class=\"data row59 col0\" >Fix Imbalance Method</td>\n",
       "                        <td id=\"T_e07e21ab_d137_11ec_bdd2_7085c2294e08row59_col1\" class=\"data row59 col1\" >SMOTE</td>\n",
       "            </tr>\n",
       "    </tbody></table>"
      ],
      "text/plain": [
       "<pandas.io.formats.style.Styler at 0x1651db57a30>"
      ]
     },
     "metadata": {},
     "output_type": "display_data"
    }
   ],
   "source": [
    "setup_clf = setup(data = train, target= 'Target', fold_shuffle=True)"
   ]
  },
  {
   "cell_type": "code",
   "execution_count": 351,
   "metadata": {
    "scrolled": true
   },
   "outputs": [
    {
     "data": {
      "text/html": [
       "<style  type=\"text/css\" >\n",
       "    #T_f02db8e1_d137_11ec_8d08_7085c2294e08 th {\n",
       "          text-align: left;\n",
       "    }#T_f02db8e1_d137_11ec_8d08_7085c2294e08row0_col0,#T_f02db8e1_d137_11ec_8d08_7085c2294e08row0_col1,#T_f02db8e1_d137_11ec_8d08_7085c2294e08row0_col2,#T_f02db8e1_d137_11ec_8d08_7085c2294e08row0_col3,#T_f02db8e1_d137_11ec_8d08_7085c2294e08row0_col4,#T_f02db8e1_d137_11ec_8d08_7085c2294e08row0_col7,#T_f02db8e1_d137_11ec_8d08_7085c2294e08row1_col0,#T_f02db8e1_d137_11ec_8d08_7085c2294e08row1_col1,#T_f02db8e1_d137_11ec_8d08_7085c2294e08row1_col2,#T_f02db8e1_d137_11ec_8d08_7085c2294e08row1_col4,#T_f02db8e1_d137_11ec_8d08_7085c2294e08row1_col5,#T_f02db8e1_d137_11ec_8d08_7085c2294e08row1_col6,#T_f02db8e1_d137_11ec_8d08_7085c2294e08row1_col7,#T_f02db8e1_d137_11ec_8d08_7085c2294e08row2_col0,#T_f02db8e1_d137_11ec_8d08_7085c2294e08row2_col1,#T_f02db8e1_d137_11ec_8d08_7085c2294e08row2_col3,#T_f02db8e1_d137_11ec_8d08_7085c2294e08row2_col4,#T_f02db8e1_d137_11ec_8d08_7085c2294e08row2_col5,#T_f02db8e1_d137_11ec_8d08_7085c2294e08row2_col6,#T_f02db8e1_d137_11ec_8d08_7085c2294e08row3_col0,#T_f02db8e1_d137_11ec_8d08_7085c2294e08row3_col1,#T_f02db8e1_d137_11ec_8d08_7085c2294e08row3_col2,#T_f02db8e1_d137_11ec_8d08_7085c2294e08row3_col3,#T_f02db8e1_d137_11ec_8d08_7085c2294e08row3_col4,#T_f02db8e1_d137_11ec_8d08_7085c2294e08row3_col5,#T_f02db8e1_d137_11ec_8d08_7085c2294e08row3_col6,#T_f02db8e1_d137_11ec_8d08_7085c2294e08row3_col7,#T_f02db8e1_d137_11ec_8d08_7085c2294e08row4_col0,#T_f02db8e1_d137_11ec_8d08_7085c2294e08row4_col1,#T_f02db8e1_d137_11ec_8d08_7085c2294e08row4_col2,#T_f02db8e1_d137_11ec_8d08_7085c2294e08row4_col3,#T_f02db8e1_d137_11ec_8d08_7085c2294e08row4_col4,#T_f02db8e1_d137_11ec_8d08_7085c2294e08row4_col5,#T_f02db8e1_d137_11ec_8d08_7085c2294e08row4_col6,#T_f02db8e1_d137_11ec_8d08_7085c2294e08row4_col7,#T_f02db8e1_d137_11ec_8d08_7085c2294e08row5_col0,#T_f02db8e1_d137_11ec_8d08_7085c2294e08row5_col2,#T_f02db8e1_d137_11ec_8d08_7085c2294e08row5_col3,#T_f02db8e1_d137_11ec_8d08_7085c2294e08row5_col5,#T_f02db8e1_d137_11ec_8d08_7085c2294e08row5_col6,#T_f02db8e1_d137_11ec_8d08_7085c2294e08row5_col7,#T_f02db8e1_d137_11ec_8d08_7085c2294e08row6_col0,#T_f02db8e1_d137_11ec_8d08_7085c2294e08row6_col1,#T_f02db8e1_d137_11ec_8d08_7085c2294e08row6_col2,#T_f02db8e1_d137_11ec_8d08_7085c2294e08row6_col3,#T_f02db8e1_d137_11ec_8d08_7085c2294e08row6_col4,#T_f02db8e1_d137_11ec_8d08_7085c2294e08row6_col5,#T_f02db8e1_d137_11ec_8d08_7085c2294e08row6_col6,#T_f02db8e1_d137_11ec_8d08_7085c2294e08row6_col7,#T_f02db8e1_d137_11ec_8d08_7085c2294e08row7_col0,#T_f02db8e1_d137_11ec_8d08_7085c2294e08row7_col1,#T_f02db8e1_d137_11ec_8d08_7085c2294e08row7_col2,#T_f02db8e1_d137_11ec_8d08_7085c2294e08row7_col3,#T_f02db8e1_d137_11ec_8d08_7085c2294e08row7_col4,#T_f02db8e1_d137_11ec_8d08_7085c2294e08row7_col5,#T_f02db8e1_d137_11ec_8d08_7085c2294e08row7_col6,#T_f02db8e1_d137_11ec_8d08_7085c2294e08row7_col7,#T_f02db8e1_d137_11ec_8d08_7085c2294e08row8_col0,#T_f02db8e1_d137_11ec_8d08_7085c2294e08row8_col1,#T_f02db8e1_d137_11ec_8d08_7085c2294e08row8_col2,#T_f02db8e1_d137_11ec_8d08_7085c2294e08row8_col3,#T_f02db8e1_d137_11ec_8d08_7085c2294e08row8_col4,#T_f02db8e1_d137_11ec_8d08_7085c2294e08row8_col5,#T_f02db8e1_d137_11ec_8d08_7085c2294e08row8_col6,#T_f02db8e1_d137_11ec_8d08_7085c2294e08row8_col7,#T_f02db8e1_d137_11ec_8d08_7085c2294e08row9_col0,#T_f02db8e1_d137_11ec_8d08_7085c2294e08row9_col1,#T_f02db8e1_d137_11ec_8d08_7085c2294e08row9_col2,#T_f02db8e1_d137_11ec_8d08_7085c2294e08row9_col3,#T_f02db8e1_d137_11ec_8d08_7085c2294e08row9_col4,#T_f02db8e1_d137_11ec_8d08_7085c2294e08row9_col5,#T_f02db8e1_d137_11ec_8d08_7085c2294e08row9_col6,#T_f02db8e1_d137_11ec_8d08_7085c2294e08row9_col7,#T_f02db8e1_d137_11ec_8d08_7085c2294e08row10_col0,#T_f02db8e1_d137_11ec_8d08_7085c2294e08row10_col1,#T_f02db8e1_d137_11ec_8d08_7085c2294e08row10_col2,#T_f02db8e1_d137_11ec_8d08_7085c2294e08row10_col3,#T_f02db8e1_d137_11ec_8d08_7085c2294e08row10_col4,#T_f02db8e1_d137_11ec_8d08_7085c2294e08row10_col5,#T_f02db8e1_d137_11ec_8d08_7085c2294e08row10_col6,#T_f02db8e1_d137_11ec_8d08_7085c2294e08row10_col7,#T_f02db8e1_d137_11ec_8d08_7085c2294e08row11_col0,#T_f02db8e1_d137_11ec_8d08_7085c2294e08row11_col1,#T_f02db8e1_d137_11ec_8d08_7085c2294e08row11_col2,#T_f02db8e1_d137_11ec_8d08_7085c2294e08row11_col3,#T_f02db8e1_d137_11ec_8d08_7085c2294e08row11_col4,#T_f02db8e1_d137_11ec_8d08_7085c2294e08row11_col5,#T_f02db8e1_d137_11ec_8d08_7085c2294e08row11_col6,#T_f02db8e1_d137_11ec_8d08_7085c2294e08row11_col7,#T_f02db8e1_d137_11ec_8d08_7085c2294e08row12_col0,#T_f02db8e1_d137_11ec_8d08_7085c2294e08row12_col1,#T_f02db8e1_d137_11ec_8d08_7085c2294e08row12_col2,#T_f02db8e1_d137_11ec_8d08_7085c2294e08row12_col3,#T_f02db8e1_d137_11ec_8d08_7085c2294e08row12_col4,#T_f02db8e1_d137_11ec_8d08_7085c2294e08row12_col5,#T_f02db8e1_d137_11ec_8d08_7085c2294e08row12_col6,#T_f02db8e1_d137_11ec_8d08_7085c2294e08row12_col7,#T_f02db8e1_d137_11ec_8d08_7085c2294e08row13_col0,#T_f02db8e1_d137_11ec_8d08_7085c2294e08row13_col1,#T_f02db8e1_d137_11ec_8d08_7085c2294e08row13_col2,#T_f02db8e1_d137_11ec_8d08_7085c2294e08row13_col3,#T_f02db8e1_d137_11ec_8d08_7085c2294e08row13_col4,#T_f02db8e1_d137_11ec_8d08_7085c2294e08row13_col5,#T_f02db8e1_d137_11ec_8d08_7085c2294e08row13_col6,#T_f02db8e1_d137_11ec_8d08_7085c2294e08row13_col7,#T_f02db8e1_d137_11ec_8d08_7085c2294e08row14_col0,#T_f02db8e1_d137_11ec_8d08_7085c2294e08row14_col1,#T_f02db8e1_d137_11ec_8d08_7085c2294e08row14_col2,#T_f02db8e1_d137_11ec_8d08_7085c2294e08row14_col3,#T_f02db8e1_d137_11ec_8d08_7085c2294e08row14_col4,#T_f02db8e1_d137_11ec_8d08_7085c2294e08row14_col5,#T_f02db8e1_d137_11ec_8d08_7085c2294e08row14_col6,#T_f02db8e1_d137_11ec_8d08_7085c2294e08row14_col7,#T_f02db8e1_d137_11ec_8d08_7085c2294e08row15_col0,#T_f02db8e1_d137_11ec_8d08_7085c2294e08row15_col1,#T_f02db8e1_d137_11ec_8d08_7085c2294e08row15_col2,#T_f02db8e1_d137_11ec_8d08_7085c2294e08row15_col3,#T_f02db8e1_d137_11ec_8d08_7085c2294e08row15_col4,#T_f02db8e1_d137_11ec_8d08_7085c2294e08row15_col5,#T_f02db8e1_d137_11ec_8d08_7085c2294e08row15_col6,#T_f02db8e1_d137_11ec_8d08_7085c2294e08row15_col7{\n",
       "            text-align:  left;\n",
       "            text-align:  left;\n",
       "        }#T_f02db8e1_d137_11ec_8d08_7085c2294e08row0_col5,#T_f02db8e1_d137_11ec_8d08_7085c2294e08row0_col6,#T_f02db8e1_d137_11ec_8d08_7085c2294e08row1_col3,#T_f02db8e1_d137_11ec_8d08_7085c2294e08row2_col2,#T_f02db8e1_d137_11ec_8d08_7085c2294e08row2_col7,#T_f02db8e1_d137_11ec_8d08_7085c2294e08row5_col1,#T_f02db8e1_d137_11ec_8d08_7085c2294e08row5_col4{\n",
       "            text-align:  left;\n",
       "            text-align:  left;\n",
       "            background-color:  yellow;\n",
       "        }#T_f02db8e1_d137_11ec_8d08_7085c2294e08row0_col8,#T_f02db8e1_d137_11ec_8d08_7085c2294e08row2_col8,#T_f02db8e1_d137_11ec_8d08_7085c2294e08row3_col8,#T_f02db8e1_d137_11ec_8d08_7085c2294e08row4_col8,#T_f02db8e1_d137_11ec_8d08_7085c2294e08row5_col8,#T_f02db8e1_d137_11ec_8d08_7085c2294e08row6_col8,#T_f02db8e1_d137_11ec_8d08_7085c2294e08row8_col8,#T_f02db8e1_d137_11ec_8d08_7085c2294e08row9_col8,#T_f02db8e1_d137_11ec_8d08_7085c2294e08row10_col8,#T_f02db8e1_d137_11ec_8d08_7085c2294e08row11_col8,#T_f02db8e1_d137_11ec_8d08_7085c2294e08row12_col8,#T_f02db8e1_d137_11ec_8d08_7085c2294e08row13_col8,#T_f02db8e1_d137_11ec_8d08_7085c2294e08row14_col8,#T_f02db8e1_d137_11ec_8d08_7085c2294e08row15_col8{\n",
       "            text-align:  left;\n",
       "            text-align:  left;\n",
       "            background-color:  lightgrey;\n",
       "        }#T_f02db8e1_d137_11ec_8d08_7085c2294e08row1_col8,#T_f02db8e1_d137_11ec_8d08_7085c2294e08row7_col8{\n",
       "            text-align:  left;\n",
       "            text-align:  left;\n",
       "            background-color:  yellow;\n",
       "            background-color:  lightgrey;\n",
       "        }</style><table id=\"T_f02db8e1_d137_11ec_8d08_7085c2294e08\" ><thead>    <tr>        <th class=\"blank level0\" ></th>        <th class=\"col_heading level0 col0\" >Model</th>        <th class=\"col_heading level0 col1\" >Accuracy</th>        <th class=\"col_heading level0 col2\" >AUC</th>        <th class=\"col_heading level0 col3\" >Recall</th>        <th class=\"col_heading level0 col4\" >Prec.</th>        <th class=\"col_heading level0 col5\" >F1</th>        <th class=\"col_heading level0 col6\" >Kappa</th>        <th class=\"col_heading level0 col7\" >MCC</th>        <th class=\"col_heading level0 col8\" >TT (Sec)</th>    </tr></thead><tbody>\n",
       "                <tr>\n",
       "                        <th id=\"T_f02db8e1_d137_11ec_8d08_7085c2294e08level0_row0\" class=\"row_heading level0 row0\" >nb</th>\n",
       "                        <td id=\"T_f02db8e1_d137_11ec_8d08_7085c2294e08row0_col0\" class=\"data row0 col0\" >Naive Bayes</td>\n",
       "                        <td id=\"T_f02db8e1_d137_11ec_8d08_7085c2294e08row0_col1\" class=\"data row0 col1\" >0.7473</td>\n",
       "                        <td id=\"T_f02db8e1_d137_11ec_8d08_7085c2294e08row0_col2\" class=\"data row0 col2\" >0.7291</td>\n",
       "                        <td id=\"T_f02db8e1_d137_11ec_8d08_7085c2294e08row0_col3\" class=\"data row0 col3\" >0.3976</td>\n",
       "                        <td id=\"T_f02db8e1_d137_11ec_8d08_7085c2294e08row0_col4\" class=\"data row0 col4\" >0.4627</td>\n",
       "                        <td id=\"T_f02db8e1_d137_11ec_8d08_7085c2294e08row0_col5\" class=\"data row0 col5\" >0.4128</td>\n",
       "                        <td id=\"T_f02db8e1_d137_11ec_8d08_7085c2294e08row0_col6\" class=\"data row0 col6\" >0.2586</td>\n",
       "                        <td id=\"T_f02db8e1_d137_11ec_8d08_7085c2294e08row0_col7\" class=\"data row0 col7\" >0.2661</td>\n",
       "                        <td id=\"T_f02db8e1_d137_11ec_8d08_7085c2294e08row0_col8\" class=\"data row0 col8\" >0.0080</td>\n",
       "            </tr>\n",
       "            <tr>\n",
       "                        <th id=\"T_f02db8e1_d137_11ec_8d08_7085c2294e08level0_row1\" class=\"row_heading level0 row1\" >dt</th>\n",
       "                        <td id=\"T_f02db8e1_d137_11ec_8d08_7085c2294e08row1_col0\" class=\"data row1 col0\" >Decision Tree Classifier</td>\n",
       "                        <td id=\"T_f02db8e1_d137_11ec_8d08_7085c2294e08row1_col1\" class=\"data row1 col1\" >0.7190</td>\n",
       "                        <td id=\"T_f02db8e1_d137_11ec_8d08_7085c2294e08row1_col2\" class=\"data row1 col2\" >0.6149</td>\n",
       "                        <td id=\"T_f02db8e1_d137_11ec_8d08_7085c2294e08row1_col3\" class=\"data row1 col3\" >0.4262</td>\n",
       "                        <td id=\"T_f02db8e1_d137_11ec_8d08_7085c2294e08row1_col4\" class=\"data row1 col4\" >0.4004</td>\n",
       "                        <td id=\"T_f02db8e1_d137_11ec_8d08_7085c2294e08row1_col5\" class=\"data row1 col5\" >0.3950</td>\n",
       "                        <td id=\"T_f02db8e1_d137_11ec_8d08_7085c2294e08row1_col6\" class=\"data row1 col6\" >0.2204</td>\n",
       "                        <td id=\"T_f02db8e1_d137_11ec_8d08_7085c2294e08row1_col7\" class=\"data row1 col7\" >0.2278</td>\n",
       "                        <td id=\"T_f02db8e1_d137_11ec_8d08_7085c2294e08row1_col8\" class=\"data row1 col8\" >0.0050</td>\n",
       "            </tr>\n",
       "            <tr>\n",
       "                        <th id=\"T_f02db8e1_d137_11ec_8d08_7085c2294e08level0_row2\" class=\"row_heading level0 row2\" >lda</th>\n",
       "                        <td id=\"T_f02db8e1_d137_11ec_8d08_7085c2294e08row2_col0\" class=\"data row2 col0\" >Linear Discriminant Analysis</td>\n",
       "                        <td id=\"T_f02db8e1_d137_11ec_8d08_7085c2294e08row2_col1\" class=\"data row2 col1\" >0.7865</td>\n",
       "                        <td id=\"T_f02db8e1_d137_11ec_8d08_7085c2294e08row2_col2\" class=\"data row2 col2\" >0.7545</td>\n",
       "                        <td id=\"T_f02db8e1_d137_11ec_8d08_7085c2294e08row2_col3\" class=\"data row2 col3\" >0.2690</td>\n",
       "                        <td id=\"T_f02db8e1_d137_11ec_8d08_7085c2294e08row2_col4\" class=\"data row2 col4\" >0.7002</td>\n",
       "                        <td id=\"T_f02db8e1_d137_11ec_8d08_7085c2294e08row2_col5\" class=\"data row2 col5\" >0.3561</td>\n",
       "                        <td id=\"T_f02db8e1_d137_11ec_8d08_7085c2294e08row2_col6\" class=\"data row2 col6\" >0.2544</td>\n",
       "                        <td id=\"T_f02db8e1_d137_11ec_8d08_7085c2294e08row2_col7\" class=\"data row2 col7\" >0.3124</td>\n",
       "                        <td id=\"T_f02db8e1_d137_11ec_8d08_7085c2294e08row2_col8\" class=\"data row2 col8\" >0.0070</td>\n",
       "            </tr>\n",
       "            <tr>\n",
       "                        <th id=\"T_f02db8e1_d137_11ec_8d08_7085c2294e08level0_row3\" class=\"row_heading level0 row3\" >knn</th>\n",
       "                        <td id=\"T_f02db8e1_d137_11ec_8d08_7085c2294e08row3_col0\" class=\"data row3 col0\" >K Neighbors Classifier</td>\n",
       "                        <td id=\"T_f02db8e1_d137_11ec_8d08_7085c2294e08row3_col1\" class=\"data row3 col1\" >0.7688</td>\n",
       "                        <td id=\"T_f02db8e1_d137_11ec_8d08_7085c2294e08row3_col2\" class=\"data row3 col2\" >0.7003</td>\n",
       "                        <td id=\"T_f02db8e1_d137_11ec_8d08_7085c2294e08row3_col3\" class=\"data row3 col3\" >0.2833</td>\n",
       "                        <td id=\"T_f02db8e1_d137_11ec_8d08_7085c2294e08row3_col4\" class=\"data row3 col4\" >0.5217</td>\n",
       "                        <td id=\"T_f02db8e1_d137_11ec_8d08_7085c2294e08row3_col5\" class=\"data row3 col5\" >0.3524</td>\n",
       "                        <td id=\"T_f02db8e1_d137_11ec_8d08_7085c2294e08row3_col6\" class=\"data row3 col6\" >0.2249</td>\n",
       "                        <td id=\"T_f02db8e1_d137_11ec_8d08_7085c2294e08row3_col7\" class=\"data row3 col7\" >0.2473</td>\n",
       "                        <td id=\"T_f02db8e1_d137_11ec_8d08_7085c2294e08row3_col8\" class=\"data row3 col8\" >0.0110</td>\n",
       "            </tr>\n",
       "            <tr>\n",
       "                        <th id=\"T_f02db8e1_d137_11ec_8d08_7085c2294e08level0_row4\" class=\"row_heading level0 row4\" >ada</th>\n",
       "                        <td id=\"T_f02db8e1_d137_11ec_8d08_7085c2294e08row4_col0\" class=\"data row4 col0\" >Ada Boost Classifier</td>\n",
       "                        <td id=\"T_f02db8e1_d137_11ec_8d08_7085c2294e08row4_col1\" class=\"data row4 col1\" >0.7512</td>\n",
       "                        <td id=\"T_f02db8e1_d137_11ec_8d08_7085c2294e08row4_col2\" class=\"data row4 col2\" >0.6659</td>\n",
       "                        <td id=\"T_f02db8e1_d137_11ec_8d08_7085c2294e08row4_col3\" class=\"data row4 col3\" >0.3071</td>\n",
       "                        <td id=\"T_f02db8e1_d137_11ec_8d08_7085c2294e08row4_col4\" class=\"data row4 col4\" >0.4095</td>\n",
       "                        <td id=\"T_f02db8e1_d137_11ec_8d08_7085c2294e08row4_col5\" class=\"data row4 col5\" >0.3415</td>\n",
       "                        <td id=\"T_f02db8e1_d137_11ec_8d08_7085c2294e08row4_col6\" class=\"data row4 col6\" >0.1994</td>\n",
       "                        <td id=\"T_f02db8e1_d137_11ec_8d08_7085c2294e08row4_col7\" class=\"data row4 col7\" >0.2044</td>\n",
       "                        <td id=\"T_f02db8e1_d137_11ec_8d08_7085c2294e08row4_col8\" class=\"data row4 col8\" >0.0380</td>\n",
       "            </tr>\n",
       "            <tr>\n",
       "                        <th id=\"T_f02db8e1_d137_11ec_8d08_7085c2294e08level0_row5\" class=\"row_heading level0 row5\" >ridge</th>\n",
       "                        <td id=\"T_f02db8e1_d137_11ec_8d08_7085c2294e08row5_col0\" class=\"data row5 col0\" >Ridge Classifier</td>\n",
       "                        <td id=\"T_f02db8e1_d137_11ec_8d08_7085c2294e08row5_col1\" class=\"data row5 col1\" >0.7936</td>\n",
       "                        <td id=\"T_f02db8e1_d137_11ec_8d08_7085c2294e08row5_col2\" class=\"data row5 col2\" >0.0000</td>\n",
       "                        <td id=\"T_f02db8e1_d137_11ec_8d08_7085c2294e08row5_col3\" class=\"data row5 col3\" >0.2381</td>\n",
       "                        <td id=\"T_f02db8e1_d137_11ec_8d08_7085c2294e08row5_col4\" class=\"data row5 col4\" >0.7167</td>\n",
       "                        <td id=\"T_f02db8e1_d137_11ec_8d08_7085c2294e08row5_col5\" class=\"data row5 col5\" >0.3371</td>\n",
       "                        <td id=\"T_f02db8e1_d137_11ec_8d08_7085c2294e08row5_col6\" class=\"data row5 col6\" >0.2464</td>\n",
       "                        <td id=\"T_f02db8e1_d137_11ec_8d08_7085c2294e08row5_col7\" class=\"data row5 col7\" >0.3097</td>\n",
       "                        <td id=\"T_f02db8e1_d137_11ec_8d08_7085c2294e08row5_col8\" class=\"data row5 col8\" >0.0060</td>\n",
       "            </tr>\n",
       "            <tr>\n",
       "                        <th id=\"T_f02db8e1_d137_11ec_8d08_7085c2294e08level0_row6\" class=\"row_heading level0 row6\" >lr</th>\n",
       "                        <td id=\"T_f02db8e1_d137_11ec_8d08_7085c2294e08row6_col0\" class=\"data row6 col0\" >Logistic Regression</td>\n",
       "                        <td id=\"T_f02db8e1_d137_11ec_8d08_7085c2294e08row6_col1\" class=\"data row6 col1\" >0.7900</td>\n",
       "                        <td id=\"T_f02db8e1_d137_11ec_8d08_7085c2294e08row6_col2\" class=\"data row6 col2\" >0.7524</td>\n",
       "                        <td id=\"T_f02db8e1_d137_11ec_8d08_7085c2294e08row6_col3\" class=\"data row6 col3\" >0.2381</td>\n",
       "                        <td id=\"T_f02db8e1_d137_11ec_8d08_7085c2294e08row6_col4\" class=\"data row6 col4\" >0.7036</td>\n",
       "                        <td id=\"T_f02db8e1_d137_11ec_8d08_7085c2294e08row6_col5\" class=\"data row6 col5\" >0.3313</td>\n",
       "                        <td id=\"T_f02db8e1_d137_11ec_8d08_7085c2294e08row6_col6\" class=\"data row6 col6\" >0.2394</td>\n",
       "                        <td id=\"T_f02db8e1_d137_11ec_8d08_7085c2294e08row6_col7\" class=\"data row6 col7\" >0.3011</td>\n",
       "                        <td id=\"T_f02db8e1_d137_11ec_8d08_7085c2294e08row6_col8\" class=\"data row6 col8\" >0.5350</td>\n",
       "            </tr>\n",
       "            <tr>\n",
       "                        <th id=\"T_f02db8e1_d137_11ec_8d08_7085c2294e08level0_row7\" class=\"row_heading level0 row7\" >qda</th>\n",
       "                        <td id=\"T_f02db8e1_d137_11ec_8d08_7085c2294e08row7_col0\" class=\"data row7 col0\" >Quadratic Discriminant Analysis</td>\n",
       "                        <td id=\"T_f02db8e1_d137_11ec_8d08_7085c2294e08row7_col1\" class=\"data row7 col1\" >0.7580</td>\n",
       "                        <td id=\"T_f02db8e1_d137_11ec_8d08_7085c2294e08row7_col2\" class=\"data row7 col2\" >0.6786</td>\n",
       "                        <td id=\"T_f02db8e1_d137_11ec_8d08_7085c2294e08row7_col3\" class=\"data row7 col3\" >0.2690</td>\n",
       "                        <td id=\"T_f02db8e1_d137_11ec_8d08_7085c2294e08row7_col4\" class=\"data row7 col4\" >0.4667</td>\n",
       "                        <td id=\"T_f02db8e1_d137_11ec_8d08_7085c2294e08row7_col5\" class=\"data row7 col5\" >0.3228</td>\n",
       "                        <td id=\"T_f02db8e1_d137_11ec_8d08_7085c2294e08row7_col6\" class=\"data row7 col6\" >0.1932</td>\n",
       "                        <td id=\"T_f02db8e1_d137_11ec_8d08_7085c2294e08row7_col7\" class=\"data row7 col7\" >0.2123</td>\n",
       "                        <td id=\"T_f02db8e1_d137_11ec_8d08_7085c2294e08row7_col8\" class=\"data row7 col8\" >0.0050</td>\n",
       "            </tr>\n",
       "            <tr>\n",
       "                        <th id=\"T_f02db8e1_d137_11ec_8d08_7085c2294e08level0_row8\" class=\"row_heading level0 row8\" >svm</th>\n",
       "                        <td id=\"T_f02db8e1_d137_11ec_8d08_7085c2294e08row8_col0\" class=\"data row8 col0\" >SVM - Linear Kernel</td>\n",
       "                        <td id=\"T_f02db8e1_d137_11ec_8d08_7085c2294e08row8_col1\" class=\"data row8 col1\" >0.7190</td>\n",
       "                        <td id=\"T_f02db8e1_d137_11ec_8d08_7085c2294e08row8_col2\" class=\"data row8 col2\" >0.0000</td>\n",
       "                        <td id=\"T_f02db8e1_d137_11ec_8d08_7085c2294e08row8_col3\" class=\"data row8 col3\" >0.3500</td>\n",
       "                        <td id=\"T_f02db8e1_d137_11ec_8d08_7085c2294e08row8_col4\" class=\"data row8 col4\" >0.3012</td>\n",
       "                        <td id=\"T_f02db8e1_d137_11ec_8d08_7085c2294e08row8_col5\" class=\"data row8 col5\" >0.3124</td>\n",
       "                        <td id=\"T_f02db8e1_d137_11ec_8d08_7085c2294e08row8_col6\" class=\"data row8 col6\" >0.1562</td>\n",
       "                        <td id=\"T_f02db8e1_d137_11ec_8d08_7085c2294e08row8_col7\" class=\"data row8 col7\" >0.1588</td>\n",
       "                        <td id=\"T_f02db8e1_d137_11ec_8d08_7085c2294e08row8_col8\" class=\"data row8 col8\" >0.0080</td>\n",
       "            </tr>\n",
       "            <tr>\n",
       "                        <th id=\"T_f02db8e1_d137_11ec_8d08_7085c2294e08level0_row9\" class=\"row_heading level0 row9\" >catboost</th>\n",
       "                        <td id=\"T_f02db8e1_d137_11ec_8d08_7085c2294e08row9_col0\" class=\"data row9 col0\" >CatBoost Classifier</td>\n",
       "                        <td id=\"T_f02db8e1_d137_11ec_8d08_7085c2294e08row9_col1\" class=\"data row9 col1\" >0.7760</td>\n",
       "                        <td id=\"T_f02db8e1_d137_11ec_8d08_7085c2294e08row9_col2\" class=\"data row9 col2\" >0.7160</td>\n",
       "                        <td id=\"T_f02db8e1_d137_11ec_8d08_7085c2294e08row9_col3\" class=\"data row9 col3\" >0.2381</td>\n",
       "                        <td id=\"T_f02db8e1_d137_11ec_8d08_7085c2294e08row9_col4\" class=\"data row9 col4\" >0.5283</td>\n",
       "                        <td id=\"T_f02db8e1_d137_11ec_8d08_7085c2294e08row9_col5\" class=\"data row9 col5\" >0.3120</td>\n",
       "                        <td id=\"T_f02db8e1_d137_11ec_8d08_7085c2294e08row9_col6\" class=\"data row9 col6\" >0.2031</td>\n",
       "                        <td id=\"T_f02db8e1_d137_11ec_8d08_7085c2294e08row9_col7\" class=\"data row9 col7\" >0.2321</td>\n",
       "                        <td id=\"T_f02db8e1_d137_11ec_8d08_7085c2294e08row9_col8\" class=\"data row9 col8\" >0.9130</td>\n",
       "            </tr>\n",
       "            <tr>\n",
       "                        <th id=\"T_f02db8e1_d137_11ec_8d08_7085c2294e08level0_row10\" class=\"row_heading level0 row10\" >et</th>\n",
       "                        <td id=\"T_f02db8e1_d137_11ec_8d08_7085c2294e08row10_col0\" class=\"data row10 col0\" >Extra Trees Classifier</td>\n",
       "                        <td id=\"T_f02db8e1_d137_11ec_8d08_7085c2294e08row10_col1\" class=\"data row10 col1\" >0.7686</td>\n",
       "                        <td id=\"T_f02db8e1_d137_11ec_8d08_7085c2294e08row10_col2\" class=\"data row10 col2\" >0.6988</td>\n",
       "                        <td id=\"T_f02db8e1_d137_11ec_8d08_7085c2294e08row10_col3\" class=\"data row10 col3\" >0.2333</td>\n",
       "                        <td id=\"T_f02db8e1_d137_11ec_8d08_7085c2294e08row10_col4\" class=\"data row10 col4\" >0.5495</td>\n",
       "                        <td id=\"T_f02db8e1_d137_11ec_8d08_7085c2294e08row10_col5\" class=\"data row10 col5\" >0.3036</td>\n",
       "                        <td id=\"T_f02db8e1_d137_11ec_8d08_7085c2294e08row10_col6\" class=\"data row10 col6\" >0.1880</td>\n",
       "                        <td id=\"T_f02db8e1_d137_11ec_8d08_7085c2294e08row10_col7\" class=\"data row10 col7\" >0.2254</td>\n",
       "                        <td id=\"T_f02db8e1_d137_11ec_8d08_7085c2294e08row10_col8\" class=\"data row10 col8\" >0.0810</td>\n",
       "            </tr>\n",
       "            <tr>\n",
       "                        <th id=\"T_f02db8e1_d137_11ec_8d08_7085c2294e08level0_row11\" class=\"row_heading level0 row11\" >gbc</th>\n",
       "                        <td id=\"T_f02db8e1_d137_11ec_8d08_7085c2294e08row11_col0\" class=\"data row11 col0\" >Gradient Boosting Classifier</td>\n",
       "                        <td id=\"T_f02db8e1_d137_11ec_8d08_7085c2294e08row11_col1\" class=\"data row11 col1\" >0.7155</td>\n",
       "                        <td id=\"T_f02db8e1_d137_11ec_8d08_7085c2294e08row11_col2\" class=\"data row11 col2\" >0.6891</td>\n",
       "                        <td id=\"T_f02db8e1_d137_11ec_8d08_7085c2294e08row11_col3\" class=\"data row11 col3\" >0.2381</td>\n",
       "                        <td id=\"T_f02db8e1_d137_11ec_8d08_7085c2294e08row11_col4\" class=\"data row11 col4\" >0.3536</td>\n",
       "                        <td id=\"T_f02db8e1_d137_11ec_8d08_7085c2294e08row11_col5\" class=\"data row11 col5\" >0.2749</td>\n",
       "                        <td id=\"T_f02db8e1_d137_11ec_8d08_7085c2294e08row11_col6\" class=\"data row11 col6\" >0.1069</td>\n",
       "                        <td id=\"T_f02db8e1_d137_11ec_8d08_7085c2294e08row11_col7\" class=\"data row11 col7\" >0.1152</td>\n",
       "                        <td id=\"T_f02db8e1_d137_11ec_8d08_7085c2294e08row11_col8\" class=\"data row11 col8\" >0.0340</td>\n",
       "            </tr>\n",
       "            <tr>\n",
       "                        <th id=\"T_f02db8e1_d137_11ec_8d08_7085c2294e08level0_row12\" class=\"row_heading level0 row12\" >lightgbm</th>\n",
       "                        <td id=\"T_f02db8e1_d137_11ec_8d08_7085c2294e08row12_col0\" class=\"data row12 col0\" >Light Gradient Boosting Machine</td>\n",
       "                        <td id=\"T_f02db8e1_d137_11ec_8d08_7085c2294e08row12_col1\" class=\"data row12 col1\" >0.7085</td>\n",
       "                        <td id=\"T_f02db8e1_d137_11ec_8d08_7085c2294e08row12_col2\" class=\"data row12 col2\" >0.6886</td>\n",
       "                        <td id=\"T_f02db8e1_d137_11ec_8d08_7085c2294e08row12_col3\" class=\"data row12 col3\" >0.2405</td>\n",
       "                        <td id=\"T_f02db8e1_d137_11ec_8d08_7085c2294e08row12_col4\" class=\"data row12 col4\" >0.3405</td>\n",
       "                        <td id=\"T_f02db8e1_d137_11ec_8d08_7085c2294e08row12_col5\" class=\"data row12 col5\" >0.2709</td>\n",
       "                        <td id=\"T_f02db8e1_d137_11ec_8d08_7085c2294e08row12_col6\" class=\"data row12 col6\" >0.0971</td>\n",
       "                        <td id=\"T_f02db8e1_d137_11ec_8d08_7085c2294e08row12_col7\" class=\"data row12 col7\" >0.1049</td>\n",
       "                        <td id=\"T_f02db8e1_d137_11ec_8d08_7085c2294e08row12_col8\" class=\"data row12 col8\" >0.1330</td>\n",
       "            </tr>\n",
       "            <tr>\n",
       "                        <th id=\"T_f02db8e1_d137_11ec_8d08_7085c2294e08level0_row13\" class=\"row_heading level0 row13\" >rf</th>\n",
       "                        <td id=\"T_f02db8e1_d137_11ec_8d08_7085c2294e08row13_col0\" class=\"data row13 col0\" >Random Forest Classifier</td>\n",
       "                        <td id=\"T_f02db8e1_d137_11ec_8d08_7085c2294e08row13_col1\" class=\"data row13 col1\" >0.7403</td>\n",
       "                        <td id=\"T_f02db8e1_d137_11ec_8d08_7085c2294e08row13_col2\" class=\"data row13 col2\" >0.6847</td>\n",
       "                        <td id=\"T_f02db8e1_d137_11ec_8d08_7085c2294e08row13_col3\" class=\"data row13 col3\" >0.2048</td>\n",
       "                        <td id=\"T_f02db8e1_d137_11ec_8d08_7085c2294e08row13_col4\" class=\"data row13 col4\" >0.4183</td>\n",
       "                        <td id=\"T_f02db8e1_d137_11ec_8d08_7085c2294e08row13_col5\" class=\"data row13 col5\" >0.2603</td>\n",
       "                        <td id=\"T_f02db8e1_d137_11ec_8d08_7085c2294e08row13_col6\" class=\"data row13 col6\" >0.1203</td>\n",
       "                        <td id=\"T_f02db8e1_d137_11ec_8d08_7085c2294e08row13_col7\" class=\"data row13 col7\" >0.1403</td>\n",
       "                        <td id=\"T_f02db8e1_d137_11ec_8d08_7085c2294e08row13_col8\" class=\"data row13 col8\" >0.0930</td>\n",
       "            </tr>\n",
       "            <tr>\n",
       "                        <th id=\"T_f02db8e1_d137_11ec_8d08_7085c2294e08level0_row14\" class=\"row_heading level0 row14\" >xgboost</th>\n",
       "                        <td id=\"T_f02db8e1_d137_11ec_8d08_7085c2294e08row14_col0\" class=\"data row14 col0\" >Extreme Gradient Boosting</td>\n",
       "                        <td id=\"T_f02db8e1_d137_11ec_8d08_7085c2294e08row14_col1\" class=\"data row14 col1\" >0.7048</td>\n",
       "                        <td id=\"T_f02db8e1_d137_11ec_8d08_7085c2294e08row14_col2\" class=\"data row14 col2\" >0.6461</td>\n",
       "                        <td id=\"T_f02db8e1_d137_11ec_8d08_7085c2294e08row14_col3\" class=\"data row14 col3\" >0.2357</td>\n",
       "                        <td id=\"T_f02db8e1_d137_11ec_8d08_7085c2294e08row14_col4\" class=\"data row14 col4\" >0.2702</td>\n",
       "                        <td id=\"T_f02db8e1_d137_11ec_8d08_7085c2294e08row14_col5\" class=\"data row14 col5\" >0.2481</td>\n",
       "                        <td id=\"T_f02db8e1_d137_11ec_8d08_7085c2294e08row14_col6\" class=\"data row14 col6\" >0.0751</td>\n",
       "                        <td id=\"T_f02db8e1_d137_11ec_8d08_7085c2294e08row14_col7\" class=\"data row14 col7\" >0.0718</td>\n",
       "                        <td id=\"T_f02db8e1_d137_11ec_8d08_7085c2294e08row14_col8\" class=\"data row14 col8\" >0.0480</td>\n",
       "            </tr>\n",
       "            <tr>\n",
       "                        <th id=\"T_f02db8e1_d137_11ec_8d08_7085c2294e08level0_row15\" class=\"row_heading level0 row15\" >dummy</th>\n",
       "                        <td id=\"T_f02db8e1_d137_11ec_8d08_7085c2294e08row15_col0\" class=\"data row15 col0\" >Dummy Classifier</td>\n",
       "                        <td id=\"T_f02db8e1_d137_11ec_8d08_7085c2294e08row15_col1\" class=\"data row15 col1\" >0.7759</td>\n",
       "                        <td id=\"T_f02db8e1_d137_11ec_8d08_7085c2294e08row15_col2\" class=\"data row15 col2\" >0.5000</td>\n",
       "                        <td id=\"T_f02db8e1_d137_11ec_8d08_7085c2294e08row15_col3\" class=\"data row15 col3\" >0.0000</td>\n",
       "                        <td id=\"T_f02db8e1_d137_11ec_8d08_7085c2294e08row15_col4\" class=\"data row15 col4\" >0.0000</td>\n",
       "                        <td id=\"T_f02db8e1_d137_11ec_8d08_7085c2294e08row15_col5\" class=\"data row15 col5\" >0.0000</td>\n",
       "                        <td id=\"T_f02db8e1_d137_11ec_8d08_7085c2294e08row15_col6\" class=\"data row15 col6\" >0.0000</td>\n",
       "                        <td id=\"T_f02db8e1_d137_11ec_8d08_7085c2294e08row15_col7\" class=\"data row15 col7\" >0.0000</td>\n",
       "                        <td id=\"T_f02db8e1_d137_11ec_8d08_7085c2294e08row15_col8\" class=\"data row15 col8\" >0.0060</td>\n",
       "            </tr>\n",
       "    </tbody></table>"
      ],
      "text/plain": [
       "<pandas.io.formats.style.Styler at 0x1651f501970>"
      ]
     },
     "metadata": {},
     "output_type": "display_data"
    }
   ],
   "source": [
    "top10 = compare_models(sort='F1', n_select=10, fold=10) \n",
    "# sort를 accuracy보다 F1으로 하는것이 더 좋은 f1score랑 accuracy를 낳음,fold 10번하는게 정확도가 올라감"
   ]
  },
  {
   "cell_type": "code",
   "execution_count": 352,
   "metadata": {
    "scrolled": true
   },
   "outputs": [
    {
     "data": {
      "text/html": [
       "<style  type=\"text/css\" >\n",
       "#T_fbd3b6d3_d137_11ec_93a5_7085c2294e08row5_col0,#T_fbd3b6d3_d137_11ec_93a5_7085c2294e08row5_col1,#T_fbd3b6d3_d137_11ec_93a5_7085c2294e08row5_col2,#T_fbd3b6d3_d137_11ec_93a5_7085c2294e08row5_col3,#T_fbd3b6d3_d137_11ec_93a5_7085c2294e08row5_col4,#T_fbd3b6d3_d137_11ec_93a5_7085c2294e08row5_col5,#T_fbd3b6d3_d137_11ec_93a5_7085c2294e08row5_col6{\n",
       "            background:  yellow;\n",
       "        }</style><table id=\"T_fbd3b6d3_d137_11ec_93a5_7085c2294e08\" ><thead>    <tr>        <th class=\"blank level0\" ></th>        <th class=\"col_heading level0 col0\" >Accuracy</th>        <th class=\"col_heading level0 col1\" >AUC</th>        <th class=\"col_heading level0 col2\" >Recall</th>        <th class=\"col_heading level0 col3\" >Prec.</th>        <th class=\"col_heading level0 col4\" >F1</th>        <th class=\"col_heading level0 col5\" >Kappa</th>        <th class=\"col_heading level0 col6\" >MCC</th>    </tr></thead><tbody>\n",
       "                <tr>\n",
       "                        <th id=\"T_fbd3b6d3_d137_11ec_93a5_7085c2294e08level0_row0\" class=\"row_heading level0 row0\" >0</th>\n",
       "                        <td id=\"T_fbd3b6d3_d137_11ec_93a5_7085c2294e08row0_col0\" class=\"data row0 col0\" >0.7719</td>\n",
       "                        <td id=\"T_fbd3b6d3_d137_11ec_93a5_7085c2294e08row0_col1\" class=\"data row0 col1\" >0.6941</td>\n",
       "                        <td id=\"T_fbd3b6d3_d137_11ec_93a5_7085c2294e08row0_col2\" class=\"data row0 col2\" >0.0000</td>\n",
       "                        <td id=\"T_fbd3b6d3_d137_11ec_93a5_7085c2294e08row0_col3\" class=\"data row0 col3\" >0.0000</td>\n",
       "                        <td id=\"T_fbd3b6d3_d137_11ec_93a5_7085c2294e08row0_col4\" class=\"data row0 col4\" >0.0000</td>\n",
       "                        <td id=\"T_fbd3b6d3_d137_11ec_93a5_7085c2294e08row0_col5\" class=\"data row0 col5\" >0.0000</td>\n",
       "                        <td id=\"T_fbd3b6d3_d137_11ec_93a5_7085c2294e08row0_col6\" class=\"data row0 col6\" >0.0000</td>\n",
       "            </tr>\n",
       "            <tr>\n",
       "                        <th id=\"T_fbd3b6d3_d137_11ec_93a5_7085c2294e08level0_row1\" class=\"row_heading level0 row1\" >1</th>\n",
       "                        <td id=\"T_fbd3b6d3_d137_11ec_93a5_7085c2294e08row1_col0\" class=\"data row1 col0\" >0.7857</td>\n",
       "                        <td id=\"T_fbd3b6d3_d137_11ec_93a5_7085c2294e08row1_col1\" class=\"data row1 col1\" >0.7386</td>\n",
       "                        <td id=\"T_fbd3b6d3_d137_11ec_93a5_7085c2294e08row1_col2\" class=\"data row1 col2\" >0.0000</td>\n",
       "                        <td id=\"T_fbd3b6d3_d137_11ec_93a5_7085c2294e08row1_col3\" class=\"data row1 col3\" >0.0000</td>\n",
       "                        <td id=\"T_fbd3b6d3_d137_11ec_93a5_7085c2294e08row1_col4\" class=\"data row1 col4\" >0.0000</td>\n",
       "                        <td id=\"T_fbd3b6d3_d137_11ec_93a5_7085c2294e08row1_col5\" class=\"data row1 col5\" >0.0000</td>\n",
       "                        <td id=\"T_fbd3b6d3_d137_11ec_93a5_7085c2294e08row1_col6\" class=\"data row1 col6\" >0.0000</td>\n",
       "            </tr>\n",
       "            <tr>\n",
       "                        <th id=\"T_fbd3b6d3_d137_11ec_93a5_7085c2294e08level0_row2\" class=\"row_heading level0 row2\" >2</th>\n",
       "                        <td id=\"T_fbd3b6d3_d137_11ec_93a5_7085c2294e08row2_col0\" class=\"data row2 col0\" >0.7857</td>\n",
       "                        <td id=\"T_fbd3b6d3_d137_11ec_93a5_7085c2294e08row2_col1\" class=\"data row2 col1\" >0.5682</td>\n",
       "                        <td id=\"T_fbd3b6d3_d137_11ec_93a5_7085c2294e08row2_col2\" class=\"data row2 col2\" >0.0000</td>\n",
       "                        <td id=\"T_fbd3b6d3_d137_11ec_93a5_7085c2294e08row2_col3\" class=\"data row2 col3\" >0.0000</td>\n",
       "                        <td id=\"T_fbd3b6d3_d137_11ec_93a5_7085c2294e08row2_col4\" class=\"data row2 col4\" >0.0000</td>\n",
       "                        <td id=\"T_fbd3b6d3_d137_11ec_93a5_7085c2294e08row2_col5\" class=\"data row2 col5\" >0.0000</td>\n",
       "                        <td id=\"T_fbd3b6d3_d137_11ec_93a5_7085c2294e08row2_col6\" class=\"data row2 col6\" >0.0000</td>\n",
       "            </tr>\n",
       "            <tr>\n",
       "                        <th id=\"T_fbd3b6d3_d137_11ec_93a5_7085c2294e08level0_row3\" class=\"row_heading level0 row3\" >3</th>\n",
       "                        <td id=\"T_fbd3b6d3_d137_11ec_93a5_7085c2294e08row3_col0\" class=\"data row3 col0\" >0.7679</td>\n",
       "                        <td id=\"T_fbd3b6d3_d137_11ec_93a5_7085c2294e08row3_col1\" class=\"data row3 col1\" >0.7066</td>\n",
       "                        <td id=\"T_fbd3b6d3_d137_11ec_93a5_7085c2294e08row3_col2\" class=\"data row3 col2\" >0.0000</td>\n",
       "                        <td id=\"T_fbd3b6d3_d137_11ec_93a5_7085c2294e08row3_col3\" class=\"data row3 col3\" >0.0000</td>\n",
       "                        <td id=\"T_fbd3b6d3_d137_11ec_93a5_7085c2294e08row3_col4\" class=\"data row3 col4\" >0.0000</td>\n",
       "                        <td id=\"T_fbd3b6d3_d137_11ec_93a5_7085c2294e08row3_col5\" class=\"data row3 col5\" >0.0000</td>\n",
       "                        <td id=\"T_fbd3b6d3_d137_11ec_93a5_7085c2294e08row3_col6\" class=\"data row3 col6\" >0.0000</td>\n",
       "            </tr>\n",
       "            <tr>\n",
       "                        <th id=\"T_fbd3b6d3_d137_11ec_93a5_7085c2294e08level0_row4\" class=\"row_heading level0 row4\" >4</th>\n",
       "                        <td id=\"T_fbd3b6d3_d137_11ec_93a5_7085c2294e08row4_col0\" class=\"data row4 col0\" >0.7679</td>\n",
       "                        <td id=\"T_fbd3b6d3_d137_11ec_93a5_7085c2294e08row4_col1\" class=\"data row4 col1\" >0.6834</td>\n",
       "                        <td id=\"T_fbd3b6d3_d137_11ec_93a5_7085c2294e08row4_col2\" class=\"data row4 col2\" >0.0000</td>\n",
       "                        <td id=\"T_fbd3b6d3_d137_11ec_93a5_7085c2294e08row4_col3\" class=\"data row4 col3\" >0.0000</td>\n",
       "                        <td id=\"T_fbd3b6d3_d137_11ec_93a5_7085c2294e08row4_col4\" class=\"data row4 col4\" >0.0000</td>\n",
       "                        <td id=\"T_fbd3b6d3_d137_11ec_93a5_7085c2294e08row4_col5\" class=\"data row4 col5\" >0.0000</td>\n",
       "                        <td id=\"T_fbd3b6d3_d137_11ec_93a5_7085c2294e08row4_col6\" class=\"data row4 col6\" >0.0000</td>\n",
       "            </tr>\n",
       "            <tr>\n",
       "                        <th id=\"T_fbd3b6d3_d137_11ec_93a5_7085c2294e08level0_row5\" class=\"row_heading level0 row5\" >Mean</th>\n",
       "                        <td id=\"T_fbd3b6d3_d137_11ec_93a5_7085c2294e08row5_col0\" class=\"data row5 col0\" >0.7758</td>\n",
       "                        <td id=\"T_fbd3b6d3_d137_11ec_93a5_7085c2294e08row5_col1\" class=\"data row5 col1\" >0.6782</td>\n",
       "                        <td id=\"T_fbd3b6d3_d137_11ec_93a5_7085c2294e08row5_col2\" class=\"data row5 col2\" >0.0000</td>\n",
       "                        <td id=\"T_fbd3b6d3_d137_11ec_93a5_7085c2294e08row5_col3\" class=\"data row5 col3\" >0.0000</td>\n",
       "                        <td id=\"T_fbd3b6d3_d137_11ec_93a5_7085c2294e08row5_col4\" class=\"data row5 col4\" >0.0000</td>\n",
       "                        <td id=\"T_fbd3b6d3_d137_11ec_93a5_7085c2294e08row5_col5\" class=\"data row5 col5\" >0.0000</td>\n",
       "                        <td id=\"T_fbd3b6d3_d137_11ec_93a5_7085c2294e08row5_col6\" class=\"data row5 col6\" >0.0000</td>\n",
       "            </tr>\n",
       "            <tr>\n",
       "                        <th id=\"T_fbd3b6d3_d137_11ec_93a5_7085c2294e08level0_row6\" class=\"row_heading level0 row6\" >SD</th>\n",
       "                        <td id=\"T_fbd3b6d3_d137_11ec_93a5_7085c2294e08row6_col0\" class=\"data row6 col0\" >0.0082</td>\n",
       "                        <td id=\"T_fbd3b6d3_d137_11ec_93a5_7085c2294e08row6_col1\" class=\"data row6 col1\" >0.0580</td>\n",
       "                        <td id=\"T_fbd3b6d3_d137_11ec_93a5_7085c2294e08row6_col2\" class=\"data row6 col2\" >0.0000</td>\n",
       "                        <td id=\"T_fbd3b6d3_d137_11ec_93a5_7085c2294e08row6_col3\" class=\"data row6 col3\" >0.0000</td>\n",
       "                        <td id=\"T_fbd3b6d3_d137_11ec_93a5_7085c2294e08row6_col4\" class=\"data row6 col4\" >0.0000</td>\n",
       "                        <td id=\"T_fbd3b6d3_d137_11ec_93a5_7085c2294e08row6_col5\" class=\"data row6 col5\" >0.0000</td>\n",
       "                        <td id=\"T_fbd3b6d3_d137_11ec_93a5_7085c2294e08row6_col6\" class=\"data row6 col6\" >0.0000</td>\n",
       "            </tr>\n",
       "    </tbody></table>"
      ],
      "text/plain": [
       "<pandas.io.formats.style.Styler at 0x1652063d790>"
      ]
     },
     "metadata": {},
     "output_type": "display_data"
    }
   ],
   "source": [
    "tuned_top5 = [tune_model(i, fold=5) for i in top10[:5]]\n",
    "# 상위 5개로 했을 때 제일 좋은 결과가 나옴"
   ]
  },
  {
   "cell_type": "code",
   "execution_count": 353,
   "metadata": {
    "scrolled": true
   },
   "outputs": [
    {
     "data": {
      "text/html": [
       "<style  type=\"text/css\" >\n",
       "#T_041f6e0e_d138_11ec_9c28_7085c2294e08row10_col0,#T_041f6e0e_d138_11ec_9c28_7085c2294e08row10_col1,#T_041f6e0e_d138_11ec_9c28_7085c2294e08row10_col2,#T_041f6e0e_d138_11ec_9c28_7085c2294e08row10_col3,#T_041f6e0e_d138_11ec_9c28_7085c2294e08row10_col4,#T_041f6e0e_d138_11ec_9c28_7085c2294e08row10_col5,#T_041f6e0e_d138_11ec_9c28_7085c2294e08row10_col6{\n",
       "            background:  yellow;\n",
       "        }</style><table id=\"T_041f6e0e_d138_11ec_9c28_7085c2294e08\" ><thead>    <tr>        <th class=\"blank level0\" ></th>        <th class=\"col_heading level0 col0\" >Accuracy</th>        <th class=\"col_heading level0 col1\" >AUC</th>        <th class=\"col_heading level0 col2\" >Recall</th>        <th class=\"col_heading level0 col3\" >Prec.</th>        <th class=\"col_heading level0 col4\" >F1</th>        <th class=\"col_heading level0 col5\" >Kappa</th>        <th class=\"col_heading level0 col6\" >MCC</th>    </tr></thead><tbody>\n",
       "                <tr>\n",
       "                        <th id=\"T_041f6e0e_d138_11ec_9c28_7085c2294e08level0_row0\" class=\"row_heading level0 row0\" >0</th>\n",
       "                        <td id=\"T_041f6e0e_d138_11ec_9c28_7085c2294e08row0_col0\" class=\"data row0 col0\" >0.7931</td>\n",
       "                        <td id=\"T_041f6e0e_d138_11ec_9c28_7085c2294e08row0_col1\" class=\"data row0 col1\" >0.7273</td>\n",
       "                        <td id=\"T_041f6e0e_d138_11ec_9c28_7085c2294e08row0_col2\" class=\"data row0 col2\" >0.1429</td>\n",
       "                        <td id=\"T_041f6e0e_d138_11ec_9c28_7085c2294e08row0_col3\" class=\"data row0 col3\" >1.0000</td>\n",
       "                        <td id=\"T_041f6e0e_d138_11ec_9c28_7085c2294e08row0_col4\" class=\"data row0 col4\" >0.2500</td>\n",
       "                        <td id=\"T_041f6e0e_d138_11ec_9c28_7085c2294e08row0_col5\" class=\"data row0 col5\" >0.2018</td>\n",
       "                        <td id=\"T_041f6e0e_d138_11ec_9c28_7085c2294e08row0_col6\" class=\"data row0 col6\" >0.3350</td>\n",
       "            </tr>\n",
       "            <tr>\n",
       "                        <th id=\"T_041f6e0e_d138_11ec_9c28_7085c2294e08level0_row1\" class=\"row_heading level0 row1\" >1</th>\n",
       "                        <td id=\"T_041f6e0e_d138_11ec_9c28_7085c2294e08row1_col0\" class=\"data row1 col0\" >0.8214</td>\n",
       "                        <td id=\"T_041f6e0e_d138_11ec_9c28_7085c2294e08row1_col1\" class=\"data row1 col1\" >0.9242</td>\n",
       "                        <td id=\"T_041f6e0e_d138_11ec_9c28_7085c2294e08row1_col2\" class=\"data row1 col2\" >0.1667</td>\n",
       "                        <td id=\"T_041f6e0e_d138_11ec_9c28_7085c2294e08row1_col3\" class=\"data row1 col3\" >1.0000</td>\n",
       "                        <td id=\"T_041f6e0e_d138_11ec_9c28_7085c2294e08row1_col4\" class=\"data row1 col4\" >0.2857</td>\n",
       "                        <td id=\"T_041f6e0e_d138_11ec_9c28_7085c2294e08row1_col5\" class=\"data row1 col5\" >0.2391</td>\n",
       "                        <td id=\"T_041f6e0e_d138_11ec_9c28_7085c2294e08row1_col6\" class=\"data row1 col6\" >0.3685</td>\n",
       "            </tr>\n",
       "            <tr>\n",
       "                        <th id=\"T_041f6e0e_d138_11ec_9c28_7085c2294e08level0_row2\" class=\"row_heading level0 row2\" >2</th>\n",
       "                        <td id=\"T_041f6e0e_d138_11ec_9c28_7085c2294e08row2_col0\" class=\"data row2 col0\" >0.8214</td>\n",
       "                        <td id=\"T_041f6e0e_d138_11ec_9c28_7085c2294e08row2_col1\" class=\"data row2 col1\" >0.8409</td>\n",
       "                        <td id=\"T_041f6e0e_d138_11ec_9c28_7085c2294e08row2_col2\" class=\"data row2 col2\" >0.1667</td>\n",
       "                        <td id=\"T_041f6e0e_d138_11ec_9c28_7085c2294e08row2_col3\" class=\"data row2 col3\" >1.0000</td>\n",
       "                        <td id=\"T_041f6e0e_d138_11ec_9c28_7085c2294e08row2_col4\" class=\"data row2 col4\" >0.2857</td>\n",
       "                        <td id=\"T_041f6e0e_d138_11ec_9c28_7085c2294e08row2_col5\" class=\"data row2 col5\" >0.2391</td>\n",
       "                        <td id=\"T_041f6e0e_d138_11ec_9c28_7085c2294e08row2_col6\" class=\"data row2 col6\" >0.3685</td>\n",
       "            </tr>\n",
       "            <tr>\n",
       "                        <th id=\"T_041f6e0e_d138_11ec_9c28_7085c2294e08level0_row3\" class=\"row_heading level0 row3\" >3</th>\n",
       "                        <td id=\"T_041f6e0e_d138_11ec_9c28_7085c2294e08row3_col0\" class=\"data row3 col0\" >0.8214</td>\n",
       "                        <td id=\"T_041f6e0e_d138_11ec_9c28_7085c2294e08row3_col1\" class=\"data row3 col1\" >0.8258</td>\n",
       "                        <td id=\"T_041f6e0e_d138_11ec_9c28_7085c2294e08row3_col2\" class=\"data row3 col2\" >0.1667</td>\n",
       "                        <td id=\"T_041f6e0e_d138_11ec_9c28_7085c2294e08row3_col3\" class=\"data row3 col3\" >1.0000</td>\n",
       "                        <td id=\"T_041f6e0e_d138_11ec_9c28_7085c2294e08row3_col4\" class=\"data row3 col4\" >0.2857</td>\n",
       "                        <td id=\"T_041f6e0e_d138_11ec_9c28_7085c2294e08row3_col5\" class=\"data row3 col5\" >0.2391</td>\n",
       "                        <td id=\"T_041f6e0e_d138_11ec_9c28_7085c2294e08row3_col6\" class=\"data row3 col6\" >0.3685</td>\n",
       "            </tr>\n",
       "            <tr>\n",
       "                        <th id=\"T_041f6e0e_d138_11ec_9c28_7085c2294e08level0_row4\" class=\"row_heading level0 row4\" >4</th>\n",
       "                        <td id=\"T_041f6e0e_d138_11ec_9c28_7085c2294e08row4_col0\" class=\"data row4 col0\" >0.6786</td>\n",
       "                        <td id=\"T_041f6e0e_d138_11ec_9c28_7085c2294e08row4_col1\" class=\"data row4 col1\" >0.6439</td>\n",
       "                        <td id=\"T_041f6e0e_d138_11ec_9c28_7085c2294e08row4_col2\" class=\"data row4 col2\" >0.0000</td>\n",
       "                        <td id=\"T_041f6e0e_d138_11ec_9c28_7085c2294e08row4_col3\" class=\"data row4 col3\" >0.0000</td>\n",
       "                        <td id=\"T_041f6e0e_d138_11ec_9c28_7085c2294e08row4_col4\" class=\"data row4 col4\" >0.0000</td>\n",
       "                        <td id=\"T_041f6e0e_d138_11ec_9c28_7085c2294e08row4_col5\" class=\"data row4 col5\" >-0.1667</td>\n",
       "                        <td id=\"T_041f6e0e_d138_11ec_9c28_7085c2294e08row4_col6\" class=\"data row4 col6\" >-0.1809</td>\n",
       "            </tr>\n",
       "            <tr>\n",
       "                        <th id=\"T_041f6e0e_d138_11ec_9c28_7085c2294e08level0_row5\" class=\"row_heading level0 row5\" >5</th>\n",
       "                        <td id=\"T_041f6e0e_d138_11ec_9c28_7085c2294e08row5_col0\" class=\"data row5 col0\" >0.7500</td>\n",
       "                        <td id=\"T_041f6e0e_d138_11ec_9c28_7085c2294e08row5_col1\" class=\"data row5 col1\" >0.6136</td>\n",
       "                        <td id=\"T_041f6e0e_d138_11ec_9c28_7085c2294e08row5_col2\" class=\"data row5 col2\" >0.1667</td>\n",
       "                        <td id=\"T_041f6e0e_d138_11ec_9c28_7085c2294e08row5_col3\" class=\"data row5 col3\" >0.3333</td>\n",
       "                        <td id=\"T_041f6e0e_d138_11ec_9c28_7085c2294e08row5_col4\" class=\"data row5 col4\" >0.2222</td>\n",
       "                        <td id=\"T_041f6e0e_d138_11ec_9c28_7085c2294e08row5_col5\" class=\"data row5 col5\" >0.0926</td>\n",
       "                        <td id=\"T_041f6e0e_d138_11ec_9c28_7085c2294e08row5_col6\" class=\"data row5 col6\" >0.1005</td>\n",
       "            </tr>\n",
       "            <tr>\n",
       "                        <th id=\"T_041f6e0e_d138_11ec_9c28_7085c2294e08level0_row6\" class=\"row_heading level0 row6\" >6</th>\n",
       "                        <td id=\"T_041f6e0e_d138_11ec_9c28_7085c2294e08row6_col0\" class=\"data row6 col0\" >0.7857</td>\n",
       "                        <td id=\"T_041f6e0e_d138_11ec_9c28_7085c2294e08row6_col1\" class=\"data row6 col1\" >0.7955</td>\n",
       "                        <td id=\"T_041f6e0e_d138_11ec_9c28_7085c2294e08row6_col2\" class=\"data row6 col2\" >0.1667</td>\n",
       "                        <td id=\"T_041f6e0e_d138_11ec_9c28_7085c2294e08row6_col3\" class=\"data row6 col3\" >0.5000</td>\n",
       "                        <td id=\"T_041f6e0e_d138_11ec_9c28_7085c2294e08row6_col4\" class=\"data row6 col4\" >0.2500</td>\n",
       "                        <td id=\"T_041f6e0e_d138_11ec_9c28_7085c2294e08row6_col5\" class=\"data row6 col5\" >0.1600</td>\n",
       "                        <td id=\"T_041f6e0e_d138_11ec_9c28_7085c2294e08row6_col6\" class=\"data row6 col6\" >0.1931</td>\n",
       "            </tr>\n",
       "            <tr>\n",
       "                        <th id=\"T_041f6e0e_d138_11ec_9c28_7085c2294e08level0_row7\" class=\"row_heading level0 row7\" >7</th>\n",
       "                        <td id=\"T_041f6e0e_d138_11ec_9c28_7085c2294e08row7_col0\" class=\"data row7 col0\" >0.8214</td>\n",
       "                        <td id=\"T_041f6e0e_d138_11ec_9c28_7085c2294e08row7_col1\" class=\"data row7 col1\" >0.8636</td>\n",
       "                        <td id=\"T_041f6e0e_d138_11ec_9c28_7085c2294e08row7_col2\" class=\"data row7 col2\" >0.1667</td>\n",
       "                        <td id=\"T_041f6e0e_d138_11ec_9c28_7085c2294e08row7_col3\" class=\"data row7 col3\" >1.0000</td>\n",
       "                        <td id=\"T_041f6e0e_d138_11ec_9c28_7085c2294e08row7_col4\" class=\"data row7 col4\" >0.2857</td>\n",
       "                        <td id=\"T_041f6e0e_d138_11ec_9c28_7085c2294e08row7_col5\" class=\"data row7 col5\" >0.2391</td>\n",
       "                        <td id=\"T_041f6e0e_d138_11ec_9c28_7085c2294e08row7_col6\" class=\"data row7 col6\" >0.3685</td>\n",
       "            </tr>\n",
       "            <tr>\n",
       "                        <th id=\"T_041f6e0e_d138_11ec_9c28_7085c2294e08level0_row8\" class=\"row_heading level0 row8\" >8</th>\n",
       "                        <td id=\"T_041f6e0e_d138_11ec_9c28_7085c2294e08row8_col0\" class=\"data row8 col0\" >0.7500</td>\n",
       "                        <td id=\"T_041f6e0e_d138_11ec_9c28_7085c2294e08row8_col1\" class=\"data row8 col1\" >0.7687</td>\n",
       "                        <td id=\"T_041f6e0e_d138_11ec_9c28_7085c2294e08row8_col2\" class=\"data row8 col2\" >0.2857</td>\n",
       "                        <td id=\"T_041f6e0e_d138_11ec_9c28_7085c2294e08row8_col3\" class=\"data row8 col3\" >0.5000</td>\n",
       "                        <td id=\"T_041f6e0e_d138_11ec_9c28_7085c2294e08row8_col4\" class=\"data row8 col4\" >0.3636</td>\n",
       "                        <td id=\"T_041f6e0e_d138_11ec_9c28_7085c2294e08row8_col5\" class=\"data row8 col5\" >0.2222</td>\n",
       "                        <td id=\"T_041f6e0e_d138_11ec_9c28_7085c2294e08row8_col6\" class=\"data row8 col6\" >0.2357</td>\n",
       "            </tr>\n",
       "            <tr>\n",
       "                        <th id=\"T_041f6e0e_d138_11ec_9c28_7085c2294e08level0_row9\" class=\"row_heading level0 row9\" >9</th>\n",
       "                        <td id=\"T_041f6e0e_d138_11ec_9c28_7085c2294e08row9_col0\" class=\"data row9 col0\" >0.7857</td>\n",
       "                        <td id=\"T_041f6e0e_d138_11ec_9c28_7085c2294e08row9_col1\" class=\"data row9 col1\" >0.6599</td>\n",
       "                        <td id=\"T_041f6e0e_d138_11ec_9c28_7085c2294e08row9_col2\" class=\"data row9 col2\" >0.2857</td>\n",
       "                        <td id=\"T_041f6e0e_d138_11ec_9c28_7085c2294e08row9_col3\" class=\"data row9 col3\" >0.6667</td>\n",
       "                        <td id=\"T_041f6e0e_d138_11ec_9c28_7085c2294e08row9_col4\" class=\"data row9 col4\" >0.4000</td>\n",
       "                        <td id=\"T_041f6e0e_d138_11ec_9c28_7085c2294e08row9_col5\" class=\"data row9 col5\" >0.2941</td>\n",
       "                        <td id=\"T_041f6e0e_d138_11ec_9c28_7085c2294e08row9_col6\" class=\"data row9 col6\" >0.3333</td>\n",
       "            </tr>\n",
       "            <tr>\n",
       "                        <th id=\"T_041f6e0e_d138_11ec_9c28_7085c2294e08level0_row10\" class=\"row_heading level0 row10\" >Mean</th>\n",
       "                        <td id=\"T_041f6e0e_d138_11ec_9c28_7085c2294e08row10_col0\" class=\"data row10 col0\" >0.7829</td>\n",
       "                        <td id=\"T_041f6e0e_d138_11ec_9c28_7085c2294e08row10_col1\" class=\"data row10 col1\" >0.7663</td>\n",
       "                        <td id=\"T_041f6e0e_d138_11ec_9c28_7085c2294e08row10_col2\" class=\"data row10 col2\" >0.1714</td>\n",
       "                        <td id=\"T_041f6e0e_d138_11ec_9c28_7085c2294e08row10_col3\" class=\"data row10 col3\" >0.7000</td>\n",
       "                        <td id=\"T_041f6e0e_d138_11ec_9c28_7085c2294e08row10_col4\" class=\"data row10 col4\" >0.2629</td>\n",
       "                        <td id=\"T_041f6e0e_d138_11ec_9c28_7085c2294e08row10_col5\" class=\"data row10 col5\" >0.1761</td>\n",
       "                        <td id=\"T_041f6e0e_d138_11ec_9c28_7085c2294e08row10_col6\" class=\"data row10 col6\" >0.2491</td>\n",
       "            </tr>\n",
       "            <tr>\n",
       "                        <th id=\"T_041f6e0e_d138_11ec_9c28_7085c2294e08level0_row11\" class=\"row_heading level0 row11\" >SD</th>\n",
       "                        <td id=\"T_041f6e0e_d138_11ec_9c28_7085c2294e08row11_col0\" class=\"data row11 col0\" >0.0437</td>\n",
       "                        <td id=\"T_041f6e0e_d138_11ec_9c28_7085c2294e08row11_col1\" class=\"data row11 col1\" >0.0977</td>\n",
       "                        <td id=\"T_041f6e0e_d138_11ec_9c28_7085c2294e08row11_col2\" class=\"data row11 col2\" >0.0751</td>\n",
       "                        <td id=\"T_041f6e0e_d138_11ec_9c28_7085c2294e08row11_col3\" class=\"data row11 col3\" >0.3399</td>\n",
       "                        <td id=\"T_041f6e0e_d138_11ec_9c28_7085c2294e08row11_col4\" class=\"data row11 col4\" >0.1011</td>\n",
       "                        <td id=\"T_041f6e0e_d138_11ec_9c28_7085c2294e08row11_col5\" class=\"data row11 col5\" >0.1254</td>\n",
       "                        <td id=\"T_041f6e0e_d138_11ec_9c28_7085c2294e08row11_col6\" class=\"data row11 col6\" >0.1679</td>\n",
       "            </tr>\n",
       "    </tbody></table>"
      ],
      "text/plain": [
       "<pandas.io.formats.style.Styler at 0x1651db50df0>"
      ]
     },
     "metadata": {},
     "output_type": "display_data"
    }
   ],
   "source": [
    "blender_top5 = blend_models(estimator_list=tuned_top5)"
   ]
  },
  {
   "cell_type": "code",
   "execution_count": 354,
   "metadata": {},
   "outputs": [],
   "source": [
    "final_model = finalize_model(blender_top5)\n",
    "prediction = predict_model(final_model, data=test)"
   ]
  },
  {
   "cell_type": "code",
   "execution_count": 355,
   "metadata": {},
   "outputs": [],
   "source": [
    "prediction['Target'] = prediction['Target'].astype(int)"
   ]
  },
  {
   "cell_type": "code",
   "execution_count": 356,
   "metadata": {},
   "outputs": [],
   "source": [
    "prediction['Label'] = prediction['Label'].astype(float)"
   ]
  },
  {
   "cell_type": "code",
   "execution_count": 357,
   "metadata": {},
   "outputs": [],
   "source": [
    "prediction['Label'] = prediction['Label'].astype(int)"
   ]
  },
  {
   "cell_type": "code",
   "execution_count": 358,
   "metadata": {},
   "outputs": [
    {
     "data": {
      "text/plain": [
       "0.7919"
      ]
     },
     "execution_count": 358,
     "metadata": {},
     "output_type": "execute_result"
    }
   ],
   "source": [
    "from pycaret.utils import check_metric\n",
    "check_metric(prediction['Target'], prediction['Label'], metric = 'Accuracy') \n",
    "\n",
    "#10개 폴드, sort = F1 기준으로 했을 때,제일 좋은 결과가 나옴 \n",
    "# = 정확도 0.7977, F1score 0.4775"
   ]
  },
  {
   "cell_type": "code",
   "execution_count": 359,
   "metadata": {
    "scrolled": true
   },
   "outputs": [
    {
     "data": {
      "text/plain": [
       "0.4375"
      ]
     },
     "execution_count": 359,
     "metadata": {},
     "output_type": "execute_result"
    }
   ],
   "source": [
    "# F1score\n",
    "check_metric(prediction['Target'], prediction['Label'], metric = 'F1') "
   ]
  },
  {
   "cell_type": "code",
   "execution_count": 360,
   "metadata": {
    "scrolled": true
   },
   "outputs": [],
   "source": [
    "from sklearn.metrics import accuracy_score\n",
    "from sklearn.metrics import f1_score\n",
    "\n",
    "from sklearn.model_selection import KFold\n",
    "kf = KFold(n_splits =  10, shuffle = True, random_state = 42) # fold 10번하기\n",
    "\n",
    "acc_list = []\n",
    "py_pred = np.zeros((y_test.shape[0]))\n",
    "for tr_idx, val_idx in kf.split(X_train, y_train) :\n",
    "    tr_x, tr_y = X_train.iloc[tr_idx], y_train.iloc[tr_idx]\n",
    "    val_x, val_y = X_train.iloc[val_idx], y_train.iloc[val_idx]\n",
    "    \n",
    "    final_model.fit(tr_x, tr_y)\n",
    "    \n",
    "    pred = final_model.predict(val_x)\n",
    "    sub_pred = final_model.predict(X_test)\n",
    "    acc = accuracy_score(val_y, pred)\n",
    "    \n",
    "    acc_list.append(acc)\n",
    "    \n",
    "    py_pred += (sub_pred / 10)"
   ]
  },
  {
   "cell_type": "code",
   "execution_count": 361,
   "metadata": {
    "scrolled": true
   },
   "outputs": [
    {
     "name": "stdout",
     "output_type": "stream",
     "text": [
      "acc 평균: 0.7734756097560975\n",
      "acc: 0.7514450867052023\n",
      "f1 score 0.18867924528301885\n"
     ]
    }
   ],
   "source": [
    "print('acc 평균:', np.mean(acc_list))\n",
    "print('acc:',accuracy_score(np.round(py_pred), y_test))\n",
    "print('f1 score', f1_score(np.round(py_pred), y_test))"
   ]
  },
  {
   "cell_type": "markdown",
   "metadata": {},
   "source": [
    "                              정확도    F1 score\n",
    "정규화하기 전\n",
    "- 모든 피처 9개(screen수, act_n, genre, director, distributor, 네이버_movie_buzz, 구글_movie_buzz, star_buzz, 네이버_기대지수) \n",
    "   - fold-5, 상위 5개 모델(5개 이상, 이하가 같은 결과가 나오거나 낮음) -0.8092, 0.3774 -0.7885, 0.412\n",
    "  - fold-10, 상위 5개 모델 - 0.7977, 0.386 -0.7910, 0.3666   \n",
    "  \n",
    "- act_n 뺀, 피처 8개(screen수, genre, director, distributor, 네이버_movie_buzz, 구글_movie_buzz, star_buzz, 네이버_기대지수)       \n",
    "  - fold-5, 상위 5개 모델(5개 이상해도 같은 결과가 나오거나 낮음) -0.763, 0.4225 -0.7785, 0.4057\n",
    "  - fold-10,상위 5개 모델(5개가 가장 좋은 결과를 가져옴) \n",
    "               \n",
    "\n",
    "\n",
    "\n",
    "정규화 한 후\n",
    "- 모든 피처 9개(screen수, act_n, genre, director, distributor, 네이버_movie_buzz, 구글_movie_buzz, star_buzz, 네이버_기대지수) \n",
    "  - fold-10,상위 5개 모델(5개가 가장 좋은 결과를 가져옴) - 0.8092, 0.5075  0.7808, 0.5352\n",
    "- 분명 정규화한게 더 좋은 결과가 나왔는데 다시 돌려보니 정규화 안한게 더 좋은 결과가 나옴..\n",
    "\n"
   ]
  },
  {
   "cell_type": "markdown",
   "metadata": {},
   "source": [
    "### linear discriminant"
   ]
  },
  {
   "cell_type": "code",
   "execution_count": 228,
   "metadata": {},
   "outputs": [],
   "source": [
    "from sklearn.discriminant_analysis import LinearDiscriminantAnalysis\n",
    "from sklearn.preprocessing import StandardScaler"
   ]
  },
  {
   "cell_type": "code",
   "execution_count": 229,
   "metadata": {},
   "outputs": [
    {
     "name": "stdout",
     "output_type": "stream",
     "text": [
      "acc 0.791907514450867\n",
      "f1 0.47058823529411764\n"
     ]
    }
   ],
   "source": [
    "lda = LinearDiscriminantAnalysis(n_components=1)\n",
    "lda.fit(X_train_std, y_train)\n",
    "#lda.transform(X_train)\n",
    "y_pred = lda.predict(X_test_std)\n",
    "print('acc', accuracy_score(y_pred, y_test))\n",
    "print('f1',f1_score(y_test, y_pred))"
   ]
  },
  {
   "cell_type": "markdown",
   "metadata": {},
   "source": [
    "               정확도    F1 score\n",
    "정규화하기 전\n",
    "- 모든 피처 9개(screen수, act_n, genre, director, distributor, 네이버_movie_buzz, 구글_movie_buzz, star_buzz, 네이버_기대지수) \n",
    "  - 0.7919, 0.4705\n",
    "\n",
    "  \n",
    "- Screen 수 뺀, 피처 8개(act_n, genre, director, distributor, 네이버_movie_buzz, 구글_movie_buzz, star_buzz, 네이버_기대지수) \n",
    "\n",
    "\n",
    "정규화 한 후\n",
    "- 모든 피처 9개(screen수, act_n, genre, director, distributor, 네이버_movie_buzz, 구글_movie_buzz, star_buzz, 네이버_기대지수) \n",
    "  - 0.7919, 0.4705\n"
   ]
  },
  {
   "cell_type": "markdown",
   "metadata": {},
   "source": [
    "## logistic regression"
   ]
  },
  {
   "cell_type": "code",
   "execution_count": 231,
   "metadata": {},
   "outputs": [],
   "source": [
    "from sklearn.linear_model import LogisticRegression"
   ]
  },
  {
   "cell_type": "code",
   "execution_count": 233,
   "metadata": {
    "scrolled": true
   },
   "outputs": [
    {
     "name": "stdout",
     "output_type": "stream",
     "text": [
      "acc 0.7976878612716763\n",
      "f1 0.49275362318840576\n"
     ]
    }
   ],
   "source": [
    "model = LogisticRegression(penalty = 'l2', random_state=100)\n",
    "model.fit(X_train, y_train)\n",
    "y_pred = model.predict(X_test)\n",
    "print('acc',accuracy_score(y_pred, y_test)) \n",
    "print('f1',f1_score(y_test, y_pred))\n"
   ]
  },
  {
   "cell_type": "markdown",
   "metadata": {},
   "source": [
    "               정확도    F1 score\n",
    "정규화하기 전\n",
    "- 모든 피처 9개(screen수, act_n, genre, director, distributor, 네이버_movie_buzz, 구글_movie_buzz, star_buzz, 네이버_기대지수) \n",
    "  - 0.7979, 0.4927\n",
    "\n",
    "  \n",
    "- Screen 수 뺀, 피처 8개(act_n, genre, director, distributor, 네이버_movie_buzz, 구글_movie_buzz, star_buzz, 네이버_기대지수) \n",
    "\n",
    "\n",
    "정규화 한 후\n",
    "- 모든 피처 9개(screen수, act_n, genre, director, distributor, 네이버_movie_buzz, 구글_movie_buzz, star_buzz, 네이버_기대지수)\n",
    "   - 0.7979, 0.4776"
   ]
  },
  {
   "cell_type": "markdown",
   "metadata": {},
   "source": [
    "## rigde classifier"
   ]
  },
  {
   "cell_type": "code",
   "execution_count": 234,
   "metadata": {},
   "outputs": [],
   "source": [
    "from sklearn.linear_model import RidgeClassifier"
   ]
  },
  {
   "cell_type": "code",
   "execution_count": 236,
   "metadata": {},
   "outputs": [
    {
     "name": "stdout",
     "output_type": "stream",
     "text": [
      "Accuracy: 0.791907514450867\n",
      "F1 score: 0.4375\n"
     ]
    }
   ],
   "source": [
    "rc = RidgeClassifier(random_state = 100)\n",
    "rc.fit(X_train, y_train)\n",
    "y_pred = rc.predict(X_test)\n",
    "print(\"Accuracy:\",accuracy_score(y_test, y_pred))\n",
    "print(\"F1 score:\",f1_score(y_pred, y_test))\n",
    "# 좋은 결과가 나오지만 보팅에 넣을 수가 없음"
   ]
  },
  {
   "cell_type": "markdown",
   "metadata": {},
   "source": [
    "               정확도    F1 score\n",
    "정규화하기 전\n",
    "- 모든 피처 9개(screen수, act_n, genre, director, distributor, 네이버_movie_buzz, 구글_movie_buzz, star_buzz, 네이버_기대지수) \n",
    "  - 0.7919, 0.4375\n",
    "\n",
    "  \n",
    "- Screen 수 뺀, 피처 8개(act_n, genre, director, distributor, 네이버_movie_buzz, 구글_movie_buzz, star_buzz, 네이버_기대지수) \n",
    "\n",
    "\n",
    "정규화 한 후\n",
    "- 모든 피처 9개(screen수, act_n, genre, director, distributor, 네이버_movie_buzz, 구글_movie_buzz, star_buzz, 네이버_기대지수)\n",
    "   - 0.7919, 0.4375"
   ]
  },
  {
   "cell_type": "markdown",
   "metadata": {},
   "source": [
    "## AdaBoost"
   ]
  },
  {
   "cell_type": "code",
   "execution_count": 237,
   "metadata": {},
   "outputs": [],
   "source": [
    "from sklearn.ensemble import AdaBoostClassifier"
   ]
  },
  {
   "cell_type": "code",
   "execution_count": 239,
   "metadata": {
    "scrolled": true
   },
   "outputs": [
    {
     "name": "stdout",
     "output_type": "stream",
     "text": [
      "Accuracy: 0.7572254335260116\n",
      "F1 score: 0.3225806451612903\n"
     ]
    }
   ],
   "source": [
    "abc = AdaBoostClassifier(n_estimators=50,\n",
    "                         learning_rate=1, random_state=100)\n",
    "model = abc.fit(X_train, y_train)\n",
    "y_pred = model.predict(X_test)\n",
    "print(\"Accuracy:\",accuracy_score(y_test, y_pred))\n",
    "print(\"F1 score:\",f1_score(y_pred, y_test))"
   ]
  },
  {
   "cell_type": "markdown",
   "metadata": {},
   "source": [
    "               정확도    F1 score\n",
    "정규화하기 전\n",
    "- 모든 피처 9개(screen수, act_n, genre, director, distributor, 네이버_movie_buzz, 구글_movie_buzz, star_buzz, 네이버_기대지수) \n",
    "  - 0.7572, 0.3225\n",
    "\n",
    "  \n",
    "- Screen 수 뺀, 피처 8개(act_n, genre, director, distributor, 네이버_movie_buzz, 구글_movie_buzz, star_buzz, 네이버_기대지수) \n",
    "\n",
    "\n",
    "정규화 한 후\n",
    "- 모든 피처 9개(screen수, act_n, genre, director, distributor, 네이버_movie_buzz, 구글_movie_buzz, star_buzz, 네이버_기대지수)\n",
    "   - 0.7572, 0.3225"
   ]
  },
  {
   "cell_type": "markdown",
   "metadata": {},
   "source": [
    "## KNN"
   ]
  },
  {
   "cell_type": "markdown",
   "metadata": {},
   "source": [
    "스크린수 포함 최고 정확도 0.73(무비버즈 미포함)\n",
    "스크린수 미포함 최고 정확도 0.72(무비버즈 미포함)"
   ]
  },
  {
   "cell_type": "code",
   "execution_count": 240,
   "metadata": {},
   "outputs": [],
   "source": [
    "from sklearn.neighbors import KNeighborsClassifier"
   ]
  },
  {
   "cell_type": "code",
   "execution_count": 241,
   "metadata": {},
   "outputs": [],
   "source": [
    "knn = KNeighborsClassifier(n_neighbors = 11)"
   ]
  },
  {
   "cell_type": "code",
   "execution_count": 242,
   "metadata": {
    "scrolled": false
   },
   "outputs": [
    {
     "name": "stdout",
     "output_type": "stream",
     "text": [
      "acc 0.7630057803468208\n",
      "f1 0.3492063492063492\n"
     ]
    }
   ],
   "source": [
    "knn.fit(X_train_std, y_train)\n",
    "y_pred = knn.predict(X_test_std)\n",
    "print('acc',accuracy_score(y_pred, y_test))\n",
    "print('f1',f1_score(y_test, y_pred))\n",
    "# 0.7803 모든 피처용\n",
    "# 0.768 act_n 뺏을 경우"
   ]
  },
  {
   "cell_type": "markdown",
   "metadata": {},
   "source": [
    "               정확도    F1 score\n",
    "정규화하기 전\n",
    "- 모든 피처 9개(screen수, act_n, genre, director, distributor, 네이버_movie_buzz, 구글_movie_buzz, star_buzz, 네이버_기대지수) \n",
    "  - 0.7803, 0.4242\n",
    "\n",
    "  \n",
    "- Screen 수 뺀, 피처 8개(act_n, genre, director, distributor, 네이버_movie_buzz, 구글_movie_buzz, star_buzz, 네이버_기대지수) \n",
    "\n",
    "\n",
    "정규화 한 후\n",
    "- 모든 피처 9개(screen수, act_n, genre, director, distributor, 네이버_movie_buzz, 구글_movie_buzz, star_buzz, 네이버_기대지수)\n",
    "   - 0.7630, 0.3492"
   ]
  },
  {
   "cell_type": "markdown",
   "metadata": {},
   "source": [
    "## random forest"
   ]
  },
  {
   "cell_type": "code",
   "execution_count": 243,
   "metadata": {},
   "outputs": [],
   "source": [
    "from sklearn.ensemble import RandomForestClassifier"
   ]
  },
  {
   "cell_type": "code",
   "execution_count": 244,
   "metadata": {},
   "outputs": [
    {
     "name": "stdout",
     "output_type": "stream",
     "text": [
      "Model accuracy score with 10 decision-trees : 0.7630\n",
      "f1 0.38805970149253727\n"
     ]
    }
   ],
   "source": [
    "rfc = RandomForestClassifier(random_state=100)\n",
    "rfc.fit(X_train_std, y_train)\n",
    "y_pred = rfc.predict(X_test_std)\n",
    "print('Model accuracy score with 10 decision-trees : {0:0.4f}'. format(accuracy_score(y_test, y_pred)))\n",
    "print('f1',f1_score(y_test, y_pred))"
   ]
  },
  {
   "cell_type": "markdown",
   "metadata": {},
   "source": [
    "               정확도    F1 score\n",
    "정규화하기 전\n",
    "- 모든 피처 9개(screen수, act_n, genre, director, distributor, 네이버_movie_buzz, 구글_movie_buzz, star_buzz, 네이버_기대지수) \n",
    "  - 0.7630, 0.3880\n",
    "\n",
    "  \n",
    "- Screen 수 뺀, 피처 8개(act_n, genre, director, distributor, 네이버_movie_buzz, 구글_movie_buzz, star_buzz, 네이버_기대지수) \n",
    "\n",
    "\n",
    "정규화 한 후\n",
    "- 모든 피처 9개(screen수, act_n, genre, director, distributor, 네이버_movie_buzz, 구글_movie_buzz, star_buzz, 네이버_기대지수)\n",
    "   - 0.7630, 0.3880"
   ]
  },
  {
   "cell_type": "markdown",
   "metadata": {},
   "source": [
    "## gradient boosting"
   ]
  },
  {
   "cell_type": "code",
   "execution_count": 245,
   "metadata": {},
   "outputs": [],
   "source": [
    "from sklearn.ensemble import GradientBoostingClassifier\n",
    "from sklearn.metrics import roc_auc_score\n",
    "from sklearn.model_selection import train_test_split"
   ]
  },
  {
   "cell_type": "code",
   "execution_count": 246,
   "metadata": {
    "scrolled": true
   },
   "outputs": [
    {
     "name": "stdout",
     "output_type": "stream",
     "text": [
      "정확도0.7572\n",
      "f1 0.19230769230769232\n"
     ]
    }
   ],
   "source": [
    "gbc = GradientBoostingClassifier(random_state=100, max_depth=3, learning_rate=0.01) \n",
    "gbc.fit(X_train_std, y_train)\n",
    "y_pred = gbc.predict(X_test_std)\n",
    "print('정확도{:.4f}'.format(accuracy_score(y_pred, y_test)))\n",
    "print('f1',f1_score(y_test, y_pred))"
   ]
  },
  {
   "cell_type": "markdown",
   "metadata": {},
   "source": [
    "               정확도    F1 score\n",
    "정규화하기 전\n",
    "- 모든 피처 9개(screen수, act_n, genre, director, distributor, 네이버_movie_buzz, 구글_movie_buzz, star_buzz, 네이버_기대지수) \n",
    "  - 0.7572, 0.1923\n",
    "\n",
    "  \n",
    "- Screen 수 뺀, 피처 8개(act_n, genre, director, distributor, 네이버_movie_buzz, 구글_movie_buzz, star_buzz, 네이버_기대지수) \n",
    "\n",
    "\n",
    "정규화 한 후\n",
    "- 모든 피처 9개(screen수, act_n, genre, director, distributor, 네이버_movie_buzz, 구글_movie_buzz, star_buzz, 네이버_기대지수)\n",
    "   - 0.7572, 0.1923"
   ]
  },
  {
   "cell_type": "markdown",
   "metadata": {},
   "source": [
    "## Quadrantic Distminant Analysis"
   ]
  },
  {
   "cell_type": "code",
   "execution_count": 247,
   "metadata": {},
   "outputs": [],
   "source": [
    "from sklearn.discriminant_analysis import QuadraticDiscriminantAnalysis\n",
    "from sklearn.metrics import f1_score"
   ]
  },
  {
   "cell_type": "code",
   "execution_count": 248,
   "metadata": {},
   "outputs": [
    {
     "name": "stdout",
     "output_type": "stream",
     "text": [
      "Accuracy: 0.7630057803468208\n",
      "F1 score: 0.48101265822784806\n"
     ]
    }
   ],
   "source": [
    "cqd = QuadraticDiscriminantAnalysis(store_covariance=True)\n",
    "cqd.fit(X_train, y_train)\n",
    "y_pred = cqd.predict(X_test)\n",
    "print(\"Accuracy:\",accuracy_score(y_test, y_pred))\n",
    "print(\"F1 score:\",f1_score(y_pred, y_test))"
   ]
  },
  {
   "cell_type": "markdown",
   "metadata": {},
   "source": [
    "               정확도    F1 score\n",
    "정규화하기 전\n",
    "- 모든 피처 9개(screen수, act_n, genre, director, distributor, 네이버_movie_buzz, 구글_movie_buzz, star_buzz, 네이버_기대지수) \n",
    "  - 0.76300, 0.4810\n",
    "\n",
    "  \n",
    "- Screen 수 뺀, 피처 8개(act_n, genre, director, distributor, 네이버_movie_buzz, 구글_movie_buzz, star_buzz, 네이버_기대지수) \n",
    "\n",
    "\n",
    "정규화 한 후\n",
    "- 모든 피처 9개(screen수, act_n, genre, director, distributor, 네이버_movie_buzz, 구글_movie_buzz, star_buzz, 네이버_기대지수)\n",
    "   - 0.76300, 0.4810"
   ]
  },
  {
   "cell_type": "markdown",
   "metadata": {},
   "source": [
    "## catboost classifier"
   ]
  },
  {
   "cell_type": "code",
   "execution_count": 249,
   "metadata": {},
   "outputs": [],
   "source": [
    "from catboost import CatBoostClassifier"
   ]
  },
  {
   "cell_type": "code",
   "execution_count": 250,
   "metadata": {},
   "outputs": [],
   "source": [
    "clf = CatBoostClassifier(\n",
    "    iterations=200,\n",
    "    random_seed = 100,\n",
    "    learning_rate=0.2, \n",
    "    loss_function='Logloss', #CrossEntropy,\n",
    "    custom_metric = ['Logloss','F1'],\n",
    "    early_stopping_rounds = 100,\n",
    "    use_best_model = True\n",
    ")"
   ]
  },
  {
   "cell_type": "code",
   "execution_count": 251,
   "metadata": {},
   "outputs": [
    {
     "name": "stdout",
     "output_type": "stream",
     "text": [
      "CatBoost model is fitted: True\n",
      "CatBoost model parameters:\n",
      "{'iterations': 200, 'learning_rate': 0.2, 'loss_function': 'Logloss', 'random_seed': 100, 'use_best_model': True, 'custom_metric': ['Logloss', 'F1'], 'early_stopping_rounds': 100}\n"
     ]
    }
   ],
   "source": [
    "clf.fit(X_train, y_train, \n",
    "        #cat_features=cat_features, \n",
    "        eval_set=(X_test, y_test), \n",
    "        verbose=False\n",
    ")\n",
    "\n",
    "print('CatBoost model is fitted: ' + str(clf.is_fitted()))\n",
    "print('CatBoost model parameters:')\n",
    "print(clf.get_params())"
   ]
  },
  {
   "cell_type": "code",
   "execution_count": 252,
   "metadata": {},
   "outputs": [
    {
     "name": "stdout",
     "output_type": "stream",
     "text": [
      "정확도 : 0.7688\n",
      "f1 0.37500000000000006\n"
     ]
    }
   ],
   "source": [
    "y_pred = clf.predict(X_test)\n",
    "print('정확도 : {0:0.4f}'. format(accuracy_score(y_test, y_pred)))\n",
    "print('f1',f1_score(y_test, y_pred))\n",
    "# 구글트렌드 미포함 0.7225. 포함 0.7399\n",
    "# 네이버 구글트렌드 합침 0.7225\n",
    "# 0.7283 모든 피처\n",
    "# 0.7457 act_n 뺐을 경우\n",
    "#0.7630 dist_rank 뺏을 경우\n",
    "#0.7688 genre_rank 뺏을 경우\n",
    "# 0.7630 direct_rank 뺏을 경우\n",
    "# 0.7514 기대지수 뺏을 경우\n",
    "# 0.7457 star_buzz 뺏을 경우\n",
    "# 0.7688 movie_buzz_naver 뺏을 경우\n",
    "# 0.7457 google_trend 뺏을 경우"
   ]
  },
  {
   "cell_type": "markdown",
   "metadata": {},
   "source": [
    "               정확도    F1 score\n",
    "정규화하기 전\n",
    "- 모든 피처 9개(screen수, act_n, genre, director, distributor, 네이버_movie_buzz, 구글_movie_buzz, star_buzz, 네이버_기대지수) \n",
    "  - 0.7688, 0.3750\n",
    "\n",
    "  \n",
    "- Screen 수 뺀, 피처 8개(act_n, genre, director, distributor, 네이버_movie_buzz, 구글_movie_buzz, star_buzz, 네이버_기대지수) \n",
    "\n",
    "\n",
    "정규화 한 후\n",
    "- 모든 피처 9개(screen수, act_n, genre, director, distributor, 네이버_movie_buzz, 구글_movie_buzz, star_buzz, 네이버_기대지수)\n",
    "   - 0.76300, 0.4810"
   ]
  },
  {
   "cell_type": "markdown",
   "metadata": {},
   "source": [
    "## XGB"
   ]
  },
  {
   "cell_type": "code",
   "execution_count": 255,
   "metadata": {
    "scrolled": true
   },
   "outputs": [
    {
     "name": "stdout",
     "output_type": "stream",
     "text": [
      "[0]\tvalidation_0-auc:0.86886\tvalidation_1-auc:0.72413\n",
      "[1]\tvalidation_0-auc:0.92447\tvalidation_1-auc:0.75139\n",
      "[2]\tvalidation_0-auc:0.94101\tvalidation_1-auc:0.74436\n",
      "[3]\tvalidation_0-auc:0.96374\tvalidation_1-auc:0.73655\n",
      "[4]\tvalidation_0-auc:0.97844\tvalidation_1-auc:0.74635\n",
      "[5]\tvalidation_0-auc:0.97996\tvalidation_1-auc:0.75981\n",
      "[6]\tvalidation_0-auc:0.98703\tvalidation_1-auc:0.75408\n",
      "[7]\tvalidation_0-auc:0.98906\tvalidation_1-auc:0.75269\n",
      "[8]\tvalidation_0-auc:0.99313\tvalidation_1-auc:0.75130\n",
      "[9]\tvalidation_0-auc:0.99506\tvalidation_1-auc:0.75530\n",
      "[10]\tvalidation_0-auc:0.99748\tvalidation_1-auc:0.75729\n",
      "[11]\tvalidation_0-auc:0.99905\tvalidation_1-auc:0.76814\n",
      "[12]\tvalidation_0-auc:0.99930\tvalidation_1-auc:0.76667\n",
      "[13]\tvalidation_0-auc:0.99951\tvalidation_1-auc:0.76181\n",
      "[14]\tvalidation_0-auc:0.99961\tvalidation_1-auc:0.76597\n",
      "[15]\tvalidation_0-auc:0.99979\tvalidation_1-auc:0.76233\n",
      "[16]\tvalidation_0-auc:0.99979\tvalidation_1-auc:0.75833\n",
      "[17]\tvalidation_0-auc:0.99982\tvalidation_1-auc:0.75990\n",
      "[18]\tvalidation_0-auc:0.99982\tvalidation_1-auc:0.75868\n",
      "[19]\tvalidation_0-auc:0.99993\tvalidation_1-auc:0.75816\n",
      "[20]\tvalidation_0-auc:0.99993\tvalidation_1-auc:0.76406\n",
      "[21]\tvalidation_0-auc:0.99996\tvalidation_1-auc:0.76597\n",
      "[22]\tvalidation_0-auc:0.99989\tvalidation_1-auc:0.76858\n",
      "[23]\tvalidation_0-auc:0.99996\tvalidation_1-auc:0.76441\n",
      "[24]\tvalidation_0-auc:0.99996\tvalidation_1-auc:0.76476\n",
      "[25]\tvalidation_0-auc:0.99996\tvalidation_1-auc:0.76701\n",
      "[26]\tvalidation_0-auc:1.00000\tvalidation_1-auc:0.76458\n",
      "[27]\tvalidation_0-auc:1.00000\tvalidation_1-auc:0.76701\n",
      "[28]\tvalidation_0-auc:1.00000\tvalidation_1-auc:0.76545\n",
      "[29]\tvalidation_0-auc:1.00000\tvalidation_1-auc:0.76250\n",
      "[30]\tvalidation_0-auc:1.00000\tvalidation_1-auc:0.76146\n",
      "[31]\tvalidation_0-auc:1.00000\tvalidation_1-auc:0.76094\n",
      "[32]\tvalidation_0-auc:1.00000\tvalidation_1-auc:0.76250\n",
      "[33]\tvalidation_0-auc:1.00000\tvalidation_1-auc:0.76198\n",
      "[34]\tvalidation_0-auc:1.00000\tvalidation_1-auc:0.75955\n",
      "[35]\tvalidation_0-auc:1.00000\tvalidation_1-auc:0.76233\n",
      "[36]\tvalidation_0-auc:1.00000\tvalidation_1-auc:0.75903\n",
      "[37]\tvalidation_0-auc:1.00000\tvalidation_1-auc:0.75625\n",
      "[38]\tvalidation_0-auc:1.00000\tvalidation_1-auc:0.75556\n",
      "[39]\tvalidation_0-auc:1.00000\tvalidation_1-auc:0.75625\n",
      "[40]\tvalidation_0-auc:1.00000\tvalidation_1-auc:0.75747\n",
      "[41]\tvalidation_0-auc:1.00000\tvalidation_1-auc:0.75625\n",
      "[42]\tvalidation_0-auc:1.00000\tvalidation_1-auc:0.76007\n",
      "[43]\tvalidation_0-auc:1.00000\tvalidation_1-auc:0.75972\n",
      "[44]\tvalidation_0-auc:1.00000\tvalidation_1-auc:0.76042\n",
      "[45]\tvalidation_0-auc:1.00000\tvalidation_1-auc:0.75625\n",
      "[46]\tvalidation_0-auc:1.00000\tvalidation_1-auc:0.75712\n",
      "[47]\tvalidation_0-auc:1.00000\tvalidation_1-auc:0.75451\n",
      "[48]\tvalidation_0-auc:1.00000\tvalidation_1-auc:0.75243\n",
      "[49]\tvalidation_0-auc:1.00000\tvalidation_1-auc:0.75521\n",
      "[50]\tvalidation_0-auc:1.00000\tvalidation_1-auc:0.75573\n",
      "[51]\tvalidation_0-auc:1.00000\tvalidation_1-auc:0.75417\n"
     ]
    },
    {
     "data": {
      "text/plain": [
       "XGBClassifier(base_score=0.5, booster='gbtree', colsample_bylevel=1,\n",
       "              colsample_bynode=1, colsample_bytree=1, enable_categorical=False,\n",
       "              gamma=0, gpu_id=-1, importance_type=None,\n",
       "              interaction_constraints='', learning_rate=0.300000012,\n",
       "              max_delta_step=0, max_depth=6, min_child_weight=1, missing=nan,\n",
       "              monotone_constraints='()', n_estimators=100, n_jobs=4,\n",
       "              num_parallel_tree=1, objective='binary:logistic',\n",
       "              predictor='auto', random_state=100, reg_alpha=0, reg_lambda=1,\n",
       "              scale_pos_weight=1, subsample=1, tree_method='exact',\n",
       "              use_label_encoder=True, validate_parameters=1, verbosity=None)"
      ]
     },
     "execution_count": 255,
     "metadata": {},
     "output_type": "execute_result"
    }
   ],
   "source": [
    "from xgboost import XGBClassifier\n",
    "from sklearn.metrics import roc_auc_score\n",
    "from sklearn.metrics import accuracy_score\n",
    "# XGBClassifier 객체 생성\n",
    "xgb_clf = XGBClassifier(n_estimators=100, random_state=100)\n",
    "\n",
    "# 학습 : 성능 평가 지표를 auc로 설정하고 학습 수행. \n",
    "xgb_clf.fit(X_train_std, y_train, early_stopping_rounds=30,\n",
    "            # 원래 검증 셋은 test 말고 다른 데이터 셋으로 해야하지만 여기서는 그냥 test 셋으로 진행함\n",
    "            eval_metric=\"auc\", eval_set=[(X_train_std, y_train), (X_test_std, y_test)]) #학습, 검증\n",
    "#왼쪽이 학습하면서 정확도를 알려줌, 오른쪽은 학습한것에 대한 검증한것"
   ]
  },
  {
   "cell_type": "code",
   "execution_count": 256,
   "metadata": {},
   "outputs": [
    {
     "name": "stdout",
     "output_type": "stream",
     "text": [
      "acc: 0.7630057803468208\n",
      "f1 0.4383561643835616\n"
     ]
    }
   ],
   "source": [
    "y_pred = xgb_clf.predict(X_test_std) \n",
    "print('acc:',accuracy_score(y_test, y_pred))\n",
    "print('f1',f1_score(y_test, y_pred))\n",
    "# 구글트렌드 미포함 0.7265\n",
    "# 포함 0.7207"
   ]
  },
  {
   "cell_type": "markdown",
   "metadata": {},
   "source": [
    "               정확도    F1 score\n",
    "정규화하기 전\n",
    "- 모든 피처 9개(screen수, act_n, genre, director, distributor, 네이버_movie_buzz, 구글_movie_buzz, star_buzz, 네이버_기대지수) \n",
    "  - 0.7630, 0.4383\n",
    "\n",
    "  \n",
    "- Screen 수 뺀, 피처 8개(act_n, genre, director, distributor, 네이버_movie_buzz, 구글_movie_buzz, star_buzz, 네이버_기대지수) \n",
    "\n",
    "\n",
    "정규화 한 후\n",
    "- 모든 피처 9개(screen수, act_n, genre, director, distributor, 네이버_movie_buzz, 구글_movie_buzz, star_buzz, 네이버_기대지수)\n",
    "   - 0.7630, 0.4383"
   ]
  },
  {
   "cell_type": "markdown",
   "metadata": {},
   "source": [
    "## kfold\n",
    "위에서 상위 4개 정도만 kfold만 해봄"
   ]
  },
  {
   "cell_type": "code",
   "execution_count": null,
   "metadata": {},
   "outputs": [],
   "source": []
  },
  {
   "cell_type": "code",
   "execution_count": 43,
   "metadata": {
    "scrolled": false
   },
   "outputs": [],
   "source": [
    "from sklearn.model_selection import KFold\n",
    "kf = KFold(n_splits =  10, shuffle = True, random_state = 42) # fold 10번하기\n",
    "\n",
    "rc = RidgeClassifier(random_state=42)\n",
    "\n",
    "acc_list = []\n",
    "rc_pred = np.zeros((y_test.shape[0]))\n",
    "for tr_idx, val_idx in kf.split(X_train_std, y_train) :\n",
    "    tr_x, tr_y = X_train_std[tr_idx], y_train.iloc[tr_idx]\n",
    "    val_x, val_y = X_train_std[val_idx], y_train.iloc[val_idx]\n",
    "    \n",
    "    rc.fit(tr_x, tr_y)\n",
    "    \n",
    "    pred = rc.predict(val_x)\n",
    "    sub_pred = rc.predict(X_test_std)\n",
    "    acc = accuracy_score(val_y, pred)\n",
    "    \n",
    "    acc_list.append(acc)\n",
    "    \n",
    "    rc_pred += (sub_pred / 10)"
   ]
  },
  {
   "cell_type": "code",
   "execution_count": 44,
   "metadata": {},
   "outputs": [
    {
     "data": {
      "text/plain": [
       "0.7958536585365853"
      ]
     },
     "execution_count": 44,
     "metadata": {},
     "output_type": "execute_result"
    }
   ],
   "source": [
    "print('acc 평균', np.mean(acc_list))\n",
    "print('f1 score', f1_score(np.round(py_pred), y_test))"
   ]
  },
  {
   "cell_type": "code",
   "execution_count": 69,
   "metadata": {},
   "outputs": [],
   "source": [
    "from sklearn.model_selection import KFold\n",
    "kf = KFold(n_splits =  10, shuffle = True, random_state = 42) # fold 10번하기\n",
    "\n",
    "lda = LinearDiscriminantAnalysis(n_components=1)\n",
    "acc_list = []\n",
    "lda_pred = np.zeros((y_test.shape[0]))\n",
    "for tr_idx, val_idx in kf.split(X_train_std, y_train) :\n",
    "    tr_x, tr_y = X_train_std[tr_idx], y_train.iloc[tr_idx]\n",
    "    val_x, val_y = X_train_std[val_idx], y_train.iloc[val_idx]\n",
    "    \n",
    "    lda.fit(tr_x, tr_y)\n",
    "    \n",
    "    pred = lda.predict(val_x)\n",
    "    sub_pred = lda.predict(X_test_std)\n",
    "    acc = accuracy_score(val_y, pred)\n",
    "    \n",
    "    acc_list.append(acc)\n",
    "    \n",
    "    lda_pred += (sub_pred / 10)"
   ]
  },
  {
   "cell_type": "code",
   "execution_count": 70,
   "metadata": {
    "scrolled": true
   },
   "outputs": [
    {
     "data": {
      "text/plain": [
       "0.7907926829268292"
      ]
     },
     "execution_count": 70,
     "metadata": {},
     "output_type": "execute_result"
    }
   ],
   "source": [
    "print('acc 평균', np.mean(acc_list))\n",
    "print('f1 score', f1_score(np.round(py_pred), y_test))"
   ]
  },
  {
   "cell_type": "code",
   "execution_count": 55,
   "metadata": {},
   "outputs": [],
   "source": [
    "from sklearn.model_selection import KFold\n",
    "kf = KFold(n_splits =  10, shuffle = True, random_state = 42) # fold 10번하기\n",
    "\n",
    "lr = LogisticRegression(penalty = 'l2', random_state = 42)\n",
    "acc_list = []\n",
    "lr_pred = np.zeros((y_test.shape[0]))\n",
    "for tr_idx, val_idx in kf.split(X_train_std, y_train) :\n",
    "    tr_x, tr_y = X_train_std[tr_idx], y_train.iloc[tr_idx]\n",
    "    val_x, val_y = X_train_std[val_idx], y_train.iloc[val_idx]\n",
    "    \n",
    "    lr.fit(tr_x, tr_y)\n",
    "    \n",
    "    pred = lr.predict(val_x)\n",
    "    sub_pred = lr.predict(X_test_std)\n",
    "    acc = accuracy_score(val_y, pred)\n",
    "    \n",
    "    acc_list.append(acc)\n",
    "    \n",
    "    lr_pred += (sub_pred / 10)"
   ]
  },
  {
   "cell_type": "code",
   "execution_count": 242,
   "metadata": {
    "scrolled": true
   },
   "outputs": [
    {
     "data": {
      "text/plain": [
       "0.7709146341463414"
      ]
     },
     "execution_count": 242,
     "metadata": {},
     "output_type": "execute_result"
    }
   ],
   "source": [
    "from sklearn.metrics import f1_score\n",
    "print('acc 평균', np.mean(acc_list))\n",
    "print('f1 score', f1_score(np.round(py_pred), y_test))"
   ]
  },
  {
   "cell_type": "code",
   "execution_count": 50,
   "metadata": {},
   "outputs": [],
   "source": [
    "from sklearn.model_selection import KFold\n",
    "kf = KFold(n_splits =  10, shuffle = True, random_state = 42) # fold 10번하기\n",
    "\n",
    "knn = KNeighborsClassifier(n_neighbors = 11)\n",
    "acc_list = []\n",
    "knn_pred = np.zeros((y_test.shape[0]))\n",
    "for tr_idx, val_idx in kf.split(X_train_std, y_train) :\n",
    "    tr_x, tr_y = X_train_std[tr_idx], y_train.iloc[tr_idx]\n",
    "    val_x, val_y = X_train_std[val_idx], y_train.iloc[val_idx]\n",
    "    \n",
    "    knn.fit(tr_x, tr_y)\n",
    "    \n",
    "    pred = knn.predict(val_x)\n",
    "    sub_pred = knn.predict(X_test_std)\n",
    "    acc = accuracy_score(val_y, pred)\n",
    "    \n",
    "    acc_list.append(acc)\n",
    "    \n",
    "    knn_pred += (sub_pred / 10)"
   ]
  },
  {
   "cell_type": "code",
   "execution_count": 51,
   "metadata": {
    "scrolled": true
   },
   "outputs": [
    {
     "data": {
      "text/plain": [
       "0.7758536585365854"
      ]
     },
     "execution_count": 51,
     "metadata": {},
     "output_type": "execute_result"
    }
   ],
   "source": [
    "print('acc 평균', np.mean(acc_list))\n",
    "print('f1 score', f1_score(np.round(py_pred), y_test))"
   ]
  },
  {
   "cell_type": "code",
   "execution_count": 63,
   "metadata": {},
   "outputs": [],
   "source": [
    "from sklearn.model_selection import KFold\n",
    "kf = KFold(n_splits =  10, shuffle = True, random_state = 42) # fold 10번하기\n",
    "\n",
    "gbc = GradientBoostingClassifier(random_state=42, max_depth=3, learning_rate=0.01)\n",
    "acc_list = []\n",
    "gbc_pred = np.zeros((y_test.shape[0]))\n",
    "for tr_idx, val_idx in kf.split(X_train_std, y_train) :\n",
    "    tr_x, tr_y = X_train_std[tr_idx], y_train.iloc[tr_idx]\n",
    "    val_x, val_y = X_train_std[val_idx], y_train.iloc[val_idx]\n",
    "    \n",
    "    gbc.fit(tr_x, tr_y)\n",
    "    \n",
    "    pred = gbc.predict(val_x)\n",
    "    sub_pred = gbc.predict(X_test_std)\n",
    "    acc = accuracy_score(val_y, pred)\n",
    "    \n",
    "    acc_list.append(acc)\n",
    "    \n",
    "    gbc_pred += (sub_pred / 10)"
   ]
  },
  {
   "cell_type": "code",
   "execution_count": 64,
   "metadata": {
    "scrolled": true
   },
   "outputs": [
    {
     "data": {
      "text/plain": [
       "0.7760365853658537"
      ]
     },
     "execution_count": 64,
     "metadata": {},
     "output_type": "execute_result"
    }
   ],
   "source": [
    "print('acc 평균', np.mean(acc_list))\n",
    "print('f1 score', f1_score(np.round(py_pred), y_test))"
   ]
  },
  {
   "cell_type": "code",
   "execution_count": null,
   "metadata": {},
   "outputs": [],
   "source": []
  },
  {
   "cell_type": "code",
   "execution_count": 258,
   "metadata": {},
   "outputs": [],
   "source": [
    "a = (py_pred+lr_pred)/2 # 상위 폴드한 예측값들을 더해서 그 개수만큼 나눠줌(보팅?)"
   ]
  },
  {
   "cell_type": "code",
   "execution_count": 259,
   "metadata": {},
   "outputs": [
    {
     "data": {
      "text/plain": [
       "0.791907514450867"
      ]
     },
     "execution_count": 259,
     "metadata": {},
     "output_type": "execute_result"
    }
   ],
   "source": [
    "accuracy_score(np.round(a),y_test) # 그거에 대한 정확도 확인"
   ]
  },
  {
   "cell_type": "code",
   "execution_count": null,
   "metadata": {},
   "outputs": [],
   "source": []
  },
  {
   "cell_type": "markdown",
   "metadata": {},
   "source": [
    "## 보팅"
   ]
  },
  {
   "cell_type": "code",
   "execution_count": 95,
   "metadata": {},
   "outputs": [],
   "source": [
    "from sklearn.ensemble import VotingClassifier"
   ]
  },
  {
   "cell_type": "code",
   "execution_count": 1,
   "metadata": {},
   "outputs": [
    {
     "ename": "NameError",
     "evalue": "name 'VotingClassifier' is not defined",
     "output_type": "error",
     "traceback": [
      "\u001b[1;31m---------------------------------------------------------------------------\u001b[0m",
      "\u001b[1;31mNameError\u001b[0m                                 Traceback (most recent call last)",
      "\u001b[1;32m<ipython-input-1-c03eaea799a0>\u001b[0m in \u001b[0;36m<module>\u001b[1;34m\u001b[0m\n\u001b[1;32m----> 1\u001b[1;33m \u001b[0mvo_clf\u001b[0m \u001b[1;33m=\u001b[0m \u001b[0mVotingClassifier\u001b[0m\u001b[1;33m(\u001b[0m\u001b[0mestimators\u001b[0m\u001b[1;33m=\u001b[0m\u001b[1;33m[\u001b[0m\u001b[1;33m(\u001b[0m\u001b[1;34m'LR'\u001b[0m\u001b[1;33m,\u001b[0m\u001b[0mmodel\u001b[0m\u001b[1;33m)\u001b[0m\u001b[1;33m,\u001b[0m\u001b[1;33m(\u001b[0m\u001b[1;34m'LD'\u001b[0m\u001b[1;33m,\u001b[0m\u001b[0mlda\u001b[0m\u001b[1;33m)\u001b[0m\u001b[1;33m,\u001b[0m\u001b[1;33m(\u001b[0m\u001b[1;34m'PY'\u001b[0m\u001b[1;33m,\u001b[0m\u001b[0mfinal_model\u001b[0m\u001b[1;33m)\u001b[0m\u001b[1;33m]\u001b[0m\u001b[1;33m,\u001b[0m \u001b[0mvoting\u001b[0m\u001b[1;33m=\u001b[0m\u001b[1;34m'soft'\u001b[0m\u001b[1;33m)\u001b[0m\u001b[1;33m\u001b[0m\u001b[1;33m\u001b[0m\u001b[0m\n\u001b[0m",
      "\u001b[1;31mNameError\u001b[0m: name 'VotingClassifier' is not defined"
     ]
    }
   ],
   "source": [
    "vo_clf = VotingClassifier(estimators=[('LR',model),('LD',lda),('PY',final_model)], voting='soft')"
   ]
  },
  {
   "cell_type": "code",
   "execution_count": 273,
   "metadata": {
    "scrolled": true
   },
   "outputs": [
    {
     "name": "stdout",
     "output_type": "stream",
     "text": [
      "ROC AUC: 0.6582\n",
      "Voting 분류기 정확도 0.8034682080924855\n",
      "f1 0.48484848484848486\n"
     ]
    }
   ],
   "source": [
    "vo_clf.fit(X_train_std, y_train)\n",
    "pred = vo_clf.predict(X_test_std)\n",
    "vo_roc_score = roc_auc_score(y_test, pred, average='macro')\n",
    "print('ROC AUC: {0:.4f}'.format(vo_roc_score))\n",
    "print(\"Voting 분류기 정확도\", accuracy_score(y_test, pred))\n",
    "print('f1',f1_score(y_test, pred))\n",
    "# 0.7745모든 피처\n",
    "# 0.7976 act_n 뺏을 때(soft), 0.7803(hard)\n",
    "# 0.7745 dist_rank 뺏을 경우\n",
    "# 0.7745 genre_rank 뺏을 경우\n",
    "# 0.7572 기대지수 뺏을 경우\n",
    "# 0.7687 star_buzz 뺏을 경우\n",
    "# 0.7398 move_buzz_naver 뺏을 경우\n",
    "# 0.7683 google_tren 뺏을 경우\n",
    "\n",
    "# 0.803, f1 0.4848, lr, ld, py"
   ]
  },
  {
   "cell_type": "code",
   "execution_count": null,
   "metadata": {},
   "outputs": [],
   "source": []
  },
  {
   "cell_type": "code",
   "execution_count": null,
   "metadata": {},
   "outputs": [],
   "source": []
  },
  {
   "cell_type": "code",
   "execution_count": 101,
   "metadata": {},
   "outputs": [],
   "source": [
    "acc_list = []\n",
    "f1_list = []\n",
    "vo_pred = np.zeros((y_test.shape[0]))\n",
    "for tr_idx, val_idx in kf.split(X_train_std, y_train) :\n",
    "    tr_x, tr_y = X_train_std[tr_idx], y_train.iloc[tr_idx]\n",
    "    val_x, val_y = X_train_std[val_idx], y_train.iloc[val_idx]\n",
    "    \n",
    "    vo_clf.fit(tr_x, tr_y)\n",
    "    \n",
    "    pred = vo_clf.predict(val_x)\n",
    "    sub_pred = vo_clf.predict(X_test_std)\n",
    "    acc = accuracy_score(val_y, pred)\n",
    "    f1_list = f1_score(np.round(vo_pred), y_test)\n",
    "    acc_list.append(acc)\n",
    "    \n",
    "    vo_pred += (sub_pred / 10)"
   ]
  },
  {
   "cell_type": "code",
   "execution_count": 102,
   "metadata": {},
   "outputs": [
    {
     "data": {
      "text/plain": [
       "0.7958536585365853"
      ]
     },
     "execution_count": 102,
     "metadata": {},
     "output_type": "execute_result"
    }
   ],
   "source": [
    "np.mean(acc_list)"
   ]
  },
  {
   "cell_type": "code",
   "execution_count": 103,
   "metadata": {},
   "outputs": [
    {
     "data": {
      "text/plain": [
       "0.4126984126984127"
      ]
     },
     "execution_count": 103,
     "metadata": {},
     "output_type": "execute_result"
    }
   ],
   "source": [
    "np.mean(f1_list)"
   ]
  },
  {
   "cell_type": "code",
   "execution_count": 100,
   "metadata": {},
   "outputs": [
    {
     "data": {
      "text/plain": [
       "0.4126984126984127"
      ]
     },
     "execution_count": 100,
     "metadata": {},
     "output_type": "execute_result"
    }
   ],
   "source": [
    "from sklearn.metrics import f1_score\n",
    "\n",
    "f1_score(np.round(vo_pred), y_test)"
   ]
  },
  {
   "cell_type": "code",
   "execution_count": null,
   "metadata": {},
   "outputs": [],
   "source": []
  }
 ],
 "metadata": {
  "kernelspec": {
   "display_name": "Python 3",
   "language": "python",
   "name": "python3"
  },
  "language_info": {
   "codemirror_mode": {
    "name": "ipython",
    "version": 3
   },
   "file_extension": ".py",
   "mimetype": "text/x-python",
   "name": "python",
   "nbconvert_exporter": "python",
   "pygments_lexer": "ipython3",
   "version": "3.8.5"
  },
  "toc": {
   "base_numbering": 1,
   "nav_menu": {},
   "number_sections": true,
   "sideBar": true,
   "skip_h1_title": false,
   "title_cell": "Table of Contents",
   "title_sidebar": "Contents",
   "toc_cell": false,
   "toc_position": {},
   "toc_section_display": true,
   "toc_window_display": false
  },
  "varInspector": {
   "cols": {
    "lenName": 16,
    "lenType": 16,
    "lenVar": 40
   },
   "kernels_config": {
    "python": {
     "delete_cmd_postfix": "",
     "delete_cmd_prefix": "del ",
     "library": "var_list.py",
     "varRefreshCmd": "print(var_dic_list())"
    },
    "r": {
     "delete_cmd_postfix": ") ",
     "delete_cmd_prefix": "rm(",
     "library": "var_list.r",
     "varRefreshCmd": "cat(var_dic_list()) "
    }
   },
   "types_to_exclude": [
    "module",
    "function",
    "builtin_function_or_method",
    "instance",
    "_Feature"
   ],
   "window_display": false
  }
 },
 "nbformat": 4,
 "nbformat_minor": 4
}
