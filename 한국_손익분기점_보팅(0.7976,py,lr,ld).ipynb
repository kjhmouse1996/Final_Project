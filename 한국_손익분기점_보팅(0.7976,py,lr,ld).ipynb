{
 "cells": [
  {
   "cell_type": "markdown",
   "metadata": {},
   "source": [
    "# 모델링"
   ]
  },
  {
   "cell_type": "markdown",
   "metadata": {},
   "source": [
    "## train_test_split"
   ]
  },
  {
   "cell_type": "code",
   "execution_count": 1,
   "metadata": {},
   "outputs": [],
   "source": [
    "import pandas as pd\n",
    "#df_fin = pd.read_csv('전처리_final.csv')"
   ]
  },
  {
   "cell_type": "code",
   "execution_count": 348,
   "metadata": {},
   "outputs": [],
   "source": [
    "df_fin = pd.read_csv('전처리_screen_act있는.csv')"
   ]
  },
  {
   "cell_type": "code",
   "execution_count": 349,
   "metadata": {},
   "outputs": [
    {
     "data": {
      "text/html": [
       "<div>\n",
       "<style scoped>\n",
       "    .dataframe tbody tr th:only-of-type {\n",
       "        vertical-align: middle;\n",
       "    }\n",
       "\n",
       "    .dataframe tbody tr th {\n",
       "        vertical-align: top;\n",
       "    }\n",
       "\n",
       "    .dataframe thead th {\n",
       "        text-align: right;\n",
       "    }\n",
       "</style>\n",
       "<table border=\"1\" class=\"dataframe\">\n",
       "  <thead>\n",
       "    <tr style=\"text-align: right;\">\n",
       "      <th></th>\n",
       "      <th>screenCnt</th>\n",
       "      <th>act_n</th>\n",
       "      <th>dist_rank</th>\n",
       "      <th>genre_rank</th>\n",
       "      <th>direct_rank</th>\n",
       "      <th>네이버_기대지수</th>\n",
       "      <th>star_buzz</th>\n",
       "      <th>movie_buzz_naver</th>\n",
       "      <th>google_trend</th>\n",
       "      <th>Target</th>\n",
       "    </tr>\n",
       "  </thead>\n",
       "  <tbody>\n",
       "    <tr>\n",
       "      <th>0</th>\n",
       "      <td>1183.0</td>\n",
       "      <td>121</td>\n",
       "      <td>4</td>\n",
       "      <td>5</td>\n",
       "      <td>67</td>\n",
       "      <td>1274.0</td>\n",
       "      <td>1629</td>\n",
       "      <td>22</td>\n",
       "      <td>773.0</td>\n",
       "      <td>0</td>\n",
       "    </tr>\n",
       "    <tr>\n",
       "      <th>1</th>\n",
       "      <td>576.0</td>\n",
       "      <td>50</td>\n",
       "      <td>8</td>\n",
       "      <td>13</td>\n",
       "      <td>67</td>\n",
       "      <td>3838.0</td>\n",
       "      <td>581</td>\n",
       "      <td>19</td>\n",
       "      <td>387.0</td>\n",
       "      <td>0</td>\n",
       "    </tr>\n",
       "    <tr>\n",
       "      <th>2</th>\n",
       "      <td>696.0</td>\n",
       "      <td>96</td>\n",
       "      <td>2</td>\n",
       "      <td>13</td>\n",
       "      <td>41</td>\n",
       "      <td>494.0</td>\n",
       "      <td>943</td>\n",
       "      <td>30</td>\n",
       "      <td>616.0</td>\n",
       "      <td>0</td>\n",
       "    </tr>\n",
       "    <tr>\n",
       "      <th>3</th>\n",
       "      <td>54.0</td>\n",
       "      <td>12</td>\n",
       "      <td>8</td>\n",
       "      <td>13</td>\n",
       "      <td>94</td>\n",
       "      <td>162.0</td>\n",
       "      <td>111</td>\n",
       "      <td>6</td>\n",
       "      <td>0.0</td>\n",
       "      <td>0</td>\n",
       "    </tr>\n",
       "    <tr>\n",
       "      <th>4</th>\n",
       "      <td>106.0</td>\n",
       "      <td>30</td>\n",
       "      <td>3</td>\n",
       "      <td>13</td>\n",
       "      <td>67</td>\n",
       "      <td>800.0</td>\n",
       "      <td>335</td>\n",
       "      <td>5</td>\n",
       "      <td>1674.0</td>\n",
       "      <td>0</td>\n",
       "    </tr>\n",
       "    <tr>\n",
       "      <th>...</th>\n",
       "      <td>...</td>\n",
       "      <td>...</td>\n",
       "      <td>...</td>\n",
       "      <td>...</td>\n",
       "      <td>...</td>\n",
       "      <td>...</td>\n",
       "      <td>...</td>\n",
       "      <td>...</td>\n",
       "      <td>...</td>\n",
       "      <td>...</td>\n",
       "    </tr>\n",
       "    <tr>\n",
       "      <th>570</th>\n",
       "      <td>1009.0</td>\n",
       "      <td>73</td>\n",
       "      <td>3</td>\n",
       "      <td>13</td>\n",
       "      <td>5</td>\n",
       "      <td>13693.0</td>\n",
       "      <td>1987</td>\n",
       "      <td>219</td>\n",
       "      <td>947.0</td>\n",
       "      <td>1</td>\n",
       "    </tr>\n",
       "    <tr>\n",
       "      <th>571</th>\n",
       "      <td>621.0</td>\n",
       "      <td>70</td>\n",
       "      <td>2</td>\n",
       "      <td>13</td>\n",
       "      <td>72</td>\n",
       "      <td>10731.0</td>\n",
       "      <td>1196</td>\n",
       "      <td>124</td>\n",
       "      <td>886.0</td>\n",
       "      <td>0</td>\n",
       "    </tr>\n",
       "    <tr>\n",
       "      <th>572</th>\n",
       "      <td>838.0</td>\n",
       "      <td>148</td>\n",
       "      <td>4</td>\n",
       "      <td>1</td>\n",
       "      <td>5</td>\n",
       "      <td>4941.0</td>\n",
       "      <td>1413</td>\n",
       "      <td>379</td>\n",
       "      <td>0.0</td>\n",
       "      <td>1</td>\n",
       "    </tr>\n",
       "    <tr>\n",
       "      <th>573</th>\n",
       "      <td>14.0</td>\n",
       "      <td>32</td>\n",
       "      <td>7</td>\n",
       "      <td>8</td>\n",
       "      <td>100</td>\n",
       "      <td>247.0</td>\n",
       "      <td>147</td>\n",
       "      <td>25</td>\n",
       "      <td>459.0</td>\n",
       "      <td>0</td>\n",
       "    </tr>\n",
       "    <tr>\n",
       "      <th>574</th>\n",
       "      <td>1299.0</td>\n",
       "      <td>295</td>\n",
       "      <td>3</td>\n",
       "      <td>13</td>\n",
       "      <td>67</td>\n",
       "      <td>13877.0</td>\n",
       "      <td>1830</td>\n",
       "      <td>61</td>\n",
       "      <td>2593.0</td>\n",
       "      <td>1</td>\n",
       "    </tr>\n",
       "  </tbody>\n",
       "</table>\n",
       "<p>575 rows × 10 columns</p>\n",
       "</div>"
      ],
      "text/plain": [
       "     screenCnt  act_n  dist_rank  genre_rank  direct_rank  네이버_기대지수  \\\n",
       "0       1183.0    121          4           5           67    1274.0   \n",
       "1        576.0     50          8          13           67    3838.0   \n",
       "2        696.0     96          2          13           41     494.0   \n",
       "3         54.0     12          8          13           94     162.0   \n",
       "4        106.0     30          3          13           67     800.0   \n",
       "..         ...    ...        ...         ...          ...       ...   \n",
       "570     1009.0     73          3          13            5   13693.0   \n",
       "571      621.0     70          2          13           72   10731.0   \n",
       "572      838.0    148          4           1            5    4941.0   \n",
       "573       14.0     32          7           8          100     247.0   \n",
       "574     1299.0    295          3          13           67   13877.0   \n",
       "\n",
       "     star_buzz  movie_buzz_naver  google_trend  Target  \n",
       "0         1629                22         773.0       0  \n",
       "1          581                19         387.0       0  \n",
       "2          943                30         616.0       0  \n",
       "3          111                 6           0.0       0  \n",
       "4          335                 5        1674.0       0  \n",
       "..         ...               ...           ...     ...  \n",
       "570       1987               219         947.0       1  \n",
       "571       1196               124         886.0       0  \n",
       "572       1413               379           0.0       1  \n",
       "573        147                25         459.0       0  \n",
       "574       1830                61        2593.0       1  \n",
       "\n",
       "[575 rows x 10 columns]"
      ]
     },
     "execution_count": 349,
     "metadata": {},
     "output_type": "execute_result"
    }
   ],
   "source": [
    "df_fin"
   ]
  },
  {
   "cell_type": "code",
   "execution_count": 350,
   "metadata": {
    "scrolled": true
   },
   "outputs": [],
   "source": [
    "df_fin = df_fin.drop(['screenCnt', 'act_n'], axis=1)"
   ]
  },
  {
   "cell_type": "code",
   "execution_count": 351,
   "metadata": {},
   "outputs": [],
   "source": [
    "y = df_fin['Target']\n",
    "x = df_fin.drop('Target', axis=1)"
   ]
  },
  {
   "cell_type": "code",
   "execution_count": 352,
   "metadata": {},
   "outputs": [],
   "source": [
    "from sklearn.model_selection import train_test_split\n",
    "X_train, X_test, y_train, y_test = train_test_split(x, y, test_size=0.3, random_state=100)"
   ]
  },
  {
   "cell_type": "code",
   "execution_count": 116,
   "metadata": {
    "scrolled": true
   },
   "outputs": [],
   "source": [
    "# train_test 정규화, 정규화하는 것이 더 좋은 결과를 낳음\n",
    "from sklearn.preprocessing import StandardScaler\n",
    " \n",
    "sc = StandardScaler()\n",
    "sc.fit(X_train)\n",
    " \n",
    "X_train_std = sc.transform(X_train)\n",
    "X_test_std = sc.transform(X_test)"
   ]
  },
  {
   "cell_type": "code",
   "execution_count": 615,
   "metadata": {},
   "outputs": [],
   "source": [
    "from sklearn.preprocessing import StandardScaler\n",
    " # 전체 데이터 정규화-pycaret용\n",
    "sc = StandardScaler()\n",
    "sc.fit(x)\n",
    " \n",
    "x_std = sc.transform(x)"
   ]
  },
  {
   "cell_type": "code",
   "execution_count": 616,
   "metadata": {},
   "outputs": [],
   "source": [
    "df_std = pd.DataFrame(x_std) # pycaret용"
   ]
  },
  {
   "cell_type": "code",
   "execution_count": 617,
   "metadata": {},
   "outputs": [],
   "source": [
    "df_std.columns = ['dist_rank','genre_rank','direct_rank','네이버_기대지수','star_buzz','movie_buzz_naver','google_trend']"
   ]
  },
  {
   "cell_type": "code",
   "execution_count": 618,
   "metadata": {},
   "outputs": [],
   "source": [
    "df_std['Target'] = y"
   ]
  },
  {
   "cell_type": "code",
   "execution_count": 619,
   "metadata": {
    "scrolled": true
   },
   "outputs": [
    {
     "data": {
      "text/html": [
       "<div>\n",
       "<style scoped>\n",
       "    .dataframe tbody tr th:only-of-type {\n",
       "        vertical-align: middle;\n",
       "    }\n",
       "\n",
       "    .dataframe tbody tr th {\n",
       "        vertical-align: top;\n",
       "    }\n",
       "\n",
       "    .dataframe thead th {\n",
       "        text-align: right;\n",
       "    }\n",
       "</style>\n",
       "<table border=\"1\" class=\"dataframe\">\n",
       "  <thead>\n",
       "    <tr style=\"text-align: right;\">\n",
       "      <th></th>\n",
       "      <th>dist_rank</th>\n",
       "      <th>genre_rank</th>\n",
       "      <th>direct_rank</th>\n",
       "      <th>네이버_기대지수</th>\n",
       "      <th>star_buzz</th>\n",
       "      <th>movie_buzz_naver</th>\n",
       "      <th>google_trend</th>\n",
       "      <th>Target</th>\n",
       "    </tr>\n",
       "  </thead>\n",
       "  <tbody>\n",
       "    <tr>\n",
       "      <th>0</th>\n",
       "      <td>-0.449913</td>\n",
       "      <td>-1.141880</td>\n",
       "      <td>0.337342</td>\n",
       "      <td>-0.312967</td>\n",
       "      <td>1.188551</td>\n",
       "      <td>-0.444762</td>\n",
       "      <td>0.393764</td>\n",
       "      <td>0</td>\n",
       "    </tr>\n",
       "    <tr>\n",
       "      <th>1</th>\n",
       "      <td>1.069617</td>\n",
       "      <td>0.874491</td>\n",
       "      <td>0.337342</td>\n",
       "      <td>-0.019480</td>\n",
       "      <td>-0.315426</td>\n",
       "      <td>-0.487298</td>\n",
       "      <td>-0.372524</td>\n",
       "      <td>0</td>\n",
       "    </tr>\n",
       "    <tr>\n",
       "      <th>2</th>\n",
       "      <td>-1.209678</td>\n",
       "      <td>0.874491</td>\n",
       "      <td>-0.908217</td>\n",
       "      <td>-0.402250</td>\n",
       "      <td>0.204078</td>\n",
       "      <td>-0.331334</td>\n",
       "      <td>0.082087</td>\n",
       "      <td>0</td>\n",
       "    </tr>\n",
       "    <tr>\n",
       "      <th>3</th>\n",
       "      <td>1.069617</td>\n",
       "      <td>0.874491</td>\n",
       "      <td>1.630808</td>\n",
       "      <td>-0.440252</td>\n",
       "      <td>-0.989919</td>\n",
       "      <td>-0.671618</td>\n",
       "      <td>-1.140796</td>\n",
       "      <td>0</td>\n",
       "    </tr>\n",
       "    <tr>\n",
       "      <th>4</th>\n",
       "      <td>-0.829795</td>\n",
       "      <td>0.874491</td>\n",
       "      <td>0.337342</td>\n",
       "      <td>-0.367224</td>\n",
       "      <td>-0.668458</td>\n",
       "      <td>-0.685797</td>\n",
       "      <td>2.182429</td>\n",
       "      <td>0</td>\n",
       "    </tr>\n",
       "    <tr>\n",
       "      <th>...</th>\n",
       "      <td>...</td>\n",
       "      <td>...</td>\n",
       "      <td>...</td>\n",
       "      <td>...</td>\n",
       "      <td>...</td>\n",
       "      <td>...</td>\n",
       "      <td>...</td>\n",
       "      <td>...</td>\n",
       "    </tr>\n",
       "    <tr>\n",
       "      <th>570</th>\n",
       "      <td>-0.829795</td>\n",
       "      <td>0.874491</td>\n",
       "      <td>-2.632837</td>\n",
       "      <td>1.108570</td>\n",
       "      <td>1.702314</td>\n",
       "      <td>2.348408</td>\n",
       "      <td>0.739188</td>\n",
       "      <td>1</td>\n",
       "    </tr>\n",
       "    <tr>\n",
       "      <th>571</th>\n",
       "      <td>-1.209678</td>\n",
       "      <td>0.874491</td>\n",
       "      <td>0.576873</td>\n",
       "      <td>0.769525</td>\n",
       "      <td>0.567156</td>\n",
       "      <td>1.001448</td>\n",
       "      <td>0.618091</td>\n",
       "      <td>0</td>\n",
       "    </tr>\n",
       "    <tr>\n",
       "      <th>572</th>\n",
       "      <td>-0.449913</td>\n",
       "      <td>-2.150065</td>\n",
       "      <td>-2.632837</td>\n",
       "      <td>0.106775</td>\n",
       "      <td>0.878571</td>\n",
       "      <td>4.616973</td>\n",
       "      <td>-1.140796</td>\n",
       "      <td>1</td>\n",
       "    </tr>\n",
       "    <tr>\n",
       "      <th>573</th>\n",
       "      <td>0.689734</td>\n",
       "      <td>-0.385741</td>\n",
       "      <td>1.918245</td>\n",
       "      <td>-0.430523</td>\n",
       "      <td>-0.938256</td>\n",
       "      <td>-0.402226</td>\n",
       "      <td>-0.229589</td>\n",
       "      <td>0</td>\n",
       "    </tr>\n",
       "    <tr>\n",
       "      <th>574</th>\n",
       "      <td>-0.829795</td>\n",
       "      <td>0.874491</td>\n",
       "      <td>0.337342</td>\n",
       "      <td>1.129631</td>\n",
       "      <td>1.477004</td>\n",
       "      <td>0.108201</td>\n",
       "      <td>4.006828</td>\n",
       "      <td>1</td>\n",
       "    </tr>\n",
       "  </tbody>\n",
       "</table>\n",
       "<p>575 rows × 8 columns</p>\n",
       "</div>"
      ],
      "text/plain": [
       "     dist_rank  genre_rank  direct_rank  네이버_기대지수  star_buzz  \\\n",
       "0    -0.449913   -1.141880     0.337342 -0.312967   1.188551   \n",
       "1     1.069617    0.874491     0.337342 -0.019480  -0.315426   \n",
       "2    -1.209678    0.874491    -0.908217 -0.402250   0.204078   \n",
       "3     1.069617    0.874491     1.630808 -0.440252  -0.989919   \n",
       "4    -0.829795    0.874491     0.337342 -0.367224  -0.668458   \n",
       "..         ...         ...          ...       ...        ...   \n",
       "570  -0.829795    0.874491    -2.632837  1.108570   1.702314   \n",
       "571  -1.209678    0.874491     0.576873  0.769525   0.567156   \n",
       "572  -0.449913   -2.150065    -2.632837  0.106775   0.878571   \n",
       "573   0.689734   -0.385741     1.918245 -0.430523  -0.938256   \n",
       "574  -0.829795    0.874491     0.337342  1.129631   1.477004   \n",
       "\n",
       "     movie_buzz_naver  google_trend  Target  \n",
       "0           -0.444762      0.393764       0  \n",
       "1           -0.487298     -0.372524       0  \n",
       "2           -0.331334      0.082087       0  \n",
       "3           -0.671618     -1.140796       0  \n",
       "4           -0.685797      2.182429       0  \n",
       "..                ...           ...     ...  \n",
       "570          2.348408      0.739188       1  \n",
       "571          1.001448      0.618091       0  \n",
       "572          4.616973     -1.140796       1  \n",
       "573         -0.402226     -0.229589       0  \n",
       "574          0.108201      4.006828       1  \n",
       "\n",
       "[575 rows x 8 columns]"
      ]
     },
     "execution_count": 619,
     "metadata": {},
     "output_type": "execute_result"
    }
   ],
   "source": [
    "df_std # 정규화된 pycaret용 데이터셋"
   ]
  },
  {
   "cell_type": "markdown",
   "metadata": {},
   "source": [
    "## 총 11개의 알고리즘 사용"
   ]
  },
  {
   "cell_type": "markdown",
   "metadata": {},
   "source": [
    "### logistic regression"
   ]
  },
  {
   "cell_type": "code",
   "execution_count": 8,
   "metadata": {},
   "outputs": [],
   "source": [
    "from sklearn.linear_model import LogisticRegression\n",
    "from sklearn.metrics import f1_score\n",
    "from sklearn.metrics import accuracy_score"
   ]
  },
  {
   "cell_type": "code",
   "execution_count": 334,
   "metadata": {
    "scrolled": true
   },
   "outputs": [
    {
     "name": "stdout",
     "output_type": "stream",
     "text": [
      "acc 0.791907514450867\n",
      "f1 0.4375\n"
     ]
    }
   ],
   "source": [
    "lr = LogisticRegression(penalty = 'l2', random_state=100)\n",
    "lr.fit(X_train, y_train)\n",
    "lr_pred1 = lr.predict(X_test)\n",
    "print('acc',accuracy_score(lr_pred1, y_test)) \n",
    "print('f1',f1_score(y_test, lr_pred1))"
   ]
  },
  {
   "cell_type": "code",
   "execution_count": 353,
   "metadata": {
    "scrolled": true
   },
   "outputs": [],
   "source": [
    "from sklearn.model_selection import KFold\n",
    "kf = KFold(n_splits =  10, shuffle = True, random_state = 100) # fold 10번하기\n",
    "\n",
    "lr = LogisticRegression(penalty = 'l2', random_state = 100)\n",
    "acc_list = []\n",
    "lr_pred = np.zeros((y_test.shape[0]))\n",
    "for tr_idx, val_idx in kf.split(X_train, y_train) :\n",
    "    tr_x, tr_y = X_train.iloc[tr_idx], y_train.iloc[tr_idx]\n",
    "    val_x, val_y = X_train.iloc[val_idx], y_train.iloc[val_idx]\n",
    "    \n",
    "    lr.fit(tr_x, tr_y)\n",
    "    \n",
    "    pred = lr.predict(val_x)\n",
    "    sub_pred = lr.predict(X_test)\n",
    "    acc = accuracy_score(val_y, pred)\n",
    "    \n",
    "    acc_list.append(acc)\n",
    "    \n",
    "    lr_pred += (sub_pred / 10)"
   ]
  },
  {
   "cell_type": "code",
   "execution_count": 354,
   "metadata": {
    "scrolled": true
   },
   "outputs": [
    {
     "name": "stdout",
     "output_type": "stream",
     "text": [
      "acc 평균 0.7885365853658536\n",
      "acc 0.791907514450867\n",
      "f1 score 0.4375\n"
     ]
    }
   ],
   "source": [
    "from sklearn.metrics import f1_score\n",
    "print('acc 평균', np.mean(acc_list))\n",
    "print('acc',accuracy_score(np.round(lr_pred), y_test)) \n",
    "print('f1 score', f1_score(np.round(lr_pred), y_test))"
   ]
  },
  {
   "cell_type": "markdown",
   "metadata": {},
   "source": [
    "### linear discriminant"
   ]
  },
  {
   "cell_type": "code",
   "execution_count": 355,
   "metadata": {},
   "outputs": [],
   "source": [
    "from sklearn.discriminant_analysis import LinearDiscriminantAnalysis"
   ]
  },
  {
   "cell_type": "code",
   "execution_count": 356,
   "metadata": {},
   "outputs": [
    {
     "name": "stdout",
     "output_type": "stream",
     "text": [
      "acc 0.791907514450867\n",
      "f1 0.4545454545454545\n"
     ]
    }
   ],
   "source": [
    "lda = LinearDiscriminantAnalysis(n_components=1)\n",
    "lda.fit(X_train, y_train)\n",
    "#lda.transform(X_train)\n",
    "lda_pred1 = lda.predict(X_test)\n",
    "print('acc', accuracy_score(lda_pred1, y_test))\n",
    "print('f1',f1_score(y_test, lda_pred1))"
   ]
  },
  {
   "cell_type": "code",
   "execution_count": 357,
   "metadata": {},
   "outputs": [],
   "source": [
    "from sklearn.model_selection import KFold\n",
    "kf = KFold(n_splits =  10, shuffle = True, random_state = 42) # fold 10번하기\n",
    "\n",
    "lda = LinearDiscriminantAnalysis(n_components=1)\n",
    "acc_list = []\n",
    "lda_pred = np.zeros((y_test.shape[0]))\n",
    "for tr_idx, val_idx in kf.split(X_train, y_train) :\n",
    "    tr_x, tr_y = X_train.iloc[tr_idx], y_train.iloc[tr_idx]\n",
    "    val_x, val_y = X_train.iloc[val_idx], y_train.iloc[val_idx]\n",
    "    \n",
    "    lda.fit(tr_x, tr_y)\n",
    "    \n",
    "    pred = lda.predict(val_x)\n",
    "    sub_pred = lda.predict(X_test)\n",
    "    acc = accuracy_score(val_y, pred)\n",
    "    \n",
    "    acc_list.append(acc)\n",
    "    \n",
    "    lda_pred += (sub_pred / 10)"
   ]
  },
  {
   "cell_type": "code",
   "execution_count": 358,
   "metadata": {
    "scrolled": true
   },
   "outputs": [
    {
     "name": "stdout",
     "output_type": "stream",
     "text": [
      "acc 평균 0.7907926829268292\n",
      "acc 0.791907514450867\n",
      "f1 score 0.4545454545454545\n"
     ]
    }
   ],
   "source": [
    "print('acc 평균', np.mean(acc_list))\n",
    "print('acc',accuracy_score(np.round(lda_pred), y_test)) \n",
    "print('f1 score', f1_score(np.round(lda_pred), y_test))"
   ]
  },
  {
   "cell_type": "markdown",
   "metadata": {},
   "source": [
    "### rigde classifier"
   ]
  },
  {
   "cell_type": "code",
   "execution_count": 359,
   "metadata": {},
   "outputs": [],
   "source": [
    "from sklearn.linear_model import RidgeClassifier"
   ]
  },
  {
   "cell_type": "code",
   "execution_count": 360,
   "metadata": {},
   "outputs": [
    {
     "name": "stdout",
     "output_type": "stream",
     "text": [
      "Accuracy: 0.791907514450867\n",
      "F1 score: 0.4375\n"
     ]
    }
   ],
   "source": [
    "rc = RidgeClassifier(random_state = 100)\n",
    "rc.fit(X_train, y_train)\n",
    "rc_pred1 = rc.predict(X_test)\n",
    "print(\"Accuracy:\",accuracy_score(y_test, rc_pred1))\n",
    "print(\"F1 score:\",f1_score(y_pred, y_test))\n",
    "# 좋은 결과가 나오지만 보팅에 넣을 수가 없음"
   ]
  },
  {
   "cell_type": "code",
   "execution_count": 361,
   "metadata": {
    "scrolled": false
   },
   "outputs": [],
   "source": [
    "from sklearn.model_selection import KFold\n",
    "kf = KFold(n_splits =  10, shuffle = True, random_state = 100) # fold 10번하기\n",
    "\n",
    "rc = RidgeClassifier(random_state=100)\n",
    "\n",
    "acc_list = []\n",
    "rc_pred = np.zeros((y_test.shape[0]))\n",
    "for tr_idx, val_idx in kf.split(X_train, y_train) :\n",
    "    tr_x, tr_y = X_train.iloc[tr_idx], y_train.iloc[tr_idx]\n",
    "    val_x, val_y = X_train.iloc[val_idx], y_train.iloc[val_idx]\n",
    "    \n",
    "    rc.fit(tr_x, tr_y)\n",
    "    \n",
    "    pred = rc.predict(val_x)\n",
    "    sub_pred = rc.predict(X_test)\n",
    "    acc = accuracy_score(val_y, pred)\n",
    "    \n",
    "    acc_list.append(acc)\n",
    "    \n",
    "    rc_pred += (sub_pred / 10)"
   ]
  },
  {
   "cell_type": "code",
   "execution_count": 362,
   "metadata": {},
   "outputs": [
    {
     "name": "stdout",
     "output_type": "stream",
     "text": [
      "acc 평균 0.7985365853658537\n",
      "Accuracy: 0.7861271676300579\n",
      "f1 score 0.4126984126984127\n"
     ]
    }
   ],
   "source": [
    "print('acc 평균', np.mean(acc_list))\n",
    "print(\"Accuracy:\",accuracy_score(np.round(rc_pred), y_test))\n",
    "print('f1 score', f1_score(np.round(rc_pred), y_test))"
   ]
  },
  {
   "cell_type": "markdown",
   "metadata": {},
   "source": [
    "### KNN"
   ]
  },
  {
   "cell_type": "code",
   "execution_count": 251,
   "metadata": {},
   "outputs": [],
   "source": [
    "from sklearn.neighbors import KNeighborsClassifier"
   ]
  },
  {
   "cell_type": "code",
   "execution_count": 252,
   "metadata": {
    "scrolled": false
   },
   "outputs": [
    {
     "name": "stdout",
     "output_type": "stream",
     "text": [
      "acc 0.7630057803468208\n",
      "f1 0.3278688524590164\n"
     ]
    }
   ],
   "source": [
    "knn = KNeighborsClassifier(n_neighbors = 11)\n",
    "\n",
    "knn.fit(X_train_std, y_train)\n",
    "y_pred = knn.predict(X_test_std)\n",
    "print('acc',accuracy_score(y_pred, y_test))\n",
    "print('f1',f1_score(y_test, y_pred))\n",
    "# 0.7803 모든 피처용\n",
    "# 0.768 act_n 뺏을 경우"
   ]
  },
  {
   "cell_type": "code",
   "execution_count": 253,
   "metadata": {},
   "outputs": [],
   "source": [
    "from sklearn.model_selection import KFold\n",
    "kf = KFold(n_splits =  10, shuffle = True, random_state = 100) # fold 10번하기\n",
    "\n",
    "knn = KNeighborsClassifier(n_neighbors = 11)\n",
    "acc_list = []\n",
    "knn_pred = np.zeros((y_test.shape[0]))\n",
    "for tr_idx, val_idx in kf.split(X_train_std, y_train) :\n",
    "    tr_x, tr_y = X_train_std[tr_idx], y_train.iloc[tr_idx]\n",
    "    val_x, val_y = X_train_std[val_idx], y_train.iloc[val_idx]\n",
    "    \n",
    "    knn.fit(tr_x, tr_y)\n",
    "    \n",
    "    pred = knn.predict(val_x)\n",
    "    sub_pred = knn.predict(X_test_std)\n",
    "    acc = accuracy_score(val_y, pred)\n",
    "    \n",
    "    acc_list.append(acc)\n",
    "    \n",
    "    knn_pred += (sub_pred / 10)"
   ]
  },
  {
   "cell_type": "code",
   "execution_count": 254,
   "metadata": {
    "scrolled": true
   },
   "outputs": [
    {
     "name": "stdout",
     "output_type": "stream",
     "text": [
      "acc 평균 0.7934146341463414\n",
      "acc 0.7630057803468208\n",
      "f1 score 0.3050847457627119\n"
     ]
    }
   ],
   "source": [
    "print('acc 평균', np.mean(acc_list))\n",
    "print('acc',accuracy_score(np.round(knn_pred), y_test))\n",
    "print('f1 score', f1_score(np.round(knn_pred), y_test))"
   ]
  },
  {
   "cell_type": "markdown",
   "metadata": {},
   "source": [
    "               정확도    F1 score\n",
    "정규화하기 전\n",
    "- 모든 피처 9개(screen수, act_n, genre, director, distributor, 네이버_movie_buzz, 구글_movie_buzz, star_buzz, 네이버_기대지수) \n",
    "  - 0.7803, 0.4242 -0.7687, 0.3750\n",
    "\n",
    "  \n",
    "- Screen 수 뺀, 피처 8개(act_n, genre, director, distributor, 네이버_movie_buzz, 구글_movie_buzz, star_buzz, 네이버_기대지수) \n",
    "\n",
    "\n",
    "정규화 한 후\n",
    "- 모든 피처 9개(screen수, act_n, genre, director, distributor, 네이버_movie_buzz, 구글_movie_buzz, star_buzz, 네이버_기대지수)\n",
    "   - 0.7630, 0.3492"
   ]
  },
  {
   "cell_type": "markdown",
   "metadata": {},
   "source": [
    "### AdaBoost"
   ]
  },
  {
   "cell_type": "code",
   "execution_count": 830,
   "metadata": {},
   "outputs": [],
   "source": [
    "from sklearn.ensemble import AdaBoostClassifier"
   ]
  },
  {
   "cell_type": "code",
   "execution_count": 831,
   "metadata": {
    "scrolled": true
   },
   "outputs": [
    {
     "name": "stdout",
     "output_type": "stream",
     "text": [
      "Accuracy: 0.7803468208092486\n",
      "F1 score: 0.36666666666666664\n"
     ]
    }
   ],
   "source": [
    "abc = AdaBoostClassifier(n_estimators=50,\n",
    "                         learning_rate=1, random_state=100)\n",
    "abc = abc.fit(X_train, y_train)\n",
    "y_pred = abc.predict(X_test)\n",
    "print(\"Accuracy:\",accuracy_score(y_test, y_pred))\n",
    "print(\"F1 score:\",f1_score(y_pred, y_test))"
   ]
  },
  {
   "cell_type": "code",
   "execution_count": 181,
   "metadata": {},
   "outputs": [],
   "source": [
    "from sklearn.model_selection import KFold\n",
    "kf = KFold(n_splits =  10, shuffle = True, random_state = 100) # fold 10번하기\n",
    "\n",
    "abc = AdaBoostClassifier(n_estimators=50,\n",
    "                         learning_rate=1, random_state=100)\n",
    "acc_list = []\n",
    "abc_pred = np.zeros((y_test.shape[0]))\n",
    "for tr_idx, val_idx in kf.split(X_train, y_train) :\n",
    "    tr_x, tr_y = X_train.iloc[tr_idx], y_train.iloc[tr_idx]\n",
    "    val_x, val_y = X_train.iloc[val_idx], y_train.iloc[val_idx]\n",
    "    \n",
    "    abc.fit(tr_x, tr_y)\n",
    "    \n",
    "    pred = abc.predict(val_x)\n",
    "    sub_pred = abc.predict(X_test)\n",
    "    acc = accuracy_score(val_y, pred)\n",
    "    \n",
    "    acc_list.append(acc)\n",
    "    \n",
    "    abc_pred += (sub_pred / 10)"
   ]
  },
  {
   "cell_type": "code",
   "execution_count": 182,
   "metadata": {},
   "outputs": [
    {
     "name": "stdout",
     "output_type": "stream",
     "text": [
      "acc 평균 0.7585975609756097\n",
      "acc 0.7687861271676301\n",
      "f1 score 0.3548387096774193\n"
     ]
    }
   ],
   "source": [
    "print('acc 평균', np.mean(acc_list))\n",
    "print('acc',accuracy_score(np.round(abc_pred), y_test))\n",
    "print('f1 score', f1_score(np.round(abc_pred), y_test))"
   ]
  },
  {
   "cell_type": "markdown",
   "metadata": {},
   "source": [
    "               정확도    F1 score\n",
    "정규화하기 전\n",
    "- 모든 피처 9개(screen수, act_n, genre, director, distributor, 네이버_movie_buzz, 구글_movie_buzz, star_buzz, 네이버_기대지수) \n",
    "  - 0.7572, 0.3225\n",
    "\n",
    "  \n",
    "- Screen 수 뺀, 피처 8개(act_n, genre, director, distributor, 네이버_movie_buzz, 구글_movie_buzz, star_buzz, 네이버_기대지수) \n",
    "\n",
    "\n",
    "정규화 한 후\n",
    "- 모든 피처 9개(screen수, act_n, genre, director, distributor, 네이버_movie_buzz, 구글_movie_buzz, star_buzz, 네이버_기대지수)\n",
    "   - 0.7572, 0.3225"
   ]
  },
  {
   "cell_type": "markdown",
   "metadata": {},
   "source": [
    "### random forest"
   ]
  },
  {
   "cell_type": "code",
   "execution_count": 37,
   "metadata": {},
   "outputs": [],
   "source": [
    "from sklearn.ensemble import RandomForestClassifier"
   ]
  },
  {
   "cell_type": "code",
   "execution_count": 38,
   "metadata": {},
   "outputs": [
    {
     "name": "stdout",
     "output_type": "stream",
     "text": [
      "Model accuracy score with 10 decision-trees : 0.7630\n",
      "f1 0.38805970149253727\n"
     ]
    }
   ],
   "source": [
    "rfc = RandomForestClassifier(random_state=100)\n",
    "rfc.fit(X_train, y_train)\n",
    "y_pred = rfc.predict(X_test)\n",
    "print('Model accuracy score with 10 decision-trees : {0:0.4f}'. format(accuracy_score(y_test, y_pred)))\n",
    "print('f1',f1_score(y_test, y_pred))"
   ]
  },
  {
   "cell_type": "markdown",
   "metadata": {},
   "source": [
    "               정확도    F1 score\n",
    "정규화하기 전\n",
    "- 모든 피처 9개(screen수, act_n, genre, director, distributor, 네이버_movie_buzz, 구글_movie_buzz, star_buzz, 네이버_기대지수) \n",
    "  - 0.7630, 0.3880\n",
    "\n",
    "  \n",
    "- Screen 수 뺀, 피처 8개(act_n, genre, director, distributor, 네이버_movie_buzz, 구글_movie_buzz, star_buzz, 네이버_기대지수) \n",
    "\n",
    "\n",
    "정규화 한 후\n",
    "- 모든 피처 9개(screen수, act_n, genre, director, distributor, 네이버_movie_buzz, 구글_movie_buzz, star_buzz, 네이버_기대지수)\n",
    "   - 0.7630, 0.3880"
   ]
  },
  {
   "cell_type": "markdown",
   "metadata": {},
   "source": [
    "### gradient boosting"
   ]
  },
  {
   "cell_type": "code",
   "execution_count": 32,
   "metadata": {},
   "outputs": [],
   "source": [
    "from sklearn.ensemble import GradientBoostingClassifier"
   ]
  },
  {
   "cell_type": "code",
   "execution_count": 33,
   "metadata": {
    "scrolled": true
   },
   "outputs": [
    {
     "name": "stdout",
     "output_type": "stream",
     "text": [
      "정확도0.7572\n",
      "f1 0.19230769230769232\n"
     ]
    }
   ],
   "source": [
    "gbc = GradientBoostingClassifier(random_state=100, max_depth=3, learning_rate=0.01) \n",
    "gbc.fit(X_train, y_train)\n",
    "y_pred = gbc.predict(X_test)\n",
    "print('정확도{:.4f}'.format(accuracy_score(y_pred, y_test)))\n",
    "print('f1',f1_score(y_test, y_pred))"
   ]
  },
  {
   "cell_type": "code",
   "execution_count": 34,
   "metadata": {},
   "outputs": [],
   "source": [
    "from sklearn.model_selection import KFold\n",
    "kf = KFold(n_splits =  10, shuffle = True, random_state = 42) # fold 10번하기\n",
    "\n",
    "gbc = GradientBoostingClassifier(random_state=100, max_depth=3, learning_rate=0.01)\n",
    "acc_list = []\n",
    "gbc_pred = np.zeros((y_test.shape[0]))\n",
    "for tr_idx, val_idx in kf.split(X_train, y_train) :\n",
    "    tr_x, tr_y = X_train.iloc[tr_idx], y_train.iloc[tr_idx]\n",
    "    val_x, val_y = X_train.iloc[val_idx], y_train.iloc[val_idx]\n",
    "    \n",
    "    gbc.fit(tr_x, tr_y)\n",
    "    \n",
    "    pred = gbc.predict(val_x)\n",
    "    sub_pred = gbc.predict(X_test)\n",
    "    acc = accuracy_score(val_y, pred)\n",
    "    \n",
    "    acc_list.append(acc)\n",
    "    \n",
    "    gbc_pred += (sub_pred / 10)"
   ]
  },
  {
   "cell_type": "code",
   "execution_count": 35,
   "metadata": {
    "scrolled": true
   },
   "outputs": [
    {
     "name": "stdout",
     "output_type": "stream",
     "text": [
      "acc 평균 0.7834756097560975\n",
      "정확도0.7572\n",
      "f1 score 0.2222222222222222\n"
     ]
    }
   ],
   "source": [
    "print('acc 평균', np.mean(acc_list))\n",
    "print('정확도{:.4f}'.format(accuracy_score(np.round(gbc_pred), y_test)))\n",
    "print('f1 score', f1_score(np.round(gbc_pred), y_test))"
   ]
  },
  {
   "cell_type": "markdown",
   "metadata": {},
   "source": [
    "               정확도    F1 score\n",
    "정규화하기 전\n",
    "- 모든 피처 9개(screen수, act_n, genre, director, distributor, 네이버_movie_buzz, 구글_movie_buzz, star_buzz, 네이버_기대지수) \n",
    "  - 0.7572, 0.1923, -0.7572, 0.2222\n",
    "\n",
    "  \n",
    "- Screen 수 뺀, 피처 8개(act_n, genre, director, distributor, 네이버_movie_buzz, 구글_movie_buzz, star_buzz, 네이버_기대지수) \n",
    "\n",
    "\n",
    "정규화 한 후\n",
    "- 모든 피처 9개(screen수, act_n, genre, director, distributor, 네이버_movie_buzz, 구글_movie_buzz, star_buzz, 네이버_기대지수)\n",
    "   - 0.7572, 0.1923"
   ]
  },
  {
   "cell_type": "markdown",
   "metadata": {},
   "source": [
    "### Quadrantic Discriminant Analysis"
   ]
  },
  {
   "cell_type": "code",
   "execution_count": 730,
   "metadata": {},
   "outputs": [],
   "source": [
    "from sklearn.discriminant_analysis import QuadraticDiscriminantAnalysis\n",
    "from sklearn.metrics import f1_score"
   ]
  },
  {
   "cell_type": "code",
   "execution_count": 733,
   "metadata": {},
   "outputs": [
    {
     "name": "stdout",
     "output_type": "stream",
     "text": [
      "Accuracy: 0.7630057803468208\n",
      "F1 score: 0.48101265822784806\n"
     ]
    }
   ],
   "source": [
    "cqd = QuadraticDiscriminantAnalysis(store_covariance=True)\n",
    "cqd.fit(X_train, y_train)\n",
    "y_pred = cqd.predict(X_test)\n",
    "print(\"Accuracy:\",accuracy_score(y_test, y_pred))\n",
    "print(\"F1 score:\",f1_score(y_pred, y_test))"
   ]
  },
  {
   "cell_type": "code",
   "execution_count": 734,
   "metadata": {},
   "outputs": [],
   "source": [
    "from sklearn.model_selection import KFold\n",
    "kf = KFold(n_splits =  10, shuffle = True, random_state = 42) # fold 10번하기\n",
    "\n",
    "cqd = QuadraticDiscriminantAnalysis(store_covariance=True)\n",
    "acc_list = []\n",
    "cqd_pred = np.zeros((y_test.shape[0]))\n",
    "for tr_idx, val_idx in kf.split(X_train, y_train) :\n",
    "    tr_x, tr_y = X_train.iloc[tr_idx], y_train.iloc[tr_idx]\n",
    "    val_x, val_y = X_train.iloc[val_idx], y_train.iloc[val_idx]\n",
    "    \n",
    "    cqd.fit(tr_x, tr_y)\n",
    "    \n",
    "    pred = cqd.predict(val_x)\n",
    "    sub_pred = cqd.predict(X_test)\n",
    "    acc = accuracy_score(val_y, pred)\n",
    "    \n",
    "    acc_list.append(acc)\n",
    "    \n",
    "    cqd_pred += (sub_pred / 10)"
   ]
  },
  {
   "cell_type": "code",
   "execution_count": 735,
   "metadata": {},
   "outputs": [
    {
     "name": "stdout",
     "output_type": "stream",
     "text": [
      "acc 평균 0.7685365853658536\n",
      "정확도0.7688\n",
      "f1 score 0.4871794871794872\n"
     ]
    }
   ],
   "source": [
    "print('acc 평균', np.mean(acc_list))\n",
    "print('정확도{:.4f}'.format(accuracy_score(np.round(cqd_pred), y_test)))\n",
    "print('f1 score', f1_score(np.round(cqd_pred), y_test))"
   ]
  },
  {
   "cell_type": "markdown",
   "metadata": {},
   "source": [
    "               정확도    F1 score\n",
    "정규화하기 전\n",
    "- 모든 피처 9개(screen수, act_n, genre, director, distributor, 네이버_movie_buzz, 구글_movie_buzz, star_buzz, 네이버_기대지수) \n",
    "  - 0.76300, 0.4810 -0.7688,0.4871\n",
    "\n",
    "  \n",
    "- Screen 수 뺀, 피처 8개(act_n, genre, director, distributor, 네이버_movie_buzz, 구글_movie_buzz, star_buzz, 네이버_기대지수) \n",
    "\n",
    "\n",
    "정규화 한 후\n",
    "- 모든 피처 9개(screen수, act_n, genre, director, distributor, 네이버_movie_buzz, 구글_movie_buzz, star_buzz, 네이버_기대지수)\n",
    "   - 0.76300, 0.4810"
   ]
  },
  {
   "cell_type": "markdown",
   "metadata": {},
   "source": [
    "### pycaret"
   ]
  },
  {
   "cell_type": "code",
   "execution_count": 363,
   "metadata": {},
   "outputs": [],
   "source": [
    "from pycaret.classification import *\n",
    "from sklearn.model_selection import train_test_split\n",
    "train, test = train_test_split(df_fin, test_size=0.3, random_state=100)\n",
    "cat_features = ['genre_rank', 'direct_rank','dist_rank']  # 범주 변수들 설정해줌, ,"
   ]
  },
  {
   "cell_type": "code",
   "execution_count": 364,
   "metadata": {
    "scrolled": true
   },
   "outputs": [
    {
     "data": {
      "text/html": [
       "<style  type=\"text/css\" >\n",
       "#T_c2599273_d17c_11ec_98d9_7085c2294e08row44_col1{\n",
       "            background-color:  lightgreen;\n",
       "        }</style><table id=\"T_c2599273_d17c_11ec_98d9_7085c2294e08\" ><thead>    <tr>        <th class=\"blank level0\" ></th>        <th class=\"col_heading level0 col0\" >Description</th>        <th class=\"col_heading level0 col1\" >Value</th>    </tr></thead><tbody>\n",
       "                <tr>\n",
       "                        <th id=\"T_c2599273_d17c_11ec_98d9_7085c2294e08level0_row0\" class=\"row_heading level0 row0\" >0</th>\n",
       "                        <td id=\"T_c2599273_d17c_11ec_98d9_7085c2294e08row0_col0\" class=\"data row0 col0\" >session_id</td>\n",
       "                        <td id=\"T_c2599273_d17c_11ec_98d9_7085c2294e08row0_col1\" class=\"data row0 col1\" >3376</td>\n",
       "            </tr>\n",
       "            <tr>\n",
       "                        <th id=\"T_c2599273_d17c_11ec_98d9_7085c2294e08level0_row1\" class=\"row_heading level0 row1\" >1</th>\n",
       "                        <td id=\"T_c2599273_d17c_11ec_98d9_7085c2294e08row1_col0\" class=\"data row1 col0\" >Target</td>\n",
       "                        <td id=\"T_c2599273_d17c_11ec_98d9_7085c2294e08row1_col1\" class=\"data row1 col1\" >Target</td>\n",
       "            </tr>\n",
       "            <tr>\n",
       "                        <th id=\"T_c2599273_d17c_11ec_98d9_7085c2294e08level0_row2\" class=\"row_heading level0 row2\" >2</th>\n",
       "                        <td id=\"T_c2599273_d17c_11ec_98d9_7085c2294e08row2_col0\" class=\"data row2 col0\" >Target Type</td>\n",
       "                        <td id=\"T_c2599273_d17c_11ec_98d9_7085c2294e08row2_col1\" class=\"data row2 col1\" >Binary</td>\n",
       "            </tr>\n",
       "            <tr>\n",
       "                        <th id=\"T_c2599273_d17c_11ec_98d9_7085c2294e08level0_row3\" class=\"row_heading level0 row3\" >3</th>\n",
       "                        <td id=\"T_c2599273_d17c_11ec_98d9_7085c2294e08row3_col0\" class=\"data row3 col0\" >Label Encoded</td>\n",
       "                        <td id=\"T_c2599273_d17c_11ec_98d9_7085c2294e08row3_col1\" class=\"data row3 col1\" >None</td>\n",
       "            </tr>\n",
       "            <tr>\n",
       "                        <th id=\"T_c2599273_d17c_11ec_98d9_7085c2294e08level0_row4\" class=\"row_heading level0 row4\" >4</th>\n",
       "                        <td id=\"T_c2599273_d17c_11ec_98d9_7085c2294e08row4_col0\" class=\"data row4 col0\" >Original Data</td>\n",
       "                        <td id=\"T_c2599273_d17c_11ec_98d9_7085c2294e08row4_col1\" class=\"data row4 col1\" >(402, 8)</td>\n",
       "            </tr>\n",
       "            <tr>\n",
       "                        <th id=\"T_c2599273_d17c_11ec_98d9_7085c2294e08level0_row5\" class=\"row_heading level0 row5\" >5</th>\n",
       "                        <td id=\"T_c2599273_d17c_11ec_98d9_7085c2294e08row5_col0\" class=\"data row5 col0\" >Missing Values</td>\n",
       "                        <td id=\"T_c2599273_d17c_11ec_98d9_7085c2294e08row5_col1\" class=\"data row5 col1\" >False</td>\n",
       "            </tr>\n",
       "            <tr>\n",
       "                        <th id=\"T_c2599273_d17c_11ec_98d9_7085c2294e08level0_row6\" class=\"row_heading level0 row6\" >6</th>\n",
       "                        <td id=\"T_c2599273_d17c_11ec_98d9_7085c2294e08row6_col0\" class=\"data row6 col0\" >Numeric Features</td>\n",
       "                        <td id=\"T_c2599273_d17c_11ec_98d9_7085c2294e08row6_col1\" class=\"data row6 col1\" >4</td>\n",
       "            </tr>\n",
       "            <tr>\n",
       "                        <th id=\"T_c2599273_d17c_11ec_98d9_7085c2294e08level0_row7\" class=\"row_heading level0 row7\" >7</th>\n",
       "                        <td id=\"T_c2599273_d17c_11ec_98d9_7085c2294e08row7_col0\" class=\"data row7 col0\" >Categorical Features</td>\n",
       "                        <td id=\"T_c2599273_d17c_11ec_98d9_7085c2294e08row7_col1\" class=\"data row7 col1\" >3</td>\n",
       "            </tr>\n",
       "            <tr>\n",
       "                        <th id=\"T_c2599273_d17c_11ec_98d9_7085c2294e08level0_row8\" class=\"row_heading level0 row8\" >8</th>\n",
       "                        <td id=\"T_c2599273_d17c_11ec_98d9_7085c2294e08row8_col0\" class=\"data row8 col0\" >Ordinal Features</td>\n",
       "                        <td id=\"T_c2599273_d17c_11ec_98d9_7085c2294e08row8_col1\" class=\"data row8 col1\" >False</td>\n",
       "            </tr>\n",
       "            <tr>\n",
       "                        <th id=\"T_c2599273_d17c_11ec_98d9_7085c2294e08level0_row9\" class=\"row_heading level0 row9\" >9</th>\n",
       "                        <td id=\"T_c2599273_d17c_11ec_98d9_7085c2294e08row9_col0\" class=\"data row9 col0\" >High Cardinality Features</td>\n",
       "                        <td id=\"T_c2599273_d17c_11ec_98d9_7085c2294e08row9_col1\" class=\"data row9 col1\" >False</td>\n",
       "            </tr>\n",
       "            <tr>\n",
       "                        <th id=\"T_c2599273_d17c_11ec_98d9_7085c2294e08level0_row10\" class=\"row_heading level0 row10\" >10</th>\n",
       "                        <td id=\"T_c2599273_d17c_11ec_98d9_7085c2294e08row10_col0\" class=\"data row10 col0\" >High Cardinality Method</td>\n",
       "                        <td id=\"T_c2599273_d17c_11ec_98d9_7085c2294e08row10_col1\" class=\"data row10 col1\" >None</td>\n",
       "            </tr>\n",
       "            <tr>\n",
       "                        <th id=\"T_c2599273_d17c_11ec_98d9_7085c2294e08level0_row11\" class=\"row_heading level0 row11\" >11</th>\n",
       "                        <td id=\"T_c2599273_d17c_11ec_98d9_7085c2294e08row11_col0\" class=\"data row11 col0\" >Transformed Train Set</td>\n",
       "                        <td id=\"T_c2599273_d17c_11ec_98d9_7085c2294e08row11_col1\" class=\"data row11 col1\" >(281, 114)</td>\n",
       "            </tr>\n",
       "            <tr>\n",
       "                        <th id=\"T_c2599273_d17c_11ec_98d9_7085c2294e08level0_row12\" class=\"row_heading level0 row12\" >12</th>\n",
       "                        <td id=\"T_c2599273_d17c_11ec_98d9_7085c2294e08row12_col0\" class=\"data row12 col0\" >Transformed Test Set</td>\n",
       "                        <td id=\"T_c2599273_d17c_11ec_98d9_7085c2294e08row12_col1\" class=\"data row12 col1\" >(121, 114)</td>\n",
       "            </tr>\n",
       "            <tr>\n",
       "                        <th id=\"T_c2599273_d17c_11ec_98d9_7085c2294e08level0_row13\" class=\"row_heading level0 row13\" >13</th>\n",
       "                        <td id=\"T_c2599273_d17c_11ec_98d9_7085c2294e08row13_col0\" class=\"data row13 col0\" >Shuffle Train-Test</td>\n",
       "                        <td id=\"T_c2599273_d17c_11ec_98d9_7085c2294e08row13_col1\" class=\"data row13 col1\" >True</td>\n",
       "            </tr>\n",
       "            <tr>\n",
       "                        <th id=\"T_c2599273_d17c_11ec_98d9_7085c2294e08level0_row14\" class=\"row_heading level0 row14\" >14</th>\n",
       "                        <td id=\"T_c2599273_d17c_11ec_98d9_7085c2294e08row14_col0\" class=\"data row14 col0\" >Stratify Train-Test</td>\n",
       "                        <td id=\"T_c2599273_d17c_11ec_98d9_7085c2294e08row14_col1\" class=\"data row14 col1\" >False</td>\n",
       "            </tr>\n",
       "            <tr>\n",
       "                        <th id=\"T_c2599273_d17c_11ec_98d9_7085c2294e08level0_row15\" class=\"row_heading level0 row15\" >15</th>\n",
       "                        <td id=\"T_c2599273_d17c_11ec_98d9_7085c2294e08row15_col0\" class=\"data row15 col0\" >Fold Generator</td>\n",
       "                        <td id=\"T_c2599273_d17c_11ec_98d9_7085c2294e08row15_col1\" class=\"data row15 col1\" >StratifiedKFold</td>\n",
       "            </tr>\n",
       "            <tr>\n",
       "                        <th id=\"T_c2599273_d17c_11ec_98d9_7085c2294e08level0_row16\" class=\"row_heading level0 row16\" >16</th>\n",
       "                        <td id=\"T_c2599273_d17c_11ec_98d9_7085c2294e08row16_col0\" class=\"data row16 col0\" >Fold Number</td>\n",
       "                        <td id=\"T_c2599273_d17c_11ec_98d9_7085c2294e08row16_col1\" class=\"data row16 col1\" >10</td>\n",
       "            </tr>\n",
       "            <tr>\n",
       "                        <th id=\"T_c2599273_d17c_11ec_98d9_7085c2294e08level0_row17\" class=\"row_heading level0 row17\" >17</th>\n",
       "                        <td id=\"T_c2599273_d17c_11ec_98d9_7085c2294e08row17_col0\" class=\"data row17 col0\" >CPU Jobs</td>\n",
       "                        <td id=\"T_c2599273_d17c_11ec_98d9_7085c2294e08row17_col1\" class=\"data row17 col1\" >-1</td>\n",
       "            </tr>\n",
       "            <tr>\n",
       "                        <th id=\"T_c2599273_d17c_11ec_98d9_7085c2294e08level0_row18\" class=\"row_heading level0 row18\" >18</th>\n",
       "                        <td id=\"T_c2599273_d17c_11ec_98d9_7085c2294e08row18_col0\" class=\"data row18 col0\" >Use GPU</td>\n",
       "                        <td id=\"T_c2599273_d17c_11ec_98d9_7085c2294e08row18_col1\" class=\"data row18 col1\" >False</td>\n",
       "            </tr>\n",
       "            <tr>\n",
       "                        <th id=\"T_c2599273_d17c_11ec_98d9_7085c2294e08level0_row19\" class=\"row_heading level0 row19\" >19</th>\n",
       "                        <td id=\"T_c2599273_d17c_11ec_98d9_7085c2294e08row19_col0\" class=\"data row19 col0\" >Log Experiment</td>\n",
       "                        <td id=\"T_c2599273_d17c_11ec_98d9_7085c2294e08row19_col1\" class=\"data row19 col1\" >False</td>\n",
       "            </tr>\n",
       "            <tr>\n",
       "                        <th id=\"T_c2599273_d17c_11ec_98d9_7085c2294e08level0_row20\" class=\"row_heading level0 row20\" >20</th>\n",
       "                        <td id=\"T_c2599273_d17c_11ec_98d9_7085c2294e08row20_col0\" class=\"data row20 col0\" >Experiment Name</td>\n",
       "                        <td id=\"T_c2599273_d17c_11ec_98d9_7085c2294e08row20_col1\" class=\"data row20 col1\" >clf-default-name</td>\n",
       "            </tr>\n",
       "            <tr>\n",
       "                        <th id=\"T_c2599273_d17c_11ec_98d9_7085c2294e08level0_row21\" class=\"row_heading level0 row21\" >21</th>\n",
       "                        <td id=\"T_c2599273_d17c_11ec_98d9_7085c2294e08row21_col0\" class=\"data row21 col0\" >USI</td>\n",
       "                        <td id=\"T_c2599273_d17c_11ec_98d9_7085c2294e08row21_col1\" class=\"data row21 col1\" >0106</td>\n",
       "            </tr>\n",
       "            <tr>\n",
       "                        <th id=\"T_c2599273_d17c_11ec_98d9_7085c2294e08level0_row22\" class=\"row_heading level0 row22\" >22</th>\n",
       "                        <td id=\"T_c2599273_d17c_11ec_98d9_7085c2294e08row22_col0\" class=\"data row22 col0\" >Imputation Type</td>\n",
       "                        <td id=\"T_c2599273_d17c_11ec_98d9_7085c2294e08row22_col1\" class=\"data row22 col1\" >simple</td>\n",
       "            </tr>\n",
       "            <tr>\n",
       "                        <th id=\"T_c2599273_d17c_11ec_98d9_7085c2294e08level0_row23\" class=\"row_heading level0 row23\" >23</th>\n",
       "                        <td id=\"T_c2599273_d17c_11ec_98d9_7085c2294e08row23_col0\" class=\"data row23 col0\" >Iterative Imputation Iteration</td>\n",
       "                        <td id=\"T_c2599273_d17c_11ec_98d9_7085c2294e08row23_col1\" class=\"data row23 col1\" >None</td>\n",
       "            </tr>\n",
       "            <tr>\n",
       "                        <th id=\"T_c2599273_d17c_11ec_98d9_7085c2294e08level0_row24\" class=\"row_heading level0 row24\" >24</th>\n",
       "                        <td id=\"T_c2599273_d17c_11ec_98d9_7085c2294e08row24_col0\" class=\"data row24 col0\" >Numeric Imputer</td>\n",
       "                        <td id=\"T_c2599273_d17c_11ec_98d9_7085c2294e08row24_col1\" class=\"data row24 col1\" >mean</td>\n",
       "            </tr>\n",
       "            <tr>\n",
       "                        <th id=\"T_c2599273_d17c_11ec_98d9_7085c2294e08level0_row25\" class=\"row_heading level0 row25\" >25</th>\n",
       "                        <td id=\"T_c2599273_d17c_11ec_98d9_7085c2294e08row25_col0\" class=\"data row25 col0\" >Iterative Imputation Numeric Model</td>\n",
       "                        <td id=\"T_c2599273_d17c_11ec_98d9_7085c2294e08row25_col1\" class=\"data row25 col1\" >None</td>\n",
       "            </tr>\n",
       "            <tr>\n",
       "                        <th id=\"T_c2599273_d17c_11ec_98d9_7085c2294e08level0_row26\" class=\"row_heading level0 row26\" >26</th>\n",
       "                        <td id=\"T_c2599273_d17c_11ec_98d9_7085c2294e08row26_col0\" class=\"data row26 col0\" >Categorical Imputer</td>\n",
       "                        <td id=\"T_c2599273_d17c_11ec_98d9_7085c2294e08row26_col1\" class=\"data row26 col1\" >constant</td>\n",
       "            </tr>\n",
       "            <tr>\n",
       "                        <th id=\"T_c2599273_d17c_11ec_98d9_7085c2294e08level0_row27\" class=\"row_heading level0 row27\" >27</th>\n",
       "                        <td id=\"T_c2599273_d17c_11ec_98d9_7085c2294e08row27_col0\" class=\"data row27 col0\" >Iterative Imputation Categorical Model</td>\n",
       "                        <td id=\"T_c2599273_d17c_11ec_98d9_7085c2294e08row27_col1\" class=\"data row27 col1\" >None</td>\n",
       "            </tr>\n",
       "            <tr>\n",
       "                        <th id=\"T_c2599273_d17c_11ec_98d9_7085c2294e08level0_row28\" class=\"row_heading level0 row28\" >28</th>\n",
       "                        <td id=\"T_c2599273_d17c_11ec_98d9_7085c2294e08row28_col0\" class=\"data row28 col0\" >Unknown Categoricals Handling</td>\n",
       "                        <td id=\"T_c2599273_d17c_11ec_98d9_7085c2294e08row28_col1\" class=\"data row28 col1\" >least_frequent</td>\n",
       "            </tr>\n",
       "            <tr>\n",
       "                        <th id=\"T_c2599273_d17c_11ec_98d9_7085c2294e08level0_row29\" class=\"row_heading level0 row29\" >29</th>\n",
       "                        <td id=\"T_c2599273_d17c_11ec_98d9_7085c2294e08row29_col0\" class=\"data row29 col0\" >Normalize</td>\n",
       "                        <td id=\"T_c2599273_d17c_11ec_98d9_7085c2294e08row29_col1\" class=\"data row29 col1\" >False</td>\n",
       "            </tr>\n",
       "            <tr>\n",
       "                        <th id=\"T_c2599273_d17c_11ec_98d9_7085c2294e08level0_row30\" class=\"row_heading level0 row30\" >30</th>\n",
       "                        <td id=\"T_c2599273_d17c_11ec_98d9_7085c2294e08row30_col0\" class=\"data row30 col0\" >Normalize Method</td>\n",
       "                        <td id=\"T_c2599273_d17c_11ec_98d9_7085c2294e08row30_col1\" class=\"data row30 col1\" >None</td>\n",
       "            </tr>\n",
       "            <tr>\n",
       "                        <th id=\"T_c2599273_d17c_11ec_98d9_7085c2294e08level0_row31\" class=\"row_heading level0 row31\" >31</th>\n",
       "                        <td id=\"T_c2599273_d17c_11ec_98d9_7085c2294e08row31_col0\" class=\"data row31 col0\" >Transformation</td>\n",
       "                        <td id=\"T_c2599273_d17c_11ec_98d9_7085c2294e08row31_col1\" class=\"data row31 col1\" >False</td>\n",
       "            </tr>\n",
       "            <tr>\n",
       "                        <th id=\"T_c2599273_d17c_11ec_98d9_7085c2294e08level0_row32\" class=\"row_heading level0 row32\" >32</th>\n",
       "                        <td id=\"T_c2599273_d17c_11ec_98d9_7085c2294e08row32_col0\" class=\"data row32 col0\" >Transformation Method</td>\n",
       "                        <td id=\"T_c2599273_d17c_11ec_98d9_7085c2294e08row32_col1\" class=\"data row32 col1\" >None</td>\n",
       "            </tr>\n",
       "            <tr>\n",
       "                        <th id=\"T_c2599273_d17c_11ec_98d9_7085c2294e08level0_row33\" class=\"row_heading level0 row33\" >33</th>\n",
       "                        <td id=\"T_c2599273_d17c_11ec_98d9_7085c2294e08row33_col0\" class=\"data row33 col0\" >PCA</td>\n",
       "                        <td id=\"T_c2599273_d17c_11ec_98d9_7085c2294e08row33_col1\" class=\"data row33 col1\" >False</td>\n",
       "            </tr>\n",
       "            <tr>\n",
       "                        <th id=\"T_c2599273_d17c_11ec_98d9_7085c2294e08level0_row34\" class=\"row_heading level0 row34\" >34</th>\n",
       "                        <td id=\"T_c2599273_d17c_11ec_98d9_7085c2294e08row34_col0\" class=\"data row34 col0\" >PCA Method</td>\n",
       "                        <td id=\"T_c2599273_d17c_11ec_98d9_7085c2294e08row34_col1\" class=\"data row34 col1\" >None</td>\n",
       "            </tr>\n",
       "            <tr>\n",
       "                        <th id=\"T_c2599273_d17c_11ec_98d9_7085c2294e08level0_row35\" class=\"row_heading level0 row35\" >35</th>\n",
       "                        <td id=\"T_c2599273_d17c_11ec_98d9_7085c2294e08row35_col0\" class=\"data row35 col0\" >PCA Components</td>\n",
       "                        <td id=\"T_c2599273_d17c_11ec_98d9_7085c2294e08row35_col1\" class=\"data row35 col1\" >None</td>\n",
       "            </tr>\n",
       "            <tr>\n",
       "                        <th id=\"T_c2599273_d17c_11ec_98d9_7085c2294e08level0_row36\" class=\"row_heading level0 row36\" >36</th>\n",
       "                        <td id=\"T_c2599273_d17c_11ec_98d9_7085c2294e08row36_col0\" class=\"data row36 col0\" >Ignore Low Variance</td>\n",
       "                        <td id=\"T_c2599273_d17c_11ec_98d9_7085c2294e08row36_col1\" class=\"data row36 col1\" >False</td>\n",
       "            </tr>\n",
       "            <tr>\n",
       "                        <th id=\"T_c2599273_d17c_11ec_98d9_7085c2294e08level0_row37\" class=\"row_heading level0 row37\" >37</th>\n",
       "                        <td id=\"T_c2599273_d17c_11ec_98d9_7085c2294e08row37_col0\" class=\"data row37 col0\" >Combine Rare Levels</td>\n",
       "                        <td id=\"T_c2599273_d17c_11ec_98d9_7085c2294e08row37_col1\" class=\"data row37 col1\" >False</td>\n",
       "            </tr>\n",
       "            <tr>\n",
       "                        <th id=\"T_c2599273_d17c_11ec_98d9_7085c2294e08level0_row38\" class=\"row_heading level0 row38\" >38</th>\n",
       "                        <td id=\"T_c2599273_d17c_11ec_98d9_7085c2294e08row38_col0\" class=\"data row38 col0\" >Rare Level Threshold</td>\n",
       "                        <td id=\"T_c2599273_d17c_11ec_98d9_7085c2294e08row38_col1\" class=\"data row38 col1\" >None</td>\n",
       "            </tr>\n",
       "            <tr>\n",
       "                        <th id=\"T_c2599273_d17c_11ec_98d9_7085c2294e08level0_row39\" class=\"row_heading level0 row39\" >39</th>\n",
       "                        <td id=\"T_c2599273_d17c_11ec_98d9_7085c2294e08row39_col0\" class=\"data row39 col0\" >Numeric Binning</td>\n",
       "                        <td id=\"T_c2599273_d17c_11ec_98d9_7085c2294e08row39_col1\" class=\"data row39 col1\" >False</td>\n",
       "            </tr>\n",
       "            <tr>\n",
       "                        <th id=\"T_c2599273_d17c_11ec_98d9_7085c2294e08level0_row40\" class=\"row_heading level0 row40\" >40</th>\n",
       "                        <td id=\"T_c2599273_d17c_11ec_98d9_7085c2294e08row40_col0\" class=\"data row40 col0\" >Remove Outliers</td>\n",
       "                        <td id=\"T_c2599273_d17c_11ec_98d9_7085c2294e08row40_col1\" class=\"data row40 col1\" >False</td>\n",
       "            </tr>\n",
       "            <tr>\n",
       "                        <th id=\"T_c2599273_d17c_11ec_98d9_7085c2294e08level0_row41\" class=\"row_heading level0 row41\" >41</th>\n",
       "                        <td id=\"T_c2599273_d17c_11ec_98d9_7085c2294e08row41_col0\" class=\"data row41 col0\" >Outliers Threshold</td>\n",
       "                        <td id=\"T_c2599273_d17c_11ec_98d9_7085c2294e08row41_col1\" class=\"data row41 col1\" >None</td>\n",
       "            </tr>\n",
       "            <tr>\n",
       "                        <th id=\"T_c2599273_d17c_11ec_98d9_7085c2294e08level0_row42\" class=\"row_heading level0 row42\" >42</th>\n",
       "                        <td id=\"T_c2599273_d17c_11ec_98d9_7085c2294e08row42_col0\" class=\"data row42 col0\" >Remove Multicollinearity</td>\n",
       "                        <td id=\"T_c2599273_d17c_11ec_98d9_7085c2294e08row42_col1\" class=\"data row42 col1\" >False</td>\n",
       "            </tr>\n",
       "            <tr>\n",
       "                        <th id=\"T_c2599273_d17c_11ec_98d9_7085c2294e08level0_row43\" class=\"row_heading level0 row43\" >43</th>\n",
       "                        <td id=\"T_c2599273_d17c_11ec_98d9_7085c2294e08row43_col0\" class=\"data row43 col0\" >Multicollinearity Threshold</td>\n",
       "                        <td id=\"T_c2599273_d17c_11ec_98d9_7085c2294e08row43_col1\" class=\"data row43 col1\" >None</td>\n",
       "            </tr>\n",
       "            <tr>\n",
       "                        <th id=\"T_c2599273_d17c_11ec_98d9_7085c2294e08level0_row44\" class=\"row_heading level0 row44\" >44</th>\n",
       "                        <td id=\"T_c2599273_d17c_11ec_98d9_7085c2294e08row44_col0\" class=\"data row44 col0\" >Remove Perfect Collinearity</td>\n",
       "                        <td id=\"T_c2599273_d17c_11ec_98d9_7085c2294e08row44_col1\" class=\"data row44 col1\" >True</td>\n",
       "            </tr>\n",
       "            <tr>\n",
       "                        <th id=\"T_c2599273_d17c_11ec_98d9_7085c2294e08level0_row45\" class=\"row_heading level0 row45\" >45</th>\n",
       "                        <td id=\"T_c2599273_d17c_11ec_98d9_7085c2294e08row45_col0\" class=\"data row45 col0\" >Clustering</td>\n",
       "                        <td id=\"T_c2599273_d17c_11ec_98d9_7085c2294e08row45_col1\" class=\"data row45 col1\" >False</td>\n",
       "            </tr>\n",
       "            <tr>\n",
       "                        <th id=\"T_c2599273_d17c_11ec_98d9_7085c2294e08level0_row46\" class=\"row_heading level0 row46\" >46</th>\n",
       "                        <td id=\"T_c2599273_d17c_11ec_98d9_7085c2294e08row46_col0\" class=\"data row46 col0\" >Clustering Iteration</td>\n",
       "                        <td id=\"T_c2599273_d17c_11ec_98d9_7085c2294e08row46_col1\" class=\"data row46 col1\" >None</td>\n",
       "            </tr>\n",
       "            <tr>\n",
       "                        <th id=\"T_c2599273_d17c_11ec_98d9_7085c2294e08level0_row47\" class=\"row_heading level0 row47\" >47</th>\n",
       "                        <td id=\"T_c2599273_d17c_11ec_98d9_7085c2294e08row47_col0\" class=\"data row47 col0\" >Polynomial Features</td>\n",
       "                        <td id=\"T_c2599273_d17c_11ec_98d9_7085c2294e08row47_col1\" class=\"data row47 col1\" >False</td>\n",
       "            </tr>\n",
       "            <tr>\n",
       "                        <th id=\"T_c2599273_d17c_11ec_98d9_7085c2294e08level0_row48\" class=\"row_heading level0 row48\" >48</th>\n",
       "                        <td id=\"T_c2599273_d17c_11ec_98d9_7085c2294e08row48_col0\" class=\"data row48 col0\" >Polynomial Degree</td>\n",
       "                        <td id=\"T_c2599273_d17c_11ec_98d9_7085c2294e08row48_col1\" class=\"data row48 col1\" >None</td>\n",
       "            </tr>\n",
       "            <tr>\n",
       "                        <th id=\"T_c2599273_d17c_11ec_98d9_7085c2294e08level0_row49\" class=\"row_heading level0 row49\" >49</th>\n",
       "                        <td id=\"T_c2599273_d17c_11ec_98d9_7085c2294e08row49_col0\" class=\"data row49 col0\" >Trignometry Features</td>\n",
       "                        <td id=\"T_c2599273_d17c_11ec_98d9_7085c2294e08row49_col1\" class=\"data row49 col1\" >False</td>\n",
       "            </tr>\n",
       "            <tr>\n",
       "                        <th id=\"T_c2599273_d17c_11ec_98d9_7085c2294e08level0_row50\" class=\"row_heading level0 row50\" >50</th>\n",
       "                        <td id=\"T_c2599273_d17c_11ec_98d9_7085c2294e08row50_col0\" class=\"data row50 col0\" >Polynomial Threshold</td>\n",
       "                        <td id=\"T_c2599273_d17c_11ec_98d9_7085c2294e08row50_col1\" class=\"data row50 col1\" >None</td>\n",
       "            </tr>\n",
       "            <tr>\n",
       "                        <th id=\"T_c2599273_d17c_11ec_98d9_7085c2294e08level0_row51\" class=\"row_heading level0 row51\" >51</th>\n",
       "                        <td id=\"T_c2599273_d17c_11ec_98d9_7085c2294e08row51_col0\" class=\"data row51 col0\" >Group Features</td>\n",
       "                        <td id=\"T_c2599273_d17c_11ec_98d9_7085c2294e08row51_col1\" class=\"data row51 col1\" >False</td>\n",
       "            </tr>\n",
       "            <tr>\n",
       "                        <th id=\"T_c2599273_d17c_11ec_98d9_7085c2294e08level0_row52\" class=\"row_heading level0 row52\" >52</th>\n",
       "                        <td id=\"T_c2599273_d17c_11ec_98d9_7085c2294e08row52_col0\" class=\"data row52 col0\" >Feature Selection</td>\n",
       "                        <td id=\"T_c2599273_d17c_11ec_98d9_7085c2294e08row52_col1\" class=\"data row52 col1\" >False</td>\n",
       "            </tr>\n",
       "            <tr>\n",
       "                        <th id=\"T_c2599273_d17c_11ec_98d9_7085c2294e08level0_row53\" class=\"row_heading level0 row53\" >53</th>\n",
       "                        <td id=\"T_c2599273_d17c_11ec_98d9_7085c2294e08row53_col0\" class=\"data row53 col0\" >Feature Selection Method</td>\n",
       "                        <td id=\"T_c2599273_d17c_11ec_98d9_7085c2294e08row53_col1\" class=\"data row53 col1\" >classic</td>\n",
       "            </tr>\n",
       "            <tr>\n",
       "                        <th id=\"T_c2599273_d17c_11ec_98d9_7085c2294e08level0_row54\" class=\"row_heading level0 row54\" >54</th>\n",
       "                        <td id=\"T_c2599273_d17c_11ec_98d9_7085c2294e08row54_col0\" class=\"data row54 col0\" >Features Selection Threshold</td>\n",
       "                        <td id=\"T_c2599273_d17c_11ec_98d9_7085c2294e08row54_col1\" class=\"data row54 col1\" >None</td>\n",
       "            </tr>\n",
       "            <tr>\n",
       "                        <th id=\"T_c2599273_d17c_11ec_98d9_7085c2294e08level0_row55\" class=\"row_heading level0 row55\" >55</th>\n",
       "                        <td id=\"T_c2599273_d17c_11ec_98d9_7085c2294e08row55_col0\" class=\"data row55 col0\" >Feature Interaction</td>\n",
       "                        <td id=\"T_c2599273_d17c_11ec_98d9_7085c2294e08row55_col1\" class=\"data row55 col1\" >False</td>\n",
       "            </tr>\n",
       "            <tr>\n",
       "                        <th id=\"T_c2599273_d17c_11ec_98d9_7085c2294e08level0_row56\" class=\"row_heading level0 row56\" >56</th>\n",
       "                        <td id=\"T_c2599273_d17c_11ec_98d9_7085c2294e08row56_col0\" class=\"data row56 col0\" >Feature Ratio</td>\n",
       "                        <td id=\"T_c2599273_d17c_11ec_98d9_7085c2294e08row56_col1\" class=\"data row56 col1\" >False</td>\n",
       "            </tr>\n",
       "            <tr>\n",
       "                        <th id=\"T_c2599273_d17c_11ec_98d9_7085c2294e08level0_row57\" class=\"row_heading level0 row57\" >57</th>\n",
       "                        <td id=\"T_c2599273_d17c_11ec_98d9_7085c2294e08row57_col0\" class=\"data row57 col0\" >Interaction Threshold</td>\n",
       "                        <td id=\"T_c2599273_d17c_11ec_98d9_7085c2294e08row57_col1\" class=\"data row57 col1\" >None</td>\n",
       "            </tr>\n",
       "            <tr>\n",
       "                        <th id=\"T_c2599273_d17c_11ec_98d9_7085c2294e08level0_row58\" class=\"row_heading level0 row58\" >58</th>\n",
       "                        <td id=\"T_c2599273_d17c_11ec_98d9_7085c2294e08row58_col0\" class=\"data row58 col0\" >Fix Imbalance</td>\n",
       "                        <td id=\"T_c2599273_d17c_11ec_98d9_7085c2294e08row58_col1\" class=\"data row58 col1\" >False</td>\n",
       "            </tr>\n",
       "            <tr>\n",
       "                        <th id=\"T_c2599273_d17c_11ec_98d9_7085c2294e08level0_row59\" class=\"row_heading level0 row59\" >59</th>\n",
       "                        <td id=\"T_c2599273_d17c_11ec_98d9_7085c2294e08row59_col0\" class=\"data row59 col0\" >Fix Imbalance Method</td>\n",
       "                        <td id=\"T_c2599273_d17c_11ec_98d9_7085c2294e08row59_col1\" class=\"data row59 col1\" >SMOTE</td>\n",
       "            </tr>\n",
       "    </tbody></table>"
      ],
      "text/plain": [
       "<pandas.io.formats.style.Styler at 0x28082f02bb0>"
      ]
     },
     "metadata": {},
     "output_type": "display_data"
    }
   ],
   "source": [
    "setup_clf = setup(data = train, target= 'Target', fold_shuffle=True, categorical_features=cat_features)"
   ]
  },
  {
   "cell_type": "code",
   "execution_count": 365,
   "metadata": {
    "scrolled": true
   },
   "outputs": [
    {
     "data": {
      "text/html": [
       "<style  type=\"text/css\" >\n",
       "    #T_cff701cd_d17c_11ec_836d_7085c2294e08 th {\n",
       "          text-align: left;\n",
       "    }#T_cff701cd_d17c_11ec_836d_7085c2294e08row0_col0,#T_cff701cd_d17c_11ec_836d_7085c2294e08row0_col1,#T_cff701cd_d17c_11ec_836d_7085c2294e08row0_col2,#T_cff701cd_d17c_11ec_836d_7085c2294e08row0_col3,#T_cff701cd_d17c_11ec_836d_7085c2294e08row0_col4,#T_cff701cd_d17c_11ec_836d_7085c2294e08row0_col7,#T_cff701cd_d17c_11ec_836d_7085c2294e08row1_col0,#T_cff701cd_d17c_11ec_836d_7085c2294e08row1_col1,#T_cff701cd_d17c_11ec_836d_7085c2294e08row1_col2,#T_cff701cd_d17c_11ec_836d_7085c2294e08row1_col3,#T_cff701cd_d17c_11ec_836d_7085c2294e08row1_col4,#T_cff701cd_d17c_11ec_836d_7085c2294e08row1_col5,#T_cff701cd_d17c_11ec_836d_7085c2294e08row1_col6,#T_cff701cd_d17c_11ec_836d_7085c2294e08row1_col7,#T_cff701cd_d17c_11ec_836d_7085c2294e08row2_col0,#T_cff701cd_d17c_11ec_836d_7085c2294e08row2_col1,#T_cff701cd_d17c_11ec_836d_7085c2294e08row2_col2,#T_cff701cd_d17c_11ec_836d_7085c2294e08row2_col3,#T_cff701cd_d17c_11ec_836d_7085c2294e08row2_col4,#T_cff701cd_d17c_11ec_836d_7085c2294e08row2_col5,#T_cff701cd_d17c_11ec_836d_7085c2294e08row2_col6,#T_cff701cd_d17c_11ec_836d_7085c2294e08row2_col7,#T_cff701cd_d17c_11ec_836d_7085c2294e08row3_col0,#T_cff701cd_d17c_11ec_836d_7085c2294e08row3_col1,#T_cff701cd_d17c_11ec_836d_7085c2294e08row3_col2,#T_cff701cd_d17c_11ec_836d_7085c2294e08row3_col3,#T_cff701cd_d17c_11ec_836d_7085c2294e08row3_col4,#T_cff701cd_d17c_11ec_836d_7085c2294e08row3_col5,#T_cff701cd_d17c_11ec_836d_7085c2294e08row3_col6,#T_cff701cd_d17c_11ec_836d_7085c2294e08row3_col7,#T_cff701cd_d17c_11ec_836d_7085c2294e08row4_col0,#T_cff701cd_d17c_11ec_836d_7085c2294e08row4_col3,#T_cff701cd_d17c_11ec_836d_7085c2294e08row4_col5,#T_cff701cd_d17c_11ec_836d_7085c2294e08row4_col6,#T_cff701cd_d17c_11ec_836d_7085c2294e08row5_col0,#T_cff701cd_d17c_11ec_836d_7085c2294e08row5_col1,#T_cff701cd_d17c_11ec_836d_7085c2294e08row5_col2,#T_cff701cd_d17c_11ec_836d_7085c2294e08row5_col3,#T_cff701cd_d17c_11ec_836d_7085c2294e08row5_col4,#T_cff701cd_d17c_11ec_836d_7085c2294e08row5_col5,#T_cff701cd_d17c_11ec_836d_7085c2294e08row5_col6,#T_cff701cd_d17c_11ec_836d_7085c2294e08row5_col7,#T_cff701cd_d17c_11ec_836d_7085c2294e08row6_col0,#T_cff701cd_d17c_11ec_836d_7085c2294e08row6_col1,#T_cff701cd_d17c_11ec_836d_7085c2294e08row6_col2,#T_cff701cd_d17c_11ec_836d_7085c2294e08row6_col3,#T_cff701cd_d17c_11ec_836d_7085c2294e08row6_col4,#T_cff701cd_d17c_11ec_836d_7085c2294e08row6_col5,#T_cff701cd_d17c_11ec_836d_7085c2294e08row6_col6,#T_cff701cd_d17c_11ec_836d_7085c2294e08row6_col7,#T_cff701cd_d17c_11ec_836d_7085c2294e08row7_col0,#T_cff701cd_d17c_11ec_836d_7085c2294e08row7_col1,#T_cff701cd_d17c_11ec_836d_7085c2294e08row7_col2,#T_cff701cd_d17c_11ec_836d_7085c2294e08row7_col3,#T_cff701cd_d17c_11ec_836d_7085c2294e08row7_col4,#T_cff701cd_d17c_11ec_836d_7085c2294e08row7_col5,#T_cff701cd_d17c_11ec_836d_7085c2294e08row7_col6,#T_cff701cd_d17c_11ec_836d_7085c2294e08row7_col7,#T_cff701cd_d17c_11ec_836d_7085c2294e08row8_col0,#T_cff701cd_d17c_11ec_836d_7085c2294e08row8_col1,#T_cff701cd_d17c_11ec_836d_7085c2294e08row8_col2,#T_cff701cd_d17c_11ec_836d_7085c2294e08row8_col3,#T_cff701cd_d17c_11ec_836d_7085c2294e08row8_col4,#T_cff701cd_d17c_11ec_836d_7085c2294e08row8_col5,#T_cff701cd_d17c_11ec_836d_7085c2294e08row8_col6,#T_cff701cd_d17c_11ec_836d_7085c2294e08row8_col7,#T_cff701cd_d17c_11ec_836d_7085c2294e08row9_col0,#T_cff701cd_d17c_11ec_836d_7085c2294e08row9_col1,#T_cff701cd_d17c_11ec_836d_7085c2294e08row9_col2,#T_cff701cd_d17c_11ec_836d_7085c2294e08row9_col3,#T_cff701cd_d17c_11ec_836d_7085c2294e08row9_col4,#T_cff701cd_d17c_11ec_836d_7085c2294e08row9_col5,#T_cff701cd_d17c_11ec_836d_7085c2294e08row9_col6,#T_cff701cd_d17c_11ec_836d_7085c2294e08row9_col7,#T_cff701cd_d17c_11ec_836d_7085c2294e08row10_col0,#T_cff701cd_d17c_11ec_836d_7085c2294e08row10_col1,#T_cff701cd_d17c_11ec_836d_7085c2294e08row10_col2,#T_cff701cd_d17c_11ec_836d_7085c2294e08row10_col4,#T_cff701cd_d17c_11ec_836d_7085c2294e08row10_col5,#T_cff701cd_d17c_11ec_836d_7085c2294e08row10_col6,#T_cff701cd_d17c_11ec_836d_7085c2294e08row10_col7,#T_cff701cd_d17c_11ec_836d_7085c2294e08row11_col0,#T_cff701cd_d17c_11ec_836d_7085c2294e08row11_col1,#T_cff701cd_d17c_11ec_836d_7085c2294e08row11_col2,#T_cff701cd_d17c_11ec_836d_7085c2294e08row11_col3,#T_cff701cd_d17c_11ec_836d_7085c2294e08row11_col4,#T_cff701cd_d17c_11ec_836d_7085c2294e08row11_col5,#T_cff701cd_d17c_11ec_836d_7085c2294e08row11_col6,#T_cff701cd_d17c_11ec_836d_7085c2294e08row11_col7,#T_cff701cd_d17c_11ec_836d_7085c2294e08row12_col0,#T_cff701cd_d17c_11ec_836d_7085c2294e08row12_col1,#T_cff701cd_d17c_11ec_836d_7085c2294e08row12_col2,#T_cff701cd_d17c_11ec_836d_7085c2294e08row12_col3,#T_cff701cd_d17c_11ec_836d_7085c2294e08row12_col4,#T_cff701cd_d17c_11ec_836d_7085c2294e08row12_col5,#T_cff701cd_d17c_11ec_836d_7085c2294e08row12_col6,#T_cff701cd_d17c_11ec_836d_7085c2294e08row12_col7,#T_cff701cd_d17c_11ec_836d_7085c2294e08row13_col0,#T_cff701cd_d17c_11ec_836d_7085c2294e08row13_col1,#T_cff701cd_d17c_11ec_836d_7085c2294e08row13_col2,#T_cff701cd_d17c_11ec_836d_7085c2294e08row13_col3,#T_cff701cd_d17c_11ec_836d_7085c2294e08row13_col4,#T_cff701cd_d17c_11ec_836d_7085c2294e08row13_col5,#T_cff701cd_d17c_11ec_836d_7085c2294e08row13_col6,#T_cff701cd_d17c_11ec_836d_7085c2294e08row13_col7,#T_cff701cd_d17c_11ec_836d_7085c2294e08row14_col0,#T_cff701cd_d17c_11ec_836d_7085c2294e08row14_col1,#T_cff701cd_d17c_11ec_836d_7085c2294e08row14_col2,#T_cff701cd_d17c_11ec_836d_7085c2294e08row14_col3,#T_cff701cd_d17c_11ec_836d_7085c2294e08row14_col4,#T_cff701cd_d17c_11ec_836d_7085c2294e08row14_col5,#T_cff701cd_d17c_11ec_836d_7085c2294e08row14_col6,#T_cff701cd_d17c_11ec_836d_7085c2294e08row14_col7,#T_cff701cd_d17c_11ec_836d_7085c2294e08row15_col0,#T_cff701cd_d17c_11ec_836d_7085c2294e08row15_col1,#T_cff701cd_d17c_11ec_836d_7085c2294e08row15_col2,#T_cff701cd_d17c_11ec_836d_7085c2294e08row15_col3,#T_cff701cd_d17c_11ec_836d_7085c2294e08row15_col4,#T_cff701cd_d17c_11ec_836d_7085c2294e08row15_col5,#T_cff701cd_d17c_11ec_836d_7085c2294e08row15_col6,#T_cff701cd_d17c_11ec_836d_7085c2294e08row15_col7{\n",
       "            text-align:  left;\n",
       "            text-align:  left;\n",
       "        }#T_cff701cd_d17c_11ec_836d_7085c2294e08row0_col5,#T_cff701cd_d17c_11ec_836d_7085c2294e08row0_col6,#T_cff701cd_d17c_11ec_836d_7085c2294e08row4_col1,#T_cff701cd_d17c_11ec_836d_7085c2294e08row4_col2,#T_cff701cd_d17c_11ec_836d_7085c2294e08row4_col4,#T_cff701cd_d17c_11ec_836d_7085c2294e08row4_col7,#T_cff701cd_d17c_11ec_836d_7085c2294e08row10_col3{\n",
       "            text-align:  left;\n",
       "            text-align:  left;\n",
       "            background-color:  yellow;\n",
       "        }#T_cff701cd_d17c_11ec_836d_7085c2294e08row0_col8,#T_cff701cd_d17c_11ec_836d_7085c2294e08row1_col8,#T_cff701cd_d17c_11ec_836d_7085c2294e08row2_col8,#T_cff701cd_d17c_11ec_836d_7085c2294e08row3_col8,#T_cff701cd_d17c_11ec_836d_7085c2294e08row4_col8,#T_cff701cd_d17c_11ec_836d_7085c2294e08row5_col8,#T_cff701cd_d17c_11ec_836d_7085c2294e08row6_col8,#T_cff701cd_d17c_11ec_836d_7085c2294e08row7_col8,#T_cff701cd_d17c_11ec_836d_7085c2294e08row8_col8,#T_cff701cd_d17c_11ec_836d_7085c2294e08row9_col8,#T_cff701cd_d17c_11ec_836d_7085c2294e08row10_col8,#T_cff701cd_d17c_11ec_836d_7085c2294e08row11_col8,#T_cff701cd_d17c_11ec_836d_7085c2294e08row12_col8,#T_cff701cd_d17c_11ec_836d_7085c2294e08row13_col8,#T_cff701cd_d17c_11ec_836d_7085c2294e08row14_col8{\n",
       "            text-align:  left;\n",
       "            text-align:  left;\n",
       "            background-color:  lightgrey;\n",
       "        }#T_cff701cd_d17c_11ec_836d_7085c2294e08row15_col8{\n",
       "            text-align:  left;\n",
       "            text-align:  left;\n",
       "            background-color:  yellow;\n",
       "            background-color:  lightgrey;\n",
       "        }</style><table id=\"T_cff701cd_d17c_11ec_836d_7085c2294e08\" ><thead>    <tr>        <th class=\"blank level0\" ></th>        <th class=\"col_heading level0 col0\" >Model</th>        <th class=\"col_heading level0 col1\" >Accuracy</th>        <th class=\"col_heading level0 col2\" >AUC</th>        <th class=\"col_heading level0 col3\" >Recall</th>        <th class=\"col_heading level0 col4\" >Prec.</th>        <th class=\"col_heading level0 col5\" >F1</th>        <th class=\"col_heading level0 col6\" >Kappa</th>        <th class=\"col_heading level0 col7\" >MCC</th>        <th class=\"col_heading level0 col8\" >TT (Sec)</th>    </tr></thead><tbody>\n",
       "                <tr>\n",
       "                        <th id=\"T_cff701cd_d17c_11ec_836d_7085c2294e08level0_row0\" class=\"row_heading level0 row0\" >nb</th>\n",
       "                        <td id=\"T_cff701cd_d17c_11ec_836d_7085c2294e08row0_col0\" class=\"data row0 col0\" >Naive Bayes</td>\n",
       "                        <td id=\"T_cff701cd_d17c_11ec_836d_7085c2294e08row0_col1\" class=\"data row0 col1\" >0.7541</td>\n",
       "                        <td id=\"T_cff701cd_d17c_11ec_836d_7085c2294e08row0_col2\" class=\"data row0 col2\" >0.6646</td>\n",
       "                        <td id=\"T_cff701cd_d17c_11ec_836d_7085c2294e08row0_col3\" class=\"data row0 col3\" >0.3452</td>\n",
       "                        <td id=\"T_cff701cd_d17c_11ec_836d_7085c2294e08row0_col4\" class=\"data row0 col4\" >0.4662</td>\n",
       "                        <td id=\"T_cff701cd_d17c_11ec_836d_7085c2294e08row0_col5\" class=\"data row0 col5\" >0.3817</td>\n",
       "                        <td id=\"T_cff701cd_d17c_11ec_836d_7085c2294e08row0_col6\" class=\"data row0 col6\" >0.2359</td>\n",
       "                        <td id=\"T_cff701cd_d17c_11ec_836d_7085c2294e08row0_col7\" class=\"data row0 col7\" >0.2480</td>\n",
       "                        <td id=\"T_cff701cd_d17c_11ec_836d_7085c2294e08row0_col8\" class=\"data row0 col8\" >0.0060</td>\n",
       "            </tr>\n",
       "            <tr>\n",
       "                        <th id=\"T_cff701cd_d17c_11ec_836d_7085c2294e08level0_row1\" class=\"row_heading level0 row1\" >dt</th>\n",
       "                        <td id=\"T_cff701cd_d17c_11ec_836d_7085c2294e08row1_col0\" class=\"data row1 col0\" >Decision Tree Classifier</td>\n",
       "                        <td id=\"T_cff701cd_d17c_11ec_836d_7085c2294e08row1_col1\" class=\"data row1 col1\" >0.7154</td>\n",
       "                        <td id=\"T_cff701cd_d17c_11ec_836d_7085c2294e08row1_col2\" class=\"data row1 col2\" >0.5930</td>\n",
       "                        <td id=\"T_cff701cd_d17c_11ec_836d_7085c2294e08row1_col3\" class=\"data row1 col3\" >0.3690</td>\n",
       "                        <td id=\"T_cff701cd_d17c_11ec_836d_7085c2294e08row1_col4\" class=\"data row1 col4\" >0.3755</td>\n",
       "                        <td id=\"T_cff701cd_d17c_11ec_836d_7085c2294e08row1_col5\" class=\"data row1 col5\" >0.3599</td>\n",
       "                        <td id=\"T_cff701cd_d17c_11ec_836d_7085c2294e08row1_col6\" class=\"data row1 col6\" >0.1837</td>\n",
       "                        <td id=\"T_cff701cd_d17c_11ec_836d_7085c2294e08row1_col7\" class=\"data row1 col7\" >0.1889</td>\n",
       "                        <td id=\"T_cff701cd_d17c_11ec_836d_7085c2294e08row1_col8\" class=\"data row1 col8\" >0.0060</td>\n",
       "            </tr>\n",
       "            <tr>\n",
       "                        <th id=\"T_cff701cd_d17c_11ec_836d_7085c2294e08level0_row2\" class=\"row_heading level0 row2\" >xgboost</th>\n",
       "                        <td id=\"T_cff701cd_d17c_11ec_836d_7085c2294e08row2_col0\" class=\"data row2 col0\" >Extreme Gradient Boosting</td>\n",
       "                        <td id=\"T_cff701cd_d17c_11ec_836d_7085c2294e08row2_col1\" class=\"data row2 col1\" >0.7368</td>\n",
       "                        <td id=\"T_cff701cd_d17c_11ec_836d_7085c2294e08row2_col2\" class=\"data row2 col2\" >0.6769</td>\n",
       "                        <td id=\"T_cff701cd_d17c_11ec_836d_7085c2294e08row2_col3\" class=\"data row2 col3\" >0.3024</td>\n",
       "                        <td id=\"T_cff701cd_d17c_11ec_836d_7085c2294e08row2_col4\" class=\"data row2 col4\" >0.4113</td>\n",
       "                        <td id=\"T_cff701cd_d17c_11ec_836d_7085c2294e08row2_col5\" class=\"data row2 col5\" >0.3368</td>\n",
       "                        <td id=\"T_cff701cd_d17c_11ec_836d_7085c2294e08row2_col6\" class=\"data row2 col6\" >0.1809</td>\n",
       "                        <td id=\"T_cff701cd_d17c_11ec_836d_7085c2294e08row2_col7\" class=\"data row2 col7\" >0.1895</td>\n",
       "                        <td id=\"T_cff701cd_d17c_11ec_836d_7085c2294e08row2_col8\" class=\"data row2 col8\" >0.0900</td>\n",
       "            </tr>\n",
       "            <tr>\n",
       "                        <th id=\"T_cff701cd_d17c_11ec_836d_7085c2294e08level0_row3\" class=\"row_heading level0 row3\" >lda</th>\n",
       "                        <td id=\"T_cff701cd_d17c_11ec_836d_7085c2294e08row3_col0\" class=\"data row3 col0\" >Linear Discriminant Analysis</td>\n",
       "                        <td id=\"T_cff701cd_d17c_11ec_836d_7085c2294e08row3_col1\" class=\"data row3 col1\" >0.7260</td>\n",
       "                        <td id=\"T_cff701cd_d17c_11ec_836d_7085c2294e08row3_col2\" class=\"data row3 col2\" >0.6101</td>\n",
       "                        <td id=\"T_cff701cd_d17c_11ec_836d_7085c2294e08row3_col3\" class=\"data row3 col3\" >0.3024</td>\n",
       "                        <td id=\"T_cff701cd_d17c_11ec_836d_7085c2294e08row3_col4\" class=\"data row3 col4\" >0.4361</td>\n",
       "                        <td id=\"T_cff701cd_d17c_11ec_836d_7085c2294e08row3_col5\" class=\"data row3 col5\" >0.3334</td>\n",
       "                        <td id=\"T_cff701cd_d17c_11ec_836d_7085c2294e08row3_col6\" class=\"data row3 col6\" >0.1697</td>\n",
       "                        <td id=\"T_cff701cd_d17c_11ec_836d_7085c2294e08row3_col7\" class=\"data row3 col7\" >0.1877</td>\n",
       "                        <td id=\"T_cff701cd_d17c_11ec_836d_7085c2294e08row3_col8\" class=\"data row3 col8\" >0.0110</td>\n",
       "            </tr>\n",
       "            <tr>\n",
       "                        <th id=\"T_cff701cd_d17c_11ec_836d_7085c2294e08level0_row4\" class=\"row_heading level0 row4\" >catboost</th>\n",
       "                        <td id=\"T_cff701cd_d17c_11ec_836d_7085c2294e08row4_col0\" class=\"data row4 col0\" >CatBoost Classifier</td>\n",
       "                        <td id=\"T_cff701cd_d17c_11ec_836d_7085c2294e08row4_col1\" class=\"data row4 col1\" >0.7899</td>\n",
       "                        <td id=\"T_cff701cd_d17c_11ec_836d_7085c2294e08row4_col2\" class=\"data row4 col2\" >0.7226</td>\n",
       "                        <td id=\"T_cff701cd_d17c_11ec_836d_7085c2294e08row4_col3\" class=\"data row4 col3\" >0.2214</td>\n",
       "                        <td id=\"T_cff701cd_d17c_11ec_836d_7085c2294e08row4_col4\" class=\"data row4 col4\" >0.6100</td>\n",
       "                        <td id=\"T_cff701cd_d17c_11ec_836d_7085c2294e08row4_col5\" class=\"data row4 col5\" >0.3048</td>\n",
       "                        <td id=\"T_cff701cd_d17c_11ec_836d_7085c2294e08row4_col6\" class=\"data row4 col6\" >0.2170</td>\n",
       "                        <td id=\"T_cff701cd_d17c_11ec_836d_7085c2294e08row4_col7\" class=\"data row4 col7\" >0.2626</td>\n",
       "                        <td id=\"T_cff701cd_d17c_11ec_836d_7085c2294e08row4_col8\" class=\"data row4 col8\" >1.0560</td>\n",
       "            </tr>\n",
       "            <tr>\n",
       "                        <th id=\"T_cff701cd_d17c_11ec_836d_7085c2294e08level0_row5\" class=\"row_heading level0 row5\" >svm</th>\n",
       "                        <td id=\"T_cff701cd_d17c_11ec_836d_7085c2294e08row5_col0\" class=\"data row5 col0\" >SVM - Linear Kernel</td>\n",
       "                        <td id=\"T_cff701cd_d17c_11ec_836d_7085c2294e08row5_col1\" class=\"data row5 col1\" >0.6363</td>\n",
       "                        <td id=\"T_cff701cd_d17c_11ec_836d_7085c2294e08row5_col2\" class=\"data row5 col2\" >0.0000</td>\n",
       "                        <td id=\"T_cff701cd_d17c_11ec_836d_7085c2294e08row5_col3\" class=\"data row5 col3\" >0.4381</td>\n",
       "                        <td id=\"T_cff701cd_d17c_11ec_836d_7085c2294e08row5_col4\" class=\"data row5 col4\" >0.2626</td>\n",
       "                        <td id=\"T_cff701cd_d17c_11ec_836d_7085c2294e08row5_col5\" class=\"data row5 col5\" >0.2971</td>\n",
       "                        <td id=\"T_cff701cd_d17c_11ec_836d_7085c2294e08row5_col6\" class=\"data row5 col6\" >0.1031</td>\n",
       "                        <td id=\"T_cff701cd_d17c_11ec_836d_7085c2294e08row5_col7\" class=\"data row5 col7\" >0.1189</td>\n",
       "                        <td id=\"T_cff701cd_d17c_11ec_836d_7085c2294e08row5_col8\" class=\"data row5 col8\" >0.0170</td>\n",
       "            </tr>\n",
       "            <tr>\n",
       "                        <th id=\"T_cff701cd_d17c_11ec_836d_7085c2294e08level0_row6\" class=\"row_heading level0 row6\" >ridge</th>\n",
       "                        <td id=\"T_cff701cd_d17c_11ec_836d_7085c2294e08row6_col0\" class=\"data row6 col0\" >Ridge Classifier</td>\n",
       "                        <td id=\"T_cff701cd_d17c_11ec_836d_7085c2294e08row6_col1\" class=\"data row6 col1\" >0.7543</td>\n",
       "                        <td id=\"T_cff701cd_d17c_11ec_836d_7085c2294e08row6_col2\" class=\"data row6 col2\" >0.0000</td>\n",
       "                        <td id=\"T_cff701cd_d17c_11ec_836d_7085c2294e08row6_col3\" class=\"data row6 col3\" >0.2405</td>\n",
       "                        <td id=\"T_cff701cd_d17c_11ec_836d_7085c2294e08row6_col4\" class=\"data row6 col4\" >0.5427</td>\n",
       "                        <td id=\"T_cff701cd_d17c_11ec_836d_7085c2294e08row6_col5\" class=\"data row6 col5\" >0.2954</td>\n",
       "                        <td id=\"T_cff701cd_d17c_11ec_836d_7085c2294e08row6_col6\" class=\"data row6 col6\" >0.1742</td>\n",
       "                        <td id=\"T_cff701cd_d17c_11ec_836d_7085c2294e08row6_col7\" class=\"data row6 col7\" >0.2135</td>\n",
       "                        <td id=\"T_cff701cd_d17c_11ec_836d_7085c2294e08row6_col8\" class=\"data row6 col8\" >0.0100</td>\n",
       "            </tr>\n",
       "            <tr>\n",
       "                        <th id=\"T_cff701cd_d17c_11ec_836d_7085c2294e08level0_row7\" class=\"row_heading level0 row7\" >gbc</th>\n",
       "                        <td id=\"T_cff701cd_d17c_11ec_836d_7085c2294e08row7_col0\" class=\"data row7 col0\" >Gradient Boosting Classifier</td>\n",
       "                        <td id=\"T_cff701cd_d17c_11ec_836d_7085c2294e08row7_col1\" class=\"data row7 col1\" >0.7544</td>\n",
       "                        <td id=\"T_cff701cd_d17c_11ec_836d_7085c2294e08row7_col2\" class=\"data row7 col2\" >0.7144</td>\n",
       "                        <td id=\"T_cff701cd_d17c_11ec_836d_7085c2294e08row7_col3\" class=\"data row7 col3\" >0.2238</td>\n",
       "                        <td id=\"T_cff701cd_d17c_11ec_836d_7085c2294e08row7_col4\" class=\"data row7 col4\" >0.4483</td>\n",
       "                        <td id=\"T_cff701cd_d17c_11ec_836d_7085c2294e08row7_col5\" class=\"data row7 col5\" >0.2890</td>\n",
       "                        <td id=\"T_cff701cd_d17c_11ec_836d_7085c2294e08row7_col6\" class=\"data row7 col6\" >0.1605</td>\n",
       "                        <td id=\"T_cff701cd_d17c_11ec_836d_7085c2294e08row7_col7\" class=\"data row7 col7\" >0.1799</td>\n",
       "                        <td id=\"T_cff701cd_d17c_11ec_836d_7085c2294e08row7_col8\" class=\"data row7 col8\" >0.0470</td>\n",
       "            </tr>\n",
       "            <tr>\n",
       "                        <th id=\"T_cff701cd_d17c_11ec_836d_7085c2294e08level0_row8\" class=\"row_heading level0 row8\" >lr</th>\n",
       "                        <td id=\"T_cff701cd_d17c_11ec_836d_7085c2294e08row8_col0\" class=\"data row8 col0\" >Logistic Regression</td>\n",
       "                        <td id=\"T_cff701cd_d17c_11ec_836d_7085c2294e08row8_col1\" class=\"data row8 col1\" >0.7616</td>\n",
       "                        <td id=\"T_cff701cd_d17c_11ec_836d_7085c2294e08row8_col2\" class=\"data row8 col2\" >0.6714</td>\n",
       "                        <td id=\"T_cff701cd_d17c_11ec_836d_7085c2294e08row8_col3\" class=\"data row8 col3\" >0.2095</td>\n",
       "                        <td id=\"T_cff701cd_d17c_11ec_836d_7085c2294e08row8_col4\" class=\"data row8 col4\" >0.3942</td>\n",
       "                        <td id=\"T_cff701cd_d17c_11ec_836d_7085c2294e08row8_col5\" class=\"data row8 col5\" >0.2576</td>\n",
       "                        <td id=\"T_cff701cd_d17c_11ec_836d_7085c2294e08row8_col6\" class=\"data row8 col6\" >0.1519</td>\n",
       "                        <td id=\"T_cff701cd_d17c_11ec_836d_7085c2294e08row8_col7\" class=\"data row8 col7\" >0.1681</td>\n",
       "                        <td id=\"T_cff701cd_d17c_11ec_836d_7085c2294e08row8_col8\" class=\"data row8 col8\" >0.0240</td>\n",
       "            </tr>\n",
       "            <tr>\n",
       "                        <th id=\"T_cff701cd_d17c_11ec_836d_7085c2294e08level0_row9\" class=\"row_heading level0 row9\" >et</th>\n",
       "                        <td id=\"T_cff701cd_d17c_11ec_836d_7085c2294e08row9_col0\" class=\"data row9 col0\" >Extra Trees Classifier</td>\n",
       "                        <td id=\"T_cff701cd_d17c_11ec_836d_7085c2294e08row9_col1\" class=\"data row9 col1\" >0.7403</td>\n",
       "                        <td id=\"T_cff701cd_d17c_11ec_836d_7085c2294e08row9_col2\" class=\"data row9 col2\" >0.6422</td>\n",
       "                        <td id=\"T_cff701cd_d17c_11ec_836d_7085c2294e08row9_col3\" class=\"data row9 col3\" >0.1952</td>\n",
       "                        <td id=\"T_cff701cd_d17c_11ec_836d_7085c2294e08row9_col4\" class=\"data row9 col4\" >0.4283</td>\n",
       "                        <td id=\"T_cff701cd_d17c_11ec_836d_7085c2294e08row9_col5\" class=\"data row9 col5\" >0.2558</td>\n",
       "                        <td id=\"T_cff701cd_d17c_11ec_836d_7085c2294e08row9_col6\" class=\"data row9 col6\" >0.1225</td>\n",
       "                        <td id=\"T_cff701cd_d17c_11ec_836d_7085c2294e08row9_col7\" class=\"data row9 col7\" >0.1434</td>\n",
       "                        <td id=\"T_cff701cd_d17c_11ec_836d_7085c2294e08row9_col8\" class=\"data row9 col8\" >0.1200</td>\n",
       "            </tr>\n",
       "            <tr>\n",
       "                        <th id=\"T_cff701cd_d17c_11ec_836d_7085c2294e08level0_row10\" class=\"row_heading level0 row10\" >qda</th>\n",
       "                        <td id=\"T_cff701cd_d17c_11ec_836d_7085c2294e08row10_col0\" class=\"data row10 col0\" >Quadratic Discriminant Analysis</td>\n",
       "                        <td id=\"T_cff701cd_d17c_11ec_836d_7085c2294e08row10_col1\" class=\"data row10 col1\" >0.3597</td>\n",
       "                        <td id=\"T_cff701cd_d17c_11ec_836d_7085c2294e08row10_col2\" class=\"data row10 col2\" >0.4057</td>\n",
       "                        <td id=\"T_cff701cd_d17c_11ec_836d_7085c2294e08row10_col3\" class=\"data row10 col3\" >0.4905</td>\n",
       "                        <td id=\"T_cff701cd_d17c_11ec_836d_7085c2294e08row10_col4\" class=\"data row10 col4\" >0.1742</td>\n",
       "                        <td id=\"T_cff701cd_d17c_11ec_836d_7085c2294e08row10_col5\" class=\"data row10 col5\" >0.2538</td>\n",
       "                        <td id=\"T_cff701cd_d17c_11ec_836d_7085c2294e08row10_col6\" class=\"data row10 col6\" >-0.1108</td>\n",
       "                        <td id=\"T_cff701cd_d17c_11ec_836d_7085c2294e08row10_col7\" class=\"data row10 col7\" >-0.1756</td>\n",
       "                        <td id=\"T_cff701cd_d17c_11ec_836d_7085c2294e08row10_col8\" class=\"data row10 col8\" >0.0090</td>\n",
       "            </tr>\n",
       "            <tr>\n",
       "                        <th id=\"T_cff701cd_d17c_11ec_836d_7085c2294e08level0_row11\" class=\"row_heading level0 row11\" >ada</th>\n",
       "                        <td id=\"T_cff701cd_d17c_11ec_836d_7085c2294e08row11_col0\" class=\"data row11 col0\" >Ada Boost Classifier</td>\n",
       "                        <td id=\"T_cff701cd_d17c_11ec_836d_7085c2294e08row11_col1\" class=\"data row11 col1\" >0.7331</td>\n",
       "                        <td id=\"T_cff701cd_d17c_11ec_836d_7085c2294e08row11_col2\" class=\"data row11 col2\" >0.6313</td>\n",
       "                        <td id=\"T_cff701cd_d17c_11ec_836d_7085c2294e08row11_col3\" class=\"data row11 col3\" >0.2095</td>\n",
       "                        <td id=\"T_cff701cd_d17c_11ec_836d_7085c2294e08row11_col4\" class=\"data row11 col4\" >0.2719</td>\n",
       "                        <td id=\"T_cff701cd_d17c_11ec_836d_7085c2294e08row11_col5\" class=\"data row11 col5\" >0.2332</td>\n",
       "                        <td id=\"T_cff701cd_d17c_11ec_836d_7085c2294e08row11_col6\" class=\"data row11 col6\" >0.0970</td>\n",
       "                        <td id=\"T_cff701cd_d17c_11ec_836d_7085c2294e08row11_col7\" class=\"data row11 col7\" >0.0894</td>\n",
       "                        <td id=\"T_cff701cd_d17c_11ec_836d_7085c2294e08row11_col8\" class=\"data row11 col8\" >0.0510</td>\n",
       "            </tr>\n",
       "            <tr>\n",
       "                        <th id=\"T_cff701cd_d17c_11ec_836d_7085c2294e08level0_row12\" class=\"row_heading level0 row12\" >lightgbm</th>\n",
       "                        <td id=\"T_cff701cd_d17c_11ec_836d_7085c2294e08row12_col0\" class=\"data row12 col0\" >Light Gradient Boosting Machine</td>\n",
       "                        <td id=\"T_cff701cd_d17c_11ec_836d_7085c2294e08row12_col1\" class=\"data row12 col1\" >0.7188</td>\n",
       "                        <td id=\"T_cff701cd_d17c_11ec_836d_7085c2294e08row12_col2\" class=\"data row12 col2\" >0.6776</td>\n",
       "                        <td id=\"T_cff701cd_d17c_11ec_836d_7085c2294e08row12_col3\" class=\"data row12 col3\" >0.2095</td>\n",
       "                        <td id=\"T_cff701cd_d17c_11ec_836d_7085c2294e08row12_col4\" class=\"data row12 col4\" >0.2827</td>\n",
       "                        <td id=\"T_cff701cd_d17c_11ec_836d_7085c2294e08row12_col5\" class=\"data row12 col5\" >0.2311</td>\n",
       "                        <td id=\"T_cff701cd_d17c_11ec_836d_7085c2294e08row12_col6\" class=\"data row12 col6\" >0.0788</td>\n",
       "                        <td id=\"T_cff701cd_d17c_11ec_836d_7085c2294e08row12_col7\" class=\"data row12 col7\" >0.0783</td>\n",
       "                        <td id=\"T_cff701cd_d17c_11ec_836d_7085c2294e08row12_col8\" class=\"data row12 col8\" >0.0380</td>\n",
       "            </tr>\n",
       "            <tr>\n",
       "                        <th id=\"T_cff701cd_d17c_11ec_836d_7085c2294e08level0_row13\" class=\"row_heading level0 row13\" >rf</th>\n",
       "                        <td id=\"T_cff701cd_d17c_11ec_836d_7085c2294e08row13_col0\" class=\"data row13 col0\" >Random Forest Classifier</td>\n",
       "                        <td id=\"T_cff701cd_d17c_11ec_836d_7085c2294e08row13_col1\" class=\"data row13 col1\" >0.7759</td>\n",
       "                        <td id=\"T_cff701cd_d17c_11ec_836d_7085c2294e08row13_col2\" class=\"data row13 col2\" >0.6892</td>\n",
       "                        <td id=\"T_cff701cd_d17c_11ec_836d_7085c2294e08row13_col3\" class=\"data row13 col3\" >0.1310</td>\n",
       "                        <td id=\"T_cff701cd_d17c_11ec_836d_7085c2294e08row13_col4\" class=\"data row13 col4\" >0.3000</td>\n",
       "                        <td id=\"T_cff701cd_d17c_11ec_836d_7085c2294e08row13_col5\" class=\"data row13 col5\" >0.1734</td>\n",
       "                        <td id=\"T_cff701cd_d17c_11ec_836d_7085c2294e08row13_col6\" class=\"data row13 col6\" >0.1136</td>\n",
       "                        <td id=\"T_cff701cd_d17c_11ec_836d_7085c2294e08row13_col7\" class=\"data row13 col7\" >0.1283</td>\n",
       "                        <td id=\"T_cff701cd_d17c_11ec_836d_7085c2294e08row13_col8\" class=\"data row13 col8\" >0.1070</td>\n",
       "            </tr>\n",
       "            <tr>\n",
       "                        <th id=\"T_cff701cd_d17c_11ec_836d_7085c2294e08level0_row14\" class=\"row_heading level0 row14\" >knn</th>\n",
       "                        <td id=\"T_cff701cd_d17c_11ec_836d_7085c2294e08row14_col0\" class=\"data row14 col0\" >K Neighbors Classifier</td>\n",
       "                        <td id=\"T_cff701cd_d17c_11ec_836d_7085c2294e08row14_col1\" class=\"data row14 col1\" >0.7048</td>\n",
       "                        <td id=\"T_cff701cd_d17c_11ec_836d_7085c2294e08row14_col2\" class=\"data row14 col2\" >0.6297</td>\n",
       "                        <td id=\"T_cff701cd_d17c_11ec_836d_7085c2294e08row14_col3\" class=\"data row14 col3\" >0.1452</td>\n",
       "                        <td id=\"T_cff701cd_d17c_11ec_836d_7085c2294e08row14_col4\" class=\"data row14 col4\" >0.1983</td>\n",
       "                        <td id=\"T_cff701cd_d17c_11ec_836d_7085c2294e08row14_col5\" class=\"data row14 col5\" >0.1544</td>\n",
       "                        <td id=\"T_cff701cd_d17c_11ec_836d_7085c2294e08row14_col6\" class=\"data row14 col6\" >-0.0009</td>\n",
       "                        <td id=\"T_cff701cd_d17c_11ec_836d_7085c2294e08row14_col7\" class=\"data row14 col7\" >-0.0023</td>\n",
       "                        <td id=\"T_cff701cd_d17c_11ec_836d_7085c2294e08row14_col8\" class=\"data row14 col8\" >0.0140</td>\n",
       "            </tr>\n",
       "            <tr>\n",
       "                        <th id=\"T_cff701cd_d17c_11ec_836d_7085c2294e08level0_row15\" class=\"row_heading level0 row15\" >dummy</th>\n",
       "                        <td id=\"T_cff701cd_d17c_11ec_836d_7085c2294e08row15_col0\" class=\"data row15 col0\" >Dummy Classifier</td>\n",
       "                        <td id=\"T_cff701cd_d17c_11ec_836d_7085c2294e08row15_col1\" class=\"data row15 col1\" >0.7759</td>\n",
       "                        <td id=\"T_cff701cd_d17c_11ec_836d_7085c2294e08row15_col2\" class=\"data row15 col2\" >0.5000</td>\n",
       "                        <td id=\"T_cff701cd_d17c_11ec_836d_7085c2294e08row15_col3\" class=\"data row15 col3\" >0.0000</td>\n",
       "                        <td id=\"T_cff701cd_d17c_11ec_836d_7085c2294e08row15_col4\" class=\"data row15 col4\" >0.0000</td>\n",
       "                        <td id=\"T_cff701cd_d17c_11ec_836d_7085c2294e08row15_col5\" class=\"data row15 col5\" >0.0000</td>\n",
       "                        <td id=\"T_cff701cd_d17c_11ec_836d_7085c2294e08row15_col6\" class=\"data row15 col6\" >0.0000</td>\n",
       "                        <td id=\"T_cff701cd_d17c_11ec_836d_7085c2294e08row15_col7\" class=\"data row15 col7\" >0.0000</td>\n",
       "                        <td id=\"T_cff701cd_d17c_11ec_836d_7085c2294e08row15_col8\" class=\"data row15 col8\" >0.0050</td>\n",
       "            </tr>\n",
       "    </tbody></table>"
      ],
      "text/plain": [
       "<pandas.io.formats.style.Styler at 0x28082f94580>"
      ]
     },
     "metadata": {},
     "output_type": "display_data"
    }
   ],
   "source": [
    "top10 = compare_models(sort='F1', n_select=10, fold=10) \n",
    "# 모델들을 비교하여 가장 좋은 순으로 보여줌\n",
    "# sort를 accuracy보다 F1으로 하는것이 더 좋은 f1score랑 accuracy를 낳음,fold 10번하는게 정확도가 올라감"
   ]
  },
  {
   "cell_type": "code",
   "execution_count": 366,
   "metadata": {
    "scrolled": true
   },
   "outputs": [
    {
     "data": {
      "text/html": [
       "<style  type=\"text/css\" >\n",
       "#T_e2a77a4b_d17c_11ec_a893_7085c2294e08row5_col0,#T_e2a77a4b_d17c_11ec_a893_7085c2294e08row5_col1,#T_e2a77a4b_d17c_11ec_a893_7085c2294e08row5_col2,#T_e2a77a4b_d17c_11ec_a893_7085c2294e08row5_col3,#T_e2a77a4b_d17c_11ec_a893_7085c2294e08row5_col4,#T_e2a77a4b_d17c_11ec_a893_7085c2294e08row5_col5,#T_e2a77a4b_d17c_11ec_a893_7085c2294e08row5_col6{\n",
       "            background:  yellow;\n",
       "        }</style><table id=\"T_e2a77a4b_d17c_11ec_a893_7085c2294e08\" ><thead>    <tr>        <th class=\"blank level0\" ></th>        <th class=\"col_heading level0 col0\" >Accuracy</th>        <th class=\"col_heading level0 col1\" >AUC</th>        <th class=\"col_heading level0 col2\" >Recall</th>        <th class=\"col_heading level0 col3\" >Prec.</th>        <th class=\"col_heading level0 col4\" >F1</th>        <th class=\"col_heading level0 col5\" >Kappa</th>        <th class=\"col_heading level0 col6\" >MCC</th>    </tr></thead><tbody>\n",
       "                <tr>\n",
       "                        <th id=\"T_e2a77a4b_d17c_11ec_a893_7085c2294e08level0_row0\" class=\"row_heading level0 row0\" >0</th>\n",
       "                        <td id=\"T_e2a77a4b_d17c_11ec_a893_7085c2294e08row0_col0\" class=\"data row0 col0\" >0.7719</td>\n",
       "                        <td id=\"T_e2a77a4b_d17c_11ec_a893_7085c2294e08row0_col1\" class=\"data row0 col1\" >0.7972</td>\n",
       "                        <td id=\"T_e2a77a4b_d17c_11ec_a893_7085c2294e08row0_col2\" class=\"data row0 col2\" >0.0000</td>\n",
       "                        <td id=\"T_e2a77a4b_d17c_11ec_a893_7085c2294e08row0_col3\" class=\"data row0 col3\" >0.0000</td>\n",
       "                        <td id=\"T_e2a77a4b_d17c_11ec_a893_7085c2294e08row0_col4\" class=\"data row0 col4\" >0.0000</td>\n",
       "                        <td id=\"T_e2a77a4b_d17c_11ec_a893_7085c2294e08row0_col5\" class=\"data row0 col5\" >0.0000</td>\n",
       "                        <td id=\"T_e2a77a4b_d17c_11ec_a893_7085c2294e08row0_col6\" class=\"data row0 col6\" >0.0000</td>\n",
       "            </tr>\n",
       "            <tr>\n",
       "                        <th id=\"T_e2a77a4b_d17c_11ec_a893_7085c2294e08level0_row1\" class=\"row_heading level0 row1\" >1</th>\n",
       "                        <td id=\"T_e2a77a4b_d17c_11ec_a893_7085c2294e08row1_col0\" class=\"data row1 col0\" >0.7679</td>\n",
       "                        <td id=\"T_e2a77a4b_d17c_11ec_a893_7085c2294e08row1_col1\" class=\"data row1 col1\" >0.6744</td>\n",
       "                        <td id=\"T_e2a77a4b_d17c_11ec_a893_7085c2294e08row1_col2\" class=\"data row1 col2\" >0.0000</td>\n",
       "                        <td id=\"T_e2a77a4b_d17c_11ec_a893_7085c2294e08row1_col3\" class=\"data row1 col3\" >0.0000</td>\n",
       "                        <td id=\"T_e2a77a4b_d17c_11ec_a893_7085c2294e08row1_col4\" class=\"data row1 col4\" >0.0000</td>\n",
       "                        <td id=\"T_e2a77a4b_d17c_11ec_a893_7085c2294e08row1_col5\" class=\"data row1 col5\" >0.0000</td>\n",
       "                        <td id=\"T_e2a77a4b_d17c_11ec_a893_7085c2294e08row1_col6\" class=\"data row1 col6\" >0.0000</td>\n",
       "            </tr>\n",
       "            <tr>\n",
       "                        <th id=\"T_e2a77a4b_d17c_11ec_a893_7085c2294e08level0_row2\" class=\"row_heading level0 row2\" >2</th>\n",
       "                        <td id=\"T_e2a77a4b_d17c_11ec_a893_7085c2294e08row2_col0\" class=\"data row2 col0\" >0.7679</td>\n",
       "                        <td id=\"T_e2a77a4b_d17c_11ec_a893_7085c2294e08row2_col1\" class=\"data row2 col1\" >0.8032</td>\n",
       "                        <td id=\"T_e2a77a4b_d17c_11ec_a893_7085c2294e08row2_col2\" class=\"data row2 col2\" >0.0000</td>\n",
       "                        <td id=\"T_e2a77a4b_d17c_11ec_a893_7085c2294e08row2_col3\" class=\"data row2 col3\" >0.0000</td>\n",
       "                        <td id=\"T_e2a77a4b_d17c_11ec_a893_7085c2294e08row2_col4\" class=\"data row2 col4\" >0.0000</td>\n",
       "                        <td id=\"T_e2a77a4b_d17c_11ec_a893_7085c2294e08row2_col5\" class=\"data row2 col5\" >0.0000</td>\n",
       "                        <td id=\"T_e2a77a4b_d17c_11ec_a893_7085c2294e08row2_col6\" class=\"data row2 col6\" >0.0000</td>\n",
       "            </tr>\n",
       "            <tr>\n",
       "                        <th id=\"T_e2a77a4b_d17c_11ec_a893_7085c2294e08level0_row3\" class=\"row_heading level0 row3\" >3</th>\n",
       "                        <td id=\"T_e2a77a4b_d17c_11ec_a893_7085c2294e08row3_col0\" class=\"data row3 col0\" >0.7857</td>\n",
       "                        <td id=\"T_e2a77a4b_d17c_11ec_a893_7085c2294e08row3_col1\" class=\"data row3 col1\" >0.7652</td>\n",
       "                        <td id=\"T_e2a77a4b_d17c_11ec_a893_7085c2294e08row3_col2\" class=\"data row3 col2\" >0.0000</td>\n",
       "                        <td id=\"T_e2a77a4b_d17c_11ec_a893_7085c2294e08row3_col3\" class=\"data row3 col3\" >0.0000</td>\n",
       "                        <td id=\"T_e2a77a4b_d17c_11ec_a893_7085c2294e08row3_col4\" class=\"data row3 col4\" >0.0000</td>\n",
       "                        <td id=\"T_e2a77a4b_d17c_11ec_a893_7085c2294e08row3_col5\" class=\"data row3 col5\" >0.0000</td>\n",
       "                        <td id=\"T_e2a77a4b_d17c_11ec_a893_7085c2294e08row3_col6\" class=\"data row3 col6\" >0.0000</td>\n",
       "            </tr>\n",
       "            <tr>\n",
       "                        <th id=\"T_e2a77a4b_d17c_11ec_a893_7085c2294e08level0_row4\" class=\"row_heading level0 row4\" >4</th>\n",
       "                        <td id=\"T_e2a77a4b_d17c_11ec_a893_7085c2294e08row4_col0\" class=\"data row4 col0\" >0.7857</td>\n",
       "                        <td id=\"T_e2a77a4b_d17c_11ec_a893_7085c2294e08row4_col1\" class=\"data row4 col1\" >0.5900</td>\n",
       "                        <td id=\"T_e2a77a4b_d17c_11ec_a893_7085c2294e08row4_col2\" class=\"data row4 col2\" >0.0000</td>\n",
       "                        <td id=\"T_e2a77a4b_d17c_11ec_a893_7085c2294e08row4_col3\" class=\"data row4 col3\" >0.0000</td>\n",
       "                        <td id=\"T_e2a77a4b_d17c_11ec_a893_7085c2294e08row4_col4\" class=\"data row4 col4\" >0.0000</td>\n",
       "                        <td id=\"T_e2a77a4b_d17c_11ec_a893_7085c2294e08row4_col5\" class=\"data row4 col5\" >0.0000</td>\n",
       "                        <td id=\"T_e2a77a4b_d17c_11ec_a893_7085c2294e08row4_col6\" class=\"data row4 col6\" >0.0000</td>\n",
       "            </tr>\n",
       "            <tr>\n",
       "                        <th id=\"T_e2a77a4b_d17c_11ec_a893_7085c2294e08level0_row5\" class=\"row_heading level0 row5\" >Mean</th>\n",
       "                        <td id=\"T_e2a77a4b_d17c_11ec_a893_7085c2294e08row5_col0\" class=\"data row5 col0\" >0.7758</td>\n",
       "                        <td id=\"T_e2a77a4b_d17c_11ec_a893_7085c2294e08row5_col1\" class=\"data row5 col1\" >0.7260</td>\n",
       "                        <td id=\"T_e2a77a4b_d17c_11ec_a893_7085c2294e08row5_col2\" class=\"data row5 col2\" >0.0000</td>\n",
       "                        <td id=\"T_e2a77a4b_d17c_11ec_a893_7085c2294e08row5_col3\" class=\"data row5 col3\" >0.0000</td>\n",
       "                        <td id=\"T_e2a77a4b_d17c_11ec_a893_7085c2294e08row5_col4\" class=\"data row5 col4\" >0.0000</td>\n",
       "                        <td id=\"T_e2a77a4b_d17c_11ec_a893_7085c2294e08row5_col5\" class=\"data row5 col5\" >0.0000</td>\n",
       "                        <td id=\"T_e2a77a4b_d17c_11ec_a893_7085c2294e08row5_col6\" class=\"data row5 col6\" >0.0000</td>\n",
       "            </tr>\n",
       "            <tr>\n",
       "                        <th id=\"T_e2a77a4b_d17c_11ec_a893_7085c2294e08level0_row6\" class=\"row_heading level0 row6\" >SD</th>\n",
       "                        <td id=\"T_e2a77a4b_d17c_11ec_a893_7085c2294e08row6_col0\" class=\"data row6 col0\" >0.0082</td>\n",
       "                        <td id=\"T_e2a77a4b_d17c_11ec_a893_7085c2294e08row6_col1\" class=\"data row6 col1\" >0.0821</td>\n",
       "                        <td id=\"T_e2a77a4b_d17c_11ec_a893_7085c2294e08row6_col2\" class=\"data row6 col2\" >0.0000</td>\n",
       "                        <td id=\"T_e2a77a4b_d17c_11ec_a893_7085c2294e08row6_col3\" class=\"data row6 col3\" >0.0000</td>\n",
       "                        <td id=\"T_e2a77a4b_d17c_11ec_a893_7085c2294e08row6_col4\" class=\"data row6 col4\" >0.0000</td>\n",
       "                        <td id=\"T_e2a77a4b_d17c_11ec_a893_7085c2294e08row6_col5\" class=\"data row6 col5\" >0.0000</td>\n",
       "                        <td id=\"T_e2a77a4b_d17c_11ec_a893_7085c2294e08row6_col6\" class=\"data row6 col6\" >0.0000</td>\n",
       "            </tr>\n",
       "    </tbody></table>"
      ],
      "text/plain": [
       "<pandas.io.formats.style.Styler at 0x28081b02ee0>"
      ]
     },
     "metadata": {},
     "output_type": "display_data"
    }
   ],
   "source": [
    "tuned_top5 = [tune_model(i, fold=5) for i in top10[:5]]\n",
    "# 상위 4개, 5개로 했을 때 제일 좋은 결과가 나옴"
   ]
  },
  {
   "cell_type": "code",
   "execution_count": 367,
   "metadata": {
    "scrolled": true
   },
   "outputs": [
    {
     "data": {
      "text/html": [
       "<style  type=\"text/css\" >\n",
       "#T_e4a031dc_d17c_11ec_b20e_7085c2294e08row10_col0,#T_e4a031dc_d17c_11ec_b20e_7085c2294e08row10_col1,#T_e4a031dc_d17c_11ec_b20e_7085c2294e08row10_col2,#T_e4a031dc_d17c_11ec_b20e_7085c2294e08row10_col3,#T_e4a031dc_d17c_11ec_b20e_7085c2294e08row10_col4,#T_e4a031dc_d17c_11ec_b20e_7085c2294e08row10_col5,#T_e4a031dc_d17c_11ec_b20e_7085c2294e08row10_col6{\n",
       "            background:  yellow;\n",
       "        }</style><table id=\"T_e4a031dc_d17c_11ec_b20e_7085c2294e08\" ><thead>    <tr>        <th class=\"blank level0\" ></th>        <th class=\"col_heading level0 col0\" >Accuracy</th>        <th class=\"col_heading level0 col1\" >AUC</th>        <th class=\"col_heading level0 col2\" >Recall</th>        <th class=\"col_heading level0 col3\" >Prec.</th>        <th class=\"col_heading level0 col4\" >F1</th>        <th class=\"col_heading level0 col5\" >Kappa</th>        <th class=\"col_heading level0 col6\" >MCC</th>    </tr></thead><tbody>\n",
       "                <tr>\n",
       "                        <th id=\"T_e4a031dc_d17c_11ec_b20e_7085c2294e08level0_row0\" class=\"row_heading level0 row0\" >0</th>\n",
       "                        <td id=\"T_e4a031dc_d17c_11ec_b20e_7085c2294e08row0_col0\" class=\"data row0 col0\" >0.7241</td>\n",
       "                        <td id=\"T_e4a031dc_d17c_11ec_b20e_7085c2294e08row0_col1\" class=\"data row0 col1\" >0.7532</td>\n",
       "                        <td id=\"T_e4a031dc_d17c_11ec_b20e_7085c2294e08row0_col2\" class=\"data row0 col2\" >0.0000</td>\n",
       "                        <td id=\"T_e4a031dc_d17c_11ec_b20e_7085c2294e08row0_col3\" class=\"data row0 col3\" >0.0000</td>\n",
       "                        <td id=\"T_e4a031dc_d17c_11ec_b20e_7085c2294e08row0_col4\" class=\"data row0 col4\" >0.0000</td>\n",
       "                        <td id=\"T_e4a031dc_d17c_11ec_b20e_7085c2294e08row0_col5\" class=\"data row0 col5\" >-0.0642</td>\n",
       "                        <td id=\"T_e4a031dc_d17c_11ec_b20e_7085c2294e08row0_col6\" class=\"data row0 col6\" >-0.1066</td>\n",
       "            </tr>\n",
       "            <tr>\n",
       "                        <th id=\"T_e4a031dc_d17c_11ec_b20e_7085c2294e08level0_row1\" class=\"row_heading level0 row1\" >1</th>\n",
       "                        <td id=\"T_e4a031dc_d17c_11ec_b20e_7085c2294e08row1_col0\" class=\"data row1 col0\" >0.7143</td>\n",
       "                        <td id=\"T_e4a031dc_d17c_11ec_b20e_7085c2294e08row1_col1\" class=\"data row1 col1\" >0.7483</td>\n",
       "                        <td id=\"T_e4a031dc_d17c_11ec_b20e_7085c2294e08row1_col2\" class=\"data row1 col2\" >0.0000</td>\n",
       "                        <td id=\"T_e4a031dc_d17c_11ec_b20e_7085c2294e08row1_col3\" class=\"data row1 col3\" >0.0000</td>\n",
       "                        <td id=\"T_e4a031dc_d17c_11ec_b20e_7085c2294e08row1_col4\" class=\"data row1 col4\" >0.0000</td>\n",
       "                        <td id=\"T_e4a031dc_d17c_11ec_b20e_7085c2294e08row1_col5\" class=\"data row1 col5\" >-0.0667</td>\n",
       "                        <td id=\"T_e4a031dc_d17c_11ec_b20e_7085c2294e08row1_col6\" class=\"data row1 col6\" >-0.1111</td>\n",
       "            </tr>\n",
       "            <tr>\n",
       "                        <th id=\"T_e4a031dc_d17c_11ec_b20e_7085c2294e08level0_row2\" class=\"row_heading level0 row2\" >2</th>\n",
       "                        <td id=\"T_e4a031dc_d17c_11ec_b20e_7085c2294e08row2_col0\" class=\"data row2 col0\" >0.7143</td>\n",
       "                        <td id=\"T_e4a031dc_d17c_11ec_b20e_7085c2294e08row2_col1\" class=\"data row2 col1\" >0.6939</td>\n",
       "                        <td id=\"T_e4a031dc_d17c_11ec_b20e_7085c2294e08row2_col2\" class=\"data row2 col2\" >0.1429</td>\n",
       "                        <td id=\"T_e4a031dc_d17c_11ec_b20e_7085c2294e08row2_col3\" class=\"data row2 col3\" >0.3333</td>\n",
       "                        <td id=\"T_e4a031dc_d17c_11ec_b20e_7085c2294e08row2_col4\" class=\"data row2 col4\" >0.2000</td>\n",
       "                        <td id=\"T_e4a031dc_d17c_11ec_b20e_7085c2294e08row2_col5\" class=\"data row2 col5\" >0.0588</td>\n",
       "                        <td id=\"T_e4a031dc_d17c_11ec_b20e_7085c2294e08row2_col6\" class=\"data row2 col6\" >0.0667</td>\n",
       "            </tr>\n",
       "            <tr>\n",
       "                        <th id=\"T_e4a031dc_d17c_11ec_b20e_7085c2294e08level0_row3\" class=\"row_heading level0 row3\" >3</th>\n",
       "                        <td id=\"T_e4a031dc_d17c_11ec_b20e_7085c2294e08row3_col0\" class=\"data row3 col0\" >0.7857</td>\n",
       "                        <td id=\"T_e4a031dc_d17c_11ec_b20e_7085c2294e08row3_col1\" class=\"data row3 col1\" >0.6439</td>\n",
       "                        <td id=\"T_e4a031dc_d17c_11ec_b20e_7085c2294e08row3_col2\" class=\"data row3 col2\" >0.0000</td>\n",
       "                        <td id=\"T_e4a031dc_d17c_11ec_b20e_7085c2294e08row3_col3\" class=\"data row3 col3\" >0.0000</td>\n",
       "                        <td id=\"T_e4a031dc_d17c_11ec_b20e_7085c2294e08row3_col4\" class=\"data row3 col4\" >0.0000</td>\n",
       "                        <td id=\"T_e4a031dc_d17c_11ec_b20e_7085c2294e08row3_col5\" class=\"data row3 col5\" >0.0000</td>\n",
       "                        <td id=\"T_e4a031dc_d17c_11ec_b20e_7085c2294e08row3_col6\" class=\"data row3 col6\" >0.0000</td>\n",
       "            </tr>\n",
       "            <tr>\n",
       "                        <th id=\"T_e4a031dc_d17c_11ec_b20e_7085c2294e08level0_row4\" class=\"row_heading level0 row4\" >4</th>\n",
       "                        <td id=\"T_e4a031dc_d17c_11ec_b20e_7085c2294e08row4_col0\" class=\"data row4 col0\" >0.7857</td>\n",
       "                        <td id=\"T_e4a031dc_d17c_11ec_b20e_7085c2294e08row4_col1\" class=\"data row4 col1\" >0.6894</td>\n",
       "                        <td id=\"T_e4a031dc_d17c_11ec_b20e_7085c2294e08row4_col2\" class=\"data row4 col2\" >0.1667</td>\n",
       "                        <td id=\"T_e4a031dc_d17c_11ec_b20e_7085c2294e08row4_col3\" class=\"data row4 col3\" >0.5000</td>\n",
       "                        <td id=\"T_e4a031dc_d17c_11ec_b20e_7085c2294e08row4_col4\" class=\"data row4 col4\" >0.2500</td>\n",
       "                        <td id=\"T_e4a031dc_d17c_11ec_b20e_7085c2294e08row4_col5\" class=\"data row4 col5\" >0.1600</td>\n",
       "                        <td id=\"T_e4a031dc_d17c_11ec_b20e_7085c2294e08row4_col6\" class=\"data row4 col6\" >0.1931</td>\n",
       "            </tr>\n",
       "            <tr>\n",
       "                        <th id=\"T_e4a031dc_d17c_11ec_b20e_7085c2294e08level0_row5\" class=\"row_heading level0 row5\" >5</th>\n",
       "                        <td id=\"T_e4a031dc_d17c_11ec_b20e_7085c2294e08row5_col0\" class=\"data row5 col0\" >0.8214</td>\n",
       "                        <td id=\"T_e4a031dc_d17c_11ec_b20e_7085c2294e08row5_col1\" class=\"data row5 col1\" >0.7803</td>\n",
       "                        <td id=\"T_e4a031dc_d17c_11ec_b20e_7085c2294e08row5_col2\" class=\"data row5 col2\" >0.1667</td>\n",
       "                        <td id=\"T_e4a031dc_d17c_11ec_b20e_7085c2294e08row5_col3\" class=\"data row5 col3\" >1.0000</td>\n",
       "                        <td id=\"T_e4a031dc_d17c_11ec_b20e_7085c2294e08row5_col4\" class=\"data row5 col4\" >0.2857</td>\n",
       "                        <td id=\"T_e4a031dc_d17c_11ec_b20e_7085c2294e08row5_col5\" class=\"data row5 col5\" >0.2391</td>\n",
       "                        <td id=\"T_e4a031dc_d17c_11ec_b20e_7085c2294e08row5_col6\" class=\"data row5 col6\" >0.3685</td>\n",
       "            </tr>\n",
       "            <tr>\n",
       "                        <th id=\"T_e4a031dc_d17c_11ec_b20e_7085c2294e08level0_row6\" class=\"row_heading level0 row6\" >6</th>\n",
       "                        <td id=\"T_e4a031dc_d17c_11ec_b20e_7085c2294e08row6_col0\" class=\"data row6 col0\" >0.7500</td>\n",
       "                        <td id=\"T_e4a031dc_d17c_11ec_b20e_7085c2294e08row6_col1\" class=\"data row6 col1\" >0.8712</td>\n",
       "                        <td id=\"T_e4a031dc_d17c_11ec_b20e_7085c2294e08row6_col2\" class=\"data row6 col2\" >0.0000</td>\n",
       "                        <td id=\"T_e4a031dc_d17c_11ec_b20e_7085c2294e08row6_col3\" class=\"data row6 col3\" >0.0000</td>\n",
       "                        <td id=\"T_e4a031dc_d17c_11ec_b20e_7085c2294e08row6_col4\" class=\"data row6 col4\" >0.0000</td>\n",
       "                        <td id=\"T_e4a031dc_d17c_11ec_b20e_7085c2294e08row6_col5\" class=\"data row6 col5\" >-0.0652</td>\n",
       "                        <td id=\"T_e4a031dc_d17c_11ec_b20e_7085c2294e08row6_col6\" class=\"data row6 col6\" >-0.1005</td>\n",
       "            </tr>\n",
       "            <tr>\n",
       "                        <th id=\"T_e4a031dc_d17c_11ec_b20e_7085c2294e08level0_row7\" class=\"row_heading level0 row7\" >7</th>\n",
       "                        <td id=\"T_e4a031dc_d17c_11ec_b20e_7085c2294e08row7_col0\" class=\"data row7 col0\" >0.8214</td>\n",
       "                        <td id=\"T_e4a031dc_d17c_11ec_b20e_7085c2294e08row7_col1\" class=\"data row7 col1\" >0.5076</td>\n",
       "                        <td id=\"T_e4a031dc_d17c_11ec_b20e_7085c2294e08row7_col2\" class=\"data row7 col2\" >0.1667</td>\n",
       "                        <td id=\"T_e4a031dc_d17c_11ec_b20e_7085c2294e08row7_col3\" class=\"data row7 col3\" >1.0000</td>\n",
       "                        <td id=\"T_e4a031dc_d17c_11ec_b20e_7085c2294e08row7_col4\" class=\"data row7 col4\" >0.2857</td>\n",
       "                        <td id=\"T_e4a031dc_d17c_11ec_b20e_7085c2294e08row7_col5\" class=\"data row7 col5\" >0.2391</td>\n",
       "                        <td id=\"T_e4a031dc_d17c_11ec_b20e_7085c2294e08row7_col6\" class=\"data row7 col6\" >0.3685</td>\n",
       "            </tr>\n",
       "            <tr>\n",
       "                        <th id=\"T_e4a031dc_d17c_11ec_b20e_7085c2294e08level0_row8\" class=\"row_heading level0 row8\" >8</th>\n",
       "                        <td id=\"T_e4a031dc_d17c_11ec_b20e_7085c2294e08row8_col0\" class=\"data row8 col0\" >0.8571</td>\n",
       "                        <td id=\"T_e4a031dc_d17c_11ec_b20e_7085c2294e08row8_col1\" class=\"data row8 col1\" >0.6061</td>\n",
       "                        <td id=\"T_e4a031dc_d17c_11ec_b20e_7085c2294e08row8_col2\" class=\"data row8 col2\" >0.3333</td>\n",
       "                        <td id=\"T_e4a031dc_d17c_11ec_b20e_7085c2294e08row8_col3\" class=\"data row8 col3\" >1.0000</td>\n",
       "                        <td id=\"T_e4a031dc_d17c_11ec_b20e_7085c2294e08row8_col4\" class=\"data row8 col4\" >0.5000</td>\n",
       "                        <td id=\"T_e4a031dc_d17c_11ec_b20e_7085c2294e08row8_col5\" class=\"data row8 col5\" >0.4400</td>\n",
       "                        <td id=\"T_e4a031dc_d17c_11ec_b20e_7085c2294e08row8_col6\" class=\"data row8 col6\" >0.5311</td>\n",
       "            </tr>\n",
       "            <tr>\n",
       "                        <th id=\"T_e4a031dc_d17c_11ec_b20e_7085c2294e08level0_row9\" class=\"row_heading level0 row9\" >9</th>\n",
       "                        <td id=\"T_e4a031dc_d17c_11ec_b20e_7085c2294e08row9_col0\" class=\"data row9 col0\" >0.8571</td>\n",
       "                        <td id=\"T_e4a031dc_d17c_11ec_b20e_7085c2294e08row9_col1\" class=\"data row9 col1\" >0.7727</td>\n",
       "                        <td id=\"T_e4a031dc_d17c_11ec_b20e_7085c2294e08row9_col2\" class=\"data row9 col2\" >0.3333</td>\n",
       "                        <td id=\"T_e4a031dc_d17c_11ec_b20e_7085c2294e08row9_col3\" class=\"data row9 col3\" >1.0000</td>\n",
       "                        <td id=\"T_e4a031dc_d17c_11ec_b20e_7085c2294e08row9_col4\" class=\"data row9 col4\" >0.5000</td>\n",
       "                        <td id=\"T_e4a031dc_d17c_11ec_b20e_7085c2294e08row9_col5\" class=\"data row9 col5\" >0.4400</td>\n",
       "                        <td id=\"T_e4a031dc_d17c_11ec_b20e_7085c2294e08row9_col6\" class=\"data row9 col6\" >0.5311</td>\n",
       "            </tr>\n",
       "            <tr>\n",
       "                        <th id=\"T_e4a031dc_d17c_11ec_b20e_7085c2294e08level0_row10\" class=\"row_heading level0 row10\" >Mean</th>\n",
       "                        <td id=\"T_e4a031dc_d17c_11ec_b20e_7085c2294e08row10_col0\" class=\"data row10 col0\" >0.7831</td>\n",
       "                        <td id=\"T_e4a031dc_d17c_11ec_b20e_7085c2294e08row10_col1\" class=\"data row10 col1\" >0.7067</td>\n",
       "                        <td id=\"T_e4a031dc_d17c_11ec_b20e_7085c2294e08row10_col2\" class=\"data row10 col2\" >0.1310</td>\n",
       "                        <td id=\"T_e4a031dc_d17c_11ec_b20e_7085c2294e08row10_col3\" class=\"data row10 col3\" >0.4833</td>\n",
       "                        <td id=\"T_e4a031dc_d17c_11ec_b20e_7085c2294e08row10_col4\" class=\"data row10 col4\" >0.2021</td>\n",
       "                        <td id=\"T_e4a031dc_d17c_11ec_b20e_7085c2294e08row10_col5\" class=\"data row10 col5\" >0.1381</td>\n",
       "                        <td id=\"T_e4a031dc_d17c_11ec_b20e_7085c2294e08row10_col6\" class=\"data row10 col6\" >0.1741</td>\n",
       "            </tr>\n",
       "            <tr>\n",
       "                        <th id=\"T_e4a031dc_d17c_11ec_b20e_7085c2294e08level0_row11\" class=\"row_heading level0 row11\" >SD</th>\n",
       "                        <td id=\"T_e4a031dc_d17c_11ec_b20e_7085c2294e08row11_col0\" class=\"data row11 col0\" >0.0529</td>\n",
       "                        <td id=\"T_e4a031dc_d17c_11ec_b20e_7085c2294e08row11_col1\" class=\"data row11 col1\" >0.0974</td>\n",
       "                        <td id=\"T_e4a031dc_d17c_11ec_b20e_7085c2294e08row11_col2\" class=\"data row11 col2\" >0.1243</td>\n",
       "                        <td id=\"T_e4a031dc_d17c_11ec_b20e_7085c2294e08row11_col3\" class=\"data row11 col3\" >0.4500</td>\n",
       "                        <td id=\"T_e4a031dc_d17c_11ec_b20e_7085c2294e08row11_col4\" class=\"data row11 col4\" >0.1890</td>\n",
       "                        <td id=\"T_e4a031dc_d17c_11ec_b20e_7085c2294e08row11_col5\" class=\"data row11 col5\" >0.1878</td>\n",
       "                        <td id=\"T_e4a031dc_d17c_11ec_b20e_7085c2294e08row11_col6\" class=\"data row11 col6\" >0.2466</td>\n",
       "            </tr>\n",
       "    </tbody></table>"
      ],
      "text/plain": [
       "<pandas.io.formats.style.Styler at 0x28081a7eee0>"
      ]
     },
     "metadata": {},
     "output_type": "display_data"
    }
   ],
   "source": [
    "blender_top5 = blend_models(estimator_list=tuned_top5) #보팅(voting)해줌"
   ]
  },
  {
   "cell_type": "code",
   "execution_count": 368,
   "metadata": {
    "scrolled": true
   },
   "outputs": [],
   "source": [
    "final_model = finalize_model(blender_top5)\n",
    "prediction = predict_model(final_model, data=test)"
   ]
  },
  {
   "cell_type": "code",
   "execution_count": 369,
   "metadata": {},
   "outputs": [],
   "source": [
    "prediction['Target'] = prediction['Target'].astype(int)\n",
    "prediction['Label'] = prediction['Label'].astype(float)\n",
    "prediction['Label'] = prediction['Label'].astype(int)"
   ]
  },
  {
   "cell_type": "code",
   "execution_count": 370,
   "metadata": {},
   "outputs": [
    {
     "data": {
      "text/plain": [
       "0.7514"
      ]
     },
     "execution_count": 370,
     "metadata": {},
     "output_type": "execute_result"
    }
   ],
   "source": [
    "from pycaret.utils import check_metric\n",
    "check_metric(prediction['Target'], prediction['Label'], metric = 'Accuracy') \n",
    "\n",
    "#10개 폴드, sort = F1 기준으로 했을 때,제일 좋은 결과가 나옴 \n",
    "# = 정확도 0.7977, F1score 0.4775\n",
    "\n",
    "# 0.763"
   ]
  },
  {
   "cell_type": "code",
   "execution_count": 371,
   "metadata": {
    "scrolled": true
   },
   "outputs": [
    {
     "data": {
      "text/plain": [
       "0.2712"
      ]
     },
     "execution_count": 371,
     "metadata": {},
     "output_type": "execute_result"
    }
   ],
   "source": [
    "# F1score\n",
    "check_metric(prediction['Target'], prediction['Label'], metric = 'F1') #0.3051"
   ]
  },
  {
   "cell_type": "code",
   "execution_count": 372,
   "metadata": {
    "scrolled": true
   },
   "outputs": [],
   "source": [
    "from sklearn.metrics import accuracy_score\n",
    "from sklearn.metrics import f1_score\n",
    "\n",
    "from sklearn.model_selection import KFold\n",
    "kf = KFold(n_splits =  10, shuffle = True, random_state = 100) # fold 10번하기\n",
    "\n",
    "acc_list = []\n",
    "py_pred = np.zeros((y_test.shape[0]))\n",
    "for tr_idx, val_idx in kf.split(X_train, y_train) :\n",
    "    tr_x, tr_y = X_train.iloc[tr_idx], y_train.iloc[tr_idx]\n",
    "    val_x, val_y = X_train.iloc[val_idx], y_train.iloc[val_idx]\n",
    "    \n",
    "    final_model.fit(tr_x, tr_y)\n",
    "    \n",
    "    pred = final_model.predict(val_x)\n",
    "    sub_pred = final_model.predict(X_test)\n",
    "    acc = accuracy_score(val_y, pred)\n",
    "    \n",
    "    acc_list.append(acc)\n",
    "    \n",
    "    py_pred += (sub_pred / 10)"
   ]
  },
  {
   "cell_type": "code",
   "execution_count": 373,
   "metadata": {
    "scrolled": true
   },
   "outputs": [
    {
     "name": "stdout",
     "output_type": "stream",
     "text": [
      "acc 평균: 0.7835365853658537\n",
      "acc: 0.7456647398843931\n",
      "f1 score 0.26666666666666666\n"
     ]
    }
   ],
   "source": [
    "print('acc 평균:', np.mean(acc_list)) #0.771\n",
    "print('acc:',accuracy_score(np.round(py_pred), y_test)) #0.7976, 0.8034\n",
    "print('f1 score', f1_score(np.round(py_pred), y_test)) #0.5205, 0.5277"
   ]
  },
  {
   "cell_type": "markdown",
   "metadata": {},
   "source": [
    "                              정확도    F1 score\n",
    "정규화하기 전\n",
    "- 모든 피처 9개(screen수, act_n, genre, director, distributor, 네이버_movie_buzz, 구글_movie_buzz, star_buzz, 네이버_기대지수) \n",
    "  - 0.7746, 0.4935 -0.803, 0.5277\n",
    "  \n",
    "- Screen수 뺀, 피처 8개(act_n, genre, director, distributor, 네이버_movie_buzz, 구글_movie_buzz, star_buzz, 네이버_기대지수)       \n",
    "  - 0.7803, 0.4412 -0.7687, 0.3548\n",
    "  \n",
    "- act_n 뺀, 피처 8개(screen수, genre, director, distributor, 네이버_movie_buzz, 구글_movie_buzz, star_buzz, 네이버_기대지수)       \n",
    "  - 0.\n",
    "- distributor(배급사) 뺀, 피처 8개(screen수, act_n, genre, director, 네이버_movie_buzz, 구글_movie_buzz, star_buzz, 네이버_기대지수) \n",
    "\n",
    "\n",
    "- genre 뺀, 피처 8개(screen수, act_n, distributor, director, 네이버_movie_buzz, 구글_movie_buzz, star_buzz, 네이버_기대지수) \n",
    "\n",
    "  \n",
    "정규화 한 후\n",
    "- 모든 피처 9개(screen수, act_n, genre, director, distributor, 네이버_movie_buzz, 구글_movie_buzz, star_buzz, 네이버_기대지수) \n",
    "\n",
    "  \n",
    "- Screen수 뺀, 피처 8개(act_n, genre, director, distributor, 네이버_movie_buzz, 구글_movie_buzz, star_buzz, 네이버_기대지수) \n",
    "\n",
    "\n",
    "- act_n 뺀, 피처 8개(screen수, genre, director, distributor, 네이버_movie_buzz, 구글_movie_buzz, star_buzz, 네이버_기대지수) \n",
    "  - \n",
    "  \n",
    "- distributor(배급사) 뺀, 피처 8개(screen수, act_n, genre, director, 네이버_movie_buzz, 구글_movie_buzz, star_buzz, 네이버_기대지수) \n",
    "\n",
    "  \n",
    "- genre 뺀, 피처 8개(screen수, act_n, distributor, director, 네이버_movie_buzz, 구글_movie_buzz, star_buzz, 네이버_기대지수) \n"
   ]
  },
  {
   "cell_type": "code",
   "execution_count": null,
   "metadata": {},
   "outputs": [],
   "source": []
  },
  {
   "cell_type": "code",
   "execution_count": null,
   "metadata": {},
   "outputs": [],
   "source": []
  },
  {
   "cell_type": "markdown",
   "metadata": {},
   "source": [
    "                              정확도    F1 score\n",
    "정규화하기 전\n",
    "- 모든 피처 9개(screen수, act_n, genre, director, distributor, 네이버_movie_buzz, 구글_movie_buzz, star_buzz, 네이버_기대지수) \n",
    "  - fold-5, 상위 5개 모델(5개 이상, 이하가 같은 결과가 나오거나 낮음) -0.7919, 0.4857 -0.7745, 0.4507 - 제일 좋은 성적\n",
    "  - fold-10, 상위 5개 모델 - 0.7803, 0.4412 -0.7572, 0.3437 \n",
    "  \n",
    "- Screen수 뺀, 피처 8개(act_n, genre, director, distributor, 네이버_movie_buzz, 구글_movie_buzz, star_buzz, 네이버_기대지수)       \n",
    "  - fold-5, 상위 4개 모델 - 0.7572, 0.3 -0.7919, 0.4375    - 정확도 제일 좋은 성적\n",
    "  - fold-5, 상위 5개 모델 - 0.7572, 0.2759 -0.7630, 0.3050  \n",
    "  - fold-10,상위 4개 모델 - 0.7688, 0.2857 -0.7803 0.3448\n",
    "  - fold-10,상위 5개 모델 - 0.7746, 0.4179 -0.7803, 0.4411 - F1 제일 좋은 성적\n",
    "               \n",
    "- act_n 뺀, 피처 8개(screen수, genre, director, distributor, 네이버_movie_buzz, 구글_movie_buzz, star_buzz, 네이버_기대지수)       \n",
    "  - fold-5, 상위 4개 모델 - 0.7919, 0.4545 -0.7919, 0.4545\n",
    "  - fold-5, 상위 5개 모델 - 0.7919, 0.4545 -0.7919, 0.4545 - 제일 좋은 성적\n",
    "  - fold-10,상위 4개 모델 - 0.7688, 0.375  -0.7745, 0.3809\n",
    "  - fold-10,상위 5개 모델 - 0.803,  0.4688 -0.7919, 0.4193 \n",
    "\n",
    "- distributor(배급사) 뺀, 피처 8개(screen수, act_n, genre, director, 네이버_movie_buzz, 구글_movie_buzz, star_buzz, 네이버_기대지수) \n",
    "  - fold-5, 상위 4개 모델 - 0.7688, 0.333 -0.7687, 0.3103\n",
    "  - fold-5, 상위 5개 모델 - 0.7688, 0.333 -0.7687, 0.3103\n",
    "  - fold-10,상위 4개 모델 - 0.7861, 0.4127 -0.7919, 0.4375\n",
    "  - fold-10,상위 5개 모델 - 0.7977, 0.4776, -0.7919, 0.4545 - 제일 좋은 성적\n",
    "\n",
    "- genre 뺀, 피처 8개(screen수, act_n, distributor, director, 네이버_movie_buzz, 구글_movie_buzz, star_buzz, 네이버_기대지수) \n",
    "  - fold-5, 상위 4개 모델 \n",
    "  - fold-5, 상위 5개 모델\n",
    "  - fold-10,상위 4개 모델\n",
    "  - fold-10,상위 5개 모델\n",
    "  \n",
    "정규화 한 후\n",
    "- 모든 피처 9개(screen수, act_n, genre, director, distributor, 네이버_movie_buzz, 구글_movie_buzz, star_buzz, 네이버_기대지수) \n",
    "  - fold-4,상위 4개 모델 - 0.7977, 0.4776 -0.7976, 0.4761 - 제일 좋은 성적\n",
    "  - fold-5,상위 5개 모델 - 0.7919, 0.4545, 0.7861, 0.4477\n",
    "  - fold-10,상위 5개 모델 - 0.7803, 0.4412, 0.7861, 0.4637 \n",
    "  \n",
    "- Screen수 뺀, 피처 8개(act_n, genre, director, distributor, 네이버_movie_buzz, 구글_movie_buzz, star_buzz, 네이버_기대지수) \n",
    "  - fold-5, 상위 4개 모델 - 0.7746, 0.4935 -0.7630, 0.4383\n",
    "  - fold-5, 상위 5개 모델 - 0.7746, 0.48   -0.7811, 0.5\n",
    "  - fold-10,상위 4개 모델 - 0.7688, 0.444  -0.7687, 0.4285\n",
    "  - fold-10,상위 5개 모델 - 0.7861, 0.4789 -0.7919, 0.5    - 제일 좋은 성적\n",
    "\n",
    "- act_n 뺀, 피처 8개(screen수, genre, director, distributor, 네이버_movie_buzz, 구글_movie_buzz, star_buzz, 네이버_기대지수) \n",
    "  - fold-5, 상위 4개 모델 - 0.7803, 0.4571 -0.7803, 0.4571\n",
    "  - fold-5, 상위 5개 모델 - 0.7919, 0.4706 -0.7803, 0.4411\n",
    "  - fold-10,상위 4개 모델 - 0.7746, 0.4935 -0.7803, 0.4864\n",
    "  - fold-10,상위 5개 모델 - 0.7746, 0.48   -0.7861, 0.4931 - 제일 좋은 성적\n",
    "  \n",
    "- distributor(배급사) 뺀, 피처 8개(screen수, act_n, genre, director, 네이버_movie_buzz, 구글_movie_buzz, star_buzz, 네이버_기대지수) \n",
    "  - fold-5, 상위 4개 모델 - 0.7803, 0.3871 -0.7803, 0.3871\n",
    "  - fold-5, 상위 5개 모델 - 0.7919, 0.4545 -0.7976, 0.4615\n",
    "  - fold-10,상위 4개 모델 - 0.7917, 0.4706 -0.7976, 0.4776 - 제일 좋은 성적\n",
    "  - fold-10,상위 5개 모델 - 0.7977, 0.4776 -0.7919, 0.4545\n",
    "  \n",
    "- genre 뺀, 피처 8개(screen수, act_n, distributor, director, 네이버_movie_buzz, 구글_movie_buzz, star_buzz, 네이버_기대지수) \n",
    "  - fold-5, 상위 4개 모델 \n",
    "  - fold-5, 상위 5개 모델\n",
    "  - fold-10,상위 4개 모델\n",
    "  - fold-10,상위 5개 모델\n",
    "  "
   ]
  },
  {
   "cell_type": "markdown",
   "metadata": {},
   "source": [
    "결론\n",
    "- 정규화한 데이터가 대체적으로 조금 더 좋은 결과가 나옴\n",
    "- fold 수는 그때 그때 5번 접는게 더 좋을 때가 있고 10번 접는게 더 좋은 결과가 나올 때가 있기 때문에 각각 해봐야 함\n",
    "- compare_models(), sort는 accuracy순으로 하는 것 보다 f1 순위로 하는게 더 좋은 결과가 나옴\n",
    "- tune_model() 모델 튜닝 할 때는 상위 4개 혹은 5개가 가장 좋은 결과를 가져옴\n",
    "- 제일 잘 나온 모델은 "
   ]
  },
  {
   "cell_type": "code",
   "execution_count": null,
   "metadata": {},
   "outputs": [],
   "source": []
  },
  {
   "cell_type": "markdown",
   "metadata": {},
   "source": [
    "## K-fold한 것 보팅"
   ]
  },
  {
   "cell_type": "code",
   "execution_count": 223,
   "metadata": {},
   "outputs": [],
   "source": [
    "a = (rc_pred+lr_pred+lda_pred)/3 # 상위 폴드한 예측값들을 더해서 그 개수만큼 나눠줌(보팅?)"
   ]
  },
  {
   "cell_type": "code",
   "execution_count": 374,
   "metadata": {},
   "outputs": [],
   "source": [
    "a = (rc_pred+lr_pred+lda_pred+py_pred)/4"
   ]
  },
  {
   "cell_type": "code",
   "execution_count": 375,
   "metadata": {},
   "outputs": [
    {
     "data": {
      "text/plain": [
       "0.7976878612716763"
      ]
     },
     "execution_count": 375,
     "metadata": {},
     "output_type": "execute_result"
    }
   ],
   "source": [
    "accuracy_score(np.round(a),y_test) # 그거에 대한 정확도 확인"
   ]
  },
  {
   "cell_type": "code",
   "execution_count": 376,
   "metadata": {},
   "outputs": [
    {
     "data": {
      "text/plain": [
       "0.46153846153846156"
      ]
     },
     "execution_count": 376,
     "metadata": {},
     "output_type": "execute_result"
    }
   ],
   "source": [
    "from sklearn.metrics import f1_score\n",
    "\n",
    "f1_score(np.round(a), y_test)"
   ]
  },
  {
   "cell_type": "code",
   "execution_count": null,
   "metadata": {},
   "outputs": [],
   "source": []
  },
  {
   "cell_type": "markdown",
   "metadata": {},
   "source": [
    "정규화 전\n",
    "rc_pred+lr_pred+lda_pred\n",
    "- 모든 피처 0.8034, 0.4848\n",
    "- screen 제외 0.7745, 0.4179\n",
    "- act_n 제외 0.7919, 0.4375\n",
    "- genre 제외 0.7745, 0.4347\n",
    "- direct 제외 0.7745, 0.48\n",
    "- dist 제외 0.7745, 0.3999\n",
    "- 네이버 기대지수 제외 0.7803, 0.4242\n",
    "\n",
    "rc_pred+lr_pred+lda_pred+py_pred\n",
    "- 모든 피처 0.8034, 0.4848\n",
    "- screen 제외 0.7745, 0.4179\n",
    "- act_n 제외 0.7976, 0.4615\n",
    "- genre 제외 0.7687, 0.3933\n",
    "- direct 제외 0.7630, 0.4383\n",
    "- dist 제외 0.7745, 0.3999\n",
    "- 네이버 기대지수 제외 0.7803, 0.4242\n",
    "- star buzz 제외 0.7803, 0.4242\n",
    "- 네이버 movie buzz 제외 0.7630, 0.2807\n",
    "- 구글 트렌드 제외 0.7803, 0.4242\n",
    "\n",
    "정규화 후\n",
    "rc_pred+lr_pred+lda_pred\n",
    "- 모든 피처 - 0.8034, 0.4848\n",
    "- screen 제외 - 0.7803, 0.4242\n",
    "- act_n 제외 - 0.7919, 0.4375 \n",
    "- 배급사 제외 - 0.7803, 0.4062\n",
    "- 장르 제외 - 0.7745, 0.4179\n",
    "- 감독 제외 - 0.7630, 0.4383\n",
    "- 네이버 기대지수 - 0.7803, 0.4242\n",
    "- star_buzz - 0.7861, 0.4307\n",
    "- 네이버 movie buzz - 0.7745, 0.3606\n",
    "- google_trend - 0.7803, 0.4242\n",
    "rc_pred+lr_pred+lda_pred+py_pred\n",
    "- 모든 피처 - 0.8092, 0.5074\n",
    "- screen 제외 - 0.7861, 0.4307\n",
    "- act_n 제외 - 0.7919, 0.4375 "
   ]
  },
  {
   "cell_type": "markdown",
   "metadata": {},
   "source": [
    "## 보팅"
   ]
  },
  {
   "cell_type": "code",
   "execution_count": 33,
   "metadata": {},
   "outputs": [],
   "source": [
    "from sklearn.ensemble import VotingClassifier"
   ]
  },
  {
   "cell_type": "code",
   "execution_count": 229,
   "metadata": {},
   "outputs": [],
   "source": [
    "vo_clf = VotingClassifier(estimators=[('LR',lr),('LD',lda),('Py',final_model)], voting='soft')"
   ]
  },
  {
   "cell_type": "code",
   "execution_count": 230,
   "metadata": {
    "scrolled": true
   },
   "outputs": [
    {
     "name": "stdout",
     "output_type": "stream",
     "text": [
      "Voting 분류기 정확도 0.7687861271676301\n",
      "f1 0.411764705882353\n"
     ]
    }
   ],
   "source": [
    "vo_clf.fit(X_train, y_train)\n",
    "pred = vo_clf.predict(X_test)\n",
    "print(\"Voting 분류기 정확도\", accuracy_score(y_test, pred))\n",
    "print('f1',f1_score(y_test, pred))\n",
    "# 0.7745모든 피처\n",
    "# 0.7976 act_n 뺏을 때(soft), 0.7803(hard)\n",
    "# 0.7745 dist_rank 뺏을 경우\n",
    "# 0.7745 genre_rank 뺏을 경우\n",
    "# 0.7572 기대지수 뺏을 경우\n",
    "# 0.7687 star_buzz 뺏을 경우\n",
    "# 0.7398 move_buzz_naver 뺏을 경우\n",
    "# 0.7683 google_tren 뺏을 경우\n",
    "\n",
    "# 0.803, f1 0.4848, lr, ld, py"
   ]
  },
  {
   "cell_type": "code",
   "execution_count": 231,
   "metadata": {
    "scrolled": true
   },
   "outputs": [],
   "source": [
    "acc_list = []\n",
    "f1_list = []\n",
    "vo_pred = np.zeros((y_test.shape[0]))\n",
    "for tr_idx, val_idx in kf.split(X_train, y_train) :\n",
    "    tr_x, tr_y = X_train.iloc[tr_idx], y_train.iloc[tr_idx]\n",
    "    val_x, val_y = X_train.iloc[val_idx], y_train.iloc[val_idx]\n",
    "    \n",
    "    vo_clf.fit(tr_x, tr_y)\n",
    "    \n",
    "    pred = vo_clf.predict(val_x)\n",
    "    sub_pred = vo_clf.predict(X_test)\n",
    "    acc = accuracy_score(val_y, pred)\n",
    "    f1_list = f1_score(np.round(vo_pred), y_test)\n",
    "    acc_list.append(acc)\n",
    "    \n",
    "    vo_pred += (sub_pred / 10)"
   ]
  },
  {
   "cell_type": "code",
   "execution_count": 232,
   "metadata": {},
   "outputs": [
    {
     "data": {
      "text/plain": [
       "0.7985365853658537"
      ]
     },
     "execution_count": 232,
     "metadata": {},
     "output_type": "execute_result"
    }
   ],
   "source": [
    "np.mean(acc_list)"
   ]
  },
  {
   "cell_type": "code",
   "execution_count": 233,
   "metadata": {},
   "outputs": [
    {
     "data": {
      "text/plain": [
       "0.7803468208092486"
      ]
     },
     "execution_count": 233,
     "metadata": {},
     "output_type": "execute_result"
    }
   ],
   "source": [
    "accuracy_score(np.round(vo_pred), y_test)"
   ]
  },
  {
   "cell_type": "code",
   "execution_count": 234,
   "metadata": {},
   "outputs": [
    {
     "data": {
      "text/plain": [
       "0.42424242424242425"
      ]
     },
     "execution_count": 234,
     "metadata": {},
     "output_type": "execute_result"
    }
   ],
   "source": [
    "from sklearn.metrics import f1_score\n",
    "\n",
    "f1_score(np.round(vo_pred), y_test)"
   ]
  },
  {
   "cell_type": "markdown",
   "metadata": {},
   "source": [
    "                              정확도    F1 score\n",
    "정규화하기 전\n",
    "- 모든 피처 9개(screen수, act_n, genre, director, distributor, 네이버_movie_buzz, 구글_movie_buzz, star_buzz, 네이버_기대지수) \n",
    "  - 0.8034, 0.4848, 0.8034, 0.4848\n",
    "  \n",
    "- Screen수 뺀, 피처 8개(act_n, genre, director, distributor, 네이버_movie_buzz, 구글_movie_buzz, star_buzz, 네이버_기대지수)   - 0.763, 0.4057, 0.7803, 0.4242    \n",
    "\n",
    "- act_n 뺀, 피처 8개(screen수, genre, director, distributor, 네이버_movie_buzz, 구글_movie_buzz, star_buzz, 네이버_기대지수)   -  0.7976, 0.4615, 0.7919, 0.4545    \n",
    "\n",
    "\n",
    "- distributor(배급사) 뺀, 피처 8개(screen수, act_n, genre, director, 네이버_movie_buzz, 구글_movie_buzz, star_buzz, 네이버_기대지수) \n",
    " \n",
    " \n",
    "- genre 뺀, 피처 8개(screen수, act_n, distributor, director, 네이버_movie_buzz, 구글_movie_buzz, star_buzz, 네이버_기대지수) \n",
    "  -  0.7861, 0.4477, 0.7861, 0.4477\n",
    "- director 뺀, 피처 8개(screen수, act_n, distributor, director, 네이버_movie_buzz, 구글_movie_buzz, star_buzz, 네이버_기대지수)\n",
    "  - 0.7745, 0.4507, 0.7745, 0.4507\n",
    "\n",
    "정규화 한 후\n",
    "- 모든 피처 9개(screen수, act_n, genre, director, distributor, 네이버_movie_buzz, 구글_movie_buzz, star_buzz, 네이버_기대지수) \n",
    "\n",
    "  \n",
    "- Screen수 뺀, 피처 8개(act_n, genre, director, distributor, 네이버_movie_buzz, 구글_movie_buzz, star_buzz, 네이버_기대지수) \n",
    "\n",
    "\n",
    "- act_n 뺀, 피처 8개(screen수, genre, director, distributor, 네이버_movie_buzz, 구글_movie_buzz, star_buzz, 네이버_기대지수) \n",
    "  - 0.7919, 0.4375\n",
    "  \n",
    "- distributor(배급사) 뺀, 피처 8개(screen수, act_n, genre, director, 네이버_movie_buzz, 구글_movie_buzz, star_buzz, 네이버_기대지수) \n",
    "\n",
    "\n",
    "- genre 뺀, 피처 8개(screen수, act_n, distributor, director, 네이버_movie_buzz, 구글_movie_buzz, star_buzz, 네이버_기대지수) \n"
   ]
  }
 ],
 "metadata": {
  "kernelspec": {
   "display_name": "Python 3",
   "language": "python",
   "name": "python3"
  },
  "language_info": {
   "codemirror_mode": {
    "name": "ipython",
    "version": 3
   },
   "file_extension": ".py",
   "mimetype": "text/x-python",
   "name": "python",
   "nbconvert_exporter": "python",
   "pygments_lexer": "ipython3",
   "version": "3.8.5"
  },
  "toc": {
   "base_numbering": 1,
   "nav_menu": {},
   "number_sections": true,
   "sideBar": true,
   "skip_h1_title": false,
   "title_cell": "Table of Contents",
   "title_sidebar": "Contents",
   "toc_cell": false,
   "toc_position": {},
   "toc_section_display": true,
   "toc_window_display": false
  },
  "varInspector": {
   "cols": {
    "lenName": 16,
    "lenType": 16,
    "lenVar": 40
   },
   "kernels_config": {
    "python": {
     "delete_cmd_postfix": "",
     "delete_cmd_prefix": "del ",
     "library": "var_list.py",
     "varRefreshCmd": "print(var_dic_list())"
    },
    "r": {
     "delete_cmd_postfix": ") ",
     "delete_cmd_prefix": "rm(",
     "library": "var_list.r",
     "varRefreshCmd": "cat(var_dic_list()) "
    }
   },
   "types_to_exclude": [
    "module",
    "function",
    "builtin_function_or_method",
    "instance",
    "_Feature"
   ],
   "window_display": false
  }
 },
 "nbformat": 4,
 "nbformat_minor": 4
}
