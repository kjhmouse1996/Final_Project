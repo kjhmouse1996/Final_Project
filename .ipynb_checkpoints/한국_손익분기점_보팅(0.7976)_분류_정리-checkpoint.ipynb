{
 "cells": [
  {
   "cell_type": "markdown",
   "metadata": {},
   "source": [
    "# 모델링"
   ]
  },
  {
   "cell_type": "markdown",
   "metadata": {},
   "source": [
    "## train_test_split"
   ]
  },
  {
   "cell_type": "code",
   "execution_count": 113,
   "metadata": {},
   "outputs": [],
   "source": [
    "import pandas as pd\n",
    "df_fin = pd.read_csv('전처리_final.csv')"
   ]
  },
  {
   "cell_type": "code",
   "execution_count": 114,
   "metadata": {},
   "outputs": [],
   "source": [
    "#df_fin = pd.read_csv('전처리_screen_act있는.csv')"
   ]
  },
  {
   "cell_type": "code",
   "execution_count": 115,
   "metadata": {},
   "outputs": [
    {
     "data": {
      "text/html": [
       "<div>\n",
       "<style scoped>\n",
       "    .dataframe tbody tr th:only-of-type {\n",
       "        vertical-align: middle;\n",
       "    }\n",
       "\n",
       "    .dataframe tbody tr th {\n",
       "        vertical-align: top;\n",
       "    }\n",
       "\n",
       "    .dataframe thead th {\n",
       "        text-align: right;\n",
       "    }\n",
       "</style>\n",
       "<table border=\"1\" class=\"dataframe\">\n",
       "  <thead>\n",
       "    <tr style=\"text-align: right;\">\n",
       "      <th></th>\n",
       "      <th>dist_rank</th>\n",
       "      <th>genre_rank</th>\n",
       "      <th>direct_rank</th>\n",
       "      <th>네이버_기대지수</th>\n",
       "      <th>star_buzz</th>\n",
       "      <th>movie_buzz_naver</th>\n",
       "      <th>google_trend</th>\n",
       "      <th>Target</th>\n",
       "    </tr>\n",
       "  </thead>\n",
       "  <tbody>\n",
       "    <tr>\n",
       "      <th>0</th>\n",
       "      <td>4</td>\n",
       "      <td>5</td>\n",
       "      <td>67</td>\n",
       "      <td>1274.0</td>\n",
       "      <td>1629</td>\n",
       "      <td>22</td>\n",
       "      <td>773.0</td>\n",
       "      <td>0</td>\n",
       "    </tr>\n",
       "    <tr>\n",
       "      <th>1</th>\n",
       "      <td>8</td>\n",
       "      <td>13</td>\n",
       "      <td>67</td>\n",
       "      <td>3838.0</td>\n",
       "      <td>581</td>\n",
       "      <td>19</td>\n",
       "      <td>387.0</td>\n",
       "      <td>0</td>\n",
       "    </tr>\n",
       "    <tr>\n",
       "      <th>2</th>\n",
       "      <td>2</td>\n",
       "      <td>13</td>\n",
       "      <td>41</td>\n",
       "      <td>494.0</td>\n",
       "      <td>943</td>\n",
       "      <td>30</td>\n",
       "      <td>616.0</td>\n",
       "      <td>0</td>\n",
       "    </tr>\n",
       "    <tr>\n",
       "      <th>3</th>\n",
       "      <td>8</td>\n",
       "      <td>13</td>\n",
       "      <td>94</td>\n",
       "      <td>162.0</td>\n",
       "      <td>111</td>\n",
       "      <td>6</td>\n",
       "      <td>0.0</td>\n",
       "      <td>0</td>\n",
       "    </tr>\n",
       "    <tr>\n",
       "      <th>4</th>\n",
       "      <td>3</td>\n",
       "      <td>13</td>\n",
       "      <td>67</td>\n",
       "      <td>800.0</td>\n",
       "      <td>335</td>\n",
       "      <td>5</td>\n",
       "      <td>1674.0</td>\n",
       "      <td>0</td>\n",
       "    </tr>\n",
       "    <tr>\n",
       "      <th>...</th>\n",
       "      <td>...</td>\n",
       "      <td>...</td>\n",
       "      <td>...</td>\n",
       "      <td>...</td>\n",
       "      <td>...</td>\n",
       "      <td>...</td>\n",
       "      <td>...</td>\n",
       "      <td>...</td>\n",
       "    </tr>\n",
       "    <tr>\n",
       "      <th>570</th>\n",
       "      <td>3</td>\n",
       "      <td>13</td>\n",
       "      <td>5</td>\n",
       "      <td>13693.0</td>\n",
       "      <td>1987</td>\n",
       "      <td>219</td>\n",
       "      <td>947.0</td>\n",
       "      <td>1</td>\n",
       "    </tr>\n",
       "    <tr>\n",
       "      <th>571</th>\n",
       "      <td>2</td>\n",
       "      <td>13</td>\n",
       "      <td>72</td>\n",
       "      <td>10731.0</td>\n",
       "      <td>1196</td>\n",
       "      <td>124</td>\n",
       "      <td>886.0</td>\n",
       "      <td>0</td>\n",
       "    </tr>\n",
       "    <tr>\n",
       "      <th>572</th>\n",
       "      <td>4</td>\n",
       "      <td>1</td>\n",
       "      <td>5</td>\n",
       "      <td>4941.0</td>\n",
       "      <td>1413</td>\n",
       "      <td>379</td>\n",
       "      <td>0.0</td>\n",
       "      <td>1</td>\n",
       "    </tr>\n",
       "    <tr>\n",
       "      <th>573</th>\n",
       "      <td>7</td>\n",
       "      <td>8</td>\n",
       "      <td>100</td>\n",
       "      <td>247.0</td>\n",
       "      <td>147</td>\n",
       "      <td>25</td>\n",
       "      <td>459.0</td>\n",
       "      <td>0</td>\n",
       "    </tr>\n",
       "    <tr>\n",
       "      <th>574</th>\n",
       "      <td>3</td>\n",
       "      <td>13</td>\n",
       "      <td>67</td>\n",
       "      <td>13877.0</td>\n",
       "      <td>1830</td>\n",
       "      <td>61</td>\n",
       "      <td>2593.0</td>\n",
       "      <td>1</td>\n",
       "    </tr>\n",
       "  </tbody>\n",
       "</table>\n",
       "<p>575 rows × 8 columns</p>\n",
       "</div>"
      ],
      "text/plain": [
       "     dist_rank  genre_rank  direct_rank  네이버_기대지수  star_buzz  \\\n",
       "0            4           5           67    1274.0       1629   \n",
       "1            8          13           67    3838.0        581   \n",
       "2            2          13           41     494.0        943   \n",
       "3            8          13           94     162.0        111   \n",
       "4            3          13           67     800.0        335   \n",
       "..         ...         ...          ...       ...        ...   \n",
       "570          3          13            5   13693.0       1987   \n",
       "571          2          13           72   10731.0       1196   \n",
       "572          4           1            5    4941.0       1413   \n",
       "573          7           8          100     247.0        147   \n",
       "574          3          13           67   13877.0       1830   \n",
       "\n",
       "     movie_buzz_naver  google_trend  Target  \n",
       "0                  22         773.0       0  \n",
       "1                  19         387.0       0  \n",
       "2                  30         616.0       0  \n",
       "3                   6           0.0       0  \n",
       "4                   5        1674.0       0  \n",
       "..                ...           ...     ...  \n",
       "570               219         947.0       1  \n",
       "571               124         886.0       0  \n",
       "572               379           0.0       1  \n",
       "573                25         459.0       0  \n",
       "574                61        2593.0       1  \n",
       "\n",
       "[575 rows x 8 columns]"
      ]
     },
     "execution_count": 115,
     "metadata": {},
     "output_type": "execute_result"
    }
   ],
   "source": [
    "df_fin"
   ]
  },
  {
   "cell_type": "code",
   "execution_count": 116,
   "metadata": {},
   "outputs": [],
   "source": [
    "y = df_fin['Target']\n",
    "x = df_fin.drop('Target', axis=1)"
   ]
  },
  {
   "cell_type": "code",
   "execution_count": 117,
   "metadata": {},
   "outputs": [],
   "source": [
    "from sklearn.model_selection import train_test_split\n",
    "X_train, X_test, y_train, y_test = train_test_split(x, y, test_size=0.3, random_state=100)"
   ]
  },
  {
   "cell_type": "markdown",
   "metadata": {},
   "source": [
    "정규화 안하는게 더 좋은 결과를 낳음"
   ]
  },
  {
   "cell_type": "markdown",
   "metadata": {},
   "source": [
    "## 보팅(pycaret, logistic regression, linear discriminant, ridge classifier)\n",
    "accuracy - 정확도,\n",
    "f1 score - 모델 성능, 얼마나 잘 맞추는가\n",
    "이 모델들 외에도, knn, xgboost, ada boost,cat boost, random forest 등 많이 해봤지만 다 정확도와 f1 score가 낮게 나와서 뺌"
   ]
  },
  {
   "cell_type": "markdown",
   "metadata": {},
   "source": [
    "### logistic regression"
   ]
  },
  {
   "cell_type": "code",
   "execution_count": 118,
   "metadata": {},
   "outputs": [],
   "source": [
    "from sklearn.linear_model import LogisticRegression\n",
    "from sklearn.metrics import f1_score\n",
    "from sklearn.metrics import accuracy_score"
   ]
  },
  {
   "cell_type": "code",
   "execution_count": 119,
   "metadata": {
    "scrolled": true
   },
   "outputs": [
    {
     "name": "stdout",
     "output_type": "stream",
     "text": [
      "acc 0.791907514450867\n",
      "f1 0.4375\n"
     ]
    }
   ],
   "source": [
    "lr = LogisticRegression(penalty = 'l2', random_state=100)\n",
    "lr.fit(X_train, y_train)\n",
    "lr_pred1 = lr.predict(X_test)\n",
    "print('acc',accuracy_score(lr_pred1, y_test)) \n",
    "print('f1',f1_score(y_test, lr_pred1))"
   ]
  },
  {
   "cell_type": "markdown",
   "metadata": {},
   "source": [
    "### linear discriminant"
   ]
  },
  {
   "cell_type": "code",
   "execution_count": 120,
   "metadata": {},
   "outputs": [],
   "source": [
    "from sklearn.discriminant_analysis import LinearDiscriminantAnalysis"
   ]
  },
  {
   "cell_type": "code",
   "execution_count": 121,
   "metadata": {},
   "outputs": [
    {
     "name": "stdout",
     "output_type": "stream",
     "text": [
      "acc 0.791907514450867\n",
      "f1 0.4545454545454545\n"
     ]
    }
   ],
   "source": [
    "lda = LinearDiscriminantAnalysis(n_components=1)\n",
    "lda.fit(X_train, y_train)\n",
    "#lda.transform(X_train)\n",
    "lda_pred1 = lda.predict(X_test)\n",
    "print('acc', accuracy_score(lda_pred1, y_test))\n",
    "print('f1',f1_score(y_test, lda_pred1))"
   ]
  },
  {
   "cell_type": "markdown",
   "metadata": {},
   "source": [
    "### rigde classifier"
   ]
  },
  {
   "cell_type": "code",
   "execution_count": 122,
   "metadata": {},
   "outputs": [],
   "source": [
    "from sklearn.linear_model import RidgeClassifier"
   ]
  },
  {
   "cell_type": "code",
   "execution_count": 123,
   "metadata": {},
   "outputs": [
    {
     "name": "stdout",
     "output_type": "stream",
     "text": [
      "Accuracy: 0.791907514450867\n",
      "F1 score: 0.4375\n"
     ]
    }
   ],
   "source": [
    "rc = RidgeClassifier(random_state = 100)\n",
    "rc.fit(X_train, y_train)\n",
    "rc_pred1 = rc.predict(X_test)\n",
    "print(\"Accuracy:\",accuracy_score(y_test, rc_pred1))\n",
    "print(\"F1 score:\",f1_score(rc_pred1, y_test))\n",
    "# 좋은 결과가 나오지만 보팅에 넣을 수가 없음"
   ]
  },
  {
   "cell_type": "markdown",
   "metadata": {},
   "source": [
    "### pycaret"
   ]
  },
  {
   "cell_type": "code",
   "execution_count": 124,
   "metadata": {},
   "outputs": [],
   "source": [
    "from pycaret.classification import *\n",
    "from sklearn.model_selection import train_test_split\n",
    "train, test = train_test_split(df_fin, test_size=0.3, random_state=100)\n",
    "cat_features = ['genre_rank', 'direct_rank','dist_rank']  # 범주 변수들 설정해줌"
   ]
  },
  {
   "cell_type": "code",
   "execution_count": 125,
   "metadata": {
    "scrolled": true
   },
   "outputs": [
    {
     "data": {
      "text/html": [
       "<style  type=\"text/css\" >\n",
       "#T_ed122628_d272_11ec_9b78_7085c2294e08row44_col1{\n",
       "            background-color:  lightgreen;\n",
       "        }</style><table id=\"T_ed122628_d272_11ec_9b78_7085c2294e08\" ><thead>    <tr>        <th class=\"blank level0\" ></th>        <th class=\"col_heading level0 col0\" >Description</th>        <th class=\"col_heading level0 col1\" >Value</th>    </tr></thead><tbody>\n",
       "                <tr>\n",
       "                        <th id=\"T_ed122628_d272_11ec_9b78_7085c2294e08level0_row0\" class=\"row_heading level0 row0\" >0</th>\n",
       "                        <td id=\"T_ed122628_d272_11ec_9b78_7085c2294e08row0_col0\" class=\"data row0 col0\" >session_id</td>\n",
       "                        <td id=\"T_ed122628_d272_11ec_9b78_7085c2294e08row0_col1\" class=\"data row0 col1\" >4980</td>\n",
       "            </tr>\n",
       "            <tr>\n",
       "                        <th id=\"T_ed122628_d272_11ec_9b78_7085c2294e08level0_row1\" class=\"row_heading level0 row1\" >1</th>\n",
       "                        <td id=\"T_ed122628_d272_11ec_9b78_7085c2294e08row1_col0\" class=\"data row1 col0\" >Target</td>\n",
       "                        <td id=\"T_ed122628_d272_11ec_9b78_7085c2294e08row1_col1\" class=\"data row1 col1\" >Target</td>\n",
       "            </tr>\n",
       "            <tr>\n",
       "                        <th id=\"T_ed122628_d272_11ec_9b78_7085c2294e08level0_row2\" class=\"row_heading level0 row2\" >2</th>\n",
       "                        <td id=\"T_ed122628_d272_11ec_9b78_7085c2294e08row2_col0\" class=\"data row2 col0\" >Target Type</td>\n",
       "                        <td id=\"T_ed122628_d272_11ec_9b78_7085c2294e08row2_col1\" class=\"data row2 col1\" >Binary</td>\n",
       "            </tr>\n",
       "            <tr>\n",
       "                        <th id=\"T_ed122628_d272_11ec_9b78_7085c2294e08level0_row3\" class=\"row_heading level0 row3\" >3</th>\n",
       "                        <td id=\"T_ed122628_d272_11ec_9b78_7085c2294e08row3_col0\" class=\"data row3 col0\" >Label Encoded</td>\n",
       "                        <td id=\"T_ed122628_d272_11ec_9b78_7085c2294e08row3_col1\" class=\"data row3 col1\" >None</td>\n",
       "            </tr>\n",
       "            <tr>\n",
       "                        <th id=\"T_ed122628_d272_11ec_9b78_7085c2294e08level0_row4\" class=\"row_heading level0 row4\" >4</th>\n",
       "                        <td id=\"T_ed122628_d272_11ec_9b78_7085c2294e08row4_col0\" class=\"data row4 col0\" >Original Data</td>\n",
       "                        <td id=\"T_ed122628_d272_11ec_9b78_7085c2294e08row4_col1\" class=\"data row4 col1\" >(402, 8)</td>\n",
       "            </tr>\n",
       "            <tr>\n",
       "                        <th id=\"T_ed122628_d272_11ec_9b78_7085c2294e08level0_row5\" class=\"row_heading level0 row5\" >5</th>\n",
       "                        <td id=\"T_ed122628_d272_11ec_9b78_7085c2294e08row5_col0\" class=\"data row5 col0\" >Missing Values</td>\n",
       "                        <td id=\"T_ed122628_d272_11ec_9b78_7085c2294e08row5_col1\" class=\"data row5 col1\" >False</td>\n",
       "            </tr>\n",
       "            <tr>\n",
       "                        <th id=\"T_ed122628_d272_11ec_9b78_7085c2294e08level0_row6\" class=\"row_heading level0 row6\" >6</th>\n",
       "                        <td id=\"T_ed122628_d272_11ec_9b78_7085c2294e08row6_col0\" class=\"data row6 col0\" >Numeric Features</td>\n",
       "                        <td id=\"T_ed122628_d272_11ec_9b78_7085c2294e08row6_col1\" class=\"data row6 col1\" >4</td>\n",
       "            </tr>\n",
       "            <tr>\n",
       "                        <th id=\"T_ed122628_d272_11ec_9b78_7085c2294e08level0_row7\" class=\"row_heading level0 row7\" >7</th>\n",
       "                        <td id=\"T_ed122628_d272_11ec_9b78_7085c2294e08row7_col0\" class=\"data row7 col0\" >Categorical Features</td>\n",
       "                        <td id=\"T_ed122628_d272_11ec_9b78_7085c2294e08row7_col1\" class=\"data row7 col1\" >3</td>\n",
       "            </tr>\n",
       "            <tr>\n",
       "                        <th id=\"T_ed122628_d272_11ec_9b78_7085c2294e08level0_row8\" class=\"row_heading level0 row8\" >8</th>\n",
       "                        <td id=\"T_ed122628_d272_11ec_9b78_7085c2294e08row8_col0\" class=\"data row8 col0\" >Ordinal Features</td>\n",
       "                        <td id=\"T_ed122628_d272_11ec_9b78_7085c2294e08row8_col1\" class=\"data row8 col1\" >False</td>\n",
       "            </tr>\n",
       "            <tr>\n",
       "                        <th id=\"T_ed122628_d272_11ec_9b78_7085c2294e08level0_row9\" class=\"row_heading level0 row9\" >9</th>\n",
       "                        <td id=\"T_ed122628_d272_11ec_9b78_7085c2294e08row9_col0\" class=\"data row9 col0\" >High Cardinality Features</td>\n",
       "                        <td id=\"T_ed122628_d272_11ec_9b78_7085c2294e08row9_col1\" class=\"data row9 col1\" >False</td>\n",
       "            </tr>\n",
       "            <tr>\n",
       "                        <th id=\"T_ed122628_d272_11ec_9b78_7085c2294e08level0_row10\" class=\"row_heading level0 row10\" >10</th>\n",
       "                        <td id=\"T_ed122628_d272_11ec_9b78_7085c2294e08row10_col0\" class=\"data row10 col0\" >High Cardinality Method</td>\n",
       "                        <td id=\"T_ed122628_d272_11ec_9b78_7085c2294e08row10_col1\" class=\"data row10 col1\" >None</td>\n",
       "            </tr>\n",
       "            <tr>\n",
       "                        <th id=\"T_ed122628_d272_11ec_9b78_7085c2294e08level0_row11\" class=\"row_heading level0 row11\" >11</th>\n",
       "                        <td id=\"T_ed122628_d272_11ec_9b78_7085c2294e08row11_col0\" class=\"data row11 col0\" >Transformed Train Set</td>\n",
       "                        <td id=\"T_ed122628_d272_11ec_9b78_7085c2294e08row11_col1\" class=\"data row11 col1\" >(281, 111)</td>\n",
       "            </tr>\n",
       "            <tr>\n",
       "                        <th id=\"T_ed122628_d272_11ec_9b78_7085c2294e08level0_row12\" class=\"row_heading level0 row12\" >12</th>\n",
       "                        <td id=\"T_ed122628_d272_11ec_9b78_7085c2294e08row12_col0\" class=\"data row12 col0\" >Transformed Test Set</td>\n",
       "                        <td id=\"T_ed122628_d272_11ec_9b78_7085c2294e08row12_col1\" class=\"data row12 col1\" >(121, 111)</td>\n",
       "            </tr>\n",
       "            <tr>\n",
       "                        <th id=\"T_ed122628_d272_11ec_9b78_7085c2294e08level0_row13\" class=\"row_heading level0 row13\" >13</th>\n",
       "                        <td id=\"T_ed122628_d272_11ec_9b78_7085c2294e08row13_col0\" class=\"data row13 col0\" >Shuffle Train-Test</td>\n",
       "                        <td id=\"T_ed122628_d272_11ec_9b78_7085c2294e08row13_col1\" class=\"data row13 col1\" >True</td>\n",
       "            </tr>\n",
       "            <tr>\n",
       "                        <th id=\"T_ed122628_d272_11ec_9b78_7085c2294e08level0_row14\" class=\"row_heading level0 row14\" >14</th>\n",
       "                        <td id=\"T_ed122628_d272_11ec_9b78_7085c2294e08row14_col0\" class=\"data row14 col0\" >Stratify Train-Test</td>\n",
       "                        <td id=\"T_ed122628_d272_11ec_9b78_7085c2294e08row14_col1\" class=\"data row14 col1\" >False</td>\n",
       "            </tr>\n",
       "            <tr>\n",
       "                        <th id=\"T_ed122628_d272_11ec_9b78_7085c2294e08level0_row15\" class=\"row_heading level0 row15\" >15</th>\n",
       "                        <td id=\"T_ed122628_d272_11ec_9b78_7085c2294e08row15_col0\" class=\"data row15 col0\" >Fold Generator</td>\n",
       "                        <td id=\"T_ed122628_d272_11ec_9b78_7085c2294e08row15_col1\" class=\"data row15 col1\" >StratifiedKFold</td>\n",
       "            </tr>\n",
       "            <tr>\n",
       "                        <th id=\"T_ed122628_d272_11ec_9b78_7085c2294e08level0_row16\" class=\"row_heading level0 row16\" >16</th>\n",
       "                        <td id=\"T_ed122628_d272_11ec_9b78_7085c2294e08row16_col0\" class=\"data row16 col0\" >Fold Number</td>\n",
       "                        <td id=\"T_ed122628_d272_11ec_9b78_7085c2294e08row16_col1\" class=\"data row16 col1\" >10</td>\n",
       "            </tr>\n",
       "            <tr>\n",
       "                        <th id=\"T_ed122628_d272_11ec_9b78_7085c2294e08level0_row17\" class=\"row_heading level0 row17\" >17</th>\n",
       "                        <td id=\"T_ed122628_d272_11ec_9b78_7085c2294e08row17_col0\" class=\"data row17 col0\" >CPU Jobs</td>\n",
       "                        <td id=\"T_ed122628_d272_11ec_9b78_7085c2294e08row17_col1\" class=\"data row17 col1\" >-1</td>\n",
       "            </tr>\n",
       "            <tr>\n",
       "                        <th id=\"T_ed122628_d272_11ec_9b78_7085c2294e08level0_row18\" class=\"row_heading level0 row18\" >18</th>\n",
       "                        <td id=\"T_ed122628_d272_11ec_9b78_7085c2294e08row18_col0\" class=\"data row18 col0\" >Use GPU</td>\n",
       "                        <td id=\"T_ed122628_d272_11ec_9b78_7085c2294e08row18_col1\" class=\"data row18 col1\" >False</td>\n",
       "            </tr>\n",
       "            <tr>\n",
       "                        <th id=\"T_ed122628_d272_11ec_9b78_7085c2294e08level0_row19\" class=\"row_heading level0 row19\" >19</th>\n",
       "                        <td id=\"T_ed122628_d272_11ec_9b78_7085c2294e08row19_col0\" class=\"data row19 col0\" >Log Experiment</td>\n",
       "                        <td id=\"T_ed122628_d272_11ec_9b78_7085c2294e08row19_col1\" class=\"data row19 col1\" >False</td>\n",
       "            </tr>\n",
       "            <tr>\n",
       "                        <th id=\"T_ed122628_d272_11ec_9b78_7085c2294e08level0_row20\" class=\"row_heading level0 row20\" >20</th>\n",
       "                        <td id=\"T_ed122628_d272_11ec_9b78_7085c2294e08row20_col0\" class=\"data row20 col0\" >Experiment Name</td>\n",
       "                        <td id=\"T_ed122628_d272_11ec_9b78_7085c2294e08row20_col1\" class=\"data row20 col1\" >clf-default-name</td>\n",
       "            </tr>\n",
       "            <tr>\n",
       "                        <th id=\"T_ed122628_d272_11ec_9b78_7085c2294e08level0_row21\" class=\"row_heading level0 row21\" >21</th>\n",
       "                        <td id=\"T_ed122628_d272_11ec_9b78_7085c2294e08row21_col0\" class=\"data row21 col0\" >USI</td>\n",
       "                        <td id=\"T_ed122628_d272_11ec_9b78_7085c2294e08row21_col1\" class=\"data row21 col1\" >ef25</td>\n",
       "            </tr>\n",
       "            <tr>\n",
       "                        <th id=\"T_ed122628_d272_11ec_9b78_7085c2294e08level0_row22\" class=\"row_heading level0 row22\" >22</th>\n",
       "                        <td id=\"T_ed122628_d272_11ec_9b78_7085c2294e08row22_col0\" class=\"data row22 col0\" >Imputation Type</td>\n",
       "                        <td id=\"T_ed122628_d272_11ec_9b78_7085c2294e08row22_col1\" class=\"data row22 col1\" >simple</td>\n",
       "            </tr>\n",
       "            <tr>\n",
       "                        <th id=\"T_ed122628_d272_11ec_9b78_7085c2294e08level0_row23\" class=\"row_heading level0 row23\" >23</th>\n",
       "                        <td id=\"T_ed122628_d272_11ec_9b78_7085c2294e08row23_col0\" class=\"data row23 col0\" >Iterative Imputation Iteration</td>\n",
       "                        <td id=\"T_ed122628_d272_11ec_9b78_7085c2294e08row23_col1\" class=\"data row23 col1\" >None</td>\n",
       "            </tr>\n",
       "            <tr>\n",
       "                        <th id=\"T_ed122628_d272_11ec_9b78_7085c2294e08level0_row24\" class=\"row_heading level0 row24\" >24</th>\n",
       "                        <td id=\"T_ed122628_d272_11ec_9b78_7085c2294e08row24_col0\" class=\"data row24 col0\" >Numeric Imputer</td>\n",
       "                        <td id=\"T_ed122628_d272_11ec_9b78_7085c2294e08row24_col1\" class=\"data row24 col1\" >mean</td>\n",
       "            </tr>\n",
       "            <tr>\n",
       "                        <th id=\"T_ed122628_d272_11ec_9b78_7085c2294e08level0_row25\" class=\"row_heading level0 row25\" >25</th>\n",
       "                        <td id=\"T_ed122628_d272_11ec_9b78_7085c2294e08row25_col0\" class=\"data row25 col0\" >Iterative Imputation Numeric Model</td>\n",
       "                        <td id=\"T_ed122628_d272_11ec_9b78_7085c2294e08row25_col1\" class=\"data row25 col1\" >None</td>\n",
       "            </tr>\n",
       "            <tr>\n",
       "                        <th id=\"T_ed122628_d272_11ec_9b78_7085c2294e08level0_row26\" class=\"row_heading level0 row26\" >26</th>\n",
       "                        <td id=\"T_ed122628_d272_11ec_9b78_7085c2294e08row26_col0\" class=\"data row26 col0\" >Categorical Imputer</td>\n",
       "                        <td id=\"T_ed122628_d272_11ec_9b78_7085c2294e08row26_col1\" class=\"data row26 col1\" >constant</td>\n",
       "            </tr>\n",
       "            <tr>\n",
       "                        <th id=\"T_ed122628_d272_11ec_9b78_7085c2294e08level0_row27\" class=\"row_heading level0 row27\" >27</th>\n",
       "                        <td id=\"T_ed122628_d272_11ec_9b78_7085c2294e08row27_col0\" class=\"data row27 col0\" >Iterative Imputation Categorical Model</td>\n",
       "                        <td id=\"T_ed122628_d272_11ec_9b78_7085c2294e08row27_col1\" class=\"data row27 col1\" >None</td>\n",
       "            </tr>\n",
       "            <tr>\n",
       "                        <th id=\"T_ed122628_d272_11ec_9b78_7085c2294e08level0_row28\" class=\"row_heading level0 row28\" >28</th>\n",
       "                        <td id=\"T_ed122628_d272_11ec_9b78_7085c2294e08row28_col0\" class=\"data row28 col0\" >Unknown Categoricals Handling</td>\n",
       "                        <td id=\"T_ed122628_d272_11ec_9b78_7085c2294e08row28_col1\" class=\"data row28 col1\" >least_frequent</td>\n",
       "            </tr>\n",
       "            <tr>\n",
       "                        <th id=\"T_ed122628_d272_11ec_9b78_7085c2294e08level0_row29\" class=\"row_heading level0 row29\" >29</th>\n",
       "                        <td id=\"T_ed122628_d272_11ec_9b78_7085c2294e08row29_col0\" class=\"data row29 col0\" >Normalize</td>\n",
       "                        <td id=\"T_ed122628_d272_11ec_9b78_7085c2294e08row29_col1\" class=\"data row29 col1\" >False</td>\n",
       "            </tr>\n",
       "            <tr>\n",
       "                        <th id=\"T_ed122628_d272_11ec_9b78_7085c2294e08level0_row30\" class=\"row_heading level0 row30\" >30</th>\n",
       "                        <td id=\"T_ed122628_d272_11ec_9b78_7085c2294e08row30_col0\" class=\"data row30 col0\" >Normalize Method</td>\n",
       "                        <td id=\"T_ed122628_d272_11ec_9b78_7085c2294e08row30_col1\" class=\"data row30 col1\" >None</td>\n",
       "            </tr>\n",
       "            <tr>\n",
       "                        <th id=\"T_ed122628_d272_11ec_9b78_7085c2294e08level0_row31\" class=\"row_heading level0 row31\" >31</th>\n",
       "                        <td id=\"T_ed122628_d272_11ec_9b78_7085c2294e08row31_col0\" class=\"data row31 col0\" >Transformation</td>\n",
       "                        <td id=\"T_ed122628_d272_11ec_9b78_7085c2294e08row31_col1\" class=\"data row31 col1\" >False</td>\n",
       "            </tr>\n",
       "            <tr>\n",
       "                        <th id=\"T_ed122628_d272_11ec_9b78_7085c2294e08level0_row32\" class=\"row_heading level0 row32\" >32</th>\n",
       "                        <td id=\"T_ed122628_d272_11ec_9b78_7085c2294e08row32_col0\" class=\"data row32 col0\" >Transformation Method</td>\n",
       "                        <td id=\"T_ed122628_d272_11ec_9b78_7085c2294e08row32_col1\" class=\"data row32 col1\" >None</td>\n",
       "            </tr>\n",
       "            <tr>\n",
       "                        <th id=\"T_ed122628_d272_11ec_9b78_7085c2294e08level0_row33\" class=\"row_heading level0 row33\" >33</th>\n",
       "                        <td id=\"T_ed122628_d272_11ec_9b78_7085c2294e08row33_col0\" class=\"data row33 col0\" >PCA</td>\n",
       "                        <td id=\"T_ed122628_d272_11ec_9b78_7085c2294e08row33_col1\" class=\"data row33 col1\" >False</td>\n",
       "            </tr>\n",
       "            <tr>\n",
       "                        <th id=\"T_ed122628_d272_11ec_9b78_7085c2294e08level0_row34\" class=\"row_heading level0 row34\" >34</th>\n",
       "                        <td id=\"T_ed122628_d272_11ec_9b78_7085c2294e08row34_col0\" class=\"data row34 col0\" >PCA Method</td>\n",
       "                        <td id=\"T_ed122628_d272_11ec_9b78_7085c2294e08row34_col1\" class=\"data row34 col1\" >None</td>\n",
       "            </tr>\n",
       "            <tr>\n",
       "                        <th id=\"T_ed122628_d272_11ec_9b78_7085c2294e08level0_row35\" class=\"row_heading level0 row35\" >35</th>\n",
       "                        <td id=\"T_ed122628_d272_11ec_9b78_7085c2294e08row35_col0\" class=\"data row35 col0\" >PCA Components</td>\n",
       "                        <td id=\"T_ed122628_d272_11ec_9b78_7085c2294e08row35_col1\" class=\"data row35 col1\" >None</td>\n",
       "            </tr>\n",
       "            <tr>\n",
       "                        <th id=\"T_ed122628_d272_11ec_9b78_7085c2294e08level0_row36\" class=\"row_heading level0 row36\" >36</th>\n",
       "                        <td id=\"T_ed122628_d272_11ec_9b78_7085c2294e08row36_col0\" class=\"data row36 col0\" >Ignore Low Variance</td>\n",
       "                        <td id=\"T_ed122628_d272_11ec_9b78_7085c2294e08row36_col1\" class=\"data row36 col1\" >False</td>\n",
       "            </tr>\n",
       "            <tr>\n",
       "                        <th id=\"T_ed122628_d272_11ec_9b78_7085c2294e08level0_row37\" class=\"row_heading level0 row37\" >37</th>\n",
       "                        <td id=\"T_ed122628_d272_11ec_9b78_7085c2294e08row37_col0\" class=\"data row37 col0\" >Combine Rare Levels</td>\n",
       "                        <td id=\"T_ed122628_d272_11ec_9b78_7085c2294e08row37_col1\" class=\"data row37 col1\" >False</td>\n",
       "            </tr>\n",
       "            <tr>\n",
       "                        <th id=\"T_ed122628_d272_11ec_9b78_7085c2294e08level0_row38\" class=\"row_heading level0 row38\" >38</th>\n",
       "                        <td id=\"T_ed122628_d272_11ec_9b78_7085c2294e08row38_col0\" class=\"data row38 col0\" >Rare Level Threshold</td>\n",
       "                        <td id=\"T_ed122628_d272_11ec_9b78_7085c2294e08row38_col1\" class=\"data row38 col1\" >None</td>\n",
       "            </tr>\n",
       "            <tr>\n",
       "                        <th id=\"T_ed122628_d272_11ec_9b78_7085c2294e08level0_row39\" class=\"row_heading level0 row39\" >39</th>\n",
       "                        <td id=\"T_ed122628_d272_11ec_9b78_7085c2294e08row39_col0\" class=\"data row39 col0\" >Numeric Binning</td>\n",
       "                        <td id=\"T_ed122628_d272_11ec_9b78_7085c2294e08row39_col1\" class=\"data row39 col1\" >False</td>\n",
       "            </tr>\n",
       "            <tr>\n",
       "                        <th id=\"T_ed122628_d272_11ec_9b78_7085c2294e08level0_row40\" class=\"row_heading level0 row40\" >40</th>\n",
       "                        <td id=\"T_ed122628_d272_11ec_9b78_7085c2294e08row40_col0\" class=\"data row40 col0\" >Remove Outliers</td>\n",
       "                        <td id=\"T_ed122628_d272_11ec_9b78_7085c2294e08row40_col1\" class=\"data row40 col1\" >False</td>\n",
       "            </tr>\n",
       "            <tr>\n",
       "                        <th id=\"T_ed122628_d272_11ec_9b78_7085c2294e08level0_row41\" class=\"row_heading level0 row41\" >41</th>\n",
       "                        <td id=\"T_ed122628_d272_11ec_9b78_7085c2294e08row41_col0\" class=\"data row41 col0\" >Outliers Threshold</td>\n",
       "                        <td id=\"T_ed122628_d272_11ec_9b78_7085c2294e08row41_col1\" class=\"data row41 col1\" >None</td>\n",
       "            </tr>\n",
       "            <tr>\n",
       "                        <th id=\"T_ed122628_d272_11ec_9b78_7085c2294e08level0_row42\" class=\"row_heading level0 row42\" >42</th>\n",
       "                        <td id=\"T_ed122628_d272_11ec_9b78_7085c2294e08row42_col0\" class=\"data row42 col0\" >Remove Multicollinearity</td>\n",
       "                        <td id=\"T_ed122628_d272_11ec_9b78_7085c2294e08row42_col1\" class=\"data row42 col1\" >False</td>\n",
       "            </tr>\n",
       "            <tr>\n",
       "                        <th id=\"T_ed122628_d272_11ec_9b78_7085c2294e08level0_row43\" class=\"row_heading level0 row43\" >43</th>\n",
       "                        <td id=\"T_ed122628_d272_11ec_9b78_7085c2294e08row43_col0\" class=\"data row43 col0\" >Multicollinearity Threshold</td>\n",
       "                        <td id=\"T_ed122628_d272_11ec_9b78_7085c2294e08row43_col1\" class=\"data row43 col1\" >None</td>\n",
       "            </tr>\n",
       "            <tr>\n",
       "                        <th id=\"T_ed122628_d272_11ec_9b78_7085c2294e08level0_row44\" class=\"row_heading level0 row44\" >44</th>\n",
       "                        <td id=\"T_ed122628_d272_11ec_9b78_7085c2294e08row44_col0\" class=\"data row44 col0\" >Remove Perfect Collinearity</td>\n",
       "                        <td id=\"T_ed122628_d272_11ec_9b78_7085c2294e08row44_col1\" class=\"data row44 col1\" >True</td>\n",
       "            </tr>\n",
       "            <tr>\n",
       "                        <th id=\"T_ed122628_d272_11ec_9b78_7085c2294e08level0_row45\" class=\"row_heading level0 row45\" >45</th>\n",
       "                        <td id=\"T_ed122628_d272_11ec_9b78_7085c2294e08row45_col0\" class=\"data row45 col0\" >Clustering</td>\n",
       "                        <td id=\"T_ed122628_d272_11ec_9b78_7085c2294e08row45_col1\" class=\"data row45 col1\" >False</td>\n",
       "            </tr>\n",
       "            <tr>\n",
       "                        <th id=\"T_ed122628_d272_11ec_9b78_7085c2294e08level0_row46\" class=\"row_heading level0 row46\" >46</th>\n",
       "                        <td id=\"T_ed122628_d272_11ec_9b78_7085c2294e08row46_col0\" class=\"data row46 col0\" >Clustering Iteration</td>\n",
       "                        <td id=\"T_ed122628_d272_11ec_9b78_7085c2294e08row46_col1\" class=\"data row46 col1\" >None</td>\n",
       "            </tr>\n",
       "            <tr>\n",
       "                        <th id=\"T_ed122628_d272_11ec_9b78_7085c2294e08level0_row47\" class=\"row_heading level0 row47\" >47</th>\n",
       "                        <td id=\"T_ed122628_d272_11ec_9b78_7085c2294e08row47_col0\" class=\"data row47 col0\" >Polynomial Features</td>\n",
       "                        <td id=\"T_ed122628_d272_11ec_9b78_7085c2294e08row47_col1\" class=\"data row47 col1\" >False</td>\n",
       "            </tr>\n",
       "            <tr>\n",
       "                        <th id=\"T_ed122628_d272_11ec_9b78_7085c2294e08level0_row48\" class=\"row_heading level0 row48\" >48</th>\n",
       "                        <td id=\"T_ed122628_d272_11ec_9b78_7085c2294e08row48_col0\" class=\"data row48 col0\" >Polynomial Degree</td>\n",
       "                        <td id=\"T_ed122628_d272_11ec_9b78_7085c2294e08row48_col1\" class=\"data row48 col1\" >None</td>\n",
       "            </tr>\n",
       "            <tr>\n",
       "                        <th id=\"T_ed122628_d272_11ec_9b78_7085c2294e08level0_row49\" class=\"row_heading level0 row49\" >49</th>\n",
       "                        <td id=\"T_ed122628_d272_11ec_9b78_7085c2294e08row49_col0\" class=\"data row49 col0\" >Trignometry Features</td>\n",
       "                        <td id=\"T_ed122628_d272_11ec_9b78_7085c2294e08row49_col1\" class=\"data row49 col1\" >False</td>\n",
       "            </tr>\n",
       "            <tr>\n",
       "                        <th id=\"T_ed122628_d272_11ec_9b78_7085c2294e08level0_row50\" class=\"row_heading level0 row50\" >50</th>\n",
       "                        <td id=\"T_ed122628_d272_11ec_9b78_7085c2294e08row50_col0\" class=\"data row50 col0\" >Polynomial Threshold</td>\n",
       "                        <td id=\"T_ed122628_d272_11ec_9b78_7085c2294e08row50_col1\" class=\"data row50 col1\" >None</td>\n",
       "            </tr>\n",
       "            <tr>\n",
       "                        <th id=\"T_ed122628_d272_11ec_9b78_7085c2294e08level0_row51\" class=\"row_heading level0 row51\" >51</th>\n",
       "                        <td id=\"T_ed122628_d272_11ec_9b78_7085c2294e08row51_col0\" class=\"data row51 col0\" >Group Features</td>\n",
       "                        <td id=\"T_ed122628_d272_11ec_9b78_7085c2294e08row51_col1\" class=\"data row51 col1\" >False</td>\n",
       "            </tr>\n",
       "            <tr>\n",
       "                        <th id=\"T_ed122628_d272_11ec_9b78_7085c2294e08level0_row52\" class=\"row_heading level0 row52\" >52</th>\n",
       "                        <td id=\"T_ed122628_d272_11ec_9b78_7085c2294e08row52_col0\" class=\"data row52 col0\" >Feature Selection</td>\n",
       "                        <td id=\"T_ed122628_d272_11ec_9b78_7085c2294e08row52_col1\" class=\"data row52 col1\" >False</td>\n",
       "            </tr>\n",
       "            <tr>\n",
       "                        <th id=\"T_ed122628_d272_11ec_9b78_7085c2294e08level0_row53\" class=\"row_heading level0 row53\" >53</th>\n",
       "                        <td id=\"T_ed122628_d272_11ec_9b78_7085c2294e08row53_col0\" class=\"data row53 col0\" >Feature Selection Method</td>\n",
       "                        <td id=\"T_ed122628_d272_11ec_9b78_7085c2294e08row53_col1\" class=\"data row53 col1\" >classic</td>\n",
       "            </tr>\n",
       "            <tr>\n",
       "                        <th id=\"T_ed122628_d272_11ec_9b78_7085c2294e08level0_row54\" class=\"row_heading level0 row54\" >54</th>\n",
       "                        <td id=\"T_ed122628_d272_11ec_9b78_7085c2294e08row54_col0\" class=\"data row54 col0\" >Features Selection Threshold</td>\n",
       "                        <td id=\"T_ed122628_d272_11ec_9b78_7085c2294e08row54_col1\" class=\"data row54 col1\" >None</td>\n",
       "            </tr>\n",
       "            <tr>\n",
       "                        <th id=\"T_ed122628_d272_11ec_9b78_7085c2294e08level0_row55\" class=\"row_heading level0 row55\" >55</th>\n",
       "                        <td id=\"T_ed122628_d272_11ec_9b78_7085c2294e08row55_col0\" class=\"data row55 col0\" >Feature Interaction</td>\n",
       "                        <td id=\"T_ed122628_d272_11ec_9b78_7085c2294e08row55_col1\" class=\"data row55 col1\" >False</td>\n",
       "            </tr>\n",
       "            <tr>\n",
       "                        <th id=\"T_ed122628_d272_11ec_9b78_7085c2294e08level0_row56\" class=\"row_heading level0 row56\" >56</th>\n",
       "                        <td id=\"T_ed122628_d272_11ec_9b78_7085c2294e08row56_col0\" class=\"data row56 col0\" >Feature Ratio</td>\n",
       "                        <td id=\"T_ed122628_d272_11ec_9b78_7085c2294e08row56_col1\" class=\"data row56 col1\" >False</td>\n",
       "            </tr>\n",
       "            <tr>\n",
       "                        <th id=\"T_ed122628_d272_11ec_9b78_7085c2294e08level0_row57\" class=\"row_heading level0 row57\" >57</th>\n",
       "                        <td id=\"T_ed122628_d272_11ec_9b78_7085c2294e08row57_col0\" class=\"data row57 col0\" >Interaction Threshold</td>\n",
       "                        <td id=\"T_ed122628_d272_11ec_9b78_7085c2294e08row57_col1\" class=\"data row57 col1\" >None</td>\n",
       "            </tr>\n",
       "            <tr>\n",
       "                        <th id=\"T_ed122628_d272_11ec_9b78_7085c2294e08level0_row58\" class=\"row_heading level0 row58\" >58</th>\n",
       "                        <td id=\"T_ed122628_d272_11ec_9b78_7085c2294e08row58_col0\" class=\"data row58 col0\" >Fix Imbalance</td>\n",
       "                        <td id=\"T_ed122628_d272_11ec_9b78_7085c2294e08row58_col1\" class=\"data row58 col1\" >False</td>\n",
       "            </tr>\n",
       "            <tr>\n",
       "                        <th id=\"T_ed122628_d272_11ec_9b78_7085c2294e08level0_row59\" class=\"row_heading level0 row59\" >59</th>\n",
       "                        <td id=\"T_ed122628_d272_11ec_9b78_7085c2294e08row59_col0\" class=\"data row59 col0\" >Fix Imbalance Method</td>\n",
       "                        <td id=\"T_ed122628_d272_11ec_9b78_7085c2294e08row59_col1\" class=\"data row59 col1\" >SMOTE</td>\n",
       "            </tr>\n",
       "    </tbody></table>"
      ],
      "text/plain": [
       "<pandas.io.formats.style.Styler at 0x14ced071b80>"
      ]
     },
     "metadata": {},
     "output_type": "display_data"
    }
   ],
   "source": [
    "setup_clf = setup(data = train, target= 'Target', fold_shuffle=True, categorical_features=cat_features)"
   ]
  },
  {
   "cell_type": "code",
   "execution_count": 126,
   "metadata": {
    "scrolled": true
   },
   "outputs": [
    {
     "data": {
      "text/html": [
       "<style  type=\"text/css\" >\n",
       "    #T_f8ba92da_d272_11ec_ad4b_7085c2294e08 th {\n",
       "          text-align: left;\n",
       "    }#T_f8ba92da_d272_11ec_ad4b_7085c2294e08row0_col0,#T_f8ba92da_d272_11ec_ad4b_7085c2294e08row0_col1,#T_f8ba92da_d272_11ec_ad4b_7085c2294e08row0_col2,#T_f8ba92da_d272_11ec_ad4b_7085c2294e08row0_col4,#T_f8ba92da_d272_11ec_ad4b_7085c2294e08row0_col6,#T_f8ba92da_d272_11ec_ad4b_7085c2294e08row0_col7,#T_f8ba92da_d272_11ec_ad4b_7085c2294e08row1_col0,#T_f8ba92da_d272_11ec_ad4b_7085c2294e08row1_col1,#T_f8ba92da_d272_11ec_ad4b_7085c2294e08row1_col2,#T_f8ba92da_d272_11ec_ad4b_7085c2294e08row1_col3,#T_f8ba92da_d272_11ec_ad4b_7085c2294e08row1_col4,#T_f8ba92da_d272_11ec_ad4b_7085c2294e08row1_col5,#T_f8ba92da_d272_11ec_ad4b_7085c2294e08row1_col6,#T_f8ba92da_d272_11ec_ad4b_7085c2294e08row1_col7,#T_f8ba92da_d272_11ec_ad4b_7085c2294e08row2_col0,#T_f8ba92da_d272_11ec_ad4b_7085c2294e08row2_col1,#T_f8ba92da_d272_11ec_ad4b_7085c2294e08row2_col2,#T_f8ba92da_d272_11ec_ad4b_7085c2294e08row2_col3,#T_f8ba92da_d272_11ec_ad4b_7085c2294e08row2_col4,#T_f8ba92da_d272_11ec_ad4b_7085c2294e08row2_col5,#T_f8ba92da_d272_11ec_ad4b_7085c2294e08row2_col7,#T_f8ba92da_d272_11ec_ad4b_7085c2294e08row3_col0,#T_f8ba92da_d272_11ec_ad4b_7085c2294e08row3_col1,#T_f8ba92da_d272_11ec_ad4b_7085c2294e08row3_col2,#T_f8ba92da_d272_11ec_ad4b_7085c2294e08row3_col3,#T_f8ba92da_d272_11ec_ad4b_7085c2294e08row3_col4,#T_f8ba92da_d272_11ec_ad4b_7085c2294e08row3_col5,#T_f8ba92da_d272_11ec_ad4b_7085c2294e08row3_col6,#T_f8ba92da_d272_11ec_ad4b_7085c2294e08row3_col7,#T_f8ba92da_d272_11ec_ad4b_7085c2294e08row4_col0,#T_f8ba92da_d272_11ec_ad4b_7085c2294e08row4_col1,#T_f8ba92da_d272_11ec_ad4b_7085c2294e08row4_col2,#T_f8ba92da_d272_11ec_ad4b_7085c2294e08row4_col3,#T_f8ba92da_d272_11ec_ad4b_7085c2294e08row4_col4,#T_f8ba92da_d272_11ec_ad4b_7085c2294e08row4_col5,#T_f8ba92da_d272_11ec_ad4b_7085c2294e08row4_col6,#T_f8ba92da_d272_11ec_ad4b_7085c2294e08row4_col7,#T_f8ba92da_d272_11ec_ad4b_7085c2294e08row5_col0,#T_f8ba92da_d272_11ec_ad4b_7085c2294e08row5_col1,#T_f8ba92da_d272_11ec_ad4b_7085c2294e08row5_col2,#T_f8ba92da_d272_11ec_ad4b_7085c2294e08row5_col3,#T_f8ba92da_d272_11ec_ad4b_7085c2294e08row5_col4,#T_f8ba92da_d272_11ec_ad4b_7085c2294e08row5_col5,#T_f8ba92da_d272_11ec_ad4b_7085c2294e08row5_col6,#T_f8ba92da_d272_11ec_ad4b_7085c2294e08row5_col7,#T_f8ba92da_d272_11ec_ad4b_7085c2294e08row6_col0,#T_f8ba92da_d272_11ec_ad4b_7085c2294e08row6_col1,#T_f8ba92da_d272_11ec_ad4b_7085c2294e08row6_col2,#T_f8ba92da_d272_11ec_ad4b_7085c2294e08row6_col3,#T_f8ba92da_d272_11ec_ad4b_7085c2294e08row6_col4,#T_f8ba92da_d272_11ec_ad4b_7085c2294e08row6_col5,#T_f8ba92da_d272_11ec_ad4b_7085c2294e08row6_col6,#T_f8ba92da_d272_11ec_ad4b_7085c2294e08row6_col7,#T_f8ba92da_d272_11ec_ad4b_7085c2294e08row7_col0,#T_f8ba92da_d272_11ec_ad4b_7085c2294e08row7_col1,#T_f8ba92da_d272_11ec_ad4b_7085c2294e08row7_col2,#T_f8ba92da_d272_11ec_ad4b_7085c2294e08row7_col3,#T_f8ba92da_d272_11ec_ad4b_7085c2294e08row7_col4,#T_f8ba92da_d272_11ec_ad4b_7085c2294e08row7_col5,#T_f8ba92da_d272_11ec_ad4b_7085c2294e08row7_col6,#T_f8ba92da_d272_11ec_ad4b_7085c2294e08row7_col7,#T_f8ba92da_d272_11ec_ad4b_7085c2294e08row8_col0,#T_f8ba92da_d272_11ec_ad4b_7085c2294e08row8_col1,#T_f8ba92da_d272_11ec_ad4b_7085c2294e08row8_col2,#T_f8ba92da_d272_11ec_ad4b_7085c2294e08row8_col3,#T_f8ba92da_d272_11ec_ad4b_7085c2294e08row8_col5,#T_f8ba92da_d272_11ec_ad4b_7085c2294e08row8_col6,#T_f8ba92da_d272_11ec_ad4b_7085c2294e08row9_col0,#T_f8ba92da_d272_11ec_ad4b_7085c2294e08row9_col3,#T_f8ba92da_d272_11ec_ad4b_7085c2294e08row9_col4,#T_f8ba92da_d272_11ec_ad4b_7085c2294e08row9_col5,#T_f8ba92da_d272_11ec_ad4b_7085c2294e08row9_col6,#T_f8ba92da_d272_11ec_ad4b_7085c2294e08row9_col7,#T_f8ba92da_d272_11ec_ad4b_7085c2294e08row10_col0,#T_f8ba92da_d272_11ec_ad4b_7085c2294e08row10_col1,#T_f8ba92da_d272_11ec_ad4b_7085c2294e08row10_col2,#T_f8ba92da_d272_11ec_ad4b_7085c2294e08row10_col3,#T_f8ba92da_d272_11ec_ad4b_7085c2294e08row10_col4,#T_f8ba92da_d272_11ec_ad4b_7085c2294e08row10_col5,#T_f8ba92da_d272_11ec_ad4b_7085c2294e08row10_col6,#T_f8ba92da_d272_11ec_ad4b_7085c2294e08row10_col7,#T_f8ba92da_d272_11ec_ad4b_7085c2294e08row11_col0,#T_f8ba92da_d272_11ec_ad4b_7085c2294e08row11_col1,#T_f8ba92da_d272_11ec_ad4b_7085c2294e08row11_col2,#T_f8ba92da_d272_11ec_ad4b_7085c2294e08row11_col3,#T_f8ba92da_d272_11ec_ad4b_7085c2294e08row11_col4,#T_f8ba92da_d272_11ec_ad4b_7085c2294e08row11_col5,#T_f8ba92da_d272_11ec_ad4b_7085c2294e08row11_col6,#T_f8ba92da_d272_11ec_ad4b_7085c2294e08row11_col7,#T_f8ba92da_d272_11ec_ad4b_7085c2294e08row12_col0,#T_f8ba92da_d272_11ec_ad4b_7085c2294e08row12_col1,#T_f8ba92da_d272_11ec_ad4b_7085c2294e08row12_col2,#T_f8ba92da_d272_11ec_ad4b_7085c2294e08row12_col3,#T_f8ba92da_d272_11ec_ad4b_7085c2294e08row12_col4,#T_f8ba92da_d272_11ec_ad4b_7085c2294e08row12_col5,#T_f8ba92da_d272_11ec_ad4b_7085c2294e08row12_col6,#T_f8ba92da_d272_11ec_ad4b_7085c2294e08row12_col7,#T_f8ba92da_d272_11ec_ad4b_7085c2294e08row13_col0,#T_f8ba92da_d272_11ec_ad4b_7085c2294e08row13_col1,#T_f8ba92da_d272_11ec_ad4b_7085c2294e08row13_col2,#T_f8ba92da_d272_11ec_ad4b_7085c2294e08row13_col3,#T_f8ba92da_d272_11ec_ad4b_7085c2294e08row13_col4,#T_f8ba92da_d272_11ec_ad4b_7085c2294e08row13_col5,#T_f8ba92da_d272_11ec_ad4b_7085c2294e08row13_col6,#T_f8ba92da_d272_11ec_ad4b_7085c2294e08row13_col7,#T_f8ba92da_d272_11ec_ad4b_7085c2294e08row14_col0,#T_f8ba92da_d272_11ec_ad4b_7085c2294e08row14_col1,#T_f8ba92da_d272_11ec_ad4b_7085c2294e08row14_col2,#T_f8ba92da_d272_11ec_ad4b_7085c2294e08row14_col3,#T_f8ba92da_d272_11ec_ad4b_7085c2294e08row14_col4,#T_f8ba92da_d272_11ec_ad4b_7085c2294e08row14_col5,#T_f8ba92da_d272_11ec_ad4b_7085c2294e08row14_col6,#T_f8ba92da_d272_11ec_ad4b_7085c2294e08row14_col7,#T_f8ba92da_d272_11ec_ad4b_7085c2294e08row15_col0,#T_f8ba92da_d272_11ec_ad4b_7085c2294e08row15_col1,#T_f8ba92da_d272_11ec_ad4b_7085c2294e08row15_col2,#T_f8ba92da_d272_11ec_ad4b_7085c2294e08row15_col3,#T_f8ba92da_d272_11ec_ad4b_7085c2294e08row15_col4,#T_f8ba92da_d272_11ec_ad4b_7085c2294e08row15_col5,#T_f8ba92da_d272_11ec_ad4b_7085c2294e08row15_col6,#T_f8ba92da_d272_11ec_ad4b_7085c2294e08row15_col7{\n",
       "            text-align:  left;\n",
       "            text-align:  left;\n",
       "        }#T_f8ba92da_d272_11ec_ad4b_7085c2294e08row0_col3,#T_f8ba92da_d272_11ec_ad4b_7085c2294e08row0_col5,#T_f8ba92da_d272_11ec_ad4b_7085c2294e08row2_col6,#T_f8ba92da_d272_11ec_ad4b_7085c2294e08row8_col4,#T_f8ba92da_d272_11ec_ad4b_7085c2294e08row8_col7,#T_f8ba92da_d272_11ec_ad4b_7085c2294e08row9_col1,#T_f8ba92da_d272_11ec_ad4b_7085c2294e08row9_col2{\n",
       "            text-align:  left;\n",
       "            text-align:  left;\n",
       "            background-color:  yellow;\n",
       "        }#T_f8ba92da_d272_11ec_ad4b_7085c2294e08row0_col8,#T_f8ba92da_d272_11ec_ad4b_7085c2294e08row3_col8,#T_f8ba92da_d272_11ec_ad4b_7085c2294e08row4_col8,#T_f8ba92da_d272_11ec_ad4b_7085c2294e08row5_col8,#T_f8ba92da_d272_11ec_ad4b_7085c2294e08row6_col8,#T_f8ba92da_d272_11ec_ad4b_7085c2294e08row7_col8,#T_f8ba92da_d272_11ec_ad4b_7085c2294e08row8_col8,#T_f8ba92da_d272_11ec_ad4b_7085c2294e08row9_col8,#T_f8ba92da_d272_11ec_ad4b_7085c2294e08row10_col8,#T_f8ba92da_d272_11ec_ad4b_7085c2294e08row11_col8,#T_f8ba92da_d272_11ec_ad4b_7085c2294e08row12_col8,#T_f8ba92da_d272_11ec_ad4b_7085c2294e08row13_col8,#T_f8ba92da_d272_11ec_ad4b_7085c2294e08row14_col8{\n",
       "            text-align:  left;\n",
       "            text-align:  left;\n",
       "            background-color:  lightgrey;\n",
       "        }#T_f8ba92da_d272_11ec_ad4b_7085c2294e08row1_col8,#T_f8ba92da_d272_11ec_ad4b_7085c2294e08row2_col8,#T_f8ba92da_d272_11ec_ad4b_7085c2294e08row15_col8{\n",
       "            text-align:  left;\n",
       "            text-align:  left;\n",
       "            background-color:  yellow;\n",
       "            background-color:  lightgrey;\n",
       "        }</style><table id=\"T_f8ba92da_d272_11ec_ad4b_7085c2294e08\" ><thead>    <tr>        <th class=\"blank level0\" ></th>        <th class=\"col_heading level0 col0\" >Model</th>        <th class=\"col_heading level0 col1\" >Accuracy</th>        <th class=\"col_heading level0 col2\" >AUC</th>        <th class=\"col_heading level0 col3\" >Recall</th>        <th class=\"col_heading level0 col4\" >Prec.</th>        <th class=\"col_heading level0 col5\" >F1</th>        <th class=\"col_heading level0 col6\" >Kappa</th>        <th class=\"col_heading level0 col7\" >MCC</th>        <th class=\"col_heading level0 col8\" >TT (Sec)</th>    </tr></thead><tbody>\n",
       "                <tr>\n",
       "                        <th id=\"T_f8ba92da_d272_11ec_ad4b_7085c2294e08level0_row0\" class=\"row_heading level0 row0\" >qda</th>\n",
       "                        <td id=\"T_f8ba92da_d272_11ec_ad4b_7085c2294e08row0_col0\" class=\"data row0 col0\" >Quadratic Discriminant Analysis</td>\n",
       "                        <td id=\"T_f8ba92da_d272_11ec_ad4b_7085c2294e08row0_col1\" class=\"data row0 col1\" >0.5086</td>\n",
       "                        <td id=\"T_f8ba92da_d272_11ec_ad4b_7085c2294e08row0_col2\" class=\"data row0 col2\" >0.5702</td>\n",
       "                        <td id=\"T_f8ba92da_d272_11ec_ad4b_7085c2294e08row0_col3\" class=\"data row0 col3\" >0.6846</td>\n",
       "                        <td id=\"T_f8ba92da_d272_11ec_ad4b_7085c2294e08row0_col4\" class=\"data row0 col4\" >0.2858</td>\n",
       "                        <td id=\"T_f8ba92da_d272_11ec_ad4b_7085c2294e08row0_col5\" class=\"data row0 col5\" >0.3981</td>\n",
       "                        <td id=\"T_f8ba92da_d272_11ec_ad4b_7085c2294e08row0_col6\" class=\"data row0 col6\" >0.1002</td>\n",
       "                        <td id=\"T_f8ba92da_d272_11ec_ad4b_7085c2294e08row0_col7\" class=\"data row0 col7\" >0.1252</td>\n",
       "                        <td id=\"T_f8ba92da_d272_11ec_ad4b_7085c2294e08row0_col8\" class=\"data row0 col8\" >0.0140</td>\n",
       "            </tr>\n",
       "            <tr>\n",
       "                        <th id=\"T_f8ba92da_d272_11ec_ad4b_7085c2294e08level0_row1\" class=\"row_heading level0 row1\" >dt</th>\n",
       "                        <td id=\"T_f8ba92da_d272_11ec_ad4b_7085c2294e08row1_col0\" class=\"data row1 col0\" >Decision Tree Classifier</td>\n",
       "                        <td id=\"T_f8ba92da_d272_11ec_ad4b_7085c2294e08row1_col1\" class=\"data row1 col1\" >0.7048</td>\n",
       "                        <td id=\"T_f8ba92da_d272_11ec_ad4b_7085c2294e08row1_col2\" class=\"data row1 col2\" >0.5763</td>\n",
       "                        <td id=\"T_f8ba92da_d272_11ec_ad4b_7085c2294e08row1_col3\" class=\"data row1 col3\" >0.3341</td>\n",
       "                        <td id=\"T_f8ba92da_d272_11ec_ad4b_7085c2294e08row1_col4\" class=\"data row1 col4\" >0.3734</td>\n",
       "                        <td id=\"T_f8ba92da_d272_11ec_ad4b_7085c2294e08row1_col5\" class=\"data row1 col5\" >0.3441</td>\n",
       "                        <td id=\"T_f8ba92da_d272_11ec_ad4b_7085c2294e08row1_col6\" class=\"data row1 col6\" >0.1576</td>\n",
       "                        <td id=\"T_f8ba92da_d272_11ec_ad4b_7085c2294e08row1_col7\" class=\"data row1 col7\" >0.1616</td>\n",
       "                        <td id=\"T_f8ba92da_d272_11ec_ad4b_7085c2294e08row1_col8\" class=\"data row1 col8\" >0.0080</td>\n",
       "            </tr>\n",
       "            <tr>\n",
       "                        <th id=\"T_f8ba92da_d272_11ec_ad4b_7085c2294e08level0_row2\" class=\"row_heading level0 row2\" >nb</th>\n",
       "                        <td id=\"T_f8ba92da_d272_11ec_ad4b_7085c2294e08row2_col0\" class=\"data row2 col0\" >Naive Bayes</td>\n",
       "                        <td id=\"T_f8ba92da_d272_11ec_ad4b_7085c2294e08row2_col1\" class=\"data row2 col1\" >0.7510</td>\n",
       "                        <td id=\"T_f8ba92da_d272_11ec_ad4b_7085c2294e08row2_col2\" class=\"data row2 col2\" >0.6634</td>\n",
       "                        <td id=\"T_f8ba92da_d272_11ec_ad4b_7085c2294e08row2_col3\" class=\"data row2 col3\" >0.2901</td>\n",
       "                        <td id=\"T_f8ba92da_d272_11ec_ad4b_7085c2294e08row2_col4\" class=\"data row2 col4\" >0.4417</td>\n",
       "                        <td id=\"T_f8ba92da_d272_11ec_ad4b_7085c2294e08row2_col5\" class=\"data row2 col5\" >0.3349</td>\n",
       "                        <td id=\"T_f8ba92da_d272_11ec_ad4b_7085c2294e08row2_col6\" class=\"data row2 col6\" >0.1986</td>\n",
       "                        <td id=\"T_f8ba92da_d272_11ec_ad4b_7085c2294e08row2_col7\" class=\"data row2 col7\" >0.2092</td>\n",
       "                        <td id=\"T_f8ba92da_d272_11ec_ad4b_7085c2294e08row2_col8\" class=\"data row2 col8\" >0.0080</td>\n",
       "            </tr>\n",
       "            <tr>\n",
       "                        <th id=\"T_f8ba92da_d272_11ec_ad4b_7085c2294e08level0_row3\" class=\"row_heading level0 row3\" >xgboost</th>\n",
       "                        <td id=\"T_f8ba92da_d272_11ec_ad4b_7085c2294e08row3_col0\" class=\"data row3 col0\" >Extreme Gradient Boosting</td>\n",
       "                        <td id=\"T_f8ba92da_d272_11ec_ad4b_7085c2294e08row3_col1\" class=\"data row3 col1\" >0.7474</td>\n",
       "                        <td id=\"T_f8ba92da_d272_11ec_ad4b_7085c2294e08row3_col2\" class=\"data row3 col2\" >0.6930</td>\n",
       "                        <td id=\"T_f8ba92da_d272_11ec_ad4b_7085c2294e08row3_col3\" class=\"data row3 col3\" >0.3066</td>\n",
       "                        <td id=\"T_f8ba92da_d272_11ec_ad4b_7085c2294e08row3_col4\" class=\"data row3 col4\" >0.4173</td>\n",
       "                        <td id=\"T_f8ba92da_d272_11ec_ad4b_7085c2294e08row3_col5\" class=\"data row3 col5\" >0.3317</td>\n",
       "                        <td id=\"T_f8ba92da_d272_11ec_ad4b_7085c2294e08row3_col6\" class=\"data row3 col6\" >0.1955</td>\n",
       "                        <td id=\"T_f8ba92da_d272_11ec_ad4b_7085c2294e08row3_col7\" class=\"data row3 col7\" >0.2040</td>\n",
       "                        <td id=\"T_f8ba92da_d272_11ec_ad4b_7085c2294e08row3_col8\" class=\"data row3 col8\" >0.0880</td>\n",
       "            </tr>\n",
       "            <tr>\n",
       "                        <th id=\"T_f8ba92da_d272_11ec_ad4b_7085c2294e08level0_row4\" class=\"row_heading level0 row4\" >lightgbm</th>\n",
       "                        <td id=\"T_f8ba92da_d272_11ec_ad4b_7085c2294e08row4_col0\" class=\"data row4 col0\" >Light Gradient Boosting Machine</td>\n",
       "                        <td id=\"T_f8ba92da_d272_11ec_ad4b_7085c2294e08row4_col1\" class=\"data row4 col1\" >0.7368</td>\n",
       "                        <td id=\"T_f8ba92da_d272_11ec_ad4b_7085c2294e08row4_col2\" class=\"data row4 col2\" >0.6577</td>\n",
       "                        <td id=\"T_f8ba92da_d272_11ec_ad4b_7085c2294e08row4_col3\" class=\"data row4 col3\" >0.2604</td>\n",
       "                        <td id=\"T_f8ba92da_d272_11ec_ad4b_7085c2294e08row4_col4\" class=\"data row4 col4\" >0.3918</td>\n",
       "                        <td id=\"T_f8ba92da_d272_11ec_ad4b_7085c2294e08row4_col5\" class=\"data row4 col5\" >0.3098</td>\n",
       "                        <td id=\"T_f8ba92da_d272_11ec_ad4b_7085c2294e08row4_col6\" class=\"data row4 col6\" >0.1603</td>\n",
       "                        <td id=\"T_f8ba92da_d272_11ec_ad4b_7085c2294e08row4_col7\" class=\"data row4 col7\" >0.1643</td>\n",
       "                        <td id=\"T_f8ba92da_d272_11ec_ad4b_7085c2294e08row4_col8\" class=\"data row4 col8\" >0.2080</td>\n",
       "            </tr>\n",
       "            <tr>\n",
       "                        <th id=\"T_f8ba92da_d272_11ec_ad4b_7085c2294e08level0_row5\" class=\"row_heading level0 row5\" >gbc</th>\n",
       "                        <td id=\"T_f8ba92da_d272_11ec_ad4b_7085c2294e08row5_col0\" class=\"data row5 col0\" >Gradient Boosting Classifier</td>\n",
       "                        <td id=\"T_f8ba92da_d272_11ec_ad4b_7085c2294e08row5_col1\" class=\"data row5 col1\" >0.7688</td>\n",
       "                        <td id=\"T_f8ba92da_d272_11ec_ad4b_7085c2294e08row5_col2\" class=\"data row5 col2\" >0.6755</td>\n",
       "                        <td id=\"T_f8ba92da_d272_11ec_ad4b_7085c2294e08row5_col3\" class=\"data row5 col3\" >0.2286</td>\n",
       "                        <td id=\"T_f8ba92da_d272_11ec_ad4b_7085c2294e08row5_col4\" class=\"data row5 col4\" >0.4767</td>\n",
       "                        <td id=\"T_f8ba92da_d272_11ec_ad4b_7085c2294e08row5_col5\" class=\"data row5 col5\" >0.3020</td>\n",
       "                        <td id=\"T_f8ba92da_d272_11ec_ad4b_7085c2294e08row5_col6\" class=\"data row5 col6\" >0.1938</td>\n",
       "                        <td id=\"T_f8ba92da_d272_11ec_ad4b_7085c2294e08row5_col7\" class=\"data row5 col7\" >0.2105</td>\n",
       "                        <td id=\"T_f8ba92da_d272_11ec_ad4b_7085c2294e08row5_col8\" class=\"data row5 col8\" >0.0500</td>\n",
       "            </tr>\n",
       "            <tr>\n",
       "                        <th id=\"T_f8ba92da_d272_11ec_ad4b_7085c2294e08level0_row6\" class=\"row_heading level0 row6\" >lda</th>\n",
       "                        <td id=\"T_f8ba92da_d272_11ec_ad4b_7085c2294e08row6_col0\" class=\"data row6 col0\" >Linear Discriminant Analysis</td>\n",
       "                        <td id=\"T_f8ba92da_d272_11ec_ad4b_7085c2294e08row6_col1\" class=\"data row6 col1\" >0.7404</td>\n",
       "                        <td id=\"T_f8ba92da_d272_11ec_ad4b_7085c2294e08row6_col2\" class=\"data row6 col2\" >0.6275</td>\n",
       "                        <td id=\"T_f8ba92da_d272_11ec_ad4b_7085c2294e08row6_col3\" class=\"data row6 col3\" >0.2440</td>\n",
       "                        <td id=\"T_f8ba92da_d272_11ec_ad4b_7085c2294e08row6_col4\" class=\"data row6 col4\" >0.4288</td>\n",
       "                        <td id=\"T_f8ba92da_d272_11ec_ad4b_7085c2294e08row6_col5\" class=\"data row6 col5\" >0.2931</td>\n",
       "                        <td id=\"T_f8ba92da_d272_11ec_ad4b_7085c2294e08row6_col6\" class=\"data row6 col6\" >0.1537</td>\n",
       "                        <td id=\"T_f8ba92da_d272_11ec_ad4b_7085c2294e08row6_col7\" class=\"data row6 col7\" >0.1693</td>\n",
       "                        <td id=\"T_f8ba92da_d272_11ec_ad4b_7085c2294e08row6_col8\" class=\"data row6 col8\" >0.0100</td>\n",
       "            </tr>\n",
       "            <tr>\n",
       "                        <th id=\"T_f8ba92da_d272_11ec_ad4b_7085c2294e08level0_row7\" class=\"row_heading level0 row7\" >ada</th>\n",
       "                        <td id=\"T_f8ba92da_d272_11ec_ad4b_7085c2294e08row7_col0\" class=\"data row7 col0\" >Ada Boost Classifier</td>\n",
       "                        <td id=\"T_f8ba92da_d272_11ec_ad4b_7085c2294e08row7_col1\" class=\"data row7 col1\" >0.7367</td>\n",
       "                        <td id=\"T_f8ba92da_d272_11ec_ad4b_7085c2294e08row7_col2\" class=\"data row7 col2\" >0.6179</td>\n",
       "                        <td id=\"T_f8ba92da_d272_11ec_ad4b_7085c2294e08row7_col3\" class=\"data row7 col3\" >0.2440</td>\n",
       "                        <td id=\"T_f8ba92da_d272_11ec_ad4b_7085c2294e08row7_col4\" class=\"data row7 col4\" >0.4420</td>\n",
       "                        <td id=\"T_f8ba92da_d272_11ec_ad4b_7085c2294e08row7_col5\" class=\"data row7 col5\" >0.2900</td>\n",
       "                        <td id=\"T_f8ba92da_d272_11ec_ad4b_7085c2294e08row7_col6\" class=\"data row7 col6\" >0.1509</td>\n",
       "                        <td id=\"T_f8ba92da_d272_11ec_ad4b_7085c2294e08row7_col7\" class=\"data row7 col7\" >0.1711</td>\n",
       "                        <td id=\"T_f8ba92da_d272_11ec_ad4b_7085c2294e08row7_col8\" class=\"data row7 col8\" >0.0480</td>\n",
       "            </tr>\n",
       "            <tr>\n",
       "                        <th id=\"T_f8ba92da_d272_11ec_ad4b_7085c2294e08level0_row8\" class=\"row_heading level0 row8\" >lr</th>\n",
       "                        <td id=\"T_f8ba92da_d272_11ec_ad4b_7085c2294e08row8_col0\" class=\"data row8 col0\" >Logistic Regression</td>\n",
       "                        <td id=\"T_f8ba92da_d272_11ec_ad4b_7085c2294e08row8_col1\" class=\"data row8 col1\" >0.7758</td>\n",
       "                        <td id=\"T_f8ba92da_d272_11ec_ad4b_7085c2294e08row8_col2\" class=\"data row8 col2\" >0.6560</td>\n",
       "                        <td id=\"T_f8ba92da_d272_11ec_ad4b_7085c2294e08row8_col3\" class=\"data row8 col3\" >0.2132</td>\n",
       "                        <td id=\"T_f8ba92da_d272_11ec_ad4b_7085c2294e08row8_col4\" class=\"data row8 col4\" >0.5533</td>\n",
       "                        <td id=\"T_f8ba92da_d272_11ec_ad4b_7085c2294e08row8_col5\" class=\"data row8 col5\" >0.2809</td>\n",
       "                        <td id=\"T_f8ba92da_d272_11ec_ad4b_7085c2294e08row8_col6\" class=\"data row8 col6\" >0.1927</td>\n",
       "                        <td id=\"T_f8ba92da_d272_11ec_ad4b_7085c2294e08row8_col7\" class=\"data row8 col7\" >0.2280</td>\n",
       "                        <td id=\"T_f8ba92da_d272_11ec_ad4b_7085c2294e08row8_col8\" class=\"data row8 col8\" >0.9340</td>\n",
       "            </tr>\n",
       "            <tr>\n",
       "                        <th id=\"T_f8ba92da_d272_11ec_ad4b_7085c2294e08level0_row9\" class=\"row_heading level0 row9\" >catboost</th>\n",
       "                        <td id=\"T_f8ba92da_d272_11ec_ad4b_7085c2294e08row9_col0\" class=\"data row9 col0\" >CatBoost Classifier</td>\n",
       "                        <td id=\"T_f8ba92da_d272_11ec_ad4b_7085c2294e08row9_col1\" class=\"data row9 col1\" >0.7794</td>\n",
       "                        <td id=\"T_f8ba92da_d272_11ec_ad4b_7085c2294e08row9_col2\" class=\"data row9 col2\" >0.7154</td>\n",
       "                        <td id=\"T_f8ba92da_d272_11ec_ad4b_7085c2294e08row9_col3\" class=\"data row9 col3\" >0.2000</td>\n",
       "                        <td id=\"T_f8ba92da_d272_11ec_ad4b_7085c2294e08row9_col4\" class=\"data row9 col4\" >0.4667</td>\n",
       "                        <td id=\"T_f8ba92da_d272_11ec_ad4b_7085c2294e08row9_col5\" class=\"data row9 col5\" >0.2786</td>\n",
       "                        <td id=\"T_f8ba92da_d272_11ec_ad4b_7085c2294e08row9_col6\" class=\"data row9 col6\" >0.1966</td>\n",
       "                        <td id=\"T_f8ba92da_d272_11ec_ad4b_7085c2294e08row9_col7\" class=\"data row9 col7\" >0.2218</td>\n",
       "                        <td id=\"T_f8ba92da_d272_11ec_ad4b_7085c2294e08row9_col8\" class=\"data row9 col8\" >1.0620</td>\n",
       "            </tr>\n",
       "            <tr>\n",
       "                        <th id=\"T_f8ba92da_d272_11ec_ad4b_7085c2294e08level0_row10\" class=\"row_heading level0 row10\" >svm</th>\n",
       "                        <td id=\"T_f8ba92da_d272_11ec_ad4b_7085c2294e08row10_col0\" class=\"data row10 col0\" >SVM - Linear Kernel</td>\n",
       "                        <td id=\"T_f8ba92da_d272_11ec_ad4b_7085c2294e08row10_col1\" class=\"data row10 col1\" >0.6513</td>\n",
       "                        <td id=\"T_f8ba92da_d272_11ec_ad4b_7085c2294e08row10_col2\" class=\"data row10 col2\" >0.0000</td>\n",
       "                        <td id=\"T_f8ba92da_d272_11ec_ad4b_7085c2294e08row10_col3\" class=\"data row10 col3\" >0.2923</td>\n",
       "                        <td id=\"T_f8ba92da_d272_11ec_ad4b_7085c2294e08row10_col4\" class=\"data row10 col4\" >0.2889</td>\n",
       "                        <td id=\"T_f8ba92da_d272_11ec_ad4b_7085c2294e08row10_col5\" class=\"data row10 col5\" >0.2574</td>\n",
       "                        <td id=\"T_f8ba92da_d272_11ec_ad4b_7085c2294e08row10_col6\" class=\"data row10 col6\" >0.0557</td>\n",
       "                        <td id=\"T_f8ba92da_d272_11ec_ad4b_7085c2294e08row10_col7\" class=\"data row10 col7\" >0.0610</td>\n",
       "                        <td id=\"T_f8ba92da_d272_11ec_ad4b_7085c2294e08row10_col8\" class=\"data row10 col8\" >0.0100</td>\n",
       "            </tr>\n",
       "            <tr>\n",
       "                        <th id=\"T_f8ba92da_d272_11ec_ad4b_7085c2294e08level0_row11\" class=\"row_heading level0 row11\" >et</th>\n",
       "                        <td id=\"T_f8ba92da_d272_11ec_ad4b_7085c2294e08row11_col0\" class=\"data row11 col0\" >Extra Trees Classifier</td>\n",
       "                        <td id=\"T_f8ba92da_d272_11ec_ad4b_7085c2294e08row11_col1\" class=\"data row11 col1\" >0.7509</td>\n",
       "                        <td id=\"T_f8ba92da_d272_11ec_ad4b_7085c2294e08row11_col2\" class=\"data row11 col2\" >0.5971</td>\n",
       "                        <td id=\"T_f8ba92da_d272_11ec_ad4b_7085c2294e08row11_col3\" class=\"data row11 col3\" >0.1824</td>\n",
       "                        <td id=\"T_f8ba92da_d272_11ec_ad4b_7085c2294e08row11_col4\" class=\"data row11 col4\" >0.4950</td>\n",
       "                        <td id=\"T_f8ba92da_d272_11ec_ad4b_7085c2294e08row11_col5\" class=\"data row11 col5\" >0.2510</td>\n",
       "                        <td id=\"T_f8ba92da_d272_11ec_ad4b_7085c2294e08row11_col6\" class=\"data row11 col6\" >0.1343</td>\n",
       "                        <td id=\"T_f8ba92da_d272_11ec_ad4b_7085c2294e08row11_col7\" class=\"data row11 col7\" >0.1669</td>\n",
       "                        <td id=\"T_f8ba92da_d272_11ec_ad4b_7085c2294e08row11_col8\" class=\"data row11 col8\" >0.1100</td>\n",
       "            </tr>\n",
       "            <tr>\n",
       "                        <th id=\"T_f8ba92da_d272_11ec_ad4b_7085c2294e08level0_row12\" class=\"row_heading level0 row12\" >ridge</th>\n",
       "                        <td id=\"T_f8ba92da_d272_11ec_ad4b_7085c2294e08row12_col0\" class=\"data row12 col0\" >Ridge Classifier</td>\n",
       "                        <td id=\"T_f8ba92da_d272_11ec_ad4b_7085c2294e08row12_col1\" class=\"data row12 col1\" >0.7546</td>\n",
       "                        <td id=\"T_f8ba92da_d272_11ec_ad4b_7085c2294e08row12_col2\" class=\"data row12 col2\" >0.0000</td>\n",
       "                        <td id=\"T_f8ba92da_d272_11ec_ad4b_7085c2294e08row12_col3\" class=\"data row12 col3\" >0.1835</td>\n",
       "                        <td id=\"T_f8ba92da_d272_11ec_ad4b_7085c2294e08row12_col4\" class=\"data row12 col4\" >0.3111</td>\n",
       "                        <td id=\"T_f8ba92da_d272_11ec_ad4b_7085c2294e08row12_col5\" class=\"data row12 col5\" >0.2236</td>\n",
       "                        <td id=\"T_f8ba92da_d272_11ec_ad4b_7085c2294e08row12_col6\" class=\"data row12 col6\" >0.1260</td>\n",
       "                        <td id=\"T_f8ba92da_d272_11ec_ad4b_7085c2294e08row12_col7\" class=\"data row12 col7\" >0.1291</td>\n",
       "                        <td id=\"T_f8ba92da_d272_11ec_ad4b_7085c2294e08row12_col8\" class=\"data row12 col8\" >0.0100</td>\n",
       "            </tr>\n",
       "            <tr>\n",
       "                        <th id=\"T_f8ba92da_d272_11ec_ad4b_7085c2294e08level0_row13\" class=\"row_heading level0 row13\" >rf</th>\n",
       "                        <td id=\"T_f8ba92da_d272_11ec_ad4b_7085c2294e08row13_col0\" class=\"data row13 col0\" >Random Forest Classifier</td>\n",
       "                        <td id=\"T_f8ba92da_d272_11ec_ad4b_7085c2294e08row13_col1\" class=\"data row13 col1\" >0.7687</td>\n",
       "                        <td id=\"T_f8ba92da_d272_11ec_ad4b_7085c2294e08row13_col2\" class=\"data row13 col2\" >0.6525</td>\n",
       "                        <td id=\"T_f8ba92da_d272_11ec_ad4b_7085c2294e08row13_col3\" class=\"data row13 col3\" >0.1374</td>\n",
       "                        <td id=\"T_f8ba92da_d272_11ec_ad4b_7085c2294e08row13_col4\" class=\"data row13 col4\" >0.5200</td>\n",
       "                        <td id=\"T_f8ba92da_d272_11ec_ad4b_7085c2294e08row13_col5\" class=\"data row13 col5\" >0.2082</td>\n",
       "                        <td id=\"T_f8ba92da_d272_11ec_ad4b_7085c2294e08row13_col6\" class=\"data row13 col6\" >0.1306</td>\n",
       "                        <td id=\"T_f8ba92da_d272_11ec_ad4b_7085c2294e08row13_col7\" class=\"data row13 col7\" >0.1699</td>\n",
       "                        <td id=\"T_f8ba92da_d272_11ec_ad4b_7085c2294e08row13_col8\" class=\"data row13 col8\" >0.1060</td>\n",
       "            </tr>\n",
       "            <tr>\n",
       "                        <th id=\"T_f8ba92da_d272_11ec_ad4b_7085c2294e08level0_row14\" class=\"row_heading level0 row14\" >knn</th>\n",
       "                        <td id=\"T_f8ba92da_d272_11ec_ad4b_7085c2294e08row14_col0\" class=\"data row14 col0\" >K Neighbors Classifier</td>\n",
       "                        <td id=\"T_f8ba92da_d272_11ec_ad4b_7085c2294e08row14_col1\" class=\"data row14 col1\" >0.7367</td>\n",
       "                        <td id=\"T_f8ba92da_d272_11ec_ad4b_7085c2294e08row14_col2\" class=\"data row14 col2\" >0.6108</td>\n",
       "                        <td id=\"T_f8ba92da_d272_11ec_ad4b_7085c2294e08row14_col3\" class=\"data row14 col3\" >0.1385</td>\n",
       "                        <td id=\"T_f8ba92da_d272_11ec_ad4b_7085c2294e08row14_col4\" class=\"data row14 col4\" >0.2967</td>\n",
       "                        <td id=\"T_f8ba92da_d272_11ec_ad4b_7085c2294e08row14_col5\" class=\"data row14 col5\" >0.1878</td>\n",
       "                        <td id=\"T_f8ba92da_d272_11ec_ad4b_7085c2294e08row14_col6\" class=\"data row14 col6\" >0.0726</td>\n",
       "                        <td id=\"T_f8ba92da_d272_11ec_ad4b_7085c2294e08row14_col7\" class=\"data row14 col7\" >0.0737</td>\n",
       "                        <td id=\"T_f8ba92da_d272_11ec_ad4b_7085c2294e08row14_col8\" class=\"data row14 col8\" >0.0140</td>\n",
       "            </tr>\n",
       "            <tr>\n",
       "                        <th id=\"T_f8ba92da_d272_11ec_ad4b_7085c2294e08level0_row15\" class=\"row_heading level0 row15\" >dummy</th>\n",
       "                        <td id=\"T_f8ba92da_d272_11ec_ad4b_7085c2294e08row15_col0\" class=\"data row15 col0\" >Dummy Classifier</td>\n",
       "                        <td id=\"T_f8ba92da_d272_11ec_ad4b_7085c2294e08row15_col1\" class=\"data row15 col1\" >0.7652</td>\n",
       "                        <td id=\"T_f8ba92da_d272_11ec_ad4b_7085c2294e08row15_col2\" class=\"data row15 col2\" >0.5000</td>\n",
       "                        <td id=\"T_f8ba92da_d272_11ec_ad4b_7085c2294e08row15_col3\" class=\"data row15 col3\" >0.0000</td>\n",
       "                        <td id=\"T_f8ba92da_d272_11ec_ad4b_7085c2294e08row15_col4\" class=\"data row15 col4\" >0.0000</td>\n",
       "                        <td id=\"T_f8ba92da_d272_11ec_ad4b_7085c2294e08row15_col5\" class=\"data row15 col5\" >0.0000</td>\n",
       "                        <td id=\"T_f8ba92da_d272_11ec_ad4b_7085c2294e08row15_col6\" class=\"data row15 col6\" >0.0000</td>\n",
       "                        <td id=\"T_f8ba92da_d272_11ec_ad4b_7085c2294e08row15_col7\" class=\"data row15 col7\" >0.0000</td>\n",
       "                        <td id=\"T_f8ba92da_d272_11ec_ad4b_7085c2294e08row15_col8\" class=\"data row15 col8\" >0.0080</td>\n",
       "            </tr>\n",
       "    </tbody></table>"
      ],
      "text/plain": [
       "<pandas.io.formats.style.Styler at 0x14cea331ca0>"
      ]
     },
     "metadata": {},
     "output_type": "display_data"
    }
   ],
   "source": [
    "top10 = compare_models(sort='F1', n_select=10, fold=5) \n",
    "# 모델들을 비교하여 가장 좋은 순으로 보여줌\n",
    "# sort를 accuracy보다 F1으로 하는것이 더 좋은 f1score랑 accuracy를 낳음,fold 10번하는게 정확도가 올라감"
   ]
  },
  {
   "cell_type": "code",
   "execution_count": 127,
   "metadata": {
    "scrolled": true
   },
   "outputs": [
    {
     "data": {
      "text/html": [
       "<style  type=\"text/css\" >\n",
       "#T_fd448088_d272_11ec_993f_7085c2294e08row5_col0,#T_fd448088_d272_11ec_993f_7085c2294e08row5_col1,#T_fd448088_d272_11ec_993f_7085c2294e08row5_col2,#T_fd448088_d272_11ec_993f_7085c2294e08row5_col3,#T_fd448088_d272_11ec_993f_7085c2294e08row5_col4,#T_fd448088_d272_11ec_993f_7085c2294e08row5_col5,#T_fd448088_d272_11ec_993f_7085c2294e08row5_col6{\n",
       "            background:  yellow;\n",
       "        }</style><table id=\"T_fd448088_d272_11ec_993f_7085c2294e08\" ><thead>    <tr>        <th class=\"blank level0\" ></th>        <th class=\"col_heading level0 col0\" >Accuracy</th>        <th class=\"col_heading level0 col1\" >AUC</th>        <th class=\"col_heading level0 col2\" >Recall</th>        <th class=\"col_heading level0 col3\" >Prec.</th>        <th class=\"col_heading level0 col4\" >F1</th>        <th class=\"col_heading level0 col5\" >Kappa</th>        <th class=\"col_heading level0 col6\" >MCC</th>    </tr></thead><tbody>\n",
       "                <tr>\n",
       "                        <th id=\"T_fd448088_d272_11ec_993f_7085c2294e08level0_row0\" class=\"row_heading level0 row0\" >0</th>\n",
       "                        <td id=\"T_fd448088_d272_11ec_993f_7085c2294e08row0_col0\" class=\"data row0 col0\" >0.7544</td>\n",
       "                        <td id=\"T_fd448088_d272_11ec_993f_7085c2294e08row0_col1\" class=\"data row0 col1\" >0.5000</td>\n",
       "                        <td id=\"T_fd448088_d272_11ec_993f_7085c2294e08row0_col2\" class=\"data row0 col2\" >0.0000</td>\n",
       "                        <td id=\"T_fd448088_d272_11ec_993f_7085c2294e08row0_col3\" class=\"data row0 col3\" >0.0000</td>\n",
       "                        <td id=\"T_fd448088_d272_11ec_993f_7085c2294e08row0_col4\" class=\"data row0 col4\" >0.0000</td>\n",
       "                        <td id=\"T_fd448088_d272_11ec_993f_7085c2294e08row0_col5\" class=\"data row0 col5\" >0.0000</td>\n",
       "                        <td id=\"T_fd448088_d272_11ec_993f_7085c2294e08row0_col6\" class=\"data row0 col6\" >0.0000</td>\n",
       "            </tr>\n",
       "            <tr>\n",
       "                        <th id=\"T_fd448088_d272_11ec_993f_7085c2294e08level0_row1\" class=\"row_heading level0 row1\" >1</th>\n",
       "                        <td id=\"T_fd448088_d272_11ec_993f_7085c2294e08row1_col0\" class=\"data row1 col0\" >0.7679</td>\n",
       "                        <td id=\"T_fd448088_d272_11ec_993f_7085c2294e08row1_col1\" class=\"data row1 col1\" >0.5000</td>\n",
       "                        <td id=\"T_fd448088_d272_11ec_993f_7085c2294e08row1_col2\" class=\"data row1 col2\" >0.0000</td>\n",
       "                        <td id=\"T_fd448088_d272_11ec_993f_7085c2294e08row1_col3\" class=\"data row1 col3\" >0.0000</td>\n",
       "                        <td id=\"T_fd448088_d272_11ec_993f_7085c2294e08row1_col4\" class=\"data row1 col4\" >0.0000</td>\n",
       "                        <td id=\"T_fd448088_d272_11ec_993f_7085c2294e08row1_col5\" class=\"data row1 col5\" >0.0000</td>\n",
       "                        <td id=\"T_fd448088_d272_11ec_993f_7085c2294e08row1_col6\" class=\"data row1 col6\" >0.0000</td>\n",
       "            </tr>\n",
       "            <tr>\n",
       "                        <th id=\"T_fd448088_d272_11ec_993f_7085c2294e08level0_row2\" class=\"row_heading level0 row2\" >2</th>\n",
       "                        <td id=\"T_fd448088_d272_11ec_993f_7085c2294e08row2_col0\" class=\"data row2 col0\" >0.7679</td>\n",
       "                        <td id=\"T_fd448088_d272_11ec_993f_7085c2294e08row2_col1\" class=\"data row2 col1\" >0.5000</td>\n",
       "                        <td id=\"T_fd448088_d272_11ec_993f_7085c2294e08row2_col2\" class=\"data row2 col2\" >0.0000</td>\n",
       "                        <td id=\"T_fd448088_d272_11ec_993f_7085c2294e08row2_col3\" class=\"data row2 col3\" >0.0000</td>\n",
       "                        <td id=\"T_fd448088_d272_11ec_993f_7085c2294e08row2_col4\" class=\"data row2 col4\" >0.0000</td>\n",
       "                        <td id=\"T_fd448088_d272_11ec_993f_7085c2294e08row2_col5\" class=\"data row2 col5\" >0.0000</td>\n",
       "                        <td id=\"T_fd448088_d272_11ec_993f_7085c2294e08row2_col6\" class=\"data row2 col6\" >0.0000</td>\n",
       "            </tr>\n",
       "            <tr>\n",
       "                        <th id=\"T_fd448088_d272_11ec_993f_7085c2294e08level0_row3\" class=\"row_heading level0 row3\" >3</th>\n",
       "                        <td id=\"T_fd448088_d272_11ec_993f_7085c2294e08row3_col0\" class=\"data row3 col0\" >0.7679</td>\n",
       "                        <td id=\"T_fd448088_d272_11ec_993f_7085c2294e08row3_col1\" class=\"data row3 col1\" >0.5000</td>\n",
       "                        <td id=\"T_fd448088_d272_11ec_993f_7085c2294e08row3_col2\" class=\"data row3 col2\" >0.0000</td>\n",
       "                        <td id=\"T_fd448088_d272_11ec_993f_7085c2294e08row3_col3\" class=\"data row3 col3\" >0.0000</td>\n",
       "                        <td id=\"T_fd448088_d272_11ec_993f_7085c2294e08row3_col4\" class=\"data row3 col4\" >0.0000</td>\n",
       "                        <td id=\"T_fd448088_d272_11ec_993f_7085c2294e08row3_col5\" class=\"data row3 col5\" >0.0000</td>\n",
       "                        <td id=\"T_fd448088_d272_11ec_993f_7085c2294e08row3_col6\" class=\"data row3 col6\" >0.0000</td>\n",
       "            </tr>\n",
       "            <tr>\n",
       "                        <th id=\"T_fd448088_d272_11ec_993f_7085c2294e08level0_row4\" class=\"row_heading level0 row4\" >4</th>\n",
       "                        <td id=\"T_fd448088_d272_11ec_993f_7085c2294e08row4_col0\" class=\"data row4 col0\" >0.7679</td>\n",
       "                        <td id=\"T_fd448088_d272_11ec_993f_7085c2294e08row4_col1\" class=\"data row4 col1\" >0.5000</td>\n",
       "                        <td id=\"T_fd448088_d272_11ec_993f_7085c2294e08row4_col2\" class=\"data row4 col2\" >0.0000</td>\n",
       "                        <td id=\"T_fd448088_d272_11ec_993f_7085c2294e08row4_col3\" class=\"data row4 col3\" >0.0000</td>\n",
       "                        <td id=\"T_fd448088_d272_11ec_993f_7085c2294e08row4_col4\" class=\"data row4 col4\" >0.0000</td>\n",
       "                        <td id=\"T_fd448088_d272_11ec_993f_7085c2294e08row4_col5\" class=\"data row4 col5\" >0.0000</td>\n",
       "                        <td id=\"T_fd448088_d272_11ec_993f_7085c2294e08row4_col6\" class=\"data row4 col6\" >0.0000</td>\n",
       "            </tr>\n",
       "            <tr>\n",
       "                        <th id=\"T_fd448088_d272_11ec_993f_7085c2294e08level0_row5\" class=\"row_heading level0 row5\" >Mean</th>\n",
       "                        <td id=\"T_fd448088_d272_11ec_993f_7085c2294e08row5_col0\" class=\"data row5 col0\" >0.7652</td>\n",
       "                        <td id=\"T_fd448088_d272_11ec_993f_7085c2294e08row5_col1\" class=\"data row5 col1\" >0.5000</td>\n",
       "                        <td id=\"T_fd448088_d272_11ec_993f_7085c2294e08row5_col2\" class=\"data row5 col2\" >0.0000</td>\n",
       "                        <td id=\"T_fd448088_d272_11ec_993f_7085c2294e08row5_col3\" class=\"data row5 col3\" >0.0000</td>\n",
       "                        <td id=\"T_fd448088_d272_11ec_993f_7085c2294e08row5_col4\" class=\"data row5 col4\" >0.0000</td>\n",
       "                        <td id=\"T_fd448088_d272_11ec_993f_7085c2294e08row5_col5\" class=\"data row5 col5\" >0.0000</td>\n",
       "                        <td id=\"T_fd448088_d272_11ec_993f_7085c2294e08row5_col6\" class=\"data row5 col6\" >0.0000</td>\n",
       "            </tr>\n",
       "            <tr>\n",
       "                        <th id=\"T_fd448088_d272_11ec_993f_7085c2294e08level0_row6\" class=\"row_heading level0 row6\" >SD</th>\n",
       "                        <td id=\"T_fd448088_d272_11ec_993f_7085c2294e08row6_col0\" class=\"data row6 col0\" >0.0054</td>\n",
       "                        <td id=\"T_fd448088_d272_11ec_993f_7085c2294e08row6_col1\" class=\"data row6 col1\" >0.0000</td>\n",
       "                        <td id=\"T_fd448088_d272_11ec_993f_7085c2294e08row6_col2\" class=\"data row6 col2\" >0.0000</td>\n",
       "                        <td id=\"T_fd448088_d272_11ec_993f_7085c2294e08row6_col3\" class=\"data row6 col3\" >0.0000</td>\n",
       "                        <td id=\"T_fd448088_d272_11ec_993f_7085c2294e08row6_col4\" class=\"data row6 col4\" >0.0000</td>\n",
       "                        <td id=\"T_fd448088_d272_11ec_993f_7085c2294e08row6_col5\" class=\"data row6 col5\" >0.0000</td>\n",
       "                        <td id=\"T_fd448088_d272_11ec_993f_7085c2294e08row6_col6\" class=\"data row6 col6\" >0.0000</td>\n",
       "            </tr>\n",
       "    </tbody></table>"
      ],
      "text/plain": [
       "<pandas.io.formats.style.Styler at 0x14cead86cd0>"
      ]
     },
     "metadata": {},
     "output_type": "display_data"
    }
   ],
   "source": [
    "tuned_top5 = [tune_model(i, fold=5) for i in top10[:5]]\n",
    "# 상위 4개, 5개로 했을 때 제일 좋은 결과가 나옴"
   ]
  },
  {
   "cell_type": "code",
   "execution_count": 128,
   "metadata": {
    "scrolled": true
   },
   "outputs": [
    {
     "data": {
      "text/html": [
       "<style  type=\"text/css\" >\n",
       "#T_fe879b4c_d272_11ec_a8ba_7085c2294e08row10_col0,#T_fe879b4c_d272_11ec_a8ba_7085c2294e08row10_col1,#T_fe879b4c_d272_11ec_a8ba_7085c2294e08row10_col2,#T_fe879b4c_d272_11ec_a8ba_7085c2294e08row10_col3,#T_fe879b4c_d272_11ec_a8ba_7085c2294e08row10_col4,#T_fe879b4c_d272_11ec_a8ba_7085c2294e08row10_col5,#T_fe879b4c_d272_11ec_a8ba_7085c2294e08row10_col6{\n",
       "            background:  yellow;\n",
       "        }</style><table id=\"T_fe879b4c_d272_11ec_a8ba_7085c2294e08\" ><thead>    <tr>        <th class=\"blank level0\" ></th>        <th class=\"col_heading level0 col0\" >Accuracy</th>        <th class=\"col_heading level0 col1\" >AUC</th>        <th class=\"col_heading level0 col2\" >Recall</th>        <th class=\"col_heading level0 col3\" >Prec.</th>        <th class=\"col_heading level0 col4\" >F1</th>        <th class=\"col_heading level0 col5\" >Kappa</th>        <th class=\"col_heading level0 col6\" >MCC</th>    </tr></thead><tbody>\n",
       "                <tr>\n",
       "                        <th id=\"T_fe879b4c_d272_11ec_a8ba_7085c2294e08level0_row0\" class=\"row_heading level0 row0\" >0</th>\n",
       "                        <td id=\"T_fe879b4c_d272_11ec_a8ba_7085c2294e08row0_col0\" class=\"data row0 col0\" >0.7586</td>\n",
       "                        <td id=\"T_fe879b4c_d272_11ec_a8ba_7085c2294e08row0_col1\" class=\"data row0 col1\" >0.7208</td>\n",
       "                        <td id=\"T_fe879b4c_d272_11ec_a8ba_7085c2294e08row0_col2\" class=\"data row0 col2\" >0.0000</td>\n",
       "                        <td id=\"T_fe879b4c_d272_11ec_a8ba_7085c2294e08row0_col3\" class=\"data row0 col3\" >0.0000</td>\n",
       "                        <td id=\"T_fe879b4c_d272_11ec_a8ba_7085c2294e08row0_col4\" class=\"data row0 col4\" >0.0000</td>\n",
       "                        <td id=\"T_fe879b4c_d272_11ec_a8ba_7085c2294e08row0_col5\" class=\"data row0 col5\" >0.0000</td>\n",
       "                        <td id=\"T_fe879b4c_d272_11ec_a8ba_7085c2294e08row0_col6\" class=\"data row0 col6\" >0.0000</td>\n",
       "            </tr>\n",
       "            <tr>\n",
       "                        <th id=\"T_fe879b4c_d272_11ec_a8ba_7085c2294e08level0_row1\" class=\"row_heading level0 row1\" >1</th>\n",
       "                        <td id=\"T_fe879b4c_d272_11ec_a8ba_7085c2294e08row1_col0\" class=\"data row1 col0\" >0.7500</td>\n",
       "                        <td id=\"T_fe879b4c_d272_11ec_a8ba_7085c2294e08row1_col1\" class=\"data row1 col1\" >0.3878</td>\n",
       "                        <td id=\"T_fe879b4c_d272_11ec_a8ba_7085c2294e08row1_col2\" class=\"data row1 col2\" >0.0000</td>\n",
       "                        <td id=\"T_fe879b4c_d272_11ec_a8ba_7085c2294e08row1_col3\" class=\"data row1 col3\" >0.0000</td>\n",
       "                        <td id=\"T_fe879b4c_d272_11ec_a8ba_7085c2294e08row1_col4\" class=\"data row1 col4\" >0.0000</td>\n",
       "                        <td id=\"T_fe879b4c_d272_11ec_a8ba_7085c2294e08row1_col5\" class=\"data row1 col5\" >0.0000</td>\n",
       "                        <td id=\"T_fe879b4c_d272_11ec_a8ba_7085c2294e08row1_col6\" class=\"data row1 col6\" >0.0000</td>\n",
       "            </tr>\n",
       "            <tr>\n",
       "                        <th id=\"T_fe879b4c_d272_11ec_a8ba_7085c2294e08level0_row2\" class=\"row_heading level0 row2\" >2</th>\n",
       "                        <td id=\"T_fe879b4c_d272_11ec_a8ba_7085c2294e08row2_col0\" class=\"data row2 col0\" >0.7500</td>\n",
       "                        <td id=\"T_fe879b4c_d272_11ec_a8ba_7085c2294e08row2_col1\" class=\"data row2 col1\" >0.7619</td>\n",
       "                        <td id=\"T_fe879b4c_d272_11ec_a8ba_7085c2294e08row2_col2\" class=\"data row2 col2\" >0.0000</td>\n",
       "                        <td id=\"T_fe879b4c_d272_11ec_a8ba_7085c2294e08row2_col3\" class=\"data row2 col3\" >0.0000</td>\n",
       "                        <td id=\"T_fe879b4c_d272_11ec_a8ba_7085c2294e08row2_col4\" class=\"data row2 col4\" >0.0000</td>\n",
       "                        <td id=\"T_fe879b4c_d272_11ec_a8ba_7085c2294e08row2_col5\" class=\"data row2 col5\" >0.0000</td>\n",
       "                        <td id=\"T_fe879b4c_d272_11ec_a8ba_7085c2294e08row2_col6\" class=\"data row2 col6\" >0.0000</td>\n",
       "            </tr>\n",
       "            <tr>\n",
       "                        <th id=\"T_fe879b4c_d272_11ec_a8ba_7085c2294e08level0_row3\" class=\"row_heading level0 row3\" >3</th>\n",
       "                        <td id=\"T_fe879b4c_d272_11ec_a8ba_7085c2294e08row3_col0\" class=\"data row3 col0\" >0.6786</td>\n",
       "                        <td id=\"T_fe879b4c_d272_11ec_a8ba_7085c2294e08row3_col1\" class=\"data row3 col1\" >0.5442</td>\n",
       "                        <td id=\"T_fe879b4c_d272_11ec_a8ba_7085c2294e08row3_col2\" class=\"data row3 col2\" >0.0000</td>\n",
       "                        <td id=\"T_fe879b4c_d272_11ec_a8ba_7085c2294e08row3_col3\" class=\"data row3 col3\" >0.0000</td>\n",
       "                        <td id=\"T_fe879b4c_d272_11ec_a8ba_7085c2294e08row3_col4\" class=\"data row3 col4\" >0.0000</td>\n",
       "                        <td id=\"T_fe879b4c_d272_11ec_a8ba_7085c2294e08row3_col5\" class=\"data row3 col5\" >-0.1250</td>\n",
       "                        <td id=\"T_fe879b4c_d272_11ec_a8ba_7085c2294e08row3_col6\" class=\"data row3 col6\" >-0.1601</td>\n",
       "            </tr>\n",
       "            <tr>\n",
       "                        <th id=\"T_fe879b4c_d272_11ec_a8ba_7085c2294e08level0_row4\" class=\"row_heading level0 row4\" >4</th>\n",
       "                        <td id=\"T_fe879b4c_d272_11ec_a8ba_7085c2294e08row4_col0\" class=\"data row4 col0\" >0.7500</td>\n",
       "                        <td id=\"T_fe879b4c_d272_11ec_a8ba_7085c2294e08row4_col1\" class=\"data row4 col1\" >0.6054</td>\n",
       "                        <td id=\"T_fe879b4c_d272_11ec_a8ba_7085c2294e08row4_col2\" class=\"data row4 col2\" >0.0000</td>\n",
       "                        <td id=\"T_fe879b4c_d272_11ec_a8ba_7085c2294e08row4_col3\" class=\"data row4 col3\" >0.0000</td>\n",
       "                        <td id=\"T_fe879b4c_d272_11ec_a8ba_7085c2294e08row4_col4\" class=\"data row4 col4\" >0.0000</td>\n",
       "                        <td id=\"T_fe879b4c_d272_11ec_a8ba_7085c2294e08row4_col5\" class=\"data row4 col5\" >0.0000</td>\n",
       "                        <td id=\"T_fe879b4c_d272_11ec_a8ba_7085c2294e08row4_col6\" class=\"data row4 col6\" >0.0000</td>\n",
       "            </tr>\n",
       "            <tr>\n",
       "                        <th id=\"T_fe879b4c_d272_11ec_a8ba_7085c2294e08level0_row5\" class=\"row_heading level0 row5\" >5</th>\n",
       "                        <td id=\"T_fe879b4c_d272_11ec_a8ba_7085c2294e08row5_col0\" class=\"data row5 col0\" >0.7500</td>\n",
       "                        <td id=\"T_fe879b4c_d272_11ec_a8ba_7085c2294e08row5_col1\" class=\"data row5 col1\" >0.7823</td>\n",
       "                        <td id=\"T_fe879b4c_d272_11ec_a8ba_7085c2294e08row5_col2\" class=\"data row5 col2\" >0.0000</td>\n",
       "                        <td id=\"T_fe879b4c_d272_11ec_a8ba_7085c2294e08row5_col3\" class=\"data row5 col3\" >0.0000</td>\n",
       "                        <td id=\"T_fe879b4c_d272_11ec_a8ba_7085c2294e08row5_col4\" class=\"data row5 col4\" >0.0000</td>\n",
       "                        <td id=\"T_fe879b4c_d272_11ec_a8ba_7085c2294e08row5_col5\" class=\"data row5 col5\" >0.0000</td>\n",
       "                        <td id=\"T_fe879b4c_d272_11ec_a8ba_7085c2294e08row5_col6\" class=\"data row5 col6\" >0.0000</td>\n",
       "            </tr>\n",
       "            <tr>\n",
       "                        <th id=\"T_fe879b4c_d272_11ec_a8ba_7085c2294e08level0_row6\" class=\"row_heading level0 row6\" >6</th>\n",
       "                        <td id=\"T_fe879b4c_d272_11ec_a8ba_7085c2294e08row6_col0\" class=\"data row6 col0\" >0.7857</td>\n",
       "                        <td id=\"T_fe879b4c_d272_11ec_a8ba_7085c2294e08row6_col1\" class=\"data row6 col1\" >0.7727</td>\n",
       "                        <td id=\"T_fe879b4c_d272_11ec_a8ba_7085c2294e08row6_col2\" class=\"data row6 col2\" >0.0000</td>\n",
       "                        <td id=\"T_fe879b4c_d272_11ec_a8ba_7085c2294e08row6_col3\" class=\"data row6 col3\" >0.0000</td>\n",
       "                        <td id=\"T_fe879b4c_d272_11ec_a8ba_7085c2294e08row6_col4\" class=\"data row6 col4\" >0.0000</td>\n",
       "                        <td id=\"T_fe879b4c_d272_11ec_a8ba_7085c2294e08row6_col5\" class=\"data row6 col5\" >0.0000</td>\n",
       "                        <td id=\"T_fe879b4c_d272_11ec_a8ba_7085c2294e08row6_col6\" class=\"data row6 col6\" >0.0000</td>\n",
       "            </tr>\n",
       "            <tr>\n",
       "                        <th id=\"T_fe879b4c_d272_11ec_a8ba_7085c2294e08level0_row7\" class=\"row_heading level0 row7\" >7</th>\n",
       "                        <td id=\"T_fe879b4c_d272_11ec_a8ba_7085c2294e08row7_col0\" class=\"data row7 col0\" >0.7857</td>\n",
       "                        <td id=\"T_fe879b4c_d272_11ec_a8ba_7085c2294e08row7_col1\" class=\"data row7 col1\" >0.5379</td>\n",
       "                        <td id=\"T_fe879b4c_d272_11ec_a8ba_7085c2294e08row7_col2\" class=\"data row7 col2\" >0.0000</td>\n",
       "                        <td id=\"T_fe879b4c_d272_11ec_a8ba_7085c2294e08row7_col3\" class=\"data row7 col3\" >0.0000</td>\n",
       "                        <td id=\"T_fe879b4c_d272_11ec_a8ba_7085c2294e08row7_col4\" class=\"data row7 col4\" >0.0000</td>\n",
       "                        <td id=\"T_fe879b4c_d272_11ec_a8ba_7085c2294e08row7_col5\" class=\"data row7 col5\" >0.0000</td>\n",
       "                        <td id=\"T_fe879b4c_d272_11ec_a8ba_7085c2294e08row7_col6\" class=\"data row7 col6\" >0.0000</td>\n",
       "            </tr>\n",
       "            <tr>\n",
       "                        <th id=\"T_fe879b4c_d272_11ec_a8ba_7085c2294e08level0_row8\" class=\"row_heading level0 row8\" >8</th>\n",
       "                        <td id=\"T_fe879b4c_d272_11ec_a8ba_7085c2294e08row8_col0\" class=\"data row8 col0\" >0.7857</td>\n",
       "                        <td id=\"T_fe879b4c_d272_11ec_a8ba_7085c2294e08row8_col1\" class=\"data row8 col1\" >0.7348</td>\n",
       "                        <td id=\"T_fe879b4c_d272_11ec_a8ba_7085c2294e08row8_col2\" class=\"data row8 col2\" >0.0000</td>\n",
       "                        <td id=\"T_fe879b4c_d272_11ec_a8ba_7085c2294e08row8_col3\" class=\"data row8 col3\" >0.0000</td>\n",
       "                        <td id=\"T_fe879b4c_d272_11ec_a8ba_7085c2294e08row8_col4\" class=\"data row8 col4\" >0.0000</td>\n",
       "                        <td id=\"T_fe879b4c_d272_11ec_a8ba_7085c2294e08row8_col5\" class=\"data row8 col5\" >0.0000</td>\n",
       "                        <td id=\"T_fe879b4c_d272_11ec_a8ba_7085c2294e08row8_col6\" class=\"data row8 col6\" >0.0000</td>\n",
       "            </tr>\n",
       "            <tr>\n",
       "                        <th id=\"T_fe879b4c_d272_11ec_a8ba_7085c2294e08level0_row9\" class=\"row_heading level0 row9\" >9</th>\n",
       "                        <td id=\"T_fe879b4c_d272_11ec_a8ba_7085c2294e08row9_col0\" class=\"data row9 col0\" >0.7857</td>\n",
       "                        <td id=\"T_fe879b4c_d272_11ec_a8ba_7085c2294e08row9_col1\" class=\"data row9 col1\" >0.8182</td>\n",
       "                        <td id=\"T_fe879b4c_d272_11ec_a8ba_7085c2294e08row9_col2\" class=\"data row9 col2\" >0.0000</td>\n",
       "                        <td id=\"T_fe879b4c_d272_11ec_a8ba_7085c2294e08row9_col3\" class=\"data row9 col3\" >0.0000</td>\n",
       "                        <td id=\"T_fe879b4c_d272_11ec_a8ba_7085c2294e08row9_col4\" class=\"data row9 col4\" >0.0000</td>\n",
       "                        <td id=\"T_fe879b4c_d272_11ec_a8ba_7085c2294e08row9_col5\" class=\"data row9 col5\" >0.0000</td>\n",
       "                        <td id=\"T_fe879b4c_d272_11ec_a8ba_7085c2294e08row9_col6\" class=\"data row9 col6\" >0.0000</td>\n",
       "            </tr>\n",
       "            <tr>\n",
       "                        <th id=\"T_fe879b4c_d272_11ec_a8ba_7085c2294e08level0_row10\" class=\"row_heading level0 row10\" >Mean</th>\n",
       "                        <td id=\"T_fe879b4c_d272_11ec_a8ba_7085c2294e08row10_col0\" class=\"data row10 col0\" >0.7580</td>\n",
       "                        <td id=\"T_fe879b4c_d272_11ec_a8ba_7085c2294e08row10_col1\" class=\"data row10 col1\" >0.6666</td>\n",
       "                        <td id=\"T_fe879b4c_d272_11ec_a8ba_7085c2294e08row10_col2\" class=\"data row10 col2\" >0.0000</td>\n",
       "                        <td id=\"T_fe879b4c_d272_11ec_a8ba_7085c2294e08row10_col3\" class=\"data row10 col3\" >0.0000</td>\n",
       "                        <td id=\"T_fe879b4c_d272_11ec_a8ba_7085c2294e08row10_col4\" class=\"data row10 col4\" >0.0000</td>\n",
       "                        <td id=\"T_fe879b4c_d272_11ec_a8ba_7085c2294e08row10_col5\" class=\"data row10 col5\" >-0.0125</td>\n",
       "                        <td id=\"T_fe879b4c_d272_11ec_a8ba_7085c2294e08row10_col6\" class=\"data row10 col6\" >-0.0160</td>\n",
       "            </tr>\n",
       "            <tr>\n",
       "                        <th id=\"T_fe879b4c_d272_11ec_a8ba_7085c2294e08level0_row11\" class=\"row_heading level0 row11\" >SD</th>\n",
       "                        <td id=\"T_fe879b4c_d272_11ec_a8ba_7085c2294e08row11_col0\" class=\"data row11 col0\" >0.0310</td>\n",
       "                        <td id=\"T_fe879b4c_d272_11ec_a8ba_7085c2294e08row11_col1\" class=\"data row11 col1\" >0.1332</td>\n",
       "                        <td id=\"T_fe879b4c_d272_11ec_a8ba_7085c2294e08row11_col2\" class=\"data row11 col2\" >0.0000</td>\n",
       "                        <td id=\"T_fe879b4c_d272_11ec_a8ba_7085c2294e08row11_col3\" class=\"data row11 col3\" >0.0000</td>\n",
       "                        <td id=\"T_fe879b4c_d272_11ec_a8ba_7085c2294e08row11_col4\" class=\"data row11 col4\" >0.0000</td>\n",
       "                        <td id=\"T_fe879b4c_d272_11ec_a8ba_7085c2294e08row11_col5\" class=\"data row11 col5\" >0.0375</td>\n",
       "                        <td id=\"T_fe879b4c_d272_11ec_a8ba_7085c2294e08row11_col6\" class=\"data row11 col6\" >0.0480</td>\n",
       "            </tr>\n",
       "    </tbody></table>"
      ],
      "text/plain": [
       "<pandas.io.formats.style.Styler at 0x14cea7f72b0>"
      ]
     },
     "metadata": {},
     "output_type": "display_data"
    }
   ],
   "source": [
    "blender_top5 = blend_models(estimator_list=tuned_top5) #보팅(voting)해줌"
   ]
  },
  {
   "cell_type": "code",
   "execution_count": 129,
   "metadata": {
    "scrolled": true
   },
   "outputs": [],
   "source": [
    "final_model = finalize_model(blender_top5)\n",
    "prediction = predict_model(final_model, data=test)"
   ]
  },
  {
   "cell_type": "code",
   "execution_count": 130,
   "metadata": {},
   "outputs": [],
   "source": [
    "prediction['Target'] = prediction['Target'].astype(int)\n",
    "prediction['Label'] = prediction['Label'].astype(float)\n",
    "prediction['Label'] = prediction['Label'].astype(int)"
   ]
  },
  {
   "cell_type": "code",
   "execution_count": 131,
   "metadata": {},
   "outputs": [
    {
     "data": {
      "text/plain": [
       "0.7746"
      ]
     },
     "execution_count": 131,
     "metadata": {},
     "output_type": "execute_result"
    }
   ],
   "source": [
    "from pycaret.utils import check_metric\n",
    "check_metric(prediction['Target'], prediction['Label'], metric = 'Accuracy') # 정확도"
   ]
  },
  {
   "cell_type": "code",
   "execution_count": 132,
   "metadata": {
    "scrolled": true
   },
   "outputs": [
    {
     "data": {
      "text/plain": [
       "0.3607"
      ]
     },
     "execution_count": 132,
     "metadata": {},
     "output_type": "execute_result"
    }
   ],
   "source": [
    "# F1score\n",
    "check_metric(prediction['Target'], prediction['Label'], metric = 'F1') "
   ]
  },
  {
   "cell_type": "markdown",
   "metadata": {},
   "source": [
    "## K-fold 및 보팅"
   ]
  },
  {
   "cell_type": "code",
   "execution_count": 133,
   "metadata": {
    "scrolled": true
   },
   "outputs": [],
   "source": [
    "# pycaret\n",
    "from sklearn.model_selection import KFold\n",
    "kf = KFold(n_splits =  10, shuffle = True, random_state = 100) # fold 10번하기\n",
    "\n",
    "acc_list = []\n",
    "py_pred = np.zeros((y_test.shape[0]))\n",
    "for tr_idx, val_idx in kf.split(X_train, y_train) :\n",
    "    tr_x, tr_y = X_train.iloc[tr_idx], y_train.iloc[tr_idx]\n",
    "    val_x, val_y = X_train.iloc[val_idx], y_train.iloc[val_idx]\n",
    "    \n",
    "    final_model.fit(tr_x, tr_y)\n",
    "    \n",
    "    pred = final_model.predict(val_x)\n",
    "    sub_pred = final_model.predict(X_test)\n",
    "    acc = accuracy_score(val_y, pred)\n",
    "    \n",
    "    acc_list.append(acc)\n",
    "    \n",
    "    py_pred += (sub_pred / 10)"
   ]
  },
  {
   "cell_type": "code",
   "execution_count": 134,
   "metadata": {
    "scrolled": true
   },
   "outputs": [
    {
     "name": "stdout",
     "output_type": "stream",
     "text": [
      "acc 평균: 0.7836585365853659\n",
      "pycaret acc: 0.7687861271676301\n",
      "pycaret f1 score 0.42857142857142855\n"
     ]
    }
   ],
   "source": [
    "print('acc 평균:', np.mean(acc_list)) \n",
    "print('pycaret acc:',accuracy_score(np.round(py_pred), y_test)) \n",
    "print('pycaret f1 score', f1_score(np.round(py_pred), y_test)) "
   ]
  },
  {
   "cell_type": "code",
   "execution_count": 135,
   "metadata": {
    "scrolled": true
   },
   "outputs": [],
   "source": [
    "# LogisticRegression\n",
    "from sklearn.model_selection import KFold\n",
    "kf = KFold(n_splits =  10, shuffle = True, random_state = 100) # fold 10번하기\n",
    "\n",
    "lr = LogisticRegression(penalty = 'l2', random_state = 100)\n",
    "acc_list = []\n",
    "lr_pred = np.zeros((y_test.shape[0]))\n",
    "for tr_idx, val_idx in kf.split(X_train, y_train) :\n",
    "    tr_x, tr_y = X_train.iloc[tr_idx], y_train.iloc[tr_idx]\n",
    "    val_x, val_y = X_train.iloc[val_idx], y_train.iloc[val_idx]\n",
    "    \n",
    "    lr.fit(tr_x, tr_y)\n",
    "    \n",
    "    pred = lr.predict(val_x)\n",
    "    sub_pred = lr.predict(X_test)\n",
    "    acc = accuracy_score(val_y, pred)\n",
    "    \n",
    "    acc_list.append(acc)\n",
    "    \n",
    "    lr_pred += (sub_pred / 10)"
   ]
  },
  {
   "cell_type": "code",
   "execution_count": 136,
   "metadata": {
    "scrolled": true
   },
   "outputs": [
    {
     "name": "stdout",
     "output_type": "stream",
     "text": [
      "acc 평균 0.7885365853658536\n",
      "logistic regression acc 0.791907514450867\n",
      "logistic regressionf1 score 0.4375\n"
     ]
    }
   ],
   "source": [
    "from sklearn.metrics import f1_score\n",
    "print('acc 평균', np.mean(acc_list))\n",
    "print('logistic regression acc',accuracy_score(np.round(lr_pred), y_test)) \n",
    "print('logistic regressionf1 score', f1_score(np.round(lr_pred), y_test))"
   ]
  },
  {
   "cell_type": "code",
   "execution_count": 137,
   "metadata": {},
   "outputs": [],
   "source": [
    "# LinearDiscriminantAnalysis\n",
    "from sklearn.model_selection import KFold\n",
    "kf = KFold(n_splits =  10, shuffle = True, random_state = 100) # fold 10번하기\n",
    "\n",
    "lda = LinearDiscriminantAnalysis(n_components=1)\n",
    "acc_list = []\n",
    "lda_pred = np.zeros((y_test.shape[0]))\n",
    "for tr_idx, val_idx in kf.split(X_train, y_train) :\n",
    "    tr_x, tr_y = X_train.iloc[tr_idx], y_train.iloc[tr_idx]\n",
    "    val_x, val_y = X_train.iloc[val_idx], y_train.iloc[val_idx]\n",
    "    \n",
    "    lda.fit(tr_x, tr_y)\n",
    "    \n",
    "    pred = lda.predict(val_x)\n",
    "    sub_pred = lda.predict(X_test)\n",
    "    acc = accuracy_score(val_y, pred)\n",
    "    \n",
    "    acc_list.append(acc)\n",
    "    \n",
    "    lda_pred += (sub_pred / 10)"
   ]
  },
  {
   "cell_type": "code",
   "execution_count": 138,
   "metadata": {
    "scrolled": true
   },
   "outputs": [
    {
     "name": "stdout",
     "output_type": "stream",
     "text": [
      "acc 평균 0.7860975609756097\n",
      "linear discriminant acc 0.791907514450867\n",
      "linear discriminant f1 score 0.4545454545454545\n"
     ]
    }
   ],
   "source": [
    "print('acc 평균', np.mean(acc_list))\n",
    "print('linear discriminant acc',accuracy_score(np.round(lda_pred), y_test)) \n",
    "print('linear discriminant f1 score', f1_score(np.round(lda_pred), y_test))"
   ]
  },
  {
   "cell_type": "code",
   "execution_count": 139,
   "metadata": {
    "scrolled": false
   },
   "outputs": [],
   "source": [
    "# RidgeClassifier\n",
    "from sklearn.model_selection import KFold\n",
    "kf = KFold(n_splits =  10, shuffle = True, random_state = 100) # fold 10번하기\n",
    "\n",
    "rc = RidgeClassifier(random_state=100)\n",
    "\n",
    "acc_list = []\n",
    "rc_pred = np.zeros((y_test.shape[0]))\n",
    "for tr_idx, val_idx in kf.split(X_train, y_train) :\n",
    "    tr_x, tr_y = X_train.iloc[tr_idx], y_train.iloc[tr_idx]\n",
    "    val_x, val_y = X_train.iloc[val_idx], y_train.iloc[val_idx]\n",
    "    \n",
    "    rc.fit(tr_x, tr_y)\n",
    "    \n",
    "    pred = rc.predict(val_x)\n",
    "    sub_pred = rc.predict(X_test)\n",
    "    acc = accuracy_score(val_y, pred)\n",
    "    \n",
    "    acc_list.append(acc)\n",
    "    \n",
    "    rc_pred += (sub_pred / 10)"
   ]
  },
  {
   "cell_type": "code",
   "execution_count": 140,
   "metadata": {},
   "outputs": [
    {
     "name": "stdout",
     "output_type": "stream",
     "text": [
      "acc 평균 0.7985365853658537\n",
      "ridge classifier acc: 0.7861271676300579\n",
      "ridge classifier f1 score: 0.4126984126984127\n"
     ]
    }
   ],
   "source": [
    "print('acc 평균', np.mean(acc_list))\n",
    "print(\"ridge classifier acc:\",accuracy_score(np.round(rc_pred), y_test))\n",
    "print('ridge classifier f1 score:', f1_score(np.round(rc_pred), y_test))"
   ]
  },
  {
   "cell_type": "markdown",
   "metadata": {},
   "source": [
    "### 보팅"
   ]
  },
  {
   "cell_type": "markdown",
   "metadata": {},
   "source": [
    "보팅 (Voting): 투표를 통해 결과 도출"
   ]
  },
  {
   "cell_type": "code",
   "execution_count": 141,
   "metadata": {},
   "outputs": [],
   "source": [
    "kfold_vote = (lr_pred+rc_pred+lda_pred+py_pred)/4 # 정확도랑 f1score가 가장 좋은 4개 모델 kfold한거를 보팅해줌 \n",
    "# ridge classifier, logistic regression, linear discriminant, pycaret"
   ]
  },
  {
   "cell_type": "code",
   "execution_count": 142,
   "metadata": {},
   "outputs": [
    {
     "data": {
      "text/plain": [
       "array([0. , 0. , 0.1, 0. , 0. , 0.3, 0.5, 0. , 0. , 0.2, 3.3, 0. , 0. ,\n",
       "       0. , 0. , 0. , 3.3, 4. , 0.9, 0.7, 0. , 0. , 0. , 0. , 0. , 0. ,\n",
       "       0. , 0.3, 0. , 0. , 0.2, 0. , 0. , 0. , 0. , 0.6, 0. , 0. , 0. ,\n",
       "       0.9, 0. , 0. , 3.5, 0. , 0. , 0. , 0. , 0. , 0. , 0. , 0. , 0.1,\n",
       "       0.5, 0. , 0. , 0. , 0. , 0. , 0. , 0. , 0. , 0. , 0. , 0. , 0. ,\n",
       "       0. , 3.4, 0. , 0. , 0.7, 0. , 0. , 2.2, 0. , 0. , 0. , 0. , 0. ,\n",
       "       3.9, 0. , 0. , 0. , 4. , 0. , 0. , 0. , 0. , 0. , 0. , 0. , 0. ,\n",
       "       0. , 0. , 0. , 3.8, 0.5, 3.8, 0. , 0. , 0. , 3.7, 0. , 0. , 0. ,\n",
       "       0. , 0. , 4. , 0. , 0. , 0. , 0. , 0. , 0. , 4. , 0. , 0. , 0. ,\n",
       "       0. , 1. , 0.8, 0. , 0. , 0. , 0.6, 0. , 0. , 0. , 0. , 0. , 0. ,\n",
       "       0. , 0. , 0. , 4. , 0. , 0. , 0. , 4. , 0. , 0. , 3.7, 0. , 0. ,\n",
       "       0. , 0. , 0.1, 0. , 0. , 0. , 4. , 3.9, 0. , 0.2, 0. , 0. , 0. ,\n",
       "       0. , 0. , 0. , 0. , 0. , 0. , 0. , 0. , 3.9, 0. , 0. , 3.8, 0. ,\n",
       "       0. , 0. , 1.1, 0. ])"
      ]
     },
     "execution_count": 142,
     "metadata": {},
     "output_type": "execute_result"
    }
   ],
   "source": [
    "lr_pred+rc_pred+lda_pred+py_pred"
   ]
  },
  {
   "cell_type": "code",
   "execution_count": 143,
   "metadata": {},
   "outputs": [
    {
     "data": {
      "text/plain": [
       "array([0.   , 0.   , 0.025, 0.   , 0.   , 0.075, 0.125, 0.   , 0.   ,\n",
       "       0.05 , 0.825, 0.   , 0.   , 0.   , 0.   , 0.   , 0.825, 1.   ,\n",
       "       0.225, 0.175, 0.   , 0.   , 0.   , 0.   , 0.   , 0.   , 0.   ,\n",
       "       0.075, 0.   , 0.   , 0.05 , 0.   , 0.   , 0.   , 0.   , 0.15 ,\n",
       "       0.   , 0.   , 0.   , 0.225, 0.   , 0.   , 0.875, 0.   , 0.   ,\n",
       "       0.   , 0.   , 0.   , 0.   , 0.   , 0.   , 0.025, 0.125, 0.   ,\n",
       "       0.   , 0.   , 0.   , 0.   , 0.   , 0.   , 0.   , 0.   , 0.   ,\n",
       "       0.   , 0.   , 0.   , 0.85 , 0.   , 0.   , 0.175, 0.   , 0.   ,\n",
       "       0.55 , 0.   , 0.   , 0.   , 0.   , 0.   , 0.975, 0.   , 0.   ,\n",
       "       0.   , 1.   , 0.   , 0.   , 0.   , 0.   , 0.   , 0.   , 0.   ,\n",
       "       0.   , 0.   , 0.   , 0.   , 0.95 , 0.125, 0.95 , 0.   , 0.   ,\n",
       "       0.   , 0.925, 0.   , 0.   , 0.   , 0.   , 0.   , 1.   , 0.   ,\n",
       "       0.   , 0.   , 0.   , 0.   , 0.   , 1.   , 0.   , 0.   , 0.   ,\n",
       "       0.   , 0.25 , 0.2  , 0.   , 0.   , 0.   , 0.15 , 0.   , 0.   ,\n",
       "       0.   , 0.   , 0.   , 0.   , 0.   , 0.   , 0.   , 1.   , 0.   ,\n",
       "       0.   , 0.   , 1.   , 0.   , 0.   , 0.925, 0.   , 0.   , 0.   ,\n",
       "       0.   , 0.025, 0.   , 0.   , 0.   , 1.   , 0.975, 0.   , 0.05 ,\n",
       "       0.   , 0.   , 0.   , 0.   , 0.   , 0.   , 0.   , 0.   , 0.   ,\n",
       "       0.   , 0.   , 0.975, 0.   , 0.   , 0.95 , 0.   , 0.   , 0.   ,\n",
       "       0.275, 0.   ])"
      ]
     },
     "execution_count": 143,
     "metadata": {},
     "output_type": "execute_result"
    }
   ],
   "source": [
    "(lr_pred+rc_pred+lda_pred+py_pred)/4"
   ]
  },
  {
   "cell_type": "code",
   "execution_count": 144,
   "metadata": {
    "scrolled": true
   },
   "outputs": [
    {
     "name": "stdout",
     "output_type": "stream",
     "text": [
      "kfold voting acc: 0.7976878612716763\n",
      "kfold voting f1 score: 0.46153846153846156\n"
     ]
    }
   ],
   "source": [
    "print('kfold voting acc:',accuracy_score(np.round(kfold_vote), y_test))\n",
    "print('kfold voting f1 score:', f1_score(np.round(kfold_vote), y_test)) "
   ]
  },
  {
   "cell_type": "markdown",
   "metadata": {},
   "source": [
    "정규화 전  정확도, f1score\n",
    "rc_pred+lr_pred+lda_pred+py_pred\n",
    "- 모든 피처(스크린수 포함) 0.8034, 0.4848\n",
    "  - 모든 피처를 사용하면 가장 좋은 정확도를 보여줌\n",
    "- screen 제외 0.7745, 0.4179\n",
    "  - screen 수를 제외하면 0.03 정도의 정확도가 떨어지고 0.066정도의 성능이 떨어짐\n",
    "- screen& act_n 제외 0.7976, 0.4615 # 정규화 안해주는게 더 좋은 결과를 보여줌\n",
    "  - 모든 피처중 act_n를 제외하는 것이 가장 좋은 결과를 보여줌\n",
    "- screen& genre 제외 0.7687, 0.3933\n",
    "  - 장르를 제외하면 0.035 정도의 정확도가 떨어트리고 0.085정도의 성능이 떨어짐\n",
    "- screen& direct 제외 0.7630, 0.4383\n",
    "  - 감독을 제외하면 0.04정도 정확도가 떨어지고 0.046정도의 성능이 떨어짐\n",
    "- screen& dist 제외 0.7745, 0.3999\n",
    "   - 배급사를 제외하면 0.03 정도의 정확도가 떨어지고 0.085정도의 성능이 떨어짐\n",
    "- screen& 네이버 기대지수 제외 0.7803, 0.4242\n",
    "   - 네이버 기대지수를 제외하면 0.0231 정도의 정확도가 떨어지고, 0.06정도의 성능이 떨어짐 \n",
    "- screen& star buzz 제외 0.7803, 0.4242\n",
    "   - star buzz를 제외하면 0.0231 정도의 정확도가 떨어지고, 0.06정도의 성능이 떨어짐 \n",
    "- screen& 네이버 movie buzz 제외 0.7630, 0.2807\n",
    "   - 네이버 movie buzz를 제외하면 0.04 정도의 정확도가 떨어지고, 0.204정도의 성능이 떨어짐 \n",
    "- screen& 구글 트렌드 제외 0.7803, 0.4242\n",
    "   - 구글 movie buzz를 제외하면 0.0231 정도의 정확도가 떨어지고, 0.06정도의 성능이 떨어짐 \n",
    "\n",
    "정규화 후\n",
    "rc_pred+lr_pred+lda_pred+py_pred\n",
    "- screen& act_n 제외 - 0.7919, 0.4375  # 정규화 안해주는게 더 좋은 결과를 보여줌"
   ]
  },
  {
   "cell_type": "markdown",
   "metadata": {},
   "source": [
    "정리하면\n",
    "- 네이버 movie buzz가 가장 중요한 피처라고 할 수 있음\n",
    "- 장르, 배급사, 스크린 수, 네이버 기대지수와 스타버즈, 구글트렌드 순으로 중요하고, 네이버 기대지수와 스타버즈, 구글트렌드의 중요도가 똑같다\n",
    "- 네이버 movie buzz를 포함한 다른 sns 요소들이 예측에 의미 있는 피처들인 것을 보여줌"
   ]
  },
  {
   "cell_type": "markdown",
   "metadata": {},
   "source": [
    "보팅 알고리즘 또한 같은 결과를 보여주지만 안쓰는 이유는 에러가 자주나기 때문에 안정적이지 않음\n",
    "## 보팅"
   ]
  },
  {
   "cell_type": "code",
   "execution_count": 33,
   "metadata": {},
   "outputs": [],
   "source": [
    "from sklearn.ensemble import VotingClassifier"
   ]
  },
  {
   "cell_type": "code",
   "execution_count": 229,
   "metadata": {},
   "outputs": [],
   "source": [
    "vo_clf = VotingClassifier(estimators=[('LR',lr),('LD',lda),('Py',final_model)], voting='soft')"
   ]
  },
  {
   "cell_type": "code",
   "execution_count": 230,
   "metadata": {
    "scrolled": true
   },
   "outputs": [
    {
     "name": "stdout",
     "output_type": "stream",
     "text": [
      "Voting 분류기 정확도 0.7687861271676301\n",
      "f1 0.411764705882353\n"
     ]
    }
   ],
   "source": [
    "vo_clf.fit(X_train, y_train)\n",
    "pred = vo_clf.predict(X_test)\n",
    "print(\"Voting 분류기 정확도\", accuracy_score(y_test, pred))\n",
    "print('f1',f1_score(y_test, pred))"
   ]
  },
  {
   "cell_type": "code",
   "execution_count": 231,
   "metadata": {
    "scrolled": true
   },
   "outputs": [],
   "source": [
    "acc_list = []\n",
    "f1_list = []\n",
    "vo_pred = np.zeros((y_test.shape[0]))\n",
    "for tr_idx, val_idx in kf.split(X_train, y_train) :\n",
    "    tr_x, tr_y = X_train.iloc[tr_idx], y_train.iloc[tr_idx]\n",
    "    val_x, val_y = X_train.iloc[val_idx], y_train.iloc[val_idx]\n",
    "    \n",
    "    vo_clf.fit(tr_x, tr_y)\n",
    "    \n",
    "    pred = vo_clf.predict(val_x)\n",
    "    sub_pred = vo_clf.predict(X_test)\n",
    "    acc = accuracy_score(val_y, pred)\n",
    "    f1_list = f1_score(np.round(vo_pred), y_test)\n",
    "    acc_list.append(acc)\n",
    "    \n",
    "    vo_pred += (sub_pred / 10)"
   ]
  },
  {
   "cell_type": "code",
   "execution_count": 232,
   "metadata": {},
   "outputs": [
    {
     "data": {
      "text/plain": [
       "0.7985365853658537"
      ]
     },
     "execution_count": 232,
     "metadata": {},
     "output_type": "execute_result"
    }
   ],
   "source": [
    "np.mean(acc_list)"
   ]
  },
  {
   "cell_type": "code",
   "execution_count": 233,
   "metadata": {},
   "outputs": [
    {
     "data": {
      "text/plain": [
       "0.7803468208092486"
      ]
     },
     "execution_count": 233,
     "metadata": {},
     "output_type": "execute_result"
    }
   ],
   "source": [
    "accuracy_score(np.round(vo_pred), y_test)"
   ]
  },
  {
   "cell_type": "code",
   "execution_count": 234,
   "metadata": {
    "scrolled": true
   },
   "outputs": [
    {
     "data": {
      "text/plain": [
       "0.42424242424242425"
      ]
     },
     "execution_count": 234,
     "metadata": {},
     "output_type": "execute_result"
    }
   ],
   "source": [
    "from sklearn.metrics import f1_score\n",
    "\n",
    "f1_score(np.round(vo_pred), y_test)"
   ]
  },
  {
   "cell_type": "code",
   "execution_count": null,
   "metadata": {},
   "outputs": [],
   "source": []
  },
  {
   "cell_type": "code",
   "execution_count": 148,
   "metadata": {},
   "outputs": [],
   "source": [
    "from xgboost import XGBClassifier"
   ]
  },
  {
   "cell_type": "code",
   "execution_count": 150,
   "metadata": {},
   "outputs": [],
   "source": [
    "xgb = XGBClassifier(random_state=100)"
   ]
  },
  {
   "cell_type": "code",
   "execution_count": 145,
   "metadata": {},
   "outputs": [],
   "source": [
    "from sklearn.ensemble import StackingClassifier"
   ]
  },
  {
   "cell_type": "code",
   "execution_count": 157,
   "metadata": {},
   "outputs": [],
   "source": [
    "stack_models = [\n",
    "    ('LR',lr),('LD',lda),('RC',rc)\n",
    "]\n"
   ]
  },
  {
   "cell_type": "code",
   "execution_count": 158,
   "metadata": {},
   "outputs": [],
   "source": [
    "stack_reg = StackingClassifier(stack_models, final_estimator=xgb, n_jobs=-1)"
   ]
  },
  {
   "cell_type": "code",
   "execution_count": 159,
   "metadata": {},
   "outputs": [
    {
     "data": {
      "text/plain": [
       "0.7572254335260116"
      ]
     },
     "execution_count": 159,
     "metadata": {},
     "output_type": "execute_result"
    }
   ],
   "source": [
    "stack_reg.fit(X_train, y_train)\n",
    "stack_pred = stack_reg.predict(X_test)\n",
    "accuracy_score(stack_pred , y_test)"
   ]
  },
  {
   "cell_type": "code",
   "execution_count": 169,
   "metadata": {
    "scrolled": true
   },
   "outputs": [
    {
     "data": {
      "image/png": "[encoded data removed]",
      "text/plain": [
       "<Figure size 864x648 with 1 Axes>"
      ]
     },
     "metadata": {},
     "output_type": "display_data"
    },
    {
     "ename": "NameError",
     "evalue": "name 'my_predictions' is not defined",
     "output_type": "error",
     "traceback": [
      "\u001b[1;31m---------------------------------------------------------------------------\u001b[0m",
      "\u001b[1;31mNameError\u001b[0m                                 Traceback (most recent call last)",
      "\u001b[1;32m<ipython-input-169-3df1d4b471bb>\u001b[0m in \u001b[0;36m<module>\u001b[1;34m\u001b[0m\n\u001b[1;32m----> 1\u001b[1;33m \u001b[0macc_eval\u001b[0m\u001b[1;33m(\u001b[0m\u001b[1;34m'Stacking Ensemble'\u001b[0m\u001b[1;33m,\u001b[0m \u001b[0my_test\u001b[0m\u001b[1;33m,\u001b[0m \u001b[0mstack_pred\u001b[0m\u001b[1;33m)\u001b[0m\u001b[1;33m\u001b[0m\u001b[1;33m\u001b[0m\u001b[0m\n\u001b[0m",
      "\u001b[1;32m<ipython-input-165-775237c5bad4>\u001b[0m in \u001b[0;36macc_eval\u001b[1;34m(name_, actual, pred)\u001b[0m\n\u001b[0;32m      6\u001b[0m \u001b[1;33m\u001b[0m\u001b[0m\n\u001b[0;32m      7\u001b[0m     \u001b[0mmse\u001b[0m \u001b[1;33m=\u001b[0m \u001b[0maccuracy_score\u001b[0m\u001b[1;33m(\u001b[0m\u001b[0mactual\u001b[0m\u001b[1;33m,\u001b[0m \u001b[0mpred\u001b[0m\u001b[1;33m)\u001b[0m\u001b[1;33m\u001b[0m\u001b[1;33m\u001b[0m\u001b[0m\n\u001b[1;32m----> 8\u001b[1;33m     \u001b[0mmy_predictions\u001b[0m\u001b[1;33m[\u001b[0m\u001b[0mname_\u001b[0m\u001b[1;33m]\u001b[0m \u001b[1;33m=\u001b[0m \u001b[0mmse\u001b[0m\u001b[1;33m\u001b[0m\u001b[1;33m\u001b[0m\u001b[0m\n\u001b[0m\u001b[0;32m      9\u001b[0m \u001b[1;33m\u001b[0m\u001b[0m\n\u001b[0;32m     10\u001b[0m     \u001b[0my_value\u001b[0m \u001b[1;33m=\u001b[0m \u001b[0msorted\u001b[0m\u001b[1;33m(\u001b[0m\u001b[0mmy_predictions\u001b[0m\u001b[1;33m.\u001b[0m\u001b[0mitems\u001b[0m\u001b[1;33m(\u001b[0m\u001b[1;33m)\u001b[0m\u001b[1;33m,\u001b[0m \u001b[0mkey\u001b[0m\u001b[1;33m=\u001b[0m\u001b[1;32mlambda\u001b[0m \u001b[0mx\u001b[0m\u001b[1;33m:\u001b[0m \u001b[0mx\u001b[0m\u001b[1;33m[\u001b[0m\u001b[1;36m1\u001b[0m\u001b[1;33m]\u001b[0m\u001b[1;33m,\u001b[0m \u001b[0mreverse\u001b[0m\u001b[1;33m=\u001b[0m\u001b[1;32mTrue\u001b[0m\u001b[1;33m)\u001b[0m\u001b[1;33m\u001b[0m\u001b[1;33m\u001b[0m\u001b[0m\n",
      "\u001b[1;31mNameError\u001b[0m: name 'my_predictions' is not defined"
     ]
    }
   ],
   "source": [
    "acc_eval('Stacking Ensemble', y_test, stack_pred)"
   ]
  },
  {
   "cell_type": "code",
   "execution_count": 168,
   "metadata": {},
   "outputs": [],
   "source": [
    "import matplotlib.pyplot as plt\n",
    "import seaborn as sns\n",
    "\n",
    "\n",
    "def plot_predictions(name_, actual, pred):\n",
    "    df = pd.DataFrame({'actual': y_test, 'prediction': pred})\n",
    "    df = df.sort_values(by='actual').reset_index(drop=True)\n",
    "\n",
    "    plt.figure(figsize=(12, 9))\n",
    "    plt.scatter(df.index, df['prediction'], marker='x', color='r')\n",
    "    plt.scatter(df.index, df['actual'], alpha=0.7, marker='o', color='black')\n",
    "    plt.title(name_, fontsize=15)\n",
    "    plt.legend(['prediction', 'actual'], fontsize=12)\n",
    "    plt.show()"
   ]
  },
  {
   "cell_type": "code",
   "execution_count": 165,
   "metadata": {},
   "outputs": [],
   "source": [
    "def acc_eval(name_, actual, pred):\n",
    "    global predictions\n",
    "    global colors\n",
    "\n",
    "    plot_predictions(name_, actual, pred)\n",
    "\n",
    "    mse = accuracy_score(actual, pred)\n",
    "    my_predictions[name_] = mse\n",
    "\n",
    "    y_value = sorted(my_predictions.items(), key=lambda x: x[1], reverse=True)\n",
    "    \n",
    "    df = pd.DataFrame(y_value, columns=['model', 'acc'])\n",
    "    print(df)\n",
    "    min_ = df['acc'].min() - 10\n",
    "    max_ = df['acc'].max() + 10\n",
    "    \n",
    "    length = len(df)\n",
    "    \n",
    "    plt.figure(figsize=(10, length))\n",
    "    ax = plt.subplot()\n",
    "    ax.set_yticks(np.arange(len(df)))\n",
    "    ax.set_yticklabels(df['model'], fontsize=15)\n",
    "    bars = ax.barh(np.arange(len(df)), df['acc'])\n",
    "    \n",
    "    for i, v in enumerate(df['acc']):\n",
    "        idx = np.random.choice(len(colors))\n",
    "        bars[i].set_color(colors[idx])\n",
    "        ax.text(v + 2, i, str(round(v, 3)), color='k', fontsize=15, fontweight='bold')\n",
    "        \n",
    "    plt.title('ACC Error', fontsize=18)\n",
    "    plt.xlim(min_, max_)\n",
    "    \n",
    "    plt.show()\n"
   ]
  },
  {
   "cell_type": "code",
   "execution_count": null,
   "metadata": {},
   "outputs": [],
   "source": []
  }
 ],
 "metadata": {
  "kernelspec": {
   "display_name": "Python 3",
   "language": "python",
   "name": "python3"
  },
  "language_info": {
   "codemirror_mode": {
    "name": "ipython",
    "version": 3
   },
   "file_extension": ".py",
   "mimetype": "text/x-python",
   "name": "python",
   "nbconvert_exporter": "python",
   "pygments_lexer": "ipython3",
   "version": "3.8.5"
  },
  "toc": {
   "base_numbering": 1,
   "nav_menu": {},
   "number_sections": true,
   "sideBar": true,
   "skip_h1_title": false,
   "title_cell": "Table of Contents",
   "title_sidebar": "Contents",
   "toc_cell": false,
   "toc_position": {},
   "toc_section_display": true,
   "toc_window_display": false
  },
  "varInspector": {
   "cols": {
    "lenName": 16,
    "lenType": 16,
    "lenVar": 40
   },
   "kernels_config": {
    "python": {
     "delete_cmd_postfix": "",
     "delete_cmd_prefix": "del ",
     "library": "var_list.py",
     "varRefreshCmd": "print(var_dic_list())"
    },
    "r": {
     "delete_cmd_postfix": ") ",
     "delete_cmd_prefix": "rm(",
     "library": "var_list.r",
     "varRefreshCmd": "cat(var_dic_list()) "
    }
   },
   "types_to_exclude": [
    "module",
    "function",
    "builtin_function_or_method",
    "instance",
    "_Feature"
   ],
   "window_display": false
  }
 },
 "nbformat": 4,
 "nbformat_minor": 4
}
