{
 "cells": [
  {
   "cell_type": "code",
   "execution_count": 1,
   "metadata": {},
   "outputs": [
    {
     "data": {
      "text/plain": [
       "'C:\\\\Users\\\\Seo\\\\Desktop\\\\JaeHee\\\\Programming\\\\final_project\\\\강사님자료'"
      ]
     },
     "execution_count": 1,
     "metadata": {},
     "output_type": "execute_result"
    }
   ],
   "source": [
    "pwd"
   ]
  },
  {
   "cell_type": "code",
   "execution_count": 15,
   "metadata": {},
   "outputs": [],
   "source": [
    "# 라이브러리 import\n",
    "import os\n",
    "import pandas as pd\n",
    "import numpy as np\n",
    "import math\n",
    "\n",
    "from selenium.webdriver.common.alert import Alert\n",
    "from selenium import webdriver  # 라이브러리(모듈) 가져오라\n",
    "# pip install chromedriver_autoinstaller\n",
    "from selenium.webdriver.common.keys import Keys\n",
    "from selenium.webdriver import ActionChains as AC\n",
    "from tqdm import tqdm, tqdm_notebook\n",
    "from tqdm.notebook import tqdm\n",
    "import re\n",
    "from time import sleep\n",
    "import time\n",
    "\n",
    "# 워닝 무시\n",
    "import warnings\n",
    "warnings.filterwarnings('ignore')"
   ]
  },
  {
   "cell_type": "code",
   "execution_count": 82,
   "metadata": {},
   "outputs": [],
   "source": [
    "# 영화배우 이름 검색\n",
    "name = '혜리'\n",
    "\n",
    "# 크롬 옵션\n",
    "options = webdriver.ChromeOptions()  \n",
    "\n",
    "# 크롬 윈도우 사이즈 조절\n",
    "options.add_argument(\"--window-size=800,1200\") # window-size -> 기본 : 1920,1080\n",
    "\n",
    "import chromedriver_autoinstaller\n",
    "chrome_path = chromedriver_autoinstaller.install()\n",
    "driver = webdriver.Chrome(chrome_path, options=options)\n",
    "time.sleep(3)\n",
    "driver.get(\"https://www.naver.com\")\n",
    "\n",
    "# 네이버 검색어 입력 후 검색\n",
    "element = driver.find_element_by_name(\"query\")\n",
    "element.clear()  # 혹시 검색창에 존재하는 텍스트 제거\n",
    "\n",
    "element.send_keys(name)  # 검색창에 검색어 전달\n",
    "element.submit()  # 검색 클릭\n",
    "time.sleep(1)\n",
    "\n",
    "# 프로필 클릭\n",
    "driver.find_element_by_link_text(\"프로필\").click()\n",
    "time.sleep(1)"
   ]
  },
  {
   "cell_type": "markdown",
   "metadata": {},
   "source": [
    "# 1. 배우 수상내역 수집하기"
   ]
  },
  {
   "cell_type": "code",
   "execution_count": 83,
   "metadata": {},
   "outputs": [],
   "source": [
    "# 수상내역 더보기 클릭\n",
    "try:\n",
    "    driver.find_element_by_css_selector(\".cm_content_area._cm_content_area_prize .area_button_arrow\").click()\n",
    "    time.sleep(1)\n",
    "except:\n",
    "    pass"
   ]
  },
  {
   "cell_type": "code",
   "execution_count": 84,
   "metadata": {},
   "outputs": [],
   "source": [
    "# 수상내역 크롤링\n",
    "prize_list = []"
   ]
  },
  {
   "cell_type": "code",
   "execution_count": 85,
   "metadata": {},
   "outputs": [
    {
     "data": {
      "text/plain": [
       "'수상내역\\n2016\\nSAF 연기대상 뉴스타상\\n2016\\n제1회 tvN10 어워즈 여자부문 대세배우상\\n2016\\n제5회 아시아태평양 스타어워즈 신인상\\n2014\\nMBC 방송연예대상 여자 신인상'"
      ]
     },
     "execution_count": 85,
     "metadata": {},
     "output_type": "execute_result"
    }
   ],
   "source": [
    "prize = driver.find_element_by_css_selector(\".cm_content_area._cm_content_area_prize\").text\n",
    "prize"
   ]
  },
  {
   "cell_type": "code",
   "execution_count": 86,
   "metadata": {},
   "outputs": [
    {
     "data": {
      "text/plain": [
       "['2016', '2016', '2016', '2014']"
      ]
     },
     "execution_count": 86,
     "metadata": {},
     "output_type": "execute_result"
    }
   ],
   "source": [
    "# 년도만 세기\n",
    "p = re.compile('[0-9]{4,4}')  # 정규표현식 - 숫자 4자리만 추출하라\n",
    "m = p.findall(prize)\n",
    "m"
   ]
  },
  {
   "cell_type": "code",
   "execution_count": 87,
   "metadata": {},
   "outputs": [
    {
     "data": {
      "text/plain": [
       "['2016', '2016', '2016', '2014']"
      ]
     },
     "execution_count": 87,
     "metadata": {},
     "output_type": "execute_result"
    }
   ],
   "source": [
    "prize_list = prize_list + m\n",
    "prize_list"
   ]
  },
  {
   "cell_type": "code",
   "execution_count": 88,
   "metadata": {
    "scrolled": true
   },
   "outputs": [
    {
     "ename": "NoSuchElementException",
     "evalue": "Message: no such element: Unable to locate element: {\"method\":\"css selector\",\"selector\":\".pg_next.on\"}\n  (Session info: chrome=101.0.4951.54)\nStacktrace:\nBacktrace:\n\tOrdinal0 [0x00F7A8E3+2402531]\n\tOrdinal0 [0x00F0B011+1945617]\n\tOrdinal0 [0x00DFC748+837448]\n\tOrdinal0 [0x00E29330+1020720]\n\tOrdinal0 [0x00E295CB+1021387]\n\tOrdinal0 [0x00E563B2+1205170]\n\tOrdinal0 [0x00E442F4+1131252]\n\tOrdinal0 [0x00E546C2+1197762]\n\tOrdinal0 [0x00E440C6+1130694]\n\tOrdinal0 [0x00E1E676+976502]\n\tOrdinal0 [0x00E1F586+980358]\n\tGetHandleVerifier [0x011EBC42+2511938]\n\tGetHandleVerifier [0x011DED6F+2458991]\n\tGetHandleVerifier [0x010131AA+575914]\n\tGetHandleVerifier [0x01011FA6+571302]\n\tOrdinal0 [0x00F11DEB+1973739]\n\tOrdinal0 [0x00F16778+1992568]\n\tOrdinal0 [0x00F16865+1992805]\n\tOrdinal0 [0x00F1FA41+2030145]\n\tBaseThreadInitThunk [0x75F8FA29+25]\n\tRtlGetAppContainerNamedObjectPath [0x77A07A7E+286]\n\tRtlGetAppContainerNamedObjectPath [0x77A07A4E+238]\n",
     "output_type": "error",
     "traceback": [
      "\u001b[1;31m---------------------------------------------------------------------------\u001b[0m",
      "\u001b[1;31mNoSuchElementException\u001b[0m                    Traceback (most recent call last)",
      "\u001b[1;32m<ipython-input-88-c180bfbab2d6>\u001b[0m in \u001b[0;36m<module>\u001b[1;34m\u001b[0m\n\u001b[0;32m      1\u001b[0m \u001b[1;31m# 수상내역 다음페이지 클릭\u001b[0m\u001b[1;33m\u001b[0m\u001b[1;33m\u001b[0m\u001b[1;33m\u001b[0m\u001b[0m\n\u001b[1;32m----> 2\u001b[1;33m \u001b[1;32mif\u001b[0m \u001b[0mdriver\u001b[0m\u001b[1;33m.\u001b[0m\u001b[0mfind_element_by_css_selector\u001b[0m\u001b[1;33m(\u001b[0m\u001b[1;34m'.pg_next.on'\u001b[0m\u001b[1;33m)\u001b[0m\u001b[1;33m:\u001b[0m\u001b[1;33m\u001b[0m\u001b[1;33m\u001b[0m\u001b[0m\n\u001b[0m\u001b[0;32m      3\u001b[0m     \u001b[0mnext\u001b[0m \u001b[1;33m=\u001b[0m \u001b[0mdriver\u001b[0m\u001b[1;33m.\u001b[0m\u001b[0mfind_element_by_css_selector\u001b[0m\u001b[1;33m(\u001b[0m\u001b[1;34m'.pg_next.on'\u001b[0m\u001b[1;33m)\u001b[0m\u001b[1;33m.\u001b[0m\u001b[0mclick\u001b[0m\u001b[1;33m(\u001b[0m\u001b[1;33m)\u001b[0m\u001b[1;33m\u001b[0m\u001b[1;33m\u001b[0m\u001b[0m\n\u001b[0;32m      4\u001b[0m     \u001b[0mtime\u001b[0m\u001b[1;33m.\u001b[0m\u001b[0msleep\u001b[0m\u001b[1;33m(\u001b[0m\u001b[1;36m2\u001b[0m\u001b[1;33m)\u001b[0m\u001b[1;33m\u001b[0m\u001b[1;33m\u001b[0m\u001b[0m\n",
      "\u001b[1;32m~\\anaconda3\\lib\\site-packages\\selenium\\webdriver\\remote\\webdriver.py\u001b[0m in \u001b[0;36mfind_element_by_css_selector\u001b[1;34m(self, css_selector)\u001b[0m\n\u001b[0;32m    806\u001b[0m             \u001b[0mstacklevel\u001b[0m\u001b[1;33m=\u001b[0m\u001b[1;36m2\u001b[0m\u001b[1;33m,\u001b[0m\u001b[1;33m\u001b[0m\u001b[1;33m\u001b[0m\u001b[0m\n\u001b[0;32m    807\u001b[0m         )\n\u001b[1;32m--> 808\u001b[1;33m         \u001b[1;32mreturn\u001b[0m \u001b[0mself\u001b[0m\u001b[1;33m.\u001b[0m\u001b[0mfind_element\u001b[0m\u001b[1;33m(\u001b[0m\u001b[0mby\u001b[0m\u001b[1;33m=\u001b[0m\u001b[0mBy\u001b[0m\u001b[1;33m.\u001b[0m\u001b[0mCSS_SELECTOR\u001b[0m\u001b[1;33m,\u001b[0m \u001b[0mvalue\u001b[0m\u001b[1;33m=\u001b[0m\u001b[0mcss_selector\u001b[0m\u001b[1;33m)\u001b[0m\u001b[1;33m\u001b[0m\u001b[1;33m\u001b[0m\u001b[0m\n\u001b[0m\u001b[0;32m    809\u001b[0m \u001b[1;33m\u001b[0m\u001b[0m\n\u001b[0;32m    810\u001b[0m     \u001b[1;32mdef\u001b[0m \u001b[0mfind_elements_by_css_selector\u001b[0m\u001b[1;33m(\u001b[0m\u001b[0mself\u001b[0m\u001b[1;33m,\u001b[0m \u001b[0mcss_selector\u001b[0m\u001b[1;33m)\u001b[0m \u001b[1;33m->\u001b[0m \u001b[0mWebElement\u001b[0m\u001b[1;33m:\u001b[0m\u001b[1;33m\u001b[0m\u001b[1;33m\u001b[0m\u001b[0m\n",
      "\u001b[1;32m~\\anaconda3\\lib\\site-packages\\selenium\\webdriver\\remote\\webdriver.py\u001b[0m in \u001b[0;36mfind_element\u001b[1;34m(self, by, value)\u001b[0m\n\u001b[0;32m   1242\u001b[0m             \u001b[0mvalue\u001b[0m \u001b[1;33m=\u001b[0m \u001b[1;34m'[name=\"%s\"]'\u001b[0m \u001b[1;33m%\u001b[0m \u001b[0mvalue\u001b[0m\u001b[1;33m\u001b[0m\u001b[1;33m\u001b[0m\u001b[0m\n\u001b[0;32m   1243\u001b[0m \u001b[1;33m\u001b[0m\u001b[0m\n\u001b[1;32m-> 1244\u001b[1;33m         return self.execute(Command.FIND_ELEMENT, {\n\u001b[0m\u001b[0;32m   1245\u001b[0m             \u001b[1;34m'using'\u001b[0m\u001b[1;33m:\u001b[0m \u001b[0mby\u001b[0m\u001b[1;33m,\u001b[0m\u001b[1;33m\u001b[0m\u001b[1;33m\u001b[0m\u001b[0m\n\u001b[0;32m   1246\u001b[0m             'value': value})['value']\n",
      "\u001b[1;32m~\\anaconda3\\lib\\site-packages\\selenium\\webdriver\\remote\\webdriver.py\u001b[0m in \u001b[0;36mexecute\u001b[1;34m(self, driver_command, params)\u001b[0m\n\u001b[0;32m    422\u001b[0m         \u001b[0mresponse\u001b[0m \u001b[1;33m=\u001b[0m \u001b[0mself\u001b[0m\u001b[1;33m.\u001b[0m\u001b[0mcommand_executor\u001b[0m\u001b[1;33m.\u001b[0m\u001b[0mexecute\u001b[0m\u001b[1;33m(\u001b[0m\u001b[0mdriver_command\u001b[0m\u001b[1;33m,\u001b[0m \u001b[0mparams\u001b[0m\u001b[1;33m)\u001b[0m\u001b[1;33m\u001b[0m\u001b[1;33m\u001b[0m\u001b[0m\n\u001b[0;32m    423\u001b[0m         \u001b[1;32mif\u001b[0m \u001b[0mresponse\u001b[0m\u001b[1;33m:\u001b[0m\u001b[1;33m\u001b[0m\u001b[1;33m\u001b[0m\u001b[0m\n\u001b[1;32m--> 424\u001b[1;33m             \u001b[0mself\u001b[0m\u001b[1;33m.\u001b[0m\u001b[0merror_handler\u001b[0m\u001b[1;33m.\u001b[0m\u001b[0mcheck_response\u001b[0m\u001b[1;33m(\u001b[0m\u001b[0mresponse\u001b[0m\u001b[1;33m)\u001b[0m\u001b[1;33m\u001b[0m\u001b[1;33m\u001b[0m\u001b[0m\n\u001b[0m\u001b[0;32m    425\u001b[0m             response['value'] = self._unwrap_value(\n\u001b[0;32m    426\u001b[0m                 response.get('value', None))\n",
      "\u001b[1;32m~\\anaconda3\\lib\\site-packages\\selenium\\webdriver\\remote\\errorhandler.py\u001b[0m in \u001b[0;36mcheck_response\u001b[1;34m(self, response)\u001b[0m\n\u001b[0;32m    245\u001b[0m                 \u001b[0malert_text\u001b[0m \u001b[1;33m=\u001b[0m \u001b[0mvalue\u001b[0m\u001b[1;33m[\u001b[0m\u001b[1;34m'alert'\u001b[0m\u001b[1;33m]\u001b[0m\u001b[1;33m.\u001b[0m\u001b[0mget\u001b[0m\u001b[1;33m(\u001b[0m\u001b[1;34m'text'\u001b[0m\u001b[1;33m)\u001b[0m\u001b[1;33m\u001b[0m\u001b[1;33m\u001b[0m\u001b[0m\n\u001b[0;32m    246\u001b[0m             \u001b[1;32mraise\u001b[0m \u001b[0mexception_class\u001b[0m\u001b[1;33m(\u001b[0m\u001b[0mmessage\u001b[0m\u001b[1;33m,\u001b[0m \u001b[0mscreen\u001b[0m\u001b[1;33m,\u001b[0m \u001b[0mstacktrace\u001b[0m\u001b[1;33m,\u001b[0m \u001b[0malert_text\u001b[0m\u001b[1;33m)\u001b[0m  \u001b[1;31m# type: ignore[call-arg]  # mypy is not smart enough here\u001b[0m\u001b[1;33m\u001b[0m\u001b[1;33m\u001b[0m\u001b[0m\n\u001b[1;32m--> 247\u001b[1;33m         \u001b[1;32mraise\u001b[0m \u001b[0mexception_class\u001b[0m\u001b[1;33m(\u001b[0m\u001b[0mmessage\u001b[0m\u001b[1;33m,\u001b[0m \u001b[0mscreen\u001b[0m\u001b[1;33m,\u001b[0m \u001b[0mstacktrace\u001b[0m\u001b[1;33m)\u001b[0m\u001b[1;33m\u001b[0m\u001b[1;33m\u001b[0m\u001b[0m\n\u001b[0m\u001b[0;32m    248\u001b[0m \u001b[1;33m\u001b[0m\u001b[0m\n\u001b[0;32m    249\u001b[0m     \u001b[1;32mdef\u001b[0m \u001b[0m_value_or_default\u001b[0m\u001b[1;33m(\u001b[0m\u001b[0mself\u001b[0m\u001b[1;33m,\u001b[0m \u001b[0mobj\u001b[0m\u001b[1;33m:\u001b[0m \u001b[0mMapping\u001b[0m\u001b[1;33m[\u001b[0m\u001b[0m_KT\u001b[0m\u001b[1;33m,\u001b[0m \u001b[0m_VT\u001b[0m\u001b[1;33m]\u001b[0m\u001b[1;33m,\u001b[0m \u001b[0mkey\u001b[0m\u001b[1;33m:\u001b[0m \u001b[0m_KT\u001b[0m\u001b[1;33m,\u001b[0m \u001b[0mdefault\u001b[0m\u001b[1;33m:\u001b[0m \u001b[0m_VT\u001b[0m\u001b[1;33m)\u001b[0m \u001b[1;33m->\u001b[0m \u001b[0m_VT\u001b[0m\u001b[1;33m:\u001b[0m\u001b[1;33m\u001b[0m\u001b[1;33m\u001b[0m\u001b[0m\n",
      "\u001b[1;31mNoSuchElementException\u001b[0m: Message: no such element: Unable to locate element: {\"method\":\"css selector\",\"selector\":\".pg_next.on\"}\n  (Session info: chrome=101.0.4951.54)\nStacktrace:\nBacktrace:\n\tOrdinal0 [0x00F7A8E3+2402531]\n\tOrdinal0 [0x00F0B011+1945617]\n\tOrdinal0 [0x00DFC748+837448]\n\tOrdinal0 [0x00E29330+1020720]\n\tOrdinal0 [0x00E295CB+1021387]\n\tOrdinal0 [0x00E563B2+1205170]\n\tOrdinal0 [0x00E442F4+1131252]\n\tOrdinal0 [0x00E546C2+1197762]\n\tOrdinal0 [0x00E440C6+1130694]\n\tOrdinal0 [0x00E1E676+976502]\n\tOrdinal0 [0x00E1F586+980358]\n\tGetHandleVerifier [0x011EBC42+2511938]\n\tGetHandleVerifier [0x011DED6F+2458991]\n\tGetHandleVerifier [0x010131AA+575914]\n\tGetHandleVerifier [0x01011FA6+571302]\n\tOrdinal0 [0x00F11DEB+1973739]\n\tOrdinal0 [0x00F16778+1992568]\n\tOrdinal0 [0x00F16865+1992805]\n\tOrdinal0 [0x00F1FA41+2030145]\n\tBaseThreadInitThunk [0x75F8FA29+25]\n\tRtlGetAppContainerNamedObjectPath [0x77A07A7E+286]\n\tRtlGetAppContainerNamedObjectPath [0x77A07A4E+238]\n"
     ]
    }
   ],
   "source": [
    "# 수상내역 다음페이지 클릭\n",
    "if driver.find_element_by_css_selector('.pg_next.on'):\n",
    "    next = driver.find_element_by_css_selector('.pg_next.on').click()\n",
    "    time.sleep(2)"
   ]
  },
  {
   "cell_type": "code",
   "execution_count": null,
   "metadata": {},
   "outputs": [],
   "source": []
  },
  {
   "cell_type": "code",
   "execution_count": null,
   "metadata": {},
   "outputs": [],
   "source": []
  },
  {
   "cell_type": "markdown",
   "metadata": {},
   "source": [
    "# 배우 수상내역 페이지 for문으로 묶기"
   ]
  },
  {
   "cell_type": "code",
   "execution_count": 89,
   "metadata": {},
   "outputs": [
    {
     "name": "stdout",
     "output_type": "stream",
     "text": [
      "수상 수:  4\n"
     ]
    },
    {
     "data": {
      "text/plain": [
       "['2016', '2016', '2016', '2014']"
      ]
     },
     "execution_count": 89,
     "metadata": {},
     "output_type": "execute_result"
    }
   ],
   "source": [
    "# 영화배우 이름 검색\n",
    "name = '혜리'\n",
    "\n",
    "# 크롬 옵션\n",
    "options = webdriver.ChromeOptions()  \n",
    "\n",
    "# 크롬 윈도우 사이즈 조절\n",
    "options.add_argument(\"--window-size=800,1200\") # window-size -> 기본 : 1920,1080\n",
    "\n",
    "import chromedriver_autoinstaller\n",
    "chrome_path = chromedriver_autoinstaller.install()\n",
    "driver = webdriver.Chrome(chrome_path, options=options)\n",
    "time.sleep(3)\n",
    "driver.get(\"https://www.naver.com\")\n",
    "\n",
    "# 네이버 검색어 입력 후 검색\n",
    "element = driver.find_element_by_name(\"query\")\n",
    "element.clear()  # 혹시 검색창에 존재하는 텍스트 제거\n",
    "\n",
    "element.send_keys(name)  # 검색창에 검색어 전달\n",
    "element.submit()  # 검색 클릭\n",
    "time.sleep(1)\n",
    "\n",
    "# 프로필 클릭\n",
    "driver.find_element_by_link_text(\"프로필\").click()\n",
    "time.sleep(1)\n",
    "\n",
    "# 수상내역 더보기 클릭\n",
    "try:\n",
    "    driver.find_element_by_css_selector(\".cm_content_area._cm_content_area_prize .area_button_arrow\").click()\n",
    "    time.sleep(1)\n",
    "except:\n",
    "    pass\n",
    "\n",
    "# 수상내역 갯수 세기\n",
    "prize_list = []\n",
    "\n",
    "for i in range(0, 100):  # 수상내역 페이지 최대 100페이지까지 수집할 수 있게 설정\n",
    "    try:\n",
    "        # 수상내역 크롤링\n",
    "        prize = driver.find_element_by_css_selector(\".cm_content_area._cm_content_area_prize\").text\n",
    "        # 년도만 세기\n",
    "        p = re.compile('[0-9]{4,4}')   # 정규표현식으로 \"0-9숫자 4자리\" 수집\n",
    "        m = p.findall(prize)           # prize 중에서 모두 찾아라(findall 함수)\n",
    "        prize_list = prize_list + m    # 페이지 별 수상내역 리스트 전부 합치기\n",
    "\n",
    "        # 수상내역 다음페이지 클릭\n",
    "        if driver.find_element_by_css_selector('.pg_next.on'):\n",
    "            next = driver.find_element_by_css_selector('.pg_next.on').click()\n",
    "            time.sleep(2)\n",
    "    except:  \n",
    "        break\n",
    "    \n",
    "print('수상 수: ', len(prize_list))\n",
    "prize_list"
   ]
  },
  {
   "cell_type": "markdown",
   "metadata": {},
   "source": [
    "# 2. 배우 필모그래피 수집하기"
   ]
  },
  {
   "cell_type": "code",
   "execution_count": 90,
   "metadata": {},
   "outputs": [],
   "source": [
    "# 필모그래피 클릭\n",
    "driver.find_element_by_link_text(\"필모그래피\").click()\n",
    "time.sleep(1)"
   ]
  },
  {
   "cell_type": "code",
   "execution_count": 91,
   "metadata": {},
   "outputs": [],
   "source": [
    "# 인기순 클릭\n",
    "driver.find_element_by_link_text(\"인기순\").click()\n",
    "time.sleep(1)"
   ]
  },
  {
   "cell_type": "code",
   "execution_count": 92,
   "metadata": {},
   "outputs": [
    {
     "data": {
      "text/plain": [
       "'2'"
      ]
     },
     "execution_count": 92,
     "metadata": {},
     "output_type": "execute_result"
    }
   ],
   "source": [
    "driver.find_element_by_css_selector('.this_text_number').text"
   ]
  },
  {
   "cell_type": "code",
   "execution_count": 93,
   "metadata": {},
   "outputs": [
    {
     "name": "stdout",
     "output_type": "stream",
     "text": [
      "필모 수:  2\n"
     ]
    }
   ],
   "source": [
    "film_num = int(driver.find_element_by_css_selector('.this_text_number').text)\n",
    "print('필모 수: ', film_num)"
   ]
  },
  {
   "cell_type": "code",
   "execution_count": 94,
   "metadata": {},
   "outputs": [
    {
     "name": "stdout",
     "output_type": "stream",
     "text": [
      "페이지 클릭 횟수:  0\n"
     ]
    }
   ],
   "source": [
    "# 페이지 클릭횟수 계산\n",
    "page_click = math.ceil(film_num/4) - 1\n",
    "print('페이지 클릭 횟수: ', page_click)"
   ]
  },
  {
   "cell_type": "code",
   "execution_count": 95,
   "metadata": {},
   "outputs": [],
   "source": [
    "# 영화 데이터 수집\n",
    "\n",
    "score_list = []\n",
    "cast_list = []\n",
    "audiance_list = []\n",
    "main_sub_list = []"
   ]
  },
  {
   "cell_type": "code",
   "execution_count": 96,
   "metadata": {
    "scrolled": true
   },
   "outputs": [
    {
     "ename": "WebDriverException",
     "evalue": "Message: chrome not reachable\n  (Session info: chrome=101.0.4951.54)\nStacktrace:\nBacktrace:\n\tOrdinal0 [0x00F7A8E3+2402531]\n\tOrdinal0 [0x00F0B011+1945617]\n\tOrdinal0 [0x00DFC610+837136]\n\tOrdinal0 [0x00DF0432+787506]\n\tOrdinal0 [0x00DF0C68+789608]\n\tOrdinal0 [0x00DF24A2+795810]\n\tOrdinal0 [0x00DEBF29+769833]\n\tOrdinal0 [0x00DFDAC0+842432]\n\tOrdinal0 [0x00E53EA2+1195682]\n\tOrdinal0 [0x00E440C6+1130694]\n\tOrdinal0 [0x00E1E676+976502]\n\tOrdinal0 [0x00E1F586+980358]\n\tGetHandleVerifier [0x011EBC42+2511938]\n\tGetHandleVerifier [0x011DED6F+2458991]\n\tGetHandleVerifier [0x010131AA+575914]\n\tGetHandleVerifier [0x01011FA6+571302]\n\tOrdinal0 [0x00F11DEB+1973739]\n\tOrdinal0 [0x00F16778+1992568]\n\tOrdinal0 [0x00F16865+1992805]\n\tOrdinal0 [0x00F1FA41+2030145]\n\tBaseThreadInitThunk [0x75F8FA29+25]\n\tRtlGetAppContainerNamedObjectPath [0x77A07A7E+286]\n\tRtlGetAppContainerNamedObjectPath [0x77A07A4E+238]\n",
     "output_type": "error",
     "traceback": [
      "\u001b[1;31m---------------------------------------------------------------------------\u001b[0m",
      "\u001b[1;31mWebDriverException\u001b[0m                        Traceback (most recent call last)",
      "\u001b[1;32m<ipython-input-96-15578dd007ec>\u001b[0m in \u001b[0;36m<module>\u001b[1;34m\u001b[0m\n\u001b[1;32m----> 1\u001b[1;33m \u001b[0mtitles\u001b[0m\u001b[1;33m[\u001b[0m\u001b[1;36m0\u001b[0m\u001b[1;33m]\u001b[0m\u001b[1;33m.\u001b[0m\u001b[0mtext\u001b[0m\u001b[1;33m\u001b[0m\u001b[1;33m\u001b[0m\u001b[0m\n\u001b[0m",
      "\u001b[1;32m~\\anaconda3\\lib\\site-packages\\selenium\\webdriver\\remote\\webelement.py\u001b[0m in \u001b[0;36mtext\u001b[1;34m(self)\u001b[0m\n\u001b[0;32m     75\u001b[0m     \u001b[1;32mdef\u001b[0m \u001b[0mtext\u001b[0m\u001b[1;33m(\u001b[0m\u001b[0mself\u001b[0m\u001b[1;33m)\u001b[0m \u001b[1;33m->\u001b[0m \u001b[0mstr\u001b[0m\u001b[1;33m:\u001b[0m\u001b[1;33m\u001b[0m\u001b[1;33m\u001b[0m\u001b[0m\n\u001b[0;32m     76\u001b[0m         \u001b[1;34m\"\"\"The text of the element.\"\"\"\u001b[0m\u001b[1;33m\u001b[0m\u001b[1;33m\u001b[0m\u001b[0m\n\u001b[1;32m---> 77\u001b[1;33m         \u001b[1;32mreturn\u001b[0m \u001b[0mself\u001b[0m\u001b[1;33m.\u001b[0m\u001b[0m_execute\u001b[0m\u001b[1;33m(\u001b[0m\u001b[0mCommand\u001b[0m\u001b[1;33m.\u001b[0m\u001b[0mGET_ELEMENT_TEXT\u001b[0m\u001b[1;33m)\u001b[0m\u001b[1;33m[\u001b[0m\u001b[1;34m'value'\u001b[0m\u001b[1;33m]\u001b[0m\u001b[1;33m\u001b[0m\u001b[1;33m\u001b[0m\u001b[0m\n\u001b[0m\u001b[0;32m     78\u001b[0m \u001b[1;33m\u001b[0m\u001b[0m\n\u001b[0;32m     79\u001b[0m     \u001b[1;32mdef\u001b[0m \u001b[0mclick\u001b[0m\u001b[1;33m(\u001b[0m\u001b[0mself\u001b[0m\u001b[1;33m)\u001b[0m \u001b[1;33m->\u001b[0m \u001b[1;32mNone\u001b[0m\u001b[1;33m:\u001b[0m\u001b[1;33m\u001b[0m\u001b[1;33m\u001b[0m\u001b[0m\n",
      "\u001b[1;32m~\\anaconda3\\lib\\site-packages\\selenium\\webdriver\\remote\\webelement.py\u001b[0m in \u001b[0;36m_execute\u001b[1;34m(self, command, params)\u001b[0m\n\u001b[0;32m    708\u001b[0m             \u001b[0mparams\u001b[0m \u001b[1;33m=\u001b[0m \u001b[1;33m{\u001b[0m\u001b[1;33m}\u001b[0m\u001b[1;33m\u001b[0m\u001b[1;33m\u001b[0m\u001b[0m\n\u001b[0;32m    709\u001b[0m         \u001b[0mparams\u001b[0m\u001b[1;33m[\u001b[0m\u001b[1;34m'id'\u001b[0m\u001b[1;33m]\u001b[0m \u001b[1;33m=\u001b[0m \u001b[0mself\u001b[0m\u001b[1;33m.\u001b[0m\u001b[0m_id\u001b[0m\u001b[1;33m\u001b[0m\u001b[1;33m\u001b[0m\u001b[0m\n\u001b[1;32m--> 710\u001b[1;33m         \u001b[1;32mreturn\u001b[0m \u001b[0mself\u001b[0m\u001b[1;33m.\u001b[0m\u001b[0m_parent\u001b[0m\u001b[1;33m.\u001b[0m\u001b[0mexecute\u001b[0m\u001b[1;33m(\u001b[0m\u001b[0mcommand\u001b[0m\u001b[1;33m,\u001b[0m \u001b[0mparams\u001b[0m\u001b[1;33m)\u001b[0m\u001b[1;33m\u001b[0m\u001b[1;33m\u001b[0m\u001b[0m\n\u001b[0m\u001b[0;32m    711\u001b[0m \u001b[1;33m\u001b[0m\u001b[0m\n\u001b[0;32m    712\u001b[0m     \u001b[1;32mdef\u001b[0m \u001b[0mfind_element\u001b[0m\u001b[1;33m(\u001b[0m\u001b[0mself\u001b[0m\u001b[1;33m,\u001b[0m \u001b[0mby\u001b[0m\u001b[1;33m=\u001b[0m\u001b[0mBy\u001b[0m\u001b[1;33m.\u001b[0m\u001b[0mID\u001b[0m\u001b[1;33m,\u001b[0m \u001b[0mvalue\u001b[0m\u001b[1;33m=\u001b[0m\u001b[1;32mNone\u001b[0m\u001b[1;33m)\u001b[0m\u001b[1;33m:\u001b[0m\u001b[1;33m\u001b[0m\u001b[1;33m\u001b[0m\u001b[0m\n",
      "\u001b[1;32m~\\anaconda3\\lib\\site-packages\\selenium\\webdriver\\remote\\webdriver.py\u001b[0m in \u001b[0;36mexecute\u001b[1;34m(self, driver_command, params)\u001b[0m\n\u001b[0;32m    422\u001b[0m         \u001b[0mresponse\u001b[0m \u001b[1;33m=\u001b[0m \u001b[0mself\u001b[0m\u001b[1;33m.\u001b[0m\u001b[0mcommand_executor\u001b[0m\u001b[1;33m.\u001b[0m\u001b[0mexecute\u001b[0m\u001b[1;33m(\u001b[0m\u001b[0mdriver_command\u001b[0m\u001b[1;33m,\u001b[0m \u001b[0mparams\u001b[0m\u001b[1;33m)\u001b[0m\u001b[1;33m\u001b[0m\u001b[1;33m\u001b[0m\u001b[0m\n\u001b[0;32m    423\u001b[0m         \u001b[1;32mif\u001b[0m \u001b[0mresponse\u001b[0m\u001b[1;33m:\u001b[0m\u001b[1;33m\u001b[0m\u001b[1;33m\u001b[0m\u001b[0m\n\u001b[1;32m--> 424\u001b[1;33m             \u001b[0mself\u001b[0m\u001b[1;33m.\u001b[0m\u001b[0merror_handler\u001b[0m\u001b[1;33m.\u001b[0m\u001b[0mcheck_response\u001b[0m\u001b[1;33m(\u001b[0m\u001b[0mresponse\u001b[0m\u001b[1;33m)\u001b[0m\u001b[1;33m\u001b[0m\u001b[1;33m\u001b[0m\u001b[0m\n\u001b[0m\u001b[0;32m    425\u001b[0m             response['value'] = self._unwrap_value(\n\u001b[0;32m    426\u001b[0m                 response.get('value', None))\n",
      "\u001b[1;32m~\\anaconda3\\lib\\site-packages\\selenium\\webdriver\\remote\\errorhandler.py\u001b[0m in \u001b[0;36mcheck_response\u001b[1;34m(self, response)\u001b[0m\n\u001b[0;32m    245\u001b[0m                 \u001b[0malert_text\u001b[0m \u001b[1;33m=\u001b[0m \u001b[0mvalue\u001b[0m\u001b[1;33m[\u001b[0m\u001b[1;34m'alert'\u001b[0m\u001b[1;33m]\u001b[0m\u001b[1;33m.\u001b[0m\u001b[0mget\u001b[0m\u001b[1;33m(\u001b[0m\u001b[1;34m'text'\u001b[0m\u001b[1;33m)\u001b[0m\u001b[1;33m\u001b[0m\u001b[1;33m\u001b[0m\u001b[0m\n\u001b[0;32m    246\u001b[0m             \u001b[1;32mraise\u001b[0m \u001b[0mexception_class\u001b[0m\u001b[1;33m(\u001b[0m\u001b[0mmessage\u001b[0m\u001b[1;33m,\u001b[0m \u001b[0mscreen\u001b[0m\u001b[1;33m,\u001b[0m \u001b[0mstacktrace\u001b[0m\u001b[1;33m,\u001b[0m \u001b[0malert_text\u001b[0m\u001b[1;33m)\u001b[0m  \u001b[1;31m# type: ignore[call-arg]  # mypy is not smart enough here\u001b[0m\u001b[1;33m\u001b[0m\u001b[1;33m\u001b[0m\u001b[0m\n\u001b[1;32m--> 247\u001b[1;33m         \u001b[1;32mraise\u001b[0m \u001b[0mexception_class\u001b[0m\u001b[1;33m(\u001b[0m\u001b[0mmessage\u001b[0m\u001b[1;33m,\u001b[0m \u001b[0mscreen\u001b[0m\u001b[1;33m,\u001b[0m \u001b[0mstacktrace\u001b[0m\u001b[1;33m)\u001b[0m\u001b[1;33m\u001b[0m\u001b[1;33m\u001b[0m\u001b[0m\n\u001b[0m\u001b[0;32m    248\u001b[0m \u001b[1;33m\u001b[0m\u001b[0m\n\u001b[0;32m    249\u001b[0m     \u001b[1;32mdef\u001b[0m \u001b[0m_value_or_default\u001b[0m\u001b[1;33m(\u001b[0m\u001b[0mself\u001b[0m\u001b[1;33m,\u001b[0m \u001b[0mobj\u001b[0m\u001b[1;33m:\u001b[0m \u001b[0mMapping\u001b[0m\u001b[1;33m[\u001b[0m\u001b[0m_KT\u001b[0m\u001b[1;33m,\u001b[0m \u001b[0m_VT\u001b[0m\u001b[1;33m]\u001b[0m\u001b[1;33m,\u001b[0m \u001b[0mkey\u001b[0m\u001b[1;33m:\u001b[0m \u001b[0m_KT\u001b[0m\u001b[1;33m,\u001b[0m \u001b[0mdefault\u001b[0m\u001b[1;33m:\u001b[0m \u001b[0m_VT\u001b[0m\u001b[1;33m)\u001b[0m \u001b[1;33m->\u001b[0m \u001b[0m_VT\u001b[0m\u001b[1;33m:\u001b[0m\u001b[1;33m\u001b[0m\u001b[1;33m\u001b[0m\u001b[0m\n",
      "\u001b[1;31mWebDriverException\u001b[0m: Message: chrome not reachable\n  (Session info: chrome=101.0.4951.54)\nStacktrace:\nBacktrace:\n\tOrdinal0 [0x00F7A8E3+2402531]\n\tOrdinal0 [0x00F0B011+1945617]\n\tOrdinal0 [0x00DFC610+837136]\n\tOrdinal0 [0x00DF0432+787506]\n\tOrdinal0 [0x00DF0C68+789608]\n\tOrdinal0 [0x00DF24A2+795810]\n\tOrdinal0 [0x00DEBF29+769833]\n\tOrdinal0 [0x00DFDAC0+842432]\n\tOrdinal0 [0x00E53EA2+1195682]\n\tOrdinal0 [0x00E440C6+1130694]\n\tOrdinal0 [0x00E1E676+976502]\n\tOrdinal0 [0x00E1F586+980358]\n\tGetHandleVerifier [0x011EBC42+2511938]\n\tGetHandleVerifier [0x011DED6F+2458991]\n\tGetHandleVerifier [0x010131AA+575914]\n\tGetHandleVerifier [0x01011FA6+571302]\n\tOrdinal0 [0x00F11DEB+1973739]\n\tOrdinal0 [0x00F16778+1992568]\n\tOrdinal0 [0x00F16865+1992805]\n\tOrdinal0 [0x00F1FA41+2030145]\n\tBaseThreadInitThunk [0x75F8FA29+25]\n\tRtlGetAppContainerNamedObjectPath [0x77A07A7E+286]\n\tRtlGetAppContainerNamedObjectPath [0x77A07A4E+238]\n"
     ]
    }
   ],
   "source": [
    "titles[0].text"
   ]
  },
  {
   "cell_type": "code",
   "execution_count": 97,
   "metadata": {},
   "outputs": [
    {
     "name": "stdout",
     "output_type": "stream",
     "text": [
      "물괴\n"
     ]
    }
   ],
   "source": [
    "i = 0\n",
    "\n",
    "# 제목 수집 해보기\n",
    "\n",
    "# 제목 전체 리스트\n",
    "title_list = []\n",
    "\n",
    "# 제목 페이지별 리스트\n",
    "temp_list = []\n",
    "\n",
    "titles = driver.find_elements_by_css_selector('.this_text')\n",
    "title = titles[0]\n",
    "print(title.text)"
   ]
  },
  {
   "cell_type": "code",
   "execution_count": 98,
   "metadata": {
    "scrolled": true
   },
   "outputs": [
    {
     "data": {
      "text/plain": [
       "['물괴', '판소리 복서']"
      ]
     },
     "execution_count": 98,
     "metadata": {},
     "output_type": "execute_result"
    }
   ],
   "source": [
    "temp_list = []\n",
    "for title in titles:\n",
    "    temp_list.append(title.text)\n",
    "    temp_list = [x for x in temp_list if x !='' and x != '상영중']\n",
    "#     print(temp_list)    \n",
    "title_list = title_list + temp_list    \n",
    "title_list"
   ]
  },
  {
   "cell_type": "code",
   "execution_count": null,
   "metadata": {},
   "outputs": [],
   "source": []
  },
  {
   "cell_type": "code",
   "execution_count": null,
   "metadata": {},
   "outputs": [],
   "source": []
  },
  {
   "cell_type": "markdown",
   "metadata": {},
   "source": [
    "## 배우 필모그래피 for문으로 수집하기"
   ]
  },
  {
   "cell_type": "code",
   "execution_count": null,
   "metadata": {},
   "outputs": [],
   "source": [
    "# 배우 리스트에서 이름 불러와서 name 변수에 저장하고 필모그래피 크롤링하기\n",
    "# pd.read_csv(\"actor_list.csv\")"
   ]
  },
  {
   "cell_type": "code",
   "execution_count": 22,
   "metadata": {},
   "outputs": [],
   "source": [
    "import pandas as pd\n",
    "data = pd.read_csv('data_star_기대.csv')"
   ]
  },
  {
   "cell_type": "code",
   "execution_count": 9,
   "metadata": {},
   "outputs": [],
   "source": [
    "actor = data['actors'][0].split(',')\n",
    "actor = actor[:5]"
   ]
  },
  {
   "cell_type": "code",
   "execution_count": 11,
   "metadata": {},
   "outputs": [
    {
     "data": {
      "text/plain": [
       "' 김인권'"
      ]
     },
     "execution_count": 11,
     "metadata": {},
     "output_type": "execute_result"
    }
   ],
   "source": [
    "actor[1]"
   ]
  },
  {
   "cell_type": "code",
   "execution_count": 37,
   "metadata": {
    "scrolled": true
   },
   "outputs": [
    {
     "name": "stdout",
     "output_type": "stream",
     "text": [
      "필모 수:  19\n",
      "페이지 클릭 횟수:  4\n",
      "관객수 데이터가 있는 영화들만: \n",
      "                  제목  배역    score\n",
      "0   조선명탐정: 각시투구꽃의 비밀  주연  4780000\n",
      "1                판도라  특별  4580000\n",
      "2                연가시  주연  4510000\n",
      "3   조선명탐정 : 사라진 놉의 딸  주연  3870000\n",
      "4    조선명탐정: 흡혈괴마의 비밀  주연  2440000\n",
      "5          내 사랑 내 곁에  주연  2130000\n",
      "6             무방비 도시  주연  1600000\n",
      "7              브이아이피  주연  1370000\n",
      "8                 간첩  주연  1310000\n",
      "9      특별수사: 사형수의 편지  주연  1240000\n",
      "10     장사리 : 잊혀진 영웅들  주연  1140000\n",
      "11                하루  주연  1120000\n",
      "12           파괴된 사나이  주연  1010000\n",
      "13                물괴  주연   720000\n",
      "14                리턴  주연   640000\n",
      "15           페이스 메이커  주연   460000\n",
      "김명민 배우 흥행지수:  914250\n",
      "필모 수:  49\n",
      "페이지 클릭 횟수:  12\n",
      "관객수 데이터가 있는 영화들만: \n",
      "               제목  배역     score\n",
      "0     광해, 왕이 된 남자  조연  12320000\n",
      "1             해운대  조연  11320000\n",
      "2            히말라야  조연   7750000\n",
      "3              타워  조연   5180000\n",
      "4         타짜-신의 손  조연   4010000\n",
      "5          신의 한 수  주연   3560000\n",
      "6               퀵  주연   3120000\n",
      "7            마이웨이  조연   2140000\n",
      "8            초능력자  특별   2130000\n",
      "9             쎄시봉  특별   1710000\n",
      "10  장사리 : 잊혀진 영웅들  주연   1140000\n",
      "11            시크릿  조연   1040000\n",
      "12         전국노래자랑  주연    970000\n",
      "13     고산자, 대동여지도  조연    970000\n",
      "14        방가? 방가!  주연    970000\n",
      "15          마이 파더  조연    900000\n",
      "16             숙명  주연    840000\n",
      "17             물괴  주연    720000\n",
      "18       두 얼굴의 여친  우정    700000\n",
      "19          신부 수업  주연    670000\n",
      "20          아빠는 딸  특별    640000\n",
      "21       말죽거리 잔혹사  조연    600000\n",
      "22      용의주도 미스 신  조연    570000\n",
      "23       신이 보낸 사람  주연    420000\n",
      "24  강철대오: 구국의 철가방  주연    230000\n",
      "25        방법: 재차의  조연    170000\n",
      "26          비밥바룰라  조연     48000\n",
      "27            약장수  주연     44000\n",
      "28         배반의 장미  주연     41000\n",
      "29          다시, 봄  특별     29000\n",
      " 김인권 배우 흥행지수:  856353\n",
      "필모 수:  2\n",
      "페이지 클릭 횟수:  0\n",
      "관객수 데이터가 있는 영화들만: \n",
      "Empty DataFrame\n",
      "Columns: [제목, 배역, score]\n",
      "Index: []\n"
     ]
    },
    {
     "ename": "ZeroDivisionError",
     "evalue": "float division by zero",
     "output_type": "error",
     "traceback": [
      "\u001b[1;31m---------------------------------------------------------------------------\u001b[0m",
      "\u001b[1;31mZeroDivisionError\u001b[0m                         Traceback (most recent call last)",
      "\u001b[1;32m<ipython-input-37-0e32905e81de>\u001b[0m in \u001b[0;36m<module>\u001b[1;34m\u001b[0m\n\u001b[0;32m    124\u001b[0m \u001b[1;33m\u001b[0m\u001b[0m\n\u001b[0;32m    125\u001b[0m         \u001b[1;31m# 배우 흥행지수\u001b[0m\u001b[1;33m\u001b[0m\u001b[1;33m\u001b[0m\u001b[1;33m\u001b[0m\u001b[0m\n\u001b[1;32m--> 126\u001b[1;33m         \u001b[0mactor_score_index\u001b[0m \u001b[1;33m=\u001b[0m \u001b[0mround\u001b[0m\u001b[1;33m(\u001b[0m\u001b[1;33m(\u001b[0m\u001b[0mmain_score\u001b[0m\u001b[1;33m*\u001b[0m\u001b[1;36m0.5\u001b[0m \u001b[1;33m+\u001b[0m \u001b[0msub_score\u001b[0m\u001b[1;33m*\u001b[0m\u001b[1;36m0.4\u001b[0m \u001b[1;33m+\u001b[0m \u001b[0mcast_score\u001b[0m\u001b[1;33m*\u001b[0m\u001b[1;36m0.1\u001b[0m\u001b[1;33m)\u001b[0m \u001b[1;33m/\u001b[0m \u001b[0mlen\u001b[0m\u001b[1;33m(\u001b[0m\u001b[0mdf\u001b[0m\u001b[1;33m)\u001b[0m\u001b[1;33m)\u001b[0m\u001b[1;33m\u001b[0m\u001b[1;33m\u001b[0m\u001b[0m\n\u001b[0m\u001b[0;32m    127\u001b[0m         \u001b[0mprint\u001b[0m\u001b[1;33m(\u001b[0m\u001b[1;34m'{} 배우 흥행지수: '\u001b[0m\u001b[1;33m.\u001b[0m\u001b[0mformat\u001b[0m\u001b[1;33m(\u001b[0m\u001b[0mname\u001b[0m\u001b[1;33m)\u001b[0m\u001b[1;33m,\u001b[0m \u001b[0mactor_score_index\u001b[0m\u001b[1;33m)\u001b[0m\u001b[1;33m\u001b[0m\u001b[1;33m\u001b[0m\u001b[0m\n\u001b[0;32m    128\u001b[0m         \u001b[0mactor_score\u001b[0m\u001b[1;33m.\u001b[0m\u001b[0mappend\u001b[0m\u001b[1;33m(\u001b[0m\u001b[0mactor_score_index\u001b[0m\u001b[1;33m)\u001b[0m\u001b[1;33m\u001b[0m\u001b[1;33m\u001b[0m\u001b[0m\n",
      "\u001b[1;31mZeroDivisionError\u001b[0m: float division by zero"
     ]
    }
   ],
   "source": [
    "# 영화배우 이름 검색\n",
    "# 영화 데이터 수집\n",
    "total_score = []\n",
    "\n",
    "for i in range(len(data)) :   \n",
    "    actor = data['actors'][i].split(',')\n",
    "    actor = actor[:5]\n",
    "    actor_score = []\n",
    "    for ind in actor:    \n",
    "        name = ind\n",
    "        title_list = []\n",
    "        score_list = []\n",
    "        cast_list = []\n",
    "        audiance_list = []\n",
    "        main_sub_list = []\n",
    "        # 크롬 옵션\n",
    "        options = webdriver.ChromeOptions()\n",
    "\n",
    "        # 크롬 윈도우 사이즈 조절\n",
    "        options.add_argument(\"--window-size=800,1200\") # window-size -> 기본 : 1920,1080\n",
    "\n",
    "        import chromedriver_autoinstaller\n",
    "        chrome_path = chromedriver_autoinstaller.install()\n",
    "        driver = webdriver.Chrome(chrome_path, options=options)\n",
    "        time.sleep(3)\n",
    "        driver.get(\"https://www.naver.com\")\n",
    "\n",
    "        # 네이버 검색어 입력 후 검색\n",
    "        element = driver.find_element_by_name(\"query\")\n",
    "        element.clear()  # 혹시 검색창에 존재하는 텍스트 제거\n",
    "\n",
    "        element.send_keys(name)  # 검색창에 검색어 전달\n",
    "        element.submit()  # 검색 클릭\n",
    "        time.sleep(1)\n",
    "\n",
    "        try:\n",
    "            # 필모그래피 클릭\n",
    "            driver.find_element_by_link_text(\"필모그래피\").click()\n",
    "            time.sleep(1)\n",
    "\n",
    "            # 인기순 클릭\n",
    "            driver.find_element_by_link_text(\"인기순\").click()\n",
    "            time.sleep(1)\n",
    "\n",
    "            film_num = int(driver.find_element_by_css_selector('.this_text_number').text)\n",
    "            print('필모 수: ', film_num)\n",
    "\n",
    "            # 페이지 클릭횟수 계산\n",
    "            page_click = math.ceil(film_num/4) - 1\n",
    "            print('페이지 클릭 횟수: ', page_click)\n",
    "\n",
    "\n",
    "            for i in range(page_click):    \n",
    "                # 제목\n",
    "                titles = driver.find_elements_by_css_selector('.this_text')\n",
    "                temp_list = []\n",
    "                for title in titles:\n",
    "                    temp_list.append(title.text)\n",
    "                    temp_list = [x for x in temp_list if x !='' and x != '상영중']\n",
    "            #     print(temp_list)    \n",
    "                title_list = title_list + temp_list    \n",
    "\n",
    "                # 배역\n",
    "                cast_temp = []\n",
    "                for t in range(1, 5):\n",
    "                    try:\n",
    "                        cast = driver.find_element_by_css_selector('#mflick > div:nth-child({}) > div > div > div:nth-child({}) > div.data_area > div > span'.format(i+1, t)).text[:2]\n",
    "                        cast_temp.append(cast)\n",
    "                    except:\n",
    "                        break\n",
    "                cast_list = cast_list + cast_temp        \n",
    "            #     print(cast_temp)\n",
    "\n",
    "\n",
    "                # 관객수\n",
    "                score_temp = []\n",
    "                for j in range(1, 5):\n",
    "                    try:\n",
    "                        score = driver.find_element_by_css_selector('#mflick > div:nth-child({}) > div > div > div:nth-child({}) > div.data_area > div > div.info > dl:nth-child(2)'.format(i+1, j)).text.split('\\n')[1]\n",
    "                        score = score.replace('만','0000').replace(',','')\n",
    "                        if '.' in score:\n",
    "                            score = int(score.replace('.', ''))\n",
    "                            score = round(score*0.1)\n",
    "                        else:\n",
    "                            score = round(int(score))\n",
    "\n",
    "                        score_temp.append(score)\n",
    "                    except:\n",
    "                        break\n",
    "                score_list = score_list + score_temp\n",
    "            #     print(score_temp, '\\n')\n",
    "                if len(score_temp) < 4:\n",
    "                    break\n",
    "\n",
    "                # 필모 다음페이지 클릭\n",
    "                driver.find_element_by_css_selector('.pg_next.on').click()\n",
    "                time.sleep(2)\n",
    "\n",
    "        \n",
    "            title_list = title_list[:len(score_list)]\n",
    "            cast_list = cast_list[:len(score_list)]\n",
    "\n",
    "                # print('\\n', len(title_list))\n",
    "                # print(title_list)\n",
    "                # print(cast_list)\n",
    "                # print(score_list)\n",
    "\n",
    "            df = pd.DataFrame(list(zip(title_list, cast_list, score_list)), columns = ['제목','배역', 'score'])\n",
    "            print('관객수 데이터가 있는 영화들만: ')\n",
    "            print(df)\n",
    "\n",
    "            # 주연 스코어 합\n",
    "            cast_main = df[(df['배역']=='주연')]\n",
    "            main_score = cast_main['score'].sum()\n",
    "\n",
    "            # 조연 스코어 합\n",
    "            cast_sub = df[(df['배역']=='조연')]\n",
    "            sub_score = cast_sub['score'].sum()\n",
    "\n",
    "            # 단역 스코어 합\n",
    "            cast_other = df[(df['배역']!='주연') & (df['배역']!='조연')]\n",
    "            cast_score = cast_other['score'].sum()\n",
    "\n",
    "            # 배우 흥행지수\n",
    "            actor_score_index = round((main_score*0.5 + sub_score*0.4 + cast_score*0.1) / len(df))\n",
    "            print('{} 배우 흥행지수: '.format(name), actor_score_index)\n",
    "            actor_score.append(actor_score_index)\n",
    "        except:\n",
    "            actor_score.append(0)\n",
    "    total_score.append(sum(actor_score))"
   ]
  },
  {
   "cell_type": "code",
   "execution_count": null,
   "metadata": {},
   "outputs": [],
   "source": []
  },
  {
   "cell_type": "code",
   "execution_count": 79,
   "metadata": {},
   "outputs": [
    {
     "name": "stdout",
     "output_type": "stream",
     "text": [
      "필모 수:  2\n",
      "페이지 클릭 횟수:  0\n",
      "관객수 데이터가 있는 영화들만: \n",
      "Empty DataFrame\n",
      "Columns: [제목, 배역, score]\n",
      "Index: []\n"
     ]
    },
    {
     "ename": "ZeroDivisionError",
     "evalue": "float division by zero",
     "output_type": "error",
     "traceback": [
      "\u001b[1;31m---------------------------------------------------------------------------\u001b[0m",
      "\u001b[1;31mZeroDivisionError\u001b[0m                         Traceback (most recent call last)",
      "\u001b[1;32m<ipython-input-79-0a032ed63867>\u001b[0m in \u001b[0;36m<module>\u001b[1;34m\u001b[0m\n\u001b[0;32m    113\u001b[0m \u001b[1;33m\u001b[0m\u001b[0m\n\u001b[0;32m    114\u001b[0m \u001b[1;31m# 배우 흥행지수\u001b[0m\u001b[1;33m\u001b[0m\u001b[1;33m\u001b[0m\u001b[1;33m\u001b[0m\u001b[0m\n\u001b[1;32m--> 115\u001b[1;33m \u001b[0mactor_score_index\u001b[0m \u001b[1;33m=\u001b[0m \u001b[0mround\u001b[0m\u001b[1;33m(\u001b[0m\u001b[1;33m(\u001b[0m\u001b[0mmain_score\u001b[0m\u001b[1;33m*\u001b[0m\u001b[1;36m0.5\u001b[0m \u001b[1;33m+\u001b[0m \u001b[0msub_score\u001b[0m\u001b[1;33m*\u001b[0m\u001b[1;36m0.4\u001b[0m \u001b[1;33m+\u001b[0m \u001b[0mcast_score\u001b[0m\u001b[1;33m*\u001b[0m\u001b[1;36m0.1\u001b[0m\u001b[1;33m)\u001b[0m \u001b[1;33m/\u001b[0m \u001b[0mlen\u001b[0m\u001b[1;33m(\u001b[0m\u001b[0mdf\u001b[0m\u001b[1;33m)\u001b[0m\u001b[1;33m)\u001b[0m\u001b[1;33m\u001b[0m\u001b[1;33m\u001b[0m\u001b[0m\n\u001b[0m\u001b[0;32m    116\u001b[0m \u001b[0mprint\u001b[0m\u001b[1;33m(\u001b[0m\u001b[1;34m'{} 배우 흥행지수: '\u001b[0m\u001b[1;33m.\u001b[0m\u001b[0mformat\u001b[0m\u001b[1;33m(\u001b[0m\u001b[0mname\u001b[0m\u001b[1;33m)\u001b[0m\u001b[1;33m,\u001b[0m \u001b[0mactor_score_index\u001b[0m\u001b[1;33m)\u001b[0m\u001b[1;33m\u001b[0m\u001b[1;33m\u001b[0m\u001b[0m\n",
      "\u001b[1;31mZeroDivisionError\u001b[0m: float division by zero"
     ]
    }
   ],
   "source": [
    "title_list = []\n",
    "score_list = []\n",
    "cast_list = []\n",
    "audiance_list = []\n",
    "main_sub_list = []\n",
    "options = webdriver.ChromeOptions()\n",
    "\n",
    "# 크롬 윈도우 사이즈 조절\n",
    "options.add_argument(\"--window-size=800,1200\") # window-size -> 기본 : 1920,1080\n",
    "\n",
    "import chromedriver_autoinstaller\n",
    "chrome_path = chromedriver_autoinstaller.install()\n",
    "driver = webdriver.Chrome(chrome_path, options=options)\n",
    "time.sleep(3)\n",
    "driver.get(\"https://www.naver.com\")\n",
    "\n",
    "# 네이버 검색어 입력 후 검색\n",
    "element = driver.find_element_by_name(\"query\")\n",
    "element.clear()  # 혹시 검색창에 존재하는 텍스트 제거\n",
    "\n",
    "element.send_keys('혜리')  # 검색창에 검색어 전달\n",
    "element.submit()  # 검색 클릭\n",
    "time.sleep(1)\n",
    "\n",
    "try:\n",
    "    # 필모그래피 클릭\n",
    "    driver.find_element_by_link_text(\"필모그래피\").click()\n",
    "    time.sleep(1)\n",
    "\n",
    "    # 인기순 클릭\n",
    "    driver.find_element_by_link_text(\"인기순\").click()\n",
    "    time.sleep(1)\n",
    "\n",
    "    film_num = int(driver.find_element_by_css_selector('.this_text_number').text)\n",
    "    print('필모 수: ', film_num)\n",
    "\n",
    "    # 페이지 클릭횟수 계산\n",
    "    page_click = math.ceil(film_num/4) - 1\n",
    "    print('페이지 클릭 횟수: ', page_click)\n",
    "\n",
    "    \n",
    "    for i in range(page_click):    \n",
    "        # 제목\n",
    "        titles = driver.find_elements_by_css_selector('.this_text')\n",
    "        temp_list = []\n",
    "        for title in titles:\n",
    "            temp_list.append(title.text)\n",
    "            temp_list = [x for x in temp_list if x !='' and x != '상영중']\n",
    "    #     print(temp_list)       \n",
    "        title_list = title_list + temp_list \n",
    "        # 배역\n",
    "        \n",
    "        cast_temp = []\n",
    "        for t in range(1, 5):\n",
    "            try:\n",
    "                cast = driver.find_element_by_css_selector('#mflick > div:nth-child({}) > div > div > div:nth-child({}) > div.data_area > div > span'.format(i+1, t)).text[:2]\n",
    "                cast_temp.append(cast)\n",
    "            except:\n",
    "                break\n",
    "        cast_list = cast_list + cast_temp        \n",
    "    #     print(cast_temp)\n",
    "        \n",
    "        # 관객수\n",
    "        score_temp = []\n",
    "        for j in range(1, 5):\n",
    "            try:\n",
    "                score = driver.find_element_by_css_selector('#mflick > div:nth-child({}) > div > div > div:nth-child({}) > div.data_area > div > div.info > dl:nth-child(2)'.format(i+1, j)).text.split('\\n')[1]\n",
    "                score = score.replace('만','0000').replace(',','')\n",
    "                if '.' in score:\n",
    "                    score = int(score.replace('.', ''))\n",
    "                    score = round(score*0.1)\n",
    "                else:\n",
    "                    score = round(int(score))\n",
    "\n",
    "                score_temp.append(score)\n",
    "            except:\n",
    "                break\n",
    "        score_list = score_list + score_temp\n",
    "    #     print(score_temp, '\\n')\n",
    "        if len(score_temp) < 4:\n",
    "            break\n",
    "\n",
    "        # 필모 다음페이지 클릭\n",
    "        driver.find_element_by_css_selector('.pg_next.on').click()\n",
    "        time.sleep(2)\n",
    "except:\n",
    "    pass\n",
    "\n",
    "title_list = title_list[:len(score_list)]\n",
    "cast_list = cast_list[:len(score_list)]\n",
    "\n",
    "    # print('\\n', len(title_list))\n",
    "    # print(title_list)\n",
    "    # print(cast_list)\n",
    "    # print(score_list)\n",
    "\n",
    "df = pd.DataFrame(list(zip(title_list, cast_list, score_list)), columns = ['제목','배역', 'score'])\n",
    "print('관객수 데이터가 있는 영화들만: ')\n",
    "print(df)\n",
    "\n",
    "# 주연 스코어 합\n",
    "cast_main = df[(df['배역']=='주연')]\n",
    "main_score = cast_main['score'].sum()\n",
    "\n",
    "# 조연 스코어 합\n",
    "cast_sub = df[(df['배역']=='조연')]\n",
    "sub_score = cast_sub['score'].sum()\n",
    "\n",
    "# 단역 스코어 합\n",
    "cast_other = df[(df['배역']!='주연') & (df['배역']!='조연')]\n",
    "cast_score = cast_other['score'].sum()\n",
    "\n",
    "# 배우 흥행지수\n",
    "actor_score_index = round((main_score*0.5 + sub_score*0.4 + cast_score*0.1) / len(df))\n",
    "print('{} 배우 흥행지수: '.format(name), actor_score_index)"
   ]
  },
  {
   "cell_type": "code",
   "execution_count": 81,
   "metadata": {},
   "outputs": [
    {
     "data": {
      "text/plain": [
       "['물괴', '판소리 복서']"
      ]
     },
     "execution_count": 81,
     "metadata": {},
     "output_type": "execute_result"
    }
   ],
   "source": [
    "temp_list"
   ]
  },
  {
   "cell_type": "code",
   "execution_count": 72,
   "metadata": {},
   "outputs": [
    {
     "data": {
      "text/plain": [
       "['물괴', '판소리 복서']"
      ]
     },
     "execution_count": 72,
     "metadata": {},
     "output_type": "execute_result"
    }
   ],
   "source": [
    "title_list"
   ]
  },
  {
   "cell_type": "raw",
   "metadata": {},
   "source": [
    "<배우 흥행지수>\n",
    "이정재 1961953\n",
    "황정민 1484814\n",
    "김혜수 1355667\n",
    "유해진 1355268\n",
    "김인권 856353\n",
    "박정민 646406\n",
    "류승범 623295\n",
    "정해인 402957\n",
    "구교환 374000\n",
    "김고은 373216"
   ]
  },
  {
   "cell_type": "raw",
   "metadata": {},
   "source": [
    "배우 흥행지수 : (주연관객수*0.5 + 조연관객수*0.4 + 단역관객수*0.1) / 영화수\n",
    "\n",
    "추가로 고려할 사항들 : 수상수, 필모수"
   ]
  },
  {
   "cell_type": "code",
   "execution_count": 4,
   "metadata": {},
   "outputs": [
    {
     "data": {
      "text/html": [
       "<div>\n",
       "<style scoped>\n",
       "    .dataframe tbody tr th:only-of-type {\n",
       "        vertical-align: middle;\n",
       "    }\n",
       "\n",
       "    .dataframe tbody tr th {\n",
       "        vertical-align: top;\n",
       "    }\n",
       "\n",
       "    .dataframe thead th {\n",
       "        text-align: right;\n",
       "    }\n",
       "</style>\n",
       "<table border=\"1\" class=\"dataframe\">\n",
       "  <thead>\n",
       "    <tr style=\"text-align: right;\">\n",
       "      <th></th>\n",
       "      <th>제목</th>\n",
       "      <th>배역</th>\n",
       "      <th>score</th>\n",
       "    </tr>\n",
       "  </thead>\n",
       "  <tbody>\n",
       "    <tr>\n",
       "      <th>2</th>\n",
       "      <td>모가디슈</td>\n",
       "      <td>주연</td>\n",
       "      <td>3610000</td>\n",
       "    </tr>\n",
       "    <tr>\n",
       "      <th>4</th>\n",
       "      <td>메기</td>\n",
       "      <td>주연</td>\n",
       "      <td>42000</td>\n",
       "    </tr>\n",
       "    <tr>\n",
       "      <th>5</th>\n",
       "      <td>꿈의 제인</td>\n",
       "      <td>주연</td>\n",
       "      <td>25000</td>\n",
       "    </tr>\n",
       "    <tr>\n",
       "      <th>6</th>\n",
       "      <td>황금시대</td>\n",
       "      <td>주연</td>\n",
       "      <td>3792</td>\n",
       "    </tr>\n",
       "    <tr>\n",
       "      <th>8</th>\n",
       "      <td>우리 손자 베스트</td>\n",
       "      <td>주연</td>\n",
       "      <td>2327</td>\n",
       "    </tr>\n",
       "    <tr>\n",
       "      <th>9</th>\n",
       "      <td>서울연애</td>\n",
       "      <td>주연</td>\n",
       "      <td>1547</td>\n",
       "    </tr>\n",
       "  </tbody>\n",
       "</table>\n",
       "</div>"
      ],
      "text/plain": [
       "          제목  배역    score\n",
       "2       모가디슈  주연  3610000\n",
       "4         메기  주연    42000\n",
       "5      꿈의 제인  주연    25000\n",
       "6       황금시대  주연     3792\n",
       "8  우리 손자 베스트  주연     2327\n",
       "9       서울연애  주연     1547"
      ]
     },
     "execution_count": 4,
     "metadata": {},
     "output_type": "execute_result"
    }
   ],
   "source": [
    "cast_main = df[(df['배역']=='주연')]\n",
    "cast_main"
   ]
  },
  {
   "cell_type": "raw",
   "metadata": {},
   "source": []
  },
  {
   "cell_type": "raw",
   "metadata": {},
   "source": [
    "metric\n",
    "MAPE -> 고민\n",
    "\n",
    "클라이언트 : 영화관계사 대표, 상사,\n",
    "\n",
    "-> 웹사이트에 영화 예측 시스템 \n",
    "소비자 : 영화 배급사 사람들 \n",
    "   - 니즈 : 수십억 마케팅 비용\n",
    "   - 관객수 ? \n",
    "   \n",
    "   \n",
    "R&R (역할 분담)\n",
    "(메인)1. 데이터 수집, 가공, 분석, 시각화, 머신러닝, 딥러닝, 시계열 예측\n",
    "2. 백엔드 개발자(Node.js, Django) -> FE\n",
    "3. 디자이너 X\n",
    "\n",
    "서비스화\n",
    "\n",
    "데이터 \n",
    "- 시계열\n",
    "- 유투브 official trailor 댓글 수집 -> 크롤링\n",
    "  감성분석 (IDMB 평점 -> 모델링)\n",
    "- 데이터 시각화\n"
   ]
  },
  {
   "cell_type": "code",
   "execution_count": null,
   "metadata": {},
   "outputs": [],
   "source": []
  },
  {
   "cell_type": "code",
   "execution_count": null,
   "metadata": {},
   "outputs": [],
   "source": []
  },
  {
   "cell_type": "code",
   "execution_count": null,
   "metadata": {},
   "outputs": [],
   "source": []
  },
  {
   "cell_type": "code",
   "execution_count": null,
   "metadata": {},
   "outputs": [],
   "source": []
  },
  {
   "cell_type": "code",
   "execution_count": null,
   "metadata": {},
   "outputs": [],
   "source": []
  },
  {
   "cell_type": "code",
   "execution_count": null,
   "metadata": {},
   "outputs": [],
   "source": []
  },
  {
   "cell_type": "code",
   "execution_count": null,
   "metadata": {},
   "outputs": [],
   "source": []
  },
  {
   "cell_type": "code",
   "execution_count": null,
   "metadata": {},
   "outputs": [],
   "source": []
  },
  {
   "cell_type": "code",
   "execution_count": null,
   "metadata": {},
   "outputs": [],
   "source": []
  },
  {
   "cell_type": "code",
   "execution_count": null,
   "metadata": {},
   "outputs": [],
   "source": []
  }
 ],
 "metadata": {
  "kernelspec": {
   "display_name": "Python 3",
   "language": "python",
   "name": "python3"
  },
  "language_info": {
   "codemirror_mode": {
    "name": "ipython",
    "version": 3
   },
   "file_extension": ".py",
   "mimetype": "text/x-python",
   "name": "python",
   "nbconvert_exporter": "python",
   "pygments_lexer": "ipython3",
   "version": "3.8.5"
  },
  "toc": {
   "base_numbering": 1,
   "nav_menu": {},
   "number_sections": true,
   "sideBar": true,
   "skip_h1_title": false,
   "title_cell": "Table of Contents",
   "title_sidebar": "Contents",
   "toc_cell": false,
   "toc_position": {},
   "toc_section_display": true,
   "toc_window_display": false
  },
  "varInspector": {
   "cols": {
    "lenName": 16,
    "lenType": 16,
    "lenVar": 40
   },
   "kernels_config": {
    "python": {
     "delete_cmd_postfix": "",
     "delete_cmd_prefix": "del ",
     "library": "var_list.py",
     "varRefreshCmd": "print(var_dic_list())"
    },
    "r": {
     "delete_cmd_postfix": ") ",
     "delete_cmd_prefix": "rm(",
     "library": "var_list.r",
     "varRefreshCmd": "cat(var_dic_list()) "
    }
   },
   "types_to_exclude": [
    "module",
    "function",
    "builtin_function_or_method",
    "instance",
    "_Feature"
   ],
   "window_display": false
  }
 },
 "nbformat": 4,
 "nbformat_minor": 4
}
