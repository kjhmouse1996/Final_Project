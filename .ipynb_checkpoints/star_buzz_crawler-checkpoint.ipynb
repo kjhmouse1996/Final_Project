{
 "cells": [
  {
   "cell_type": "code",
   "execution_count": null,
   "metadata": {},
   "outputs": [],
   "source": [
    "#!pip install chromedriver_autoinstaller"
   ]
  },
  {
   "cell_type": "code",
   "execution_count": 1,
   "metadata": {
    "id": "855Mo76s-kvl"
   },
   "outputs": [],
   "source": [
    "# 네이버에서 검색어 입력받아 검색 한 후 블로그 메뉴를 선택하고\n",
    "# 오른쪽에 있는 검색옵션 버튼을 눌러서\n",
    "# 정렬 방식과 기간을 입력하기\n",
    "\n",
    "#Step 0. 필요한 모듈과 라이브러리를 로딩합니다.\n",
    "import sys # 시스템\n",
    "import os  # 시스템\n",
    "\n",
    "import pandas as pd  # 판다스 : 데이터분석 라이브러리\n",
    "import numpy as np   # 넘파이 : 숫자, 행렬 데이터 라이브러리\n",
    "\n",
    "from bs4 import BeautifulSoup    # html 데이터를 전처리\n",
    "from selenium import webdriver   # 웹 브라우저 자동화\n",
    "from selenium.webdriver.common.keys import Keys #javascript같은 동작이 크롤링됨, 단점은 시간이 좀 걸림\n",
    "import chromedriver_autoinstaller\n",
    "\n",
    "import time    # 서버와 통신할 때 중간중간 시간 지연. 보통은 1초\n",
    "from tqdm import tqdm_notebook   # for문 돌릴 때 진행상황을 %게이지로 알려준다.\n",
    "\n",
    "# 워닝 무시\n",
    "import warnings\n",
    "warnings.filterwarnings('ignore')"
   ]
  },
  {
   "cell_type": "code",
   "execution_count": 2,
   "metadata": {},
   "outputs": [],
   "source": [
    "df = pd.read_csv('data_merge수정2.csv')"
   ]
  },
  {
   "cell_type": "code",
   "execution_count": 3,
   "metadata": {},
   "outputs": [
    {
     "data": {
      "text/html": [
       "<div>\n",
       "<style scoped>\n",
       "    .dataframe tbody tr th:only-of-type {\n",
       "        vertical-align: middle;\n",
       "    }\n",
       "\n",
       "    .dataframe tbody tr th {\n",
       "        vertical-align: top;\n",
       "    }\n",
       "\n",
       "    .dataframe thead th {\n",
       "        text-align: right;\n",
       "    }\n",
       "</style>\n",
       "<table border=\"1\" class=\"dataframe\">\n",
       "  <thead>\n",
       "    <tr style=\"text-align: right;\">\n",
       "      <th></th>\n",
       "      <th>Unnamed: 0</th>\n",
       "      <th>title</th>\n",
       "      <th>directors</th>\n",
       "      <th>actors</th>\n",
       "      <th>plots</th>\n",
       "      <th>genre</th>\n",
       "      <th>runtime</th>\n",
       "      <th>keywords</th>\n",
       "      <th>등급</th>\n",
       "      <th>개봉일</th>\n",
       "      <th>국적</th>\n",
       "      <th>screenCnt</th>\n",
       "      <th>salesAcc</th>\n",
       "      <th>audiAcc</th>\n",
       "    </tr>\n",
       "  </thead>\n",
       "  <tbody>\n",
       "    <tr>\n",
       "      <th>0</th>\n",
       "      <td>0</td>\n",
       "      <td>스왈로 탐험대와 아마존 해적</td>\n",
       "      <td>필립파 로소프</td>\n",
       "      <td>켈리 맥도날드, 앤드류 스캇, 라페 스펠, 해리 엔필드, 제시카 하인즈</td>\n",
       "      <td>“스왈로 탐험대의 출항을 허가한다”존과 엄마 그리고 동생들은 엄마가 어려서 뛰놀던 ...</td>\n",
       "      <td>어드벤처</td>\n",
       "      <td>97</td>\n",
       "      <td>여름휴가,외딴섬,아이들,모험,소설원작</td>\n",
       "      <td>전체관람가</td>\n",
       "      <td>2021-09-02</td>\n",
       "      <td>영국</td>\n",
       "      <td>1</td>\n",
       "      <td>5.000000e+04</td>\n",
       "      <td>10</td>\n",
       "    </tr>\n",
       "    <tr>\n",
       "      <th>1</th>\n",
       "      <td>1</td>\n",
       "      <td>물괴</td>\n",
       "      <td>허종호</td>\n",
       "      <td>김명민, 김인권, 혜리, 최우식, 이경영, 박희순, 박성웅, 이도경, 김중희, 이규...</td>\n",
       "      <td>“인왕산에 흉악한 짐승이 나타나 사람을 해쳤다 하옵니다.그것을 두고 듣지도 보지도 ...</td>\n",
       "      <td>액션</td>\n",
       "      <td>105</td>\n",
       "      <td>조선시대,전염병,괴물,시대극/사극,사투</td>\n",
       "      <td>15세이상관람가</td>\n",
       "      <td>2018-09-12</td>\n",
       "      <td>한국</td>\n",
       "      <td>1183</td>\n",
       "      <td>6.104165e+09</td>\n",
       "      <td>723414</td>\n",
       "    </tr>\n",
       "    <tr>\n",
       "      <th>2</th>\n",
       "      <td>2</td>\n",
       "      <td>싱글라이더</td>\n",
       "      <td>이주영</td>\n",
       "      <td>이병헌, 공효진, 안소희, 잭 캠벨, 양유진, 애니카 화이틀리, 케이 에크룬드, 백...</td>\n",
       "      <td>그가 사라졌다그에게서 모든 것이 사라졌다증권회사의 지점장 강재훈(이병헌). 안정된 ...</td>\n",
       "      <td>드라마</td>\n",
       "      <td>97</td>\n",
       "      <td>기러기아빠,호주,오스트레일리아,반전,반전영화,동물</td>\n",
       "      <td>15세이상관람가</td>\n",
       "      <td>2017-02-22</td>\n",
       "      <td>한국</td>\n",
       "      <td>576</td>\n",
       "      <td>2.685519e+09</td>\n",
       "      <td>351276</td>\n",
       "    </tr>\n",
       "    <tr>\n",
       "      <th>3</th>\n",
       "      <td>3</td>\n",
       "      <td>리즈와 파랑새</td>\n",
       "      <td>야마다 나오코</td>\n",
       "      <td>타네자키 아츠미, 토야마 나오, 혼다 미유, 후지무라 코노미, 야마오카 유리</td>\n",
       "      <td>“너에겐 날개가 있고, 끝없이 펼쳐진 하늘도 있어”  늘 혼자였던 ‘리즈’ 앞에 어...</td>\n",
       "      <td>애니메이션</td>\n",
       "      <td>90</td>\n",
       "      <td>십대소녀,단짝친구,외톨이,고3,합주,졸업반,마지막 연주</td>\n",
       "      <td>전체관람가</td>\n",
       "      <td>2018-10-09</td>\n",
       "      <td>일본</td>\n",
       "      <td>214</td>\n",
       "      <td>1.741404e+08</td>\n",
       "      <td>21153</td>\n",
       "    </tr>\n",
       "    <tr>\n",
       "      <th>4</th>\n",
       "      <td>4</td>\n",
       "      <td>레드 후드</td>\n",
       "      <td>르네 페르즈</td>\n",
       "      <td>로버트 앰슬러, 니콜 스탁, 로버트 S. 딕슨, 콜린 허시, 제이슨 제이 프라도</td>\n",
       "      <td>편찮은 할머니를 위해 약을 구해 돌아가던 빨간 모자 소녀는 늑대 모습을 한 기사에게...</td>\n",
       "      <td>판타지</td>\n",
       "      <td>81</td>\n",
       "      <td>괴물,성에 갇힌 남녀,감옥탈출</td>\n",
       "      <td>15세이상관람가</td>\n",
       "      <td>2018-11-11</td>\n",
       "      <td>미국</td>\n",
       "      <td>1</td>\n",
       "      <td>1.000000e+03</td>\n",
       "      <td>1</td>\n",
       "    </tr>\n",
       "    <tr>\n",
       "      <th>...</th>\n",
       "      <td>...</td>\n",
       "      <td>...</td>\n",
       "      <td>...</td>\n",
       "      <td>...</td>\n",
       "      <td>...</td>\n",
       "      <td>...</td>\n",
       "      <td>...</td>\n",
       "      <td>...</td>\n",
       "      <td>...</td>\n",
       "      <td>...</td>\n",
       "      <td>...</td>\n",
       "      <td>...</td>\n",
       "      <td>...</td>\n",
       "      <td>...</td>\n",
       "    </tr>\n",
       "    <tr>\n",
       "      <th>6376</th>\n",
       "      <td>6376</td>\n",
       "      <td>파라노이아</td>\n",
       "      <td>로버트 루케틱</td>\n",
       "      <td>리암 햄스워스, 게리 올드만, 앰버 허드, 해리슨 포드, 엠베스 다비츠</td>\n",
       "      <td>유명 첨단 기술회사인 와이어트사 말단직원, 아담 캐시디(리암 헴스워스)는 밑바닥에서...</td>\n",
       "      <td>드라마</td>\n",
       "      <td>106</td>\n",
       "      <td>NaN</td>\n",
       "      <td>15세이상관람가</td>\n",
       "      <td>2014-09-18</td>\n",
       "      <td>미국</td>\n",
       "      <td>1</td>\n",
       "      <td>8.000000e+03</td>\n",
       "      <td>1</td>\n",
       "    </tr>\n",
       "    <tr>\n",
       "      <th>6377</th>\n",
       "      <td>6377</td>\n",
       "      <td>춘하추동 로맨스</td>\n",
       "      <td>오창민</td>\n",
       "      <td>이응재, 최은아, 조석현, 이민아, 이서림, 오대환, 이준혁</td>\n",
       "      <td>Chapter 1    단풍맞이 단합대회 단풍놀이가 한창인 가을, 어설픈 산악인 상...</td>\n",
       "      <td>코미디</td>\n",
       "      <td>100</td>\n",
       "      <td>고백,허세,내숭,현실연애,옴니버스영화</td>\n",
       "      <td>15세이상관람가</td>\n",
       "      <td>2014-12-04</td>\n",
       "      <td>한국</td>\n",
       "      <td>5</td>\n",
       "      <td>7.368000e+06</td>\n",
       "      <td>1074</td>\n",
       "    </tr>\n",
       "    <tr>\n",
       "      <th>6378</th>\n",
       "      <td>6378</td>\n",
       "      <td>4명의 암살자</td>\n",
       "      <td>스텐리 J. 오젤</td>\n",
       "      <td>미구엘 페러, 윌 윤 리, 메르세데스 레나드</td>\n",
       "      <td>최고의 실력을 가진 청부살인업자인 마커스, 일라이, 코딜리아, 체이스가 홍콩의 한 ...</td>\n",
       "      <td>액션</td>\n",
       "      <td>87</td>\n",
       "      <td>NaN</td>\n",
       "      <td>15세이상관람가</td>\n",
       "      <td>2015-01-05</td>\n",
       "      <td>미국</td>\n",
       "      <td>2</td>\n",
       "      <td>3.200000e+04</td>\n",
       "      <td>4</td>\n",
       "    </tr>\n",
       "    <tr>\n",
       "      <th>6379</th>\n",
       "      <td>6379</td>\n",
       "      <td>변종샤크</td>\n",
       "      <td>그리프 퍼스트</td>\n",
       "      <td>크리스티 스완슨, D.B. 스위니</td>\n",
       "      <td>돌연변이 상어의 무차별 공격이 시작된다!벗어날 수 없는 죽음의 공포... 피할 곳은...</td>\n",
       "      <td>SF</td>\n",
       "      <td>89</td>\n",
       "      <td>돌연변이,공격,상어,죽음,자연</td>\n",
       "      <td>15세이상관람가</td>\n",
       "      <td>2014-12-11</td>\n",
       "      <td>미국</td>\n",
       "      <td>5</td>\n",
       "      <td>1.708000e+06</td>\n",
       "      <td>426</td>\n",
       "    </tr>\n",
       "    <tr>\n",
       "      <th>6380</th>\n",
       "      <td>6380</td>\n",
       "      <td>터널 3D</td>\n",
       "      <td>박규택</td>\n",
       "      <td>정유미, 연우진, 송재림, 정시연, 손병호, 이시원, 이재희, 도희, 우희, 정진,...</td>\n",
       "      <td>재벌 2세인 기철의 권유로 최고급 리조트 여행을 떠난 5명.기철, 영민, 유경, 세...</td>\n",
       "      <td>공포(호러)</td>\n",
       "      <td>86</td>\n",
       "      <td>실종,터널,3D</td>\n",
       "      <td>15세이상관람가</td>\n",
       "      <td>2014-08-20</td>\n",
       "      <td>한국</td>\n",
       "      <td>264</td>\n",
       "      <td>6.208740e+08</td>\n",
       "      <td>80989</td>\n",
       "    </tr>\n",
       "  </tbody>\n",
       "</table>\n",
       "<p>6381 rows × 14 columns</p>\n",
       "</div>"
      ],
      "text/plain": [
       "      Unnamed: 0            title  directors  \\\n",
       "0              0  스왈로 탐험대와 아마존 해적    필립파 로소프   \n",
       "1              1               물괴        허종호   \n",
       "2              2            싱글라이더        이주영   \n",
       "3              3          리즈와 파랑새    야마다 나오코   \n",
       "4              4            레드 후드     르네 페르즈   \n",
       "...          ...              ...        ...   \n",
       "6376        6376            파라노이아    로버트 루케틱   \n",
       "6377        6377         춘하추동 로맨스        오창민   \n",
       "6378        6378          4명의 암살자  스텐리 J. 오젤   \n",
       "6379        6379             변종샤크    그리프 퍼스트   \n",
       "6380        6380            터널 3D        박규택   \n",
       "\n",
       "                                                 actors  \\\n",
       "0               켈리 맥도날드, 앤드류 스캇, 라페 스펠, 해리 엔필드, 제시카 하인즈   \n",
       "1     김명민, 김인권, 혜리, 최우식, 이경영, 박희순, 박성웅, 이도경, 김중희, 이규...   \n",
       "2     이병헌, 공효진, 안소희, 잭 캠벨, 양유진, 애니카 화이틀리, 케이 에크룬드, 백...   \n",
       "3            타네자키 아츠미, 토야마 나오, 혼다 미유, 후지무라 코노미, 야마오카 유리   \n",
       "4          로버트 앰슬러, 니콜 스탁, 로버트 S. 딕슨, 콜린 허시, 제이슨 제이 프라도   \n",
       "...                                                 ...   \n",
       "6376            리암 햄스워스, 게리 올드만, 앰버 허드, 해리슨 포드, 엠베스 다비츠   \n",
       "6377                  이응재, 최은아, 조석현, 이민아, 이서림, 오대환, 이준혁   \n",
       "6378                           미구엘 페러, 윌 윤 리, 메르세데스 레나드   \n",
       "6379                                 크리스티 스완슨, D.B. 스위니   \n",
       "6380  정유미, 연우진, 송재림, 정시연, 손병호, 이시원, 이재희, 도희, 우희, 정진,...   \n",
       "\n",
       "                                                  plots   genre  runtime  \\\n",
       "0     “스왈로 탐험대의 출항을 허가한다”존과 엄마 그리고 동생들은 엄마가 어려서 뛰놀던 ...    어드벤처       97   \n",
       "1     “인왕산에 흉악한 짐승이 나타나 사람을 해쳤다 하옵니다.그것을 두고 듣지도 보지도 ...      액션      105   \n",
       "2     그가 사라졌다그에게서 모든 것이 사라졌다증권회사의 지점장 강재훈(이병헌). 안정된 ...     드라마       97   \n",
       "3     “너에겐 날개가 있고, 끝없이 펼쳐진 하늘도 있어”  늘 혼자였던 ‘리즈’ 앞에 어...   애니메이션       90   \n",
       "4     편찮은 할머니를 위해 약을 구해 돌아가던 빨간 모자 소녀는 늑대 모습을 한 기사에게...     판타지       81   \n",
       "...                                                 ...     ...      ...   \n",
       "6376  유명 첨단 기술회사인 와이어트사 말단직원, 아담 캐시디(리암 헴스워스)는 밑바닥에서...     드라마      106   \n",
       "6377  Chapter 1    단풍맞이 단합대회 단풍놀이가 한창인 가을, 어설픈 산악인 상...     코미디      100   \n",
       "6378  최고의 실력을 가진 청부살인업자인 마커스, 일라이, 코딜리아, 체이스가 홍콩의 한 ...      액션       87   \n",
       "6379  돌연변이 상어의 무차별 공격이 시작된다!벗어날 수 없는 죽음의 공포... 피할 곳은...      SF       89   \n",
       "6380  재벌 2세인 기철의 권유로 최고급 리조트 여행을 떠난 5명.기철, 영민, 유경, 세...  공포(호러)       86   \n",
       "\n",
       "                            keywords        등급         개봉일  국적  screenCnt  \\\n",
       "0               여름휴가,외딴섬,아이들,모험,소설원작     전체관람가  2021-09-02  영국          1   \n",
       "1              조선시대,전염병,괴물,시대극/사극,사투  15세이상관람가  2018-09-12  한국       1183   \n",
       "2        기러기아빠,호주,오스트레일리아,반전,반전영화,동물  15세이상관람가  2017-02-22  한국        576   \n",
       "3     십대소녀,단짝친구,외톨이,고3,합주,졸업반,마지막 연주     전체관람가  2018-10-09  일본        214   \n",
       "4                   괴물,성에 갇힌 남녀,감옥탈출  15세이상관람가  2018-11-11  미국          1   \n",
       "...                              ...       ...         ...  ..        ...   \n",
       "6376                             NaN  15세이상관람가  2014-09-18  미국          1   \n",
       "6377            고백,허세,내숭,현실연애,옴니버스영화  15세이상관람가  2014-12-04  한국          5   \n",
       "6378                             NaN  15세이상관람가  2015-01-05  미국          2   \n",
       "6379                돌연변이,공격,상어,죽음,자연  15세이상관람가  2014-12-11  미국          5   \n",
       "6380                        실종,터널,3D  15세이상관람가  2014-08-20  한국        264   \n",
       "\n",
       "          salesAcc  audiAcc  \n",
       "0     5.000000e+04       10  \n",
       "1     6.104165e+09   723414  \n",
       "2     2.685519e+09   351276  \n",
       "3     1.741404e+08    21153  \n",
       "4     1.000000e+03        1  \n",
       "...            ...      ...  \n",
       "6376  8.000000e+03        1  \n",
       "6377  7.368000e+06     1074  \n",
       "6378  3.200000e+04        4  \n",
       "6379  1.708000e+06      426  \n",
       "6380  6.208740e+08    80989  \n",
       "\n",
       "[6381 rows x 14 columns]"
      ]
     },
     "execution_count": 3,
     "metadata": {},
     "output_type": "execute_result"
    }
   ],
   "source": [
    "df"
   ]
  },
  {
   "cell_type": "code",
   "execution_count": 4,
   "metadata": {},
   "outputs": [],
   "source": [
    "q = df['actors'][0].split(',')"
   ]
  },
  {
   "cell_type": "code",
   "execution_count": 5,
   "metadata": {},
   "outputs": [
    {
     "data": {
      "text/plain": [
       "['켈리 맥도날드', ' 앤드류 스캇', ' 라페 스펠', ' 해리 엔필드', ' 제시카 하인즈']"
      ]
     },
     "execution_count": 5,
     "metadata": {},
     "output_type": "execute_result"
    }
   ],
   "source": [
    "q"
   ]
  },
  {
   "cell_type": "code",
   "execution_count": 6,
   "metadata": {},
   "outputs": [],
   "source": [
    "from datetime import datetime, timedelta\n",
    "from dateutil.relativedelta import relativedelta"
   ]
  },
  {
   "cell_type": "code",
   "execution_count": 7,
   "metadata": {},
   "outputs": [],
   "source": [
    "df['개봉일'] = pd.to_datetime(df['개봉일'])"
   ]
  },
  {
   "cell_type": "code",
   "execution_count": 8,
   "metadata": {},
   "outputs": [
    {
     "data": {
      "text/plain": [
       "Timestamp('2018-09-12 00:00:00')"
      ]
     },
     "execution_count": 8,
     "metadata": {},
     "output_type": "execute_result"
    }
   ],
   "source": [
    "df['개봉일'][1]"
   ]
  },
  {
   "cell_type": "code",
   "execution_count": 9,
   "metadata": {},
   "outputs": [
    {
     "ename": "TypeError",
     "evalue": "'months' is an invalid keyword argument for __new__()",
     "output_type": "error",
     "traceback": [
      "\u001b[1;31m---------------------------------------------------------------------------\u001b[0m",
      "\u001b[1;31mTypeError\u001b[0m                                 Traceback (most recent call last)",
      "\u001b[1;32m<ipython-input-9-20b491dbccf5>\u001b[0m in \u001b[0;36m<module>\u001b[1;34m\u001b[0m\n\u001b[1;32m----> 1\u001b[1;33m \u001b[0ma\u001b[0m \u001b[1;33m=\u001b[0m \u001b[0mdf\u001b[0m\u001b[1;33m[\u001b[0m\u001b[1;34m'개봉일'\u001b[0m\u001b[1;33m]\u001b[0m\u001b[1;33m[\u001b[0m\u001b[1;36m0\u001b[0m\u001b[1;33m]\u001b[0m \u001b[1;33m-\u001b[0m \u001b[0mtimedelta\u001b[0m\u001b[1;33m(\u001b[0m\u001b[0mmonths\u001b[0m\u001b[1;33m=\u001b[0m\u001b[1;36m1\u001b[0m\u001b[1;33m)\u001b[0m\u001b[1;33m\u001b[0m\u001b[1;33m\u001b[0m\u001b[0m\n\u001b[0m",
      "\u001b[1;31mTypeError\u001b[0m: 'months' is an invalid keyword argument for __new__()"
     ]
    }
   ],
   "source": [
    "a = df['개봉일'][0] - timedelta(months=1)"
   ]
  },
  {
   "cell_type": "code",
   "execution_count": 10,
   "metadata": {
    "scrolled": true
   },
   "outputs": [
    {
     "data": {
      "text/plain": [
       "Timestamp('2018-08-12 00:00:00')"
      ]
     },
     "execution_count": 10,
     "metadata": {},
     "output_type": "execute_result"
    }
   ],
   "source": [
    "df['개봉일'][1] - relativedelta(months=1)"
   ]
  },
  {
   "cell_type": "code",
   "execution_count": 11,
   "metadata": {},
   "outputs": [
    {
     "ename": "NameError",
     "evalue": "name 'a' is not defined",
     "output_type": "error",
     "traceback": [
      "\u001b[1;31m---------------------------------------------------------------------------\u001b[0m",
      "\u001b[1;31mNameError\u001b[0m                                 Traceback (most recent call last)",
      "\u001b[1;32m<ipython-input-11-95fbb24b251f>\u001b[0m in \u001b[0;36m<module>\u001b[1;34m\u001b[0m\n\u001b[1;32m----> 1\u001b[1;33m \u001b[0mstr\u001b[0m\u001b[1;33m(\u001b[0m\u001b[0ma\u001b[0m\u001b[1;33m.\u001b[0m\u001b[0myear\u001b[0m\u001b[1;33m)\u001b[0m\u001b[1;33m\u001b[0m\u001b[1;33m\u001b[0m\u001b[0m\n\u001b[0m",
      "\u001b[1;31mNameError\u001b[0m: name 'a' is not defined"
     ]
    }
   ],
   "source": [
    "str(a.year)"
   ]
  },
  {
   "cell_type": "code",
   "execution_count": 37,
   "metadata": {},
   "outputs": [
    {
     "data": {
      "text/plain": [
       "'2021'"
      ]
     },
     "execution_count": 37,
     "metadata": {},
     "output_type": "execute_result"
    }
   ],
   "source": [
    "str(b)"
   ]
  },
  {
   "cell_type": "code",
   "execution_count": 42,
   "metadata": {},
   "outputs": [],
   "source": [
    "for i in range(len(df['actors'])):\n",
    "    actor = df['actors'][i].split(',')\n",
    "\n",
    "    act_cnt = []\n",
    "    end_date = df['개봉일'][i] - relativedelta(days=1) \n",
    "    end_y = str(end_date.year)\n",
    "    end_m = str(end_date.month)\n",
    "    end_d = str(end_date.day)\n",
    "    \n",
    "    start_date = df['개봉일'][i] - relativedelta(months=1) \n",
    "    start_y = str(start_date.year)\n",
    "    start_m = str(start_date.month)\n",
    "    start_d = str(start_date.day)\n",
    "    "
   ]
  },
  {
   "cell_type": "code",
   "execution_count": 50,
   "metadata": {},
   "outputs": [
    {
     "data": {
      "text/plain": [
       "'19'"
      ]
     },
     "execution_count": 50,
     "metadata": {},
     "output_type": "execute_result"
    }
   ],
   "source": [
    "end_d"
   ]
  },
  {
   "cell_type": "code",
   "execution_count": 87,
   "metadata": {},
   "outputs": [],
   "source": [
    "actor = df['actors'][1].split(',')"
   ]
  },
  {
   "cell_type": "code",
   "execution_count": 91,
   "metadata": {
    "scrolled": false
   },
   "outputs": [
    {
     "data": {
      "text/plain": [
       "['김명민',\n",
       " ' 김인권',\n",
       " ' 혜리',\n",
       " ' 최우식',\n",
       " ' 이경영',\n",
       " ' 박희순',\n",
       " ' 박성웅',\n",
       " ' 이도경',\n",
       " ' 김중희',\n",
       " ' 이규복',\n",
       " ' 김강일',\n",
       " ' 조원희']"
      ]
     },
     "execution_count": 91,
     "metadata": {},
     "output_type": "execute_result"
    }
   ],
   "source": [
    "actor[:12]"
   ]
  },
  {
   "cell_type": "code",
   "execution_count": 82,
   "metadata": {},
   "outputs": [
    {
     "data": {
      "text/plain": [
       "deque([' 김형록',\n",
       "       ' 이유환',\n",
       "       ' 이양우',\n",
       "       ' 임지형',\n",
       "       ' 이기창',\n",
       "       ' 김주연',\n",
       "       ' 박소은',\n",
       "       ' 박하영',\n",
       "       ' 이상철',\n",
       "       ' 김용호',\n",
       "       ' 정효경',\n",
       "       ' 최재옥'])"
      ]
     },
     "execution_count": 82,
     "metadata": {},
     "output_type": "execute_result"
    }
   ],
   "source": [
    "from collections import deque\n",
    "deque(actor, maxlen=13)"
   ]
  },
  {
   "cell_type": "code",
   "execution_count": 121,
   "metadata": {},
   "outputs": [
    {
     "data": {
      "text/plain": [
       "RangeIndex(start=10, stop=6381, step=1)"
      ]
     },
     "execution_count": 121,
     "metadata": {},
     "output_type": "execute_result"
    }
   ],
   "source": [
    "df.index[10:]"
   ]
  },
  {
   "cell_type": "code",
   "execution_count": 4,
   "metadata": {},
   "outputs": [],
   "source": [
    "# 스크롤을 밑으로 내려주는 함수\n",
    "def scroll_down(driver):\n",
    "    driver.execute_script(\"window.scrollTo(0, 19431049)\")\n",
    "    time.sleep(1)"
   ]
  },
  {
   "cell_type": "code",
   "execution_count": 122,
   "metadata": {
    "scrolled": true
   },
   "outputs": [
    {
     "ename": "NoSuchElementException",
     "evalue": "Message: no such element: Unable to locate element: {\"method\":\"link text\",\"selector\":\"31\"}\n  (Session info: chrome=100.0.4896.127)\nStacktrace:\nBacktrace:\n\tOrdinal0 [0x010B8BD3+2395091]\n\tOrdinal0 [0x0104ACA1+1944737]\n\tOrdinal0 [0x00F3D008+839688]\n\tOrdinal0 [0x00F69BFD+1022973]\n\tOrdinal0 [0x00F69EBB+1023675]\n\tOrdinal0 [0x00F96A92+1206930]\n\tOrdinal0 [0x00F84C04+1133572]\n\tOrdinal0 [0x00F94D62+1199458]\n\tOrdinal0 [0x00F849D6+1133014]\n\tOrdinal0 [0x00F5EF76+978806]\n\tOrdinal0 [0x00F5FE86+982662]\n\tGetHandleVerifier [0x0126C912+1719138]\n\tGetHandleVerifier [0x0131B2CD+2434333]\n\tGetHandleVerifier [0x01154001+569937]\n\tGetHandleVerifier [0x01153066+565942]\n\tOrdinal0 [0x0105265B+1975899]\n\tOrdinal0 [0x010572A8+1995432]\n\tOrdinal0 [0x01057395+1995669]\n\tOrdinal0 [0x010602F1+2032369]\n\tBaseThreadInitThunk [0x7643FA29+25]\n\tRtlGetAppContainerNamedObjectPath [0x77327A7E+286]\n\tRtlGetAppContainerNamedObjectPath [0x77327A4E+238]\n",
     "output_type": "error",
     "traceback": [
      "\u001b[1;31m---------------------------------------------------------------------------\u001b[0m",
      "\u001b[1;31mNoSuchElementException\u001b[0m                    Traceback (most recent call last)",
      "\u001b[1;32m<ipython-input-122-b3509d7e6a24>\u001b[0m in \u001b[0;36m<module>\u001b[1;34m\u001b[0m\n\u001b[0;32m     60\u001b[0m         \u001b[0mdriver\u001b[0m\u001b[1;33m.\u001b[0m\u001b[0mfind_element_by_class_name\u001b[0m\u001b[1;33m(\u001b[0m\u001b[1;34m'spnew_bf.ico_calendar._end_trigger'\u001b[0m\u001b[1;33m)\u001b[0m\u001b[1;33m.\u001b[0m\u001b[0mclick\u001b[0m\u001b[1;33m(\u001b[0m\u001b[1;33m)\u001b[0m\u001b[1;33m\u001b[0m\u001b[1;33m\u001b[0m\u001b[0m\n\u001b[0;32m     61\u001b[0m         \u001b[0mdriver\u001b[0m\u001b[1;33m.\u001b[0m\u001b[0mfind_element_by_link_text\u001b[0m\u001b[1;33m(\u001b[0m\u001b[0mend_y\u001b[0m\u001b[1;33m)\u001b[0m\u001b[1;33m.\u001b[0m\u001b[0mclick\u001b[0m\u001b[1;33m(\u001b[0m\u001b[1;33m)\u001b[0m\u001b[1;33m\u001b[0m\u001b[1;33m\u001b[0m\u001b[0m\n\u001b[1;32m---> 62\u001b[1;33m         \u001b[0mdriver\u001b[0m\u001b[1;33m.\u001b[0m\u001b[0mfind_element_by_link_text\u001b[0m\u001b[1;33m(\u001b[0m\u001b[0mend_d\u001b[0m\u001b[1;33m)\u001b[0m\u001b[1;33m.\u001b[0m\u001b[0mclick\u001b[0m\u001b[1;33m(\u001b[0m\u001b[1;33m)\u001b[0m\u001b[1;33m\u001b[0m\u001b[1;33m\u001b[0m\u001b[0m\n\u001b[0m\u001b[0;32m     63\u001b[0m         \u001b[0mdriver\u001b[0m\u001b[1;33m.\u001b[0m\u001b[0mfind_element_by_link_text\u001b[0m\u001b[1;33m(\u001b[0m\u001b[0mend_m\u001b[0m\u001b[1;33m)\u001b[0m\u001b[1;33m.\u001b[0m\u001b[0mclick\u001b[0m\u001b[1;33m(\u001b[0m\u001b[1;33m)\u001b[0m\u001b[1;33m\u001b[0m\u001b[1;33m\u001b[0m\u001b[0m\n\u001b[0;32m     64\u001b[0m         \u001b[0mdriver\u001b[0m\u001b[1;33m.\u001b[0m\u001b[0mfind_element_by_xpath\u001b[0m\u001b[1;33m(\u001b[0m\u001b[1;34m'//*[@id=\"snb\"]/div[2]/ul/li[3]/div/div[2]/div[3]/button'\u001b[0m\u001b[1;33m)\u001b[0m\u001b[1;33m.\u001b[0m\u001b[0mclick\u001b[0m\u001b[1;33m(\u001b[0m\u001b[1;33m)\u001b[0m\u001b[1;33m\u001b[0m\u001b[1;33m\u001b[0m\u001b[0m\n",
      "\u001b[1;32m~\\anaconda3\\lib\\site-packages\\selenium\\webdriver\\remote\\webdriver.py\u001b[0m in \u001b[0;36mfind_element_by_link_text\u001b[1;34m(self, link_text)\u001b[0m\n\u001b[0;32m    566\u001b[0m             \u001b[0mstacklevel\u001b[0m\u001b[1;33m=\u001b[0m\u001b[1;36m2\u001b[0m\u001b[1;33m,\u001b[0m\u001b[1;33m\u001b[0m\u001b[1;33m\u001b[0m\u001b[0m\n\u001b[0;32m    567\u001b[0m         )\n\u001b[1;32m--> 568\u001b[1;33m         \u001b[1;32mreturn\u001b[0m \u001b[0mself\u001b[0m\u001b[1;33m.\u001b[0m\u001b[0mfind_element\u001b[0m\u001b[1;33m(\u001b[0m\u001b[0mby\u001b[0m\u001b[1;33m=\u001b[0m\u001b[0mBy\u001b[0m\u001b[1;33m.\u001b[0m\u001b[0mLINK_TEXT\u001b[0m\u001b[1;33m,\u001b[0m \u001b[0mvalue\u001b[0m\u001b[1;33m=\u001b[0m\u001b[0mlink_text\u001b[0m\u001b[1;33m)\u001b[0m\u001b[1;33m\u001b[0m\u001b[1;33m\u001b[0m\u001b[0m\n\u001b[0m\u001b[0;32m    569\u001b[0m \u001b[1;33m\u001b[0m\u001b[0m\n\u001b[0;32m    570\u001b[0m     \u001b[1;32mdef\u001b[0m \u001b[0mfind_elements_by_link_text\u001b[0m\u001b[1;33m(\u001b[0m\u001b[0mself\u001b[0m\u001b[1;33m,\u001b[0m \u001b[0mtext\u001b[0m\u001b[1;33m)\u001b[0m \u001b[1;33m->\u001b[0m \u001b[0mWebElement\u001b[0m\u001b[1;33m:\u001b[0m\u001b[1;33m\u001b[0m\u001b[1;33m\u001b[0m\u001b[0m\n",
      "\u001b[1;32m~\\anaconda3\\lib\\site-packages\\selenium\\webdriver\\remote\\webdriver.py\u001b[0m in \u001b[0;36mfind_element\u001b[1;34m(self, by, value)\u001b[0m\n\u001b[0;32m   1242\u001b[0m             \u001b[0mvalue\u001b[0m \u001b[1;33m=\u001b[0m \u001b[1;34m'[name=\"%s\"]'\u001b[0m \u001b[1;33m%\u001b[0m \u001b[0mvalue\u001b[0m\u001b[1;33m\u001b[0m\u001b[1;33m\u001b[0m\u001b[0m\n\u001b[0;32m   1243\u001b[0m \u001b[1;33m\u001b[0m\u001b[0m\n\u001b[1;32m-> 1244\u001b[1;33m         return self.execute(Command.FIND_ELEMENT, {\n\u001b[0m\u001b[0;32m   1245\u001b[0m             \u001b[1;34m'using'\u001b[0m\u001b[1;33m:\u001b[0m \u001b[0mby\u001b[0m\u001b[1;33m,\u001b[0m\u001b[1;33m\u001b[0m\u001b[1;33m\u001b[0m\u001b[0m\n\u001b[0;32m   1246\u001b[0m             'value': value})['value']\n",
      "\u001b[1;32m~\\anaconda3\\lib\\site-packages\\selenium\\webdriver\\remote\\webdriver.py\u001b[0m in \u001b[0;36mexecute\u001b[1;34m(self, driver_command, params)\u001b[0m\n\u001b[0;32m    422\u001b[0m         \u001b[0mresponse\u001b[0m \u001b[1;33m=\u001b[0m \u001b[0mself\u001b[0m\u001b[1;33m.\u001b[0m\u001b[0mcommand_executor\u001b[0m\u001b[1;33m.\u001b[0m\u001b[0mexecute\u001b[0m\u001b[1;33m(\u001b[0m\u001b[0mdriver_command\u001b[0m\u001b[1;33m,\u001b[0m \u001b[0mparams\u001b[0m\u001b[1;33m)\u001b[0m\u001b[1;33m\u001b[0m\u001b[1;33m\u001b[0m\u001b[0m\n\u001b[0;32m    423\u001b[0m         \u001b[1;32mif\u001b[0m \u001b[0mresponse\u001b[0m\u001b[1;33m:\u001b[0m\u001b[1;33m\u001b[0m\u001b[1;33m\u001b[0m\u001b[0m\n\u001b[1;32m--> 424\u001b[1;33m             \u001b[0mself\u001b[0m\u001b[1;33m.\u001b[0m\u001b[0merror_handler\u001b[0m\u001b[1;33m.\u001b[0m\u001b[0mcheck_response\u001b[0m\u001b[1;33m(\u001b[0m\u001b[0mresponse\u001b[0m\u001b[1;33m)\u001b[0m\u001b[1;33m\u001b[0m\u001b[1;33m\u001b[0m\u001b[0m\n\u001b[0m\u001b[0;32m    425\u001b[0m             response['value'] = self._unwrap_value(\n\u001b[0;32m    426\u001b[0m                 response.get('value', None))\n",
      "\u001b[1;32m~\\anaconda3\\lib\\site-packages\\selenium\\webdriver\\remote\\errorhandler.py\u001b[0m in \u001b[0;36mcheck_response\u001b[1;34m(self, response)\u001b[0m\n\u001b[0;32m    245\u001b[0m                 \u001b[0malert_text\u001b[0m \u001b[1;33m=\u001b[0m \u001b[0mvalue\u001b[0m\u001b[1;33m[\u001b[0m\u001b[1;34m'alert'\u001b[0m\u001b[1;33m]\u001b[0m\u001b[1;33m.\u001b[0m\u001b[0mget\u001b[0m\u001b[1;33m(\u001b[0m\u001b[1;34m'text'\u001b[0m\u001b[1;33m)\u001b[0m\u001b[1;33m\u001b[0m\u001b[1;33m\u001b[0m\u001b[0m\n\u001b[0;32m    246\u001b[0m             \u001b[1;32mraise\u001b[0m \u001b[0mexception_class\u001b[0m\u001b[1;33m(\u001b[0m\u001b[0mmessage\u001b[0m\u001b[1;33m,\u001b[0m \u001b[0mscreen\u001b[0m\u001b[1;33m,\u001b[0m \u001b[0mstacktrace\u001b[0m\u001b[1;33m,\u001b[0m \u001b[0malert_text\u001b[0m\u001b[1;33m)\u001b[0m  \u001b[1;31m# type: ignore[call-arg]  # mypy is not smart enough here\u001b[0m\u001b[1;33m\u001b[0m\u001b[1;33m\u001b[0m\u001b[0m\n\u001b[1;32m--> 247\u001b[1;33m         \u001b[1;32mraise\u001b[0m \u001b[0mexception_class\u001b[0m\u001b[1;33m(\u001b[0m\u001b[0mmessage\u001b[0m\u001b[1;33m,\u001b[0m \u001b[0mscreen\u001b[0m\u001b[1;33m,\u001b[0m \u001b[0mstacktrace\u001b[0m\u001b[1;33m)\u001b[0m\u001b[1;33m\u001b[0m\u001b[1;33m\u001b[0m\u001b[0m\n\u001b[0m\u001b[0;32m    248\u001b[0m \u001b[1;33m\u001b[0m\u001b[0m\n\u001b[0;32m    249\u001b[0m     \u001b[1;32mdef\u001b[0m \u001b[0m_value_or_default\u001b[0m\u001b[1;33m(\u001b[0m\u001b[0mself\u001b[0m\u001b[1;33m,\u001b[0m \u001b[0mobj\u001b[0m\u001b[1;33m:\u001b[0m \u001b[0mMapping\u001b[0m\u001b[1;33m[\u001b[0m\u001b[0m_KT\u001b[0m\u001b[1;33m,\u001b[0m \u001b[0m_VT\u001b[0m\u001b[1;33m]\u001b[0m\u001b[1;33m,\u001b[0m \u001b[0mkey\u001b[0m\u001b[1;33m:\u001b[0m \u001b[0m_KT\u001b[0m\u001b[1;33m,\u001b[0m \u001b[0mdefault\u001b[0m\u001b[1;33m:\u001b[0m \u001b[0m_VT\u001b[0m\u001b[1;33m)\u001b[0m \u001b[1;33m->\u001b[0m \u001b[0m_VT\u001b[0m\u001b[1;33m:\u001b[0m\u001b[1;33m\u001b[0m\u001b[1;33m\u001b[0m\u001b[0m\n",
      "\u001b[1;31mNoSuchElementException\u001b[0m: Message: no such element: Unable to locate element: {\"method\":\"link text\",\"selector\":\"31\"}\n  (Session info: chrome=100.0.4896.127)\nStacktrace:\nBacktrace:\n\tOrdinal0 [0x010B8BD3+2395091]\n\tOrdinal0 [0x0104ACA1+1944737]\n\tOrdinal0 [0x00F3D008+839688]\n\tOrdinal0 [0x00F69BFD+1022973]\n\tOrdinal0 [0x00F69EBB+1023675]\n\tOrdinal0 [0x00F96A92+1206930]\n\tOrdinal0 [0x00F84C04+1133572]\n\tOrdinal0 [0x00F94D62+1199458]\n\tOrdinal0 [0x00F849D6+1133014]\n\tOrdinal0 [0x00F5EF76+978806]\n\tOrdinal0 [0x00F5FE86+982662]\n\tGetHandleVerifier [0x0126C912+1719138]\n\tGetHandleVerifier [0x0131B2CD+2434333]\n\tGetHandleVerifier [0x01154001+569937]\n\tGetHandleVerifier [0x01153066+565942]\n\tOrdinal0 [0x0105265B+1975899]\n\tOrdinal0 [0x010572A8+1995432]\n\tOrdinal0 [0x01057395+1995669]\n\tOrdinal0 [0x010602F1+2032369]\n\tBaseThreadInitThunk [0x7643FA29+25]\n\tRtlGetAppContainerNamedObjectPath [0x77327A7E+286]\n\tRtlGetAppContainerNamedObjectPath [0x77327A4E+238]\n"
     ]
    }
   ],
   "source": [
    "from collections import deque\n",
    "\n",
    "# 스크롤을 밑으로 내려주는 함수\n",
    "def scroll_down(driver):\n",
    "    driver.execute_script(\"window.scrollTo(0, 19431049)\")\n",
    "    time.sleep(1)\n",
    "\n",
    "star_buzz = []\n",
    "\n",
    "for i in df.index[10:]:\n",
    "    actor = df['actors'][i].split(',')\n",
    "    actor = deque(actor, maxlen=12)\n",
    "    \n",
    "    act_cnt = []\n",
    "    \n",
    "    end_date = df['개봉일'][i] - relativedelta(days=1) \n",
    "    end_y = str(end_date.year)\n",
    "    end_m = str(end_date.month)\n",
    "    end_d = str(end_date.day)\n",
    "    \n",
    "    start_date = df['개봉일'][i] - relativedelta(months=1) \n",
    "    start_y = str(start_date.year)\n",
    "    start_m = str(start_date.month)\n",
    "    start_d = str(start_date.day)\n",
    "    \n",
    "    for a in actor:\n",
    "        query_txt = a\n",
    "        \n",
    "        chrome_path = chromedriver_autoinstaller.install()\n",
    "        driver = webdriver.Chrome(chrome_path)\n",
    "        # 사이트 주소는 네이버\n",
    "        driver.get('http://www.naver.com')\n",
    "        time.sleep(2) \n",
    "        \n",
    "        # Step 2. 네이버 검색창에 \"검색어\" 검색\n",
    "        element = driver.find_element_by_id(\"query\")\n",
    "        element.send_keys(query_txt)  # query_txt는 위에서 입력한 키워드\n",
    "        element.submit()\n",
    "        time.sleep(1)\n",
    "\n",
    "        # 'VIEW' 클릭\n",
    "        driver.find_element_by_link_text(\"VIEW\").click( )\n",
    "        time.sleep(1)\n",
    "\n",
    "        # '블로그' 클릭\n",
    "        driver.find_element_by_link_text(\"블로그\").click( )\n",
    "        time.sleep(1)\n",
    "\n",
    "        # '옵션' 클릭\n",
    "        driver.find_element_by_link_text(\"옵션\").click( )\n",
    "        time.sleep(5)\n",
    "        driver.find_elements_by_css_selector('.option .txt')[13].click() # 몇개월할지 설정\n",
    "        time.sleep(5)\n",
    "        \n",
    "        \n",
    "        driver.find_element_by_class_name('spnew_bf.ico_calendar._start_trigger').click()\n",
    "        driver.find_element_by_link_text(start_y).click()\n",
    "        driver.find_element_by_link_text(start_d).click()\n",
    "        driver.find_element_by_link_text(start_m).click()\n",
    "        driver.find_element_by_class_name('spnew_bf.ico_calendar._end_trigger').click()\n",
    "        driver.find_element_by_link_text(end_y).click()\n",
    "        driver.find_element_by_link_text(end_d).click()\n",
    "        driver.find_element_by_link_text(end_m).click()\n",
    "        driver.find_element_by_xpath('//*[@id=\"snb\"]/div[2]/ul/li[3]/div/div[2]/div[3]/button').click()\n",
    "\n",
    "        # n: 스크롤할 횟수 설정\n",
    "        n = 100  # 스크롤 1번 당 30개씩\n",
    "        i = 0\n",
    "        while i < n: # 이 조건이 만족되는 동안 반복 실행\n",
    "            scroll_down(driver) # 스크롤 다운\n",
    "            i = i+1\n",
    "        \n",
    "        articles = \".api_txt_lines.total_tit\"\n",
    "        article_raw = driver.find_elements_by_css_selector(articles)\n",
    "        \n",
    "        if not article_raw:\n",
    "            act_cnt.append(0)\n",
    "        else:\n",
    "            act_cnt.append(len(article_raw))\n",
    "    \n",
    "    star_buzz.append(sum(act_cnt))"
   ]
  },
  {
   "cell_type": "code",
   "execution_count": 124,
   "metadata": {
    "scrolled": true
   },
   "outputs": [
    {
     "ename": "KeyboardInterrupt",
     "evalue": "",
     "output_type": "error",
     "traceback": [
      "\u001b[1;31m---------------------------------------------------------------------------\u001b[0m",
      "\u001b[1;31mKeyboardInterrupt\u001b[0m                         Traceback (most recent call last)",
      "\u001b[1;32m<ipython-input-124-16046117ca96>\u001b[0m in \u001b[0;36m<module>\u001b[1;34m\u001b[0m\n\u001b[0;32m     60\u001b[0m         \u001b[0mdriver\u001b[0m\u001b[1;33m.\u001b[0m\u001b[0mfind_element_by_link_text\u001b[0m\u001b[1;33m(\u001b[0m\u001b[0mend_y\u001b[0m\u001b[1;33m)\u001b[0m\u001b[1;33m.\u001b[0m\u001b[0mclick\u001b[0m\u001b[1;33m(\u001b[0m\u001b[1;33m)\u001b[0m\u001b[1;33m\u001b[0m\u001b[1;33m\u001b[0m\u001b[0m\n\u001b[0;32m     61\u001b[0m         \u001b[0mdriver\u001b[0m\u001b[1;33m.\u001b[0m\u001b[0mfind_element_by_link_text\u001b[0m\u001b[1;33m(\u001b[0m\u001b[0mend_m\u001b[0m\u001b[1;33m)\u001b[0m\u001b[1;33m.\u001b[0m\u001b[0mclick\u001b[0m\u001b[1;33m(\u001b[0m\u001b[1;33m)\u001b[0m\u001b[1;33m\u001b[0m\u001b[1;33m\u001b[0m\u001b[0m\n\u001b[1;32m---> 62\u001b[1;33m         \u001b[0mdriver\u001b[0m\u001b[1;33m.\u001b[0m\u001b[0mfind_element_by_link_text\u001b[0m\u001b[1;33m(\u001b[0m\u001b[0mend_d\u001b[0m\u001b[1;33m)\u001b[0m\u001b[1;33m.\u001b[0m\u001b[0mclick\u001b[0m\u001b[1;33m(\u001b[0m\u001b[1;33m)\u001b[0m\u001b[1;33m\u001b[0m\u001b[1;33m\u001b[0m\u001b[0m\n\u001b[0m\u001b[0;32m     63\u001b[0m         \u001b[0mdriver\u001b[0m\u001b[1;33m.\u001b[0m\u001b[0mfind_element_by_xpath\u001b[0m\u001b[1;33m(\u001b[0m\u001b[1;34m'//*[@id=\"snb\"]/div[2]/ul/li[3]/div/div[2]/div[3]/button'\u001b[0m\u001b[1;33m)\u001b[0m\u001b[1;33m.\u001b[0m\u001b[0mclick\u001b[0m\u001b[1;33m(\u001b[0m\u001b[1;33m)\u001b[0m\u001b[1;33m\u001b[0m\u001b[1;33m\u001b[0m\u001b[0m\n\u001b[0;32m     64\u001b[0m \u001b[1;33m\u001b[0m\u001b[0m\n",
      "\u001b[1;32m~\\anaconda3\\lib\\site-packages\\selenium\\webdriver\\remote\\webdriver.py\u001b[0m in \u001b[0;36mfind_element_by_link_text\u001b[1;34m(self, link_text)\u001b[0m\n\u001b[0;32m    566\u001b[0m             \u001b[0mstacklevel\u001b[0m\u001b[1;33m=\u001b[0m\u001b[1;36m2\u001b[0m\u001b[1;33m,\u001b[0m\u001b[1;33m\u001b[0m\u001b[1;33m\u001b[0m\u001b[0m\n\u001b[0;32m    567\u001b[0m         )\n\u001b[1;32m--> 568\u001b[1;33m         \u001b[1;32mreturn\u001b[0m \u001b[0mself\u001b[0m\u001b[1;33m.\u001b[0m\u001b[0mfind_element\u001b[0m\u001b[1;33m(\u001b[0m\u001b[0mby\u001b[0m\u001b[1;33m=\u001b[0m\u001b[0mBy\u001b[0m\u001b[1;33m.\u001b[0m\u001b[0mLINK_TEXT\u001b[0m\u001b[1;33m,\u001b[0m \u001b[0mvalue\u001b[0m\u001b[1;33m=\u001b[0m\u001b[0mlink_text\u001b[0m\u001b[1;33m)\u001b[0m\u001b[1;33m\u001b[0m\u001b[1;33m\u001b[0m\u001b[0m\n\u001b[0m\u001b[0;32m    569\u001b[0m \u001b[1;33m\u001b[0m\u001b[0m\n\u001b[0;32m    570\u001b[0m     \u001b[1;32mdef\u001b[0m \u001b[0mfind_elements_by_link_text\u001b[0m\u001b[1;33m(\u001b[0m\u001b[0mself\u001b[0m\u001b[1;33m,\u001b[0m \u001b[0mtext\u001b[0m\u001b[1;33m)\u001b[0m \u001b[1;33m->\u001b[0m \u001b[0mWebElement\u001b[0m\u001b[1;33m:\u001b[0m\u001b[1;33m\u001b[0m\u001b[1;33m\u001b[0m\u001b[0m\n",
      "\u001b[1;32m~\\anaconda3\\lib\\site-packages\\selenium\\webdriver\\remote\\webdriver.py\u001b[0m in \u001b[0;36mfind_element\u001b[1;34m(self, by, value)\u001b[0m\n\u001b[0;32m   1242\u001b[0m             \u001b[0mvalue\u001b[0m \u001b[1;33m=\u001b[0m \u001b[1;34m'[name=\"%s\"]'\u001b[0m \u001b[1;33m%\u001b[0m \u001b[0mvalue\u001b[0m\u001b[1;33m\u001b[0m\u001b[1;33m\u001b[0m\u001b[0m\n\u001b[0;32m   1243\u001b[0m \u001b[1;33m\u001b[0m\u001b[0m\n\u001b[1;32m-> 1244\u001b[1;33m         return self.execute(Command.FIND_ELEMENT, {\n\u001b[0m\u001b[0;32m   1245\u001b[0m             \u001b[1;34m'using'\u001b[0m\u001b[1;33m:\u001b[0m \u001b[0mby\u001b[0m\u001b[1;33m,\u001b[0m\u001b[1;33m\u001b[0m\u001b[1;33m\u001b[0m\u001b[0m\n\u001b[0;32m   1246\u001b[0m             'value': value})['value']\n",
      "\u001b[1;32m~\\anaconda3\\lib\\site-packages\\selenium\\webdriver\\remote\\webdriver.py\u001b[0m in \u001b[0;36mexecute\u001b[1;34m(self, driver_command, params)\u001b[0m\n\u001b[0;32m    420\u001b[0m \u001b[1;33m\u001b[0m\u001b[0m\n\u001b[0;32m    421\u001b[0m         \u001b[0mparams\u001b[0m \u001b[1;33m=\u001b[0m \u001b[0mself\u001b[0m\u001b[1;33m.\u001b[0m\u001b[0m_wrap_value\u001b[0m\u001b[1;33m(\u001b[0m\u001b[0mparams\u001b[0m\u001b[1;33m)\u001b[0m\u001b[1;33m\u001b[0m\u001b[1;33m\u001b[0m\u001b[0m\n\u001b[1;32m--> 422\u001b[1;33m         \u001b[0mresponse\u001b[0m \u001b[1;33m=\u001b[0m \u001b[0mself\u001b[0m\u001b[1;33m.\u001b[0m\u001b[0mcommand_executor\u001b[0m\u001b[1;33m.\u001b[0m\u001b[0mexecute\u001b[0m\u001b[1;33m(\u001b[0m\u001b[0mdriver_command\u001b[0m\u001b[1;33m,\u001b[0m \u001b[0mparams\u001b[0m\u001b[1;33m)\u001b[0m\u001b[1;33m\u001b[0m\u001b[1;33m\u001b[0m\u001b[0m\n\u001b[0m\u001b[0;32m    423\u001b[0m         \u001b[1;32mif\u001b[0m \u001b[0mresponse\u001b[0m\u001b[1;33m:\u001b[0m\u001b[1;33m\u001b[0m\u001b[1;33m\u001b[0m\u001b[0m\n\u001b[0;32m    424\u001b[0m             \u001b[0mself\u001b[0m\u001b[1;33m.\u001b[0m\u001b[0merror_handler\u001b[0m\u001b[1;33m.\u001b[0m\u001b[0mcheck_response\u001b[0m\u001b[1;33m(\u001b[0m\u001b[0mresponse\u001b[0m\u001b[1;33m)\u001b[0m\u001b[1;33m\u001b[0m\u001b[1;33m\u001b[0m\u001b[0m\n",
      "\u001b[1;32m~\\anaconda3\\lib\\site-packages\\selenium\\webdriver\\remote\\remote_connection.py\u001b[0m in \u001b[0;36mexecute\u001b[1;34m(self, command, params)\u001b[0m\n\u001b[0;32m    419\u001b[0m         \u001b[0mdata\u001b[0m \u001b[1;33m=\u001b[0m \u001b[0mutils\u001b[0m\u001b[1;33m.\u001b[0m\u001b[0mdump_json\u001b[0m\u001b[1;33m(\u001b[0m\u001b[0mparams\u001b[0m\u001b[1;33m)\u001b[0m\u001b[1;33m\u001b[0m\u001b[1;33m\u001b[0m\u001b[0m\n\u001b[0;32m    420\u001b[0m         \u001b[0murl\u001b[0m \u001b[1;33m=\u001b[0m \u001b[1;34mf\"{self._url}{path}\"\u001b[0m\u001b[1;33m\u001b[0m\u001b[1;33m\u001b[0m\u001b[0m\n\u001b[1;32m--> 421\u001b[1;33m         \u001b[1;32mreturn\u001b[0m \u001b[0mself\u001b[0m\u001b[1;33m.\u001b[0m\u001b[0m_request\u001b[0m\u001b[1;33m(\u001b[0m\u001b[0mcommand_info\u001b[0m\u001b[1;33m[\u001b[0m\u001b[1;36m0\u001b[0m\u001b[1;33m]\u001b[0m\u001b[1;33m,\u001b[0m \u001b[0murl\u001b[0m\u001b[1;33m,\u001b[0m \u001b[0mbody\u001b[0m\u001b[1;33m=\u001b[0m\u001b[0mdata\u001b[0m\u001b[1;33m)\u001b[0m\u001b[1;33m\u001b[0m\u001b[1;33m\u001b[0m\u001b[0m\n\u001b[0m\u001b[0;32m    422\u001b[0m \u001b[1;33m\u001b[0m\u001b[0m\n\u001b[0;32m    423\u001b[0m     \u001b[1;32mdef\u001b[0m \u001b[0m_request\u001b[0m\u001b[1;33m(\u001b[0m\u001b[0mself\u001b[0m\u001b[1;33m,\u001b[0m \u001b[0mmethod\u001b[0m\u001b[1;33m,\u001b[0m \u001b[0murl\u001b[0m\u001b[1;33m,\u001b[0m \u001b[0mbody\u001b[0m\u001b[1;33m=\u001b[0m\u001b[1;32mNone\u001b[0m\u001b[1;33m)\u001b[0m\u001b[1;33m:\u001b[0m\u001b[1;33m\u001b[0m\u001b[1;33m\u001b[0m\u001b[0m\n",
      "\u001b[1;32m~\\anaconda3\\lib\\site-packages\\selenium\\webdriver\\remote\\remote_connection.py\u001b[0m in \u001b[0;36m_request\u001b[1;34m(self, method, url, body)\u001b[0m\n\u001b[0;32m    441\u001b[0m \u001b[1;33m\u001b[0m\u001b[0m\n\u001b[0;32m    442\u001b[0m         \u001b[1;32mif\u001b[0m \u001b[0mself\u001b[0m\u001b[1;33m.\u001b[0m\u001b[0mkeep_alive\u001b[0m\u001b[1;33m:\u001b[0m\u001b[1;33m\u001b[0m\u001b[1;33m\u001b[0m\u001b[0m\n\u001b[1;32m--> 443\u001b[1;33m             \u001b[0mresp\u001b[0m \u001b[1;33m=\u001b[0m \u001b[0mself\u001b[0m\u001b[1;33m.\u001b[0m\u001b[0m_conn\u001b[0m\u001b[1;33m.\u001b[0m\u001b[0mrequest\u001b[0m\u001b[1;33m(\u001b[0m\u001b[0mmethod\u001b[0m\u001b[1;33m,\u001b[0m \u001b[0murl\u001b[0m\u001b[1;33m,\u001b[0m \u001b[0mbody\u001b[0m\u001b[1;33m=\u001b[0m\u001b[0mbody\u001b[0m\u001b[1;33m,\u001b[0m \u001b[0mheaders\u001b[0m\u001b[1;33m=\u001b[0m\u001b[0mheaders\u001b[0m\u001b[1;33m)\u001b[0m\u001b[1;33m\u001b[0m\u001b[1;33m\u001b[0m\u001b[0m\n\u001b[0m\u001b[0;32m    444\u001b[0m             \u001b[0mstatuscode\u001b[0m \u001b[1;33m=\u001b[0m \u001b[0mresp\u001b[0m\u001b[1;33m.\u001b[0m\u001b[0mstatus\u001b[0m\u001b[1;33m\u001b[0m\u001b[1;33m\u001b[0m\u001b[0m\n\u001b[0;32m    445\u001b[0m         \u001b[1;32melse\u001b[0m\u001b[1;33m:\u001b[0m\u001b[1;33m\u001b[0m\u001b[1;33m\u001b[0m\u001b[0m\n",
      "\u001b[1;32m~\\anaconda3\\lib\\site-packages\\urllib3\\request.py\u001b[0m in \u001b[0;36mrequest\u001b[1;34m(self, method, url, fields, headers, **urlopen_kw)\u001b[0m\n\u001b[0;32m     77\u001b[0m             )\n\u001b[0;32m     78\u001b[0m         \u001b[1;32melse\u001b[0m\u001b[1;33m:\u001b[0m\u001b[1;33m\u001b[0m\u001b[1;33m\u001b[0m\u001b[0m\n\u001b[1;32m---> 79\u001b[1;33m             return self.request_encode_body(\n\u001b[0m\u001b[0;32m     80\u001b[0m                 \u001b[0mmethod\u001b[0m\u001b[1;33m,\u001b[0m \u001b[0murl\u001b[0m\u001b[1;33m,\u001b[0m \u001b[0mfields\u001b[0m\u001b[1;33m=\u001b[0m\u001b[0mfields\u001b[0m\u001b[1;33m,\u001b[0m \u001b[0mheaders\u001b[0m\u001b[1;33m=\u001b[0m\u001b[0mheaders\u001b[0m\u001b[1;33m,\u001b[0m \u001b[1;33m**\u001b[0m\u001b[0murlopen_kw\u001b[0m\u001b[1;33m\u001b[0m\u001b[1;33m\u001b[0m\u001b[0m\n\u001b[0;32m     81\u001b[0m             )\n",
      "\u001b[1;32m~\\anaconda3\\lib\\site-packages\\urllib3\\request.py\u001b[0m in \u001b[0;36mrequest_encode_body\u001b[1;34m(self, method, url, fields, headers, encode_multipart, multipart_boundary, **urlopen_kw)\u001b[0m\n\u001b[0;32m    169\u001b[0m         \u001b[0mextra_kw\u001b[0m\u001b[1;33m.\u001b[0m\u001b[0mupdate\u001b[0m\u001b[1;33m(\u001b[0m\u001b[0murlopen_kw\u001b[0m\u001b[1;33m)\u001b[0m\u001b[1;33m\u001b[0m\u001b[1;33m\u001b[0m\u001b[0m\n\u001b[0;32m    170\u001b[0m \u001b[1;33m\u001b[0m\u001b[0m\n\u001b[1;32m--> 171\u001b[1;33m         \u001b[1;32mreturn\u001b[0m \u001b[0mself\u001b[0m\u001b[1;33m.\u001b[0m\u001b[0murlopen\u001b[0m\u001b[1;33m(\u001b[0m\u001b[0mmethod\u001b[0m\u001b[1;33m,\u001b[0m \u001b[0murl\u001b[0m\u001b[1;33m,\u001b[0m \u001b[1;33m**\u001b[0m\u001b[0mextra_kw\u001b[0m\u001b[1;33m)\u001b[0m\u001b[1;33m\u001b[0m\u001b[1;33m\u001b[0m\u001b[0m\n\u001b[0m",
      "\u001b[1;32m~\\anaconda3\\lib\\site-packages\\urllib3\\poolmanager.py\u001b[0m in \u001b[0;36murlopen\u001b[1;34m(self, method, url, redirect, **kw)\u001b[0m\n\u001b[0;32m    334\u001b[0m             \u001b[0mresponse\u001b[0m \u001b[1;33m=\u001b[0m \u001b[0mconn\u001b[0m\u001b[1;33m.\u001b[0m\u001b[0murlopen\u001b[0m\u001b[1;33m(\u001b[0m\u001b[0mmethod\u001b[0m\u001b[1;33m,\u001b[0m \u001b[0murl\u001b[0m\u001b[1;33m,\u001b[0m \u001b[1;33m**\u001b[0m\u001b[0mkw\u001b[0m\u001b[1;33m)\u001b[0m\u001b[1;33m\u001b[0m\u001b[1;33m\u001b[0m\u001b[0m\n\u001b[0;32m    335\u001b[0m         \u001b[1;32melse\u001b[0m\u001b[1;33m:\u001b[0m\u001b[1;33m\u001b[0m\u001b[1;33m\u001b[0m\u001b[0m\n\u001b[1;32m--> 336\u001b[1;33m             \u001b[0mresponse\u001b[0m \u001b[1;33m=\u001b[0m \u001b[0mconn\u001b[0m\u001b[1;33m.\u001b[0m\u001b[0murlopen\u001b[0m\u001b[1;33m(\u001b[0m\u001b[0mmethod\u001b[0m\u001b[1;33m,\u001b[0m \u001b[0mu\u001b[0m\u001b[1;33m.\u001b[0m\u001b[0mrequest_uri\u001b[0m\u001b[1;33m,\u001b[0m \u001b[1;33m**\u001b[0m\u001b[0mkw\u001b[0m\u001b[1;33m)\u001b[0m\u001b[1;33m\u001b[0m\u001b[1;33m\u001b[0m\u001b[0m\n\u001b[0m\u001b[0;32m    337\u001b[0m \u001b[1;33m\u001b[0m\u001b[0m\n\u001b[0;32m    338\u001b[0m         \u001b[0mredirect_location\u001b[0m \u001b[1;33m=\u001b[0m \u001b[0mredirect\u001b[0m \u001b[1;32mand\u001b[0m \u001b[0mresponse\u001b[0m\u001b[1;33m.\u001b[0m\u001b[0mget_redirect_location\u001b[0m\u001b[1;33m(\u001b[0m\u001b[1;33m)\u001b[0m\u001b[1;33m\u001b[0m\u001b[1;33m\u001b[0m\u001b[0m\n",
      "\u001b[1;32m~\\anaconda3\\lib\\site-packages\\urllib3\\connectionpool.py\u001b[0m in \u001b[0;36murlopen\u001b[1;34m(self, method, url, body, headers, retries, redirect, assert_same_host, timeout, pool_timeout, release_conn, chunked, body_pos, **response_kw)\u001b[0m\n\u001b[0;32m    668\u001b[0m \u001b[1;33m\u001b[0m\u001b[0m\n\u001b[0;32m    669\u001b[0m             \u001b[1;31m# Make the request on the httplib connection object.\u001b[0m\u001b[1;33m\u001b[0m\u001b[1;33m\u001b[0m\u001b[1;33m\u001b[0m\u001b[0m\n\u001b[1;32m--> 670\u001b[1;33m             httplib_response = self._make_request(\n\u001b[0m\u001b[0;32m    671\u001b[0m                 \u001b[0mconn\u001b[0m\u001b[1;33m,\u001b[0m\u001b[1;33m\u001b[0m\u001b[1;33m\u001b[0m\u001b[0m\n\u001b[0;32m    672\u001b[0m                 \u001b[0mmethod\u001b[0m\u001b[1;33m,\u001b[0m\u001b[1;33m\u001b[0m\u001b[1;33m\u001b[0m\u001b[0m\n",
      "\u001b[1;32m~\\anaconda3\\lib\\site-packages\\urllib3\\connectionpool.py\u001b[0m in \u001b[0;36m_make_request\u001b[1;34m(self, conn, method, url, timeout, chunked, **httplib_request_kw)\u001b[0m\n\u001b[0;32m    424\u001b[0m                     \u001b[1;31m# Python 3 (including for exceptions like SystemExit).\u001b[0m\u001b[1;33m\u001b[0m\u001b[1;33m\u001b[0m\u001b[1;33m\u001b[0m\u001b[0m\n\u001b[0;32m    425\u001b[0m                     \u001b[1;31m# Otherwise it looks like a bug in the code.\u001b[0m\u001b[1;33m\u001b[0m\u001b[1;33m\u001b[0m\u001b[1;33m\u001b[0m\u001b[0m\n\u001b[1;32m--> 426\u001b[1;33m                     \u001b[0msix\u001b[0m\u001b[1;33m.\u001b[0m\u001b[0mraise_from\u001b[0m\u001b[1;33m(\u001b[0m\u001b[0me\u001b[0m\u001b[1;33m,\u001b[0m \u001b[1;32mNone\u001b[0m\u001b[1;33m)\u001b[0m\u001b[1;33m\u001b[0m\u001b[1;33m\u001b[0m\u001b[0m\n\u001b[0m\u001b[0;32m    427\u001b[0m         \u001b[1;32mexcept\u001b[0m \u001b[1;33m(\u001b[0m\u001b[0mSocketTimeout\u001b[0m\u001b[1;33m,\u001b[0m \u001b[0mBaseSSLError\u001b[0m\u001b[1;33m,\u001b[0m \u001b[0mSocketError\u001b[0m\u001b[1;33m)\u001b[0m \u001b[1;32mas\u001b[0m \u001b[0me\u001b[0m\u001b[1;33m:\u001b[0m\u001b[1;33m\u001b[0m\u001b[1;33m\u001b[0m\u001b[0m\n\u001b[0;32m    428\u001b[0m             \u001b[0mself\u001b[0m\u001b[1;33m.\u001b[0m\u001b[0m_raise_timeout\u001b[0m\u001b[1;33m(\u001b[0m\u001b[0merr\u001b[0m\u001b[1;33m=\u001b[0m\u001b[0me\u001b[0m\u001b[1;33m,\u001b[0m \u001b[0murl\u001b[0m\u001b[1;33m=\u001b[0m\u001b[0murl\u001b[0m\u001b[1;33m,\u001b[0m \u001b[0mtimeout_value\u001b[0m\u001b[1;33m=\u001b[0m\u001b[0mread_timeout\u001b[0m\u001b[1;33m)\u001b[0m\u001b[1;33m\u001b[0m\u001b[1;33m\u001b[0m\u001b[0m\n",
      "\u001b[1;32m~\\anaconda3\\lib\\site-packages\\urllib3\\packages\\six.py\u001b[0m in \u001b[0;36mraise_from\u001b[1;34m(value, from_value)\u001b[0m\n",
      "\u001b[1;32m~\\anaconda3\\lib\\site-packages\\urllib3\\connectionpool.py\u001b[0m in \u001b[0;36m_make_request\u001b[1;34m(self, conn, method, url, timeout, chunked, **httplib_request_kw)\u001b[0m\n\u001b[0;32m    419\u001b[0m                 \u001b[1;31m# Python 3\u001b[0m\u001b[1;33m\u001b[0m\u001b[1;33m\u001b[0m\u001b[1;33m\u001b[0m\u001b[0m\n\u001b[0;32m    420\u001b[0m                 \u001b[1;32mtry\u001b[0m\u001b[1;33m:\u001b[0m\u001b[1;33m\u001b[0m\u001b[1;33m\u001b[0m\u001b[0m\n\u001b[1;32m--> 421\u001b[1;33m                     \u001b[0mhttplib_response\u001b[0m \u001b[1;33m=\u001b[0m \u001b[0mconn\u001b[0m\u001b[1;33m.\u001b[0m\u001b[0mgetresponse\u001b[0m\u001b[1;33m(\u001b[0m\u001b[1;33m)\u001b[0m\u001b[1;33m\u001b[0m\u001b[1;33m\u001b[0m\u001b[0m\n\u001b[0m\u001b[0;32m    422\u001b[0m                 \u001b[1;32mexcept\u001b[0m \u001b[0mBaseException\u001b[0m \u001b[1;32mas\u001b[0m \u001b[0me\u001b[0m\u001b[1;33m:\u001b[0m\u001b[1;33m\u001b[0m\u001b[1;33m\u001b[0m\u001b[0m\n\u001b[0;32m    423\u001b[0m                     \u001b[1;31m# Remove the TypeError from the exception chain in\u001b[0m\u001b[1;33m\u001b[0m\u001b[1;33m\u001b[0m\u001b[1;33m\u001b[0m\u001b[0m\n",
      "\u001b[1;32m~\\anaconda3\\lib\\http\\client.py\u001b[0m in \u001b[0;36mgetresponse\u001b[1;34m(self)\u001b[0m\n\u001b[0;32m   1345\u001b[0m         \u001b[1;32mtry\u001b[0m\u001b[1;33m:\u001b[0m\u001b[1;33m\u001b[0m\u001b[1;33m\u001b[0m\u001b[0m\n\u001b[0;32m   1346\u001b[0m             \u001b[1;32mtry\u001b[0m\u001b[1;33m:\u001b[0m\u001b[1;33m\u001b[0m\u001b[1;33m\u001b[0m\u001b[0m\n\u001b[1;32m-> 1347\u001b[1;33m                 \u001b[0mresponse\u001b[0m\u001b[1;33m.\u001b[0m\u001b[0mbegin\u001b[0m\u001b[1;33m(\u001b[0m\u001b[1;33m)\u001b[0m\u001b[1;33m\u001b[0m\u001b[1;33m\u001b[0m\u001b[0m\n\u001b[0m\u001b[0;32m   1348\u001b[0m             \u001b[1;32mexcept\u001b[0m \u001b[0mConnectionError\u001b[0m\u001b[1;33m:\u001b[0m\u001b[1;33m\u001b[0m\u001b[1;33m\u001b[0m\u001b[0m\n\u001b[0;32m   1349\u001b[0m                 \u001b[0mself\u001b[0m\u001b[1;33m.\u001b[0m\u001b[0mclose\u001b[0m\u001b[1;33m(\u001b[0m\u001b[1;33m)\u001b[0m\u001b[1;33m\u001b[0m\u001b[1;33m\u001b[0m\u001b[0m\n",
      "\u001b[1;32m~\\anaconda3\\lib\\http\\client.py\u001b[0m in \u001b[0;36mbegin\u001b[1;34m(self)\u001b[0m\n\u001b[0;32m    305\u001b[0m         \u001b[1;31m# read until we get a non-100 response\u001b[0m\u001b[1;33m\u001b[0m\u001b[1;33m\u001b[0m\u001b[1;33m\u001b[0m\u001b[0m\n\u001b[0;32m    306\u001b[0m         \u001b[1;32mwhile\u001b[0m \u001b[1;32mTrue\u001b[0m\u001b[1;33m:\u001b[0m\u001b[1;33m\u001b[0m\u001b[1;33m\u001b[0m\u001b[0m\n\u001b[1;32m--> 307\u001b[1;33m             \u001b[0mversion\u001b[0m\u001b[1;33m,\u001b[0m \u001b[0mstatus\u001b[0m\u001b[1;33m,\u001b[0m \u001b[0mreason\u001b[0m \u001b[1;33m=\u001b[0m \u001b[0mself\u001b[0m\u001b[1;33m.\u001b[0m\u001b[0m_read_status\u001b[0m\u001b[1;33m(\u001b[0m\u001b[1;33m)\u001b[0m\u001b[1;33m\u001b[0m\u001b[1;33m\u001b[0m\u001b[0m\n\u001b[0m\u001b[0;32m    308\u001b[0m             \u001b[1;32mif\u001b[0m \u001b[0mstatus\u001b[0m \u001b[1;33m!=\u001b[0m \u001b[0mCONTINUE\u001b[0m\u001b[1;33m:\u001b[0m\u001b[1;33m\u001b[0m\u001b[1;33m\u001b[0m\u001b[0m\n\u001b[0;32m    309\u001b[0m                 \u001b[1;32mbreak\u001b[0m\u001b[1;33m\u001b[0m\u001b[1;33m\u001b[0m\u001b[0m\n",
      "\u001b[1;32m~\\anaconda3\\lib\\http\\client.py\u001b[0m in \u001b[0;36m_read_status\u001b[1;34m(self)\u001b[0m\n\u001b[0;32m    266\u001b[0m \u001b[1;33m\u001b[0m\u001b[0m\n\u001b[0;32m    267\u001b[0m     \u001b[1;32mdef\u001b[0m \u001b[0m_read_status\u001b[0m\u001b[1;33m(\u001b[0m\u001b[0mself\u001b[0m\u001b[1;33m)\u001b[0m\u001b[1;33m:\u001b[0m\u001b[1;33m\u001b[0m\u001b[1;33m\u001b[0m\u001b[0m\n\u001b[1;32m--> 268\u001b[1;33m         \u001b[0mline\u001b[0m \u001b[1;33m=\u001b[0m \u001b[0mstr\u001b[0m\u001b[1;33m(\u001b[0m\u001b[0mself\u001b[0m\u001b[1;33m.\u001b[0m\u001b[0mfp\u001b[0m\u001b[1;33m.\u001b[0m\u001b[0mreadline\u001b[0m\u001b[1;33m(\u001b[0m\u001b[0m_MAXLINE\u001b[0m \u001b[1;33m+\u001b[0m \u001b[1;36m1\u001b[0m\u001b[1;33m)\u001b[0m\u001b[1;33m,\u001b[0m \u001b[1;34m\"iso-8859-1\"\u001b[0m\u001b[1;33m)\u001b[0m\u001b[1;33m\u001b[0m\u001b[1;33m\u001b[0m\u001b[0m\n\u001b[0m\u001b[0;32m    269\u001b[0m         \u001b[1;32mif\u001b[0m \u001b[0mlen\u001b[0m\u001b[1;33m(\u001b[0m\u001b[0mline\u001b[0m\u001b[1;33m)\u001b[0m \u001b[1;33m>\u001b[0m \u001b[0m_MAXLINE\u001b[0m\u001b[1;33m:\u001b[0m\u001b[1;33m\u001b[0m\u001b[1;33m\u001b[0m\u001b[0m\n\u001b[0;32m    270\u001b[0m             \u001b[1;32mraise\u001b[0m \u001b[0mLineTooLong\u001b[0m\u001b[1;33m(\u001b[0m\u001b[1;34m\"status line\"\u001b[0m\u001b[1;33m)\u001b[0m\u001b[1;33m\u001b[0m\u001b[1;33m\u001b[0m\u001b[0m\n",
      "\u001b[1;32m~\\anaconda3\\lib\\socket.py\u001b[0m in \u001b[0;36mreadinto\u001b[1;34m(self, b)\u001b[0m\n\u001b[0;32m    667\u001b[0m         \u001b[1;32mwhile\u001b[0m \u001b[1;32mTrue\u001b[0m\u001b[1;33m:\u001b[0m\u001b[1;33m\u001b[0m\u001b[1;33m\u001b[0m\u001b[0m\n\u001b[0;32m    668\u001b[0m             \u001b[1;32mtry\u001b[0m\u001b[1;33m:\u001b[0m\u001b[1;33m\u001b[0m\u001b[1;33m\u001b[0m\u001b[0m\n\u001b[1;32m--> 669\u001b[1;33m                 \u001b[1;32mreturn\u001b[0m \u001b[0mself\u001b[0m\u001b[1;33m.\u001b[0m\u001b[0m_sock\u001b[0m\u001b[1;33m.\u001b[0m\u001b[0mrecv_into\u001b[0m\u001b[1;33m(\u001b[0m\u001b[0mb\u001b[0m\u001b[1;33m)\u001b[0m\u001b[1;33m\u001b[0m\u001b[1;33m\u001b[0m\u001b[0m\n\u001b[0m\u001b[0;32m    670\u001b[0m             \u001b[1;32mexcept\u001b[0m \u001b[0mtimeout\u001b[0m\u001b[1;33m:\u001b[0m\u001b[1;33m\u001b[0m\u001b[1;33m\u001b[0m\u001b[0m\n\u001b[0;32m    671\u001b[0m                 \u001b[0mself\u001b[0m\u001b[1;33m.\u001b[0m\u001b[0m_timeout_occurred\u001b[0m \u001b[1;33m=\u001b[0m \u001b[1;32mTrue\u001b[0m\u001b[1;33m\u001b[0m\u001b[1;33m\u001b[0m\u001b[0m\n",
      "\u001b[1;31mKeyboardInterrupt\u001b[0m: "
     ]
    }
   ],
   "source": [
    "star_buzz = []\n",
    "\n",
    "# 스크롤을 밑으로 내려주는 함수\n",
    "def scroll_down(driver):\n",
    "    driver.execute_script(\"window.scrollTo(0, 19431049)\")\n",
    "    time.sleep(1)\n",
    "\n",
    "\n",
    "for i in df.index[10:]:\n",
    "    actor = df['actors'][i].split(',')\n",
    "    actor = actor[:12]\n",
    "    \n",
    "    act_cnt = []\n",
    "    \n",
    "    end_date = df['개봉일'][i] - relativedelta(days=1) \n",
    "    end_y = str(end_date.year)\n",
    "    end_m = str(end_date.month)\n",
    "    end_d = str(end_date.day)\n",
    "    \n",
    "    start_date = df['개봉일'][i] - relativedelta(months=1) \n",
    "    start_y = str(start_date.year)\n",
    "    start_m = str(start_date.month)\n",
    "    start_d = str(start_date.day)\n",
    "    \n",
    "    for a in actor:\n",
    "        query_txt = a\n",
    "        \n",
    "        chrome_path = chromedriver_autoinstaller.install()\n",
    "        driver = webdriver.Chrome(chrome_path)\n",
    "        # 사이트 주소는 네이버\n",
    "        driver.get('http://www.naver.com')\n",
    "        time.sleep(2) \n",
    "        \n",
    "        # Step 2. 네이버 검색창에 \"검색어\" 검색\n",
    "        element = driver.find_element_by_id(\"query\")\n",
    "        element.send_keys(query_txt)  # query_txt는 위에서 입력한 키워드\n",
    "        element.submit()\n",
    "        time.sleep(1)\n",
    "\n",
    "        # 'VIEW' 클릭\n",
    "        driver.find_element_by_link_text(\"VIEW\").click( )\n",
    "        time.sleep(1)\n",
    "\n",
    "        # '블로그' 클릭\n",
    "        driver.find_element_by_link_text(\"블로그\").click( )\n",
    "        time.sleep(1)\n",
    "\n",
    "        # '옵션' 클릭\n",
    "        driver.find_element_by_link_text(\"옵션\").click( )\n",
    "        time.sleep(5)\n",
    "        driver.find_elements_by_css_selector('.option .txt')[13].click() # 몇개월할지 설정\n",
    "        time.sleep(5)\n",
    "        \n",
    "        \n",
    "        driver.find_element_by_class_name('spnew_bf.ico_calendar._start_trigger').click()\n",
    "        driver.find_element_by_link_text(start_y).click()\n",
    "        driver.find_element_by_link_text(start_m).click()\n",
    "        driver.find_element_by_link_text(start_d).click()\n",
    "        driver.find_element_by_class_name('spnew_bf.ico_calendar._end_trigger').click()\n",
    "        driver.find_element_by_link_text(end_y).click()\n",
    "        driver.find_element_by_link_text(end_m).click()\n",
    "        driver.find_element_by_link_text(end_d).click()\n",
    "        driver.find_element_by_xpath('//*[@id=\"snb\"]/div[2]/ul/li[3]/div/div[2]/div[3]/button').click()\n",
    "\n",
    "        # last_height = driver.execute_script(\"return document.body.scrollHeight\")\n",
    "        #driver.execute_script(\"window.scrollTo(0, document.body.scrollHeight);\")\n",
    "        #driver.execute_script(\"window.scrollTo(0, 45465413211321);\")\n",
    "        #time.sleep(1)\n",
    "        \n",
    "        n = 20  # 스크롤 1번 당 30개씩\n",
    "        i = 0\n",
    "        while i < n: # 이 조건이 만족되는 동안 반복 실행\n",
    "            scroll_down(driver) # 스크롤 다운\n",
    "            i = i+1\n",
    "        \n",
    "        articles = \".api_txt_lines.total_tit\"\n",
    "        article_raw = driver.find_elements_by_css_selector(articles)\n",
    "        \n",
    "        if not article_raw:\n",
    "            act_cnt.append(0)\n",
    "        else:\n",
    "            act_cnt.append(len(article_raw))\n",
    "    \n",
    "    star_buzz.append(sum(act_cnt))"
   ]
  },
  {
   "cell_type": "code",
   "execution_count": null,
   "metadata": {},
   "outputs": [],
   "source": []
  },
  {
   "cell_type": "code",
   "execution_count": null,
   "metadata": {},
   "outputs": [],
   "source": []
  },
  {
   "cell_type": "code",
   "execution_count": 130,
   "metadata": {},
   "outputs": [],
   "source": [
    "fiveteen = star_buzz"
   ]
  },
  {
   "cell_type": "code",
   "execution_count": 114,
   "metadata": {
    "scrolled": false
   },
   "outputs": [
    {
     "data": {
      "text/plain": [
       "[65, 6532, 2635, 199, 7, 361, 3807, 1463, 2702, 1341]"
      ]
     },
     "execution_count": 114,
     "metadata": {},
     "output_type": "execute_result"
    }
   ],
   "source": [
    "ten"
   ]
  },
  {
   "cell_type": "code",
   "execution_count": null,
   "metadata": {},
   "outputs": [],
   "source": [
    "a = '김명민'"
   ]
  },
  {
   "cell_type": "code",
   "execution_count": null,
   "metadata": {},
   "outputs": [],
   "source": [
    "query_txt = f'{df['title'][1]}' + a"
   ]
  },
  {
   "cell_type": "code",
   "execution_count": null,
   "metadata": {},
   "outputs": [],
   "source": []
  },
  {
   "cell_type": "code",
   "execution_count": 103,
   "metadata": {},
   "outputs": [],
   "source": [
    "query_txt = '김명민'\n",
    "q = []        \n",
    "chrome_path = chromedriver_autoinstaller.install()\n",
    "driver = webdriver.Chrome(chrome_path)\n",
    "# 사이트 주소는 네이버\n",
    "driver.get('http://www.naver.com')\n",
    "time.sleep(2) \n",
    "\n",
    "# Step 2. 네이버 검색창에 \"검색어\" 검색\n",
    "element = driver.find_element_by_id(\"query\")\n",
    "element.send_keys(query_txt)  # query_txt는 위에서 입력한 키워드\n",
    "element.submit()\n",
    "time.sleep(1)\n",
    "\n",
    "# 'VIEW' 클릭\n",
    "driver.find_element_by_link_text(\"VIEW\").click( )\n",
    "time.sleep(1)\n",
    "\n",
    "# '블로그' 클릭\n",
    "driver.find_element_by_link_text(\"블로그\").click( )\n",
    "time.sleep(1)\n",
    "\n",
    "# '옵션' 클릭\n",
    "driver.find_element_by_link_text(\"옵션\").click( )\n",
    "time.sleep(2)\n",
    "driver.find_elements_by_css_selector('.option .txt')[13].click() # 몇개월할지 설정\n",
    "time.sleep(2)\n",
    "\n",
    "\n",
    "driver.find_element_by_class_name('spnew_bf.ico_calendar._start_trigger').click()\n",
    "driver.find_element_by_link_text(start_y).click()\n",
    "driver.find_element_by_link_text(start_d).click()\n",
    "driver.find_element_by_link_text(start_m).click()\n",
    "driver.find_element_by_class_name('spnew_bf.ico_calendar._end_trigger').click()\n",
    "driver.find_element_by_link_text(end_y).click()\n",
    "driver.find_element_by_link_text(end_d).click()\n",
    "driver.find_element_by_link_text(end_m).click()\n",
    "driver.find_element_by_xpath('//*[@id=\"snb\"]/div[2]/ul/li[3]/div/div[2]/div[3]/button').click()\n",
    "\n",
    "last_height = driver.execute_script(\"return document.body.scrollHeight\")\n",
    "driver.execute_script(\"window.scrollTo(0, document.body.scrollHeight);\")\n",
    "#driver.execute_script(\"window.scrollTo(0, 45465413211321);\")\n",
    "#time.sleep(1)\n",
    "\n",
    "\n",
    "\n",
    "articles = \".api_txt_lines.total_tit\"\n",
    "article_raw = driver.find_elements_by_css_selector(articles)\n",
    "\n",
    "if not article_raw:\n",
    "    q.append(0)\n",
    "else:\n",
    "    q.append(len(article_raw))"
   ]
  },
  {
   "cell_type": "code",
   "execution_count": 144,
   "metadata": {},
   "outputs": [
    {
     "data": {
      "text/plain": [
       "RangeIndex(start=1383, stop=6381, step=1)"
      ]
     },
     "execution_count": 144,
     "metadata": {},
     "output_type": "execute_result"
    }
   ],
   "source": [
    "df.index[1383:] #1488"
   ]
  },
  {
   "cell_type": "code",
   "execution_count": null,
   "metadata": {},
   "outputs": [],
   "source": []
  },
  {
   "cell_type": "code",
   "execution_count": 57,
   "metadata": {},
   "outputs": [
    {
     "data": {
      "text/plain": [
       "Timestamp('2019-01-02 00:00:00')"
      ]
     },
     "execution_count": 57,
     "metadata": {},
     "output_type": "execute_result"
    }
   ],
   "source": [
    "df['개봉일'][36]- relativedelta(days=1)"
   ]
  },
  {
   "cell_type": "code",
   "execution_count": 58,
   "metadata": {},
   "outputs": [
    {
     "data": {
      "text/plain": [
       "Timestamp('2018-12-03 00:00:00')"
      ]
     },
     "execution_count": 58,
     "metadata": {},
     "output_type": "execute_result"
    }
   ],
   "source": [
    "df['개봉일'][36]- relativedelta(months=1)"
   ]
  },
  {
   "cell_type": "code",
   "execution_count": 28,
   "metadata": {},
   "outputs": [
    {
     "data": {
      "text/plain": [
       "'2'"
      ]
     },
     "execution_count": 28,
     "metadata": {},
     "output_type": "execute_result"
    }
   ],
   "source": [
    "str(end_date.day)"
   ]
  },
  {
   "cell_type": "code",
   "execution_count": 54,
   "metadata": {},
   "outputs": [
    {
     "ename": "KeyboardInterrupt",
     "evalue": "",
     "output_type": "error",
     "traceback": [
      "\u001b[1;31m---------------------------------------------------------------------------\u001b[0m",
      "\u001b[1;31mKeyboardInterrupt\u001b[0m                         Traceback (most recent call last)",
      "\u001b[1;32m<ipython-input-54-a49d00904878>\u001b[0m in \u001b[0;36m<module>\u001b[1;34m\u001b[0m\n\u001b[0;32m     47\u001b[0m \u001b[1;33m\u001b[0m\u001b[0m\n\u001b[0;32m     48\u001b[0m         \u001b[1;31m# '옵션' 클릭\u001b[0m\u001b[1;33m\u001b[0m\u001b[1;33m\u001b[0m\u001b[1;33m\u001b[0m\u001b[0m\n\u001b[1;32m---> 49\u001b[1;33m         \u001b[0mdriver\u001b[0m\u001b[1;33m.\u001b[0m\u001b[0mfind_element_by_link_text\u001b[0m\u001b[1;33m(\u001b[0m\u001b[1;34m\"옵션\"\u001b[0m\u001b[1;33m)\u001b[0m\u001b[1;33m.\u001b[0m\u001b[0mclick\u001b[0m\u001b[1;33m(\u001b[0m \u001b[1;33m)\u001b[0m\u001b[1;33m\u001b[0m\u001b[1;33m\u001b[0m\u001b[0m\n\u001b[0m\u001b[0;32m     50\u001b[0m         \u001b[0mtime\u001b[0m\u001b[1;33m.\u001b[0m\u001b[0msleep\u001b[0m\u001b[1;33m(\u001b[0m\u001b[1;36m3\u001b[0m\u001b[1;33m)\u001b[0m\u001b[1;33m\u001b[0m\u001b[1;33m\u001b[0m\u001b[0m\n\u001b[0;32m     51\u001b[0m         \u001b[0mdriver\u001b[0m\u001b[1;33m.\u001b[0m\u001b[0mfind_elements_by_css_selector\u001b[0m\u001b[1;33m(\u001b[0m\u001b[1;34m'.option .txt'\u001b[0m\u001b[1;33m)\u001b[0m\u001b[1;33m[\u001b[0m\u001b[1;36m13\u001b[0m\u001b[1;33m]\u001b[0m\u001b[1;33m.\u001b[0m\u001b[0mclick\u001b[0m\u001b[1;33m(\u001b[0m\u001b[1;33m)\u001b[0m \u001b[1;31m# 몇개월할지 설정\u001b[0m\u001b[1;33m\u001b[0m\u001b[1;33m\u001b[0m\u001b[0m\n",
      "\u001b[1;32m~\\anaconda3\\lib\\site-packages\\selenium\\webdriver\\remote\\webdriver.py\u001b[0m in \u001b[0;36mfind_element_by_link_text\u001b[1;34m(self, link_text)\u001b[0m\n\u001b[0;32m    566\u001b[0m             \u001b[0mstacklevel\u001b[0m\u001b[1;33m=\u001b[0m\u001b[1;36m2\u001b[0m\u001b[1;33m,\u001b[0m\u001b[1;33m\u001b[0m\u001b[1;33m\u001b[0m\u001b[0m\n\u001b[0;32m    567\u001b[0m         )\n\u001b[1;32m--> 568\u001b[1;33m         \u001b[1;32mreturn\u001b[0m \u001b[0mself\u001b[0m\u001b[1;33m.\u001b[0m\u001b[0mfind_element\u001b[0m\u001b[1;33m(\u001b[0m\u001b[0mby\u001b[0m\u001b[1;33m=\u001b[0m\u001b[0mBy\u001b[0m\u001b[1;33m.\u001b[0m\u001b[0mLINK_TEXT\u001b[0m\u001b[1;33m,\u001b[0m \u001b[0mvalue\u001b[0m\u001b[1;33m=\u001b[0m\u001b[0mlink_text\u001b[0m\u001b[1;33m)\u001b[0m\u001b[1;33m\u001b[0m\u001b[1;33m\u001b[0m\u001b[0m\n\u001b[0m\u001b[0;32m    569\u001b[0m \u001b[1;33m\u001b[0m\u001b[0m\n\u001b[0;32m    570\u001b[0m     \u001b[1;32mdef\u001b[0m \u001b[0mfind_elements_by_link_text\u001b[0m\u001b[1;33m(\u001b[0m\u001b[0mself\u001b[0m\u001b[1;33m,\u001b[0m \u001b[0mtext\u001b[0m\u001b[1;33m)\u001b[0m \u001b[1;33m->\u001b[0m \u001b[0mWebElement\u001b[0m\u001b[1;33m:\u001b[0m\u001b[1;33m\u001b[0m\u001b[1;33m\u001b[0m\u001b[0m\n",
      "\u001b[1;32m~\\anaconda3\\lib\\site-packages\\selenium\\webdriver\\remote\\webdriver.py\u001b[0m in \u001b[0;36mfind_element\u001b[1;34m(self, by, value)\u001b[0m\n\u001b[0;32m   1242\u001b[0m             \u001b[0mvalue\u001b[0m \u001b[1;33m=\u001b[0m \u001b[1;34m'[name=\"%s\"]'\u001b[0m \u001b[1;33m%\u001b[0m \u001b[0mvalue\u001b[0m\u001b[1;33m\u001b[0m\u001b[1;33m\u001b[0m\u001b[0m\n\u001b[0;32m   1243\u001b[0m \u001b[1;33m\u001b[0m\u001b[0m\n\u001b[1;32m-> 1244\u001b[1;33m         return self.execute(Command.FIND_ELEMENT, {\n\u001b[0m\u001b[0;32m   1245\u001b[0m             \u001b[1;34m'using'\u001b[0m\u001b[1;33m:\u001b[0m \u001b[0mby\u001b[0m\u001b[1;33m,\u001b[0m\u001b[1;33m\u001b[0m\u001b[1;33m\u001b[0m\u001b[0m\n\u001b[0;32m   1246\u001b[0m             'value': value})['value']\n",
      "\u001b[1;32m~\\anaconda3\\lib\\site-packages\\selenium\\webdriver\\remote\\webdriver.py\u001b[0m in \u001b[0;36mexecute\u001b[1;34m(self, driver_command, params)\u001b[0m\n\u001b[0;32m    420\u001b[0m \u001b[1;33m\u001b[0m\u001b[0m\n\u001b[0;32m    421\u001b[0m         \u001b[0mparams\u001b[0m \u001b[1;33m=\u001b[0m \u001b[0mself\u001b[0m\u001b[1;33m.\u001b[0m\u001b[0m_wrap_value\u001b[0m\u001b[1;33m(\u001b[0m\u001b[0mparams\u001b[0m\u001b[1;33m)\u001b[0m\u001b[1;33m\u001b[0m\u001b[1;33m\u001b[0m\u001b[0m\n\u001b[1;32m--> 422\u001b[1;33m         \u001b[0mresponse\u001b[0m \u001b[1;33m=\u001b[0m \u001b[0mself\u001b[0m\u001b[1;33m.\u001b[0m\u001b[0mcommand_executor\u001b[0m\u001b[1;33m.\u001b[0m\u001b[0mexecute\u001b[0m\u001b[1;33m(\u001b[0m\u001b[0mdriver_command\u001b[0m\u001b[1;33m,\u001b[0m \u001b[0mparams\u001b[0m\u001b[1;33m)\u001b[0m\u001b[1;33m\u001b[0m\u001b[1;33m\u001b[0m\u001b[0m\n\u001b[0m\u001b[0;32m    423\u001b[0m         \u001b[1;32mif\u001b[0m \u001b[0mresponse\u001b[0m\u001b[1;33m:\u001b[0m\u001b[1;33m\u001b[0m\u001b[1;33m\u001b[0m\u001b[0m\n\u001b[0;32m    424\u001b[0m             \u001b[0mself\u001b[0m\u001b[1;33m.\u001b[0m\u001b[0merror_handler\u001b[0m\u001b[1;33m.\u001b[0m\u001b[0mcheck_response\u001b[0m\u001b[1;33m(\u001b[0m\u001b[0mresponse\u001b[0m\u001b[1;33m)\u001b[0m\u001b[1;33m\u001b[0m\u001b[1;33m\u001b[0m\u001b[0m\n",
      "\u001b[1;32m~\\anaconda3\\lib\\site-packages\\selenium\\webdriver\\remote\\remote_connection.py\u001b[0m in \u001b[0;36mexecute\u001b[1;34m(self, command, params)\u001b[0m\n\u001b[0;32m    419\u001b[0m         \u001b[0mdata\u001b[0m \u001b[1;33m=\u001b[0m \u001b[0mutils\u001b[0m\u001b[1;33m.\u001b[0m\u001b[0mdump_json\u001b[0m\u001b[1;33m(\u001b[0m\u001b[0mparams\u001b[0m\u001b[1;33m)\u001b[0m\u001b[1;33m\u001b[0m\u001b[1;33m\u001b[0m\u001b[0m\n\u001b[0;32m    420\u001b[0m         \u001b[0murl\u001b[0m \u001b[1;33m=\u001b[0m \u001b[1;34mf\"{self._url}{path}\"\u001b[0m\u001b[1;33m\u001b[0m\u001b[1;33m\u001b[0m\u001b[0m\n\u001b[1;32m--> 421\u001b[1;33m         \u001b[1;32mreturn\u001b[0m \u001b[0mself\u001b[0m\u001b[1;33m.\u001b[0m\u001b[0m_request\u001b[0m\u001b[1;33m(\u001b[0m\u001b[0mcommand_info\u001b[0m\u001b[1;33m[\u001b[0m\u001b[1;36m0\u001b[0m\u001b[1;33m]\u001b[0m\u001b[1;33m,\u001b[0m \u001b[0murl\u001b[0m\u001b[1;33m,\u001b[0m \u001b[0mbody\u001b[0m\u001b[1;33m=\u001b[0m\u001b[0mdata\u001b[0m\u001b[1;33m)\u001b[0m\u001b[1;33m\u001b[0m\u001b[1;33m\u001b[0m\u001b[0m\n\u001b[0m\u001b[0;32m    422\u001b[0m \u001b[1;33m\u001b[0m\u001b[0m\n\u001b[0;32m    423\u001b[0m     \u001b[1;32mdef\u001b[0m \u001b[0m_request\u001b[0m\u001b[1;33m(\u001b[0m\u001b[0mself\u001b[0m\u001b[1;33m,\u001b[0m \u001b[0mmethod\u001b[0m\u001b[1;33m,\u001b[0m \u001b[0murl\u001b[0m\u001b[1;33m,\u001b[0m \u001b[0mbody\u001b[0m\u001b[1;33m=\u001b[0m\u001b[1;32mNone\u001b[0m\u001b[1;33m)\u001b[0m\u001b[1;33m:\u001b[0m\u001b[1;33m\u001b[0m\u001b[1;33m\u001b[0m\u001b[0m\n",
      "\u001b[1;32m~\\anaconda3\\lib\\site-packages\\selenium\\webdriver\\remote\\remote_connection.py\u001b[0m in \u001b[0;36m_request\u001b[1;34m(self, method, url, body)\u001b[0m\n\u001b[0;32m    441\u001b[0m \u001b[1;33m\u001b[0m\u001b[0m\n\u001b[0;32m    442\u001b[0m         \u001b[1;32mif\u001b[0m \u001b[0mself\u001b[0m\u001b[1;33m.\u001b[0m\u001b[0mkeep_alive\u001b[0m\u001b[1;33m:\u001b[0m\u001b[1;33m\u001b[0m\u001b[1;33m\u001b[0m\u001b[0m\n\u001b[1;32m--> 443\u001b[1;33m             \u001b[0mresp\u001b[0m \u001b[1;33m=\u001b[0m \u001b[0mself\u001b[0m\u001b[1;33m.\u001b[0m\u001b[0m_conn\u001b[0m\u001b[1;33m.\u001b[0m\u001b[0mrequest\u001b[0m\u001b[1;33m(\u001b[0m\u001b[0mmethod\u001b[0m\u001b[1;33m,\u001b[0m \u001b[0murl\u001b[0m\u001b[1;33m,\u001b[0m \u001b[0mbody\u001b[0m\u001b[1;33m=\u001b[0m\u001b[0mbody\u001b[0m\u001b[1;33m,\u001b[0m \u001b[0mheaders\u001b[0m\u001b[1;33m=\u001b[0m\u001b[0mheaders\u001b[0m\u001b[1;33m)\u001b[0m\u001b[1;33m\u001b[0m\u001b[1;33m\u001b[0m\u001b[0m\n\u001b[0m\u001b[0;32m    444\u001b[0m             \u001b[0mstatuscode\u001b[0m \u001b[1;33m=\u001b[0m \u001b[0mresp\u001b[0m\u001b[1;33m.\u001b[0m\u001b[0mstatus\u001b[0m\u001b[1;33m\u001b[0m\u001b[1;33m\u001b[0m\u001b[0m\n\u001b[0;32m    445\u001b[0m         \u001b[1;32melse\u001b[0m\u001b[1;33m:\u001b[0m\u001b[1;33m\u001b[0m\u001b[1;33m\u001b[0m\u001b[0m\n",
      "\u001b[1;32m~\\anaconda3\\lib\\site-packages\\urllib3\\request.py\u001b[0m in \u001b[0;36mrequest\u001b[1;34m(self, method, url, fields, headers, **urlopen_kw)\u001b[0m\n\u001b[0;32m     77\u001b[0m             )\n\u001b[0;32m     78\u001b[0m         \u001b[1;32melse\u001b[0m\u001b[1;33m:\u001b[0m\u001b[1;33m\u001b[0m\u001b[1;33m\u001b[0m\u001b[0m\n\u001b[1;32m---> 79\u001b[1;33m             return self.request_encode_body(\n\u001b[0m\u001b[0;32m     80\u001b[0m                 \u001b[0mmethod\u001b[0m\u001b[1;33m,\u001b[0m \u001b[0murl\u001b[0m\u001b[1;33m,\u001b[0m \u001b[0mfields\u001b[0m\u001b[1;33m=\u001b[0m\u001b[0mfields\u001b[0m\u001b[1;33m,\u001b[0m \u001b[0mheaders\u001b[0m\u001b[1;33m=\u001b[0m\u001b[0mheaders\u001b[0m\u001b[1;33m,\u001b[0m \u001b[1;33m**\u001b[0m\u001b[0murlopen_kw\u001b[0m\u001b[1;33m\u001b[0m\u001b[1;33m\u001b[0m\u001b[0m\n\u001b[0;32m     81\u001b[0m             )\n",
      "\u001b[1;32m~\\anaconda3\\lib\\site-packages\\urllib3\\request.py\u001b[0m in \u001b[0;36mrequest_encode_body\u001b[1;34m(self, method, url, fields, headers, encode_multipart, multipart_boundary, **urlopen_kw)\u001b[0m\n\u001b[0;32m    169\u001b[0m         \u001b[0mextra_kw\u001b[0m\u001b[1;33m.\u001b[0m\u001b[0mupdate\u001b[0m\u001b[1;33m(\u001b[0m\u001b[0murlopen_kw\u001b[0m\u001b[1;33m)\u001b[0m\u001b[1;33m\u001b[0m\u001b[1;33m\u001b[0m\u001b[0m\n\u001b[0;32m    170\u001b[0m \u001b[1;33m\u001b[0m\u001b[0m\n\u001b[1;32m--> 171\u001b[1;33m         \u001b[1;32mreturn\u001b[0m \u001b[0mself\u001b[0m\u001b[1;33m.\u001b[0m\u001b[0murlopen\u001b[0m\u001b[1;33m(\u001b[0m\u001b[0mmethod\u001b[0m\u001b[1;33m,\u001b[0m \u001b[0murl\u001b[0m\u001b[1;33m,\u001b[0m \u001b[1;33m**\u001b[0m\u001b[0mextra_kw\u001b[0m\u001b[1;33m)\u001b[0m\u001b[1;33m\u001b[0m\u001b[1;33m\u001b[0m\u001b[0m\n\u001b[0m",
      "\u001b[1;32m~\\anaconda3\\lib\\site-packages\\urllib3\\poolmanager.py\u001b[0m in \u001b[0;36murlopen\u001b[1;34m(self, method, url, redirect, **kw)\u001b[0m\n\u001b[0;32m    334\u001b[0m             \u001b[0mresponse\u001b[0m \u001b[1;33m=\u001b[0m \u001b[0mconn\u001b[0m\u001b[1;33m.\u001b[0m\u001b[0murlopen\u001b[0m\u001b[1;33m(\u001b[0m\u001b[0mmethod\u001b[0m\u001b[1;33m,\u001b[0m \u001b[0murl\u001b[0m\u001b[1;33m,\u001b[0m \u001b[1;33m**\u001b[0m\u001b[0mkw\u001b[0m\u001b[1;33m)\u001b[0m\u001b[1;33m\u001b[0m\u001b[1;33m\u001b[0m\u001b[0m\n\u001b[0;32m    335\u001b[0m         \u001b[1;32melse\u001b[0m\u001b[1;33m:\u001b[0m\u001b[1;33m\u001b[0m\u001b[1;33m\u001b[0m\u001b[0m\n\u001b[1;32m--> 336\u001b[1;33m             \u001b[0mresponse\u001b[0m \u001b[1;33m=\u001b[0m \u001b[0mconn\u001b[0m\u001b[1;33m.\u001b[0m\u001b[0murlopen\u001b[0m\u001b[1;33m(\u001b[0m\u001b[0mmethod\u001b[0m\u001b[1;33m,\u001b[0m \u001b[0mu\u001b[0m\u001b[1;33m.\u001b[0m\u001b[0mrequest_uri\u001b[0m\u001b[1;33m,\u001b[0m \u001b[1;33m**\u001b[0m\u001b[0mkw\u001b[0m\u001b[1;33m)\u001b[0m\u001b[1;33m\u001b[0m\u001b[1;33m\u001b[0m\u001b[0m\n\u001b[0m\u001b[0;32m    337\u001b[0m \u001b[1;33m\u001b[0m\u001b[0m\n\u001b[0;32m    338\u001b[0m         \u001b[0mredirect_location\u001b[0m \u001b[1;33m=\u001b[0m \u001b[0mredirect\u001b[0m \u001b[1;32mand\u001b[0m \u001b[0mresponse\u001b[0m\u001b[1;33m.\u001b[0m\u001b[0mget_redirect_location\u001b[0m\u001b[1;33m(\u001b[0m\u001b[1;33m)\u001b[0m\u001b[1;33m\u001b[0m\u001b[1;33m\u001b[0m\u001b[0m\n",
      "\u001b[1;32m~\\anaconda3\\lib\\site-packages\\urllib3\\connectionpool.py\u001b[0m in \u001b[0;36murlopen\u001b[1;34m(self, method, url, body, headers, retries, redirect, assert_same_host, timeout, pool_timeout, release_conn, chunked, body_pos, **response_kw)\u001b[0m\n\u001b[0;32m    668\u001b[0m \u001b[1;33m\u001b[0m\u001b[0m\n\u001b[0;32m    669\u001b[0m             \u001b[1;31m# Make the request on the httplib connection object.\u001b[0m\u001b[1;33m\u001b[0m\u001b[1;33m\u001b[0m\u001b[1;33m\u001b[0m\u001b[0m\n\u001b[1;32m--> 670\u001b[1;33m             httplib_response = self._make_request(\n\u001b[0m\u001b[0;32m    671\u001b[0m                 \u001b[0mconn\u001b[0m\u001b[1;33m,\u001b[0m\u001b[1;33m\u001b[0m\u001b[1;33m\u001b[0m\u001b[0m\n\u001b[0;32m    672\u001b[0m                 \u001b[0mmethod\u001b[0m\u001b[1;33m,\u001b[0m\u001b[1;33m\u001b[0m\u001b[1;33m\u001b[0m\u001b[0m\n",
      "\u001b[1;32m~\\anaconda3\\lib\\site-packages\\urllib3\\connectionpool.py\u001b[0m in \u001b[0;36m_make_request\u001b[1;34m(self, conn, method, url, timeout, chunked, **httplib_request_kw)\u001b[0m\n\u001b[0;32m    424\u001b[0m                     \u001b[1;31m# Python 3 (including for exceptions like SystemExit).\u001b[0m\u001b[1;33m\u001b[0m\u001b[1;33m\u001b[0m\u001b[1;33m\u001b[0m\u001b[0m\n\u001b[0;32m    425\u001b[0m                     \u001b[1;31m# Otherwise it looks like a bug in the code.\u001b[0m\u001b[1;33m\u001b[0m\u001b[1;33m\u001b[0m\u001b[1;33m\u001b[0m\u001b[0m\n\u001b[1;32m--> 426\u001b[1;33m                     \u001b[0msix\u001b[0m\u001b[1;33m.\u001b[0m\u001b[0mraise_from\u001b[0m\u001b[1;33m(\u001b[0m\u001b[0me\u001b[0m\u001b[1;33m,\u001b[0m \u001b[1;32mNone\u001b[0m\u001b[1;33m)\u001b[0m\u001b[1;33m\u001b[0m\u001b[1;33m\u001b[0m\u001b[0m\n\u001b[0m\u001b[0;32m    427\u001b[0m         \u001b[1;32mexcept\u001b[0m \u001b[1;33m(\u001b[0m\u001b[0mSocketTimeout\u001b[0m\u001b[1;33m,\u001b[0m \u001b[0mBaseSSLError\u001b[0m\u001b[1;33m,\u001b[0m \u001b[0mSocketError\u001b[0m\u001b[1;33m)\u001b[0m \u001b[1;32mas\u001b[0m \u001b[0me\u001b[0m\u001b[1;33m:\u001b[0m\u001b[1;33m\u001b[0m\u001b[1;33m\u001b[0m\u001b[0m\n\u001b[0;32m    428\u001b[0m             \u001b[0mself\u001b[0m\u001b[1;33m.\u001b[0m\u001b[0m_raise_timeout\u001b[0m\u001b[1;33m(\u001b[0m\u001b[0merr\u001b[0m\u001b[1;33m=\u001b[0m\u001b[0me\u001b[0m\u001b[1;33m,\u001b[0m \u001b[0murl\u001b[0m\u001b[1;33m=\u001b[0m\u001b[0murl\u001b[0m\u001b[1;33m,\u001b[0m \u001b[0mtimeout_value\u001b[0m\u001b[1;33m=\u001b[0m\u001b[0mread_timeout\u001b[0m\u001b[1;33m)\u001b[0m\u001b[1;33m\u001b[0m\u001b[1;33m\u001b[0m\u001b[0m\n",
      "\u001b[1;32m~\\anaconda3\\lib\\site-packages\\urllib3\\packages\\six.py\u001b[0m in \u001b[0;36mraise_from\u001b[1;34m(value, from_value)\u001b[0m\n",
      "\u001b[1;32m~\\anaconda3\\lib\\site-packages\\urllib3\\connectionpool.py\u001b[0m in \u001b[0;36m_make_request\u001b[1;34m(self, conn, method, url, timeout, chunked, **httplib_request_kw)\u001b[0m\n\u001b[0;32m    419\u001b[0m                 \u001b[1;31m# Python 3\u001b[0m\u001b[1;33m\u001b[0m\u001b[1;33m\u001b[0m\u001b[1;33m\u001b[0m\u001b[0m\n\u001b[0;32m    420\u001b[0m                 \u001b[1;32mtry\u001b[0m\u001b[1;33m:\u001b[0m\u001b[1;33m\u001b[0m\u001b[1;33m\u001b[0m\u001b[0m\n\u001b[1;32m--> 421\u001b[1;33m                     \u001b[0mhttplib_response\u001b[0m \u001b[1;33m=\u001b[0m \u001b[0mconn\u001b[0m\u001b[1;33m.\u001b[0m\u001b[0mgetresponse\u001b[0m\u001b[1;33m(\u001b[0m\u001b[1;33m)\u001b[0m\u001b[1;33m\u001b[0m\u001b[1;33m\u001b[0m\u001b[0m\n\u001b[0m\u001b[0;32m    422\u001b[0m                 \u001b[1;32mexcept\u001b[0m \u001b[0mBaseException\u001b[0m \u001b[1;32mas\u001b[0m \u001b[0me\u001b[0m\u001b[1;33m:\u001b[0m\u001b[1;33m\u001b[0m\u001b[1;33m\u001b[0m\u001b[0m\n\u001b[0;32m    423\u001b[0m                     \u001b[1;31m# Remove the TypeError from the exception chain in\u001b[0m\u001b[1;33m\u001b[0m\u001b[1;33m\u001b[0m\u001b[1;33m\u001b[0m\u001b[0m\n",
      "\u001b[1;32m~\\anaconda3\\lib\\http\\client.py\u001b[0m in \u001b[0;36mgetresponse\u001b[1;34m(self)\u001b[0m\n\u001b[0;32m   1345\u001b[0m         \u001b[1;32mtry\u001b[0m\u001b[1;33m:\u001b[0m\u001b[1;33m\u001b[0m\u001b[1;33m\u001b[0m\u001b[0m\n\u001b[0;32m   1346\u001b[0m             \u001b[1;32mtry\u001b[0m\u001b[1;33m:\u001b[0m\u001b[1;33m\u001b[0m\u001b[1;33m\u001b[0m\u001b[0m\n\u001b[1;32m-> 1347\u001b[1;33m                 \u001b[0mresponse\u001b[0m\u001b[1;33m.\u001b[0m\u001b[0mbegin\u001b[0m\u001b[1;33m(\u001b[0m\u001b[1;33m)\u001b[0m\u001b[1;33m\u001b[0m\u001b[1;33m\u001b[0m\u001b[0m\n\u001b[0m\u001b[0;32m   1348\u001b[0m             \u001b[1;32mexcept\u001b[0m \u001b[0mConnectionError\u001b[0m\u001b[1;33m:\u001b[0m\u001b[1;33m\u001b[0m\u001b[1;33m\u001b[0m\u001b[0m\n\u001b[0;32m   1349\u001b[0m                 \u001b[0mself\u001b[0m\u001b[1;33m.\u001b[0m\u001b[0mclose\u001b[0m\u001b[1;33m(\u001b[0m\u001b[1;33m)\u001b[0m\u001b[1;33m\u001b[0m\u001b[1;33m\u001b[0m\u001b[0m\n",
      "\u001b[1;32m~\\anaconda3\\lib\\http\\client.py\u001b[0m in \u001b[0;36mbegin\u001b[1;34m(self)\u001b[0m\n\u001b[0;32m    305\u001b[0m         \u001b[1;31m# read until we get a non-100 response\u001b[0m\u001b[1;33m\u001b[0m\u001b[1;33m\u001b[0m\u001b[1;33m\u001b[0m\u001b[0m\n\u001b[0;32m    306\u001b[0m         \u001b[1;32mwhile\u001b[0m \u001b[1;32mTrue\u001b[0m\u001b[1;33m:\u001b[0m\u001b[1;33m\u001b[0m\u001b[1;33m\u001b[0m\u001b[0m\n\u001b[1;32m--> 307\u001b[1;33m             \u001b[0mversion\u001b[0m\u001b[1;33m,\u001b[0m \u001b[0mstatus\u001b[0m\u001b[1;33m,\u001b[0m \u001b[0mreason\u001b[0m \u001b[1;33m=\u001b[0m \u001b[0mself\u001b[0m\u001b[1;33m.\u001b[0m\u001b[0m_read_status\u001b[0m\u001b[1;33m(\u001b[0m\u001b[1;33m)\u001b[0m\u001b[1;33m\u001b[0m\u001b[1;33m\u001b[0m\u001b[0m\n\u001b[0m\u001b[0;32m    308\u001b[0m             \u001b[1;32mif\u001b[0m \u001b[0mstatus\u001b[0m \u001b[1;33m!=\u001b[0m \u001b[0mCONTINUE\u001b[0m\u001b[1;33m:\u001b[0m\u001b[1;33m\u001b[0m\u001b[1;33m\u001b[0m\u001b[0m\n\u001b[0;32m    309\u001b[0m                 \u001b[1;32mbreak\u001b[0m\u001b[1;33m\u001b[0m\u001b[1;33m\u001b[0m\u001b[0m\n",
      "\u001b[1;32m~\\anaconda3\\lib\\http\\client.py\u001b[0m in \u001b[0;36m_read_status\u001b[1;34m(self)\u001b[0m\n\u001b[0;32m    266\u001b[0m \u001b[1;33m\u001b[0m\u001b[0m\n\u001b[0;32m    267\u001b[0m     \u001b[1;32mdef\u001b[0m \u001b[0m_read_status\u001b[0m\u001b[1;33m(\u001b[0m\u001b[0mself\u001b[0m\u001b[1;33m)\u001b[0m\u001b[1;33m:\u001b[0m\u001b[1;33m\u001b[0m\u001b[1;33m\u001b[0m\u001b[0m\n\u001b[1;32m--> 268\u001b[1;33m         \u001b[0mline\u001b[0m \u001b[1;33m=\u001b[0m \u001b[0mstr\u001b[0m\u001b[1;33m(\u001b[0m\u001b[0mself\u001b[0m\u001b[1;33m.\u001b[0m\u001b[0mfp\u001b[0m\u001b[1;33m.\u001b[0m\u001b[0mreadline\u001b[0m\u001b[1;33m(\u001b[0m\u001b[0m_MAXLINE\u001b[0m \u001b[1;33m+\u001b[0m \u001b[1;36m1\u001b[0m\u001b[1;33m)\u001b[0m\u001b[1;33m,\u001b[0m \u001b[1;34m\"iso-8859-1\"\u001b[0m\u001b[1;33m)\u001b[0m\u001b[1;33m\u001b[0m\u001b[1;33m\u001b[0m\u001b[0m\n\u001b[0m\u001b[0;32m    269\u001b[0m         \u001b[1;32mif\u001b[0m \u001b[0mlen\u001b[0m\u001b[1;33m(\u001b[0m\u001b[0mline\u001b[0m\u001b[1;33m)\u001b[0m \u001b[1;33m>\u001b[0m \u001b[0m_MAXLINE\u001b[0m\u001b[1;33m:\u001b[0m\u001b[1;33m\u001b[0m\u001b[1;33m\u001b[0m\u001b[0m\n\u001b[0;32m    270\u001b[0m             \u001b[1;32mraise\u001b[0m \u001b[0mLineTooLong\u001b[0m\u001b[1;33m(\u001b[0m\u001b[1;34m\"status line\"\u001b[0m\u001b[1;33m)\u001b[0m\u001b[1;33m\u001b[0m\u001b[1;33m\u001b[0m\u001b[0m\n",
      "\u001b[1;32m~\\anaconda3\\lib\\socket.py\u001b[0m in \u001b[0;36mreadinto\u001b[1;34m(self, b)\u001b[0m\n\u001b[0;32m    667\u001b[0m         \u001b[1;32mwhile\u001b[0m \u001b[1;32mTrue\u001b[0m\u001b[1;33m:\u001b[0m\u001b[1;33m\u001b[0m\u001b[1;33m\u001b[0m\u001b[0m\n\u001b[0;32m    668\u001b[0m             \u001b[1;32mtry\u001b[0m\u001b[1;33m:\u001b[0m\u001b[1;33m\u001b[0m\u001b[1;33m\u001b[0m\u001b[0m\n\u001b[1;32m--> 669\u001b[1;33m                 \u001b[1;32mreturn\u001b[0m \u001b[0mself\u001b[0m\u001b[1;33m.\u001b[0m\u001b[0m_sock\u001b[0m\u001b[1;33m.\u001b[0m\u001b[0mrecv_into\u001b[0m\u001b[1;33m(\u001b[0m\u001b[0mb\u001b[0m\u001b[1;33m)\u001b[0m\u001b[1;33m\u001b[0m\u001b[1;33m\u001b[0m\u001b[0m\n\u001b[0m\u001b[0;32m    670\u001b[0m             \u001b[1;32mexcept\u001b[0m \u001b[0mtimeout\u001b[0m\u001b[1;33m:\u001b[0m\u001b[1;33m\u001b[0m\u001b[1;33m\u001b[0m\u001b[0m\n\u001b[0;32m    671\u001b[0m                 \u001b[0mself\u001b[0m\u001b[1;33m.\u001b[0m\u001b[0m_timeout_occurred\u001b[0m \u001b[1;33m=\u001b[0m \u001b[1;32mTrue\u001b[0m\u001b[1;33m\u001b[0m\u001b[1;33m\u001b[0m\u001b[0m\n",
      "\u001b[1;31mKeyboardInterrupt\u001b[0m: "
     ]
    }
   ],
   "source": [
    "star_buzz = []\n",
    "\n",
    "# 스크롤을 밑으로 내려주는 함수\n",
    "def scroll_down(driver):\n",
    "    driver.execute_script(\"window.scrollTo(0, 19431049)\")\n",
    "    time.sleep(1)\n",
    "\n",
    "\n",
    "for ind in df.index[88:]:\n",
    "    actor = df['actors'][ind].split(',')\n",
    "    actor = actor[:5]\n",
    "    \n",
    "    act_cnt = []\n",
    "    \n",
    "    end_date = df['개봉일'][ind] - relativedelta(days=1) \n",
    "    end_y = str(end_date.year)\n",
    "    end_m = str(end_date.month)\n",
    "    end_d = str(end_date.day)\n",
    "    \n",
    "    start_date = df['개봉일'][ind] - relativedelta(months=1) \n",
    "    start_y = str(start_date.year)\n",
    "    start_m = str(start_date.month)\n",
    "    start_d = str(start_date.day)\n",
    "    \n",
    "    for a in actor:\n",
    "        query_txt = df['title'][ind]+ ' ' + a\n",
    "        \n",
    "        chrome_path = chromedriver_autoinstaller.install()\n",
    "        driver = webdriver.Chrome(chrome_path)\n",
    "        # 사이트 주소는 네이버\n",
    "        driver.get('http://www.naver.com')\n",
    "        time.sleep(2) \n",
    "        \n",
    "        # Step 2. 네이버 검색창에 \"검색어\" 검색\n",
    "        element = driver.find_element_by_id(\"query\")\n",
    "        element.send_keys(query_txt)  # query_txt는 위에서 입력한 키워드\n",
    "        element.submit()\n",
    "        time.sleep(1)\n",
    "\n",
    "        # 'VIEW' 클릭\n",
    "        driver.find_element_by_link_text(\"VIEW\").click( )\n",
    "        time.sleep(1)\n",
    "\n",
    "        # '블로그' 클릭\n",
    "        driver.find_element_by_link_text(\"블로그\").click( )\n",
    "        time.sleep(1)\n",
    "\n",
    "        # '옵션' 클릭\n",
    "        driver.find_element_by_link_text(\"옵션\").click( )\n",
    "        time.sleep(3)\n",
    "        driver.find_elements_by_css_selector('.option .txt')[13].click() # 몇개월할지 설정\n",
    "        time.sleep(3)\n",
    "        \n",
    "        \n",
    "        driver.find_element_by_class_name('spnew_bf.ico_calendar._start_trigger').click()\n",
    "        driver.find_element_by_link_text(start_y).click()\n",
    "        driver.find_element_by_class_name('select_area._scroll_wrapper').click()\n",
    "        driver.find_element_by_link_text(start_m).click()\n",
    "        driver.find_element_by_class_name('select_area._scroll_wrapper').click()\n",
    "        driver.find_element_by_link_text(start_d).click()\n",
    "        driver.find_element_by_class_name('spnew_bf.ico_calendar._end_trigger').click()\n",
    "        driver.find_element_by_link_text(end_y).click()\n",
    "        driver.find_element_by_link_text(end_m).click()\n",
    "        driver.find_element_by_link_text(end_d).click()\n",
    "        driver.find_element_by_xpath('//*[@id=\"snb\"]/div[2]/ul/li[3]/div/div[2]/div[3]/button').click()\n",
    "\n",
    "        # last_height = driver.execute_script(\"return document.body.scrollHeight\")\n",
    "        #driver.execute_script(\"window.scrollTo(0, document.body.scrollHeight);\")\n",
    "        #driver.execute_script(\"window.scrollTo(0, 45465413211321);\")\n",
    "        #time.sleep(1)\n",
    "        \n",
    "      \n",
    "        \n",
    "        articles = \".api_txt_lines.total_tit\"\n",
    "        article_raw = driver.find_elements_by_css_selector(articles)\n",
    "        \n",
    "        if not article_raw:\n",
    "            act_cnt.append(0)\n",
    "        else:\n",
    "            n = 5  # 스크롤 1번 당 30개씩\n",
    "            i = 0\n",
    "            while i < n: # 이 조건이 만족되는 동안 반복 실행\n",
    "                scroll_down(driver) # 스크롤 다운\n",
    "                i = i+1\n",
    "            \n",
    "            articles = \".api_txt_lines.total_tit\"\n",
    "            article_raw2 = driver.find_elements_by_css_selector(articles)\n",
    "            \n",
    "            act_cnt.append(len(article_raw2))\n",
    "    \n",
    "    star_buzz.append(sum(act_cnt))"
   ]
  },
  {
   "cell_type": "code",
   "execution_count": 55,
   "metadata": {},
   "outputs": [
    {
     "data": {
      "text/plain": [
       "[1830]"
      ]
     },
     "execution_count": 55,
     "metadata": {},
     "output_type": "execute_result"
    }
   ],
   "source": [
    "star_buzz"
   ]
  },
  {
   "cell_type": "code",
   "execution_count": 14,
   "metadata": {},
   "outputs": [],
   "source": [
    "before_mazerunner = star_buzz"
   ]
  },
  {
   "cell_type": "code",
   "execution_count": 15,
   "metadata": {
    "scrolled": true
   },
   "outputs": [
    {
     "data": {
      "text/plain": [
       "[4,\n",
       " 2,\n",
       " 436,\n",
       " 305,\n",
       " 37,\n",
       " 88,\n",
       " 118,\n",
       " 4,\n",
       " 0,\n",
       " 207,\n",
       " 407,\n",
       " 2,\n",
       " 219,\n",
       " 900,\n",
       " 309,\n",
       " 3,\n",
       " 373,\n",
       " 0,\n",
       " 238,\n",
       " 522,\n",
       " 28,\n",
       " 840,\n",
       " 0,\n",
       " 3,\n",
       " 33,\n",
       " 9,\n",
       " 0,\n",
       " 90,\n",
       " 217,\n",
       " 116,\n",
       " 0,\n",
       " 815,\n",
       " 3,\n",
       " 0,\n",
       " 179,\n",
       " 360,\n",
       " 381,\n",
       " 0,\n",
       " 433,\n",
       " 0,\n",
       " 23,\n",
       " 7,\n",
       " 10,\n",
       " 900,\n",
       " 3,\n",
       " 86,\n",
       " 5,\n",
       " 477,\n",
       " 17,\n",
       " 103,\n",
       " 51,\n",
       " 110,\n",
       " 40,\n",
       " 66,\n",
       " 18,\n",
       " 662,\n",
       " 124,\n",
       " 10,\n",
       " 4,\n",
       " 0,\n",
       " 132,\n",
       " 420,\n",
       " 8,\n",
       " 70,\n",
       " 15,\n",
       " 236,\n",
       " 14,\n",
       " 318,\n",
       " 57,\n",
       " 26,\n",
       " 5,\n",
       " 0,\n",
       " 76,\n",
       " 160,\n",
       " 91,\n",
       " 510,\n",
       " 120,\n",
       " 0,\n",
       " 12,\n",
       " 25,\n",
       " 0,\n",
       " 11,\n",
       " 0,\n",
       " 69,\n",
       " 10,\n",
       " 14,\n",
       " 195,\n",
       " 95,\n",
       " 8,\n",
       " 37,\n",
       " 3,\n",
       " 900,\n",
       " 36,\n",
       " 19,\n",
       " 0,\n",
       " 48,\n",
       " 154,\n",
       " 0,\n",
       " 54,\n",
       " 0,\n",
       " 0,\n",
       " 10,\n",
       " 0,\n",
       " 41,\n",
       " 739]"
      ]
     },
     "execution_count": 15,
     "metadata": {},
     "output_type": "execute_result"
    }
   ],
   "source": [
    "before_mazerunner"
   ]
  },
  {
   "cell_type": "code",
   "execution_count": 16,
   "metadata": {},
   "outputs": [],
   "source": [
    "import csv\n",
    "with open('star_buzz_mazerunner.csv', 'w', newline='') as f: \n",
    "    writer = csv.writer(f) \n",
    "    writer.writerow(before_mazerunner)"
   ]
  },
  {
   "cell_type": "code",
   "execution_count": null,
   "metadata": {},
   "outputs": [],
   "source": []
  },
  {
   "cell_type": "code",
   "execution_count": 61,
   "metadata": {},
   "outputs": [
    {
     "ename": "KeyboardInterrupt",
     "evalue": "",
     "output_type": "error",
     "traceback": [
      "\u001b[1;31m---------------------------------------------------------------------------\u001b[0m",
      "\u001b[1;31mKeyboardInterrupt\u001b[0m                         Traceback (most recent call last)",
      "\u001b[1;32m<ipython-input-61-b61d4e890554>\u001b[0m in \u001b[0;36m<module>\u001b[1;34m\u001b[0m\n\u001b[0;32m     78\u001b[0m         \u001b[0mi\u001b[0m \u001b[1;33m=\u001b[0m \u001b[1;36m0\u001b[0m\u001b[1;33m\u001b[0m\u001b[1;33m\u001b[0m\u001b[0m\n\u001b[0;32m     79\u001b[0m         \u001b[1;32mwhile\u001b[0m \u001b[0mi\u001b[0m \u001b[1;33m<\u001b[0m \u001b[0mn\u001b[0m\u001b[1;33m:\u001b[0m \u001b[1;31m# 이 조건이 만족되는 동안 반복 실행\u001b[0m\u001b[1;33m\u001b[0m\u001b[1;33m\u001b[0m\u001b[0m\n\u001b[1;32m---> 80\u001b[1;33m             \u001b[0mscroll_down\u001b[0m\u001b[1;33m(\u001b[0m\u001b[0mdriver\u001b[0m\u001b[1;33m)\u001b[0m \u001b[1;31m# 스크롤 다운\u001b[0m\u001b[1;33m\u001b[0m\u001b[1;33m\u001b[0m\u001b[0m\n\u001b[0m\u001b[0;32m     81\u001b[0m             \u001b[0mi\u001b[0m \u001b[1;33m=\u001b[0m \u001b[0mi\u001b[0m\u001b[1;33m+\u001b[0m\u001b[1;36m1\u001b[0m\u001b[1;33m\u001b[0m\u001b[1;33m\u001b[0m\u001b[0m\n\u001b[0;32m     82\u001b[0m \u001b[1;33m\u001b[0m\u001b[0m\n",
      "\u001b[1;32m<ipython-input-54-a49d00904878>\u001b[0m in \u001b[0;36mscroll_down\u001b[1;34m(driver)\u001b[0m\n\u001b[0;32m      3\u001b[0m \u001b[1;31m# 스크롤을 밑으로 내려주는 함수\u001b[0m\u001b[1;33m\u001b[0m\u001b[1;33m\u001b[0m\u001b[1;33m\u001b[0m\u001b[0m\n\u001b[0;32m      4\u001b[0m \u001b[1;32mdef\u001b[0m \u001b[0mscroll_down\u001b[0m\u001b[1;33m(\u001b[0m\u001b[0mdriver\u001b[0m\u001b[1;33m)\u001b[0m\u001b[1;33m:\u001b[0m\u001b[1;33m\u001b[0m\u001b[1;33m\u001b[0m\u001b[0m\n\u001b[1;32m----> 5\u001b[1;33m     \u001b[0mdriver\u001b[0m\u001b[1;33m.\u001b[0m\u001b[0mexecute_script\u001b[0m\u001b[1;33m(\u001b[0m\u001b[1;34m\"window.scrollTo(0, 19431049)\"\u001b[0m\u001b[1;33m)\u001b[0m\u001b[1;33m\u001b[0m\u001b[1;33m\u001b[0m\u001b[0m\n\u001b[0m\u001b[0;32m      6\u001b[0m     \u001b[0mtime\u001b[0m\u001b[1;33m.\u001b[0m\u001b[0msleep\u001b[0m\u001b[1;33m(\u001b[0m\u001b[1;36m1\u001b[0m\u001b[1;33m)\u001b[0m\u001b[1;33m\u001b[0m\u001b[1;33m\u001b[0m\u001b[0m\n\u001b[0;32m      7\u001b[0m \u001b[1;33m\u001b[0m\u001b[0m\n",
      "\u001b[1;32m~\\anaconda3\\lib\\site-packages\\selenium\\webdriver\\remote\\webdriver.py\u001b[0m in \u001b[0;36mexecute_script\u001b[1;34m(self, script, *args)\u001b[0m\n\u001b[0;32m    876\u001b[0m         \u001b[0mcommand\u001b[0m \u001b[1;33m=\u001b[0m \u001b[0mCommand\u001b[0m\u001b[1;33m.\u001b[0m\u001b[0mW3C_EXECUTE_SCRIPT\u001b[0m\u001b[1;33m\u001b[0m\u001b[1;33m\u001b[0m\u001b[0m\n\u001b[0;32m    877\u001b[0m \u001b[1;33m\u001b[0m\u001b[0m\n\u001b[1;32m--> 878\u001b[1;33m         return self.execute(command, {\n\u001b[0m\u001b[0;32m    879\u001b[0m             \u001b[1;34m'script'\u001b[0m\u001b[1;33m:\u001b[0m \u001b[0mscript\u001b[0m\u001b[1;33m,\u001b[0m\u001b[1;33m\u001b[0m\u001b[1;33m\u001b[0m\u001b[0m\n\u001b[0;32m    880\u001b[0m             'args': converted_args})['value']\n",
      "\u001b[1;32m~\\anaconda3\\lib\\site-packages\\selenium\\webdriver\\remote\\webdriver.py\u001b[0m in \u001b[0;36mexecute\u001b[1;34m(self, driver_command, params)\u001b[0m\n\u001b[0;32m    420\u001b[0m \u001b[1;33m\u001b[0m\u001b[0m\n\u001b[0;32m    421\u001b[0m         \u001b[0mparams\u001b[0m \u001b[1;33m=\u001b[0m \u001b[0mself\u001b[0m\u001b[1;33m.\u001b[0m\u001b[0m_wrap_value\u001b[0m\u001b[1;33m(\u001b[0m\u001b[0mparams\u001b[0m\u001b[1;33m)\u001b[0m\u001b[1;33m\u001b[0m\u001b[1;33m\u001b[0m\u001b[0m\n\u001b[1;32m--> 422\u001b[1;33m         \u001b[0mresponse\u001b[0m \u001b[1;33m=\u001b[0m \u001b[0mself\u001b[0m\u001b[1;33m.\u001b[0m\u001b[0mcommand_executor\u001b[0m\u001b[1;33m.\u001b[0m\u001b[0mexecute\u001b[0m\u001b[1;33m(\u001b[0m\u001b[0mdriver_command\u001b[0m\u001b[1;33m,\u001b[0m \u001b[0mparams\u001b[0m\u001b[1;33m)\u001b[0m\u001b[1;33m\u001b[0m\u001b[1;33m\u001b[0m\u001b[0m\n\u001b[0m\u001b[0;32m    423\u001b[0m         \u001b[1;32mif\u001b[0m \u001b[0mresponse\u001b[0m\u001b[1;33m:\u001b[0m\u001b[1;33m\u001b[0m\u001b[1;33m\u001b[0m\u001b[0m\n\u001b[0;32m    424\u001b[0m             \u001b[0mself\u001b[0m\u001b[1;33m.\u001b[0m\u001b[0merror_handler\u001b[0m\u001b[1;33m.\u001b[0m\u001b[0mcheck_response\u001b[0m\u001b[1;33m(\u001b[0m\u001b[0mresponse\u001b[0m\u001b[1;33m)\u001b[0m\u001b[1;33m\u001b[0m\u001b[1;33m\u001b[0m\u001b[0m\n",
      "\u001b[1;32m~\\anaconda3\\lib\\site-packages\\selenium\\webdriver\\remote\\remote_connection.py\u001b[0m in \u001b[0;36mexecute\u001b[1;34m(self, command, params)\u001b[0m\n\u001b[0;32m    419\u001b[0m         \u001b[0mdata\u001b[0m \u001b[1;33m=\u001b[0m \u001b[0mutils\u001b[0m\u001b[1;33m.\u001b[0m\u001b[0mdump_json\u001b[0m\u001b[1;33m(\u001b[0m\u001b[0mparams\u001b[0m\u001b[1;33m)\u001b[0m\u001b[1;33m\u001b[0m\u001b[1;33m\u001b[0m\u001b[0m\n\u001b[0;32m    420\u001b[0m         \u001b[0murl\u001b[0m \u001b[1;33m=\u001b[0m \u001b[1;34mf\"{self._url}{path}\"\u001b[0m\u001b[1;33m\u001b[0m\u001b[1;33m\u001b[0m\u001b[0m\n\u001b[1;32m--> 421\u001b[1;33m         \u001b[1;32mreturn\u001b[0m \u001b[0mself\u001b[0m\u001b[1;33m.\u001b[0m\u001b[0m_request\u001b[0m\u001b[1;33m(\u001b[0m\u001b[0mcommand_info\u001b[0m\u001b[1;33m[\u001b[0m\u001b[1;36m0\u001b[0m\u001b[1;33m]\u001b[0m\u001b[1;33m,\u001b[0m \u001b[0murl\u001b[0m\u001b[1;33m,\u001b[0m \u001b[0mbody\u001b[0m\u001b[1;33m=\u001b[0m\u001b[0mdata\u001b[0m\u001b[1;33m)\u001b[0m\u001b[1;33m\u001b[0m\u001b[1;33m\u001b[0m\u001b[0m\n\u001b[0m\u001b[0;32m    422\u001b[0m \u001b[1;33m\u001b[0m\u001b[0m\n\u001b[0;32m    423\u001b[0m     \u001b[1;32mdef\u001b[0m \u001b[0m_request\u001b[0m\u001b[1;33m(\u001b[0m\u001b[0mself\u001b[0m\u001b[1;33m,\u001b[0m \u001b[0mmethod\u001b[0m\u001b[1;33m,\u001b[0m \u001b[0murl\u001b[0m\u001b[1;33m,\u001b[0m \u001b[0mbody\u001b[0m\u001b[1;33m=\u001b[0m\u001b[1;32mNone\u001b[0m\u001b[1;33m)\u001b[0m\u001b[1;33m:\u001b[0m\u001b[1;33m\u001b[0m\u001b[1;33m\u001b[0m\u001b[0m\n",
      "\u001b[1;32m~\\anaconda3\\lib\\site-packages\\selenium\\webdriver\\remote\\remote_connection.py\u001b[0m in \u001b[0;36m_request\u001b[1;34m(self, method, url, body)\u001b[0m\n\u001b[0;32m    441\u001b[0m \u001b[1;33m\u001b[0m\u001b[0m\n\u001b[0;32m    442\u001b[0m         \u001b[1;32mif\u001b[0m \u001b[0mself\u001b[0m\u001b[1;33m.\u001b[0m\u001b[0mkeep_alive\u001b[0m\u001b[1;33m:\u001b[0m\u001b[1;33m\u001b[0m\u001b[1;33m\u001b[0m\u001b[0m\n\u001b[1;32m--> 443\u001b[1;33m             \u001b[0mresp\u001b[0m \u001b[1;33m=\u001b[0m \u001b[0mself\u001b[0m\u001b[1;33m.\u001b[0m\u001b[0m_conn\u001b[0m\u001b[1;33m.\u001b[0m\u001b[0mrequest\u001b[0m\u001b[1;33m(\u001b[0m\u001b[0mmethod\u001b[0m\u001b[1;33m,\u001b[0m \u001b[0murl\u001b[0m\u001b[1;33m,\u001b[0m \u001b[0mbody\u001b[0m\u001b[1;33m=\u001b[0m\u001b[0mbody\u001b[0m\u001b[1;33m,\u001b[0m \u001b[0mheaders\u001b[0m\u001b[1;33m=\u001b[0m\u001b[0mheaders\u001b[0m\u001b[1;33m)\u001b[0m\u001b[1;33m\u001b[0m\u001b[1;33m\u001b[0m\u001b[0m\n\u001b[0m\u001b[0;32m    444\u001b[0m             \u001b[0mstatuscode\u001b[0m \u001b[1;33m=\u001b[0m \u001b[0mresp\u001b[0m\u001b[1;33m.\u001b[0m\u001b[0mstatus\u001b[0m\u001b[1;33m\u001b[0m\u001b[1;33m\u001b[0m\u001b[0m\n\u001b[0;32m    445\u001b[0m         \u001b[1;32melse\u001b[0m\u001b[1;33m:\u001b[0m\u001b[1;33m\u001b[0m\u001b[1;33m\u001b[0m\u001b[0m\n",
      "\u001b[1;32m~\\anaconda3\\lib\\site-packages\\urllib3\\request.py\u001b[0m in \u001b[0;36mrequest\u001b[1;34m(self, method, url, fields, headers, **urlopen_kw)\u001b[0m\n\u001b[0;32m     77\u001b[0m             )\n\u001b[0;32m     78\u001b[0m         \u001b[1;32melse\u001b[0m\u001b[1;33m:\u001b[0m\u001b[1;33m\u001b[0m\u001b[1;33m\u001b[0m\u001b[0m\n\u001b[1;32m---> 79\u001b[1;33m             return self.request_encode_body(\n\u001b[0m\u001b[0;32m     80\u001b[0m                 \u001b[0mmethod\u001b[0m\u001b[1;33m,\u001b[0m \u001b[0murl\u001b[0m\u001b[1;33m,\u001b[0m \u001b[0mfields\u001b[0m\u001b[1;33m=\u001b[0m\u001b[0mfields\u001b[0m\u001b[1;33m,\u001b[0m \u001b[0mheaders\u001b[0m\u001b[1;33m=\u001b[0m\u001b[0mheaders\u001b[0m\u001b[1;33m,\u001b[0m \u001b[1;33m**\u001b[0m\u001b[0murlopen_kw\u001b[0m\u001b[1;33m\u001b[0m\u001b[1;33m\u001b[0m\u001b[0m\n\u001b[0;32m     81\u001b[0m             )\n",
      "\u001b[1;32m~\\anaconda3\\lib\\site-packages\\urllib3\\request.py\u001b[0m in \u001b[0;36mrequest_encode_body\u001b[1;34m(self, method, url, fields, headers, encode_multipart, multipart_boundary, **urlopen_kw)\u001b[0m\n\u001b[0;32m    169\u001b[0m         \u001b[0mextra_kw\u001b[0m\u001b[1;33m.\u001b[0m\u001b[0mupdate\u001b[0m\u001b[1;33m(\u001b[0m\u001b[0murlopen_kw\u001b[0m\u001b[1;33m)\u001b[0m\u001b[1;33m\u001b[0m\u001b[1;33m\u001b[0m\u001b[0m\n\u001b[0;32m    170\u001b[0m \u001b[1;33m\u001b[0m\u001b[0m\n\u001b[1;32m--> 171\u001b[1;33m         \u001b[1;32mreturn\u001b[0m \u001b[0mself\u001b[0m\u001b[1;33m.\u001b[0m\u001b[0murlopen\u001b[0m\u001b[1;33m(\u001b[0m\u001b[0mmethod\u001b[0m\u001b[1;33m,\u001b[0m \u001b[0murl\u001b[0m\u001b[1;33m,\u001b[0m \u001b[1;33m**\u001b[0m\u001b[0mextra_kw\u001b[0m\u001b[1;33m)\u001b[0m\u001b[1;33m\u001b[0m\u001b[1;33m\u001b[0m\u001b[0m\n\u001b[0m",
      "\u001b[1;32m~\\anaconda3\\lib\\site-packages\\urllib3\\poolmanager.py\u001b[0m in \u001b[0;36murlopen\u001b[1;34m(self, method, url, redirect, **kw)\u001b[0m\n\u001b[0;32m    334\u001b[0m             \u001b[0mresponse\u001b[0m \u001b[1;33m=\u001b[0m \u001b[0mconn\u001b[0m\u001b[1;33m.\u001b[0m\u001b[0murlopen\u001b[0m\u001b[1;33m(\u001b[0m\u001b[0mmethod\u001b[0m\u001b[1;33m,\u001b[0m \u001b[0murl\u001b[0m\u001b[1;33m,\u001b[0m \u001b[1;33m**\u001b[0m\u001b[0mkw\u001b[0m\u001b[1;33m)\u001b[0m\u001b[1;33m\u001b[0m\u001b[1;33m\u001b[0m\u001b[0m\n\u001b[0;32m    335\u001b[0m         \u001b[1;32melse\u001b[0m\u001b[1;33m:\u001b[0m\u001b[1;33m\u001b[0m\u001b[1;33m\u001b[0m\u001b[0m\n\u001b[1;32m--> 336\u001b[1;33m             \u001b[0mresponse\u001b[0m \u001b[1;33m=\u001b[0m \u001b[0mconn\u001b[0m\u001b[1;33m.\u001b[0m\u001b[0murlopen\u001b[0m\u001b[1;33m(\u001b[0m\u001b[0mmethod\u001b[0m\u001b[1;33m,\u001b[0m \u001b[0mu\u001b[0m\u001b[1;33m.\u001b[0m\u001b[0mrequest_uri\u001b[0m\u001b[1;33m,\u001b[0m \u001b[1;33m**\u001b[0m\u001b[0mkw\u001b[0m\u001b[1;33m)\u001b[0m\u001b[1;33m\u001b[0m\u001b[1;33m\u001b[0m\u001b[0m\n\u001b[0m\u001b[0;32m    337\u001b[0m \u001b[1;33m\u001b[0m\u001b[0m\n\u001b[0;32m    338\u001b[0m         \u001b[0mredirect_location\u001b[0m \u001b[1;33m=\u001b[0m \u001b[0mredirect\u001b[0m \u001b[1;32mand\u001b[0m \u001b[0mresponse\u001b[0m\u001b[1;33m.\u001b[0m\u001b[0mget_redirect_location\u001b[0m\u001b[1;33m(\u001b[0m\u001b[1;33m)\u001b[0m\u001b[1;33m\u001b[0m\u001b[1;33m\u001b[0m\u001b[0m\n",
      "\u001b[1;32m~\\anaconda3\\lib\\site-packages\\urllib3\\connectionpool.py\u001b[0m in \u001b[0;36murlopen\u001b[1;34m(self, method, url, body, headers, retries, redirect, assert_same_host, timeout, pool_timeout, release_conn, chunked, body_pos, **response_kw)\u001b[0m\n\u001b[0;32m    668\u001b[0m \u001b[1;33m\u001b[0m\u001b[0m\n\u001b[0;32m    669\u001b[0m             \u001b[1;31m# Make the request on the httplib connection object.\u001b[0m\u001b[1;33m\u001b[0m\u001b[1;33m\u001b[0m\u001b[1;33m\u001b[0m\u001b[0m\n\u001b[1;32m--> 670\u001b[1;33m             httplib_response = self._make_request(\n\u001b[0m\u001b[0;32m    671\u001b[0m                 \u001b[0mconn\u001b[0m\u001b[1;33m,\u001b[0m\u001b[1;33m\u001b[0m\u001b[1;33m\u001b[0m\u001b[0m\n\u001b[0;32m    672\u001b[0m                 \u001b[0mmethod\u001b[0m\u001b[1;33m,\u001b[0m\u001b[1;33m\u001b[0m\u001b[1;33m\u001b[0m\u001b[0m\n",
      "\u001b[1;32m~\\anaconda3\\lib\\site-packages\\urllib3\\connectionpool.py\u001b[0m in \u001b[0;36m_make_request\u001b[1;34m(self, conn, method, url, timeout, chunked, **httplib_request_kw)\u001b[0m\n\u001b[0;32m    424\u001b[0m                     \u001b[1;31m# Python 3 (including for exceptions like SystemExit).\u001b[0m\u001b[1;33m\u001b[0m\u001b[1;33m\u001b[0m\u001b[1;33m\u001b[0m\u001b[0m\n\u001b[0;32m    425\u001b[0m                     \u001b[1;31m# Otherwise it looks like a bug in the code.\u001b[0m\u001b[1;33m\u001b[0m\u001b[1;33m\u001b[0m\u001b[1;33m\u001b[0m\u001b[0m\n\u001b[1;32m--> 426\u001b[1;33m                     \u001b[0msix\u001b[0m\u001b[1;33m.\u001b[0m\u001b[0mraise_from\u001b[0m\u001b[1;33m(\u001b[0m\u001b[0me\u001b[0m\u001b[1;33m,\u001b[0m \u001b[1;32mNone\u001b[0m\u001b[1;33m)\u001b[0m\u001b[1;33m\u001b[0m\u001b[1;33m\u001b[0m\u001b[0m\n\u001b[0m\u001b[0;32m    427\u001b[0m         \u001b[1;32mexcept\u001b[0m \u001b[1;33m(\u001b[0m\u001b[0mSocketTimeout\u001b[0m\u001b[1;33m,\u001b[0m \u001b[0mBaseSSLError\u001b[0m\u001b[1;33m,\u001b[0m \u001b[0mSocketError\u001b[0m\u001b[1;33m)\u001b[0m \u001b[1;32mas\u001b[0m \u001b[0me\u001b[0m\u001b[1;33m:\u001b[0m\u001b[1;33m\u001b[0m\u001b[1;33m\u001b[0m\u001b[0m\n\u001b[0;32m    428\u001b[0m             \u001b[0mself\u001b[0m\u001b[1;33m.\u001b[0m\u001b[0m_raise_timeout\u001b[0m\u001b[1;33m(\u001b[0m\u001b[0merr\u001b[0m\u001b[1;33m=\u001b[0m\u001b[0me\u001b[0m\u001b[1;33m,\u001b[0m \u001b[0murl\u001b[0m\u001b[1;33m=\u001b[0m\u001b[0murl\u001b[0m\u001b[1;33m,\u001b[0m \u001b[0mtimeout_value\u001b[0m\u001b[1;33m=\u001b[0m\u001b[0mread_timeout\u001b[0m\u001b[1;33m)\u001b[0m\u001b[1;33m\u001b[0m\u001b[1;33m\u001b[0m\u001b[0m\n",
      "\u001b[1;32m~\\anaconda3\\lib\\site-packages\\urllib3\\packages\\six.py\u001b[0m in \u001b[0;36mraise_from\u001b[1;34m(value, from_value)\u001b[0m\n",
      "\u001b[1;32m~\\anaconda3\\lib\\site-packages\\urllib3\\connectionpool.py\u001b[0m in \u001b[0;36m_make_request\u001b[1;34m(self, conn, method, url, timeout, chunked, **httplib_request_kw)\u001b[0m\n\u001b[0;32m    419\u001b[0m                 \u001b[1;31m# Python 3\u001b[0m\u001b[1;33m\u001b[0m\u001b[1;33m\u001b[0m\u001b[1;33m\u001b[0m\u001b[0m\n\u001b[0;32m    420\u001b[0m                 \u001b[1;32mtry\u001b[0m\u001b[1;33m:\u001b[0m\u001b[1;33m\u001b[0m\u001b[1;33m\u001b[0m\u001b[0m\n\u001b[1;32m--> 421\u001b[1;33m                     \u001b[0mhttplib_response\u001b[0m \u001b[1;33m=\u001b[0m \u001b[0mconn\u001b[0m\u001b[1;33m.\u001b[0m\u001b[0mgetresponse\u001b[0m\u001b[1;33m(\u001b[0m\u001b[1;33m)\u001b[0m\u001b[1;33m\u001b[0m\u001b[1;33m\u001b[0m\u001b[0m\n\u001b[0m\u001b[0;32m    422\u001b[0m                 \u001b[1;32mexcept\u001b[0m \u001b[0mBaseException\u001b[0m \u001b[1;32mas\u001b[0m \u001b[0me\u001b[0m\u001b[1;33m:\u001b[0m\u001b[1;33m\u001b[0m\u001b[1;33m\u001b[0m\u001b[0m\n\u001b[0;32m    423\u001b[0m                     \u001b[1;31m# Remove the TypeError from the exception chain in\u001b[0m\u001b[1;33m\u001b[0m\u001b[1;33m\u001b[0m\u001b[1;33m\u001b[0m\u001b[0m\n",
      "\u001b[1;32m~\\anaconda3\\lib\\http\\client.py\u001b[0m in \u001b[0;36mgetresponse\u001b[1;34m(self)\u001b[0m\n\u001b[0;32m   1345\u001b[0m         \u001b[1;32mtry\u001b[0m\u001b[1;33m:\u001b[0m\u001b[1;33m\u001b[0m\u001b[1;33m\u001b[0m\u001b[0m\n\u001b[0;32m   1346\u001b[0m             \u001b[1;32mtry\u001b[0m\u001b[1;33m:\u001b[0m\u001b[1;33m\u001b[0m\u001b[1;33m\u001b[0m\u001b[0m\n\u001b[1;32m-> 1347\u001b[1;33m                 \u001b[0mresponse\u001b[0m\u001b[1;33m.\u001b[0m\u001b[0mbegin\u001b[0m\u001b[1;33m(\u001b[0m\u001b[1;33m)\u001b[0m\u001b[1;33m\u001b[0m\u001b[1;33m\u001b[0m\u001b[0m\n\u001b[0m\u001b[0;32m   1348\u001b[0m             \u001b[1;32mexcept\u001b[0m \u001b[0mConnectionError\u001b[0m\u001b[1;33m:\u001b[0m\u001b[1;33m\u001b[0m\u001b[1;33m\u001b[0m\u001b[0m\n\u001b[0;32m   1349\u001b[0m                 \u001b[0mself\u001b[0m\u001b[1;33m.\u001b[0m\u001b[0mclose\u001b[0m\u001b[1;33m(\u001b[0m\u001b[1;33m)\u001b[0m\u001b[1;33m\u001b[0m\u001b[1;33m\u001b[0m\u001b[0m\n",
      "\u001b[1;32m~\\anaconda3\\lib\\http\\client.py\u001b[0m in \u001b[0;36mbegin\u001b[1;34m(self)\u001b[0m\n\u001b[0;32m    305\u001b[0m         \u001b[1;31m# read until we get a non-100 response\u001b[0m\u001b[1;33m\u001b[0m\u001b[1;33m\u001b[0m\u001b[1;33m\u001b[0m\u001b[0m\n\u001b[0;32m    306\u001b[0m         \u001b[1;32mwhile\u001b[0m \u001b[1;32mTrue\u001b[0m\u001b[1;33m:\u001b[0m\u001b[1;33m\u001b[0m\u001b[1;33m\u001b[0m\u001b[0m\n\u001b[1;32m--> 307\u001b[1;33m             \u001b[0mversion\u001b[0m\u001b[1;33m,\u001b[0m \u001b[0mstatus\u001b[0m\u001b[1;33m,\u001b[0m \u001b[0mreason\u001b[0m \u001b[1;33m=\u001b[0m \u001b[0mself\u001b[0m\u001b[1;33m.\u001b[0m\u001b[0m_read_status\u001b[0m\u001b[1;33m(\u001b[0m\u001b[1;33m)\u001b[0m\u001b[1;33m\u001b[0m\u001b[1;33m\u001b[0m\u001b[0m\n\u001b[0m\u001b[0;32m    308\u001b[0m             \u001b[1;32mif\u001b[0m \u001b[0mstatus\u001b[0m \u001b[1;33m!=\u001b[0m \u001b[0mCONTINUE\u001b[0m\u001b[1;33m:\u001b[0m\u001b[1;33m\u001b[0m\u001b[1;33m\u001b[0m\u001b[0m\n\u001b[0;32m    309\u001b[0m                 \u001b[1;32mbreak\u001b[0m\u001b[1;33m\u001b[0m\u001b[1;33m\u001b[0m\u001b[0m\n",
      "\u001b[1;32m~\\anaconda3\\lib\\http\\client.py\u001b[0m in \u001b[0;36m_read_status\u001b[1;34m(self)\u001b[0m\n\u001b[0;32m    266\u001b[0m \u001b[1;33m\u001b[0m\u001b[0m\n\u001b[0;32m    267\u001b[0m     \u001b[1;32mdef\u001b[0m \u001b[0m_read_status\u001b[0m\u001b[1;33m(\u001b[0m\u001b[0mself\u001b[0m\u001b[1;33m)\u001b[0m\u001b[1;33m:\u001b[0m\u001b[1;33m\u001b[0m\u001b[1;33m\u001b[0m\u001b[0m\n\u001b[1;32m--> 268\u001b[1;33m         \u001b[0mline\u001b[0m \u001b[1;33m=\u001b[0m \u001b[0mstr\u001b[0m\u001b[1;33m(\u001b[0m\u001b[0mself\u001b[0m\u001b[1;33m.\u001b[0m\u001b[0mfp\u001b[0m\u001b[1;33m.\u001b[0m\u001b[0mreadline\u001b[0m\u001b[1;33m(\u001b[0m\u001b[0m_MAXLINE\u001b[0m \u001b[1;33m+\u001b[0m \u001b[1;36m1\u001b[0m\u001b[1;33m)\u001b[0m\u001b[1;33m,\u001b[0m \u001b[1;34m\"iso-8859-1\"\u001b[0m\u001b[1;33m)\u001b[0m\u001b[1;33m\u001b[0m\u001b[1;33m\u001b[0m\u001b[0m\n\u001b[0m\u001b[0;32m    269\u001b[0m         \u001b[1;32mif\u001b[0m \u001b[0mlen\u001b[0m\u001b[1;33m(\u001b[0m\u001b[0mline\u001b[0m\u001b[1;33m)\u001b[0m \u001b[1;33m>\u001b[0m \u001b[0m_MAXLINE\u001b[0m\u001b[1;33m:\u001b[0m\u001b[1;33m\u001b[0m\u001b[1;33m\u001b[0m\u001b[0m\n\u001b[0;32m    270\u001b[0m             \u001b[1;32mraise\u001b[0m \u001b[0mLineTooLong\u001b[0m\u001b[1;33m(\u001b[0m\u001b[1;34m\"status line\"\u001b[0m\u001b[1;33m)\u001b[0m\u001b[1;33m\u001b[0m\u001b[1;33m\u001b[0m\u001b[0m\n",
      "\u001b[1;32m~\\anaconda3\\lib\\socket.py\u001b[0m in \u001b[0;36mreadinto\u001b[1;34m(self, b)\u001b[0m\n\u001b[0;32m    667\u001b[0m         \u001b[1;32mwhile\u001b[0m \u001b[1;32mTrue\u001b[0m\u001b[1;33m:\u001b[0m\u001b[1;33m\u001b[0m\u001b[1;33m\u001b[0m\u001b[0m\n\u001b[0;32m    668\u001b[0m             \u001b[1;32mtry\u001b[0m\u001b[1;33m:\u001b[0m\u001b[1;33m\u001b[0m\u001b[1;33m\u001b[0m\u001b[0m\n\u001b[1;32m--> 669\u001b[1;33m                 \u001b[1;32mreturn\u001b[0m \u001b[0mself\u001b[0m\u001b[1;33m.\u001b[0m\u001b[0m_sock\u001b[0m\u001b[1;33m.\u001b[0m\u001b[0mrecv_into\u001b[0m\u001b[1;33m(\u001b[0m\u001b[0mb\u001b[0m\u001b[1;33m)\u001b[0m\u001b[1;33m\u001b[0m\u001b[1;33m\u001b[0m\u001b[0m\n\u001b[0m\u001b[0;32m    670\u001b[0m             \u001b[1;32mexcept\u001b[0m \u001b[0mtimeout\u001b[0m\u001b[1;33m:\u001b[0m\u001b[1;33m\u001b[0m\u001b[1;33m\u001b[0m\u001b[0m\n\u001b[0;32m    671\u001b[0m                 \u001b[0mself\u001b[0m\u001b[1;33m.\u001b[0m\u001b[0m_timeout_occurred\u001b[0m \u001b[1;33m=\u001b[0m \u001b[1;32mTrue\u001b[0m\u001b[1;33m\u001b[0m\u001b[1;33m\u001b[0m\u001b[0m\n",
      "\u001b[1;31mKeyboardInterrupt\u001b[0m: "
     ]
    }
   ],
   "source": [
    "actor = df['actors'][36].split(',')\n",
    "actor = actor[:5]\n",
    "\n",
    "act_cnt = []\n",
    "\n",
    "end_date = df['개봉일'][36] - relativedelta(days=1) \n",
    "end_y = str(end_date.year)\n",
    "end_m = str(end_date.month)\n",
    "end_d = str(end_date.day)\n",
    "\n",
    "start_date = df['개봉일'][36] - relativedelta(months=1) \n",
    "start_y = str(start_date.year)\n",
    "start_m = str(start_date.month)\n",
    "start_d = str(start_date.day)\n",
    "\n",
    "for a in actor:\n",
    "    query_txt = df['title'][36]+ ' ' + a\n",
    "\n",
    "    chrome_path = chromedriver_autoinstaller.install()\n",
    "    driver = webdriver.Chrome(chrome_path)\n",
    "    # 사이트 주소는 네이버\n",
    "    driver.get('http://www.naver.com')\n",
    "    time.sleep(2) \n",
    "\n",
    "    # Step 2. 네이버 검색창에 \"검색어\" 검색\n",
    "    element = driver.find_element_by_id(\"query\")\n",
    "    element.send_keys(query_txt)  # query_txt는 위에서 입력한 키워드\n",
    "    element.submit()\n",
    "    time.sleep(1)\n",
    "\n",
    "    # 'VIEW' 클릭\n",
    "    driver.find_element_by_link_text(\"VIEW\").click( )\n",
    "    time.sleep(1)\n",
    "\n",
    "    # '블로그' 클릭\n",
    "    driver.find_element_by_link_text(\"블로그\").click( )\n",
    "    time.sleep(1)\n",
    "\n",
    "    # '옵션' 클릭\n",
    "    driver.find_element_by_link_text(\"옵션\").click( )\n",
    "    time.sleep(3)\n",
    "    driver.find_elements_by_css_selector('.option .txt')[13].click() # 몇개월할지 설정\n",
    "    time.sleep(3)\n",
    "\n",
    "\n",
    "    driver.find_element_by_class_name('spnew_bf.ico_calendar._start_trigger').click()\n",
    "    driver.find_element_by_link_text(start_y).click()\n",
    "    driver.find_element_by_link_text(start_m).click()\n",
    "    driver.find_element_by_link_text(start_d).click()\n",
    "    driver.find_element_by_class_name('spnew_bf.ico_calendar._end_trigger').click()\n",
    "    driver.find_element_by_link_text(end_y).click()\n",
    "    driver.find_element_by_link_text(end_m).click()\n",
    "    driver.find_element_by_link_text(end_d).click()\n",
    "    driver.find_element_by_xpath('//*[@id=\"snb\"]/div[2]/ul/li[3]/div/div[2]/div[3]/button').click()\n",
    "\n",
    "    # last_height = driver.execute_script(\"return document.body.scrollHeight\")\n",
    "    #driver.execute_script(\"window.scrollTo(0, document.body.scrollHeight);\")\n",
    "    #driver.execute_script(\"window.scrollTo(0, 45465413211321);\")\n",
    "    #time.sleep(1)\n",
    "\n",
    "\n",
    "\n",
    "    articles = \".api_txt_lines.total_tit\"\n",
    "    article_raw = driver.find_elements_by_css_selector(articles)\n",
    "\n",
    "    if not article_raw:\n",
    "        act_cnt.append(0)\n",
    "    else:\n",
    "        n = 20  # 스크롤 1번 당 30개씩\n",
    "        i = 0\n",
    "        while i < n: # 이 조건이 만족되는 동안 반복 실행\n",
    "            scroll_down(driver) # 스크롤 다운\n",
    "            i = i+1\n",
    "\n",
    "        articles = \".api_txt_lines.total_tit\"\n",
    "        article_raw2 = driver.find_elements_by_css_selector(articles)\n",
    "\n",
    "        act_cnt.append(len(article_raw2))\n",
    "\n",
    "star_buzz.append(sum(act_cnt))"
   ]
  },
  {
   "cell_type": "code",
   "execution_count": 62,
   "metadata": {},
   "outputs": [],
   "source": [
    "end_date = df['개봉일'][36] - relativedelta(days=1) "
   ]
  },
  {
   "cell_type": "code",
   "execution_count": 73,
   "metadata": {},
   "outputs": [
    {
     "data": {
      "text/plain": [
       "'20190102'"
      ]
     },
     "execution_count": 73,
     "metadata": {},
     "output_type": "execute_result"
    }
   ],
   "source": [
    "end_date.strftime('%Y%m%d') "
   ]
  },
  {
   "cell_type": "code",
   "execution_count": null,
   "metadata": {},
   "outputs": [],
   "source": [
    "star_buzz = []\n",
    "\n",
    "# 스크롤을 밑으로 내려주는 함수\n",
    "def scroll_down(driver):\n",
    "    driver.execute_script(\"window.scrollTo(0, 19431049)\")\n",
    "    time.sleep(1)\n",
    "\n",
    "\n",
    "for ind in df.index[1488:]:\n",
    "    actor = df['actors'][ind].split(',')\n",
    "    actor = actor[:5]\n",
    "    \n",
    "    act_cnt = []\n",
    "    \n",
    "    end_date = df['개봉일'][ind] - relativedelta(days=1) \n",
    "    end_date = end_date.strftime('%Y%m%d') \n",
    "\n",
    "    start_date = df['개봉일'][ind] - relativedelta(months=1) \n",
    "    start_date = start_date.strftime('%Y%m%d') \n",
    "\n",
    "    \n",
    "    for a in actor:\n",
    "        query_txt = (df['title'][ind] + a).strip()\n",
    "        \n",
    "        chrome_path = chromedriver_autoinstaller.install()\n",
    "        driver = webdriver.Chrome(chrome_path)\n",
    "        # 사이트 주소는 네이버\n",
    "        url = f'https://search.naver.com/search.naver?where=blog&query={query_txt}&sm=tab_opt&nso=so:r,p:from{start_date}to{end_date}'\n",
    "        driver.get(url)\n",
    "        time.sleep(2) \n",
    "        \n",
    "\n",
    "        # last_height = driver.execute_script(\"return document.body.scrollHeight\")\n",
    "        #driver.execute_script(\"window.scrollTo(0, document.body.scrollHeight);\")\n",
    "        #driver.execute_script(\"window.scrollTo(0, 45465413211321);\")\n",
    "        #time.sleep(1)\n",
    "        \n",
    "      \n",
    "        \n",
    "        articles = \".api_txt_lines.total_tit\"\n",
    "        article_raw = driver.find_elements_by_css_selector(articles)\n",
    "        \n",
    "        if not article_raw:\n",
    "            act_cnt.append(0)\n",
    "        else:\n",
    "            n = 20  # 스크롤 1번 당 30개씩\n",
    "            i = 0\n",
    "            while i < n: # 이 조건이 만족되는 동안 반복 실행\n",
    "                scroll_down(driver) # 스크롤 다운\n",
    "                i = i+1\n",
    "            \n",
    "            articles = \".api_txt_lines.total_tit\"\n",
    "            article_raw2 = driver.find_elements_by_css_selector(articles)\n",
    "            \n",
    "            act_cnt.append(len(article_raw2))\n",
    "    \n",
    "    star_buzz.append(sum(act_cnt))"
   ]
  },
  {
   "cell_type": "code",
   "execution_count": 76,
   "metadata": {},
   "outputs": [
    {
     "data": {
      "text/plain": [
       "[2109]"
      ]
     },
     "execution_count": 76,
     "metadata": {},
     "output_type": "execute_result"
    }
   ],
   "source": [
    "star_buzz"
   ]
  },
  {
   "cell_type": "code",
   "execution_count": null,
   "metadata": {},
   "outputs": [],
   "source": [
    "actor = df['actors'][ind].split(',')\n",
    "actor = actor[:5]\n",
    "\n",
    "act_cnt = []\n",
    "\n",
    "end_date = df['개봉일'][ind] - relativedelta(days=1) \n",
    "end_date = end_date.strftime('%Y%m%d') \n",
    "\n",
    "start_date = df['개봉일'][ind] - relativedelta(months=1) \n",
    "start_date = start_date.strftime('%Y%m%d') \n",
    "\n",
    "\n",
    "for a in actor:\n",
    "    query_txt = (df['title'][ind] + a).strip()\n",
    "\n",
    "    chrome_path = chromedriver_autoinstaller.install()\n",
    "    driver = webdriver.Chrome(chrome_path)\n",
    "    # 사이트 주소는 네이버\n",
    "    url = f'https://search.naver.com/search.naver?where=blog&query={query_txt}&sm=tab_opt&nso=so:r,p:from{start_date}to{end_date}'\n",
    "    driver.get(url)\n",
    "    time.sleep(2) \n",
    "\n",
    "\n",
    "    # last_height = driver.execute_script(\"return document.body.scrollHeight\")\n",
    "    #driver.execute_script(\"window.scrollTo(0, document.body.scrollHeight);\")\n",
    "    #driver.execute_script(\"window.scrollTo(0, 45465413211321);\")\n",
    "    #time.sleep(1)\n",
    "\n",
    "\n",
    "\n",
    "    articles = \".api_txt_lines.total_tit\"\n",
    "    article_raw = driver.find_elements_by_css_selector(articles)\n",
    "\n",
    "    if not article_raw:\n",
    "        act_cnt.append(0)\n",
    "    else:\n",
    "        n = 20  # 스크롤 1번 당 30개씩\n",
    "        i = 0\n",
    "        while i < n: # 이 조건이 만족되는 동안 반복 실행\n",
    "            scroll_down(driver) # 스크롤 다운\n",
    "            i = i+1\n",
    "\n",
    "        articles = \".api_txt_lines.total_tit\"\n",
    "        article_raw2 = driver.find_elements_by_css_selector(articles)\n",
    "\n",
    "        act_cnt.append(len(article_raw2))\n",
    "\n",
    "star_buzz.append(sum(act_cnt))"
   ]
  },
  {
   "cell_type": "code",
   "execution_count": 69,
   "metadata": {},
   "outputs": [
    {
     "data": {
      "text/plain": [
       "[900]"
      ]
     },
     "execution_count": 69,
     "metadata": {},
     "output_type": "execute_result"
    }
   ],
   "source": [
    "star_buzz"
   ]
  },
  {
   "cell_type": "markdown",
   "metadata": {
    "id": "MniuiSeb-kvp"
   },
   "source": [
    "# 1. 크롤링할 블로그 url 수집하기"
   ]
  },
  {
   "cell_type": "code",
   "execution_count": 74,
   "metadata": {},
   "outputs": [
    {
     "data": {
      "text/plain": [
       "'/Users/aiden/Dropbox/Mac/Desktop/03.crawling'"
      ]
     },
     "execution_count": 74,
     "metadata": {},
     "output_type": "execute_result"
    }
   ],
   "source": [
    "pwd"
   ]
  },
  {
   "cell_type": "code",
   "execution_count": 75,
   "metadata": {},
   "outputs": [],
   "source": [
    "# !pip install selenium"
   ]
  },
  {
   "cell_type": "code",
   "execution_count": 108,
   "metadata": {
    "code_folding": [],
    "colab": {
     "base_uri": "https://localhost:8080/",
     "height": 239
    },
    "executionInfo": {
     "elapsed": 5,
     "status": "error",
     "timestamp": 1622793307717,
     "user": {
      "displayName": "Hyeok Lee",
      "photoUrl": "",
      "userId": "09184002132621914803"
     },
     "user_tz": -540
    },
    "id": "buplEXzx-kvq",
    "outputId": "11751daa-2f59-4a1d-d6a7-ca9282d20c33"
   },
   "outputs": [],
   "source": [
    "# Step 1. 크롬 웹브라우저 실행\n",
    "# pip install chromedriver_autoinstaller\n",
    "chrome_path = chromedriver_autoinstaller.install()\n",
    "driver = webdriver.Chrome(chrome_path)\n",
    "\n",
    "# 사이트 주소는 네이버\n",
    "driver.get('http://www.naver.com')\n",
    "time.sleep(2)  # 2초간 정지"
   ]
  },
  {
   "cell_type": "code",
   "execution_count": 109,
   "metadata": {
    "code_folding": [],
    "id": "uiwhXvob-kvq"
   },
   "outputs": [],
   "source": [
    "# Step 2. 네이버 검색창에 \"검색어\" 검색\n",
    "element = driver.find_element_by_id(\"query\")\n",
    "element.send_keys('영화 괴물')  # query_txt는 위에서 입력한 키워드\n",
    "element.submit()\n",
    "time.sleep(1)"
   ]
  },
  {
   "cell_type": "code",
   "execution_count": 110,
   "metadata": {
    "code_folding": [],
    "id": "uiwhXvob-kvq"
   },
   "outputs": [],
   "source": [
    "# 'VIEW' 클릭\n",
    "driver.find_element_by_link_text(\"VIEW\").click( )\n",
    "time.sleep(1)"
   ]
  },
  {
   "cell_type": "code",
   "execution_count": 111,
   "metadata": {
    "code_folding": [],
    "id": "uiwhXvob-kvq"
   },
   "outputs": [],
   "source": [
    "# '블로그' 클릭\n",
    "driver.find_element_by_link_text(\"블로그\").click( )\n",
    "time.sleep(1)\n",
    "\n",
    "# '옵션' 클릭\n",
    "driver.find_element_by_link_text(\"옵션\").click( )\n",
    "time.sleep(1)"
   ]
  },
  {
   "cell_type": "code",
   "execution_count": 112,
   "metadata": {},
   "outputs": [],
   "source": [
    "driver.find_elements_by_css_selector('.option .txt')[13].click()"
   ]
  },
  {
   "cell_type": "code",
   "execution_count": 104,
   "metadata": {
    "code_folding": [],
    "id": "X537FPoE-kvq",
    "outputId": "2e7df665-1fd7-4fd0-dcc9-65b6a12c7a6d"
   },
   "outputs": [],
   "source": [
    "# 검색옵션 확인\n",
    "item_li = driver.find_elements_by_css_selector('.option .txt')"
   ]
  },
  {
   "cell_type": "code",
   "execution_count": null,
   "metadata": {},
   "outputs": [],
   "source": [
    "for i in range(0, len(item_li)):\n",
    "    print(item_li[i].text)"
   ]
  },
  {
   "cell_type": "code",
   "execution_count": 106,
   "metadata": {
    "id": "YNdHtrki-kvr",
    "outputId": "e7fde35f-3b2b-4cde-a4f6-006975ff383c"
   },
   "outputs": [
    {
     "name": "stdout",
     "output_type": "stream",
     "text": [
      "직접입력옵션펼치기\n"
     ]
    }
   ],
   "source": [
    "# 검색기간 '3개월' 클릭\n",
    "print(item_li[13].text)"
   ]
  },
  {
   "cell_type": "code",
   "execution_count": 107,
   "metadata": {
    "id": "YNdHtrki-kvr",
    "outputId": "e7fde35f-3b2b-4cde-a4f6-006975ff383c",
    "scrolled": true
   },
   "outputs": [],
   "source": [
    "item_li[13].click()"
   ]
  },
  {
   "cell_type": "code",
   "execution_count": 22,
   "metadata": {},
   "outputs": [],
   "source": [
    "element = driver.find_elements_by_css_selector(\".spnew_bf.ico_calendar._start_trigger\")\n"
   ]
  },
  {
   "cell_type": "code",
   "execution_count": 25,
   "metadata": {},
   "outputs": [
    {
     "data": {
      "text/plain": [
       "<selenium.webdriver.remote.webelement.WebElement (session=\"7dc10946832738f11c91af695d7300b4\", element=\"9852249b-167e-4c11-8b98-c57947febc40\")>"
      ]
     },
     "execution_count": 25,
     "metadata": {},
     "output_type": "execute_result"
    }
   ],
   "source": [
    "element[0]"
   ]
  },
  {
   "cell_type": "code",
   "execution_count": 24,
   "metadata": {
    "scrolled": true
   },
   "outputs": [
    {
     "ename": "AttributeError",
     "evalue": "'list' object has no attribute 'send_keys'",
     "output_type": "error",
     "traceback": [
      "\u001b[1;31m---------------------------------------------------------------------------\u001b[0m",
      "\u001b[1;31mAttributeError\u001b[0m                            Traceback (most recent call last)",
      "\u001b[1;32m<ipython-input-24-07f96a390545>\u001b[0m in \u001b[0;36m<module>\u001b[1;34m\u001b[0m\n\u001b[1;32m----> 1\u001b[1;33m \u001b[0melement\u001b[0m\u001b[1;33m.\u001b[0m\u001b[0msend_keys\u001b[0m\u001b[1;33m(\u001b[0m\u001b[1;34m'2019.04.29'\u001b[0m\u001b[1;33m)\u001b[0m  \u001b[1;31m# query_txt는 위에서 입력한 키워드\u001b[0m\u001b[1;33m\u001b[0m\u001b[1;33m\u001b[0m\u001b[0m\n\u001b[0m\u001b[0;32m      2\u001b[0m \u001b[0melement\u001b[0m\u001b[1;33m.\u001b[0m\u001b[0msubmit\u001b[0m\u001b[1;33m(\u001b[0m\u001b[1;33m)\u001b[0m\u001b[1;33m\u001b[0m\u001b[1;33m\u001b[0m\u001b[0m\n\u001b[0;32m      3\u001b[0m \u001b[0mtime\u001b[0m\u001b[1;33m.\u001b[0m\u001b[0msleep\u001b[0m\u001b[1;33m(\u001b[0m\u001b[1;36m1\u001b[0m\u001b[1;33m)\u001b[0m\u001b[1;33m\u001b[0m\u001b[1;33m\u001b[0m\u001b[0m\n",
      "\u001b[1;31mAttributeError\u001b[0m: 'list' object has no attribute 'send_keys'"
     ]
    }
   ],
   "source": [
    "element.send_keys('2019.04.29')  # query_txt는 위에서 입력한 키워드\n",
    "element.submit()\n",
    "time.sleep(1)"
   ]
  },
  {
   "cell_type": "code",
   "execution_count": 113,
   "metadata": {},
   "outputs": [
    {
     "ename": "ElementNotInteractableException",
     "evalue": "Message: element not interactable\n  (Session info: chrome=100.0.4896.88)\nStacktrace:\nBacktrace:\n\tOrdinal0 [0x00EF8BD3+2395091]\n\tOrdinal0 [0x00E8ACA1+1944737]\n\tOrdinal0 [0x00D7CED0+839376]\n\tOrdinal0 [0x00DAAC13+1027091]\n\tOrdinal0 [0x00DA09C3+985539]\n\tOrdinal0 [0x00DC4BBC+1133500]\n\tOrdinal0 [0x00DA03A4+983972]\n\tOrdinal0 [0x00DC4DD4+1134036]\n\tOrdinal0 [0x00DD4D62+1199458]\n\tOrdinal0 [0x00DC49D6+1133014]\n\tOrdinal0 [0x00D9EF76+978806]\n\tOrdinal0 [0x00D9FE86+982662]\n\tGetHandleVerifier [0x010AC912+1719138]\n\tGetHandleVerifier [0x0115B2CD+2434333]\n\tGetHandleVerifier [0x00F94001+569937]\n\tGetHandleVerifier [0x00F93066+565942]\n\tOrdinal0 [0x00E9265B+1975899]\n\tOrdinal0 [0x00E972A8+1995432]\n\tOrdinal0 [0x00E97395+1995669]\n\tOrdinal0 [0x00EA02F1+2032369]\n\tBaseThreadInitThunk [0x764BFA29+25]\n\tRtlGetAppContainerNamedObjectPath [0x77B77A7E+286]\n\tRtlGetAppContainerNamedObjectPath [0x77B77A4E+238]\n",
     "output_type": "error",
     "traceback": [
      "\u001b[1;31m---------------------------------------------------------------------------\u001b[0m",
      "\u001b[1;31mElementNotInteractableException\u001b[0m           Traceback (most recent call last)",
      "\u001b[1;32m<ipython-input-113-a590f1e9c656>\u001b[0m in \u001b[0;36m<module>\u001b[1;34m\u001b[0m\n\u001b[0;32m      1\u001b[0m \u001b[0mdriver\u001b[0m\u001b[1;33m.\u001b[0m\u001b[0mfind_element_by_class_name\u001b[0m\u001b[1;33m(\u001b[0m\u001b[1;34m'txt.txt_option._calendar_select_trigger'\u001b[0m\u001b[1;33m)\u001b[0m\u001b[1;33m.\u001b[0m\u001b[0mclick\u001b[0m\u001b[1;33m(\u001b[0m\u001b[1;33m)\u001b[0m\u001b[1;33m\u001b[0m\u001b[1;33m\u001b[0m\u001b[0m\n\u001b[1;32m----> 2\u001b[1;33m \u001b[0mdriver\u001b[0m\u001b[1;33m.\u001b[0m\u001b[0mfind_element_by_class_name\u001b[0m\u001b[1;33m(\u001b[0m\u001b[1;34m'spnew_bf.ico_calendar._start_trigger'\u001b[0m\u001b[1;33m)\u001b[0m\u001b[1;33m.\u001b[0m\u001b[0mclick\u001b[0m\u001b[1;33m(\u001b[0m\u001b[1;33m)\u001b[0m\u001b[1;33m\u001b[0m\u001b[1;33m\u001b[0m\u001b[0m\n\u001b[0m\u001b[0;32m      3\u001b[0m \u001b[0mdriver\u001b[0m\u001b[1;33m.\u001b[0m\u001b[0mfind_element_by_link_text\u001b[0m\u001b[1;33m(\u001b[0m\u001b[1;34m'2018'\u001b[0m\u001b[1;33m)\u001b[0m\u001b[1;33m.\u001b[0m\u001b[0mclick\u001b[0m\u001b[1;33m(\u001b[0m\u001b[1;33m)\u001b[0m\u001b[1;33m\u001b[0m\u001b[1;33m\u001b[0m\u001b[0m\n\u001b[0;32m      4\u001b[0m \u001b[0mdriver\u001b[0m\u001b[1;33m.\u001b[0m\u001b[0mfind_element_by_link_text\u001b[0m\u001b[1;33m(\u001b[0m\u001b[1;34m'5'\u001b[0m\u001b[1;33m)\u001b[0m\u001b[1;33m.\u001b[0m\u001b[0mclick\u001b[0m\u001b[1;33m(\u001b[0m\u001b[1;33m)\u001b[0m\u001b[1;33m\u001b[0m\u001b[1;33m\u001b[0m\u001b[0m\n\u001b[0;32m      5\u001b[0m \u001b[0mdriver\u001b[0m\u001b[1;33m.\u001b[0m\u001b[0mfind_element_by_link_text\u001b[0m\u001b[1;33m(\u001b[0m\u001b[1;34m'12'\u001b[0m\u001b[1;33m)\u001b[0m\u001b[1;33m.\u001b[0m\u001b[0mclick\u001b[0m\u001b[1;33m(\u001b[0m\u001b[1;33m)\u001b[0m\u001b[1;33m\u001b[0m\u001b[1;33m\u001b[0m\u001b[0m\n",
      "\u001b[1;32m~\\anaconda3\\lib\\site-packages\\selenium\\webdriver\\remote\\webelement.py\u001b[0m in \u001b[0;36mclick\u001b[1;34m(self)\u001b[0m\n\u001b[0;32m     79\u001b[0m     \u001b[1;32mdef\u001b[0m \u001b[0mclick\u001b[0m\u001b[1;33m(\u001b[0m\u001b[0mself\u001b[0m\u001b[1;33m)\u001b[0m \u001b[1;33m->\u001b[0m \u001b[1;32mNone\u001b[0m\u001b[1;33m:\u001b[0m\u001b[1;33m\u001b[0m\u001b[1;33m\u001b[0m\u001b[0m\n\u001b[0;32m     80\u001b[0m         \u001b[1;34m\"\"\"Clicks the element.\"\"\"\u001b[0m\u001b[1;33m\u001b[0m\u001b[1;33m\u001b[0m\u001b[0m\n\u001b[1;32m---> 81\u001b[1;33m         \u001b[0mself\u001b[0m\u001b[1;33m.\u001b[0m\u001b[0m_execute\u001b[0m\u001b[1;33m(\u001b[0m\u001b[0mCommand\u001b[0m\u001b[1;33m.\u001b[0m\u001b[0mCLICK_ELEMENT\u001b[0m\u001b[1;33m)\u001b[0m\u001b[1;33m\u001b[0m\u001b[1;33m\u001b[0m\u001b[0m\n\u001b[0m\u001b[0;32m     82\u001b[0m \u001b[1;33m\u001b[0m\u001b[0m\n\u001b[0;32m     83\u001b[0m     \u001b[1;32mdef\u001b[0m \u001b[0msubmit\u001b[0m\u001b[1;33m(\u001b[0m\u001b[0mself\u001b[0m\u001b[1;33m)\u001b[0m\u001b[1;33m:\u001b[0m\u001b[1;33m\u001b[0m\u001b[1;33m\u001b[0m\u001b[0m\n",
      "\u001b[1;32m~\\anaconda3\\lib\\site-packages\\selenium\\webdriver\\remote\\webelement.py\u001b[0m in \u001b[0;36m_execute\u001b[1;34m(self, command, params)\u001b[0m\n\u001b[0;32m    708\u001b[0m             \u001b[0mparams\u001b[0m \u001b[1;33m=\u001b[0m \u001b[1;33m{\u001b[0m\u001b[1;33m}\u001b[0m\u001b[1;33m\u001b[0m\u001b[1;33m\u001b[0m\u001b[0m\n\u001b[0;32m    709\u001b[0m         \u001b[0mparams\u001b[0m\u001b[1;33m[\u001b[0m\u001b[1;34m'id'\u001b[0m\u001b[1;33m]\u001b[0m \u001b[1;33m=\u001b[0m \u001b[0mself\u001b[0m\u001b[1;33m.\u001b[0m\u001b[0m_id\u001b[0m\u001b[1;33m\u001b[0m\u001b[1;33m\u001b[0m\u001b[0m\n\u001b[1;32m--> 710\u001b[1;33m         \u001b[1;32mreturn\u001b[0m \u001b[0mself\u001b[0m\u001b[1;33m.\u001b[0m\u001b[0m_parent\u001b[0m\u001b[1;33m.\u001b[0m\u001b[0mexecute\u001b[0m\u001b[1;33m(\u001b[0m\u001b[0mcommand\u001b[0m\u001b[1;33m,\u001b[0m \u001b[0mparams\u001b[0m\u001b[1;33m)\u001b[0m\u001b[1;33m\u001b[0m\u001b[1;33m\u001b[0m\u001b[0m\n\u001b[0m\u001b[0;32m    711\u001b[0m \u001b[1;33m\u001b[0m\u001b[0m\n\u001b[0;32m    712\u001b[0m     \u001b[1;32mdef\u001b[0m \u001b[0mfind_element\u001b[0m\u001b[1;33m(\u001b[0m\u001b[0mself\u001b[0m\u001b[1;33m,\u001b[0m \u001b[0mby\u001b[0m\u001b[1;33m=\u001b[0m\u001b[0mBy\u001b[0m\u001b[1;33m.\u001b[0m\u001b[0mID\u001b[0m\u001b[1;33m,\u001b[0m \u001b[0mvalue\u001b[0m\u001b[1;33m=\u001b[0m\u001b[1;32mNone\u001b[0m\u001b[1;33m)\u001b[0m\u001b[1;33m:\u001b[0m\u001b[1;33m\u001b[0m\u001b[1;33m\u001b[0m\u001b[0m\n",
      "\u001b[1;32m~\\anaconda3\\lib\\site-packages\\selenium\\webdriver\\remote\\webdriver.py\u001b[0m in \u001b[0;36mexecute\u001b[1;34m(self, driver_command, params)\u001b[0m\n\u001b[0;32m    422\u001b[0m         \u001b[0mresponse\u001b[0m \u001b[1;33m=\u001b[0m \u001b[0mself\u001b[0m\u001b[1;33m.\u001b[0m\u001b[0mcommand_executor\u001b[0m\u001b[1;33m.\u001b[0m\u001b[0mexecute\u001b[0m\u001b[1;33m(\u001b[0m\u001b[0mdriver_command\u001b[0m\u001b[1;33m,\u001b[0m \u001b[0mparams\u001b[0m\u001b[1;33m)\u001b[0m\u001b[1;33m\u001b[0m\u001b[1;33m\u001b[0m\u001b[0m\n\u001b[0;32m    423\u001b[0m         \u001b[1;32mif\u001b[0m \u001b[0mresponse\u001b[0m\u001b[1;33m:\u001b[0m\u001b[1;33m\u001b[0m\u001b[1;33m\u001b[0m\u001b[0m\n\u001b[1;32m--> 424\u001b[1;33m             \u001b[0mself\u001b[0m\u001b[1;33m.\u001b[0m\u001b[0merror_handler\u001b[0m\u001b[1;33m.\u001b[0m\u001b[0mcheck_response\u001b[0m\u001b[1;33m(\u001b[0m\u001b[0mresponse\u001b[0m\u001b[1;33m)\u001b[0m\u001b[1;33m\u001b[0m\u001b[1;33m\u001b[0m\u001b[0m\n\u001b[0m\u001b[0;32m    425\u001b[0m             response['value'] = self._unwrap_value(\n\u001b[0;32m    426\u001b[0m                 response.get('value', None))\n",
      "\u001b[1;32m~\\anaconda3\\lib\\site-packages\\selenium\\webdriver\\remote\\errorhandler.py\u001b[0m in \u001b[0;36mcheck_response\u001b[1;34m(self, response)\u001b[0m\n\u001b[0;32m    245\u001b[0m                 \u001b[0malert_text\u001b[0m \u001b[1;33m=\u001b[0m \u001b[0mvalue\u001b[0m\u001b[1;33m[\u001b[0m\u001b[1;34m'alert'\u001b[0m\u001b[1;33m]\u001b[0m\u001b[1;33m.\u001b[0m\u001b[0mget\u001b[0m\u001b[1;33m(\u001b[0m\u001b[1;34m'text'\u001b[0m\u001b[1;33m)\u001b[0m\u001b[1;33m\u001b[0m\u001b[1;33m\u001b[0m\u001b[0m\n\u001b[0;32m    246\u001b[0m             \u001b[1;32mraise\u001b[0m \u001b[0mexception_class\u001b[0m\u001b[1;33m(\u001b[0m\u001b[0mmessage\u001b[0m\u001b[1;33m,\u001b[0m \u001b[0mscreen\u001b[0m\u001b[1;33m,\u001b[0m \u001b[0mstacktrace\u001b[0m\u001b[1;33m,\u001b[0m \u001b[0malert_text\u001b[0m\u001b[1;33m)\u001b[0m  \u001b[1;31m# type: ignore[call-arg]  # mypy is not smart enough here\u001b[0m\u001b[1;33m\u001b[0m\u001b[1;33m\u001b[0m\u001b[0m\n\u001b[1;32m--> 247\u001b[1;33m         \u001b[1;32mraise\u001b[0m \u001b[0mexception_class\u001b[0m\u001b[1;33m(\u001b[0m\u001b[0mmessage\u001b[0m\u001b[1;33m,\u001b[0m \u001b[0mscreen\u001b[0m\u001b[1;33m,\u001b[0m \u001b[0mstacktrace\u001b[0m\u001b[1;33m)\u001b[0m\u001b[1;33m\u001b[0m\u001b[1;33m\u001b[0m\u001b[0m\n\u001b[0m\u001b[0;32m    248\u001b[0m \u001b[1;33m\u001b[0m\u001b[0m\n\u001b[0;32m    249\u001b[0m     \u001b[1;32mdef\u001b[0m \u001b[0m_value_or_default\u001b[0m\u001b[1;33m(\u001b[0m\u001b[0mself\u001b[0m\u001b[1;33m,\u001b[0m \u001b[0mobj\u001b[0m\u001b[1;33m:\u001b[0m \u001b[0mMapping\u001b[0m\u001b[1;33m[\u001b[0m\u001b[0m_KT\u001b[0m\u001b[1;33m,\u001b[0m \u001b[0m_VT\u001b[0m\u001b[1;33m]\u001b[0m\u001b[1;33m,\u001b[0m \u001b[0mkey\u001b[0m\u001b[1;33m:\u001b[0m \u001b[0m_KT\u001b[0m\u001b[1;33m,\u001b[0m \u001b[0mdefault\u001b[0m\u001b[1;33m:\u001b[0m \u001b[0m_VT\u001b[0m\u001b[1;33m)\u001b[0m \u001b[1;33m->\u001b[0m \u001b[0m_VT\u001b[0m\u001b[1;33m:\u001b[0m\u001b[1;33m\u001b[0m\u001b[1;33m\u001b[0m\u001b[0m\n",
      "\u001b[1;31mElementNotInteractableException\u001b[0m: Message: element not interactable\n  (Session info: chrome=100.0.4896.88)\nStacktrace:\nBacktrace:\n\tOrdinal0 [0x00EF8BD3+2395091]\n\tOrdinal0 [0x00E8ACA1+1944737]\n\tOrdinal0 [0x00D7CED0+839376]\n\tOrdinal0 [0x00DAAC13+1027091]\n\tOrdinal0 [0x00DA09C3+985539]\n\tOrdinal0 [0x00DC4BBC+1133500]\n\tOrdinal0 [0x00DA03A4+983972]\n\tOrdinal0 [0x00DC4DD4+1134036]\n\tOrdinal0 [0x00DD4D62+1199458]\n\tOrdinal0 [0x00DC49D6+1133014]\n\tOrdinal0 [0x00D9EF76+978806]\n\tOrdinal0 [0x00D9FE86+982662]\n\tGetHandleVerifier [0x010AC912+1719138]\n\tGetHandleVerifier [0x0115B2CD+2434333]\n\tGetHandleVerifier [0x00F94001+569937]\n\tGetHandleVerifier [0x00F93066+565942]\n\tOrdinal0 [0x00E9265B+1975899]\n\tOrdinal0 [0x00E972A8+1995432]\n\tOrdinal0 [0x00E97395+1995669]\n\tOrdinal0 [0x00EA02F1+2032369]\n\tBaseThreadInitThunk [0x764BFA29+25]\n\tRtlGetAppContainerNamedObjectPath [0x77B77A7E+286]\n\tRtlGetAppContainerNamedObjectPath [0x77B77A4E+238]\n"
     ]
    }
   ],
   "source": [
    "driver.find_element_by_class_name('txt.txt_option._calendar_select_trigger').click()\n",
    "driver.find_element_by_class_name('spnew_bf.ico_calendar._start_trigger').click()\n",
    "driver.find_element_by_link_text('2018').click()\n",
    "driver.find_element_by_link_text('5').click()\n",
    "driver.find_element_by_link_text('12').click()\n"
   ]
  },
  {
   "cell_type": "code",
   "execution_count": 51,
   "metadata": {},
   "outputs": [],
   "source": [
    "driver.find_element_by_class_name('spnew_bf.ico_calendar._end_trigger').click()\n",
    "driver.find_element_by_link_text('2019').click()\n",
    "driver.find_element_by_link_text('10').click()\n",
    "driver.find_element_by_link_text('31').click()\n",
    "driver.find_element_by_xpath('//*[@id=\"snb\"]/div[2]/ul/li[3]/div/div[2]/div[3]/button').click()"
   ]
  },
  {
   "cell_type": "code",
   "execution_count": null,
   "metadata": {},
   "outputs": [],
   "source": []
  },
  {
   "cell_type": "code",
   "execution_count": null,
   "metadata": {},
   "outputs": [],
   "source": []
  },
  {
   "cell_type": "code",
   "execution_count": 64,
   "metadata": {
    "id": "OyFhrsrA-kvr"
   },
   "outputs": [],
   "source": [
    "# 스크롤 다운\n",
    "# driver.execute_script(\"window.scrollTo(0, 500)\")\n",
    "# time.sleep(2)\n",
    "\n",
    "# 스크롤을 밑으로 내려주는 함수\n",
    "def scroll_down(driver):\n",
    "    driver.execute_script(\"window.scrollTo(0, 19431049)\")\n",
    "    time.sleep(1)\n",
    "\n",
    "# n: 스크롤할 횟수 설정\n",
    "n = 5  # 스크롤 1번 당 30개씩\n",
    "i = 0\n",
    "while i < n: # 이 조건이 만족되는 동안 반복 실행\n",
    "    scroll_down(driver) # 스크롤 다운\n",
    "    i = i+1"
   ]
  },
  {
   "cell_type": "code",
   "execution_count": 65,
   "metadata": {
    "id": "35cdGv2g-kvr",
    "outputId": "b04e2570-7061-4bc9-fdaf-d0862d6d2e7e"
   },
   "outputs": [
    {
     "data": {
      "text/plain": [
       "<selenium.webdriver.remote.webelement.WebElement (session=\"a89188782f357a479e1a5d49cc4f2cf7\", element=\"47a7fb73-9850-406b-b61d-7112c99e3368\")>"
      ]
     },
     "execution_count": 65,
     "metadata": {},
     "output_type": "execute_result"
    }
   ],
   "source": [
    "# 블로그 글 url들 수집\n",
    "url_list = []\n",
    "title_list = []\n",
    "\n",
    "# URL_raw 크롤링 시작\n",
    "articles = \".api_txt_lines.total_tit\"\n",
    "article_raw = driver.find_elements_by_css_selector(articles)\n",
    "article_raw[0]"
   ]
  },
  {
   "cell_type": "code",
   "execution_count": 72,
   "metadata": {},
   "outputs": [
    {
     "data": {
      "text/plain": [
       "[<selenium.webdriver.remote.webelement.WebElement (session=\"a89188782f357a479e1a5d49cc4f2cf7\", element=\"47a7fb73-9850-406b-b61d-7112c99e3368\")>,\n",
       " <selenium.webdriver.remote.webelement.WebElement (session=\"a89188782f357a479e1a5d49cc4f2cf7\", element=\"21ced6b0-d286-4b17-9164-9fff929c216e\")>,\n",
       " <selenium.webdriver.remote.webelement.WebElement (session=\"a89188782f357a479e1a5d49cc4f2cf7\", element=\"293d8be4-4db4-49ea-b668-e06c768707bb\")>,\n",
       " <selenium.webdriver.remote.webelement.WebElement (session=\"a89188782f357a479e1a5d49cc4f2cf7\", element=\"f636c0aa-a755-4189-a22b-981dd4a687e8\")>,\n",
       " <selenium.webdriver.remote.webelement.WebElement (session=\"a89188782f357a479e1a5d49cc4f2cf7\", element=\"ace1e819-695f-4010-a2f1-5cf432c1d04f\")>,\n",
       " <selenium.webdriver.remote.webelement.WebElement (session=\"a89188782f357a479e1a5d49cc4f2cf7\", element=\"010e798c-5a1f-4b1d-965f-10b2282f455b\")>,\n",
       " <selenium.webdriver.remote.webelement.WebElement (session=\"a89188782f357a479e1a5d49cc4f2cf7\", element=\"cb8a7026-1099-4b98-a291-ec98583bbcc7\")>,\n",
       " <selenium.webdriver.remote.webelement.WebElement (session=\"a89188782f357a479e1a5d49cc4f2cf7\", element=\"0e566283-ed03-4eff-846d-00ba103ffbfc\")>,\n",
       " <selenium.webdriver.remote.webelement.WebElement (session=\"a89188782f357a479e1a5d49cc4f2cf7\", element=\"2176b973-3118-41d0-af20-1862a56bf024\")>,\n",
       " <selenium.webdriver.remote.webelement.WebElement (session=\"a89188782f357a479e1a5d49cc4f2cf7\", element=\"76647dec-74f0-4e5d-9f2f-50bbd13f5551\")>,\n",
       " <selenium.webdriver.remote.webelement.WebElement (session=\"a89188782f357a479e1a5d49cc4f2cf7\", element=\"4c8365f7-6d4c-45a7-9627-f426258410f3\")>,\n",
       " <selenium.webdriver.remote.webelement.WebElement (session=\"a89188782f357a479e1a5d49cc4f2cf7\", element=\"1baa6296-9f36-4a4f-abbf-b700f358e14b\")>,\n",
       " <selenium.webdriver.remote.webelement.WebElement (session=\"a89188782f357a479e1a5d49cc4f2cf7\", element=\"9a3ea3fc-6271-4049-aedf-acc292eb600c\")>,\n",
       " <selenium.webdriver.remote.webelement.WebElement (session=\"a89188782f357a479e1a5d49cc4f2cf7\", element=\"83817633-5801-43c8-8dfa-04f40ff4508b\")>,\n",
       " <selenium.webdriver.remote.webelement.WebElement (session=\"a89188782f357a479e1a5d49cc4f2cf7\", element=\"2b0e7a39-d0f7-4ed1-b24b-ca3621510c0c\")>,\n",
       " <selenium.webdriver.remote.webelement.WebElement (session=\"a89188782f357a479e1a5d49cc4f2cf7\", element=\"19738aa6-3119-4297-b826-c1f014fcc5c5\")>,\n",
       " <selenium.webdriver.remote.webelement.WebElement (session=\"a89188782f357a479e1a5d49cc4f2cf7\", element=\"3c17818e-fe54-4ab4-a3fe-490bedaacbe1\")>,\n",
       " <selenium.webdriver.remote.webelement.WebElement (session=\"a89188782f357a479e1a5d49cc4f2cf7\", element=\"fe123bb7-f4ee-4ec4-9555-ed0ee783d7a3\")>,\n",
       " <selenium.webdriver.remote.webelement.WebElement (session=\"a89188782f357a479e1a5d49cc4f2cf7\", element=\"47c57dfa-2503-4395-be21-c8543bf71242\")>,\n",
       " <selenium.webdriver.remote.webelement.WebElement (session=\"a89188782f357a479e1a5d49cc4f2cf7\", element=\"248efdff-472e-4ab6-9c9c-cf849518d7ee\")>,\n",
       " <selenium.webdriver.remote.webelement.WebElement (session=\"a89188782f357a479e1a5d49cc4f2cf7\", element=\"3b0961bc-a105-47a2-a9e7-1b4f24231885\")>,\n",
       " <selenium.webdriver.remote.webelement.WebElement (session=\"a89188782f357a479e1a5d49cc4f2cf7\", element=\"5e82a335-7e1b-40b3-b31a-53cb8cadd79f\")>,\n",
       " <selenium.webdriver.remote.webelement.WebElement (session=\"a89188782f357a479e1a5d49cc4f2cf7\", element=\"57d99f24-87ad-44b0-8d36-f71eaf023f21\")>,\n",
       " <selenium.webdriver.remote.webelement.WebElement (session=\"a89188782f357a479e1a5d49cc4f2cf7\", element=\"9f8df90e-08ec-43e1-9fd2-a1c1526e30d6\")>,\n",
       " <selenium.webdriver.remote.webelement.WebElement (session=\"a89188782f357a479e1a5d49cc4f2cf7\", element=\"57e0b1d7-710f-4f3c-8e7e-68200dc28709\")>,\n",
       " <selenium.webdriver.remote.webelement.WebElement (session=\"a89188782f357a479e1a5d49cc4f2cf7\", element=\"25a40b8b-ad68-4f82-84eb-1c65056ec052\")>,\n",
       " <selenium.webdriver.remote.webelement.WebElement (session=\"a89188782f357a479e1a5d49cc4f2cf7\", element=\"dcfdcce2-8132-4159-a27e-34228dd41b07\")>,\n",
       " <selenium.webdriver.remote.webelement.WebElement (session=\"a89188782f357a479e1a5d49cc4f2cf7\", element=\"f9466923-fa6d-44cc-b33c-f6d6d7040b4b\")>,\n",
       " <selenium.webdriver.remote.webelement.WebElement (session=\"a89188782f357a479e1a5d49cc4f2cf7\", element=\"fcbf8926-08f0-4e30-9400-25ce7f83606e\")>,\n",
       " <selenium.webdriver.remote.webelement.WebElement (session=\"a89188782f357a479e1a5d49cc4f2cf7\", element=\"efe38378-1f77-4435-972d-501c48cbddec\")>,\n",
       " <selenium.webdriver.remote.webelement.WebElement (session=\"a89188782f357a479e1a5d49cc4f2cf7\", element=\"4ef68ab7-b05e-43dd-9fa2-6a2fb62852e7\")>,\n",
       " <selenium.webdriver.remote.webelement.WebElement (session=\"a89188782f357a479e1a5d49cc4f2cf7\", element=\"8eeed458-42c5-4317-ac11-06c31b3196d4\")>,\n",
       " <selenium.webdriver.remote.webelement.WebElement (session=\"a89188782f357a479e1a5d49cc4f2cf7\", element=\"5abe428f-0e1a-4c7a-8608-8238a6573dac\")>,\n",
       " <selenium.webdriver.remote.webelement.WebElement (session=\"a89188782f357a479e1a5d49cc4f2cf7\", element=\"d39d133b-8823-4c7c-98d6-3214c7435a74\")>,\n",
       " <selenium.webdriver.remote.webelement.WebElement (session=\"a89188782f357a479e1a5d49cc4f2cf7\", element=\"29cd7d05-53dd-4559-b61f-310617ae1bfb\")>,\n",
       " <selenium.webdriver.remote.webelement.WebElement (session=\"a89188782f357a479e1a5d49cc4f2cf7\", element=\"28766f4c-9335-4d18-9abb-2f82666529c2\")>,\n",
       " <selenium.webdriver.remote.webelement.WebElement (session=\"a89188782f357a479e1a5d49cc4f2cf7\", element=\"b8bfe4c0-63bd-4d1b-b751-a91ad4a43302\")>,\n",
       " <selenium.webdriver.remote.webelement.WebElement (session=\"a89188782f357a479e1a5d49cc4f2cf7\", element=\"0677b6da-133f-4042-a1ae-361b4a15cada\")>,\n",
       " <selenium.webdriver.remote.webelement.WebElement (session=\"a89188782f357a479e1a5d49cc4f2cf7\", element=\"fa9d123c-fac7-46c9-b80d-d624e6e5dbdd\")>,\n",
       " <selenium.webdriver.remote.webelement.WebElement (session=\"a89188782f357a479e1a5d49cc4f2cf7\", element=\"56b97cf2-af54-42e0-9f58-0a8e4dfb46e7\")>,\n",
       " <selenium.webdriver.remote.webelement.WebElement (session=\"a89188782f357a479e1a5d49cc4f2cf7\", element=\"45974c5a-2a92-4805-8546-aa53e187ad0e\")>,\n",
       " <selenium.webdriver.remote.webelement.WebElement (session=\"a89188782f357a479e1a5d49cc4f2cf7\", element=\"3fc80837-fc0c-4771-aab1-1c869d8d4508\")>,\n",
       " <selenium.webdriver.remote.webelement.WebElement (session=\"a89188782f357a479e1a5d49cc4f2cf7\", element=\"6848854b-9b79-4bb6-8a97-82830f56523e\")>,\n",
       " <selenium.webdriver.remote.webelement.WebElement (session=\"a89188782f357a479e1a5d49cc4f2cf7\", element=\"17bafdb5-78b2-4d15-931a-8728a8234c45\")>,\n",
       " <selenium.webdriver.remote.webelement.WebElement (session=\"a89188782f357a479e1a5d49cc4f2cf7\", element=\"11b68bbb-1291-4737-8728-546f3b2317ad\")>,\n",
       " <selenium.webdriver.remote.webelement.WebElement (session=\"a89188782f357a479e1a5d49cc4f2cf7\", element=\"07ee282c-11f0-4863-9def-1b63cbca0cdf\")>,\n",
       " <selenium.webdriver.remote.webelement.WebElement (session=\"a89188782f357a479e1a5d49cc4f2cf7\", element=\"5062b300-492f-482c-968a-d21a876f3af2\")>,\n",
       " <selenium.webdriver.remote.webelement.WebElement (session=\"a89188782f357a479e1a5d49cc4f2cf7\", element=\"8e9195f5-fdbb-4a1d-a6c3-5e31c5852d81\")>,\n",
       " <selenium.webdriver.remote.webelement.WebElement (session=\"a89188782f357a479e1a5d49cc4f2cf7\", element=\"3026eb38-77b9-45b8-9b46-c1794e9131d7\")>,\n",
       " <selenium.webdriver.remote.webelement.WebElement (session=\"a89188782f357a479e1a5d49cc4f2cf7\", element=\"7f781e25-d73a-4832-a016-b706d9b5a1d5\")>,\n",
       " <selenium.webdriver.remote.webelement.WebElement (session=\"a89188782f357a479e1a5d49cc4f2cf7\", element=\"38bdfeed-3011-480a-9261-2439502b4169\")>,\n",
       " <selenium.webdriver.remote.webelement.WebElement (session=\"a89188782f357a479e1a5d49cc4f2cf7\", element=\"16cb4d54-e16b-4e53-8cb9-620c9a81c93e\")>,\n",
       " <selenium.webdriver.remote.webelement.WebElement (session=\"a89188782f357a479e1a5d49cc4f2cf7\", element=\"e24ae620-b75c-4ce1-97dd-53d81819ea33\")>,\n",
       " <selenium.webdriver.remote.webelement.WebElement (session=\"a89188782f357a479e1a5d49cc4f2cf7\", element=\"24730663-1b3f-4d77-81db-771e425fd292\")>,\n",
       " <selenium.webdriver.remote.webelement.WebElement (session=\"a89188782f357a479e1a5d49cc4f2cf7\", element=\"9948d992-ac05-4259-9e34-cefa9c80e942\")>,\n",
       " <selenium.webdriver.remote.webelement.WebElement (session=\"a89188782f357a479e1a5d49cc4f2cf7\", element=\"ae8cf1c0-7e81-4807-9f88-1763295d7ec3\")>,\n",
       " <selenium.webdriver.remote.webelement.WebElement (session=\"a89188782f357a479e1a5d49cc4f2cf7\", element=\"414e2cf7-6e18-4cce-ac64-270afc201880\")>,\n",
       " <selenium.webdriver.remote.webelement.WebElement (session=\"a89188782f357a479e1a5d49cc4f2cf7\", element=\"b6c72d81-0f96-41c9-831d-e168ec8157bb\")>,\n",
       " <selenium.webdriver.remote.webelement.WebElement (session=\"a89188782f357a479e1a5d49cc4f2cf7\", element=\"713b4f14-aabc-4bb7-bc4f-3fe47257cddf\")>,\n",
       " <selenium.webdriver.remote.webelement.WebElement (session=\"a89188782f357a479e1a5d49cc4f2cf7\", element=\"a6ae9f87-f13d-45cc-a1e9-2e654652e136\")>,\n",
       " <selenium.webdriver.remote.webelement.WebElement (session=\"a89188782f357a479e1a5d49cc4f2cf7\", element=\"2851d2e7-1565-45bc-afb8-96cad8c49653\")>,\n",
       " <selenium.webdriver.remote.webelement.WebElement (session=\"a89188782f357a479e1a5d49cc4f2cf7\", element=\"5db2b693-9a4f-4d60-aff8-30e657a8c8a2\")>,\n",
       " <selenium.webdriver.remote.webelement.WebElement (session=\"a89188782f357a479e1a5d49cc4f2cf7\", element=\"5bb3cd0f-8541-48f3-ab27-afa39d2b449a\")>,\n",
       " <selenium.webdriver.remote.webelement.WebElement (session=\"a89188782f357a479e1a5d49cc4f2cf7\", element=\"163c35d0-50b5-4d69-ac8c-7ca355d7509c\")>,\n",
       " <selenium.webdriver.remote.webelement.WebElement (session=\"a89188782f357a479e1a5d49cc4f2cf7\", element=\"b0de2029-ca83-490d-85c6-efae3e42558f\")>,\n",
       " <selenium.webdriver.remote.webelement.WebElement (session=\"a89188782f357a479e1a5d49cc4f2cf7\", element=\"9f3a5b0a-1a2d-4985-819d-98aa9c795110\")>,\n",
       " <selenium.webdriver.remote.webelement.WebElement (session=\"a89188782f357a479e1a5d49cc4f2cf7\", element=\"aa124799-42d1-4af8-84e6-0d82b112fd80\")>,\n",
       " <selenium.webdriver.remote.webelement.WebElement (session=\"a89188782f357a479e1a5d49cc4f2cf7\", element=\"b1debd9d-2c41-42ea-8769-2776a71e520c\")>,\n",
       " <selenium.webdriver.remote.webelement.WebElement (session=\"a89188782f357a479e1a5d49cc4f2cf7\", element=\"d912bc93-0bf9-45ae-a8c5-370d5c70060c\")>,\n",
       " <selenium.webdriver.remote.webelement.WebElement (session=\"a89188782f357a479e1a5d49cc4f2cf7\", element=\"db3f48e6-9e39-4829-aded-d2f3d67ec1dc\")>,\n",
       " <selenium.webdriver.remote.webelement.WebElement (session=\"a89188782f357a479e1a5d49cc4f2cf7\", element=\"920cf5c2-6849-4f4d-b8d1-5287b9c29835\")>,\n",
       " <selenium.webdriver.remote.webelement.WebElement (session=\"a89188782f357a479e1a5d49cc4f2cf7\", element=\"4ce81dce-6e47-4f92-a4a4-fd60b987fb60\")>,\n",
       " <selenium.webdriver.remote.webelement.WebElement (session=\"a89188782f357a479e1a5d49cc4f2cf7\", element=\"a90d9375-7095-4bfc-a6e2-d94eb121d630\")>,\n",
       " <selenium.webdriver.remote.webelement.WebElement (session=\"a89188782f357a479e1a5d49cc4f2cf7\", element=\"787657d5-9f74-4ad4-a7f8-966d4f66a0c8\")>,\n",
       " <selenium.webdriver.remote.webelement.WebElement (session=\"a89188782f357a479e1a5d49cc4f2cf7\", element=\"8f0f4ad4-7812-464f-a37d-9271e86e93a6\")>,\n",
       " <selenium.webdriver.remote.webelement.WebElement (session=\"a89188782f357a479e1a5d49cc4f2cf7\", element=\"68499291-d887-43b1-b44c-ae9688ea08aa\")>,\n",
       " <selenium.webdriver.remote.webelement.WebElement (session=\"a89188782f357a479e1a5d49cc4f2cf7\", element=\"c894dc4e-478d-455f-a681-a9d2ee6650d2\")>,\n",
       " <selenium.webdriver.remote.webelement.WebElement (session=\"a89188782f357a479e1a5d49cc4f2cf7\", element=\"99766ab0-d974-4cfe-99c5-a8b41764e6e5\")>,\n",
       " <selenium.webdriver.remote.webelement.WebElement (session=\"a89188782f357a479e1a5d49cc4f2cf7\", element=\"65b0a498-f838-458c-8293-bcc5a39220a7\")>,\n",
       " <selenium.webdriver.remote.webelement.WebElement (session=\"a89188782f357a479e1a5d49cc4f2cf7\", element=\"24f3f35c-a110-4f32-8fe5-1f4c4c66ad11\")>,\n",
       " <selenium.webdriver.remote.webelement.WebElement (session=\"a89188782f357a479e1a5d49cc4f2cf7\", element=\"1037ed4f-44b8-496b-af88-e9c41f800662\")>,\n",
       " <selenium.webdriver.remote.webelement.WebElement (session=\"a89188782f357a479e1a5d49cc4f2cf7\", element=\"efb9123c-1045-42e2-b567-cba1adf17838\")>,\n",
       " <selenium.webdriver.remote.webelement.WebElement (session=\"a89188782f357a479e1a5d49cc4f2cf7\", element=\"0685b4a3-2d03-40e6-afd9-ace475f16b1f\")>,\n",
       " <selenium.webdriver.remote.webelement.WebElement (session=\"a89188782f357a479e1a5d49cc4f2cf7\", element=\"95d0551e-1f43-48ba-9a6a-c6b8d10766d6\")>,\n",
       " <selenium.webdriver.remote.webelement.WebElement (session=\"a89188782f357a479e1a5d49cc4f2cf7\", element=\"0c1ed9ea-1f5f-4fa6-bf2f-e25dc0296607\")>,\n",
       " <selenium.webdriver.remote.webelement.WebElement (session=\"a89188782f357a479e1a5d49cc4f2cf7\", element=\"3b868151-5129-4608-abf6-a234ce380719\")>,\n",
       " <selenium.webdriver.remote.webelement.WebElement (session=\"a89188782f357a479e1a5d49cc4f2cf7\", element=\"00b0413e-3881-454f-8c5a-ddde65897a1e\")>,\n",
       " <selenium.webdriver.remote.webelement.WebElement (session=\"a89188782f357a479e1a5d49cc4f2cf7\", element=\"1bd14418-ab03-4f54-b857-4cc509f792ab\")>,\n",
       " <selenium.webdriver.remote.webelement.WebElement (session=\"a89188782f357a479e1a5d49cc4f2cf7\", element=\"f8fac0c1-02d6-4840-a11e-acc293894c1e\")>,\n",
       " <selenium.webdriver.remote.webelement.WebElement (session=\"a89188782f357a479e1a5d49cc4f2cf7\", element=\"54d9b64c-69fc-4841-84b0-e54d76684c77\")>,\n",
       " <selenium.webdriver.remote.webelement.WebElement (session=\"a89188782f357a479e1a5d49cc4f2cf7\", element=\"1084ba81-6a62-4833-878a-79fb4abcda44\")>,\n",
       " <selenium.webdriver.remote.webelement.WebElement (session=\"a89188782f357a479e1a5d49cc4f2cf7\", element=\"4477ada7-9530-4ed5-b5a6-e69e3a665250\")>,\n",
       " <selenium.webdriver.remote.webelement.WebElement (session=\"a89188782f357a479e1a5d49cc4f2cf7\", element=\"3cc7753d-a7d3-4176-9646-d3a58633bc5c\")>,\n",
       " <selenium.webdriver.remote.webelement.WebElement (session=\"a89188782f357a479e1a5d49cc4f2cf7\", element=\"18f0840e-2681-4950-a21a-ffa079ade1de\")>,\n",
       " <selenium.webdriver.remote.webelement.WebElement (session=\"a89188782f357a479e1a5d49cc4f2cf7\", element=\"0a32f24c-676c-4b5e-8d4f-8135d58b9b67\")>,\n",
       " <selenium.webdriver.remote.webelement.WebElement (session=\"a89188782f357a479e1a5d49cc4f2cf7\", element=\"cfd7b35e-7b9e-4eef-8ec3-db341ee79931\")>,\n",
       " <selenium.webdriver.remote.webelement.WebElement (session=\"a89188782f357a479e1a5d49cc4f2cf7\", element=\"1db36815-63c5-4309-8bd8-f0fb227433c5\")>,\n",
       " <selenium.webdriver.remote.webelement.WebElement (session=\"a89188782f357a479e1a5d49cc4f2cf7\", element=\"86d88520-01fb-4560-8313-721372551050\")>,\n",
       " <selenium.webdriver.remote.webelement.WebElement (session=\"a89188782f357a479e1a5d49cc4f2cf7\", element=\"48827bee-af87-4641-8fa4-020e92a877c7\")>,\n",
       " <selenium.webdriver.remote.webelement.WebElement (session=\"a89188782f357a479e1a5d49cc4f2cf7\", element=\"96883a39-ec72-41c4-b866-456a1c11ce99\")>,\n",
       " <selenium.webdriver.remote.webelement.WebElement (session=\"a89188782f357a479e1a5d49cc4f2cf7\", element=\"8d92d932-8664-4369-87c4-3716854833aa\")>,\n",
       " <selenium.webdriver.remote.webelement.WebElement (session=\"a89188782f357a479e1a5d49cc4f2cf7\", element=\"3dd3332d-1fe1-4607-8c39-71825cf1402a\")>,\n",
       " <selenium.webdriver.remote.webelement.WebElement (session=\"a89188782f357a479e1a5d49cc4f2cf7\", element=\"424645e3-e64a-429f-8bcd-34429f9fd5cd\")>,\n",
       " <selenium.webdriver.remote.webelement.WebElement (session=\"a89188782f357a479e1a5d49cc4f2cf7\", element=\"084adde1-6d22-44e5-9880-2c5968403277\")>,\n",
       " <selenium.webdriver.remote.webelement.WebElement (session=\"a89188782f357a479e1a5d49cc4f2cf7\", element=\"277d5502-29c3-4940-8794-7a4899a4d36e\")>,\n",
       " <selenium.webdriver.remote.webelement.WebElement (session=\"a89188782f357a479e1a5d49cc4f2cf7\", element=\"89217bff-ec25-419f-b920-62eb5395f3fc\")>,\n",
       " <selenium.webdriver.remote.webelement.WebElement (session=\"a89188782f357a479e1a5d49cc4f2cf7\", element=\"69abb1be-6734-4f92-a4e6-29f1e8b00b6a\")>,\n",
       " <selenium.webdriver.remote.webelement.WebElement (session=\"a89188782f357a479e1a5d49cc4f2cf7\", element=\"c2299711-fc83-40c4-b93e-f75cfa0fe3c1\")>,\n",
       " <selenium.webdriver.remote.webelement.WebElement (session=\"a89188782f357a479e1a5d49cc4f2cf7\", element=\"1168165d-3440-44d4-9638-6c30bfda4127\")>,\n",
       " <selenium.webdriver.remote.webelement.WebElement (session=\"a89188782f357a479e1a5d49cc4f2cf7\", element=\"3edd948e-dba1-4a9a-8a6e-4645c92b89ca\")>,\n",
       " <selenium.webdriver.remote.webelement.WebElement (session=\"a89188782f357a479e1a5d49cc4f2cf7\", element=\"b416c021-b736-47d7-80ba-16cece740461\")>,\n",
       " <selenium.webdriver.remote.webelement.WebElement (session=\"a89188782f357a479e1a5d49cc4f2cf7\", element=\"369a4546-aedc-46e6-97fe-db70af4e9496\")>,\n",
       " <selenium.webdriver.remote.webelement.WebElement (session=\"a89188782f357a479e1a5d49cc4f2cf7\", element=\"54f3f2d6-88dd-424b-8904-a2a0c59d6bb7\")>,\n",
       " <selenium.webdriver.remote.webelement.WebElement (session=\"a89188782f357a479e1a5d49cc4f2cf7\", element=\"71e53218-eb36-42fb-af9d-366c7dffdba3\")>,\n",
       " <selenium.webdriver.remote.webelement.WebElement (session=\"a89188782f357a479e1a5d49cc4f2cf7\", element=\"6a8614f6-02ee-416b-89d3-31a0b42aa801\")>,\n",
       " <selenium.webdriver.remote.webelement.WebElement (session=\"a89188782f357a479e1a5d49cc4f2cf7\", element=\"4e8da3b5-f3bd-431d-ba18-334a1fab527a\")>,\n",
       " <selenium.webdriver.remote.webelement.WebElement (session=\"a89188782f357a479e1a5d49cc4f2cf7\", element=\"db8920b9-6e51-4add-bdc6-ed967c6bb41a\")>,\n",
       " <selenium.webdriver.remote.webelement.WebElement (session=\"a89188782f357a479e1a5d49cc4f2cf7\", element=\"e8d86dc0-77a6-4f9c-a211-4f8bd2570a31\")>,\n",
       " <selenium.webdriver.remote.webelement.WebElement (session=\"a89188782f357a479e1a5d49cc4f2cf7\", element=\"cf59075c-2700-4240-92f4-e3418b86c212\")>,\n",
       " <selenium.webdriver.remote.webelement.WebElement (session=\"a89188782f357a479e1a5d49cc4f2cf7\", element=\"255271cb-dd5b-4ce9-9a13-86c2b0b9869b\")>,\n",
       " <selenium.webdriver.remote.webelement.WebElement (session=\"a89188782f357a479e1a5d49cc4f2cf7\", element=\"689eeb70-f2db-4da3-bbae-de5d1cb866c3\")>,\n",
       " <selenium.webdriver.remote.webelement.WebElement (session=\"a89188782f357a479e1a5d49cc4f2cf7\", element=\"a606b277-4b67-41ad-8b31-d0a2cbd6e7f7\")>,\n",
       " <selenium.webdriver.remote.webelement.WebElement (session=\"a89188782f357a479e1a5d49cc4f2cf7\", element=\"cd80edd6-8448-461c-b1c5-fd1542755574\")>,\n",
       " <selenium.webdriver.remote.webelement.WebElement (session=\"a89188782f357a479e1a5d49cc4f2cf7\", element=\"eb0b973a-b6d3-48cc-8456-67f650fd9612\")>,\n",
       " <selenium.webdriver.remote.webelement.WebElement (session=\"a89188782f357a479e1a5d49cc4f2cf7\", element=\"3dd41e6c-8439-4264-b275-b35355d309c8\")>,\n",
       " <selenium.webdriver.remote.webelement.WebElement (session=\"a89188782f357a479e1a5d49cc4f2cf7\", element=\"89d536f5-f10c-4390-9537-3922d7260213\")>,\n",
       " <selenium.webdriver.remote.webelement.WebElement (session=\"a89188782f357a479e1a5d49cc4f2cf7\", element=\"7eb9d6f4-d067-4dd4-9405-8a38ae223d01\")>,\n",
       " <selenium.webdriver.remote.webelement.WebElement (session=\"a89188782f357a479e1a5d49cc4f2cf7\", element=\"72775228-7761-4a37-b086-a46bb0505f52\")>,\n",
       " <selenium.webdriver.remote.webelement.WebElement (session=\"a89188782f357a479e1a5d49cc4f2cf7\", element=\"50988c89-b9d3-4837-b845-ad367a6b4587\")>,\n",
       " <selenium.webdriver.remote.webelement.WebElement (session=\"a89188782f357a479e1a5d49cc4f2cf7\", element=\"23609f26-f8f7-4767-86ad-850fa373eeed\")>,\n",
       " <selenium.webdriver.remote.webelement.WebElement (session=\"a89188782f357a479e1a5d49cc4f2cf7\", element=\"127d4c4e-7c0b-460a-a795-7204e7019cb0\")>,\n",
       " <selenium.webdriver.remote.webelement.WebElement (session=\"a89188782f357a479e1a5d49cc4f2cf7\", element=\"21d6d7e2-7a1c-47ef-9468-68e118bf9b93\")>,\n",
       " <selenium.webdriver.remote.webelement.WebElement (session=\"a89188782f357a479e1a5d49cc4f2cf7\", element=\"f8633297-1f9d-42c2-ab76-6f988eb51134\")>,\n",
       " <selenium.webdriver.remote.webelement.WebElement (session=\"a89188782f357a479e1a5d49cc4f2cf7\", element=\"a3827aad-789b-4f77-86d1-f862a5c2f6d2\")>,\n",
       " <selenium.webdriver.remote.webelement.WebElement (session=\"a89188782f357a479e1a5d49cc4f2cf7\", element=\"6bff98b6-1e99-4037-bda3-fca23549b84e\")>,\n",
       " <selenium.webdriver.remote.webelement.WebElement (session=\"a89188782f357a479e1a5d49cc4f2cf7\", element=\"8f1fb294-1339-429a-b120-aae249a16b45\")>,\n",
       " <selenium.webdriver.remote.webelement.WebElement (session=\"a89188782f357a479e1a5d49cc4f2cf7\", element=\"8a9d9e26-a6a3-4f0e-aed9-65ef20a499bf\")>,\n",
       " <selenium.webdriver.remote.webelement.WebElement (session=\"a89188782f357a479e1a5d49cc4f2cf7\", element=\"85f18b4e-cec6-46ac-a7ff-3bc8ef71893a\")>,\n",
       " <selenium.webdriver.remote.webelement.WebElement (session=\"a89188782f357a479e1a5d49cc4f2cf7\", element=\"0533f5af-5751-46de-9f5c-643bbd73a37d\")>,\n",
       " <selenium.webdriver.remote.webelement.WebElement (session=\"a89188782f357a479e1a5d49cc4f2cf7\", element=\"8dcc03ac-c744-4e6d-8518-6b7b87959235\")>,\n",
       " <selenium.webdriver.remote.webelement.WebElement (session=\"a89188782f357a479e1a5d49cc4f2cf7\", element=\"688b6a79-1cdb-400c-b129-f34f89ad02fa\")>,\n",
       " <selenium.webdriver.remote.webelement.WebElement (session=\"a89188782f357a479e1a5d49cc4f2cf7\", element=\"2a41e77f-4d51-45de-a1c4-9ab2ac88e878\")>,\n",
       " <selenium.webdriver.remote.webelement.WebElement (session=\"a89188782f357a479e1a5d49cc4f2cf7\", element=\"b4f31c44-69ef-43cd-ad28-699d42a48c91\")>,\n",
       " <selenium.webdriver.remote.webelement.WebElement (session=\"a89188782f357a479e1a5d49cc4f2cf7\", element=\"cf3ea7a3-b8de-4460-960e-962c08006de7\")>,\n",
       " <selenium.webdriver.remote.webelement.WebElement (session=\"a89188782f357a479e1a5d49cc4f2cf7\", element=\"7994b2ce-c877-45d9-966b-3bd6f037dbd9\")>,\n",
       " <selenium.webdriver.remote.webelement.WebElement (session=\"a89188782f357a479e1a5d49cc4f2cf7\", element=\"059935e8-380d-4430-aeb6-1e3791f931fd\")>,\n",
       " <selenium.webdriver.remote.webelement.WebElement (session=\"a89188782f357a479e1a5d49cc4f2cf7\", element=\"44c5c599-7a46-48be-9e4b-bcb98d767ba4\")>,\n",
       " <selenium.webdriver.remote.webelement.WebElement (session=\"a89188782f357a479e1a5d49cc4f2cf7\", element=\"74ede55a-2489-4df2-b6e0-25ad59e17127\")>,\n",
       " <selenium.webdriver.remote.webelement.WebElement (session=\"a89188782f357a479e1a5d49cc4f2cf7\", element=\"8df21c33-503b-410d-abaa-9692ee073121\")>,\n",
       " <selenium.webdriver.remote.webelement.WebElement (session=\"a89188782f357a479e1a5d49cc4f2cf7\", element=\"02fe86ed-d59e-40d4-8145-fe774456a8cc\")>,\n",
       " <selenium.webdriver.remote.webelement.WebElement (session=\"a89188782f357a479e1a5d49cc4f2cf7\", element=\"69c5f5f6-c3ff-43e0-a117-3503e24c3f8b\")>,\n",
       " <selenium.webdriver.remote.webelement.WebElement (session=\"a89188782f357a479e1a5d49cc4f2cf7\", element=\"de5ed033-0283-4833-b1bb-96edca824f41\")>,\n",
       " <selenium.webdriver.remote.webelement.WebElement (session=\"a89188782f357a479e1a5d49cc4f2cf7\", element=\"b0c88d99-7fa0-4c97-b6cb-d50c9ac16ed4\")>,\n",
       " <selenium.webdriver.remote.webelement.WebElement (session=\"a89188782f357a479e1a5d49cc4f2cf7\", element=\"95e861f5-87d1-4251-b3b0-81a4677977a9\")>,\n",
       " <selenium.webdriver.remote.webelement.WebElement (session=\"a89188782f357a479e1a5d49cc4f2cf7\", element=\"ec224864-78bd-47e5-8107-17f3c227864e\")>,\n",
       " <selenium.webdriver.remote.webelement.WebElement (session=\"a89188782f357a479e1a5d49cc4f2cf7\", element=\"b401ad6d-2907-438c-a8d1-df53eb914a7f\")>,\n",
       " <selenium.webdriver.remote.webelement.WebElement (session=\"a89188782f357a479e1a5d49cc4f2cf7\", element=\"8d8c1b3b-8d46-4d7c-90ea-639ea86ee3df\")>,\n",
       " <selenium.webdriver.remote.webelement.WebElement (session=\"a89188782f357a479e1a5d49cc4f2cf7\", element=\"9cb37adc-e18e-40fc-9e16-03e4fbf6c415\")>,\n",
       " <selenium.webdriver.remote.webelement.WebElement (session=\"a89188782f357a479e1a5d49cc4f2cf7\", element=\"726e905f-2931-4502-8926-428d634eb78e\")>,\n",
       " <selenium.webdriver.remote.webelement.WebElement (session=\"a89188782f357a479e1a5d49cc4f2cf7\", element=\"884f0b9c-664a-415c-a2e5-21b74cadfbb8\")>,\n",
       " <selenium.webdriver.remote.webelement.WebElement (session=\"a89188782f357a479e1a5d49cc4f2cf7\", element=\"3b826a04-51f4-4cac-afd8-7d48b59b5209\")>,\n",
       " <selenium.webdriver.remote.webelement.WebElement (session=\"a89188782f357a479e1a5d49cc4f2cf7\", element=\"acf4c854-70e0-4f97-9c59-63158418dc04\")>,\n",
       " <selenium.webdriver.remote.webelement.WebElement (session=\"a89188782f357a479e1a5d49cc4f2cf7\", element=\"0acb871c-55f5-4345-b4b6-a90e86c81997\")>,\n",
       " <selenium.webdriver.remote.webelement.WebElement (session=\"a89188782f357a479e1a5d49cc4f2cf7\", element=\"ee794453-1d7d-4e1f-af78-774a4e3fb9d9\")>,\n",
       " <selenium.webdriver.remote.webelement.WebElement (session=\"a89188782f357a479e1a5d49cc4f2cf7\", element=\"2643ed17-1ca0-4ded-8843-61423db17245\")>,\n",
       " <selenium.webdriver.remote.webelement.WebElement (session=\"a89188782f357a479e1a5d49cc4f2cf7\", element=\"edf62633-ab8f-4bae-85d3-623d8a5ef1ff\")>,\n",
       " <selenium.webdriver.remote.webelement.WebElement (session=\"a89188782f357a479e1a5d49cc4f2cf7\", element=\"cdd038e9-83b0-4ae3-882a-f9dba97397bf\")>,\n",
       " <selenium.webdriver.remote.webelement.WebElement (session=\"a89188782f357a479e1a5d49cc4f2cf7\", element=\"f1039529-c747-4ecb-b82f-add786a03157\")>,\n",
       " <selenium.webdriver.remote.webelement.WebElement (session=\"a89188782f357a479e1a5d49cc4f2cf7\", element=\"17dc9e03-c05e-4e8f-bba3-499da8440e54\")>,\n",
       " <selenium.webdriver.remote.webelement.WebElement (session=\"a89188782f357a479e1a5d49cc4f2cf7\", element=\"2ef4e17f-82e9-47e8-b151-123775ae8f2d\")>,\n",
       " <selenium.webdriver.remote.webelement.WebElement (session=\"a89188782f357a479e1a5d49cc4f2cf7\", element=\"ffe1e779-31fa-4e7b-803a-bb59c158f65b\")>,\n",
       " <selenium.webdriver.remote.webelement.WebElement (session=\"a89188782f357a479e1a5d49cc4f2cf7\", element=\"2de76aed-44a7-4f19-8f10-ba4f2b48f90f\")>,\n",
       " <selenium.webdriver.remote.webelement.WebElement (session=\"a89188782f357a479e1a5d49cc4f2cf7\", element=\"dd8a2fec-6ef0-4484-b279-833fe4af7dad\")>,\n",
       " <selenium.webdriver.remote.webelement.WebElement (session=\"a89188782f357a479e1a5d49cc4f2cf7\", element=\"efdc9bcd-05d5-457f-869a-1644295e46a0\")>,\n",
       " <selenium.webdriver.remote.webelement.WebElement (session=\"a89188782f357a479e1a5d49cc4f2cf7\", element=\"f647d9ca-25b8-4d94-b47a-5f1d210c5483\")>,\n",
       " <selenium.webdriver.remote.webelement.WebElement (session=\"a89188782f357a479e1a5d49cc4f2cf7\", element=\"70e55613-8e4a-4520-bcd7-3777970ea771\")>,\n",
       " <selenium.webdriver.remote.webelement.WebElement (session=\"a89188782f357a479e1a5d49cc4f2cf7\", element=\"8ff731b0-f215-4a03-93c8-15bfed6bfa86\")>,\n",
       " <selenium.webdriver.remote.webelement.WebElement (session=\"a89188782f357a479e1a5d49cc4f2cf7\", element=\"6e3315e5-214a-4ca9-84f1-9652e7481345\")>,\n",
       " <selenium.webdriver.remote.webelement.WebElement (session=\"a89188782f357a479e1a5d49cc4f2cf7\", element=\"dd02266b-4693-402e-ba84-e334602e44b9\")>,\n",
       " <selenium.webdriver.remote.webelement.WebElement (session=\"a89188782f357a479e1a5d49cc4f2cf7\", element=\"e3609638-56a2-46bd-92e9-0e31a87c0b50\")>]"
      ]
     },
     "execution_count": 72,
     "metadata": {},
     "output_type": "execute_result"
    }
   ],
   "source": [
    "article_raw"
   ]
  },
  {
   "cell_type": "code",
   "execution_count": 77,
   "metadata": {},
   "outputs": [],
   "source": [
    "a = []"
   ]
  },
  {
   "cell_type": "code",
   "execution_count": 78,
   "metadata": {},
   "outputs": [],
   "source": [
    "a.append(len(article_raw))"
   ]
  },
  {
   "cell_type": "code",
   "execution_count": 79,
   "metadata": {},
   "outputs": [
    {
     "data": {
      "text/plain": [
       "[180]"
      ]
     },
     "execution_count": 79,
     "metadata": {},
     "output_type": "execute_result"
    }
   ],
   "source": [
    "a"
   ]
  },
  {
   "cell_type": "code",
   "execution_count": null,
   "metadata": {},
   "outputs": [],
   "source": []
  },
  {
   "cell_type": "code",
   "execution_count": 86,
   "metadata": {
    "id": "lS4BWdhY-kvr",
    "outputId": "325f828f-c25d-46e4-89d2-df3cdf39dc3d"
   },
   "outputs": [
    {
     "data": {
      "text/plain": [
       "'https://blog.naver.com/ranboy?Redirect=Log&logNo=222576269453'"
      ]
     },
     "execution_count": 86,
     "metadata": {},
     "output_type": "execute_result"
    }
   ],
   "source": [
    "article_raw[0].get_attribute('href')"
   ]
  },
  {
   "cell_type": "code",
   "execution_count": 87,
   "metadata": {
    "id": "c4oJ0A0S-kvs",
    "outputId": "bd3015c2-0b1e-472e-f2a5-1df89f81cf67",
    "scrolled": true
   },
   "outputs": [
    {
     "name": "stdout",
     "output_type": "stream",
     "text": [
      "무조건인 역삼 맛집 모음\n",
      "만족스러운 역삼 맛집 리스트\n",
      "[역삼 맛집] 센터필드 차알 역삼점, 역시나 맛은 실망시키지...\n",
      "역삼맛집 도야짬뽕 맛있어요\n",
      "눈과 입이 즐거운 역삼 맛집 리스트\n",
      "풍요로웠던 역삼 맛집 리스트\n",
      "중독적인 역삼역 맛집 모음\n",
      "역삼맛집 소이연남! 점심 뭐먹지? 태국음식 리뷰\n",
      "[역삼 맛집] 정갈한 한식 반상이 있는 한식 다이닝, 수라선\n",
      "[역삼] 파스타맛집 그리고 치즈팩토리 케이크 디스팅트\n",
      "센터필드 맛집 : 역삼 중식당 차알 다녀오다!!!!\n",
      "역삼 맛집, 세청집(냉살치살)\n",
      "강남 / 역삼 맛집 _ 핫한 곱도리탕 맛집 : 대낚식당 후기 :D\n",
      "칭찬하는 역삼역 맛집 베스트\n",
      "[강남 역삼맛집] 풍천민물장어\n",
      "[역삼맛집] 쏭타이 - 모든 메뉴가 맛있는 타이음식점\n",
      "트라가 Traga, 강남 스페인요리 역삼역 맛집(가성비갑)\n",
      "역삼역 데이트 스페인음식 & 맛집 베스트 5\n",
      "강남 역삼 맛집 '빌즈'에서 먹은 브런치\n",
      "[역삼맛집/역삼술집] 맵달 신동궁감자탕 역삼본점\n",
      "테이크아웃으로 즐기는 킹크랩,랍스타 - 역삼 대게 맛집...\n",
      "역삼역 맛집, 강남 한정식-봉우리한정식 역삼본점(셰프스폐셜...\n",
      "역삼 피자 파스타 맛집 지아니스나폴리 역삼에서 점심회식 추천!\n",
      "반해버린 역삼 맛집 모음 feat 용용선생\n",
      "회식장소로 제격인 역삼 돼지갈비 맛집\n",
      "역삼 센터필드 맛집, 퓨전 중식당 차알 Cha'R 센터필드점 방문...\n",
      "강남/역삼 맛집 _ 디트로이트 피자 : 모터시티바이매니멀\n",
      "어메이징 역삼 맛집 리스트 5\n",
      "역삼 꼼장어맛집 박가화로 산꼼장어와 냉삼 강남찐맛집\n",
      "[강남/역삼 맛집] 유명한 미나리 부대찌개 맛집, 대우부대찌개...\n",
      "회식장소로 좋은 역삼역 맛집 갈비다움 추천!\n",
      "[서울 여행/역삼] 연말 송년회... 대게파티 역삼맛집 <묵호항>\n",
      "역삼 고기집 돼지갈비맛집은 여기!\n",
      "역삼역 해산물 맛집 역삼회식 비진도해물뚝배기\n",
      "역삼 센터필드 맛집 js가든 고급 식당에서 중식 먹고 온 후기\n",
      "역삼 선릉 마라탕 마라샹궈 맛집 한성마라탕 최고!\n",
      "[서울맛집/역삼 맛집] 강남 스페인요리 맛집 트라가\n",
      "돼지갈비 맛집 - 갈비삼대 강남역삼점 방문 후기, 역삼 맛집...\n",
      "역삼맛집 세븐브릭스키친&펍 : 낮에는 파스타 밤에는 맥주먹기...\n",
      "성공적인 역삼역 맛집 공유\n",
      "역삼 맛집 : 역삼 센터필드 지하2층 _ 리조또맛집 '우에노421'\n",
      "[역삼역 맛집/역삼역 이자카야] 역삼역 일식 추천 진가와...\n",
      "역삼 맛집 남포동직화쭈꾸미\n",
      "[역삼역 맛집] 우럭젓국 - 이색메뉴 향토음식 그리고 아주...\n",
      "[역삼맛집] 역삼 브런치 맛집 :: 카페 413 프로젝트\n",
      "특이한 역삼 맛집 리스트\n",
      "295. [역삼] 역삼동 맛집 진가와 한국본점\n",
      "역삼 고기맛집 화덕고깃간\n",
      "오랜만에 스페인 음식 뿌시러 '트라가'(역삼 맛집/강남 맛집)\n",
      "역삼역 맛집 갈비다움 역삼본점.속도 편하고 입안도 개운한...\n",
      "역삼역 점심 만두국 칼국수 만두전골 맛집 서울집!\n",
      "역삼역 맛집 \"더뭉티기\"에서 고급 육사시미랑 선지해장국♡\n",
      "[서울강남]역삼역소고기 맛집 우시야 (고기구워주는 고깃집...\n",
      "역삼 맛집 : 강남 스페인요리 전문점 트라가\n",
      "역삼역 소고기 양념갈비 맛집 유미식당\n",
      "역삼역 횟집, 마린3스토리(역삼 맛집)\n",
      "아그라 :: 인도식 카레 전문점인 역삼 맛집 in GFC 점\n",
      "서울 역삼맛집 -예당어죽 /어죽 그리고 매운탕\n",
      "1022 강남/역삼 이탈리아 가정식 맛집 할스(Hearth) ⑥\n",
      "역삼맛집 | 갈비삼대... 돼지갈비 맛집 (역삼 고기집, 강남백반)\n",
      "통닭 호프 :: 옛날 치킨 맛집으로 유명한 역삼 맛집 in 역삼역\n",
      "[역삼동참치맛집/역삼역참치맛집] 역삼동참치\n",
      "[역삼 센터필드]삼백돈돈가츠 - 치즈돈가츠맛집\n",
      "[먹로그] 서울 강남/역삼 브런치 맛집, 빌즈 강남\n",
      "[역삼 센터필드 맛집] 차알 (Cha R) - 센터필드 미국식 중식당\n",
      "역삼맛집) 불이아역삼 훠궈맛집 분위기 좋은 중국레스토랑\n",
      "[역삼맛집 강남 곱] 맛있는 한우곱창구이가 있는 곳\n",
      "[강남 맛집] 스페인요리 맛집, 역삼 트라가\n",
      "역삼역맛집 강남제비 얼마만에 와보는가\n",
      "역삼역맛집 '우도일식'에서 보리굴비특정식 맛있게 먹고 왔어요!\n",
      "강남 역삼역 피자 파스타맛집 이탈리안레스토랑 지아니스나폴리\n",
      "[푸에르코/역삼] 이베리코 돼지 전문 맛집\n",
      "역삼역 맛집 라비옥 평일런치는 훌륭해\n",
      "역삼역 맛집 : 강남 브런치 잠봉뵈르 맛집, 호샤퀴테리에\n",
      "[역삼/민들레떡볶이] 민들레떡볶이 :: 역삼역 떡볶이 맛집 추천\n",
      "치킨 공식 :: 맥주 마시고 싶을 때 가는 역삼 나초 맛집 in 역삼...\n",
      "역삼 맛집 비진도 해물뚝배기 점심 메뉴 추천\n",
      "[강남/역삼] 산지직송 싱싱한 막회 맛집. 초회장집.\n",
      "센터필드 역삼 맛집, 미미담 역삼점 방문 후기!\n",
      "역삼 맛집 강남 스페인요리 전문 트라가\n",
      "역삼배달맛집 쌀국수집을하려던소바집\n",
      "역삼 카페 커피프릭스 하이틴 맛집 분위기\n",
      "[역삼동 맛집/역삼 맛집/역삼역 맛집/언주로 맛집] 소이연남...\n",
      "역삼 나이스샤워, 언제나 줄서는 맛집인데...글쎄요...\n",
      "[역삼 맛집] 송추가마골인어반 강남점 - 회식, 가족모임 모두...\n",
      "[서울/역삼역맛집] 칠성집\n",
      "역삼 맛집 짬뽕지존에서 먹은 점심\n",
      "역삼역술집 센민이자카야 강남이자카야 분위기맛집!\n",
      "역삼맛집 역삼동맛집 보스켓역삼 브런치카페추천\n",
      "역삼맛집 역삼역 백반 반찬한가득 맛있는 참맛집 점심\n",
      "역삼 지아니스나폴리_ 역삼맛집, 화덕피자맛집, 파스타맛집\n",
      "[강남역삼 돼지갈비 맛집] 갈비삼대 역삼동 맛집에서 연말 모임...\n",
      "역삼역 맛집 :: 진가와 토시오 장인의 면을 직접 맛볼 수 있는...\n",
      "[역삼/맛집]레드마블/고기도 샤브샤브도 굿!\n",
      "역삼역 맛집 / 역삼역 회식장소 > 진가와 한국본점\n",
      "분위기에 취하고 맛에 취하는 역삼술집 역삼맛집 수에뉴\n",
      "[역삼/크리에잇쿠키] 크리에잇쿠키 :: 역삼역 쿠키맛집, 분위기...\n",
      "[호돌이반점/역삼역] 요리와 식사가 모두 훌륭한 중식맛집\n",
      "역삼 맛집 lg아트센터 근처 가성비 맛집 추천 타이 음식이...\n",
      "마늘노포 224 - 강남역맛집 역삼맛집 소바맛집 - 오무라안\n",
      "[강남/역삼맛집] 트렌디하고 힙한 족발 맛을아는 청년들\n",
      "역삼 점심 맛집 기운나는 고기집 바우한우!\n",
      "강남 갈비탕 맛집 - 역삼역 근처 '갈비다움'\n",
      "역삼 중식당 주차가능 맛집 차알\n",
      "역삼역 맛집 더뭉티기 인생 육사시미!\n",
      "역삼역 맛집, 가성비 좋은 깔끔한 백반정식, 전주식당\n",
      "역삼역 맛집 호샤퀴테리에 에서 강남 브런치 즐기기!\n",
      "강경불고기 역삼(강남)맛집\n",
      "반해버린 역삼역 맛집 리스트\n",
      "역삼역 고기집 뼈삼겹이 맛있는 이영자 맛집 돈육지존\n",
      "역삼 맛집 호돌이떡볶이에서 갓성비 즉떡먹고 배달 예약한 후기\n",
      "[역삼맛집] 마늘이 푸짐하게... 종로계림닭도리탕원조 역삼점\n",
      "[역삼맛집] 대우부대찌개\n",
      "역삼역미용실! 뿌리볼륨펌 맛집 수이밍\n",
      "역삼역 맛집 스시마카세 예약필수!\n",
      "[역삼] 강남역 소주가 생각나는 살치살 냉삼맛집 세청집\n",
      "11. 진가와 / 역삼 진가와 본점 / 우동맛집 진가와\n",
      "[역삼 맛집/강남 맛집] 내돈내산 초벌 삼겹살 맛집 연탄마을...\n",
      "[서울]강남보물섬 역삼역 찐맛집 내돈내산!!!\n",
      "[강남_역삼]역삼동직장인맛집 에서 가성비있게 7분김치찌개...\n",
      "[역삼] 진대감 - 차돌삼합 맛집\n",
      "강남 태국음식, 역삼역 태국 현지인 맛집 타이홀릭\n",
      "역삼역 맛집 회식장소로 좋은 진가와\n",
      "역삼역 맛집 양도 푸짐한 '서울집' 칼만두국\n",
      "구역삼세무서맛집 마린3스토리 해물포차 해산물맛집이에요!\n",
      "역삼역 이영자 맛집 방탄맛집 돝고기506\n",
      "역삼맛집 GPC몰 안에 있는 사보텐\n",
      "역삼역 횟집 마린3스토리\n",
      "[강남맛집/역삼맛집] 황해도 왕족발 찹쌀순대_순대국&굴국밥\n",
      "역삼동 맛집 봉우리한정식 역삼본점; 엄마랑 식객정식 런치...\n",
      "[역삼소고기] 온돌 더프라임 :: 소고기 맛집 강남회식 장소 추천\n",
      "지아니스나폴리 역삼 파스타, 화덕피자 맛집\n",
      "넘사였던 역삼역 맛집 소개\n",
      "역삼역맛집 바스버거에서 먹은 수제버거\n",
      "역삼 센터필드 점심 맛집, 세련된 중식 차알 메뉴추천!\n",
      "낮에는 감성카페 밤에는 감성bar 역삼술집 역삼맛집 좋은꿈...\n",
      "강남역삼 돼지갈비 맛집 갈비삼대 찐맛집 인정!\n",
      "강남역삼 배달맛집 ❤ 꽃보다 월남쌈&카페 맛있는 다이어트\n",
      "역삼 선릉 커피 맛집 카페 범표원두 역삼점 (ft. 드립커피...\n",
      "직딩의 고독한 미식가 스핀오프 편 ::역삼역 맛집, 카페 추천\n",
      "역삼 맛집 신동궁감자탕뼈숯불구이\n",
      "[맛집리뷰]강남회식 온돌 더프라임 강남점_역삼소고기맛집인정\n",
      "[서울/강남] 강남 역삼 맛집 삼백돈 돈가츠 리뷰\n",
      "역삼 참맛집 : 역삼동 배달맛집 백반맛집 식사 후기\n",
      "<강남 역삼 맛집 추천> 화덕고깃간역삼본점 방문후기\n",
      "역삼 맛집 배달로도 먹을 수 있는 호돌이떡볶이\n",
      "[역삼 센터필드 비빔밥/조선팰리스 강남 맛집] '한국집'에 간...\n",
      "직장인 점심 책임지는 '참맛집' / 가정식 스타일의 역삼맛집\n",
      "참치맛집 마구로센 역삼 & 곱창전골맛집 강남진해장\n",
      "역삼 본점 / 강남 이탈리안레스토랑 화덕피자 맛집\n",
      "역삼역참치맛집 '역삼동참치' 살살 녹는 혼마구로!\n",
      "[역삼맛집] JS가든 역삼 센터필드점\n",
      "급이다른 역삼역 맛집 모음\n",
      "[역삼맛집] 강남해물찜 아구찜 맛집 화산아구찜 / 도곡동 닭강정...\n",
      "역삼맛집 라비옥 갈비맛집\n",
      "역삼맛집 냉삼맛집 세청집 :)\n",
      "이영자맛집 역삼 고기집 돈육지존으로 가자!\n",
      "역삼역 점심 한 끼 해결해 주는 역삼맛집 역삼역 백반 참맛집\n",
      "[역삼역맛집] <담뿍>식당 된장찌개와 고기 맛집 후기!!\n",
      "역삼동 중식 맛집, 역삼역 회식/단체모임 추천 [연화산 역삼점]\n",
      "[서울/강남] 역삼맛집 역삼술집 수에뉴\n",
      "역삼맛집/ 역삼역 데이트 하기 좋은 분위기 맛집 '빌즈(bills)'\n",
      "역삼역 한식 맛집모음❤ 송화 (김치찜) / 강경불고기 / 온돌...\n",
      "[역삼역] 쿠키맛집 ★원투잇★ 인생맛집인데 눈물흘리며...\n",
      "역삼역맛집 홍낭자와김도령 키토김밥이 유명한곳\n",
      "[싸다리 순살&분식 ] 역삼배달맛집 | 역삼역맛집\n",
      "강남구 역삼동/ 역삼맛집! 역삼역 백반 잘 하는 참맛집!\n",
      "역삼맛집 연예인들도 자주오는 <참맛집> 제육볶음백반 먹었어요\n",
      "역삼역맛집 20년 전통의 우도보리굴비\n",
      "[강남/역삼] 역삼 중국식 샤브샤브 훠궈 맛집추천 불이아\n",
      "역삼역 맛집 남포동직화쭈꾸미 불향 제대로네\n",
      "역삼 떡볶이맛집 삼진어묵당 점심 메뉴 추천\n",
      "역삼삼겹살 맛집, 삼겹살에 관자까지! 깔끔한 고깃집, 노오릇\n",
      "선릉 역삼 맛집 추천 맑은 국물이 특징인 50년 전통 원조...\n",
      "역삼 도시락 맛집 푸짐하네\n",
      "역삼 맛집, 통영집\n",
      "깍두기볶음밥 :: 갈비다움 역삼본점 역삼역 맛집 역삼동 맛집\n",
      "역삼, 선릉 직장인 점심 추천! 추운 날엔 이북식 만두국 맛집...\n",
      "역삼역 백반 참맛집 에서 역삼맛집 점심 혼밥하다.\n",
      "역삼동 맛집 / 역삼 고기집 세겹에서 삼겹살 갈매기살 목살 흡입\n",
      "\n",
      "url갯수:  180\n",
      "title갯수:  180\n"
     ]
    }
   ],
   "source": [
    "# 크롤링한 url 정제 시작\n",
    "for article in article_raw:\n",
    "    url = article.get_attribute('href')\n",
    "    url_list.append(url)\n",
    "time.sleep(1)\n",
    "\n",
    "# 제목 크롤링 시작\n",
    "for article in article_raw:\n",
    "    title = article.text\n",
    "    title_list.append(title)\n",
    "\n",
    "    print(title)\n",
    "\n",
    "print(\"\")\n",
    "print('url갯수: ', len(url_list))\n",
    "print('title갯수: ', len(title_list))"
   ]
  },
  {
   "cell_type": "code",
   "execution_count": 88,
   "metadata": {
    "id": "R2yjlm_5-kvs",
    "outputId": "efd2bab6-67e5-4d04-d826-4f878de28658"
   },
   "outputs": [
    {
     "data": {
      "text/plain": [
       "['https://blog.naver.com/ranboy?Redirect=Log&logNo=222576269453',\n",
       " 'https://blog.naver.com/kikijayoung?Redirect=Log&logNo=222526705536',\n",
       " 'https://blog.naver.com/sh_road?Redirect=Log&logNo=222583401145',\n",
       " 'https://blog.naver.com/lovely-oh?Redirect=Log&logNo=222607246169',\n",
       " 'https://blog.naver.com/qufzhd12?Redirect=Log&logNo=222561950718',\n",
       " 'https://blog.naver.com/mephisto69?Redirect=Log&logNo=222571071136',\n",
       " 'https://blog.naver.com/zenartist55?Redirect=Log&logNo=222601848412',\n",
       " 'https://blog.naver.com/kba7628?Redirect=Log&logNo=222600741330',\n",
       " 'https://blog.naver.com/dlwodus92?Redirect=Log&logNo=222562510747',\n",
       " 'https://blog.naver.com/domhm?Redirect=Log&logNo=222605517774',\n",
       " 'https://blog.naver.com/sks5671?Redirect=Log&logNo=222574170262',\n",
       " 'https://blog.naver.com/yscsm2?Redirect=Log&logNo=222565618730',\n",
       " 'https://blog.naver.com/naye517?Redirect=Log&logNo=222532835639',\n",
       " 'https://blog.naver.com/som_a621?Redirect=Log&logNo=222590037073',\n",
       " 'https://blog.naver.com/nancho58?Redirect=Log&logNo=222589811546',\n",
       " 'https://blog.naver.com/sulbe3000?Redirect=Log&logNo=222595362498',\n",
       " 'https://blog.naver.com/solepersona?Redirect=Log&logNo=222530273172',\n",
       " 'https://blog.naver.com/nichaejin?Redirect=Log&logNo=222564411104',\n",
       " 'https://blog.naver.com/armother?Redirect=Log&logNo=222532691111',\n",
       " 'https://blog.naver.com/st0083?Redirect=Log&logNo=222603408920',\n",
       " 'https://blog.naver.com/mindmoon?Redirect=Log&logNo=222605126161',\n",
       " 'https://blog.naver.com/parkja09?Redirect=Log&logNo=222600967633',\n",
       " 'https://blog.naver.com/mlnyang?Redirect=Log&logNo=222583587514',\n",
       " 'https://blog.naver.com/noangelnim?Redirect=Log&logNo=222585880108',\n",
       " 'https://blog.naver.com/epguswl?Redirect=Log&logNo=222606133119',\n",
       " 'https://blog.naver.com/now1429?Redirect=Log&logNo=222526016142',\n",
       " 'https://blog.naver.com/naye517?Redirect=Log&logNo=222552479576',\n",
       " 'https://blog.naver.com/8full?Redirect=Log&logNo=222535829352',\n",
       " 'https://blog.naver.com/irenesumi?Redirect=Log&logNo=222597991906',\n",
       " 'https://blog.naver.com/skgus1231?Redirect=Log&logNo=222591262217',\n",
       " 'https://blog.naver.com/lsj28720?Redirect=Log&logNo=222581227910',\n",
       " 'https://blog.naver.com/kecksa22?Redirect=Log&logNo=222594046842',\n",
       " 'https://blog.naver.com/dkssud2623?Redirect=Log&logNo=222605105713',\n",
       " 'https://blog.naver.com/sunna434?Redirect=Log&logNo=222595682893',\n",
       " 'https://blog.naver.com/goqkfkrlsu93?Redirect=Log&logNo=222570364647',\n",
       " 'https://blog.naver.com/mlnyang?Redirect=Log&logNo=222575135722',\n",
       " 'https://blog.naver.com/sunkyung90?Redirect=Log&logNo=222575755579',\n",
       " 'https://blog.naver.com/yhjmania?Redirect=Log&logNo=222601337472',\n",
       " 'https://blog.naver.com/kshjbe?Redirect=Log&logNo=222562061000',\n",
       " 'https://blog.naver.com/likz03?Redirect=Log&logNo=222606353018',\n",
       " 'https://blog.naver.com/naye517?Redirect=Log&logNo=222554623531',\n",
       " 'https://blog.naver.com/eoudy?Redirect=Log&logNo=222539825125',\n",
       " 'https://blog.naver.com/bluecanada?Redirect=Log&logNo=222602205862',\n",
       " 'https://blog.naver.com/sielle83?Redirect=Log&logNo=222567878058',\n",
       " 'https://blog.naver.com/dnql0404?Redirect=Log&logNo=222545174319',\n",
       " 'https://blog.naver.com/jbjoo0537?Redirect=Log&logNo=222588054943',\n",
       " 'https://blog.naver.com/silverg0218?Redirect=Log&logNo=222586470831',\n",
       " 'https://blog.naver.com/haesun2104?Redirect=Log&logNo=222584494834',\n",
       " 'https://blog.naver.com/kma0016?Redirect=Log&logNo=222575787624',\n",
       " 'https://blog.naver.com/dlrwnsaka?Redirect=Log&logNo=222605355306',\n",
       " 'https://blog.naver.com/mlnyang?Redirect=Log&logNo=222563833283',\n",
       " 'https://blog.naver.com/hyejinks2?Redirect=Log&logNo=222602407246',\n",
       " 'https://blog.naver.com/songjiheee?Redirect=Log&logNo=222603833630',\n",
       " 'https://blog.naver.com/qptcjstk6?Redirect=Log&logNo=222520852107',\n",
       " 'https://blog.naver.com/tjdahdo?Redirect=Log&logNo=222545781778',\n",
       " 'https://blog.naver.com/hi_jubilee?Redirect=Log&logNo=222601781530',\n",
       " 'https://blog.naver.com/gpwl4444?Redirect=Log&logNo=222593422640',\n",
       " 'https://blog.naver.com/pinkbomi?Redirect=Log&logNo=222570774850',\n",
       " 'https://blog.naver.com/p_radn?Redirect=Log&logNo=222563436830',\n",
       " 'https://blog.naver.com/lolo5623?Redirect=Log&logNo=222606528590',\n",
       " 'https://blog.naver.com/gpwl4444?Redirect=Log&logNo=222587216643',\n",
       " 'https://blog.naver.com/st0083?Redirect=Log&logNo=222549462491',\n",
       " 'https://blog.naver.com/ssjecss?Redirect=Log&logNo=222596590078',\n",
       " 'https://blog.naver.com/youjungkkk?Redirect=Log&logNo=222606091069',\n",
       " 'https://blog.naver.com/lemonlime2?Redirect=Log&logNo=222540089894',\n",
       " 'https://blog.naver.com/ujine86?Redirect=Log&logNo=222570074140',\n",
       " 'https://blog.naver.com/ghdrhdwnh?Redirect=Log&logNo=222591491354',\n",
       " 'https://blog.naver.com/hoyhoy901?Redirect=Log&logNo=222530313065',\n",
       " 'https://blog.naver.com/theuhakus?Redirect=Log&logNo=222601330000',\n",
       " 'https://blog.naver.com/dschoi4080?Redirect=Log&logNo=222542585403',\n",
       " 'https://blog.naver.com/graloraa?Redirect=Log&logNo=222543475255',\n",
       " 'https://blog.naver.com/dkjang86?Redirect=Log&logNo=222579085515',\n",
       " 'https://blog.naver.com/theuhakus?Redirect=Log&logNo=222543175756',\n",
       " 'https://blog.naver.com/jyong415?Redirect=Log&logNo=222605798179',\n",
       " 'https://blog.naver.com/b_h24?Redirect=Log&logNo=222606645008',\n",
       " 'https://blog.naver.com/gpwl4444?Redirect=Log&logNo=222579131336',\n",
       " 'https://blog.naver.com/yy_ambler?Redirect=Log&logNo=222548251354',\n",
       " 'https://blog.naver.com/babutingyi84?Redirect=Log&logNo=222547316729',\n",
       " 'https://blog.naver.com/now1429?Redirect=Log&logNo=222538478385',\n",
       " 'https://blog.naver.com/chosukc?Redirect=Log&logNo=222557644969',\n",
       " 'https://blog.naver.com/ccamjigi77?Redirect=Log&logNo=222562609894',\n",
       " 'https://blog.naver.com/jeecool0?Redirect=Log&logNo=222590060272',\n",
       " 'https://blog.naver.com/myul?Redirect=Log&logNo=222588335255',\n",
       " 'https://blog.naver.com/3relab?Redirect=Log&logNo=222594896774',\n",
       " 'https://blog.naver.com/manahata?Redirect=Log&logNo=222578137352',\n",
       " 'https://blog.naver.com/woi100456?Redirect=Log&logNo=222523662670',\n",
       " 'https://blog.naver.com/dljaxsqeaz?Redirect=Log&logNo=222546532747',\n",
       " 'https://blog.naver.com/anauda_?Redirect=Log&logNo=222601413354',\n",
       " 'https://blog.naver.com/quvit80?Redirect=Log&logNo=222595681463',\n",
       " 'https://blog.naver.com/sailor3?Redirect=Log&logNo=222598911604',\n",
       " 'https://blog.naver.com/smy827?Redirect=Log&logNo=222542470821',\n",
       " 'https://blog.naver.com/lizela87?Redirect=Log&logNo=222577089315',\n",
       " 'https://blog.naver.com/sebini79?Redirect=Log&logNo=222542712989',\n",
       " 'https://blog.naver.com/c1052kh?Redirect=Log&logNo=222606615768',\n",
       " 'https://blog.naver.com/hjmama2?Redirect=Log&logNo=222594046279',\n",
       " 'https://blog.naver.com/dodomea?Redirect=Log&logNo=222605524502',\n",
       " 'https://blog.naver.com/b_h24?Redirect=Log&logNo=222607386972',\n",
       " 'https://blog.naver.com/dkjang86?Redirect=Log&logNo=222594234599',\n",
       " 'https://blog.naver.com/sosowaharu?Redirect=Log&logNo=222587003689',\n",
       " 'https://blog.daum.net/djmanul/5857927',\n",
       " 'https://blog.naver.com/syaysa1?Redirect=Log&logNo=222606407764',\n",
       " 'https://blog.naver.com/lov2kang?Redirect=Log&logNo=222543335481',\n",
       " 'https://blog.naver.com/tastytravel?Redirect=Log&logNo=222558858271',\n",
       " 'https://blog.naver.com/tjdahdo?Redirect=Log&logNo=222586270336',\n",
       " 'https://blog.naver.com/ccamjigi77?Redirect=Log&logNo=222592751350',\n",
       " 'https://blog.naver.com/hyeyoon1026?Redirect=Log&logNo=222599906600',\n",
       " 'https://blog.naver.com/kmy000403?Redirect=Log&logNo=222600411014',\n",
       " 'https://blog.naver.com/rosemary1009?Redirect=Log&logNo=222577392896',\n",
       " 'https://blog.naver.com/aaaet13?Redirect=Log&logNo=222595967819',\n",
       " 'https://blog.naver.com/darkyoon85?Redirect=Log&logNo=222594774651',\n",
       " 'https://blog.naver.com/somvly_g1?Redirect=Log&logNo=222602232877',\n",
       " 'https://blog.naver.com/ajirengee?Redirect=Log&logNo=222600408261',\n",
       " 'https://blog.naver.com/sydneylovesyou?Redirect=Log&logNo=222606158226',\n",
       " 'https://blog.naver.com/dkssud2623?Redirect=Log&logNo=222592679497',\n",
       " 'https://blog.naver.com/ccamjigi77?Redirect=Log&logNo=222586129940',\n",
       " 'https://blog.naver.com/kiswns?Redirect=Log&logNo=222607100115',\n",
       " 'https://blog.naver.com/adias2?Redirect=Log&logNo=222605998274',\n",
       " 'https://blog.naver.com/opmiuo?Redirect=Log&logNo=222606117311',\n",
       " 'https://blog.naver.com/chlqudeh123?Redirect=Log&logNo=222601531728',\n",
       " 'https://blog.naver.com/creationjo?Redirect=Log&logNo=222605573582',\n",
       " 'https://blog.naver.com/qwer0124?Redirect=Log&logNo=222587737628',\n",
       " 'https://blog.naver.com/bujaguni?Redirect=Log&logNo=222579034448',\n",
       " 'https://blog.naver.com/violetdevil3?Redirect=Log&logNo=222578588494',\n",
       " 'https://blog.naver.com/theuhakus?Redirect=Log&logNo=222564456277',\n",
       " 'https://blog.naver.com/dkssud2623?Redirect=Log&logNo=222554413821',\n",
       " 'https://blog.naver.com/kangsm1998?Redirect=Log&logNo=222561218255',\n",
       " 'https://blog.naver.com/jijaeo3735?Redirect=Log&logNo=222591425828',\n",
       " 'https://blog.naver.com/jsj9571?Redirect=Log&logNo=222604392697',\n",
       " 'https://blog.naver.com/woosy0225?Redirect=Log&logNo=222605871010',\n",
       " 'https://blog.naver.com/fkflarn?Redirect=Log&logNo=222577169865',\n",
       " 'https://blog.naver.com/chloe5616?Redirect=Log&logNo=222607152370',\n",
       " 'https://blog.naver.com/vivaceren?Redirect=Log&logNo=222603762420',\n",
       " 'https://blog.naver.com/mfb5643?Redirect=Log&logNo=222572383945',\n",
       " 'https://blog.naver.com/dljaxsqeaz?Redirect=Log&logNo=222540954082',\n",
       " 'https://blog.naver.com/mlnyang?Redirect=Log&logNo=222540290708',\n",
       " 'https://blog.naver.com/everewder83?Redirect=Log&logNo=222606820692',\n",
       " 'https://blog.naver.com/hajdm?Redirect=Log&logNo=222569139239',\n",
       " 'https://blog.naver.com/ssong_o1?Redirect=Log&logNo=222607147232',\n",
       " 'https://blog.naver.com/mlnyang?Redirect=Log&logNo=222550924777',\n",
       " 'https://blog.naver.com/hotoil78?Redirect=Log&logNo=222606240033',\n",
       " 'https://blog.naver.com/bujaguni?Redirect=Log&logNo=222599385101',\n",
       " 'https://blog.naver.com/paksa306?Redirect=Log&logNo=222570773634',\n",
       " 'https://blog.naver.com/ho_0214?Redirect=Log&logNo=222606525919',\n",
       " 'https://blog.naver.com/onederboy?Redirect=Log&logNo=222572142005',\n",
       " 'https://blog.naver.com/namhee_98?Redirect=Log&logNo=222597495796',\n",
       " 'https://blog.naver.com/coco8090?Redirect=Log&logNo=222585351993',\n",
       " 'https://blog.naver.com/ugogirl96?Redirect=Log&logNo=222597690432',\n",
       " 'https://blog.naver.com/herbcooool?Redirect=Log&logNo=222607202901',\n",
       " 'https://blog.naver.com/blair67?Redirect=Log&logNo=222595508308',\n",
       " 'https://blog.naver.com/plaisir17?Redirect=Log&logNo=222605585653',\n",
       " 'https://blog.naver.com/kks0790?Redirect=Log&logNo=222598172386',\n",
       " 'https://blog.naver.com/ixqwo?Redirect=Log&logNo=222605584069',\n",
       " 'https://blog.naver.com/hyeyoun84?Redirect=Log&logNo=222558076421',\n",
       " 'https://blog.naver.com/heebomi?Redirect=Log&logNo=222595332101',\n",
       " 'https://blog.naver.com/dangdangi96?Redirect=Log&logNo=222598216280',\n",
       " 'https://blog.naver.com/torikyom77?Redirect=Log&logNo=222601576962',\n",
       " 'https://blog.naver.com/sforcem04?Redirect=Log&logNo=222570128903',\n",
       " 'https://blog.naver.com/dodomea?Redirect=Log&logNo=222596845849',\n",
       " 'https://blog.naver.com/h_na215?Redirect=Log&logNo=222593588397',\n",
       " 'https://blog.naver.com/rudtjqkr?Redirect=Log&logNo=222599471558',\n",
       " 'https://blog.naver.com/junghyeyun1?Redirect=Log&logNo=222601473307',\n",
       " 'https://blog.naver.com/sowon0716?Redirect=Log&logNo=222594904580',\n",
       " 'https://blog.naver.com/ssong_o1?Redirect=Log&logNo=222607130502',\n",
       " 'https://blog.naver.com/ls5858?Redirect=Log&logNo=222599765861',\n",
       " 'https://blog.naver.com/als4799?Redirect=Log&logNo=222576385776',\n",
       " 'https://blog.naver.com/hellofany11?Redirect=Log&logNo=222603160049',\n",
       " 'https://blog.naver.com/whatdoyoueat?Redirect=Log&logNo=222595688396',\n",
       " 'https://blog.naver.com/laura597?Redirect=Log&logNo=222601386909',\n",
       " 'https://blog.naver.com/boshukr?Redirect=Log&logNo=222544213873',\n",
       " 'https://blog.naver.com/myj0012?Redirect=Log&logNo=222602848269',\n",
       " 'https://blog.naver.com/bbiyyak30?Redirect=Log&logNo=222602105254',\n",
       " 'https://blog.naver.com/faugh08?Redirect=Log&logNo=222538864065',\n",
       " 'https://blog.naver.com/white-zao?Redirect=Log&logNo=222590449614',\n",
       " 'https://blog.naver.com/sosowaharu?Redirect=Log&logNo=222583803989',\n",
       " 'https://blog.naver.com/sasa9508?Redirect=Log&logNo=222548064606',\n",
       " 'https://blog.naver.com/tongknhj?Redirect=Log&logNo=222599303301',\n",
       " 'https://blog.naver.com/yoongu0?Redirect=Log&logNo=222546703617',\n",
       " 'https://blog.naver.com/joohyeon222?Redirect=Log&logNo=222607316569',\n",
       " 'https://blog.naver.com/mangch91?Redirect=Log&logNo=222599270189',\n",
       " 'https://blog.naver.com/artificial_?Redirect=Log&logNo=222554129773']"
      ]
     },
     "execution_count": 88,
     "metadata": {},
     "output_type": "execute_result"
    }
   ],
   "source": [
    "# 수집된 url들 확인\n",
    "url_list"
   ]
  },
  {
   "cell_type": "code",
   "execution_count": 89,
   "metadata": {
    "id": "Q491yek4-kvs",
    "outputId": "b8d88911-275c-4f8d-bd89-0c3831d666c7"
   },
   "outputs": [
    {
     "data": {
      "text/plain": [
       "['무조건인 역삼 맛집 모음',\n",
       " '만족스러운 역삼 맛집 리스트',\n",
       " '[역삼 맛집] 센터필드 차알 역삼점, 역시나 맛은 실망시키지...',\n",
       " '역삼맛집 도야짬뽕 맛있어요',\n",
       " '눈과 입이 즐거운 역삼 맛집 리스트',\n",
       " '풍요로웠던 역삼 맛집 리스트',\n",
       " '중독적인 역삼역 맛집 모음',\n",
       " '역삼맛집 소이연남! 점심 뭐먹지? 태국음식 리뷰',\n",
       " '[역삼 맛집] 정갈한 한식 반상이 있는 한식 다이닝, 수라선',\n",
       " '[역삼] 파스타맛집 그리고 치즈팩토리 케이크 디스팅트',\n",
       " '센터필드 맛집 : 역삼 중식당 차알 다녀오다!!!!',\n",
       " '역삼 맛집, 세청집(냉살치살)',\n",
       " '강남 / 역삼 맛집 _ 핫한 곱도리탕 맛집 : 대낚식당 후기 :D',\n",
       " '칭찬하는 역삼역 맛집 베스트',\n",
       " '[강남 역삼맛집] 풍천민물장어',\n",
       " '[역삼맛집] 쏭타이 - 모든 메뉴가 맛있는 타이음식점',\n",
       " '트라가 Traga, 강남 스페인요리 역삼역 맛집(가성비갑)',\n",
       " '역삼역 데이트 스페인음식 & 맛집 베스트 5',\n",
       " \"강남 역삼 맛집 '빌즈'에서 먹은 브런치\",\n",
       " '[역삼맛집/역삼술집] 맵달 신동궁감자탕 역삼본점',\n",
       " '테이크아웃으로 즐기는 킹크랩,랍스타 - 역삼 대게 맛집...',\n",
       " '역삼역 맛집, 강남 한정식-봉우리한정식 역삼본점(셰프스폐셜...',\n",
       " '역삼 피자 파스타 맛집 지아니스나폴리 역삼에서 점심회식 추천!',\n",
       " '반해버린 역삼 맛집 모음 feat 용용선생',\n",
       " '회식장소로 제격인 역삼 돼지갈비 맛집',\n",
       " \"역삼 센터필드 맛집, 퓨전 중식당 차알 Cha'R 센터필드점 방문...\",\n",
       " '강남/역삼 맛집 _ 디트로이트 피자 : 모터시티바이매니멀',\n",
       " '어메이징 역삼 맛집 리스트 5',\n",
       " '역삼 꼼장어맛집 박가화로 산꼼장어와 냉삼 강남찐맛집',\n",
       " '[강남/역삼 맛집] 유명한 미나리 부대찌개 맛집, 대우부대찌개...',\n",
       " '회식장소로 좋은 역삼역 맛집 갈비다움 추천!',\n",
       " '[서울 여행/역삼] 연말 송년회... 대게파티 역삼맛집 <묵호항>',\n",
       " '역삼 고기집 돼지갈비맛집은 여기!',\n",
       " '역삼역 해산물 맛집 역삼회식 비진도해물뚝배기',\n",
       " '역삼 센터필드 맛집 js가든 고급 식당에서 중식 먹고 온 후기',\n",
       " '역삼 선릉 마라탕 마라샹궈 맛집 한성마라탕 최고!',\n",
       " '[서울맛집/역삼 맛집] 강남 스페인요리 맛집 트라가',\n",
       " '돼지갈비 맛집 - 갈비삼대 강남역삼점 방문 후기, 역삼 맛집...',\n",
       " '역삼맛집 세븐브릭스키친&펍 : 낮에는 파스타 밤에는 맥주먹기...',\n",
       " '성공적인 역삼역 맛집 공유',\n",
       " \"역삼 맛집 : 역삼 센터필드 지하2층 _ 리조또맛집 '우에노421'\",\n",
       " '[역삼역 맛집/역삼역 이자카야] 역삼역 일식 추천 진가와...',\n",
       " '역삼 맛집 남포동직화쭈꾸미',\n",
       " '[역삼역 맛집] 우럭젓국 - 이색메뉴 향토음식 그리고 아주...',\n",
       " '[역삼맛집] 역삼 브런치 맛집 :: 카페 413 프로젝트',\n",
       " '특이한 역삼 맛집 리스트',\n",
       " '295. [역삼] 역삼동 맛집 진가와 한국본점',\n",
       " '역삼 고기맛집 화덕고깃간',\n",
       " \"오랜만에 스페인 음식 뿌시러 '트라가'(역삼 맛집/강남 맛집)\",\n",
       " '역삼역 맛집 갈비다움 역삼본점.속도 편하고 입안도 개운한...',\n",
       " '역삼역 점심 만두국 칼국수 만두전골 맛집 서울집!',\n",
       " '역삼역 맛집 \"더뭉티기\"에서 고급 육사시미랑 선지해장국♡',\n",
       " '[서울강남]역삼역소고기 맛집 우시야 (고기구워주는 고깃집...',\n",
       " '역삼 맛집 : 강남 스페인요리 전문점 트라가',\n",
       " '역삼역 소고기 양념갈비 맛집 유미식당',\n",
       " '역삼역 횟집, 마린3스토리(역삼 맛집)',\n",
       " '아그라 :: 인도식 카레 전문점인 역삼 맛집 in GFC 점',\n",
       " '서울 역삼맛집 -예당어죽 /어죽 그리고 매운탕',\n",
       " '1022 강남/역삼 이탈리아 가정식 맛집 할스(Hearth) ⑥',\n",
       " '역삼맛집 | 갈비삼대... 돼지갈비 맛집 (역삼 고기집, 강남백반)',\n",
       " '통닭 호프 :: 옛날 치킨 맛집으로 유명한 역삼 맛집 in 역삼역',\n",
       " '[역삼동참치맛집/역삼역참치맛집] 역삼동참치',\n",
       " '[역삼 센터필드]삼백돈돈가츠 - 치즈돈가츠맛집',\n",
       " '[먹로그] 서울 강남/역삼 브런치 맛집, 빌즈 강남',\n",
       " '[역삼 센터필드 맛집] 차알 (Cha R) - 센터필드 미국식 중식당',\n",
       " '역삼맛집) 불이아역삼 훠궈맛집 분위기 좋은 중국레스토랑',\n",
       " '[역삼맛집 강남 곱] 맛있는 한우곱창구이가 있는 곳',\n",
       " '[강남 맛집] 스페인요리 맛집, 역삼 트라가',\n",
       " '역삼역맛집 강남제비 얼마만에 와보는가',\n",
       " \"역삼역맛집 '우도일식'에서 보리굴비특정식 맛있게 먹고 왔어요!\",\n",
       " '강남 역삼역 피자 파스타맛집 이탈리안레스토랑 지아니스나폴리',\n",
       " '[푸에르코/역삼] 이베리코 돼지 전문 맛집',\n",
       " '역삼역 맛집 라비옥 평일런치는 훌륭해',\n",
       " '역삼역 맛집 : 강남 브런치 잠봉뵈르 맛집, 호샤퀴테리에',\n",
       " '[역삼/민들레떡볶이] 민들레떡볶이 :: 역삼역 떡볶이 맛집 추천',\n",
       " '치킨 공식 :: 맥주 마시고 싶을 때 가는 역삼 나초 맛집 in 역삼...',\n",
       " '역삼 맛집 비진도 해물뚝배기 점심 메뉴 추천',\n",
       " '[강남/역삼] 산지직송 싱싱한 막회 맛집. 초회장집.',\n",
       " '센터필드 역삼 맛집, 미미담 역삼점 방문 후기!',\n",
       " '역삼 맛집 강남 스페인요리 전문 트라가',\n",
       " '역삼배달맛집 쌀국수집을하려던소바집',\n",
       " '역삼 카페 커피프릭스 하이틴 맛집 분위기',\n",
       " '[역삼동 맛집/역삼 맛집/역삼역 맛집/언주로 맛집] 소이연남...',\n",
       " '역삼 나이스샤워, 언제나 줄서는 맛집인데...글쎄요...',\n",
       " '[역삼 맛집] 송추가마골인어반 강남점 - 회식, 가족모임 모두...',\n",
       " '[서울/역삼역맛집] 칠성집',\n",
       " '역삼 맛집 짬뽕지존에서 먹은 점심',\n",
       " '역삼역술집 센민이자카야 강남이자카야 분위기맛집!',\n",
       " '역삼맛집 역삼동맛집 보스켓역삼 브런치카페추천',\n",
       " '역삼맛집 역삼역 백반 반찬한가득 맛있는 참맛집 점심',\n",
       " '역삼 지아니스나폴리_ 역삼맛집, 화덕피자맛집, 파스타맛집',\n",
       " '[강남역삼 돼지갈비 맛집] 갈비삼대 역삼동 맛집에서 연말 모임...',\n",
       " '역삼역 맛집 :: 진가와 토시오 장인의 면을 직접 맛볼 수 있는...',\n",
       " '[역삼/맛집]레드마블/고기도 샤브샤브도 굿!',\n",
       " '역삼역 맛집 / 역삼역 회식장소 > 진가와 한국본점',\n",
       " '분위기에 취하고 맛에 취하는 역삼술집 역삼맛집 수에뉴',\n",
       " '[역삼/크리에잇쿠키] 크리에잇쿠키 :: 역삼역 쿠키맛집, 분위기...',\n",
       " '[호돌이반점/역삼역] 요리와 식사가 모두 훌륭한 중식맛집',\n",
       " '역삼 맛집 lg아트센터 근처 가성비 맛집 추천 타이 음식이...',\n",
       " '마늘노포 224 - 강남역맛집 역삼맛집 소바맛집 - 오무라안',\n",
       " '[강남/역삼맛집] 트렌디하고 힙한 족발 맛을아는 청년들',\n",
       " '역삼 점심 맛집 기운나는 고기집 바우한우!',\n",
       " \"강남 갈비탕 맛집 - 역삼역 근처 '갈비다움'\",\n",
       " '역삼 중식당 주차가능 맛집 차알',\n",
       " '역삼역 맛집 더뭉티기 인생 육사시미!',\n",
       " '역삼역 맛집, 가성비 좋은 깔끔한 백반정식, 전주식당',\n",
       " '역삼역 맛집 호샤퀴테리에 에서 강남 브런치 즐기기!',\n",
       " '강경불고기 역삼(강남)맛집',\n",
       " '반해버린 역삼역 맛집 리스트',\n",
       " '역삼역 고기집 뼈삼겹이 맛있는 이영자 맛집 돈육지존',\n",
       " '역삼 맛집 호돌이떡볶이에서 갓성비 즉떡먹고 배달 예약한 후기',\n",
       " '[역삼맛집] 마늘이 푸짐하게... 종로계림닭도리탕원조 역삼점',\n",
       " '[역삼맛집] 대우부대찌개',\n",
       " '역삼역미용실! 뿌리볼륨펌 맛집 수이밍',\n",
       " '역삼역 맛집 스시마카세 예약필수!',\n",
       " '[역삼] 강남역 소주가 생각나는 살치살 냉삼맛집 세청집',\n",
       " '11. 진가와 / 역삼 진가와 본점 / 우동맛집 진가와',\n",
       " '[역삼 맛집/강남 맛집] 내돈내산 초벌 삼겹살 맛집 연탄마을...',\n",
       " '[서울]강남보물섬 역삼역 찐맛집 내돈내산!!!',\n",
       " '[강남_역삼]역삼동직장인맛집 에서 가성비있게 7분김치찌개...',\n",
       " '[역삼] 진대감 - 차돌삼합 맛집',\n",
       " '강남 태국음식, 역삼역 태국 현지인 맛집 타이홀릭',\n",
       " '역삼역 맛집 회식장소로 좋은 진가와',\n",
       " \"역삼역 맛집 양도 푸짐한 '서울집' 칼만두국\",\n",
       " '구역삼세무서맛집 마린3스토리 해물포차 해산물맛집이에요!',\n",
       " '역삼역 이영자 맛집 방탄맛집 돝고기506',\n",
       " '역삼맛집 GPC몰 안에 있는 사보텐',\n",
       " '역삼역 횟집 마린3스토리',\n",
       " '[강남맛집/역삼맛집] 황해도 왕족발 찹쌀순대_순대국&굴국밥',\n",
       " '역삼동 맛집 봉우리한정식 역삼본점; 엄마랑 식객정식 런치...',\n",
       " '[역삼소고기] 온돌 더프라임 :: 소고기 맛집 강남회식 장소 추천',\n",
       " '지아니스나폴리 역삼 파스타, 화덕피자 맛집',\n",
       " '넘사였던 역삼역 맛집 소개',\n",
       " '역삼역맛집 바스버거에서 먹은 수제버거',\n",
       " '역삼 센터필드 점심 맛집, 세련된 중식 차알 메뉴추천!',\n",
       " '낮에는 감성카페 밤에는 감성bar 역삼술집 역삼맛집 좋은꿈...',\n",
       " '강남역삼 돼지갈비 맛집 갈비삼대 찐맛집 인정!',\n",
       " '강남역삼 배달맛집 ❤ 꽃보다 월남쌈&카페 맛있는 다이어트',\n",
       " '역삼 선릉 커피 맛집 카페 범표원두 역삼점 (ft. 드립커피...',\n",
       " '직딩의 고독한 미식가 스핀오프 편 ::역삼역 맛집, 카페 추천',\n",
       " '역삼 맛집 신동궁감자탕뼈숯불구이',\n",
       " '[맛집리뷰]강남회식 온돌 더프라임 강남점_역삼소고기맛집인정',\n",
       " '[서울/강남] 강남 역삼 맛집 삼백돈 돈가츠 리뷰',\n",
       " '역삼 참맛집 : 역삼동 배달맛집 백반맛집 식사 후기',\n",
       " '<강남 역삼 맛집 추천> 화덕고깃간역삼본점 방문후기',\n",
       " '역삼 맛집 배달로도 먹을 수 있는 호돌이떡볶이',\n",
       " \"[역삼 센터필드 비빔밥/조선팰리스 강남 맛집] '한국집'에 간...\",\n",
       " \"직장인 점심 책임지는 '참맛집' / 가정식 스타일의 역삼맛집\",\n",
       " '참치맛집 마구로센 역삼 & 곱창전골맛집 강남진해장',\n",
       " '역삼 본점 / 강남 이탈리안레스토랑 화덕피자 맛집',\n",
       " \"역삼역참치맛집 '역삼동참치' 살살 녹는 혼마구로!\",\n",
       " '[역삼맛집] JS가든 역삼 센터필드점',\n",
       " '급이다른 역삼역 맛집 모음',\n",
       " '[역삼맛집] 강남해물찜 아구찜 맛집 화산아구찜 / 도곡동 닭강정...',\n",
       " '역삼맛집 라비옥 갈비맛집',\n",
       " '역삼맛집 냉삼맛집 세청집 :)',\n",
       " '이영자맛집 역삼 고기집 돈육지존으로 가자!',\n",
       " '역삼역 점심 한 끼 해결해 주는 역삼맛집 역삼역 백반 참맛집',\n",
       " '[역삼역맛집] <담뿍>식당 된장찌개와 고기 맛집 후기!!',\n",
       " '역삼동 중식 맛집, 역삼역 회식/단체모임 추천 [연화산 역삼점]',\n",
       " '[서울/강남] 역삼맛집 역삼술집 수에뉴',\n",
       " \"역삼맛집/ 역삼역 데이트 하기 좋은 분위기 맛집 '빌즈(bills)'\",\n",
       " '역삼역 한식 맛집모음❤ 송화 (김치찜) / 강경불고기 / 온돌...',\n",
       " '[역삼역] 쿠키맛집 ★원투잇★ 인생맛집인데 눈물흘리며...',\n",
       " '역삼역맛집 홍낭자와김도령 키토김밥이 유명한곳',\n",
       " '[싸다리 순살&분식 ] 역삼배달맛집 | 역삼역맛집',\n",
       " '강남구 역삼동/ 역삼맛집! 역삼역 백반 잘 하는 참맛집!',\n",
       " '역삼맛집 연예인들도 자주오는 <참맛집> 제육볶음백반 먹었어요',\n",
       " '역삼역맛집 20년 전통의 우도보리굴비',\n",
       " '[강남/역삼] 역삼 중국식 샤브샤브 훠궈 맛집추천 불이아',\n",
       " '역삼역 맛집 남포동직화쭈꾸미 불향 제대로네',\n",
       " '역삼 떡볶이맛집 삼진어묵당 점심 메뉴 추천',\n",
       " '역삼삼겹살 맛집, 삼겹살에 관자까지! 깔끔한 고깃집, 노오릇',\n",
       " '선릉 역삼 맛집 추천 맑은 국물이 특징인 50년 전통 원조...',\n",
       " '역삼 도시락 맛집 푸짐하네',\n",
       " '역삼 맛집, 통영집',\n",
       " '깍두기볶음밥 :: 갈비다움 역삼본점 역삼역 맛집 역삼동 맛집',\n",
       " '역삼, 선릉 직장인 점심 추천! 추운 날엔 이북식 만두국 맛집...',\n",
       " '역삼역 백반 참맛집 에서 역삼맛집 점심 혼밥하다.',\n",
       " '역삼동 맛집 / 역삼 고기집 세겹에서 삼겹살 갈매기살 목살 흡입']"
      ]
     },
     "execution_count": 89,
     "metadata": {},
     "output_type": "execute_result"
    }
   ],
   "source": [
    "# 수집된 블로그 제목 확인\n",
    "title_list"
   ]
  },
  {
   "cell_type": "code",
   "execution_count": 90,
   "metadata": {
    "id": "MvgyX_pk-kvt",
    "outputId": "7749cfef-5aa7-45f6-db8a-e94b444998d8",
    "scrolled": false
   },
   "outputs": [
    {
     "data": {
      "text/html": [
       "<div>\n",
       "<style scoped>\n",
       "    .dataframe tbody tr th:only-of-type {\n",
       "        vertical-align: middle;\n",
       "    }\n",
       "\n",
       "    .dataframe tbody tr th {\n",
       "        vertical-align: top;\n",
       "    }\n",
       "\n",
       "    .dataframe thead th {\n",
       "        text-align: right;\n",
       "    }\n",
       "</style>\n",
       "<table border=\"1\" class=\"dataframe\">\n",
       "  <thead>\n",
       "    <tr style=\"text-align: right;\">\n",
       "      <th></th>\n",
       "      <th>url</th>\n",
       "      <th>title</th>\n",
       "    </tr>\n",
       "  </thead>\n",
       "  <tbody>\n",
       "    <tr>\n",
       "      <th>0</th>\n",
       "      <td>https://blog.naver.com/ranboy?Redirect=Log&amp;log...</td>\n",
       "      <td>무조건인 역삼 맛집 모음</td>\n",
       "    </tr>\n",
       "    <tr>\n",
       "      <th>1</th>\n",
       "      <td>https://blog.naver.com/kikijayoung?Redirect=Lo...</td>\n",
       "      <td>만족스러운 역삼 맛집 리스트</td>\n",
       "    </tr>\n",
       "    <tr>\n",
       "      <th>2</th>\n",
       "      <td>https://blog.naver.com/sh_road?Redirect=Log&amp;lo...</td>\n",
       "      <td>[역삼 맛집] 센터필드 차알 역삼점, 역시나 맛은 실망시키지...</td>\n",
       "    </tr>\n",
       "    <tr>\n",
       "      <th>3</th>\n",
       "      <td>https://blog.naver.com/lovely-oh?Redirect=Log&amp;...</td>\n",
       "      <td>역삼맛집 도야짬뽕 맛있어요</td>\n",
       "    </tr>\n",
       "    <tr>\n",
       "      <th>4</th>\n",
       "      <td>https://blog.naver.com/qufzhd12?Redirect=Log&amp;l...</td>\n",
       "      <td>눈과 입이 즐거운 역삼 맛집 리스트</td>\n",
       "    </tr>\n",
       "    <tr>\n",
       "      <th>...</th>\n",
       "      <td>...</td>\n",
       "      <td>...</td>\n",
       "    </tr>\n",
       "    <tr>\n",
       "      <th>175</th>\n",
       "      <td>https://blog.naver.com/tongknhj?Redirect=Log&amp;l...</td>\n",
       "      <td>역삼 맛집, 통영집</td>\n",
       "    </tr>\n",
       "    <tr>\n",
       "      <th>176</th>\n",
       "      <td>https://blog.naver.com/yoongu0?Redirect=Log&amp;lo...</td>\n",
       "      <td>깍두기볶음밥 :: 갈비다움 역삼본점 역삼역 맛집 역삼동 맛집</td>\n",
       "    </tr>\n",
       "    <tr>\n",
       "      <th>177</th>\n",
       "      <td>https://blog.naver.com/joohyeon222?Redirect=Lo...</td>\n",
       "      <td>역삼, 선릉 직장인 점심 추천! 추운 날엔 이북식 만두국 맛집...</td>\n",
       "    </tr>\n",
       "    <tr>\n",
       "      <th>178</th>\n",
       "      <td>https://blog.naver.com/mangch91?Redirect=Log&amp;l...</td>\n",
       "      <td>역삼역 백반 참맛집 에서 역삼맛집 점심 혼밥하다.</td>\n",
       "    </tr>\n",
       "    <tr>\n",
       "      <th>179</th>\n",
       "      <td>https://blog.naver.com/artificial_?Redirect=Lo...</td>\n",
       "      <td>역삼동 맛집 / 역삼 고기집 세겹에서 삼겹살 갈매기살 목살 흡입</td>\n",
       "    </tr>\n",
       "  </tbody>\n",
       "</table>\n",
       "<p>180 rows × 2 columns</p>\n",
       "</div>"
      ],
      "text/plain": [
       "                                                   url  \\\n",
       "0    https://blog.naver.com/ranboy?Redirect=Log&log...   \n",
       "1    https://blog.naver.com/kikijayoung?Redirect=Lo...   \n",
       "2    https://blog.naver.com/sh_road?Redirect=Log&lo...   \n",
       "3    https://blog.naver.com/lovely-oh?Redirect=Log&...   \n",
       "4    https://blog.naver.com/qufzhd12?Redirect=Log&l...   \n",
       "..                                                 ...   \n",
       "175  https://blog.naver.com/tongknhj?Redirect=Log&l...   \n",
       "176  https://blog.naver.com/yoongu0?Redirect=Log&lo...   \n",
       "177  https://blog.naver.com/joohyeon222?Redirect=Lo...   \n",
       "178  https://blog.naver.com/mangch91?Redirect=Log&l...   \n",
       "179  https://blog.naver.com/artificial_?Redirect=Lo...   \n",
       "\n",
       "                                     title  \n",
       "0                            무조건인 역삼 맛집 모음  \n",
       "1                          만족스러운 역삼 맛집 리스트  \n",
       "2     [역삼 맛집] 센터필드 차알 역삼점, 역시나 맛은 실망시키지...  \n",
       "3                           역삼맛집 도야짬뽕 맛있어요  \n",
       "4                      눈과 입이 즐거운 역삼 맛집 리스트  \n",
       "..                                     ...  \n",
       "175                             역삼 맛집, 통영집  \n",
       "176      깍두기볶음밥 :: 갈비다움 역삼본점 역삼역 맛집 역삼동 맛집  \n",
       "177  역삼, 선릉 직장인 점심 추천! 추운 날엔 이북식 만두국 맛집...  \n",
       "178            역삼역 백반 참맛집 에서 역삼맛집 점심 혼밥하다.  \n",
       "179    역삼동 맛집 / 역삼 고기집 세겹에서 삼겹살 갈매기살 목살 흡입  \n",
       "\n",
       "[180 rows x 2 columns]"
      ]
     },
     "execution_count": 90,
     "metadata": {},
     "output_type": "execute_result"
    }
   ],
   "source": [
    "# 수집된 url_list, title_list로 판다스 데이터프레임 만들기\n",
    "df = pd.DataFrame({'url':url_list, 'title':title_list})\n",
    "df"
   ]
  },
  {
   "cell_type": "code",
   "execution_count": 91,
   "metadata": {
    "id": "0gl5A-pW-kvt",
    "outputId": "a559e994-03d4-4012-87d8-13ff86500cd9"
   },
   "outputs": [
    {
     "data": {
      "text/plain": [
       "'/Users/aiden/Dropbox/Mac/Desktop/03.crawling'"
      ]
     },
     "execution_count": 91,
     "metadata": {},
     "output_type": "execute_result"
    }
   ],
   "source": [
    "pwd"
   ]
  },
  {
   "cell_type": "code",
   "execution_count": 92,
   "metadata": {
    "id": "utM15Eos-kvt"
   },
   "outputs": [],
   "source": [
    "# 저장하기\n",
    "df.to_excel(\"blog_url.xlsx\", encoding='utf-8-sig')\n",
    "# df.to_csv(\"blog_url.csv\")"
   ]
  },
  {
   "cell_type": "markdown",
   "metadata": {
    "id": "hXNfrK-L-kvt"
   },
   "source": [
    "# 2. 블로그 내용 크롤링하기"
   ]
  },
  {
   "cell_type": "code",
   "execution_count": 2,
   "metadata": {
    "id": "wueBlU75-kvt"
   },
   "outputs": [],
   "source": [
    "import sys\n",
    "import os\n",
    "import pandas as pd\n",
    "import numpy as np"
   ]
  },
  {
   "cell_type": "code",
   "execution_count": 2,
   "metadata": {
    "id": "nRD3qDF5-kvt",
    "outputId": "9630a68d-e501-4865-eaa2-3112a51d78ab",
    "scrolled": true
   },
   "outputs": [
    {
     "name": "stdout",
     "output_type": "stream",
     "text": [
      "180\n"
     ]
    },
    {
     "data": {
      "text/html": [
       "<div>\n",
       "<style scoped>\n",
       "    .dataframe tbody tr th:only-of-type {\n",
       "        vertical-align: middle;\n",
       "    }\n",
       "\n",
       "    .dataframe tbody tr th {\n",
       "        vertical-align: top;\n",
       "    }\n",
       "\n",
       "    .dataframe thead th {\n",
       "        text-align: right;\n",
       "    }\n",
       "</style>\n",
       "<table border=\"1\" class=\"dataframe\">\n",
       "  <thead>\n",
       "    <tr style=\"text-align: right;\">\n",
       "      <th></th>\n",
       "      <th>url</th>\n",
       "      <th>title</th>\n",
       "    </tr>\n",
       "  </thead>\n",
       "  <tbody>\n",
       "    <tr>\n",
       "      <th>0</th>\n",
       "      <td>https://blog.naver.com/ranboy?Redirect=Log&amp;log...</td>\n",
       "      <td>무조건인 역삼 맛집 모음</td>\n",
       "    </tr>\n",
       "    <tr>\n",
       "      <th>1</th>\n",
       "      <td>https://blog.naver.com/kikijayoung?Redirect=Lo...</td>\n",
       "      <td>만족스러운 역삼 맛집 리스트</td>\n",
       "    </tr>\n",
       "    <tr>\n",
       "      <th>2</th>\n",
       "      <td>https://blog.naver.com/sh_road?Redirect=Log&amp;lo...</td>\n",
       "      <td>[역삼 맛집] 센터필드 차알 역삼점, 역시나 맛은 실망시키지...</td>\n",
       "    </tr>\n",
       "    <tr>\n",
       "      <th>3</th>\n",
       "      <td>https://blog.naver.com/lovely-oh?Redirect=Log&amp;...</td>\n",
       "      <td>역삼맛집 도야짬뽕 맛있어요</td>\n",
       "    </tr>\n",
       "    <tr>\n",
       "      <th>4</th>\n",
       "      <td>https://blog.naver.com/qufzhd12?Redirect=Log&amp;l...</td>\n",
       "      <td>눈과 입이 즐거운 역삼 맛집 리스트</td>\n",
       "    </tr>\n",
       "    <tr>\n",
       "      <th>...</th>\n",
       "      <td>...</td>\n",
       "      <td>...</td>\n",
       "    </tr>\n",
       "    <tr>\n",
       "      <th>175</th>\n",
       "      <td>https://blog.naver.com/tongknhj?Redirect=Log&amp;l...</td>\n",
       "      <td>역삼 맛집, 통영집</td>\n",
       "    </tr>\n",
       "    <tr>\n",
       "      <th>176</th>\n",
       "      <td>https://blog.naver.com/yoongu0?Redirect=Log&amp;lo...</td>\n",
       "      <td>깍두기볶음밥 :: 갈비다움 역삼본점 역삼역 맛집 역삼동 맛집</td>\n",
       "    </tr>\n",
       "    <tr>\n",
       "      <th>177</th>\n",
       "      <td>https://blog.naver.com/joohyeon222?Redirect=Lo...</td>\n",
       "      <td>역삼, 선릉 직장인 점심 추천! 추운 날엔 이북식 만두국 맛집...</td>\n",
       "    </tr>\n",
       "    <tr>\n",
       "      <th>178</th>\n",
       "      <td>https://blog.naver.com/mangch91?Redirect=Log&amp;l...</td>\n",
       "      <td>역삼역 백반 참맛집 에서 역삼맛집 점심 혼밥하다.</td>\n",
       "    </tr>\n",
       "    <tr>\n",
       "      <th>179</th>\n",
       "      <td>https://blog.naver.com/artificial_?Redirect=Lo...</td>\n",
       "      <td>역삼동 맛집 / 역삼 고기집 세겹에서 삼겹살 갈매기살 목살 흡입</td>\n",
       "    </tr>\n",
       "  </tbody>\n",
       "</table>\n",
       "<p>180 rows × 2 columns</p>\n",
       "</div>"
      ],
      "text/plain": [
       "                                                   url  \\\n",
       "0    https://blog.naver.com/ranboy?Redirect=Log&log...   \n",
       "1    https://blog.naver.com/kikijayoung?Redirect=Lo...   \n",
       "2    https://blog.naver.com/sh_road?Redirect=Log&lo...   \n",
       "3    https://blog.naver.com/lovely-oh?Redirect=Log&...   \n",
       "4    https://blog.naver.com/qufzhd12?Redirect=Log&l...   \n",
       "..                                                 ...   \n",
       "175  https://blog.naver.com/tongknhj?Redirect=Log&l...   \n",
       "176  https://blog.naver.com/yoongu0?Redirect=Log&lo...   \n",
       "177  https://blog.naver.com/joohyeon222?Redirect=Lo...   \n",
       "178  https://blog.naver.com/mangch91?Redirect=Log&l...   \n",
       "179  https://blog.naver.com/artificial_?Redirect=Lo...   \n",
       "\n",
       "                                     title  \n",
       "0                            무조건인 역삼 맛집 모음  \n",
       "1                          만족스러운 역삼 맛집 리스트  \n",
       "2     [역삼 맛집] 센터필드 차알 역삼점, 역시나 맛은 실망시키지...  \n",
       "3                           역삼맛집 도야짬뽕 맛있어요  \n",
       "4                      눈과 입이 즐거운 역삼 맛집 리스트  \n",
       "..                                     ...  \n",
       "175                             역삼 맛집, 통영집  \n",
       "176      깍두기볶음밥 :: 갈비다움 역삼본점 역삼역 맛집 역삼동 맛집  \n",
       "177  역삼, 선릉 직장인 점심 추천! 추운 날엔 이북식 만두국 맛집...  \n",
       "178            역삼역 백반 참맛집 에서 역삼맛집 점심 혼밥하다.  \n",
       "179    역삼동 맛집 / 역삼 고기집 세겹에서 삼겹살 갈매기살 목살 흡입  \n",
       "\n",
       "[180 rows x 2 columns]"
      ]
     },
     "execution_count": 2,
     "metadata": {},
     "output_type": "execute_result"
    }
   ],
   "source": [
    "# \"url_list.csv\" 불러오기\n",
    "url_load = pd.read_excel(\"blog_url.xlsx\")\n",
    "url_load = url_load.drop(\"Unnamed: 0\", axis=1)  # 불필요한 칼럼 삭제\n",
    "\n",
    "num_list = len(url_load)\n",
    "\n",
    "print(num_list)\n",
    "url_load"
   ]
  },
  {
   "cell_type": "code",
   "execution_count": 3,
   "metadata": {},
   "outputs": [
    {
     "data": {
      "text/plain": [
       "0      https://blog.naver.com/ranboy?Redirect=Log&log...\n",
       "1      https://blog.naver.com/kikijayoung?Redirect=Lo...\n",
       "2      https://blog.naver.com/sh_road?Redirect=Log&lo...\n",
       "3      https://blog.naver.com/lovely-oh?Redirect=Log&...\n",
       "4      https://blog.naver.com/qufzhd12?Redirect=Log&l...\n",
       "                             ...                        \n",
       "175    https://blog.naver.com/tongknhj?Redirect=Log&l...\n",
       "176    https://blog.naver.com/yoongu0?Redirect=Log&lo...\n",
       "177    https://blog.naver.com/joohyeon222?Redirect=Lo...\n",
       "178    https://blog.naver.com/mangch91?Redirect=Log&l...\n",
       "179    https://blog.naver.com/artificial_?Redirect=Lo...\n",
       "Name: url, Length: 180, dtype: object"
      ]
     },
     "execution_count": 3,
     "metadata": {},
     "output_type": "execute_result"
    }
   ],
   "source": [
    "url_load['url']"
   ]
  },
  {
   "cell_type": "code",
   "execution_count": 16,
   "metadata": {},
   "outputs": [],
   "source": [
    "i = 5\n",
    "\n",
    "url = url_load['url'][i]\n",
    "chrome_path = chromedriver_autoinstaller.install()\n",
    "driver = webdriver.Chrome(chrome_path)\n",
    "\n",
    "driver.get(url)   # 글 띄우기\n",
    "time.sleep(1)\n",
    "\n",
    "# iframe 접근\n",
    "driver.switch_to.frame('mainFrame')\n",
    "time.sleep(1)"
   ]
  },
  {
   "cell_type": "code",
   "execution_count": 17,
   "metadata": {},
   "outputs": [],
   "source": [
    "dict = {}  # 전체 180개 크롤링 데이터를 담을 그릇\n",
    "\n",
    "target_info = {}  # 개별 블로그 내용을 담을 딕셔너리 생성"
   ]
  },
  {
   "cell_type": "code",
   "execution_count": 18,
   "metadata": {},
   "outputs": [
    {
     "data": {
      "text/plain": [
       "'풍요로웠던 역삼 맛집 리스트'"
      ]
     },
     "execution_count": 18,
     "metadata": {},
     "output_type": "execute_result"
    }
   ],
   "source": [
    "# 제목 크롤링 시작\n",
    "overlays = \".se-module.se-module-text.se-title-text\"                         \n",
    "tit = driver.find_element_by_css_selector(overlays)          # title\n",
    "title = tit.text\n",
    "title"
   ]
  },
  {
   "cell_type": "code",
   "execution_count": 19,
   "metadata": {},
   "outputs": [
    {
     "data": {
      "text/plain": [
       "'느느'"
      ]
     },
     "execution_count": 19,
     "metadata": {},
     "output_type": "execute_result"
    }
   ],
   "source": [
    "# 글쓴이 크롤링 시작\n",
    "overlays = \".link.pcol2\"                                 \n",
    "nick = driver.find_element_by_css_selector(overlays)         # nickname\n",
    "nickname = nick.text\n",
    "nickname"
   ]
  },
  {
   "cell_type": "code",
   "execution_count": 20,
   "metadata": {},
   "outputs": [
    {
     "data": {
      "text/plain": [
       "<selenium.webdriver.remote.webelement.WebElement (session=\"6596c8356360603b739b446a66dbdb03\", element=\"ef39be5b-9c54-4849-b706-16321741cf15\")>"
      ]
     },
     "execution_count": 20,
     "metadata": {},
     "output_type": "execute_result"
    }
   ],
   "source": [
    "# 날짜 크롤링\n",
    "overlays = \".se_publishDate.pcol2\"                                 \n",
    "date = driver.find_element_by_css_selector(overlays)         # datetime\n",
    "date"
   ]
  },
  {
   "cell_type": "code",
   "execution_count": 21,
   "metadata": {},
   "outputs": [
    {
     "data": {
      "text/plain": [
       "'2021. 11. 22. 13:00'"
      ]
     },
     "execution_count": 21,
     "metadata": {},
     "output_type": "execute_result"
    }
   ],
   "source": [
    "datetime = date.text\n",
    "datetime"
   ]
  },
  {
   "cell_type": "code",
   "execution_count": 22,
   "metadata": {
    "scrolled": true
   },
   "outputs": [
    {
     "data": {
      "text/plain": [
       "[<selenium.webdriver.remote.webelement.WebElement (session=\"6596c8356360603b739b446a66dbdb03\", element=\"62d2ed8a-064a-477e-960f-06112ea26999\")>,\n",
       " <selenium.webdriver.remote.webelement.WebElement (session=\"6596c8356360603b739b446a66dbdb03\", element=\"9d829547-63e0-4dd5-ba71-f968ff5f7dfd\")>,\n",
       " <selenium.webdriver.remote.webelement.WebElement (session=\"6596c8356360603b739b446a66dbdb03\", element=\"12220d06-2b96-4e6d-a151-56d39dba5475\")>,\n",
       " <selenium.webdriver.remote.webelement.WebElement (session=\"6596c8356360603b739b446a66dbdb03\", element=\"d7b813b9-10f5-4ee4-b3ce-812efafac559\")>,\n",
       " <selenium.webdriver.remote.webelement.WebElement (session=\"6596c8356360603b739b446a66dbdb03\", element=\"9cdcb03e-d8af-4833-b9dd-62c83fe3269b\")>,\n",
       " <selenium.webdriver.remote.webelement.WebElement (session=\"6596c8356360603b739b446a66dbdb03\", element=\"5d376645-bf9c-4af2-8a96-2359945047f0\")>,\n",
       " <selenium.webdriver.remote.webelement.WebElement (session=\"6596c8356360603b739b446a66dbdb03\", element=\"cdd187d0-2ebc-43ec-8ed0-deca5ee789ab\")>,\n",
       " <selenium.webdriver.remote.webelement.WebElement (session=\"6596c8356360603b739b446a66dbdb03\", element=\"19118fda-62d9-4def-a399-e43371b8694a\")>,\n",
       " <selenium.webdriver.remote.webelement.WebElement (session=\"6596c8356360603b739b446a66dbdb03\", element=\"73949cc7-2514-4d19-9802-bf2db2ec201d\")>,\n",
       " <selenium.webdriver.remote.webelement.WebElement (session=\"6596c8356360603b739b446a66dbdb03\", element=\"3630db22-05cc-4025-acd5-a7004ff9521b\")>,\n",
       " <selenium.webdriver.remote.webelement.WebElement (session=\"6596c8356360603b739b446a66dbdb03\", element=\"edd8f734-0ad5-4f86-953b-a010945224a4\")>,\n",
       " <selenium.webdriver.remote.webelement.WebElement (session=\"6596c8356360603b739b446a66dbdb03\", element=\"4d8b207a-8990-47f5-ac7e-f4bde4189c4a\")>,\n",
       " <selenium.webdriver.remote.webelement.WebElement (session=\"6596c8356360603b739b446a66dbdb03\", element=\"474d6e33-fe0e-4339-a554-45bad6bd7a30\")>,\n",
       " <selenium.webdriver.remote.webelement.WebElement (session=\"6596c8356360603b739b446a66dbdb03\", element=\"6277e59f-af2c-4dfa-b952-934e249db90b\")>,\n",
       " <selenium.webdriver.remote.webelement.WebElement (session=\"6596c8356360603b739b446a66dbdb03\", element=\"8db8c26c-67f9-43f2-a95d-d9bc309eadf1\")>,\n",
       " <selenium.webdriver.remote.webelement.WebElement (session=\"6596c8356360603b739b446a66dbdb03\", element=\"650c55f4-51cf-41dc-8559-ab3a92a69b64\")>,\n",
       " <selenium.webdriver.remote.webelement.WebElement (session=\"6596c8356360603b739b446a66dbdb03\", element=\"11b707f9-3406-4a14-a7b6-c9898ed8edbe\")>,\n",
       " <selenium.webdriver.remote.webelement.WebElement (session=\"6596c8356360603b739b446a66dbdb03\", element=\"05f72350-e3e7-4fea-97d9-fcccaf991a0d\")>,\n",
       " <selenium.webdriver.remote.webelement.WebElement (session=\"6596c8356360603b739b446a66dbdb03\", element=\"b7a44d67-80e5-446a-9087-714ef1f3f72a\")>,\n",
       " <selenium.webdriver.remote.webelement.WebElement (session=\"6596c8356360603b739b446a66dbdb03\", element=\"aaa4bd35-87e1-4bd1-b55c-cbe36b070b15\")>,\n",
       " <selenium.webdriver.remote.webelement.WebElement (session=\"6596c8356360603b739b446a66dbdb03\", element=\"7d9c9592-f191-41ab-8d88-f30f59e7eb28\")>,\n",
       " <selenium.webdriver.remote.webelement.WebElement (session=\"6596c8356360603b739b446a66dbdb03\", element=\"4a18c343-59a7-4b5b-845c-d656edd9e399\")>,\n",
       " <selenium.webdriver.remote.webelement.WebElement (session=\"6596c8356360603b739b446a66dbdb03\", element=\"bd625ae8-1b33-49d4-b37d-074bf310e9f1\")>,\n",
       " <selenium.webdriver.remote.webelement.WebElement (session=\"6596c8356360603b739b446a66dbdb03\", element=\"3ad19028-99cc-4a9a-8bfb-d0c1883c1f00\")>,\n",
       " <selenium.webdriver.remote.webelement.WebElement (session=\"6596c8356360603b739b446a66dbdb03\", element=\"f09a0ac2-9b27-4c19-9b8b-be11436ecc5e\")>,\n",
       " <selenium.webdriver.remote.webelement.WebElement (session=\"6596c8356360603b739b446a66dbdb03\", element=\"b5f542c7-dd34-4084-af26-e40bb4266509\")>,\n",
       " <selenium.webdriver.remote.webelement.WebElement (session=\"6596c8356360603b739b446a66dbdb03\", element=\"99ecbfa5-a956-48a0-88b6-f3d4b4934c0e\")>,\n",
       " <selenium.webdriver.remote.webelement.WebElement (session=\"6596c8356360603b739b446a66dbdb03\", element=\"9df24aa3-a352-4f71-aab5-4df0c11d7b09\")>,\n",
       " <selenium.webdriver.remote.webelement.WebElement (session=\"6596c8356360603b739b446a66dbdb03\", element=\"8fb76265-41d5-4917-a636-111bf059785e\")>,\n",
       " <selenium.webdriver.remote.webelement.WebElement (session=\"6596c8356360603b739b446a66dbdb03\", element=\"44f0e5e2-c4a0-4a9b-bf79-9607a68ab6b0\")>]"
      ]
     },
     "execution_count": 22,
     "metadata": {},
     "output_type": "execute_result"
    }
   ],
   "source": [
    "# 내용 크롤링\n",
    "overlays = \".se-component.se-text.se-l-default\"                                 \n",
    "contents = driver.find_elements_by_css_selector(overlays)    # contents\n",
    "contents  #elemenets에 s를 붙여서 하나가 아닌 여러개를 찾는것"
   ]
  },
  {
   "cell_type": "code",
   "execution_count": 23,
   "metadata": {},
   "outputs": [
    {
     "data": {
      "text/plain": [
       "'지난 주에 친구와 점심 약속을 잡고 역삼 맛집에 다녀왔는데요. 덮밥을 수북히 쌓아주신다는 소문대로 풍요로움을 느낄 수 있는 곳이었어요.'"
      ]
     },
     "execution_count": 23,
     "metadata": {},
     "output_type": "execute_result"
    }
   ],
   "source": [
    "contents[0].text"
   ]
  },
  {
   "cell_type": "code",
   "execution_count": 24,
   "metadata": {},
   "outputs": [
    {
     "data": {
      "text/plain": [
       "'지난 주에 친구와 점심 약속을 잡고 역삼 맛집에 다녀왔는데요. 덮밥을 수북히 쌓아주신다는 소문대로 풍요로움을 느낄 수 있는 곳이었어요. 찾아간 곳은 밥밥디라라 역삼본점인데 역삼초등학교 정문에서 2분 정도 거리였어요. 노란 간판이 멀리서도 눈에 띄었는데 식물 가드닝이 되어 있어 인상적이더라고요. 끌고 간 차량은 준비된 주차장에 댔는데 서울 중심가이지만 주차비 걱정을 하지 않아도 된다는 점이 마음에 들었어요. 영업 시간은 오전 11시부터 오후 9시까지로 점심과 저녁까지 든든하게 채울 수 있겠더라고요. 그리고 포장 판매도 하고 계셨는데 곧 배달도 된다니 편하게 이용 가능할 듯해요. 내부는 생각 이상으로 널찍한 공간을 확보한 상태였는데 깔끔함이 돋보였어요. 그리고 비대면 키오스크방식으로 주문받는 스마트한 역삼 맛집이더라고요. 오더를 넣은 후에 따사롭게 햇살이 들던 창가 자리에 앉아 음식을 기다렸는데요. 워낙 창이 깨끗하고 넓다 보니 시티뷰가 한 장의 사진처럼 느껴질 정도였어요. 식기류에서도 차별화를 느낄 수 있었는데 봉투에 담아 위생적으로 제공해주셨어요. 요즘처럼 위생이 신경쓰이는 상황에서 안심하고 방문할 수 있는 곳인 듯해요. 먼저 제공된 음식은 스팸튀김인데 사이드 메뉴중 인기가 핫하길래 시켜봤어요. 테이블에 도착하자마자 느껴지는 스모크한 향이 마음에 들었는데 통조림 곽을 그대로 사용하는 게 인상적이었어요. 챙겨주신 소스에 푹 찍어 음미해보니 짤 거라는 예상과는 다르게 담백하고 고소했어요. 겉면의 크리스피한 식감이 뛰어나서 역삼 맛집의 묘미를 느끼게 해주더라고요. 다음 순서로 돈까스화산덮밥이 나왔는데 직원분이 직접 치즈 토핑을 해주시더라고요. 이름처럼 마그마가 흐르는 거 같은 걸쭉함이었는데 푸짐하게 올려주셨어요. 마무리로 소스까지 흠뻑 적셔주셨는데 식자재를 아끼지 않으시더라고요. 패티 역시 도톰하니 하나만 먹어도 속이 든든해지더라고요. 그래서 가위와 집게로 잘라 즐겼는데 잘린 단면으로 보이는 고기의 두툼함에 또 한 번 반하게 되었어요. 싸구려 패티와는 달랐기에 이곳의 퀄리티를 인정할 수밖에 없었어요. 치즈와 함께 음미해보니 고소함이 고기 위로 자연스럽게 코팅됐어요. 역삼 맛집은 느끼하지 않게 매운맛 소스가 마무리를 해주니 완벽하더라고요. 밥과 건져 먹으니 대식가인 저도 충분히 배부름을 호소할만한 양이었는데요. 여기에 단무지를 살짝 얹어주면 새콤하게 입가심까지 됐어요. 친구는 아보카도 알밥세트를 주문했는데 특색있는 조합에 저 역시 기대가 됐어요. 단정하게 차려진 담음새만큼이나 깔끔하고 담백한 풍미를 자아내더라고요. 세트 구성에도 돈까스가 포함돼 있는데 갓 튀겨 가져다 주시니 단품으로 시키는 것만큼이나 퀄리티가 살아있었어요. 달콤한 소스에 찍어 시식해니 역삼 맛집은 구수함이 상당했어요. 무난하게 즐기기 좋은 스타일이었는데 돼지고기 고유의 맛에 집중할 수 있어 좋았어요. 샐러드도 남기지 않고 섭취했는데 뿌려진 드레싱 소스가 잘 어울리더군요. 무엇보다 싱싱한 샐러드가 입안 가득 생기를 불어주니 식욕이 상승하더라고요. 입속을 정돈하고 아보카도 알밥으로 직행했는데 퓨전 스타일이 제 입맛에도 쏙 맞더라고요. 고기 없이도 과육에서 고소한 맛이 흘러 담백하면서도 깔끔했어요. 안에 들어간 알의 존재감도 확실했는데 톡톡 굴러다니며 씹는 재미를 상승시켜줬어요. 게다가 돌솥의 열기가 후끈하다 보니 오랫동안 온기가 전달되더라고요. 이날 역삼 맛집의 하이라이트는 치킨타워 덮밥이 아닌가 싶어요. 여행지에서 볼 수 있는 돌탑처럼 쓰러지지 않게 차곡차곡 쌓아주셨답니다. 그 비결은 꼬챙이에 있었는데 가지런히 연결을 해주셨어요. 덕분에 지저분하게 흐르지 않고 하나씩 빼서 깔끔하게 즐길 수 있었어요. 먹을 때는 따로 챙겨주신 접시로 담아 하나씩 주워 먹어도 됐는데요. 역시나 미리 만들어 놓지 않고 주문과 동시에 튀겨주시니 바삭함이 으뜸이었어요. 그리고 튀김의 옷을 얇게 하면서 육질의 비율을 높이니 느끼함이 없더라고요. 치킨 전문점이라고 해도 믿어질 정도로 밑간 역시 훌륭했어요. 담아주신 양배추와 곁들이니 은은하게 단맛이 퍼져 계육의 매력을 상승시켜주더군요. 텐더 샐러드 느낌도 들었는데 제 취향에 딱 맞았어요. 독창적인 음식들을 선보여준 덕분에 역삼 맛집이 유쾌하게 자리잡았어요. 앞으로도 시간 날 때마다 들를 거 같은 예감이 드는 곳이랍니다. 신논현역 4번 출구에서 도보 6분 거리의 바비레드는 생방송오늘저녁 383회에게 소개됐던 이탈리안 레스토랑이에요. 오랫동안 꾸준히 사랑받아온 레드 크림 파스타부터 건강식인 바비 포케 샐러드까지 취향에 맞는 요리들이 즐비했네요. 한식과 이탈리안 요리의 색다른 만남을 체험하고픈 분들께 강추드립니다.  유나이티드 문화센터 인근에 자리한 무월식당은 한국의 가정식의 품격을 느낄 수 있는 한식집이에요. 베스트 메뉴로 꼽히는 한방바베큐보쌈은 메인인 훈제 보쌈 외에도, 정갈하게 그지 없는 반찬들이 일품이더라고요. 조용하고 아늑한 분위기와 멋으로 소개팅 자리나 가족모임으로도 안성맞춤인 곳이랍니다. 역삼역 3번 출구에서 300m정도 떨어진 돝고기506은 밥블레스유 6회에 출연한 바 있는 고깃집이에요. 27년 노하우를 바탕으로 총 506시간의 숙성을 거친 한돈구이는 맛이 그야말로 일품이더군요. 별도의 금액을 지불하면 프라이빗한 룸에서 식사할 수 있으니 참고하세요. 르네상스호텔 사거리 방면에 자리한 바게트케이는 MBC파워매거진 351회에 방영될만큼 호평받는 베이커리집이에요. 겉은 바삭하고 속은 부드럽게 그지없는 바게트가 다양하게 판매되고 있으니, 선호하는 스타일로 즐기시면 될 것 같고요. 감각적인 인테리어와 분위기로 사진 명소로도 적격이랍니다.\\n위 포스팅은,\\n소정의 원고료를 받고 작성했습니다.'"
      ]
     },
     "execution_count": 24,
     "metadata": {},
     "output_type": "execute_result"
    }
   ],
   "source": [
    "content_list = []\n",
    "for content in contents:\n",
    "    content_list.append(content.text)\n",
    "\n",
    "content_str = ' '.join(content_list)                         # content_str\n",
    "content_str"
   ]
  },
  {
   "cell_type": "code",
   "execution_count": 25,
   "metadata": {},
   "outputs": [],
   "source": [
    "# 글 하나는 target_info라는 딕셔너리에 담기게 되고,\n",
    "target_info['title'] = title\n",
    "target_info['nickname'] = nickname\n",
    "target_info['datetime'] = datetime\n",
    "target_info['content'] = content_str"
   ]
  },
  {
   "cell_type": "code",
   "execution_count": 26,
   "metadata": {
    "scrolled": true
   },
   "outputs": [
    {
     "data": {
      "text/plain": [
       "{'title': '풍요로웠던 역삼 맛집 리스트',\n",
       " 'nickname': '느느',\n",
       " 'datetime': '2021. 11. 22. 13:00',\n",
       " 'content': '지난 주에 친구와 점심 약속을 잡고 역삼 맛집에 다녀왔는데요. 덮밥을 수북히 쌓아주신다는 소문대로 풍요로움을 느낄 수 있는 곳이었어요. 찾아간 곳은 밥밥디라라 역삼본점인데 역삼초등학교 정문에서 2분 정도 거리였어요. 노란 간판이 멀리서도 눈에 띄었는데 식물 가드닝이 되어 있어 인상적이더라고요. 끌고 간 차량은 준비된 주차장에 댔는데 서울 중심가이지만 주차비 걱정을 하지 않아도 된다는 점이 마음에 들었어요. 영업 시간은 오전 11시부터 오후 9시까지로 점심과 저녁까지 든든하게 채울 수 있겠더라고요. 그리고 포장 판매도 하고 계셨는데 곧 배달도 된다니 편하게 이용 가능할 듯해요. 내부는 생각 이상으로 널찍한 공간을 확보한 상태였는데 깔끔함이 돋보였어요. 그리고 비대면 키오스크방식으로 주문받는 스마트한 역삼 맛집이더라고요. 오더를 넣은 후에 따사롭게 햇살이 들던 창가 자리에 앉아 음식을 기다렸는데요. 워낙 창이 깨끗하고 넓다 보니 시티뷰가 한 장의 사진처럼 느껴질 정도였어요. 식기류에서도 차별화를 느낄 수 있었는데 봉투에 담아 위생적으로 제공해주셨어요. 요즘처럼 위생이 신경쓰이는 상황에서 안심하고 방문할 수 있는 곳인 듯해요. 먼저 제공된 음식은 스팸튀김인데 사이드 메뉴중 인기가 핫하길래 시켜봤어요. 테이블에 도착하자마자 느껴지는 스모크한 향이 마음에 들었는데 통조림 곽을 그대로 사용하는 게 인상적이었어요. 챙겨주신 소스에 푹 찍어 음미해보니 짤 거라는 예상과는 다르게 담백하고 고소했어요. 겉면의 크리스피한 식감이 뛰어나서 역삼 맛집의 묘미를 느끼게 해주더라고요. 다음 순서로 돈까스화산덮밥이 나왔는데 직원분이 직접 치즈 토핑을 해주시더라고요. 이름처럼 마그마가 흐르는 거 같은 걸쭉함이었는데 푸짐하게 올려주셨어요. 마무리로 소스까지 흠뻑 적셔주셨는데 식자재를 아끼지 않으시더라고요. 패티 역시 도톰하니 하나만 먹어도 속이 든든해지더라고요. 그래서 가위와 집게로 잘라 즐겼는데 잘린 단면으로 보이는 고기의 두툼함에 또 한 번 반하게 되었어요. 싸구려 패티와는 달랐기에 이곳의 퀄리티를 인정할 수밖에 없었어요. 치즈와 함께 음미해보니 고소함이 고기 위로 자연스럽게 코팅됐어요. 역삼 맛집은 느끼하지 않게 매운맛 소스가 마무리를 해주니 완벽하더라고요. 밥과 건져 먹으니 대식가인 저도 충분히 배부름을 호소할만한 양이었는데요. 여기에 단무지를 살짝 얹어주면 새콤하게 입가심까지 됐어요. 친구는 아보카도 알밥세트를 주문했는데 특색있는 조합에 저 역시 기대가 됐어요. 단정하게 차려진 담음새만큼이나 깔끔하고 담백한 풍미를 자아내더라고요. 세트 구성에도 돈까스가 포함돼 있는데 갓 튀겨 가져다 주시니 단품으로 시키는 것만큼이나 퀄리티가 살아있었어요. 달콤한 소스에 찍어 시식해니 역삼 맛집은 구수함이 상당했어요. 무난하게 즐기기 좋은 스타일이었는데 돼지고기 고유의 맛에 집중할 수 있어 좋았어요. 샐러드도 남기지 않고 섭취했는데 뿌려진 드레싱 소스가 잘 어울리더군요. 무엇보다 싱싱한 샐러드가 입안 가득 생기를 불어주니 식욕이 상승하더라고요. 입속을 정돈하고 아보카도 알밥으로 직행했는데 퓨전 스타일이 제 입맛에도 쏙 맞더라고요. 고기 없이도 과육에서 고소한 맛이 흘러 담백하면서도 깔끔했어요. 안에 들어간 알의 존재감도 확실했는데 톡톡 굴러다니며 씹는 재미를 상승시켜줬어요. 게다가 돌솥의 열기가 후끈하다 보니 오랫동안 온기가 전달되더라고요. 이날 역삼 맛집의 하이라이트는 치킨타워 덮밥이 아닌가 싶어요. 여행지에서 볼 수 있는 돌탑처럼 쓰러지지 않게 차곡차곡 쌓아주셨답니다. 그 비결은 꼬챙이에 있었는데 가지런히 연결을 해주셨어요. 덕분에 지저분하게 흐르지 않고 하나씩 빼서 깔끔하게 즐길 수 있었어요. 먹을 때는 따로 챙겨주신 접시로 담아 하나씩 주워 먹어도 됐는데요. 역시나 미리 만들어 놓지 않고 주문과 동시에 튀겨주시니 바삭함이 으뜸이었어요. 그리고 튀김의 옷을 얇게 하면서 육질의 비율을 높이니 느끼함이 없더라고요. 치킨 전문점이라고 해도 믿어질 정도로 밑간 역시 훌륭했어요. 담아주신 양배추와 곁들이니 은은하게 단맛이 퍼져 계육의 매력을 상승시켜주더군요. 텐더 샐러드 느낌도 들었는데 제 취향에 딱 맞았어요. 독창적인 음식들을 선보여준 덕분에 역삼 맛집이 유쾌하게 자리잡았어요. 앞으로도 시간 날 때마다 들를 거 같은 예감이 드는 곳이랍니다. 신논현역 4번 출구에서 도보 6분 거리의 바비레드는 생방송오늘저녁 383회에게 소개됐던 이탈리안 레스토랑이에요. 오랫동안 꾸준히 사랑받아온 레드 크림 파스타부터 건강식인 바비 포케 샐러드까지 취향에 맞는 요리들이 즐비했네요. 한식과 이탈리안 요리의 색다른 만남을 체험하고픈 분들께 강추드립니다.  유나이티드 문화센터 인근에 자리한 무월식당은 한국의 가정식의 품격을 느낄 수 있는 한식집이에요. 베스트 메뉴로 꼽히는 한방바베큐보쌈은 메인인 훈제 보쌈 외에도, 정갈하게 그지 없는 반찬들이 일품이더라고요. 조용하고 아늑한 분위기와 멋으로 소개팅 자리나 가족모임으로도 안성맞춤인 곳이랍니다. 역삼역 3번 출구에서 300m정도 떨어진 돝고기506은 밥블레스유 6회에 출연한 바 있는 고깃집이에요. 27년 노하우를 바탕으로 총 506시간의 숙성을 거친 한돈구이는 맛이 그야말로 일품이더군요. 별도의 금액을 지불하면 프라이빗한 룸에서 식사할 수 있으니 참고하세요. 르네상스호텔 사거리 방면에 자리한 바게트케이는 MBC파워매거진 351회에 방영될만큼 호평받는 베이커리집이에요. 겉은 바삭하고 속은 부드럽게 그지없는 바게트가 다양하게 판매되고 있으니, 선호하는 스타일로 즐기시면 될 것 같고요. 감각적인 인테리어와 분위기로 사진 명소로도 적격이랍니다.\\n위 포스팅은,\\n소정의 원고료를 받고 작성했습니다.'}"
      ]
     },
     "execution_count": 26,
     "metadata": {},
     "output_type": "execute_result"
    }
   ],
   "source": [
    "target_info"
   ]
  },
  {
   "cell_type": "code",
   "execution_count": 27,
   "metadata": {},
   "outputs": [],
   "source": [
    "# 각각의 글은 dict라는 딕셔너리에 담기게 됩니다.\n",
    "dict[0] = target_info"
   ]
  },
  {
   "cell_type": "code",
   "execution_count": 28,
   "metadata": {},
   "outputs": [
    {
     "data": {
      "text/plain": [
       "{5: {'title': '풍요로웠던 역삼 맛집 리스트',\n",
       "  'nickname': '느느',\n",
       "  'datetime': '2021. 11. 22. 13:00',\n",
       "  'content': '지난 주에 친구와 점심 약속을 잡고 역삼 맛집에 다녀왔는데요. 덮밥을 수북히 쌓아주신다는 소문대로 풍요로움을 느낄 수 있는 곳이었어요. 찾아간 곳은 밥밥디라라 역삼본점인데 역삼초등학교 정문에서 2분 정도 거리였어요. 노란 간판이 멀리서도 눈에 띄었는데 식물 가드닝이 되어 있어 인상적이더라고요. 끌고 간 차량은 준비된 주차장에 댔는데 서울 중심가이지만 주차비 걱정을 하지 않아도 된다는 점이 마음에 들었어요. 영업 시간은 오전 11시부터 오후 9시까지로 점심과 저녁까지 든든하게 채울 수 있겠더라고요. 그리고 포장 판매도 하고 계셨는데 곧 배달도 된다니 편하게 이용 가능할 듯해요. 내부는 생각 이상으로 널찍한 공간을 확보한 상태였는데 깔끔함이 돋보였어요. 그리고 비대면 키오스크방식으로 주문받는 스마트한 역삼 맛집이더라고요. 오더를 넣은 후에 따사롭게 햇살이 들던 창가 자리에 앉아 음식을 기다렸는데요. 워낙 창이 깨끗하고 넓다 보니 시티뷰가 한 장의 사진처럼 느껴질 정도였어요. 식기류에서도 차별화를 느낄 수 있었는데 봉투에 담아 위생적으로 제공해주셨어요. 요즘처럼 위생이 신경쓰이는 상황에서 안심하고 방문할 수 있는 곳인 듯해요. 먼저 제공된 음식은 스팸튀김인데 사이드 메뉴중 인기가 핫하길래 시켜봤어요. 테이블에 도착하자마자 느껴지는 스모크한 향이 마음에 들었는데 통조림 곽을 그대로 사용하는 게 인상적이었어요. 챙겨주신 소스에 푹 찍어 음미해보니 짤 거라는 예상과는 다르게 담백하고 고소했어요. 겉면의 크리스피한 식감이 뛰어나서 역삼 맛집의 묘미를 느끼게 해주더라고요. 다음 순서로 돈까스화산덮밥이 나왔는데 직원분이 직접 치즈 토핑을 해주시더라고요. 이름처럼 마그마가 흐르는 거 같은 걸쭉함이었는데 푸짐하게 올려주셨어요. 마무리로 소스까지 흠뻑 적셔주셨는데 식자재를 아끼지 않으시더라고요. 패티 역시 도톰하니 하나만 먹어도 속이 든든해지더라고요. 그래서 가위와 집게로 잘라 즐겼는데 잘린 단면으로 보이는 고기의 두툼함에 또 한 번 반하게 되었어요. 싸구려 패티와는 달랐기에 이곳의 퀄리티를 인정할 수밖에 없었어요. 치즈와 함께 음미해보니 고소함이 고기 위로 자연스럽게 코팅됐어요. 역삼 맛집은 느끼하지 않게 매운맛 소스가 마무리를 해주니 완벽하더라고요. 밥과 건져 먹으니 대식가인 저도 충분히 배부름을 호소할만한 양이었는데요. 여기에 단무지를 살짝 얹어주면 새콤하게 입가심까지 됐어요. 친구는 아보카도 알밥세트를 주문했는데 특색있는 조합에 저 역시 기대가 됐어요. 단정하게 차려진 담음새만큼이나 깔끔하고 담백한 풍미를 자아내더라고요. 세트 구성에도 돈까스가 포함돼 있는데 갓 튀겨 가져다 주시니 단품으로 시키는 것만큼이나 퀄리티가 살아있었어요. 달콤한 소스에 찍어 시식해니 역삼 맛집은 구수함이 상당했어요. 무난하게 즐기기 좋은 스타일이었는데 돼지고기 고유의 맛에 집중할 수 있어 좋았어요. 샐러드도 남기지 않고 섭취했는데 뿌려진 드레싱 소스가 잘 어울리더군요. 무엇보다 싱싱한 샐러드가 입안 가득 생기를 불어주니 식욕이 상승하더라고요. 입속을 정돈하고 아보카도 알밥으로 직행했는데 퓨전 스타일이 제 입맛에도 쏙 맞더라고요. 고기 없이도 과육에서 고소한 맛이 흘러 담백하면서도 깔끔했어요. 안에 들어간 알의 존재감도 확실했는데 톡톡 굴러다니며 씹는 재미를 상승시켜줬어요. 게다가 돌솥의 열기가 후끈하다 보니 오랫동안 온기가 전달되더라고요. 이날 역삼 맛집의 하이라이트는 치킨타워 덮밥이 아닌가 싶어요. 여행지에서 볼 수 있는 돌탑처럼 쓰러지지 않게 차곡차곡 쌓아주셨답니다. 그 비결은 꼬챙이에 있었는데 가지런히 연결을 해주셨어요. 덕분에 지저분하게 흐르지 않고 하나씩 빼서 깔끔하게 즐길 수 있었어요. 먹을 때는 따로 챙겨주신 접시로 담아 하나씩 주워 먹어도 됐는데요. 역시나 미리 만들어 놓지 않고 주문과 동시에 튀겨주시니 바삭함이 으뜸이었어요. 그리고 튀김의 옷을 얇게 하면서 육질의 비율을 높이니 느끼함이 없더라고요. 치킨 전문점이라고 해도 믿어질 정도로 밑간 역시 훌륭했어요. 담아주신 양배추와 곁들이니 은은하게 단맛이 퍼져 계육의 매력을 상승시켜주더군요. 텐더 샐러드 느낌도 들었는데 제 취향에 딱 맞았어요. 독창적인 음식들을 선보여준 덕분에 역삼 맛집이 유쾌하게 자리잡았어요. 앞으로도 시간 날 때마다 들를 거 같은 예감이 드는 곳이랍니다. 신논현역 4번 출구에서 도보 6분 거리의 바비레드는 생방송오늘저녁 383회에게 소개됐던 이탈리안 레스토랑이에요. 오랫동안 꾸준히 사랑받아온 레드 크림 파스타부터 건강식인 바비 포케 샐러드까지 취향에 맞는 요리들이 즐비했네요. 한식과 이탈리안 요리의 색다른 만남을 체험하고픈 분들께 강추드립니다.  유나이티드 문화센터 인근에 자리한 무월식당은 한국의 가정식의 품격을 느낄 수 있는 한식집이에요. 베스트 메뉴로 꼽히는 한방바베큐보쌈은 메인인 훈제 보쌈 외에도, 정갈하게 그지 없는 반찬들이 일품이더라고요. 조용하고 아늑한 분위기와 멋으로 소개팅 자리나 가족모임으로도 안성맞춤인 곳이랍니다. 역삼역 3번 출구에서 300m정도 떨어진 돝고기506은 밥블레스유 6회에 출연한 바 있는 고깃집이에요. 27년 노하우를 바탕으로 총 506시간의 숙성을 거친 한돈구이는 맛이 그야말로 일품이더군요. 별도의 금액을 지불하면 프라이빗한 룸에서 식사할 수 있으니 참고하세요. 르네상스호텔 사거리 방면에 자리한 바게트케이는 MBC파워매거진 351회에 방영될만큼 호평받는 베이커리집이에요. 겉은 바삭하고 속은 부드럽게 그지없는 바게트가 다양하게 판매되고 있으니, 선호하는 스타일로 즐기시면 될 것 같고요. 감각적인 인테리어와 분위기로 사진 명소로도 적격이랍니다.\\n위 포스팅은,\\n소정의 원고료를 받고 작성했습니다.'}}"
      ]
     },
     "execution_count": 28,
     "metadata": {},
     "output_type": "execute_result"
    }
   ],
   "source": [
    "dict"
   ]
  },
  {
   "cell_type": "code",
   "execution_count": null,
   "metadata": {},
   "outputs": [],
   "source": []
  },
  {
   "cell_type": "code",
   "execution_count": null,
   "metadata": {},
   "outputs": [],
   "source": []
  },
  {
   "cell_type": "code",
   "execution_count": null,
   "metadata": {},
   "outputs": [],
   "source": []
  },
  {
   "cell_type": "code",
   "execution_count": null,
   "metadata": {},
   "outputs": [],
   "source": []
  },
  {
   "cell_type": "markdown",
   "metadata": {},
   "source": [
    "## 위에 코드들을 for문으로 한번에 "
   ]
  },
  {
   "cell_type": "code",
   "execution_count": 29,
   "metadata": {
    "colab": {
     "referenced_widgets": [
      "90fd656a8c42421bbe133fdcd0598bc6"
     ]
    },
    "id": "XFXmQgE8-kvu",
    "outputId": "132915b2-033b-43b1-997c-cc5609dbf776",
    "scrolled": true
   },
   "outputs": [
    {
     "data": {
      "application/vnd.jupyter.widget-view+json": {
       "model_id": "404fd262105a41979c89494fec2c0320",
       "version_major": 2,
       "version_minor": 0
      },
      "text/plain": [
       "  0%|          | 0/10 [00:00<?, ?it/s]"
      ]
     },
     "metadata": {},
     "output_type": "display_data"
    },
    {
     "name": "stdout",
     "output_type": "stream",
     "text": [
      "0 무조건인 역삼 맛집 모음 \n",
      "1 만족스러운 역삼 맛집 리스트\n",
      "2 [역삼 맛집] 센터필드 차알 역삼점, 역시나 맛은 실망시키지 않는 중식 레스토랑!\n",
      "3 역삼맛집 도야짬뽕 맛있어요 \n",
      "4 눈과 입이 즐거운 역삼 맛집 리스트\n",
      "5 풍요로웠던 역삼 맛집 리스트\n",
      "6 중독적인 역삼역 맛집 모음\n",
      "7 역삼맛집 소이연남! 점심 뭐먹지? 태국음식 리뷰\n",
      "8 [역삼 맛집] 정갈한 한식 반상이 있는 한식 다이닝, 수라선\n",
      "9 [역삼] 파스타맛집 그리고 치즈팩토리 케이크 🍝 디스팅트\n",
      "수집한 글 갯수:  10\n",
      "{0: {'title': '무조건인 역삼 맛집 모음 ', 'nickname': '어신\\n(ranboy)', 'datetime': '2021. 11. 23. 11:30', 'content': '지난 주에 역삼에 사는 친구를 만나러 갔다가 순메밀로 유명한 식당이 있다기에 역삼 맛집을 들려봤어요.\\n정갈한 구성의 반찬들과 세계에서 손 꼽히는 진미인 이베리코 베요따를 푸짐하고 먹고온 곳이라 공유해보려 합니다.  주소: 서울 강남구 언주로93길 30 역삼빌딩\\n전화번호: 0507-1497-5157\\n영업시간: 매일 11:00-21:00 (평일 브레이크 타임 15:00-17:00)\\n메뉴: 이베리코 베요따 16,800원 / 막국수 보통 9,500원  이 날 들렸던 식당 백운봉막국수는 코엑스에서 차로 10분 거리였어요.\\n건물이 워낙크고, 대로변에 위치해 있어서 단번에 찾을 수 있었답니다.  건물내에는 따로 전용주차장까지 마련되어 있어서 편하게 주차를 할 수 있었어요.\\n영업시간은 매일 오전 11시부터 21시까지고, 브레이크타임은 15시부터 17시이니 참고하시면 됩니다.  안으로 들어가니 대체적으로 밝은 인테리어가 눈에 들어왔어요.\\n점심시간이 꽤 지난시간이었는데 반대편에는 꽤 많은 손님도 있었답니다.  한쪽에는 셀프바도 세팅되어 있었어요.\\n여러명이 이용하는 공간이라 위생이 신경쓰이지 않을 수 없었는데, 상당히 깔끔하게 관리하고 계셨어요! 한쪽에는 샐러드종류부터 곁들임채소까지 준비되어 있었는데요.\\n신선도도 뛰어나고 종류도 다양하니 손님을 배려하는 센스가 돋보였죠. 넓은 좌석에 착석 후 메뉴판을 살펴봤어요.\\n역삼 맛집에서는 막국수도 유명하지만 최고등급의 이베리코베요따도 취급하고 있어서 주문해봤어요.  주문과 동시에 상차림이 빠르게 이루어졌어요.\\n로봇을 이용해 기본 상차림이 이루어져서 신기한 구경도 할 수 있었네요! 먼저 입맛을 올려줄 메밀쌈에 각종 채소를 싸서 입 안에 넣어봤어요. \\n최대한 얇게 부쳐주셔서 퍽퍽함이라곤 찾아볼 수 없이 쫄깃했어요.  이어서 역삼 맛집 양파버무리를 맛보았어요.\\n부드럽게 올려진 소스에 양념이 물리지 않았고,\\n적당히 새콤함을 가지고 있어서 고기와함께, 또 단독으로 먹기에도 괜찮았습니다.  밥먹기 전에 입가심으로 선지국이 가득 담겨 나왔는데요.\\n큼지막한 선지를 수저로 부드럽게 떠서 먹으니 속까지 따뜻했더라지요. 다음은 저희가 주문한 이베리코 베요따가 모습을 드러냈어요.\\n족히 3cm정도는 되보이는 두께에 양파와 버섯까지 큼지막하게 썰어주셔서 마음이 다급해졌어요. 미리 준비해주셨던 불판은 어느새 뜨끈하게 예열이 되었는데요.\\n오리지날 참숯을 이용하고 있어서 불향도 제대로 입힐 수 있었답니다.  이어서 베요따를 불판 위로 한가득 올려 주었는데요.\\n치익- 하는 먹음직스러운 소리와 함께 역삼 맛집에 찾아온 보람을 느꼈습니다.  뒤집을 타이밍을 기다리다가 살짝 역보고 뒤집어주었는데요.\\n윤기가 사르르 흐르는 풍채에 침이 꼴깍꼴깍 넘어갔어요.한면에 노릇해지는 걸 확인하고 나서 반대쪽으로 뒤집어줬는데,\\n스테이크를 뛰어넘는 고깃살의 듬직한 풍채에 시선을 뗄 수가 없었어요. 가위를 거칠게 잡아들어 먹기 좋은 크기고 잘라주기 시작했어요. \\n제법 도톰하게 썰었음에도 불구하고 불판한면을 가득 채웠답니다.  같이 등장한 멜젓은 한술 더 떴는데요.\\n비린내는 없고, 청양고추가 한가득 들어 있어서 느낌함을 꽉 잡아주었어요.  마침내 다 익은 고기를 들어 소금만 살짝 찍어 먹어봤어요.\\n잡내는 일절 없었고, 부드러운 식감만이 입 안을 지배해서 역삼 맛집이 맞구나 라는 생각이 들었어요. 뒤이어 숯불판에 양파를 넉넉히 올린 뒤에 단맛이 충분히 올라올 때까지 구워줬어요. 그러고 나서 이베리코 베요따에 곁들여 음미해봤어요.\\n익어서 달달해진 양파가 고기맛을 한층 더 감칠나게 끌어올려줘 자주 즐긴 조합이었답니다. 하지만 메밀쌈에 싸먹는 게 취향에 더 맞았는데요.\\n입 안에서 풍족하게 씹히는 느낌과 포만감까지 획득할 수 있는 방법이었어요. 이윽고 역삼 맛집 비빔순메밀막국수를 추가했어요.\\n예상보다 훨씬 각종 고명 재료들이 넉넉하게 넣어주셨더라고요. 게다가 양념장도 듬뿍 들어있어 촉촉하게 잘 비벼졌는데요.\\n면치기를 하자마자 매콤달콤함이 그윽하게 펴지면서 면발이 쫄깃하게 입 안에서 감겼어요. 다른 손님들이 드시는 걸 보고, 급 관심이 가서 들기름막국수도 덥석 시켰어요.\\n여기는 100% 순메밀로 뽑는 곳이라 그런지 면 색깔부터 진하더라고요. 더불어 들기름이 면발에 제대로 코팅되어 고소함의 끝판왕이었고,\\n자칫 느끼할 수 있는 걸 생열무가 산뜻하게 잡아줘서 마지막 한입까지 질릴 틈이 없었어요. 배부른 한끼를 끝내고 별도로 판매 중이던 웰빙두부과자를 구입해 주전부리도 즐겼는데요.\\n이번에 가보니 역삼 맛집은 음식맛과 분위기 모두 부족함 없이 수준 높아 조만간 또 갈 예정이에요. 주소:서울 강남구 논현로97길 23 1층\\n전화번호:0507-1342-6251\\n영업시간:매일 12:00-19:00\\n메뉴:아메리카노 4,000원 / 체리에이드 6,500원 \\n운치있는 시간을 보내기에 좋은 테라스가 있는 카페인데요.\\n실내 곳곳에도 통창으로 꾸며져 있어 고즈넉한 주택 풍경을 감상할 수 있었어요.\\n아메리카노도 좋았지만, 상큼한 과즙이 감돌던 체리에이드가 입맛에 더 맞았어요. 주소:서울 강남구 테헤란로10길 21\\n전화번호:02-555-3782\\n영업시간:매일 11:00-21:00 \\n메뉴:감자탕 대 41,000원 / 뼈 숯불구이 소 31,000원 \\n테헤란로에서 7분 정도 걸어가면 보이는 감자탕 전문점이에요.\\n목뼈와 국내산 사골을 넣고 푹 끓여내어 육수가 걸죽하니 진국이였는데요.\\n자체 개발한 뼈 숯불구이도 많은 이들에게 사랑받는 인기메뉴였어요. 주소:서울 강남구 논현로94길 29-5\\n전화번호:02-569-0524\\n영업시간:매일 10:00-22:00 (L.O 21:30) / 일요일 09:00-21:00 (L.O 20:30)\\n메뉴:곰탕 11,000원 / 수육 48,000원 \\n3대째 이어서 운영하고 있는 오래된 한우곰탕집이에요.\\n투명하고 맑은 육수가 특징으로 텁텁함 없이 시원했는데요.\\n수요미식회 188편에 방영될 정도로 연륜 깊은 손맛을 자랑했던 한식당이에요. 주소:서울 강남구 언주로93길 22-3 지상 1층\\n전화번호:0507-1326-2126\\n영업시간:매일 11:00 - 22:00 (브레이크 타임 15:00~17:00)\\n메뉴:손만두국 9,000원 / 녹두전 17,000원 \\n직접 만든 이북식 손만두의 매력을 알게 해주었던 만두집인데요.\\n소가 풍부하게 차있고 크기가 커서 포만감이 상당하더라고요.\\n칼국수도 같이 먹을 수 있는 칼만둣국이 마음에 들었어요.'}, 1: {'title': '만족스러운 역삼 맛집 리스트', 'nickname': '김새침\\n(kikijayoung)', 'datetime': '2021. 10. 5. 9:10', 'content': '안녕 김새침언니에요.\\n예전에 살던 동네를 마주치게 되면\\n익숙한 골목골목 지나면서 추억 팔이 하는 거\\n너무 좋잖아요.\\n마침 볼일이 생겨 신나는 발걸음으로 나왔는데\\n온 김에 저녁까지 먹고 들어가자 싶어 \\n익숙한 역삼 맛집들 구경을 해봤어요.\\n아무래도 이쪽은 평일엔 직장인들이 많이 붐비는 곳이라\\n점심시간엔 정말 발걸음이 끊이지 않는 곳도 많거든요.\\n저는 프리랜서니깐 그 시간 피해서\\n주말이나 애매한 시간에 나와서 밥 먹었던 기억이 나는데요.\\n예나 지금이나 술 한잔하면서\\n따스한 분위기에 맛있는 저녁을 먹기 좋은 곳을 발견해\\n맛있게 먹고 온 후기입니다 :)  역삼역 6번 출구에서 3분 거리 밖에 안돼서\\n초 역세권에 위치해있다고 볼 수 있어요!\\n주차도 가게 앞에 세우기 편한 곳.\\nlg아트센터 건너편이에요!\\n서울 강남구 테헤란로25길 31\\n월-토 11:00~21:30 \\n라스트오더 21:00 (일요일 휴무)  웬만해선 거의 다 가본곳이라 \\n새로운 메뉴 없을까 찾아본 건데\\n굉장히 깔끔해 보이는 가게가 눈에 띄더라고요.\\n마침 친구는 어제 과음해서 아직도 속이\\n쓰리다길래 진한 갈비탕 육수로 해장하길 추천했어요. \\n요즘은 포장이나 배달도 자주 이용하게 되는데\\n많이 신경 써서 꼼꼼하게 되는듯하죠.\\n비조리도 있다니 여행갈때나 캠핑갈때\\n선택하기도 좋을 역삼 맛집일듯싶었어요. 밖에서 본 것만큼이나 내부도 깔끔하고\\n따뜻한 식사를 하기 좋아 보이죠.\\n제가 갔을 때 유독 혼자오신분들이 많았는데\\n이쪽에 소호 사무실도 많아서인듯싶어요.\\n테이블도 다양하게 있으니\\nlg아트센터 맛집으로도\\n부담 없이 방문하기 좋아 보였답니다. 생수를 싫어하는 저에겐\\n앉자마자 내주신 우엉차가 너무 좋았는데요.\\n매운갈비찜 소 \\n갈비탕\\n들기름 막국수 \\n주문해 봤어요.\\n깍두기 볶음밥도 땡겼는데\\n갈비찜 양이 생각보다 많아서 결국 못 먹었네요.ㅠ\\n점심에 먹기엔 과할 수도 있는 메뉴는\\n한정판으로 부담 없이 준비된 역삼 맛집이었는데요.\\n아마 직장인들 사이에서 이미\\n인기 메뉴로 자리 잡지 않았을까 싶네요. 딱 필요한 반찬만 나온 모습입니다.\\n진한 육수에 잘 어울린 깍두기 너무 맛있었고\\n양파절임도 달달하니 제가 거의 다 먹은듯싶어요.\\n그리고 바로 밑에\\n핸드폰을 보관하도록 선반이 준비되어 있더라고요.\\n네일샵이후로 이렇게 배려해 주는 테이블 \\n정말 오랜만에 보네요.. ㅎㅎㅎ 뜨거운 김을 모락모락 피우며 등장한 갈비탕입니다.\\n밥 한 공기도 함께 나왔는데요.\\n더욱더 맛있게 즐기도록 \\n청양고추가 듬뿍 들어간 초록특제양념과 \\n야채와 고추가루가 돋보이는\\n빨간특제양념이 함께 준비된 모습이에요. 국물 한입 했더니 속이 꽉 채워지는듯한\\n그 느낌 아시나요?\\n듬뿍 담긴 갈빗살도 먹음직스러워\\n밥을 말아먹어야 되나 고민이 되는 순간이었는데요.\\n고기가 부드럽고 야들야들하니\\n보는 것만큼이나 맛있더라고요.\\n특제양념까지 더해지니 색다르게 먹기 좋았던\\n역삼 맛집이었는데요. \\n잡내도 없었고 깊고 진한 국물맛에\\n해장 제대로 했다는 친구!ㅎㅎ\\n깍두기 하나만으로\\n정말 푸짐하게 먹기 좋았습니다. 그리고 바로 이어서 \\n제가 좋아하는 매운갈비찜도 나왔습니다.\\n막 톡 쏘게 매운맛은 아니기에\\n누구나 좋아할 만한 맛이었는데요.\\n청경채, 버섯, 감자, 떡 등등\\n다양한 식감을 느끼기 좋아\\n역삼 맛집으로 잘 선택해서 왔구나 싶었어요.\\n이미 익혀서 나온 거라 바로 먹기 시작! 뼈에 붙은 살들이 어찌나 크던지\\n먹기 편하게 가위로 잘라주는데 \\n뼈대에서 살들이 속속 잘 빠지더라고요.\\n먹으면서 느꼈던 건\\n다른 곳이랑은 확실히 다르게\\n짜거나 자극적이지 않고 깔끔한 느낌이 들었다는 것!\\n모든 게 다 적당해서 곧 많은분들이\\n좋아하실 역삼 맛집이 될 거 같아요. 티비에도 종종 나와서 궁금했던\\n들기름 막국수도 먹어봤는데요.\\n고소하고 담백한맛에 \\n간이 세지 않아서 역삼 맛집 메인메뉴랑\\n궁합이 좋더라고요.\\n점심엔 갈비탕으로 든든하게 속 달래고\\n저녁엔 술한잔 생각날 때 매운갈비찜으로 \\n찾아오기 좋을 곳이었습니다.\\n함께 곁들여 먹기 좋을 만두도 있으니\\n깔끔한 맛과 퀄리티를 느끼기 좋을 곳 같아요.\\n그리고 위치가 좋으니깐 \\n집에 가기도 편하고 갈만한 이유가 충분하네요!\\n+\\n또 다른 lg아트센터 맛집도 소개해 볼게요.\\n진한 인도향~ 카레향~이 예술인 곳인데\\n자주 먹는 메뉴는 아니지만\\n독특한 맛이 자꾸자꾸 생각나게 만들어서\\n예전에 가끔씩 갔던 곳이에요.\\n집 나간 입맛이 확 돌아오는 곳이라\\n색다른 메뉴를 찾는다면 추천해드리고 싶답니다. +\\n늦게까지 영업하는 곳이라\\n역삼동 살 때 야식으로 자주 찾았던 곳이에요.\\n야들야들한 콜라겐이 입에서 살살 녹는데\\n제 지인들도 극찬했던 곳인데요.\\n생각지도 않은 김치찌개도 끝내주게 맛있었어요. +\\n프라이빗하게 즐기기 좋은 일식집!\\n원래도 인기 좋고 연예인들도 많이 가는 곳!\\n간장게장이랑 보리굴비가 너무 맛있어서\\n이미 유명한 곳인데 오랜만에 생각나서 적어봐요. +\\n여기 모르면 역삼동 살았다고 할 수 없죠~~\\n기사님들이 많이 찾는 곳이기도 하고\\n진하게 해장하실 분들에게 추천하고 싶은 곳이에요.\\n제가 다녀온 lg아트센터 맛집과는 \\n정 반대적인 분위기로 전통 있는 곳이라 볼 수 있어요.\\n티비에도 나온 곳!\\n여기까지 lg아트센터 맛집이었습니다.\\n오늘도 내일도 맛있는 한끼를 위해 화이팅!  본 포스팅은 업체로부터 이용권을 지원받아 직접 체험 후 작성하였습니다.'}, 2: {'title': '[역삼 맛집] 센터필드 차알 역삼점, 역시나 맛은 실망시키지 않는 중식 레스토랑!', 'nickname': '여행하지마리오\\n(sh_road)', 'datetime': '2021. 12. 1. 12:00', 'content': \"지난주 월요일 여자친구와 예비 처제, 동서와 4명이서 센터필드 맛집인 '차알' 역삼점에 다녀왔어요!\\n이번이 저에게는 3번째 차알 방문인데 역시 믿고먹는 중식당이었답니다ㅎㅎ\\n청첩모임으로 차알 판교점만 2번 갔었는데 역삼점은 처음이었어요. 위치는 지하철 역삼역에서 약 5분정도 걸으면 됩니다.\\n참고로 센터필드는 신규 오픈한 5성급 호텔인 조선팰리스가 있는 곳이에요! 새로 지은 빌딩이라 확실히 로비가 엄청 깔끔하고 고급지더라구요.\\n입구의 초대형 LED 화면에는 센터필드 건물 내 입점한 곳들에 대한 소개가 계속해서 보여지고 있었어요. 센터필드 지하2층엔 여러 레스토랑들이 모여있습니다.\\n'차알'도 그 중 한곳으로 지하2층에 있어요 :) 지하 2층에는 꽤 여러 음식점 및 카페들이 있었는데 사진과 같이 가게가 전부 오픈형식으로 구성되어 있어요.\\n아마도 룸으로 된 식당은 센터필드 지하2층에는 없지 않을까 싶습니다. 차알의 경우 영어로 'Cha R' 표시되어 있어요!\\n영업시간은 매일 오전11시~오후9시 입니다. 차알에서 식사를 할 경우 2시간 무료 주차 가능합니다.\\n다만, 다른 매장과 누적/중복 등록은 되지 않기 때문에 초과 시 10분당 1,500원의 사악한 주차비가 발생한다는 점 주의하세요!\\n인당 25,000원 이상 주문 시 콜키지프리더라구요~ 차알은 '아메리칸 차이니즈' 레스토랑입니다.\\n예전부터 일반적인 중식당이 아닌 아메리칸을 강조하는 이유가 뭘까 궁금했는데\\n미국 차이나타운 레시피를 재해석 했기 때문이라고 하네요ㅎㅎ 내부 인테리어는 약간 '홍콩' 느낌이 났어요.\\n평범했던 판교점과는 전혀 다른 인테리어더라구요 ㅎㅎ\\n괜히 중화권에서 음식 먹는 느낌이 드는건 기분탓이겠죠..? 대략 20테이블 정도 있었던거 같아요.\\n회사 회식으로 온 팀도 있던데 회식장소로도 괜찮은거 같네요ㅎㅎ 전 청첩장 모임으로도 완전 추천! 메뉴는 클릭하시면 크게 확대해서 볼 수 있습니다!\\n딤섬, 누들, 라이스, 치킨 등 상당히 많은 종류의 메뉴가 있어서 살짝 선택장애가 오긴 합니다.\\n저흰 딤섬 1종류와 마라탕면, 깐풍가지새우를 먼저 먹고\\n오렌지치킨과 볶음밥을 추가로 주문해서 먹었답니다. 중식당 답게 당연히 고량주도 팔았는데 '아메리칸'이 붙어서인지 와인도 팔던게 색달랐어요ㅎㅎ\\n그리고 연태하이볼이라는건 처음봤는데 연태 고유의 향과 하이볼 향의 조합이 어떨지 궁금하더라구요. 기본세팅이구요.\\n이제 우리가 먹었던 음식 소개 갑니다~~ 음식은 연달아서 빨리 나왔어요.\\n그래서 깨끗한 한 상을 사진으로 찍을 수 있었네요ㅎㅎ\\n음식 먹을 때 끊기면 안되는데 빠릿빠릿 나와서 좋았습니다 '바질하교'\\n3pcs에 8,000원이고 1개 추가 시 2,500원입니다.\\n저희는 4명이서 당연히 4pcs로 시켰구요~\\n포동포동 새우가 터지는 본연의 맛을 느끼기 위해서 골랐습니다ㅎㅎ 피도 상당히 쫄깃하고 다진 새우임에도 통통 터지는 촉감을 느낄 수 있더라구요!\\n안에 뜨거운 즙이 풍족히 있다보니 한입에 먹다간 입천장 데이니 조심하세요ㅠㅠ '오렌지 치킨'\\n치킨과 오렌지의 조합은 상상만으로는 정말 이상할 거 같죠..?\\n근데 처음 차알을 방문 했을 때 먹어보고 항상 올 때 마다 먹는 메뉴입니다ㅎㅎ 향긋한 오렌지향이 분명 나는데 치킨의 맛을 잡아먹을 정도는 아니고 오묘하게 적절한 조화가 진짜 맛있어요!\\n치킨도 전혀 딱딱하지도 않고 부드러워서 좋았어요. '연태하이볼'\\n연태고량주는 호불호가 있기도하고 높은 도수에 걱정하시는 분들이 있을텐데\\n일단 도수 걱정은 1도 안해도 됩니다.\\n다만 연태 고유의 향은 확실하게 나구요.\\n연태고량주는 별로 첨가 되지 않은 듯 했어요.\\n고량주 느낌은 찾아 볼 수 없었고 음료수 같았습니다.\\n고량주 비율 조절 가능하면 좋을 듯 합니다ㅎㅎ '차알 마라탕면'\\n흔히 생각하는 마라탕과는 조금 달라요.\\n우선 면 선택은 따로 안되고 짬뽕면입니다.\\n제가 알던 마라향과는 확실히 다른 차알만의 퓨전 마라탕 같았는데 처음 접하는 사람도 거부감 없이 먹을 수 있을거에요! 매콤한거 좋아하는 사람에겐 딱이에요!\\n그렇다고 막 엄청 매워서 땀나고 그정돈 아니기 때문에 맵찔도 충분히 먹을만 합니다. '깐풍마늘가지새우'\\n양꼬치집에서 먹는 가지볶음을 상당히 좋아하는데 그 느낌에 매콤하면서 새우까지 들어가있으니\\n비싸도 저에게 있어서는 최고의 베스트 메뉴였습니다. 가지 따로, 새우 따로가 아니라 두 개가 붙어있어요ㅋㅋ 내일 출근이지만 고량주를 안시킬 수가 없었습니다. 살짝 아쉬워 '게살볶음밥' 추가요~\\n다들 배부른데 새우깡마냥 계속 손이가던 메뉴였죠ㅋㅋ\\n혼밥을 하기엔 살짝 양이 작을 수도 있을거 같은데 2명이서 면메뉴와 딤섬, 볶음밥 이렇게 먹으면 점심으로 최고의 조합이지 않을까 싶습니다. 단품만 보면 양이 작아보였는데 막상 4명이서 5개 메뉴를 먹었더니 모두 배가 너무 불렀어요.\\n메뉴마다 모두 안이 꽉 차게 압축되서 나온 느낌이랄까나요?\\n그리고 시켰던 메뉴들은 전부 하나같이 진짜 찐으로 맛있었습니다. 차알은 확실히 믿고먹는 체인식당입니다!\\n다만 중식 메뉴 자체가 기름이 많다보니 너무 많이 먹으면 니글거릴 수도 있을 거 같아요.\\n적당히 음주류와 함께 즐기시면 더 맛있게 먹을 수 있지 않을까 싶습니다ㅎㅎ\\n'일부 메뉴에 한해 '차알'에서 제공받아 솔직하게 작성한 글입니다'\"}, 3: {'title': '역삼맛집 도야짬뽕 맛있어요 ', 'nickname': '수자매하우스\\n(lovely-oh)', 'datetime': '2021. 12. 29. 3:41', 'content': '오랫만에 남편이랑 점심 데이트 \\n사실 남편이 중식을 좋아해서 중식 메뉴 골라주면 \\n더 맛있게 먹어 괜히 뿌듯하고 그래요 \\n역삼맛집 도야짬뽕 대만족 후기 들려드려요 \\n남편이 말하기를 다 먹고 주차장 나가며 \\n데리고 와서 내가 잘 먹으면 너가 더 좋아하더라 하며 \\n훈훈하게 퇴장을 하하하하 \\n주차장은 따로 없고 차 이용하시는 분들은 \\n안전하게 바로 맞은 편  코레이트타워 주차장 이용했어요 \\n전 들어가서 주문하고 있고 \\n저 내려주고 남편은 주차하러 간 사이 먼저 올라가봤지요  계단을 이용해 건물 안쪽으로 들어가 \\n2층에 위치해 있답니다 \\n사람이 꽤 많았어요 점심시간 피크는 좀 지나고 있고 \\n브레이크 타임이 따로 있더라구요 \\n후다닥 먹고 브레이크 타임 딱 맞게 일어났지요  1인세트 , 2인세트 세트메뉴 \\n독보적인 메뉴가 눈길을 끄네요 \\n저녁엔 안주 메뉴 겸 식사 메뉴 \\n요즘 혼밥 하시는 분들도 많기에 \\n이런 메뉴가 탄생했나봅니다 \\n아주 가성비가 괜찮네요 하하  어머 내부로 들어오니 세련된 분위기 \\n요즘 중식당 가보면 정말 밝고 분위기도 좋고 \\n인테리어도 한 몫하는 거 같아요 \\n진짜 이제는 예전 중식당 생각하면 안되요 \\n이렇게 얘기하니 나 되게 옛날 사람 같지만 아니고요 하하 \\n청결하고 내부도 깔끔하고 \\n직원분들도 굉장히 친절하셔서 좋았어요 \\n서비스 좋으면 괜히 기분 좋은 그런 느낌 있자나요  베트남 고추가루 일반 고춧가루 \\n눈에 띄이네요 \\n각각 하나씩 있더라구요 \\n왜 있는지는 물음표 하하하 \\n뭐 각자 입맛에 맞게 먹으라고 그랬겠죠? 도야짬뽕은 체인점 이더라구요 \\n짬뽕에 인생을 걸었다 1460일동안 면과 국물만 연구 \\n우와 뭔가 맛집은 달라도 다르고 하루 아침에 되는 게 \\n절대 아니란 걸 \\n맛집은 그리고 쉽게 되는 게 아니라는 걸 \\n수많은 경험을 통해 결과가 나옴으로써 \\n국물과 면의 최고가 나오는거죠 \\n진짜 예술이더라구요 맛있었어요  역삼맛집 도야짬뽕 왔으면 도야짬뽕 무조건 먹어봐야죠 \\n그리고 도야볶음밥 \\n그리고 탕수육 주문했어요 \\n탱탱한 식감과 국물의 흡수도 \\n잘 만끽해보시길 바래요 \\n맛의 기본은 정말 신선한 재료인데요 \\n직원분들이 이제 브레이크 타임을 알림으로써 \\n저 쪽에서 양파 뭉태기를 들고 가시는 모습이 인상적이였어요 \\n당일 손질해서 당일 식재료를 만드시는 것!!!\\n최고의 맛과 서비스를 제공하는 것 \\n도야짬뽕 재방문각 당연 이고요  도야짬뽕 서비스 인상적이였어요 \\n무료카페존부터 시작해서 \\n많은 서비스들이 있으니 함께 공유해보세요 \\n아이들과 외식도 가능할 수 있게 아기의자 준비되어 있구요 \\n당연 애 엄마니 눈에 띄일 수밖에 없구요 \\n포장 가능 , 배달 가능한 역삼 맛집 입니다  SNS 홍보가 많은 힘이 된다는 사실 \\n아시죠?\\n잠깐 시간 투자하시고 솔직담백하게 기록해주시면 \\n맛있는 서비스가 찾아온답니다 \\n독보적인 세트메뉴 확인하시구요  연말행사 예약이 가능하니 참고하세요 \\n사실 시국이 참 아이러니 하지만 \\n맛있는 곳임을 무조건 알려드립니다 \\n모임하기에도 좋아요 \\n중식 좋아하시는 분들 무조건 모여요 하하  인생짬뽕 궁금하신가요 \\n역삼맛집 도야짬뽕 맛 보세요 \\n여지껏 맛 보지 못한 국물맛에 감동받으실 수 있어요 \\n얼큰한 거 좋아하고 남들 짜장면 먹을 때 \\n전 짬뽕 먹는 스타일이라 그리고 소주 한잔 좋아해서 \\n해장으로 짬뽕 굉장히 좋아하는데 정말 \\n속이 풀리는 맛입니다  손님들이 테이블마다 계셔서 우리가 거의 \\n브레이크 타임 전 마지막 손님이라 찍어봅니다 \\n매장도 넓고 쾌적하고 깔끔해요  창가 쪽에 앉았는데 남편이 멀리 셀프존을 발견하네요 \\n단무지도 왜 이렇게 맛있고 \\n얇아서 너무 좋더라구요 \\n그 무침 같은 거 뭐라고 하죠 그 중식당 가면 있는 \\n유일한 중식에서만 볼 수 있는 기본 찬 중에 하나인데 \\n그것도 양념이 아주 심심하면서 참 맛있더라구요 \\n왜케 맛있는 건데 하면서 음식 기다리며 한 접시 클리어 하하 \\n개인차이가 있으니 참고하시구요  도야짬뽕 그리고 도야볶음밥 \\n볶음밥 딱 한 입 먹었어요 \\n남편이 맛있다고 다 먹고 한 입 중간에 맛 봐야 된다고 \\n주더라구요 하하하하 \\n너무 맛있었나봅니다 \\n맛있게 먹어주니 내가 해준 건 아니지만 개 뿌듯 하하  탕수육 왜 또 그렇게 맛있었나요 \\n희한하게 새로운 신선한 맛이였어요 \\n탕수육 소스도 범벅이 아닌 살짝 뿌려지고 \\n튀김옷에 살짝 간이 베어있었어요 \\n후추간 비슷했는데 과하지 않고 \\n짭쪼름 적당한 맛이라 맛있게 먹었어요 \\n중식을 이렇게 맛있게 먹으니 남편도 놀란 눈치 \\n맛있게 끊임없이 먹었답니다 하하  위에는 카메라 버전 \\n요것은 핸드폰 갤럭시21 울트라 버전 \\n하아 먹음직스럽네요 둘다 공통점은 하하 \\n진짜 맛있게 먹었고 다음엔 애들이랑 울 엄마 꼭 데리고 와야지 \\n넘 맛있게 먹어서 재방문각 \\n재차 강조하지만 정말 깔끔했어요 음식들이  짬뽕도 잘 안 먹는 사람인데 각자 구역이 있으니 \\n남편이 짬뽕도 한 젓갈 달래서 후루룩 다 먹더라구요 \\n맛있게 먹으니 참 정말 좋아요 \\n내가 데려간 맛집 인정 \\n역삼맛집 도야짬뽕 이 집 짬뽕 참 괜찮네요 \\n해산물도 푸짐하고 한 가득이라 양도 많아요 \\n탕수육도 참 괜찮고 맛있었어요  맛있게 정신없이 휴지뜯어 코 풀어가며 \\n개운하게 짬뽕 한 그릇 다 먹고 \\n국물에 밥 한 공기 말아드신 나란 여자 어쩌지 \\n하하하하 든든하게 맛있게 먹었어요 \\n공기밥도 무료 제공 입니다 \\n추가 주문 안해도 되고 밥도 그냥 주니 대박 입니다 \\n저 멀리 공기밥 무료 꼭 확인하세요  무료카페존 \\n든든하게 식사 마친 후 커피 한잔 들고 퇴장해요 \\n음료수도 준비되어 있어요 \\n커피도 따뜻한 거 , 아이스 잔까지 얼음까지\\n준비만발 입니다 \\n정말 고객들을 위해 많은 서비스까지 \\n준비해 놓은 정성에 감동입니다 \\n잘 먹고 왔습니다   서울 강남구 강남대로94길 87 진남빌딩 2층\\n역삼동 644-4 진남빌딩 2층 \\n역삼역 4번 출구 161m\\n02-556-0303\\n영업 \\n매일 오전 11시 ~ 밤 9시  '}, 4: {'title': '눈과 입이 즐거운 역삼 맛집 리스트', 'nickname': '두덩두덩', 'datetime': '2021. 11. 9. 9:00', 'content': '안녕하세요. 두덩이에요 :)\\n오늘은 역삼 맛집들을 포스팅할까 합니다!\\n그중에서도 제가 최근에 비주얼에 한번, \\n그 맛에 한번 놀란 곳이 있어 가장 먼저 소개를 하려고 해요~ 바로 용용선생 강남역점인데요!\\n이곳이 식당 창업에 올인한 젊은 창업자들의\\n주점인데, 그 스토리가 유튜브에서 화제가 되어\\n입소문을 타고 있는 곳이에요.\\n저도 여기를 인스타그램에서 자주 보이던 곳이라\\n정말 궁금했었거든요?\\n특히 상호명 자체가 유니크하고\\n1930년대 홍콩 뒷골목을 컨셉으로 했다는 것이\\n기존의 다른 중식당과는 차별화된 것 같아서\\n더욱 색다르게 다가왔던 것 같아요! 전화 : 0507-1395-5369\\n매일 17:00-01:00 강남역 11번 출구에서 도보 3분 정도 거리에\\n위치해 있어요!\\n위드코로나 이후 저의 첫 불금이었어요.\\n그래서 기대 반 걱정 반으로 강남에 도착을 했는데,\\n와.. 역시나 핫했어요! 역삼 맛집으로도 이미 입소문이 난 곳이라서\\n저는 친구를 기다리다가 웨이팅이 있을 것 같아서\\n친구를 만나기 전에 먼저 용용선생 강남역점으로 향했어요.\\n그런데.. 제가 저녁 7시쯤 도착을 했는데\\n10팀이 넘는 웨이팅이 있었어요..ㅠㅠ 제가 원래 웨이팅을 잘 하지 않는 사람인데,\\n하루 종일 요기 음식들 먹을 생각에\\n점심도 식단 챙겨 먹고 인스타그램에 여기 음식 사진 보면서\\n정말 큰 기대를 하고 왔거든요.\\n그리고 밖에 나와 있는 메뉴판을 보는데,\\n도저히 발걸음이 떨어지지 않는 거예요.\\n그래서 우선 제 이름을 적고 웨이팅을 했습니다.\\n홍콩식 주점이라 술을 먹는 곳이기에 회전율은 그렇게 빠르지 않았지만,\\n다들 2차 갈 시간 즈음에 훅훅 빠지더라구요!\\n웨이팅은 약 1시간? 정도 한 것 같아요~ 저희 뒤에도 꾸준히 웨이팅 팀이 늘어났고,\\n한팀한팀 빠지는 것에 기뻐하며 친구랑 수다 떨면서\\n기다렸어요 ㅋㅋㅋㅋ\\n저희 입장 순서가 곧 다가왔을 때에는 이렇게\\n안에서 웨이팅을 했는데,\\n중간의 자라라창과 붉은색의 네온사인들이\\n정말 홍콩 분위기가 뿜뿜했어요.\\n왜 용용선생 강남역점이\\n역삼 맛집으로 핫한지 알 것 같습니다~ 무엇보다 1930년대의 영국문화가 융합된\\n레트로 분위기가 더해져 더욱 제 취향이었어요 ㅎㅎ 드디어 제 이름이 호명되는 순간.\\n어찌나 짜릿하고 기분이 좋던지 ㅋㅋㅋ\\n안에서 맛있는 음식들 냄새 맡으며 정말 군침 흘렸습니다..\\n여기 직원분도 너무 친절하셔서\\n더욱 마음에 들었어용 자리에 앉자마자 얼른 음식을 주문하기 위해\\n빠르게 메뉴를 스캔했어요.\\n사실 저는 이미 인스타로 다 보고 무엇을 먹을지\\n결정을 하고 온 터라.. 호다닥 주문을 했습니다 ㅎㅎ\\n이곳의 메인 메뉴는 고추바삭 유림기!\\n고추 들어간 매운 음식을 좋아하는 \\n저는 이 메뉴가 가장 기대가 되었어요.\\n그 외에 튀김요리, 마라요리,\\n냉채&무침요리, 볶음, 튀김, 탕 요리 등\\n중식 요리들이 가득합니다~ 알찬 메뉴 구성으로 저렴한 가격에 즐길 수 있는\\n세트 메뉴들도 있으니 참고하면 좋을 것 같아요.\\n용용선생 강남역점에서 베스트메뉴들만 모아놓은 세트거든요~\\n역삼 맛집까지 왔는데, 베스트 메뉴들 즐겨줘야죠! 기본으로 나오는 땅콩과 단무지.\\n음식이 나오기 전에 땅콩을 한두개 집어먹고 있으니\\n정말 홍콩에 온듯한 기분이 들었어요 ㅋㅋ 이날 저희가 선택한 주류는\\n홍콩 분위기와 잘 어울리는 아사간열 토닉세트를\\n주문했어요.\\n고량주가 도수가 높고 흔하지 않은 술이다 보니\\n잘 접하지 않는 술중에 하나인데,\\n고량주에 토닉워터를 섞어 더욱 맛있게 즐길 수 있어서\\n한번 주문해 봤습니다! 고량주 특유의 향과\\n토닉워터의 청량감이 더해져 너무 맛있었어요.\\n특히 저희가 주문한 음식들과의 조합이 좋아서\\n아주 술술 들어갔답니다~ 가장 먼저 나온 음식은 \\n흑후추우삼겹 (10,900원)\\n블랙페퍼 소스에 볶아낸 우삼겹요리인데,\\n그 소스의 풍미가 우삼겹에 가득 묻어 있어서\\n정말 맛있게 먹었어요.\\n특히 야채도 다양해서 더욱 좋았어요.\\n감칠맛 돌고.. 밥이 절로 생각나는 맛!\\n거기에 불향도 약간 나면서 다양한 식감을\\n느낄 수 있었어용! 혹시 역삼 맛집으로 마라탕을 찾으신다면\\n용용선생 강남역점을 감히 추천해요.\\n와.. 저 여기서 마라수혈 제대로 했거든요?\\n화산 마라 전골 (20,900원)\\n전골 육수에 우삼겹이 먹기 좋게 겹겹이 쌓여 있었어요,\\n그 위에는 마라 소스인 것 같은데,\\n이름처럼 화산을 제대로 표현했더라구요! 팔팔 끓이며 산처럼 쌓인 우삼겹과\\n안에 있던 숙주를 푸욱 담갔어요.\\n냄비 안에는 우삼겹, 중국당면, 분모자, 각종 야채가\\n아낌없이 들어가 있는데,\\n여기 마라 제대로에요.\\n일반 마라탕집 가면 한국인 입맛에 맞춘다고\\n마라향이 적은 곳이 많은데,\\n여기는 정말 마라향 제대로고 국물도 얼얼하니\\n별점 5점.. 역삼 맛집에서 한상 제대로 즐기는 동안 이어서 나온\\n마라왕교자 (6,000원)\\n이 작은 교자 만두에서 마라향을 가득 품고 있어서\\n눈이 똥그래지는 맛이었어요.\\n제 친구는 용용선생 강남역점에서 이 교자가 제일 맛있었다고..\\n일반 교자를 생각하면 오산!\\n진짜 한입 베어 물면 예상과는 정말 맛있어서 놀래요. 마지막으로 나온 이곳의 대표메뉴\\n고추바삭 유림기 (18,900원)\\n두툼한 닭다리살을 각종 향신료로\\n18시간동안 마리네이션 하며 튀겨낸 요리에요.\\n말 안해도 알 것 같은 겉.바.속.촉 비주얼\\n청양고추가 송송 썰려 한가득 올려주는데,\\n유림기에 고추 하나 올려 먹으면\\n기름기의 느끼함은 잡아주고\\n속살의 부드러움을 제대로 느낄 수 있어요. 무엇보다 안에 새콤달콤한 소스와 아삭한\\n양배추를 함께 먹으면 그 맛은 환상..\\n이거 꼭 드세요 여러분..\\n고기가 이렇게 부드러워도 되나 싶을 정도로\\n그냥 난리나요..!! 기대 이상으로 정말 맛있게 먹은 역삼 맛집은\\n특색 있는 컨셉의 인테리어,\\n그리고 자기주장 강한 음식들.\\n하나하나 퀄리티 있는 음식들이라 더더욱\\n만족도가 높았어요.\\n다음엔 칼퇴하고 용용선생 강남역점에\\n웨이팅 생기기 전 무조건 달려와야겠어요..! '}, 5: {'title': '풍요로웠던 역삼 맛집 리스트', 'nickname': '느느\\n(mephisto69)', 'datetime': '2021. 11. 22. 13:00', 'content': '지난 주에 친구와 점심 약속을 잡고 역삼 맛집에 다녀왔는데요. 덮밥을 수북히 쌓아주신다는 소문대로 풍요로움을 느낄 수 있는 곳이었어요. 찾아간 곳은 밥밥디라라 역삼본점인데 역삼초등학교 정문에서 2분 정도 거리였어요. 노란 간판이 멀리서도 눈에 띄었는데 식물 가드닝이 되어 있어 인상적이더라고요. 끌고 간 차량은 준비된 주차장에 댔는데 서울 중심가이지만 주차비 걱정을 하지 않아도 된다는 점이 마음에 들었어요. 영업 시간은 오전 11시부터 오후 9시까지로 점심과 저녁까지 든든하게 채울 수 있겠더라고요. 그리고 포장 판매도 하고 계셨는데 곧 배달도 된다니 편하게 이용 가능할 듯해요. 내부는 생각 이상으로 널찍한 공간을 확보한 상태였는데 깔끔함이 돋보였어요. 그리고 비대면 키오스크방식으로 주문받는 스마트한 역삼 맛집이더라고요. 오더를 넣은 후에 따사롭게 햇살이 들던 창가 자리에 앉아 음식을 기다렸는데요. 워낙 창이 깨끗하고 넓다 보니 시티뷰가 한 장의 사진처럼 느껴질 정도였어요. 식기류에서도 차별화를 느낄 수 있었는데 봉투에 담아 위생적으로 제공해주셨어요. 요즘처럼 위생이 신경쓰이는 상황에서 안심하고 방문할 수 있는 곳인 듯해요. 먼저 제공된 음식은 스팸튀김인데 사이드 메뉴중 인기가 핫하길래 시켜봤어요. 테이블에 도착하자마자 느껴지는 스모크한 향이 마음에 들었는데 통조림 곽을 그대로 사용하는 게 인상적이었어요. 챙겨주신 소스에 푹 찍어 음미해보니 짤 거라는 예상과는 다르게 담백하고 고소했어요. 겉면의 크리스피한 식감이 뛰어나서 역삼 맛집의 묘미를 느끼게 해주더라고요. 다음 순서로 돈까스화산덮밥이 나왔는데 직원분이 직접 치즈 토핑을 해주시더라고요. 이름처럼 마그마가 흐르는 거 같은 걸쭉함이었는데 푸짐하게 올려주셨어요. 마무리로 소스까지 흠뻑 적셔주셨는데 식자재를 아끼지 않으시더라고요. 패티 역시 도톰하니 하나만 먹어도 속이 든든해지더라고요. 그래서 가위와 집게로 잘라 즐겼는데 잘린 단면으로 보이는 고기의 두툼함에 또 한 번 반하게 되었어요. 싸구려 패티와는 달랐기에 이곳의 퀄리티를 인정할 수밖에 없었어요. 치즈와 함께 음미해보니 고소함이 고기 위로 자연스럽게 코팅됐어요. 역삼 맛집은 느끼하지 않게 매운맛 소스가 마무리를 해주니 완벽하더라고요. 밥과 건져 먹으니 대식가인 저도 충분히 배부름을 호소할만한 양이었는데요. 여기에 단무지를 살짝 얹어주면 새콤하게 입가심까지 됐어요. 친구는 아보카도 알밥세트를 주문했는데 특색있는 조합에 저 역시 기대가 됐어요. 단정하게 차려진 담음새만큼이나 깔끔하고 담백한 풍미를 자아내더라고요. 세트 구성에도 돈까스가 포함돼 있는데 갓 튀겨 가져다 주시니 단품으로 시키는 것만큼이나 퀄리티가 살아있었어요. 달콤한 소스에 찍어 시식해니 역삼 맛집은 구수함이 상당했어요. 무난하게 즐기기 좋은 스타일이었는데 돼지고기 고유의 맛에 집중할 수 있어 좋았어요. 샐러드도 남기지 않고 섭취했는데 뿌려진 드레싱 소스가 잘 어울리더군요. 무엇보다 싱싱한 샐러드가 입안 가득 생기를 불어주니 식욕이 상승하더라고요. 입속을 정돈하고 아보카도 알밥으로 직행했는데 퓨전 스타일이 제 입맛에도 쏙 맞더라고요. 고기 없이도 과육에서 고소한 맛이 흘러 담백하면서도 깔끔했어요. 안에 들어간 알의 존재감도 확실했는데 톡톡 굴러다니며 씹는 재미를 상승시켜줬어요. 게다가 돌솥의 열기가 후끈하다 보니 오랫동안 온기가 전달되더라고요. 이날 역삼 맛집의 하이라이트는 치킨타워 덮밥이 아닌가 싶어요. 여행지에서 볼 수 있는 돌탑처럼 쓰러지지 않게 차곡차곡 쌓아주셨답니다. 그 비결은 꼬챙이에 있었는데 가지런히 연결을 해주셨어요. 덕분에 지저분하게 흐르지 않고 하나씩 빼서 깔끔하게 즐길 수 있었어요. 먹을 때는 따로 챙겨주신 접시로 담아 하나씩 주워 먹어도 됐는데요. 역시나 미리 만들어 놓지 않고 주문과 동시에 튀겨주시니 바삭함이 으뜸이었어요. 그리고 튀김의 옷을 얇게 하면서 육질의 비율을 높이니 느끼함이 없더라고요. 치킨 전문점이라고 해도 믿어질 정도로 밑간 역시 훌륭했어요. 담아주신 양배추와 곁들이니 은은하게 단맛이 퍼져 계육의 매력을 상승시켜주더군요. 텐더 샐러드 느낌도 들었는데 제 취향에 딱 맞았어요. 독창적인 음식들을 선보여준 덕분에 역삼 맛집이 유쾌하게 자리잡았어요. 앞으로도 시간 날 때마다 들를 거 같은 예감이 드는 곳이랍니다. 신논현역 4번 출구에서 도보 6분 거리의 바비레드는 생방송오늘저녁 383회에게 소개됐던 이탈리안 레스토랑이에요. 오랫동안 꾸준히 사랑받아온 레드 크림 파스타부터 건강식인 바비 포케 샐러드까지 취향에 맞는 요리들이 즐비했네요. 한식과 이탈리안 요리의 색다른 만남을 체험하고픈 분들께 강추드립니다.  유나이티드 문화센터 인근에 자리한 무월식당은 한국의 가정식의 품격을 느낄 수 있는 한식집이에요. 베스트 메뉴로 꼽히는 한방바베큐보쌈은 메인인 훈제 보쌈 외에도, 정갈하게 그지 없는 반찬들이 일품이더라고요. 조용하고 아늑한 분위기와 멋으로 소개팅 자리나 가족모임으로도 안성맞춤인 곳이랍니다. 역삼역 3번 출구에서 300m정도 떨어진 돝고기506은 밥블레스유 6회에 출연한 바 있는 고깃집이에요. 27년 노하우를 바탕으로 총 506시간의 숙성을 거친 한돈구이는 맛이 그야말로 일품이더군요. 별도의 금액을 지불하면 프라이빗한 룸에서 식사할 수 있으니 참고하세요. 르네상스호텔 사거리 방면에 자리한 바게트케이는 MBC파워매거진 351회에 방영될만큼 호평받는 베이커리집이에요. 겉은 바삭하고 속은 부드럽게 그지없는 바게트가 다양하게 판매되고 있으니, 선호하는 스타일로 즐기시면 될 것 같고요. 감각적인 인테리어와 분위기로 사진 명소로도 적격이랍니다.\\n위 포스팅은,\\n소정의 원고료를 받고 작성했습니다.'}, 6: {'title': '중독적인 역삼역 맛집 모음', 'nickname': '먹방토끼', 'datetime': '2021. 12. 23. 13:00', 'content': '며칠 전 친구와 쇼핑을 나갔다가 손님이 바글바글한 역삼역 맛집에 방문하게 됐어요. SNS에서 종종 봤던 식당인데 맛과 비주얼 모두 특출난 곳이라 소개해드려요.\\n1. 밥밥디라라 역삼본점\\n주소: 서울 강남구 도곡로7길 28 1층 102호\\n전화번호: 0507-1489-5840\\n운영시간: 11:00 - 21:00 (일요일 휴무, B.T. 15:00 - 16:30)\\n대표메뉴: 김치가츠나베 10,900원 이날 다녀간 밥밥디라라는 순복음 강남교회에서 도보 1분 거리였는데요. 도로변 앞에 있어 초행길임에도 어렵지 않게 발견할 수 있었지요. 그리고 주차장도 완비되어 있으니 차를 끌고 가기에도 좋은 곳이더라고요. 건물 외관에서 풍기는 분위기가 유쾌해서 음식에 대한 기대감도 한껏 올라갔어요. 오픈은 오전 11시이고 마감은 9시라 근처 직장인들이 들르기에 좋을 듯해요. 3시부터 4시 30분까지 브레이크 타임이니 이것만 참고하시면 될 거 같아요. 안으로 들어갔더니 주문을 위해 설치된 키오스크 기계가 눈에 들어왔는데요. 음식 사진까지 화면 속에 들어가 있어 역삼역 맛집 메뉴를 바로 파악했어요. 매장은 전체적으로 깔끔하게 관리되어 있고 아늑한 분위기를 자랑하고 있었는데요. 테이블마다 설치된 아크릴 칸막이 덕분에 위생적으로 식사가 가능했답니다. 음식은 푸드코트처럼 받아 가는 형식이라 대학 시절의 추억이 새록새록 떠올랐어요. 그리고 밑반찬과 국물을 함께 담아주셨는데 구성이 정갈해 보여서 합격점을 줬어요. 반찬은 단무지, 깍두기가 준비되어 있었는데 칼칼하면서도 시원한 단맛이 나더라고요. 오래 삭히지는 않은 거라 아삭하게 씹는 재미도 살아있었답니다. 우리는 코올슬로도 오더를 넣었는데 양배추가 잘게 들어있어 먹기 편했어요. 마요네즈 소스에 촉촉하게 버무려주시니 역삼역 맛집은 고소하면서 상쾌하더라고요. 국물은 짭조름한 편이었는데 입맛을 돋워주는 역할을 하더라고요. 건더기 없이 콸콸 넘어가는 스타일이라 순식간에 해치우게 됐어요. 제일 먼저 야끼니꾸 덮밥을 만나보니 고기 위에 노른자를 코팅하는 방식이더라고요. 다른 재료들을 부드럽게 감싸주니까 표면이 매끈해지면서 고소함이 풍부해졌어요. 계란의 반지르르한 광택까지 더해지니 육질이 훨씬 더 먹음직스러워 보이던 거 있죠? 게다가 고기가 길고 컸기 때문에 밥만 남지 않게 적절한 비율을 자랑했어요. 불고기 종류도 있었지만 평소 제육같이 빨간 양념을 더 선호하는 편이라 선택했는데요. 삼역 맛집은 일식과 한식의 매력을 동시에 가지고 있더라고요. 고기는 반찬과의 궁합도 훌륭해서 숟가락을 들 때마다 얹어 먹게 되었는데요. 특히 채수가 그득했던 깍두기와는 궁합이 딱 맞아떨어지는 요리였어요. 그다음 만난 요리는 김치가츠나베인데 역시나 얼큰한 스타일이더라고요. 한국인의 입맛을 사로잡기에 손색이 없어 첫 만남에 푹 빠지고 말았어요. 도톰한 가츠는 가위와 집게로 잘라줬는데 생각보다 두꺼워서 조금 당황했어요. 묵직한 패티의 육질이 손에 느껴질 정도라 힘을 줘서 꽉 잡고 잘라줬답니다. 저는 음식을 먹기 전에 입가심을 위해 역삼역 맛집의 양배추 샐러드를 섭취했는데 달콤 짭짤한 소스가 딱 제 취향이더라고요.  친구는 돈가스 위에 얹어 먹기도 했는데 홀린 듯이 연거푸 합을 맞추는 거예요. 그걸 보고 저도 따라 해보니 매콤한 맛을 중화시키면서 개운하게 흡수됐어요. 고슬하게 지어진 쌀밥과도 잘 어울려서 훌륭한 반찬이 되어주더라고요. 튀김옷에 흡수되었던 국물이 밥알 사이사이로 스며들면서 맛의 조화를 이루더라고요. 마지막 요리는 치킨타워덮밥이었는데 이름처럼 토핑이 풍성하게 올라갔어요. 이전에 본 적이 없는 환상적인 비주얼이라 바로 흩트리기가 아쉬울 정도였어요. 높게 쌓은 역삼역 맛집 기술이 궁금했는데 꼬치로 재료들을 연결해 놓으셨더라고요. 요리 하나에 들이는 정성이 대단할뿐더러 플레이팅 기술이 뛰어난 곳이었어요. 덜어 먹을 수 있게 접시를 챙겨주셨길래 차근차근 준비해서 시식했는데요. 고소한 소스가 묻어 있어서 그런지 짠맛이 강하지 않고 밸런스가 맞더라고요. 치킨도 먼저 염지를 해둔 거라 전체적으로 짭조름한 염분이 느껴졌어요. 덕분에 소스 없이 먹어도 심심하지 않고 육질이 야들야들하게 씹혀서 좋았어요. 무엇보다 마음에 든 건 튀김옷이 얇지만 육질은 도톰하다는 점이었어요. 이게 반대로 되면 속이 느글거릴 수 있지만 이건 담백하게 즐길 수 있더라고요. 그리고 느끼하지 않게 양배추를 갈아 밥 위에 얹어주시니 조화가 훌륭했는데요. 밥 한 톨 남기지 않고 먹게 되니 과식하는 걸 주의해야 할 정도였어요. 기대했던 이상의 풍미를 제공해주는 역삼역 맛집이라 인상적이었어요. 이날 먹어보지 못한 메뉴들이 많으니 조만간에 친구와 다시 들를 생각이랍니다. 2. 땀땀\\n주소: 서울 강남구 강남대로98길 12-5\\n전화번호: 02-554-8892\\n영업시간: 11:00 - 22:00\\n대표메뉴: 포 모이 Pho moi 15,000원\\n강남역 11번 출구에서 도보 5분 거리에 위치한 땀땀은 생방송투데이 26 58회에 소개된 베트남음식 전문점이에요. 베트남 궁중 보양식 레시피를 바탕으로 엄선된 소고기와 사골을 24시간 동안 우려낸 국물을 맛볼 수 있는데요. 면발은 탱탱한 식감이 매력적이라 면매니아라면 한 번 드셔보셔도 좋을 것 같네요.\\n3. 신동궁감자탕 역삼본점\\n주소: 서울 강남구 테헤란로10길 21\\n전화번호: 02-555-3782\\n영업시간: 11:00 - 21:00\\n대표메뉴: 감자탕 소 32,000원 역삼까치공원에서 도보 5분 거리에 위치한 신동궁감자탕 역삼본점은 VJ특공대 734회에 소개된 감자탕집이에요. 야들거리는 살결과 감칠 맛 깃든 국물을 음미 할 수 있어서 술 안주는 물론, 해장 목적으로 방문하기 딱 좋아요.\\n4. 돝고기506\\n주소: 서울 강남구 역삼로17길 53\\n전화번호: 02-6933-9506\\n영업시간: 11:30 - 22:00\\n대표메뉴: A506 숙성 삼겹살 150g 17,000원 역삼역 3번 출구에서 도보 4분 거리에 위치한 돌고기506은 밥블레스유 6회에 소개된 돼지구이 전문점이에요. 부드러움 식감과 짙은 육향을 느낄 수 있는 삼겹살은 풍만한 식감에 육고기 특유의 잡내가 전혀 없어서 거부감 없이 즐길 수 있어 좋더군요.\\n5. 바게트케이\\n주소: 서울 강남구 테헤란로34길 21-10\\n전화번호: 02-567-9501\\n영업시간: 07:00 - 19:00\\n대표메뉴: 말제르브바게트 5,500원 역삼역 1번 출구에서 도보 7분 거리에 위치한 바게트케이는 MBC파워매거진 351회에 소개된 빵집이에요. 말제르브바게트는 겉은 바삭하고 속은 부드러운데, 담백하고 고소한 향이 입에 촤악 퍼져서 취향을 제대로 저격하더라고요.\\n위 포스팅은 소정의 원고료를 받고 작성하였습니다.'}, 7: {'title': '역삼맛집 소이연남! 점심 뭐먹지? 태국음식 리뷰', 'nickname': '델피늄\\n(kba7628)', 'datetime': '2021. 12. 21. 10:44', 'content': 'http://naver.me/GgekT3fA 아침부터 쌀쌀한 날씨에\\n따끈한 국물이 땡기는 날이있다.\\n원래 쌀국수를 그리 선호하는 편은 아닌데\\n뼈해장같은 국밥류를 먹기엔\\n속이 더부룩한 아침이였고, 좀 더 가벼운\\n국물류 요리를 찾으며 쌀국수 메뉴를 고르게되었다.\\n#소이연남역삼\\n#태국음식\\n#쌀국수 소이연남 더샵스앳센터필드\\n태국음식점\\n서울 강남구 테헤란로 231 지하2층 WB06호\\n역삼역 8번 출구에서411m\\n매일 11:00 - 21:00\\n15:00 - 17:00 브레이크타임\\n20:00 라스트오더\\n매일 영업이라니, 역삼에서는 보기 드문데ㅋㅋ\\n호텔이 윗층에 있어서 투숙객들을 위함인듯 하다~~! 동료들이 추천한 새로운 쌀국수 집이 있다.\\n사진으로만 보았는데 이번 기회에 먹어보기로했다.\\n새로생긴 호텔 건물 지하층에\\n깔끔한 푸드코트가 자리하고있는데\\n외부에서도 식사하러 들어올 수 있어서\\n몇번 구경했던게 전부였다.\\n걸어서 소이연남으로 향한다.\\n더샵스앳센터필드 1층에서 \\n지하 2층으로 내려가야하는데 \\n내려가는 계단과 에스컬레이터는 \\n총 3곳으로 보인다. \\n어디로 내려가야할지 못찾을까 걱정되었는데\\n에스컬레이터도 쉽게 찾을 수 있다.  테이블은 대부분 사람이 차있었는데\\n로테이션이 빠른건지 웨이팅 없이 착석할 수 있었다.\\n테이블엔 메뉴판과 소이연남 쌀국수 \\n맛있게 먹는 법 안내지가 배치되어 있다.\\n쌀국수에 곁드릴 네가지 소스도 함께 말이다. 메뉴가 쌀국수라 그런지 오래 기다리지 않아\\n따끈한 국수 두그릇이 나왔다.\\n소스를 얼마나 넣어야할지 몰라서\\n일단 고추식초 한숟갈만 넣고\\n고춧가루만 두스푼 넣었다. 메뉴판 제일 상단에 있능 소고기 쌀국수이다.\\n위에 올려진 크런키? 견과류 종류가 씹히는 맛이 좋다. \\n위에 올려친 야채는 고수인줄 알았는데\\n막상 먹으면 별맛이 없어서?\\n고수는 아닌듯하고 묘하다ㅋ\\n담백하고도 진한 국물이 일품이였다.\\n국수면은 조금 더 얇았으면 하는 바람이다.\\n개인적으론 동남아 쌀국수의 똠양꿍 맛이\\n적게 느껴져서 좋았습니다^^\\n함께 들어있는 소고기를 한입 크기에\\n 3~4점 정도 들어있고 아주 부드러웠어요ㅜㅜ\\n또 먹고싶네용 ㅜㅜㅜ 날도 추워져서 자꾸 따뜻한 식사가 땡깁니다ㅋㅋ\\n역삼 소이연남은 쌀국수가 다시 땡길때 \\n한번 더 방문해야겠어요. 모두에게 추천추천^^\\n 더샵스앳센터필드는 소이연남 말고도\\n카페와 다양한 음식점들이 들어와있어요.\\n이곳에서 점심 뭐먹지? 하고 고민해도 좋을것 같네요ㅋㅋㅋ \\n이상 소이연남 소고기쌀국수 리뷰를 마칩니다!'}, 8: {'title': '[역삼 맛집] 정갈한 한식 반상이 있는 한식 다이닝, 수라선', 'nickname': '템포', 'datetime': '2021. 11. 13. 8:50', 'content': '흔히 말하는 집 밥에서부터\\n다양한 메뉴들이 나오는 고급 진 한정식까지\\n한식의 종류는 정말 많이 있습니다.\\n이번에는 이러한 한식 중에서\\n정갈하게 밥부터 반찬까지 한 끼 식사가 나오는\\n역삼 한식 다이닝을 소개해드려보고자 합니다.\\n이번 포스팅\\n정갈한 한식 반상이 있는 한식 다이닝\\n수라선\\n입니다. 신라스테이 역삼 1층\\n통유리로 되어있는 곳에 이번에 찾아간\\n수라선이 있습니다.\\n한식 다이닝이라고 하지만\\n호텔에 있어서인지\\n영어로 SURASUN, 수라선이라고 되어있고\\n그 옆에 영어로 한식에 대한 표기인 Korean dining이 있었습니다.\\n위치를 알고 있었기에 잘 찾아갈 수 있었지만\\n만약 위치를 모르고 그냥 지나가는 길에 보았다면\\n제대로 주의 깊게 보지 않는 이상\\n쉽게 지나칠 것만 같았습니다.\\n제가 한글로 된 간판을 못 찾은 것인지는 모르겠으나\\n왜 영어로만 되어있는지는 조금 의문이었습니다. 대로변 입구에 있던 영업시간\\n영업시간은 매일 오전 11시부터 밤 10시까지\\n중간에 브레이크 타임이 3시부터 5시까지 있고\\n라스트 오더는 밤 9시까지로 되어있었습니다.\\n본래는 이곳이 입구였지만 바람 때문에 이쪽의 문을 폐쇄하고\\n신라스테이 쪽 문만을 운영한다는 안내가 있어서\\n신라스테이 안으로 들어가서\\n수라선으로 들어갔습니다. 신라스테이 역삼 안쪽 수라선으로 들어가는 입구\\n입구는 좁은 통로를 통해서 있었는데\\n입구 앞쪽에는 수라선의 여러 메뉴들에 대한 소개가 있었습니다. 수라선의 내부 모습\\n창가 자리 쪽은 예약한 사람들을 위한 자리인지\\n이후에 예약한 사람들이 안내가 되었고\\n예약을 하지 않은 사람들은 창가가 아닌 안쪽으로 자리 안내를 받았습니다.\\n수라선의 전체적인 모습은\\n호텔에 있어서인지 깔끔했고\\n직원들은 친절한 느낌이었습니다. 테이블에 있었던 메뉴 소개\\n수라선 해산물 모듬한상에 대한 소개가 있었고\\n뒤쪽으로는 술과 함께 주문했을 시 만 원이 할인된다는 내용도 있었습니다. 수라선의 메뉴판 왼쪽 상단에는 시즌 메뉴라고 되어있는\\n조그만 메뉴들이 추가로 적혀있었습니다. 수라선의 메인 식사 메뉴라고 할 수 있는\\n여러 종류의 반상 메뉴들\\n전복장 무쇠솥밥을 시작으로\\n꽃게장, 민어, LA갈비 무쇠솥밥 반상이 있었고 그 아래쪽으로는 제주 흑돼지 떡갈비 반상과 곰국시, 곰국밥이 있었습니다. 그 옆으로는 가벼운 요리 메뉴들이 있었고\\n그 옆쪽에 술과 음료 등이 있었습니다. 반상 메뉴 아래쪽에는\\n식재료 원산지가 나와있었습니다.\\n외국산 재료들도 많이 있지만\\n국내산 재료들도 많이 있었습니다. 뒤 페이지에는 요리 메뉴라고 할 수 있는 메뉴들이 있었습니다. 한우 스테이크를 비롯해서 여러 종류의 해산물 메뉴들을 비롯해서\\n술안주 느낌의 메뉴들이 있었습니다.\\n저는 여러 반상 메뉴 중에서\\n어떤 걸 먹어볼까 심히 고민을 하다가\\n최대한 안 먹어본 쪽에 가까운 쪽을 먹어보고자\\n꽃게장 무쇠솥밥 반상을 주문했습니다. 주문을 하고 얼마를 기다렸을까\\n그리 오래 기다리지는 않은 시간에 나온\\n꽃게장 무쇠솥밥 반상\\n아래쪽에는 꽃게장이 들어있는 메인 메뉴\\n무쇠솥밥이 있고\\n그 옆에는 된장국\\n그리고 위쪽으로는 세 종류의 반찬과 솥밥과 함께 먹을 수 있는 양념이 준비가 되었습니다. 세 종류의 반찬 그리고 양념장\\n양념장은 어차피 솥밥에 비벼 먹을 것이기에\\n반찬을 소개할 때는 잠시 미뤄놓고\\n세 개의 반찬만을 이야기해 보겠습니다.\\n이날 준비된 반찬은 깍두기와 가지, 그리고 오징어젓갈이었습니다.\\n깍두기는 조금 익은듯한 깍두기의 맛이었는데\\n특별함은 없는, 식당에서 흔히 맛볼 수 있는 깍두기의 맛이었습니다.\\n가지는 적당히 짭짤하면서도 매콤한 맛이 조금 있는 맛의 반찬이었고\\n오징어젓갈은 신선한 오징어젓갈의 맛이었습니다.\\n이 세 가지 반찬은 따로 먹을 때는 오징어젓갈이 간이 세서 그런지 가장 맛있게 느껴졌지만\\n나중에 솥밥과 같이 먹을 때는\\n가지가 가장 잘 어울렸습니다.\\n깍두기는 개인적으로는 조금 별로였습니다. 함께 나온 된장국\\n된장국은 큰 특징 없는 된장국이었는데\\n제 입맛에는 솔직하게 말해서 조금 별로였습니다.\\n주된 메뉴가 아니지만 가장 실망스러웠고\\n가장 안 먹었던 구성이었습니다. 꽃게장 무쇠솥밥\\n무쇠솥밥에는 가운데 계란이 보이고\\n계란을 중심으로\\n아래쪽에는 주인공인 꽃게장이\\n그 옆으로는 시계방향으로\\n양파, 명란, 애호박, 김이 있는 모습이었습니다. 밥을 만나보기 전에\\n먼저 꽃게장을 따로 먹어보았습니다.\\n매끈한 모습의 꽃게장의 맛은\\n해산물 맛이 그대로 살아있는 맛으로\\n해산물 특유의 비린 향을 싫어하는 사람이라면\\n싫어하겠다는 생각이 바로 들 정도였습니다.\\n하지만 저는 그 정도는 아니기에\\n먹어보았을 때 조금 해산물 향이 강하구나 싶은 것을 제외하고는 별미다 싶었습니다. 아래쪽으로는 밥이 숨어있었습니다.\\n고소하면서도 부드러운 맛이 있던 밥 이제 본격적으로 모든 재료들을 다 섞어보았습니다.\\n양념장은 먹다가 매콤한 것을 먹고 싶을 때 섞어먹으면 된다 하여\\n우선은 양념장 없이 그대로 비벼보았습니다.\\n섞어서 먹어본 꽃게장 무쇠솥밥\\n처음 먹어보았던 꽃게장의 해산물 맛은 조금 약해진 대신 다른 재료들의 맛이 함께 느껴졌습니다.\\n중간중간 꽃게 살의 미끄러우면서도 부드러운 맛과\\n명란의 맛이 느껴지던 무쇠솥밥\\n부드럽고 담백한 맛에\\n정갈하고 건강한 맛이었고\\n양념 없이도 충분히 맛있는 맛이었습니다. 양념이 있는 만큼\\n양념을 안 넣고 먹어볼 수는 없기에\\n매콤함을 위해 양념장을 적당히 넣어보았습니다.\\n색은 붉게 변했지만 생각보다 매콤한 맛이 약했던 맛\\n오히려 처음 양념장 없이 먹었을 때 느꼈던 부드러운 맛도 반감이 되어버렸습니다.\\n그러면서도 장에서 느껴지는 특유의 맛이 느껴지던 맛\\n개인적으로는 양념장을 함께 먹는 것보다\\n그냥 먹는 쪽이 좀 더 좋았습니다.\\n매콤한 맛을 원하는 게 아니라면 그냥 먹는 것이 더 좋아 보였고\\n매콤한 맛을 원한다 할지라도 양념장에서 크게 기대치 않는 게 좋았던 양념장의 맛\\n매콤한 맛은 오징어젓갈이 차라리 더 매콤해서\\n반찬과 함께 먹으면 충분하지 않을까 싶었습니다.\\n깔끔한 한식 반상이 있었던 수라선\\n깔끔 담백하면서도 신선했던 식사는\\n한 끼 식사를 하기에 좋았고 추천할만했습니다.\\n반상이 거창한 요리는 아니지만\\n그래도 점심 또는 저녁에\\n정갈하고 담백한 맛을 원한다면\\n한번 먹어보는 것도 좋을듯합니다.\\n그러면 지금까지\\n정갈한 한식 반상이 있는 한식 다이닝\\n수라선\\n이었습니다. '}, 9: {'title': '[역삼] 파스타맛집 그리고 치즈팩토리 케이크 🍝 디스팅트', 'nickname': '100그리고100', 'datetime': '2021. 12. 27. 8:50', 'content': '회사에서 팀회식을 위해 알아보던 중 \\n양식을 메뉴로 선정함에 근처 맛집을 찾았다.\\n단독 건물로 분위기도 좋고 메뉴 가성비도 뛰어나서 \\n선택하게 된곳\\n역삼역 3번출구 강남파이낸스 건물을 지나 \\n타코벨 건물에서 골목을 들어서면 만날 수 있다. 점심시간에 도착한 디스팅트는 사람들이 \\n별로 없었지만 시간이 지남에 꽤 좌석이 찼다.\\n우리는 팀회식으로 네이버 예약을 진행하고 방문했다. 들어서자마자 눈길을 끌었던것은 케익 쇼케이스였다.\\n치즈케이크팩토리라는 브랜드로 미국에서 유명한 \\n치즈케이크라고 함에 디저트로 먹고 싶은 마음에 설랬다.\\n종류도 다양하고 같이간 일행이 유명하다고 알려줘서 먹고싶은 마음을 갖고 자리를 안내받았다. 디스팅트 좌석분위기는 위와 같다.\\n4인좌석으로 되어있는 테이블들이 주로 이루고 있었고 주문은 메뉴판을 확인한 후에 케익쇼케이스가 있었던 주문대로 가서 선결제로 진행하는 구조였다.\\n점심시간 한정 선결제로 진행된다고 함에 참고!  디스팅트의 메뉴판 구성은 위와 같고 \\n연말맞이 이벤트를 하는 메뉴도 있었다.\\n팀회식으로 주문한 메뉴는\\n콥샐러드 \\\\17,500\\n크리미머쉬룸파스타 \\\\18,500\\n볼로노제 파스타 \\\\17,500\\n쉬림프토마토리조또 \\\\15,500\\n찹스테이크&페이스츄리 \\\\33,500 > 28,500\\n런치이벤트 -5,000원과 탄산음료 1개 제공\\n으로 4인기준에 넉넉하게 주문했다. 식전빵이 먼저나오고 콥샐러드가 바로 이어서 나왔다.\\n식전빵은 포카치아 계열로 폭신하면서 쫄깃했다.\\n콥샐러드는 우드볼에 담겨나왔는데 소스를 넣어 \\n섞어먹었으며 콘과 올리브 베이컨 등 \\n채소가 다양하게 들어있어서 맛있게 먹을 수 있었다. 볼로노제 파스타\\n수란이 올라간 토마토 베이스의 고기 파스타로\\n간이 살짝 쎄서 자극적이였지만 맛은 좋았다. 쉬림프토마토리조또 \\n토마토소스 베이스에 새우살과 통새우가 올라간 \\n리조또는 쌀알의 식감도 좋았고\\n치즈맛으로 감칠맛이 더해져 맛있었다. 크리미 머쉬룸 파스타\\n부드러운 크림과 버섯 그리고 트러플향이 가득한 \\n파스타로 솔직히 메뉴중에 1등으로 맛있었고 \\n중독되는 메뉴였다.\\n크림소스까지 완벽해서 모두가 만족했던 메뉴!  찹스테이크&페이스튜리\\n고기와 야채가 구워져나온 찹스테이크는 \\n따뜻할때 먹어야 맛이좋았고 페이스츄리는 \\n일반 빵의 맛이라서 생각보다는 조화는 안어울렸으나\\n따로먹기엔 디저트 대용으로 나쁘진 않았다.  4인기준으로 메뉴를 다양하게 시킴에 테이블이 \\n좁아서 식전빵의 접시를 치워달라고 요청했고\\n배치를 잘 진행한다음에 마음껏 즐길 수 있었다.\\n가격대비 맛도 만족스러웠고 양도 좋아서 기념일이나 데이트코스로도 좋은 곳이라고 생각했다. 앞서 말했던 치즈케이크팩토리의 유명세를 \\n경험하고자 음료2잔 주문시 오늘의 케익이 무료로 \\n제공되는 이벤트를 확인하고 음료 4잔을 주문한뒤 \\n케이크를 2조각을 제공받았다.\\n시트가 거의없는 치즈케이크는 아주꾸덕하니 \\n치즈향과 맛의 풍미가 커서 만족스러웠다.\\n일반 베이커리집에서의 치즈케이크를 선호하지 않는 편인데 치즈팩토리의 케이크는 진한 맛에 맛이 좋았다. 그러나 다소 느끼함이 있어서 한조각을 다먹진 못할것 같았다. 😉 전반적으로 처음 방문함에도 모든 메뉴가 만족스럽고\\n특히 트러플향이 가득한 머쉬룸파스타가 최애가 된\\n특별한 치즈케이크와 맛좋은 메뉴가 있는곳 디스팅트'}}\n"
     ]
    }
   ],
   "source": [
    "dict = {}    # 전체 크롤링 데이터를 담을 그릇\n",
    "\n",
    "# 수집할 글 갯수 정하기\n",
    "number = 10\n",
    "\n",
    "# 수집한 url 돌면서 데이터 수집\n",
    "for i in tqdm_notebook(range(0, number)):\n",
    "    # 글 띄우기\n",
    "    url = url_load['url'][i]\n",
    "    chrome_path = chromedriver_autoinstaller.install()\n",
    "    driver = webdriver.Chrome(chrome_path)\n",
    "\n",
    "    driver.get(url)   # 글 띄우기\n",
    "    \n",
    "    # 크롤링\n",
    "    \n",
    "    try : \n",
    "        # iframe 접근\n",
    "        driver.switch_to.frame('mainFrame')\n",
    "\n",
    "        target_info = {}  # 개별 블로그 내용을 담을 딕셔너리 생성\n",
    "\n",
    "        # 제목 크롤링 시작\n",
    "        overlays = \".se-module.se-module-text.se-title-text\"                                \n",
    "        tit = driver.find_element_by_css_selector(overlays)          # title\n",
    "        title = tit.text\n",
    "\n",
    "        # 글쓴이 크롤링 시작\n",
    "        overlays = \".nick\"                                 \n",
    "        nick = driver.find_element_by_css_selector(overlays)         # nickname\n",
    "        nickname = nick.text\n",
    "\n",
    "        # 날짜 크롤링\n",
    "        overlays = \".se_publishDate.pcol2\"                                 \n",
    "        date = driver.find_element_by_css_selector(overlays)         # datetime\n",
    "        datetime = date.text\n",
    "\n",
    "        # 내용 크롤링\n",
    "        overlays = \".se-component.se-text.se-l-default\"                                 \n",
    "        contents = driver.find_elements_by_css_selector(overlays)    # contents\n",
    "\n",
    "        content_list = []\n",
    "        for content in contents:\n",
    "            content_list.append(content.text)\n",
    "        content_str = ' '.join(content_list)                         # content_str\n",
    "\n",
    "        # 글 하나는 target_info라는 딕셔너리에 담기게 되고,\n",
    "        target_info['title'] = title\n",
    "        target_info['nickname'] = nickname\n",
    "        target_info['datetime'] = datetime\n",
    "        target_info['content'] = content_str\n",
    "\n",
    "        # 각각의 글은 dict라는 딕셔너리에 담기게 됩니다.\n",
    "        dict[i] = target_info\n",
    "        time.sleep(1)\n",
    "        \n",
    "        # 크롤링이 성공하면 글 제목을 출력하게 되고,\n",
    "        print(i, title)\n",
    "\n",
    "        # 글 하나 크롤링 후 크롬 창을 닫습니다.\n",
    "        driver.close()       \n",
    "    \n",
    "    # 에러나면 현재 크롬창을 닫고 다음 글(i+1)로 이동합니다.\n",
    "    except:\n",
    "        driver.close()\n",
    "        time.sleep(1)\n",
    "        continue\n",
    "    \n",
    "    # 중간,중간에 파일로 저장하기 이거는 안해도됨\n",
    "    if i == 30 or i==50 or i==80:\n",
    "        # 판다스로 만들기\n",
    "        import pandas as pd\n",
    "        result_df = pd.DataFrame.from_dict(dict, orient='index') #orient='index' 행방향으로 넣어준다는 뜻\n",
    "\n",
    "        # 저장하기\n",
    "        result_df.to_excel(\"blog_content.xlsx\", encoding='utf-8-sig')\n",
    "        time.sleep(3)\n",
    "\n",
    "print('수집한 글 갯수: ', len(dict))\n",
    "print(dict)"
   ]
  },
  {
   "cell_type": "code",
   "execution_count": null,
   "metadata": {},
   "outputs": [],
   "source": [
    "dict = {}   \n",
    "number = 10\n",
    "\n",
    "for i in tqdm_notebook(range(0, number)):\n",
    "    url = url_load['url'][i]\n",
    "    chrome_path = chromedriver_autoinstaller.install()\n",
    "    driver = webdriver.Chrome(chrome_path)\n",
    "    driver.get(url)   \n",
    "    \n",
    "    try : \n",
    "        driver.switch_to.frame('mainFrame')\n",
    "        target_info = {}  \n",
    "\n",
    "        overlays = \".se-module.se-module-text.se-title-text\"                                \n",
    "        tit = driver.find_element_by_css_selector(overlays)          # title\n",
    "        title = tit.text\n",
    "\n",
    "        overlays = \".nick\"                                 \n",
    "        nick = driver.find_element_by_css_selector(overlays)         # nickname\n",
    "        nickname = nick.text\n",
    "\n",
    "        overlays = \".se_publishDate.pcol2\"                                 \n",
    "        date = driver.find_element_by_css_selector(overlays)         # datetime\n",
    "        datetime = date.text\n",
    "\n",
    "        overlays = \".se-main-container\"                                 \n",
    "        contents = driver.find_elements_by_css_selector(overlays)    # contents\n",
    "\n",
    "        content_list = []\n",
    "        for content in contents:\n",
    "            content_list.append(content.text)\n",
    "        content_str = ' '.join(content_list)                         # content_str\n",
    "\n",
    "        target_info['title'] = title\n",
    "        target_info['nickname'] = nickname\n",
    "        target_info['datetime'] = datetime\n",
    "        target_info['content'] = content_str\n",
    "\n",
    "        dict[i] = target_info\n",
    "        time.sleep(1)\n",
    "        print(i, title)\n",
    "        driver.close()       \n",
    "    \n",
    "    except:\n",
    "        driver.close()\n",
    "        time.sleep(1)\n",
    "        continue\n",
    "\n",
    "print('수집한 글 갯수: ', len(dict))\n",
    "print(dict)"
   ]
  },
  {
   "cell_type": "code",
   "execution_count": 30,
   "metadata": {
    "id": "aw9T8hPW-kvu",
    "outputId": "afb45d8f-9a0d-442f-a02a-f848f1ce8e6f"
   },
   "outputs": [
    {
     "data": {
      "text/plain": [
       "{0: {'title': '무조건인 역삼 맛집 모음 ',\n",
       "  'nickname': '어신\\n(ranboy)',\n",
       "  'datetime': '2021. 11. 23. 11:30',\n",
       "  'content': '지난 주에 역삼에 사는 친구를 만나러 갔다가 순메밀로 유명한 식당이 있다기에 역삼 맛집을 들려봤어요.\\n정갈한 구성의 반찬들과 세계에서 손 꼽히는 진미인 이베리코 베요따를 푸짐하고 먹고온 곳이라 공유해보려 합니다.  주소: 서울 강남구 언주로93길 30 역삼빌딩\\n전화번호: 0507-1497-5157\\n영업시간: 매일 11:00-21:00 (평일 브레이크 타임 15:00-17:00)\\n메뉴: 이베리코 베요따 16,800원 / 막국수 보통 9,500원  이 날 들렸던 식당 백운봉막국수는 코엑스에서 차로 10분 거리였어요.\\n건물이 워낙크고, 대로변에 위치해 있어서 단번에 찾을 수 있었답니다.  건물내에는 따로 전용주차장까지 마련되어 있어서 편하게 주차를 할 수 있었어요.\\n영업시간은 매일 오전 11시부터 21시까지고, 브레이크타임은 15시부터 17시이니 참고하시면 됩니다.  안으로 들어가니 대체적으로 밝은 인테리어가 눈에 들어왔어요.\\n점심시간이 꽤 지난시간이었는데 반대편에는 꽤 많은 손님도 있었답니다.  한쪽에는 셀프바도 세팅되어 있었어요.\\n여러명이 이용하는 공간이라 위생이 신경쓰이지 않을 수 없었는데, 상당히 깔끔하게 관리하고 계셨어요! 한쪽에는 샐러드종류부터 곁들임채소까지 준비되어 있었는데요.\\n신선도도 뛰어나고 종류도 다양하니 손님을 배려하는 센스가 돋보였죠. 넓은 좌석에 착석 후 메뉴판을 살펴봤어요.\\n역삼 맛집에서는 막국수도 유명하지만 최고등급의 이베리코베요따도 취급하고 있어서 주문해봤어요.  주문과 동시에 상차림이 빠르게 이루어졌어요.\\n로봇을 이용해 기본 상차림이 이루어져서 신기한 구경도 할 수 있었네요! 먼저 입맛을 올려줄 메밀쌈에 각종 채소를 싸서 입 안에 넣어봤어요. \\n최대한 얇게 부쳐주셔서 퍽퍽함이라곤 찾아볼 수 없이 쫄깃했어요.  이어서 역삼 맛집 양파버무리를 맛보았어요.\\n부드럽게 올려진 소스에 양념이 물리지 않았고,\\n적당히 새콤함을 가지고 있어서 고기와함께, 또 단독으로 먹기에도 괜찮았습니다.  밥먹기 전에 입가심으로 선지국이 가득 담겨 나왔는데요.\\n큼지막한 선지를 수저로 부드럽게 떠서 먹으니 속까지 따뜻했더라지요. 다음은 저희가 주문한 이베리코 베요따가 모습을 드러냈어요.\\n족히 3cm정도는 되보이는 두께에 양파와 버섯까지 큼지막하게 썰어주셔서 마음이 다급해졌어요. 미리 준비해주셨던 불판은 어느새 뜨끈하게 예열이 되었는데요.\\n오리지날 참숯을 이용하고 있어서 불향도 제대로 입힐 수 있었답니다.  이어서 베요따를 불판 위로 한가득 올려 주었는데요.\\n치익- 하는 먹음직스러운 소리와 함께 역삼 맛집에 찾아온 보람을 느꼈습니다.  뒤집을 타이밍을 기다리다가 살짝 역보고 뒤집어주었는데요.\\n윤기가 사르르 흐르는 풍채에 침이 꼴깍꼴깍 넘어갔어요.한면에 노릇해지는 걸 확인하고 나서 반대쪽으로 뒤집어줬는데,\\n스테이크를 뛰어넘는 고깃살의 듬직한 풍채에 시선을 뗄 수가 없었어요. 가위를 거칠게 잡아들어 먹기 좋은 크기고 잘라주기 시작했어요. \\n제법 도톰하게 썰었음에도 불구하고 불판한면을 가득 채웠답니다.  같이 등장한 멜젓은 한술 더 떴는데요.\\n비린내는 없고, 청양고추가 한가득 들어 있어서 느낌함을 꽉 잡아주었어요.  마침내 다 익은 고기를 들어 소금만 살짝 찍어 먹어봤어요.\\n잡내는 일절 없었고, 부드러운 식감만이 입 안을 지배해서 역삼 맛집이 맞구나 라는 생각이 들었어요. 뒤이어 숯불판에 양파를 넉넉히 올린 뒤에 단맛이 충분히 올라올 때까지 구워줬어요. 그러고 나서 이베리코 베요따에 곁들여 음미해봤어요.\\n익어서 달달해진 양파가 고기맛을 한층 더 감칠나게 끌어올려줘 자주 즐긴 조합이었답니다. 하지만 메밀쌈에 싸먹는 게 취향에 더 맞았는데요.\\n입 안에서 풍족하게 씹히는 느낌과 포만감까지 획득할 수 있는 방법이었어요. 이윽고 역삼 맛집 비빔순메밀막국수를 추가했어요.\\n예상보다 훨씬 각종 고명 재료들이 넉넉하게 넣어주셨더라고요. 게다가 양념장도 듬뿍 들어있어 촉촉하게 잘 비벼졌는데요.\\n면치기를 하자마자 매콤달콤함이 그윽하게 펴지면서 면발이 쫄깃하게 입 안에서 감겼어요. 다른 손님들이 드시는 걸 보고, 급 관심이 가서 들기름막국수도 덥석 시켰어요.\\n여기는 100% 순메밀로 뽑는 곳이라 그런지 면 색깔부터 진하더라고요. 더불어 들기름이 면발에 제대로 코팅되어 고소함의 끝판왕이었고,\\n자칫 느끼할 수 있는 걸 생열무가 산뜻하게 잡아줘서 마지막 한입까지 질릴 틈이 없었어요. 배부른 한끼를 끝내고 별도로 판매 중이던 웰빙두부과자를 구입해 주전부리도 즐겼는데요.\\n이번에 가보니 역삼 맛집은 음식맛과 분위기 모두 부족함 없이 수준 높아 조만간 또 갈 예정이에요. 주소:서울 강남구 논현로97길 23 1층\\n전화번호:0507-1342-6251\\n영업시간:매일 12:00-19:00\\n메뉴:아메리카노 4,000원 / 체리에이드 6,500원 \\n운치있는 시간을 보내기에 좋은 테라스가 있는 카페인데요.\\n실내 곳곳에도 통창으로 꾸며져 있어 고즈넉한 주택 풍경을 감상할 수 있었어요.\\n아메리카노도 좋았지만, 상큼한 과즙이 감돌던 체리에이드가 입맛에 더 맞았어요. 주소:서울 강남구 테헤란로10길 21\\n전화번호:02-555-3782\\n영업시간:매일 11:00-21:00 \\n메뉴:감자탕 대 41,000원 / 뼈 숯불구이 소 31,000원 \\n테헤란로에서 7분 정도 걸어가면 보이는 감자탕 전문점이에요.\\n목뼈와 국내산 사골을 넣고 푹 끓여내어 육수가 걸죽하니 진국이였는데요.\\n자체 개발한 뼈 숯불구이도 많은 이들에게 사랑받는 인기메뉴였어요. 주소:서울 강남구 논현로94길 29-5\\n전화번호:02-569-0524\\n영업시간:매일 10:00-22:00 (L.O 21:30) / 일요일 09:00-21:00 (L.O 20:30)\\n메뉴:곰탕 11,000원 / 수육 48,000원 \\n3대째 이어서 운영하고 있는 오래된 한우곰탕집이에요.\\n투명하고 맑은 육수가 특징으로 텁텁함 없이 시원했는데요.\\n수요미식회 188편에 방영될 정도로 연륜 깊은 손맛을 자랑했던 한식당이에요. 주소:서울 강남구 언주로93길 22-3 지상 1층\\n전화번호:0507-1326-2126\\n영업시간:매일 11:00 - 22:00 (브레이크 타임 15:00~17:00)\\n메뉴:손만두국 9,000원 / 녹두전 17,000원 \\n직접 만든 이북식 손만두의 매력을 알게 해주었던 만두집인데요.\\n소가 풍부하게 차있고 크기가 커서 포만감이 상당하더라고요.\\n칼국수도 같이 먹을 수 있는 칼만둣국이 마음에 들었어요.'},\n",
       " 1: {'title': '만족스러운 역삼 맛집 리스트',\n",
       "  'nickname': '김새침\\n(kikijayoung)',\n",
       "  'datetime': '2021. 10. 5. 9:10',\n",
       "  'content': '안녕 김새침언니에요.\\n예전에 살던 동네를 마주치게 되면\\n익숙한 골목골목 지나면서 추억 팔이 하는 거\\n너무 좋잖아요.\\n마침 볼일이 생겨 신나는 발걸음으로 나왔는데\\n온 김에 저녁까지 먹고 들어가자 싶어 \\n익숙한 역삼 맛집들 구경을 해봤어요.\\n아무래도 이쪽은 평일엔 직장인들이 많이 붐비는 곳이라\\n점심시간엔 정말 발걸음이 끊이지 않는 곳도 많거든요.\\n저는 프리랜서니깐 그 시간 피해서\\n주말이나 애매한 시간에 나와서 밥 먹었던 기억이 나는데요.\\n예나 지금이나 술 한잔하면서\\n따스한 분위기에 맛있는 저녁을 먹기 좋은 곳을 발견해\\n맛있게 먹고 온 후기입니다 :)  역삼역 6번 출구에서 3분 거리 밖에 안돼서\\n초 역세권에 위치해있다고 볼 수 있어요!\\n주차도 가게 앞에 세우기 편한 곳.\\nlg아트센터 건너편이에요!\\n서울 강남구 테헤란로25길 31\\n월-토 11:00~21:30 \\n라스트오더 21:00 (일요일 휴무)  웬만해선 거의 다 가본곳이라 \\n새로운 메뉴 없을까 찾아본 건데\\n굉장히 깔끔해 보이는 가게가 눈에 띄더라고요.\\n마침 친구는 어제 과음해서 아직도 속이\\n쓰리다길래 진한 갈비탕 육수로 해장하길 추천했어요. \\n요즘은 포장이나 배달도 자주 이용하게 되는데\\n많이 신경 써서 꼼꼼하게 되는듯하죠.\\n비조리도 있다니 여행갈때나 캠핑갈때\\n선택하기도 좋을 역삼 맛집일듯싶었어요. 밖에서 본 것만큼이나 내부도 깔끔하고\\n따뜻한 식사를 하기 좋아 보이죠.\\n제가 갔을 때 유독 혼자오신분들이 많았는데\\n이쪽에 소호 사무실도 많아서인듯싶어요.\\n테이블도 다양하게 있으니\\nlg아트센터 맛집으로도\\n부담 없이 방문하기 좋아 보였답니다. 생수를 싫어하는 저에겐\\n앉자마자 내주신 우엉차가 너무 좋았는데요.\\n매운갈비찜 소 \\n갈비탕\\n들기름 막국수 \\n주문해 봤어요.\\n깍두기 볶음밥도 땡겼는데\\n갈비찜 양이 생각보다 많아서 결국 못 먹었네요.ㅠ\\n점심에 먹기엔 과할 수도 있는 메뉴는\\n한정판으로 부담 없이 준비된 역삼 맛집이었는데요.\\n아마 직장인들 사이에서 이미\\n인기 메뉴로 자리 잡지 않았을까 싶네요. 딱 필요한 반찬만 나온 모습입니다.\\n진한 육수에 잘 어울린 깍두기 너무 맛있었고\\n양파절임도 달달하니 제가 거의 다 먹은듯싶어요.\\n그리고 바로 밑에\\n핸드폰을 보관하도록 선반이 준비되어 있더라고요.\\n네일샵이후로 이렇게 배려해 주는 테이블 \\n정말 오랜만에 보네요.. ㅎㅎㅎ 뜨거운 김을 모락모락 피우며 등장한 갈비탕입니다.\\n밥 한 공기도 함께 나왔는데요.\\n더욱더 맛있게 즐기도록 \\n청양고추가 듬뿍 들어간 초록특제양념과 \\n야채와 고추가루가 돋보이는\\n빨간특제양념이 함께 준비된 모습이에요. 국물 한입 했더니 속이 꽉 채워지는듯한\\n그 느낌 아시나요?\\n듬뿍 담긴 갈빗살도 먹음직스러워\\n밥을 말아먹어야 되나 고민이 되는 순간이었는데요.\\n고기가 부드럽고 야들야들하니\\n보는 것만큼이나 맛있더라고요.\\n특제양념까지 더해지니 색다르게 먹기 좋았던\\n역삼 맛집이었는데요. \\n잡내도 없었고 깊고 진한 국물맛에\\n해장 제대로 했다는 친구!ㅎㅎ\\n깍두기 하나만으로\\n정말 푸짐하게 먹기 좋았습니다. 그리고 바로 이어서 \\n제가 좋아하는 매운갈비찜도 나왔습니다.\\n막 톡 쏘게 매운맛은 아니기에\\n누구나 좋아할 만한 맛이었는데요.\\n청경채, 버섯, 감자, 떡 등등\\n다양한 식감을 느끼기 좋아\\n역삼 맛집으로 잘 선택해서 왔구나 싶었어요.\\n이미 익혀서 나온 거라 바로 먹기 시작! 뼈에 붙은 살들이 어찌나 크던지\\n먹기 편하게 가위로 잘라주는데 \\n뼈대에서 살들이 속속 잘 빠지더라고요.\\n먹으면서 느꼈던 건\\n다른 곳이랑은 확실히 다르게\\n짜거나 자극적이지 않고 깔끔한 느낌이 들었다는 것!\\n모든 게 다 적당해서 곧 많은분들이\\n좋아하실 역삼 맛집이 될 거 같아요. 티비에도 종종 나와서 궁금했던\\n들기름 막국수도 먹어봤는데요.\\n고소하고 담백한맛에 \\n간이 세지 않아서 역삼 맛집 메인메뉴랑\\n궁합이 좋더라고요.\\n점심엔 갈비탕으로 든든하게 속 달래고\\n저녁엔 술한잔 생각날 때 매운갈비찜으로 \\n찾아오기 좋을 곳이었습니다.\\n함께 곁들여 먹기 좋을 만두도 있으니\\n깔끔한 맛과 퀄리티를 느끼기 좋을 곳 같아요.\\n그리고 위치가 좋으니깐 \\n집에 가기도 편하고 갈만한 이유가 충분하네요!\\n+\\n또 다른 lg아트센터 맛집도 소개해 볼게요.\\n진한 인도향~ 카레향~이 예술인 곳인데\\n자주 먹는 메뉴는 아니지만\\n독특한 맛이 자꾸자꾸 생각나게 만들어서\\n예전에 가끔씩 갔던 곳이에요.\\n집 나간 입맛이 확 돌아오는 곳이라\\n색다른 메뉴를 찾는다면 추천해드리고 싶답니다. +\\n늦게까지 영업하는 곳이라\\n역삼동 살 때 야식으로 자주 찾았던 곳이에요.\\n야들야들한 콜라겐이 입에서 살살 녹는데\\n제 지인들도 극찬했던 곳인데요.\\n생각지도 않은 김치찌개도 끝내주게 맛있었어요. +\\n프라이빗하게 즐기기 좋은 일식집!\\n원래도 인기 좋고 연예인들도 많이 가는 곳!\\n간장게장이랑 보리굴비가 너무 맛있어서\\n이미 유명한 곳인데 오랜만에 생각나서 적어봐요. +\\n여기 모르면 역삼동 살았다고 할 수 없죠~~\\n기사님들이 많이 찾는 곳이기도 하고\\n진하게 해장하실 분들에게 추천하고 싶은 곳이에요.\\n제가 다녀온 lg아트센터 맛집과는 \\n정 반대적인 분위기로 전통 있는 곳이라 볼 수 있어요.\\n티비에도 나온 곳!\\n여기까지 lg아트센터 맛집이었습니다.\\n오늘도 내일도 맛있는 한끼를 위해 화이팅!  본 포스팅은 업체로부터 이용권을 지원받아 직접 체험 후 작성하였습니다.'},\n",
       " 2: {'title': '[역삼 맛집] 센터필드 차알 역삼점, 역시나 맛은 실망시키지 않는 중식 레스토랑!',\n",
       "  'nickname': '여행하지마리오\\n(sh_road)',\n",
       "  'datetime': '2021. 12. 1. 12:00',\n",
       "  'content': \"지난주 월요일 여자친구와 예비 처제, 동서와 4명이서 센터필드 맛집인 '차알' 역삼점에 다녀왔어요!\\n이번이 저에게는 3번째 차알 방문인데 역시 믿고먹는 중식당이었답니다ㅎㅎ\\n청첩모임으로 차알 판교점만 2번 갔었는데 역삼점은 처음이었어요. 위치는 지하철 역삼역에서 약 5분정도 걸으면 됩니다.\\n참고로 센터필드는 신규 오픈한 5성급 호텔인 조선팰리스가 있는 곳이에요! 새로 지은 빌딩이라 확실히 로비가 엄청 깔끔하고 고급지더라구요.\\n입구의 초대형 LED 화면에는 센터필드 건물 내 입점한 곳들에 대한 소개가 계속해서 보여지고 있었어요. 센터필드 지하2층엔 여러 레스토랑들이 모여있습니다.\\n'차알'도 그 중 한곳으로 지하2층에 있어요 :) 지하 2층에는 꽤 여러 음식점 및 카페들이 있었는데 사진과 같이 가게가 전부 오픈형식으로 구성되어 있어요.\\n아마도 룸으로 된 식당은 센터필드 지하2층에는 없지 않을까 싶습니다. 차알의 경우 영어로 'Cha R' 표시되어 있어요!\\n영업시간은 매일 오전11시~오후9시 입니다. 차알에서 식사를 할 경우 2시간 무료 주차 가능합니다.\\n다만, 다른 매장과 누적/중복 등록은 되지 않기 때문에 초과 시 10분당 1,500원의 사악한 주차비가 발생한다는 점 주의하세요!\\n인당 25,000원 이상 주문 시 콜키지프리더라구요~ 차알은 '아메리칸 차이니즈' 레스토랑입니다.\\n예전부터 일반적인 중식당이 아닌 아메리칸을 강조하는 이유가 뭘까 궁금했는데\\n미국 차이나타운 레시피를 재해석 했기 때문이라고 하네요ㅎㅎ 내부 인테리어는 약간 '홍콩' 느낌이 났어요.\\n평범했던 판교점과는 전혀 다른 인테리어더라구요 ㅎㅎ\\n괜히 중화권에서 음식 먹는 느낌이 드는건 기분탓이겠죠..? 대략 20테이블 정도 있었던거 같아요.\\n회사 회식으로 온 팀도 있던데 회식장소로도 괜찮은거 같네요ㅎㅎ 전 청첩장 모임으로도 완전 추천! 메뉴는 클릭하시면 크게 확대해서 볼 수 있습니다!\\n딤섬, 누들, 라이스, 치킨 등 상당히 많은 종류의 메뉴가 있어서 살짝 선택장애가 오긴 합니다.\\n저흰 딤섬 1종류와 마라탕면, 깐풍가지새우를 먼저 먹고\\n오렌지치킨과 볶음밥을 추가로 주문해서 먹었답니다. 중식당 답게 당연히 고량주도 팔았는데 '아메리칸'이 붙어서인지 와인도 팔던게 색달랐어요ㅎㅎ\\n그리고 연태하이볼이라는건 처음봤는데 연태 고유의 향과 하이볼 향의 조합이 어떨지 궁금하더라구요. 기본세팅이구요.\\n이제 우리가 먹었던 음식 소개 갑니다~~ 음식은 연달아서 빨리 나왔어요.\\n그래서 깨끗한 한 상을 사진으로 찍을 수 있었네요ㅎㅎ\\n음식 먹을 때 끊기면 안되는데 빠릿빠릿 나와서 좋았습니다 '바질하교'\\n3pcs에 8,000원이고 1개 추가 시 2,500원입니다.\\n저희는 4명이서 당연히 4pcs로 시켰구요~\\n포동포동 새우가 터지는 본연의 맛을 느끼기 위해서 골랐습니다ㅎㅎ 피도 상당히 쫄깃하고 다진 새우임에도 통통 터지는 촉감을 느낄 수 있더라구요!\\n안에 뜨거운 즙이 풍족히 있다보니 한입에 먹다간 입천장 데이니 조심하세요ㅠㅠ '오렌지 치킨'\\n치킨과 오렌지의 조합은 상상만으로는 정말 이상할 거 같죠..?\\n근데 처음 차알을 방문 했을 때 먹어보고 항상 올 때 마다 먹는 메뉴입니다ㅎㅎ 향긋한 오렌지향이 분명 나는데 치킨의 맛을 잡아먹을 정도는 아니고 오묘하게 적절한 조화가 진짜 맛있어요!\\n치킨도 전혀 딱딱하지도 않고 부드러워서 좋았어요. '연태하이볼'\\n연태고량주는 호불호가 있기도하고 높은 도수에 걱정하시는 분들이 있을텐데\\n일단 도수 걱정은 1도 안해도 됩니다.\\n다만 연태 고유의 향은 확실하게 나구요.\\n연태고량주는 별로 첨가 되지 않은 듯 했어요.\\n고량주 느낌은 찾아 볼 수 없었고 음료수 같았습니다.\\n고량주 비율 조절 가능하면 좋을 듯 합니다ㅎㅎ '차알 마라탕면'\\n흔히 생각하는 마라탕과는 조금 달라요.\\n우선 면 선택은 따로 안되고 짬뽕면입니다.\\n제가 알던 마라향과는 확실히 다른 차알만의 퓨전 마라탕 같았는데 처음 접하는 사람도 거부감 없이 먹을 수 있을거에요! 매콤한거 좋아하는 사람에겐 딱이에요!\\n그렇다고 막 엄청 매워서 땀나고 그정돈 아니기 때문에 맵찔도 충분히 먹을만 합니다. '깐풍마늘가지새우'\\n양꼬치집에서 먹는 가지볶음을 상당히 좋아하는데 그 느낌에 매콤하면서 새우까지 들어가있으니\\n비싸도 저에게 있어서는 최고의 베스트 메뉴였습니다. 가지 따로, 새우 따로가 아니라 두 개가 붙어있어요ㅋㅋ 내일 출근이지만 고량주를 안시킬 수가 없었습니다. 살짝 아쉬워 '게살볶음밥' 추가요~\\n다들 배부른데 새우깡마냥 계속 손이가던 메뉴였죠ㅋㅋ\\n혼밥을 하기엔 살짝 양이 작을 수도 있을거 같은데 2명이서 면메뉴와 딤섬, 볶음밥 이렇게 먹으면 점심으로 최고의 조합이지 않을까 싶습니다. 단품만 보면 양이 작아보였는데 막상 4명이서 5개 메뉴를 먹었더니 모두 배가 너무 불렀어요.\\n메뉴마다 모두 안이 꽉 차게 압축되서 나온 느낌이랄까나요?\\n그리고 시켰던 메뉴들은 전부 하나같이 진짜 찐으로 맛있었습니다. 차알은 확실히 믿고먹는 체인식당입니다!\\n다만 중식 메뉴 자체가 기름이 많다보니 너무 많이 먹으면 니글거릴 수도 있을 거 같아요.\\n적당히 음주류와 함께 즐기시면 더 맛있게 먹을 수 있지 않을까 싶습니다ㅎㅎ\\n'일부 메뉴에 한해 '차알'에서 제공받아 솔직하게 작성한 글입니다'\"},\n",
       " 3: {'title': '역삼맛집 도야짬뽕 맛있어요 ',\n",
       "  'nickname': '수자매하우스\\n(lovely-oh)',\n",
       "  'datetime': '2021. 12. 29. 3:41',\n",
       "  'content': '오랫만에 남편이랑 점심 데이트 \\n사실 남편이 중식을 좋아해서 중식 메뉴 골라주면 \\n더 맛있게 먹어 괜히 뿌듯하고 그래요 \\n역삼맛집 도야짬뽕 대만족 후기 들려드려요 \\n남편이 말하기를 다 먹고 주차장 나가며 \\n데리고 와서 내가 잘 먹으면 너가 더 좋아하더라 하며 \\n훈훈하게 퇴장을 하하하하 \\n주차장은 따로 없고 차 이용하시는 분들은 \\n안전하게 바로 맞은 편  코레이트타워 주차장 이용했어요 \\n전 들어가서 주문하고 있고 \\n저 내려주고 남편은 주차하러 간 사이 먼저 올라가봤지요  계단을 이용해 건물 안쪽으로 들어가 \\n2층에 위치해 있답니다 \\n사람이 꽤 많았어요 점심시간 피크는 좀 지나고 있고 \\n브레이크 타임이 따로 있더라구요 \\n후다닥 먹고 브레이크 타임 딱 맞게 일어났지요  1인세트 , 2인세트 세트메뉴 \\n독보적인 메뉴가 눈길을 끄네요 \\n저녁엔 안주 메뉴 겸 식사 메뉴 \\n요즘 혼밥 하시는 분들도 많기에 \\n이런 메뉴가 탄생했나봅니다 \\n아주 가성비가 괜찮네요 하하  어머 내부로 들어오니 세련된 분위기 \\n요즘 중식당 가보면 정말 밝고 분위기도 좋고 \\n인테리어도 한 몫하는 거 같아요 \\n진짜 이제는 예전 중식당 생각하면 안되요 \\n이렇게 얘기하니 나 되게 옛날 사람 같지만 아니고요 하하 \\n청결하고 내부도 깔끔하고 \\n직원분들도 굉장히 친절하셔서 좋았어요 \\n서비스 좋으면 괜히 기분 좋은 그런 느낌 있자나요  베트남 고추가루 일반 고춧가루 \\n눈에 띄이네요 \\n각각 하나씩 있더라구요 \\n왜 있는지는 물음표 하하하 \\n뭐 각자 입맛에 맞게 먹으라고 그랬겠죠? 도야짬뽕은 체인점 이더라구요 \\n짬뽕에 인생을 걸었다 1460일동안 면과 국물만 연구 \\n우와 뭔가 맛집은 달라도 다르고 하루 아침에 되는 게 \\n절대 아니란 걸 \\n맛집은 그리고 쉽게 되는 게 아니라는 걸 \\n수많은 경험을 통해 결과가 나옴으로써 \\n국물과 면의 최고가 나오는거죠 \\n진짜 예술이더라구요 맛있었어요  역삼맛집 도야짬뽕 왔으면 도야짬뽕 무조건 먹어봐야죠 \\n그리고 도야볶음밥 \\n그리고 탕수육 주문했어요 \\n탱탱한 식감과 국물의 흡수도 \\n잘 만끽해보시길 바래요 \\n맛의 기본은 정말 신선한 재료인데요 \\n직원분들이 이제 브레이크 타임을 알림으로써 \\n저 쪽에서 양파 뭉태기를 들고 가시는 모습이 인상적이였어요 \\n당일 손질해서 당일 식재료를 만드시는 것!!!\\n최고의 맛과 서비스를 제공하는 것 \\n도야짬뽕 재방문각 당연 이고요  도야짬뽕 서비스 인상적이였어요 \\n무료카페존부터 시작해서 \\n많은 서비스들이 있으니 함께 공유해보세요 \\n아이들과 외식도 가능할 수 있게 아기의자 준비되어 있구요 \\n당연 애 엄마니 눈에 띄일 수밖에 없구요 \\n포장 가능 , 배달 가능한 역삼 맛집 입니다  SNS 홍보가 많은 힘이 된다는 사실 \\n아시죠?\\n잠깐 시간 투자하시고 솔직담백하게 기록해주시면 \\n맛있는 서비스가 찾아온답니다 \\n독보적인 세트메뉴 확인하시구요  연말행사 예약이 가능하니 참고하세요 \\n사실 시국이 참 아이러니 하지만 \\n맛있는 곳임을 무조건 알려드립니다 \\n모임하기에도 좋아요 \\n중식 좋아하시는 분들 무조건 모여요 하하  인생짬뽕 궁금하신가요 \\n역삼맛집 도야짬뽕 맛 보세요 \\n여지껏 맛 보지 못한 국물맛에 감동받으실 수 있어요 \\n얼큰한 거 좋아하고 남들 짜장면 먹을 때 \\n전 짬뽕 먹는 스타일이라 그리고 소주 한잔 좋아해서 \\n해장으로 짬뽕 굉장히 좋아하는데 정말 \\n속이 풀리는 맛입니다  손님들이 테이블마다 계셔서 우리가 거의 \\n브레이크 타임 전 마지막 손님이라 찍어봅니다 \\n매장도 넓고 쾌적하고 깔끔해요  창가 쪽에 앉았는데 남편이 멀리 셀프존을 발견하네요 \\n단무지도 왜 이렇게 맛있고 \\n얇아서 너무 좋더라구요 \\n그 무침 같은 거 뭐라고 하죠 그 중식당 가면 있는 \\n유일한 중식에서만 볼 수 있는 기본 찬 중에 하나인데 \\n그것도 양념이 아주 심심하면서 참 맛있더라구요 \\n왜케 맛있는 건데 하면서 음식 기다리며 한 접시 클리어 하하 \\n개인차이가 있으니 참고하시구요  도야짬뽕 그리고 도야볶음밥 \\n볶음밥 딱 한 입 먹었어요 \\n남편이 맛있다고 다 먹고 한 입 중간에 맛 봐야 된다고 \\n주더라구요 하하하하 \\n너무 맛있었나봅니다 \\n맛있게 먹어주니 내가 해준 건 아니지만 개 뿌듯 하하  탕수육 왜 또 그렇게 맛있었나요 \\n희한하게 새로운 신선한 맛이였어요 \\n탕수육 소스도 범벅이 아닌 살짝 뿌려지고 \\n튀김옷에 살짝 간이 베어있었어요 \\n후추간 비슷했는데 과하지 않고 \\n짭쪼름 적당한 맛이라 맛있게 먹었어요 \\n중식을 이렇게 맛있게 먹으니 남편도 놀란 눈치 \\n맛있게 끊임없이 먹었답니다 하하  위에는 카메라 버전 \\n요것은 핸드폰 갤럭시21 울트라 버전 \\n하아 먹음직스럽네요 둘다 공통점은 하하 \\n진짜 맛있게 먹었고 다음엔 애들이랑 울 엄마 꼭 데리고 와야지 \\n넘 맛있게 먹어서 재방문각 \\n재차 강조하지만 정말 깔끔했어요 음식들이  짬뽕도 잘 안 먹는 사람인데 각자 구역이 있으니 \\n남편이 짬뽕도 한 젓갈 달래서 후루룩 다 먹더라구요 \\n맛있게 먹으니 참 정말 좋아요 \\n내가 데려간 맛집 인정 \\n역삼맛집 도야짬뽕 이 집 짬뽕 참 괜찮네요 \\n해산물도 푸짐하고 한 가득이라 양도 많아요 \\n탕수육도 참 괜찮고 맛있었어요  맛있게 정신없이 휴지뜯어 코 풀어가며 \\n개운하게 짬뽕 한 그릇 다 먹고 \\n국물에 밥 한 공기 말아드신 나란 여자 어쩌지 \\n하하하하 든든하게 맛있게 먹었어요 \\n공기밥도 무료 제공 입니다 \\n추가 주문 안해도 되고 밥도 그냥 주니 대박 입니다 \\n저 멀리 공기밥 무료 꼭 확인하세요  무료카페존 \\n든든하게 식사 마친 후 커피 한잔 들고 퇴장해요 \\n음료수도 준비되어 있어요 \\n커피도 따뜻한 거 , 아이스 잔까지 얼음까지\\n준비만발 입니다 \\n정말 고객들을 위해 많은 서비스까지 \\n준비해 놓은 정성에 감동입니다 \\n잘 먹고 왔습니다   서울 강남구 강남대로94길 87 진남빌딩 2층\\n역삼동 644-4 진남빌딩 2층 \\n역삼역 4번 출구 161m\\n02-556-0303\\n영업 \\n매일 오전 11시 ~ 밤 9시  '},\n",
       " 4: {'title': '눈과 입이 즐거운 역삼 맛집 리스트',\n",
       "  'nickname': '두덩두덩',\n",
       "  'datetime': '2021. 11. 9. 9:00',\n",
       "  'content': '안녕하세요. 두덩이에요 :)\\n오늘은 역삼 맛집들을 포스팅할까 합니다!\\n그중에서도 제가 최근에 비주얼에 한번, \\n그 맛에 한번 놀란 곳이 있어 가장 먼저 소개를 하려고 해요~ 바로 용용선생 강남역점인데요!\\n이곳이 식당 창업에 올인한 젊은 창업자들의\\n주점인데, 그 스토리가 유튜브에서 화제가 되어\\n입소문을 타고 있는 곳이에요.\\n저도 여기를 인스타그램에서 자주 보이던 곳이라\\n정말 궁금했었거든요?\\n특히 상호명 자체가 유니크하고\\n1930년대 홍콩 뒷골목을 컨셉으로 했다는 것이\\n기존의 다른 중식당과는 차별화된 것 같아서\\n더욱 색다르게 다가왔던 것 같아요! 전화 : 0507-1395-5369\\n매일 17:00-01:00 강남역 11번 출구에서 도보 3분 정도 거리에\\n위치해 있어요!\\n위드코로나 이후 저의 첫 불금이었어요.\\n그래서 기대 반 걱정 반으로 강남에 도착을 했는데,\\n와.. 역시나 핫했어요! 역삼 맛집으로도 이미 입소문이 난 곳이라서\\n저는 친구를 기다리다가 웨이팅이 있을 것 같아서\\n친구를 만나기 전에 먼저 용용선생 강남역점으로 향했어요.\\n그런데.. 제가 저녁 7시쯤 도착을 했는데\\n10팀이 넘는 웨이팅이 있었어요..ㅠㅠ 제가 원래 웨이팅을 잘 하지 않는 사람인데,\\n하루 종일 요기 음식들 먹을 생각에\\n점심도 식단 챙겨 먹고 인스타그램에 여기 음식 사진 보면서\\n정말 큰 기대를 하고 왔거든요.\\n그리고 밖에 나와 있는 메뉴판을 보는데,\\n도저히 발걸음이 떨어지지 않는 거예요.\\n그래서 우선 제 이름을 적고 웨이팅을 했습니다.\\n홍콩식 주점이라 술을 먹는 곳이기에 회전율은 그렇게 빠르지 않았지만,\\n다들 2차 갈 시간 즈음에 훅훅 빠지더라구요!\\n웨이팅은 약 1시간? 정도 한 것 같아요~ 저희 뒤에도 꾸준히 웨이팅 팀이 늘어났고,\\n한팀한팀 빠지는 것에 기뻐하며 친구랑 수다 떨면서\\n기다렸어요 ㅋㅋㅋㅋ\\n저희 입장 순서가 곧 다가왔을 때에는 이렇게\\n안에서 웨이팅을 했는데,\\n중간의 자라라창과 붉은색의 네온사인들이\\n정말 홍콩 분위기가 뿜뿜했어요.\\n왜 용용선생 강남역점이\\n역삼 맛집으로 핫한지 알 것 같습니다~ 무엇보다 1930년대의 영국문화가 융합된\\n레트로 분위기가 더해져 더욱 제 취향이었어요 ㅎㅎ 드디어 제 이름이 호명되는 순간.\\n어찌나 짜릿하고 기분이 좋던지 ㅋㅋㅋ\\n안에서 맛있는 음식들 냄새 맡으며 정말 군침 흘렸습니다..\\n여기 직원분도 너무 친절하셔서\\n더욱 마음에 들었어용 자리에 앉자마자 얼른 음식을 주문하기 위해\\n빠르게 메뉴를 스캔했어요.\\n사실 저는 이미 인스타로 다 보고 무엇을 먹을지\\n결정을 하고 온 터라.. 호다닥 주문을 했습니다 ㅎㅎ\\n이곳의 메인 메뉴는 고추바삭 유림기!\\n고추 들어간 매운 음식을 좋아하는 \\n저는 이 메뉴가 가장 기대가 되었어요.\\n그 외에 튀김요리, 마라요리,\\n냉채&무침요리, 볶음, 튀김, 탕 요리 등\\n중식 요리들이 가득합니다~ 알찬 메뉴 구성으로 저렴한 가격에 즐길 수 있는\\n세트 메뉴들도 있으니 참고하면 좋을 것 같아요.\\n용용선생 강남역점에서 베스트메뉴들만 모아놓은 세트거든요~\\n역삼 맛집까지 왔는데, 베스트 메뉴들 즐겨줘야죠! 기본으로 나오는 땅콩과 단무지.\\n음식이 나오기 전에 땅콩을 한두개 집어먹고 있으니\\n정말 홍콩에 온듯한 기분이 들었어요 ㅋㅋ 이날 저희가 선택한 주류는\\n홍콩 분위기와 잘 어울리는 아사간열 토닉세트를\\n주문했어요.\\n고량주가 도수가 높고 흔하지 않은 술이다 보니\\n잘 접하지 않는 술중에 하나인데,\\n고량주에 토닉워터를 섞어 더욱 맛있게 즐길 수 있어서\\n한번 주문해 봤습니다! 고량주 특유의 향과\\n토닉워터의 청량감이 더해져 너무 맛있었어요.\\n특히 저희가 주문한 음식들과의 조합이 좋아서\\n아주 술술 들어갔답니다~ 가장 먼저 나온 음식은 \\n흑후추우삼겹 (10,900원)\\n블랙페퍼 소스에 볶아낸 우삼겹요리인데,\\n그 소스의 풍미가 우삼겹에 가득 묻어 있어서\\n정말 맛있게 먹었어요.\\n특히 야채도 다양해서 더욱 좋았어요.\\n감칠맛 돌고.. 밥이 절로 생각나는 맛!\\n거기에 불향도 약간 나면서 다양한 식감을\\n느낄 수 있었어용! 혹시 역삼 맛집으로 마라탕을 찾으신다면\\n용용선생 강남역점을 감히 추천해요.\\n와.. 저 여기서 마라수혈 제대로 했거든요?\\n화산 마라 전골 (20,900원)\\n전골 육수에 우삼겹이 먹기 좋게 겹겹이 쌓여 있었어요,\\n그 위에는 마라 소스인 것 같은데,\\n이름처럼 화산을 제대로 표현했더라구요! 팔팔 끓이며 산처럼 쌓인 우삼겹과\\n안에 있던 숙주를 푸욱 담갔어요.\\n냄비 안에는 우삼겹, 중국당면, 분모자, 각종 야채가\\n아낌없이 들어가 있는데,\\n여기 마라 제대로에요.\\n일반 마라탕집 가면 한국인 입맛에 맞춘다고\\n마라향이 적은 곳이 많은데,\\n여기는 정말 마라향 제대로고 국물도 얼얼하니\\n별점 5점.. 역삼 맛집에서 한상 제대로 즐기는 동안 이어서 나온\\n마라왕교자 (6,000원)\\n이 작은 교자 만두에서 마라향을 가득 품고 있어서\\n눈이 똥그래지는 맛이었어요.\\n제 친구는 용용선생 강남역점에서 이 교자가 제일 맛있었다고..\\n일반 교자를 생각하면 오산!\\n진짜 한입 베어 물면 예상과는 정말 맛있어서 놀래요. 마지막으로 나온 이곳의 대표메뉴\\n고추바삭 유림기 (18,900원)\\n두툼한 닭다리살을 각종 향신료로\\n18시간동안 마리네이션 하며 튀겨낸 요리에요.\\n말 안해도 알 것 같은 겉.바.속.촉 비주얼\\n청양고추가 송송 썰려 한가득 올려주는데,\\n유림기에 고추 하나 올려 먹으면\\n기름기의 느끼함은 잡아주고\\n속살의 부드러움을 제대로 느낄 수 있어요. 무엇보다 안에 새콤달콤한 소스와 아삭한\\n양배추를 함께 먹으면 그 맛은 환상..\\n이거 꼭 드세요 여러분..\\n고기가 이렇게 부드러워도 되나 싶을 정도로\\n그냥 난리나요..!! 기대 이상으로 정말 맛있게 먹은 역삼 맛집은\\n특색 있는 컨셉의 인테리어,\\n그리고 자기주장 강한 음식들.\\n하나하나 퀄리티 있는 음식들이라 더더욱\\n만족도가 높았어요.\\n다음엔 칼퇴하고 용용선생 강남역점에\\n웨이팅 생기기 전 무조건 달려와야겠어요..! '},\n",
       " 5: {'title': '풍요로웠던 역삼 맛집 리스트',\n",
       "  'nickname': '느느\\n(mephisto69)',\n",
       "  'datetime': '2021. 11. 22. 13:00',\n",
       "  'content': '지난 주에 친구와 점심 약속을 잡고 역삼 맛집에 다녀왔는데요. 덮밥을 수북히 쌓아주신다는 소문대로 풍요로움을 느낄 수 있는 곳이었어요. 찾아간 곳은 밥밥디라라 역삼본점인데 역삼초등학교 정문에서 2분 정도 거리였어요. 노란 간판이 멀리서도 눈에 띄었는데 식물 가드닝이 되어 있어 인상적이더라고요. 끌고 간 차량은 준비된 주차장에 댔는데 서울 중심가이지만 주차비 걱정을 하지 않아도 된다는 점이 마음에 들었어요. 영업 시간은 오전 11시부터 오후 9시까지로 점심과 저녁까지 든든하게 채울 수 있겠더라고요. 그리고 포장 판매도 하고 계셨는데 곧 배달도 된다니 편하게 이용 가능할 듯해요. 내부는 생각 이상으로 널찍한 공간을 확보한 상태였는데 깔끔함이 돋보였어요. 그리고 비대면 키오스크방식으로 주문받는 스마트한 역삼 맛집이더라고요. 오더를 넣은 후에 따사롭게 햇살이 들던 창가 자리에 앉아 음식을 기다렸는데요. 워낙 창이 깨끗하고 넓다 보니 시티뷰가 한 장의 사진처럼 느껴질 정도였어요. 식기류에서도 차별화를 느낄 수 있었는데 봉투에 담아 위생적으로 제공해주셨어요. 요즘처럼 위생이 신경쓰이는 상황에서 안심하고 방문할 수 있는 곳인 듯해요. 먼저 제공된 음식은 스팸튀김인데 사이드 메뉴중 인기가 핫하길래 시켜봤어요. 테이블에 도착하자마자 느껴지는 스모크한 향이 마음에 들었는데 통조림 곽을 그대로 사용하는 게 인상적이었어요. 챙겨주신 소스에 푹 찍어 음미해보니 짤 거라는 예상과는 다르게 담백하고 고소했어요. 겉면의 크리스피한 식감이 뛰어나서 역삼 맛집의 묘미를 느끼게 해주더라고요. 다음 순서로 돈까스화산덮밥이 나왔는데 직원분이 직접 치즈 토핑을 해주시더라고요. 이름처럼 마그마가 흐르는 거 같은 걸쭉함이었는데 푸짐하게 올려주셨어요. 마무리로 소스까지 흠뻑 적셔주셨는데 식자재를 아끼지 않으시더라고요. 패티 역시 도톰하니 하나만 먹어도 속이 든든해지더라고요. 그래서 가위와 집게로 잘라 즐겼는데 잘린 단면으로 보이는 고기의 두툼함에 또 한 번 반하게 되었어요. 싸구려 패티와는 달랐기에 이곳의 퀄리티를 인정할 수밖에 없었어요. 치즈와 함께 음미해보니 고소함이 고기 위로 자연스럽게 코팅됐어요. 역삼 맛집은 느끼하지 않게 매운맛 소스가 마무리를 해주니 완벽하더라고요. 밥과 건져 먹으니 대식가인 저도 충분히 배부름을 호소할만한 양이었는데요. 여기에 단무지를 살짝 얹어주면 새콤하게 입가심까지 됐어요. 친구는 아보카도 알밥세트를 주문했는데 특색있는 조합에 저 역시 기대가 됐어요. 단정하게 차려진 담음새만큼이나 깔끔하고 담백한 풍미를 자아내더라고요. 세트 구성에도 돈까스가 포함돼 있는데 갓 튀겨 가져다 주시니 단품으로 시키는 것만큼이나 퀄리티가 살아있었어요. 달콤한 소스에 찍어 시식해니 역삼 맛집은 구수함이 상당했어요. 무난하게 즐기기 좋은 스타일이었는데 돼지고기 고유의 맛에 집중할 수 있어 좋았어요. 샐러드도 남기지 않고 섭취했는데 뿌려진 드레싱 소스가 잘 어울리더군요. 무엇보다 싱싱한 샐러드가 입안 가득 생기를 불어주니 식욕이 상승하더라고요. 입속을 정돈하고 아보카도 알밥으로 직행했는데 퓨전 스타일이 제 입맛에도 쏙 맞더라고요. 고기 없이도 과육에서 고소한 맛이 흘러 담백하면서도 깔끔했어요. 안에 들어간 알의 존재감도 확실했는데 톡톡 굴러다니며 씹는 재미를 상승시켜줬어요. 게다가 돌솥의 열기가 후끈하다 보니 오랫동안 온기가 전달되더라고요. 이날 역삼 맛집의 하이라이트는 치킨타워 덮밥이 아닌가 싶어요. 여행지에서 볼 수 있는 돌탑처럼 쓰러지지 않게 차곡차곡 쌓아주셨답니다. 그 비결은 꼬챙이에 있었는데 가지런히 연결을 해주셨어요. 덕분에 지저분하게 흐르지 않고 하나씩 빼서 깔끔하게 즐길 수 있었어요. 먹을 때는 따로 챙겨주신 접시로 담아 하나씩 주워 먹어도 됐는데요. 역시나 미리 만들어 놓지 않고 주문과 동시에 튀겨주시니 바삭함이 으뜸이었어요. 그리고 튀김의 옷을 얇게 하면서 육질의 비율을 높이니 느끼함이 없더라고요. 치킨 전문점이라고 해도 믿어질 정도로 밑간 역시 훌륭했어요. 담아주신 양배추와 곁들이니 은은하게 단맛이 퍼져 계육의 매력을 상승시켜주더군요. 텐더 샐러드 느낌도 들었는데 제 취향에 딱 맞았어요. 독창적인 음식들을 선보여준 덕분에 역삼 맛집이 유쾌하게 자리잡았어요. 앞으로도 시간 날 때마다 들를 거 같은 예감이 드는 곳이랍니다. 신논현역 4번 출구에서 도보 6분 거리의 바비레드는 생방송오늘저녁 383회에게 소개됐던 이탈리안 레스토랑이에요. 오랫동안 꾸준히 사랑받아온 레드 크림 파스타부터 건강식인 바비 포케 샐러드까지 취향에 맞는 요리들이 즐비했네요. 한식과 이탈리안 요리의 색다른 만남을 체험하고픈 분들께 강추드립니다.  유나이티드 문화센터 인근에 자리한 무월식당은 한국의 가정식의 품격을 느낄 수 있는 한식집이에요. 베스트 메뉴로 꼽히는 한방바베큐보쌈은 메인인 훈제 보쌈 외에도, 정갈하게 그지 없는 반찬들이 일품이더라고요. 조용하고 아늑한 분위기와 멋으로 소개팅 자리나 가족모임으로도 안성맞춤인 곳이랍니다. 역삼역 3번 출구에서 300m정도 떨어진 돝고기506은 밥블레스유 6회에 출연한 바 있는 고깃집이에요. 27년 노하우를 바탕으로 총 506시간의 숙성을 거친 한돈구이는 맛이 그야말로 일품이더군요. 별도의 금액을 지불하면 프라이빗한 룸에서 식사할 수 있으니 참고하세요. 르네상스호텔 사거리 방면에 자리한 바게트케이는 MBC파워매거진 351회에 방영될만큼 호평받는 베이커리집이에요. 겉은 바삭하고 속은 부드럽게 그지없는 바게트가 다양하게 판매되고 있으니, 선호하는 스타일로 즐기시면 될 것 같고요. 감각적인 인테리어와 분위기로 사진 명소로도 적격이랍니다.\\n위 포스팅은,\\n소정의 원고료를 받고 작성했습니다.'},\n",
       " 6: {'title': '중독적인 역삼역 맛집 모음',\n",
       "  'nickname': '먹방토끼',\n",
       "  'datetime': '2021. 12. 23. 13:00',\n",
       "  'content': '며칠 전 친구와 쇼핑을 나갔다가 손님이 바글바글한 역삼역 맛집에 방문하게 됐어요. SNS에서 종종 봤던 식당인데 맛과 비주얼 모두 특출난 곳이라 소개해드려요.\\n1. 밥밥디라라 역삼본점\\n주소: 서울 강남구 도곡로7길 28 1층 102호\\n전화번호: 0507-1489-5840\\n운영시간: 11:00 - 21:00 (일요일 휴무, B.T. 15:00 - 16:30)\\n대표메뉴: 김치가츠나베 10,900원 이날 다녀간 밥밥디라라는 순복음 강남교회에서 도보 1분 거리였는데요. 도로변 앞에 있어 초행길임에도 어렵지 않게 발견할 수 있었지요. 그리고 주차장도 완비되어 있으니 차를 끌고 가기에도 좋은 곳이더라고요. 건물 외관에서 풍기는 분위기가 유쾌해서 음식에 대한 기대감도 한껏 올라갔어요. 오픈은 오전 11시이고 마감은 9시라 근처 직장인들이 들르기에 좋을 듯해요. 3시부터 4시 30분까지 브레이크 타임이니 이것만 참고하시면 될 거 같아요. 안으로 들어갔더니 주문을 위해 설치된 키오스크 기계가 눈에 들어왔는데요. 음식 사진까지 화면 속에 들어가 있어 역삼역 맛집 메뉴를 바로 파악했어요. 매장은 전체적으로 깔끔하게 관리되어 있고 아늑한 분위기를 자랑하고 있었는데요. 테이블마다 설치된 아크릴 칸막이 덕분에 위생적으로 식사가 가능했답니다. 음식은 푸드코트처럼 받아 가는 형식이라 대학 시절의 추억이 새록새록 떠올랐어요. 그리고 밑반찬과 국물을 함께 담아주셨는데 구성이 정갈해 보여서 합격점을 줬어요. 반찬은 단무지, 깍두기가 준비되어 있었는데 칼칼하면서도 시원한 단맛이 나더라고요. 오래 삭히지는 않은 거라 아삭하게 씹는 재미도 살아있었답니다. 우리는 코올슬로도 오더를 넣었는데 양배추가 잘게 들어있어 먹기 편했어요. 마요네즈 소스에 촉촉하게 버무려주시니 역삼역 맛집은 고소하면서 상쾌하더라고요. 국물은 짭조름한 편이었는데 입맛을 돋워주는 역할을 하더라고요. 건더기 없이 콸콸 넘어가는 스타일이라 순식간에 해치우게 됐어요. 제일 먼저 야끼니꾸 덮밥을 만나보니 고기 위에 노른자를 코팅하는 방식이더라고요. 다른 재료들을 부드럽게 감싸주니까 표면이 매끈해지면서 고소함이 풍부해졌어요. 계란의 반지르르한 광택까지 더해지니 육질이 훨씬 더 먹음직스러워 보이던 거 있죠? 게다가 고기가 길고 컸기 때문에 밥만 남지 않게 적절한 비율을 자랑했어요. 불고기 종류도 있었지만 평소 제육같이 빨간 양념을 더 선호하는 편이라 선택했는데요. 삼역 맛집은 일식과 한식의 매력을 동시에 가지고 있더라고요. 고기는 반찬과의 궁합도 훌륭해서 숟가락을 들 때마다 얹어 먹게 되었는데요. 특히 채수가 그득했던 깍두기와는 궁합이 딱 맞아떨어지는 요리였어요. 그다음 만난 요리는 김치가츠나베인데 역시나 얼큰한 스타일이더라고요. 한국인의 입맛을 사로잡기에 손색이 없어 첫 만남에 푹 빠지고 말았어요. 도톰한 가츠는 가위와 집게로 잘라줬는데 생각보다 두꺼워서 조금 당황했어요. 묵직한 패티의 육질이 손에 느껴질 정도라 힘을 줘서 꽉 잡고 잘라줬답니다. 저는 음식을 먹기 전에 입가심을 위해 역삼역 맛집의 양배추 샐러드를 섭취했는데 달콤 짭짤한 소스가 딱 제 취향이더라고요.  친구는 돈가스 위에 얹어 먹기도 했는데 홀린 듯이 연거푸 합을 맞추는 거예요. 그걸 보고 저도 따라 해보니 매콤한 맛을 중화시키면서 개운하게 흡수됐어요. 고슬하게 지어진 쌀밥과도 잘 어울려서 훌륭한 반찬이 되어주더라고요. 튀김옷에 흡수되었던 국물이 밥알 사이사이로 스며들면서 맛의 조화를 이루더라고요. 마지막 요리는 치킨타워덮밥이었는데 이름처럼 토핑이 풍성하게 올라갔어요. 이전에 본 적이 없는 환상적인 비주얼이라 바로 흩트리기가 아쉬울 정도였어요. 높게 쌓은 역삼역 맛집 기술이 궁금했는데 꼬치로 재료들을 연결해 놓으셨더라고요. 요리 하나에 들이는 정성이 대단할뿐더러 플레이팅 기술이 뛰어난 곳이었어요. 덜어 먹을 수 있게 접시를 챙겨주셨길래 차근차근 준비해서 시식했는데요. 고소한 소스가 묻어 있어서 그런지 짠맛이 강하지 않고 밸런스가 맞더라고요. 치킨도 먼저 염지를 해둔 거라 전체적으로 짭조름한 염분이 느껴졌어요. 덕분에 소스 없이 먹어도 심심하지 않고 육질이 야들야들하게 씹혀서 좋았어요. 무엇보다 마음에 든 건 튀김옷이 얇지만 육질은 도톰하다는 점이었어요. 이게 반대로 되면 속이 느글거릴 수 있지만 이건 담백하게 즐길 수 있더라고요. 그리고 느끼하지 않게 양배추를 갈아 밥 위에 얹어주시니 조화가 훌륭했는데요. 밥 한 톨 남기지 않고 먹게 되니 과식하는 걸 주의해야 할 정도였어요. 기대했던 이상의 풍미를 제공해주는 역삼역 맛집이라 인상적이었어요. 이날 먹어보지 못한 메뉴들이 많으니 조만간에 친구와 다시 들를 생각이랍니다. 2. 땀땀\\n주소: 서울 강남구 강남대로98길 12-5\\n전화번호: 02-554-8892\\n영업시간: 11:00 - 22:00\\n대표메뉴: 포 모이 Pho moi 15,000원\\n강남역 11번 출구에서 도보 5분 거리에 위치한 땀땀은 생방송투데이 26 58회에 소개된 베트남음식 전문점이에요. 베트남 궁중 보양식 레시피를 바탕으로 엄선된 소고기와 사골을 24시간 동안 우려낸 국물을 맛볼 수 있는데요. 면발은 탱탱한 식감이 매력적이라 면매니아라면 한 번 드셔보셔도 좋을 것 같네요.\\n3. 신동궁감자탕 역삼본점\\n주소: 서울 강남구 테헤란로10길 21\\n전화번호: 02-555-3782\\n영업시간: 11:00 - 21:00\\n대표메뉴: 감자탕 소 32,000원 역삼까치공원에서 도보 5분 거리에 위치한 신동궁감자탕 역삼본점은 VJ특공대 734회에 소개된 감자탕집이에요. 야들거리는 살결과 감칠 맛 깃든 국물을 음미 할 수 있어서 술 안주는 물론, 해장 목적으로 방문하기 딱 좋아요.\\n4. 돝고기506\\n주소: 서울 강남구 역삼로17길 53\\n전화번호: 02-6933-9506\\n영업시간: 11:30 - 22:00\\n대표메뉴: A506 숙성 삼겹살 150g 17,000원 역삼역 3번 출구에서 도보 4분 거리에 위치한 돌고기506은 밥블레스유 6회에 소개된 돼지구이 전문점이에요. 부드러움 식감과 짙은 육향을 느낄 수 있는 삼겹살은 풍만한 식감에 육고기 특유의 잡내가 전혀 없어서 거부감 없이 즐길 수 있어 좋더군요.\\n5. 바게트케이\\n주소: 서울 강남구 테헤란로34길 21-10\\n전화번호: 02-567-9501\\n영업시간: 07:00 - 19:00\\n대표메뉴: 말제르브바게트 5,500원 역삼역 1번 출구에서 도보 7분 거리에 위치한 바게트케이는 MBC파워매거진 351회에 소개된 빵집이에요. 말제르브바게트는 겉은 바삭하고 속은 부드러운데, 담백하고 고소한 향이 입에 촤악 퍼져서 취향을 제대로 저격하더라고요.\\n위 포스팅은 소정의 원고료를 받고 작성하였습니다.'},\n",
       " 7: {'title': '역삼맛집 소이연남! 점심 뭐먹지? 태국음식 리뷰',\n",
       "  'nickname': '델피늄\\n(kba7628)',\n",
       "  'datetime': '2021. 12. 21. 10:44',\n",
       "  'content': 'http://naver.me/GgekT3fA 아침부터 쌀쌀한 날씨에\\n따끈한 국물이 땡기는 날이있다.\\n원래 쌀국수를 그리 선호하는 편은 아닌데\\n뼈해장같은 국밥류를 먹기엔\\n속이 더부룩한 아침이였고, 좀 더 가벼운\\n국물류 요리를 찾으며 쌀국수 메뉴를 고르게되었다.\\n#소이연남역삼\\n#태국음식\\n#쌀국수 소이연남 더샵스앳센터필드\\n태국음식점\\n서울 강남구 테헤란로 231 지하2층 WB06호\\n역삼역 8번 출구에서411m\\n매일 11:00 - 21:00\\n15:00 - 17:00 브레이크타임\\n20:00 라스트오더\\n매일 영업이라니, 역삼에서는 보기 드문데ㅋㅋ\\n호텔이 윗층에 있어서 투숙객들을 위함인듯 하다~~! 동료들이 추천한 새로운 쌀국수 집이 있다.\\n사진으로만 보았는데 이번 기회에 먹어보기로했다.\\n새로생긴 호텔 건물 지하층에\\n깔끔한 푸드코트가 자리하고있는데\\n외부에서도 식사하러 들어올 수 있어서\\n몇번 구경했던게 전부였다.\\n걸어서 소이연남으로 향한다.\\n더샵스앳센터필드 1층에서 \\n지하 2층으로 내려가야하는데 \\n내려가는 계단과 에스컬레이터는 \\n총 3곳으로 보인다. \\n어디로 내려가야할지 못찾을까 걱정되었는데\\n에스컬레이터도 쉽게 찾을 수 있다.  테이블은 대부분 사람이 차있었는데\\n로테이션이 빠른건지 웨이팅 없이 착석할 수 있었다.\\n테이블엔 메뉴판과 소이연남 쌀국수 \\n맛있게 먹는 법 안내지가 배치되어 있다.\\n쌀국수에 곁드릴 네가지 소스도 함께 말이다. 메뉴가 쌀국수라 그런지 오래 기다리지 않아\\n따끈한 국수 두그릇이 나왔다.\\n소스를 얼마나 넣어야할지 몰라서\\n일단 고추식초 한숟갈만 넣고\\n고춧가루만 두스푼 넣었다. 메뉴판 제일 상단에 있능 소고기 쌀국수이다.\\n위에 올려진 크런키? 견과류 종류가 씹히는 맛이 좋다. \\n위에 올려친 야채는 고수인줄 알았는데\\n막상 먹으면 별맛이 없어서?\\n고수는 아닌듯하고 묘하다ㅋ\\n담백하고도 진한 국물이 일품이였다.\\n국수면은 조금 더 얇았으면 하는 바람이다.\\n개인적으론 동남아 쌀국수의 똠양꿍 맛이\\n적게 느껴져서 좋았습니다^^\\n함께 들어있는 소고기를 한입 크기에\\n 3~4점 정도 들어있고 아주 부드러웠어요ㅜㅜ\\n또 먹고싶네용 ㅜㅜㅜ 날도 추워져서 자꾸 따뜻한 식사가 땡깁니다ㅋㅋ\\n역삼 소이연남은 쌀국수가 다시 땡길때 \\n한번 더 방문해야겠어요. 모두에게 추천추천^^\\n 더샵스앳센터필드는 소이연남 말고도\\n카페와 다양한 음식점들이 들어와있어요.\\n이곳에서 점심 뭐먹지? 하고 고민해도 좋을것 같네요ㅋㅋㅋ \\n이상 소이연남 소고기쌀국수 리뷰를 마칩니다!'},\n",
       " 8: {'title': '[역삼 맛집] 정갈한 한식 반상이 있는 한식 다이닝, 수라선',\n",
       "  'nickname': '템포',\n",
       "  'datetime': '2021. 11. 13. 8:50',\n",
       "  'content': '흔히 말하는 집 밥에서부터\\n다양한 메뉴들이 나오는 고급 진 한정식까지\\n한식의 종류는 정말 많이 있습니다.\\n이번에는 이러한 한식 중에서\\n정갈하게 밥부터 반찬까지 한 끼 식사가 나오는\\n역삼 한식 다이닝을 소개해드려보고자 합니다.\\n이번 포스팅\\n정갈한 한식 반상이 있는 한식 다이닝\\n수라선\\n입니다. 신라스테이 역삼 1층\\n통유리로 되어있는 곳에 이번에 찾아간\\n수라선이 있습니다.\\n한식 다이닝이라고 하지만\\n호텔에 있어서인지\\n영어로 SURASUN, 수라선이라고 되어있고\\n그 옆에 영어로 한식에 대한 표기인 Korean dining이 있었습니다.\\n위치를 알고 있었기에 잘 찾아갈 수 있었지만\\n만약 위치를 모르고 그냥 지나가는 길에 보았다면\\n제대로 주의 깊게 보지 않는 이상\\n쉽게 지나칠 것만 같았습니다.\\n제가 한글로 된 간판을 못 찾은 것인지는 모르겠으나\\n왜 영어로만 되어있는지는 조금 의문이었습니다. 대로변 입구에 있던 영업시간\\n영업시간은 매일 오전 11시부터 밤 10시까지\\n중간에 브레이크 타임이 3시부터 5시까지 있고\\n라스트 오더는 밤 9시까지로 되어있었습니다.\\n본래는 이곳이 입구였지만 바람 때문에 이쪽의 문을 폐쇄하고\\n신라스테이 쪽 문만을 운영한다는 안내가 있어서\\n신라스테이 안으로 들어가서\\n수라선으로 들어갔습니다. 신라스테이 역삼 안쪽 수라선으로 들어가는 입구\\n입구는 좁은 통로를 통해서 있었는데\\n입구 앞쪽에는 수라선의 여러 메뉴들에 대한 소개가 있었습니다. 수라선의 내부 모습\\n창가 자리 쪽은 예약한 사람들을 위한 자리인지\\n이후에 예약한 사람들이 안내가 되었고\\n예약을 하지 않은 사람들은 창가가 아닌 안쪽으로 자리 안내를 받았습니다.\\n수라선의 전체적인 모습은\\n호텔에 있어서인지 깔끔했고\\n직원들은 친절한 느낌이었습니다. 테이블에 있었던 메뉴 소개\\n수라선 해산물 모듬한상에 대한 소개가 있었고\\n뒤쪽으로는 술과 함께 주문했을 시 만 원이 할인된다는 내용도 있었습니다. 수라선의 메뉴판 왼쪽 상단에는 시즌 메뉴라고 되어있는\\n조그만 메뉴들이 추가로 적혀있었습니다. 수라선의 메인 식사 메뉴라고 할 수 있는\\n여러 종류의 반상 메뉴들\\n전복장 무쇠솥밥을 시작으로\\n꽃게장, 민어, LA갈비 무쇠솥밥 반상이 있었고 그 아래쪽으로는 제주 흑돼지 떡갈비 반상과 곰국시, 곰국밥이 있었습니다. 그 옆으로는 가벼운 요리 메뉴들이 있었고\\n그 옆쪽에 술과 음료 등이 있었습니다. 반상 메뉴 아래쪽에는\\n식재료 원산지가 나와있었습니다.\\n외국산 재료들도 많이 있지만\\n국내산 재료들도 많이 있었습니다. 뒤 페이지에는 요리 메뉴라고 할 수 있는 메뉴들이 있었습니다. 한우 스테이크를 비롯해서 여러 종류의 해산물 메뉴들을 비롯해서\\n술안주 느낌의 메뉴들이 있었습니다.\\n저는 여러 반상 메뉴 중에서\\n어떤 걸 먹어볼까 심히 고민을 하다가\\n최대한 안 먹어본 쪽에 가까운 쪽을 먹어보고자\\n꽃게장 무쇠솥밥 반상을 주문했습니다. 주문을 하고 얼마를 기다렸을까\\n그리 오래 기다리지는 않은 시간에 나온\\n꽃게장 무쇠솥밥 반상\\n아래쪽에는 꽃게장이 들어있는 메인 메뉴\\n무쇠솥밥이 있고\\n그 옆에는 된장국\\n그리고 위쪽으로는 세 종류의 반찬과 솥밥과 함께 먹을 수 있는 양념이 준비가 되었습니다. 세 종류의 반찬 그리고 양념장\\n양념장은 어차피 솥밥에 비벼 먹을 것이기에\\n반찬을 소개할 때는 잠시 미뤄놓고\\n세 개의 반찬만을 이야기해 보겠습니다.\\n이날 준비된 반찬은 깍두기와 가지, 그리고 오징어젓갈이었습니다.\\n깍두기는 조금 익은듯한 깍두기의 맛이었는데\\n특별함은 없는, 식당에서 흔히 맛볼 수 있는 깍두기의 맛이었습니다.\\n가지는 적당히 짭짤하면서도 매콤한 맛이 조금 있는 맛의 반찬이었고\\n오징어젓갈은 신선한 오징어젓갈의 맛이었습니다.\\n이 세 가지 반찬은 따로 먹을 때는 오징어젓갈이 간이 세서 그런지 가장 맛있게 느껴졌지만\\n나중에 솥밥과 같이 먹을 때는\\n가지가 가장 잘 어울렸습니다.\\n깍두기는 개인적으로는 조금 별로였습니다. 함께 나온 된장국\\n된장국은 큰 특징 없는 된장국이었는데\\n제 입맛에는 솔직하게 말해서 조금 별로였습니다.\\n주된 메뉴가 아니지만 가장 실망스러웠고\\n가장 안 먹었던 구성이었습니다. 꽃게장 무쇠솥밥\\n무쇠솥밥에는 가운데 계란이 보이고\\n계란을 중심으로\\n아래쪽에는 주인공인 꽃게장이\\n그 옆으로는 시계방향으로\\n양파, 명란, 애호박, 김이 있는 모습이었습니다. 밥을 만나보기 전에\\n먼저 꽃게장을 따로 먹어보았습니다.\\n매끈한 모습의 꽃게장의 맛은\\n해산물 맛이 그대로 살아있는 맛으로\\n해산물 특유의 비린 향을 싫어하는 사람이라면\\n싫어하겠다는 생각이 바로 들 정도였습니다.\\n하지만 저는 그 정도는 아니기에\\n먹어보았을 때 조금 해산물 향이 강하구나 싶은 것을 제외하고는 별미다 싶었습니다. 아래쪽으로는 밥이 숨어있었습니다.\\n고소하면서도 부드러운 맛이 있던 밥 이제 본격적으로 모든 재료들을 다 섞어보았습니다.\\n양념장은 먹다가 매콤한 것을 먹고 싶을 때 섞어먹으면 된다 하여\\n우선은 양념장 없이 그대로 비벼보았습니다.\\n섞어서 먹어본 꽃게장 무쇠솥밥\\n처음 먹어보았던 꽃게장의 해산물 맛은 조금 약해진 대신 다른 재료들의 맛이 함께 느껴졌습니다.\\n중간중간 꽃게 살의 미끄러우면서도 부드러운 맛과\\n명란의 맛이 느껴지던 무쇠솥밥\\n부드럽고 담백한 맛에\\n정갈하고 건강한 맛이었고\\n양념 없이도 충분히 맛있는 맛이었습니다. 양념이 있는 만큼\\n양념을 안 넣고 먹어볼 수는 없기에\\n매콤함을 위해 양념장을 적당히 넣어보았습니다.\\n색은 붉게 변했지만 생각보다 매콤한 맛이 약했던 맛\\n오히려 처음 양념장 없이 먹었을 때 느꼈던 부드러운 맛도 반감이 되어버렸습니다.\\n그러면서도 장에서 느껴지는 특유의 맛이 느껴지던 맛\\n개인적으로는 양념장을 함께 먹는 것보다\\n그냥 먹는 쪽이 좀 더 좋았습니다.\\n매콤한 맛을 원하는 게 아니라면 그냥 먹는 것이 더 좋아 보였고\\n매콤한 맛을 원한다 할지라도 양념장에서 크게 기대치 않는 게 좋았던 양념장의 맛\\n매콤한 맛은 오징어젓갈이 차라리 더 매콤해서\\n반찬과 함께 먹으면 충분하지 않을까 싶었습니다.\\n깔끔한 한식 반상이 있었던 수라선\\n깔끔 담백하면서도 신선했던 식사는\\n한 끼 식사를 하기에 좋았고 추천할만했습니다.\\n반상이 거창한 요리는 아니지만\\n그래도 점심 또는 저녁에\\n정갈하고 담백한 맛을 원한다면\\n한번 먹어보는 것도 좋을듯합니다.\\n그러면 지금까지\\n정갈한 한식 반상이 있는 한식 다이닝\\n수라선\\n이었습니다. '},\n",
       " 9: {'title': '[역삼] 파스타맛집 그리고 치즈팩토리 케이크 🍝 디스팅트',\n",
       "  'nickname': '100그리고100',\n",
       "  'datetime': '2021. 12. 27. 8:50',\n",
       "  'content': '회사에서 팀회식을 위해 알아보던 중 \\n양식을 메뉴로 선정함에 근처 맛집을 찾았다.\\n단독 건물로 분위기도 좋고 메뉴 가성비도 뛰어나서 \\n선택하게 된곳\\n역삼역 3번출구 강남파이낸스 건물을 지나 \\n타코벨 건물에서 골목을 들어서면 만날 수 있다. 점심시간에 도착한 디스팅트는 사람들이 \\n별로 없었지만 시간이 지남에 꽤 좌석이 찼다.\\n우리는 팀회식으로 네이버 예약을 진행하고 방문했다. 들어서자마자 눈길을 끌었던것은 케익 쇼케이스였다.\\n치즈케이크팩토리라는 브랜드로 미국에서 유명한 \\n치즈케이크라고 함에 디저트로 먹고 싶은 마음에 설랬다.\\n종류도 다양하고 같이간 일행이 유명하다고 알려줘서 먹고싶은 마음을 갖고 자리를 안내받았다. 디스팅트 좌석분위기는 위와 같다.\\n4인좌석으로 되어있는 테이블들이 주로 이루고 있었고 주문은 메뉴판을 확인한 후에 케익쇼케이스가 있었던 주문대로 가서 선결제로 진행하는 구조였다.\\n점심시간 한정 선결제로 진행된다고 함에 참고!  디스팅트의 메뉴판 구성은 위와 같고 \\n연말맞이 이벤트를 하는 메뉴도 있었다.\\n팀회식으로 주문한 메뉴는\\n콥샐러드 \\\\17,500\\n크리미머쉬룸파스타 \\\\18,500\\n볼로노제 파스타 \\\\17,500\\n쉬림프토마토리조또 \\\\15,500\\n찹스테이크&페이스츄리 \\\\33,500 > 28,500\\n런치이벤트 -5,000원과 탄산음료 1개 제공\\n으로 4인기준에 넉넉하게 주문했다. 식전빵이 먼저나오고 콥샐러드가 바로 이어서 나왔다.\\n식전빵은 포카치아 계열로 폭신하면서 쫄깃했다.\\n콥샐러드는 우드볼에 담겨나왔는데 소스를 넣어 \\n섞어먹었으며 콘과 올리브 베이컨 등 \\n채소가 다양하게 들어있어서 맛있게 먹을 수 있었다. 볼로노제 파스타\\n수란이 올라간 토마토 베이스의 고기 파스타로\\n간이 살짝 쎄서 자극적이였지만 맛은 좋았다. 쉬림프토마토리조또 \\n토마토소스 베이스에 새우살과 통새우가 올라간 \\n리조또는 쌀알의 식감도 좋았고\\n치즈맛으로 감칠맛이 더해져 맛있었다. 크리미 머쉬룸 파스타\\n부드러운 크림과 버섯 그리고 트러플향이 가득한 \\n파스타로 솔직히 메뉴중에 1등으로 맛있었고 \\n중독되는 메뉴였다.\\n크림소스까지 완벽해서 모두가 만족했던 메뉴!  찹스테이크&페이스튜리\\n고기와 야채가 구워져나온 찹스테이크는 \\n따뜻할때 먹어야 맛이좋았고 페이스츄리는 \\n일반 빵의 맛이라서 생각보다는 조화는 안어울렸으나\\n따로먹기엔 디저트 대용으로 나쁘진 않았다.  4인기준으로 메뉴를 다양하게 시킴에 테이블이 \\n좁아서 식전빵의 접시를 치워달라고 요청했고\\n배치를 잘 진행한다음에 마음껏 즐길 수 있었다.\\n가격대비 맛도 만족스러웠고 양도 좋아서 기념일이나 데이트코스로도 좋은 곳이라고 생각했다. 앞서 말했던 치즈케이크팩토리의 유명세를 \\n경험하고자 음료2잔 주문시 오늘의 케익이 무료로 \\n제공되는 이벤트를 확인하고 음료 4잔을 주문한뒤 \\n케이크를 2조각을 제공받았다.\\n시트가 거의없는 치즈케이크는 아주꾸덕하니 \\n치즈향과 맛의 풍미가 커서 만족스러웠다.\\n일반 베이커리집에서의 치즈케이크를 선호하지 않는 편인데 치즈팩토리의 케이크는 진한 맛에 맛이 좋았다. 그러나 다소 느끼함이 있어서 한조각을 다먹진 못할것 같았다. 😉 전반적으로 처음 방문함에도 모든 메뉴가 만족스럽고\\n특히 트러플향이 가득한 머쉬룸파스타가 최애가 된\\n특별한 치즈케이크와 맛좋은 메뉴가 있는곳 디스팅트'}}"
      ]
     },
     "execution_count": 30,
     "metadata": {},
     "output_type": "execute_result"
    }
   ],
   "source": [
    "dict"
   ]
  },
  {
   "cell_type": "code",
   "execution_count": 31,
   "metadata": {
    "id": "MP_grQXm-kvv",
    "outputId": "94e65bb2-0e12-48ea-be55-fb1731c3ac1f"
   },
   "outputs": [
    {
     "data": {
      "text/html": [
       "<div>\n",
       "<style scoped>\n",
       "    .dataframe tbody tr th:only-of-type {\n",
       "        vertical-align: middle;\n",
       "    }\n",
       "\n",
       "    .dataframe tbody tr th {\n",
       "        vertical-align: top;\n",
       "    }\n",
       "\n",
       "    .dataframe thead th {\n",
       "        text-align: right;\n",
       "    }\n",
       "</style>\n",
       "<table border=\"1\" class=\"dataframe\">\n",
       "  <thead>\n",
       "    <tr style=\"text-align: right;\">\n",
       "      <th></th>\n",
       "      <th>title</th>\n",
       "      <th>nickname</th>\n",
       "      <th>datetime</th>\n",
       "      <th>content</th>\n",
       "    </tr>\n",
       "  </thead>\n",
       "  <tbody>\n",
       "    <tr>\n",
       "      <th>0</th>\n",
       "      <td>무조건인 역삼 맛집 모음</td>\n",
       "      <td>어신\\n(ranboy)</td>\n",
       "      <td>2021. 11. 23. 11:30</td>\n",
       "      <td>지난 주에 역삼에 사는 친구를 만나러 갔다가 순메밀로 유명한 식당이 있다기에 역삼 ...</td>\n",
       "    </tr>\n",
       "    <tr>\n",
       "      <th>1</th>\n",
       "      <td>만족스러운 역삼 맛집 리스트</td>\n",
       "      <td>김새침\\n(kikijayoung)</td>\n",
       "      <td>2021. 10. 5. 9:10</td>\n",
       "      <td>안녕 김새침언니에요.\\n예전에 살던 동네를 마주치게 되면\\n익숙한 골목골목 지나면서...</td>\n",
       "    </tr>\n",
       "    <tr>\n",
       "      <th>2</th>\n",
       "      <td>[역삼 맛집] 센터필드 차알 역삼점, 역시나 맛은 실망시키지 않는 중식 레스토랑!</td>\n",
       "      <td>여행하지마리오\\n(sh_road)</td>\n",
       "      <td>2021. 12. 1. 12:00</td>\n",
       "      <td>지난주 월요일 여자친구와 예비 처제, 동서와 4명이서 센터필드 맛집인 '차알' 역삼...</td>\n",
       "    </tr>\n",
       "    <tr>\n",
       "      <th>3</th>\n",
       "      <td>역삼맛집 도야짬뽕 맛있어요</td>\n",
       "      <td>수자매하우스\\n(lovely-oh)</td>\n",
       "      <td>2021. 12. 29. 3:41</td>\n",
       "      <td>오랫만에 남편이랑 점심 데이트 \\n사실 남편이 중식을 좋아해서 중식 메뉴 골라주면 ...</td>\n",
       "    </tr>\n",
       "    <tr>\n",
       "      <th>4</th>\n",
       "      <td>눈과 입이 즐거운 역삼 맛집 리스트</td>\n",
       "      <td>두덩두덩</td>\n",
       "      <td>2021. 11. 9. 9:00</td>\n",
       "      <td>안녕하세요. 두덩이에요 :)\\n오늘은 역삼 맛집들을 포스팅할까 합니다!\\n그중에서도...</td>\n",
       "    </tr>\n",
       "    <tr>\n",
       "      <th>5</th>\n",
       "      <td>풍요로웠던 역삼 맛집 리스트</td>\n",
       "      <td>느느\\n(mephisto69)</td>\n",
       "      <td>2021. 11. 22. 13:00</td>\n",
       "      <td>지난 주에 친구와 점심 약속을 잡고 역삼 맛집에 다녀왔는데요. 덮밥을 수북히 쌓아주...</td>\n",
       "    </tr>\n",
       "    <tr>\n",
       "      <th>6</th>\n",
       "      <td>중독적인 역삼역 맛집 모음</td>\n",
       "      <td>먹방토끼</td>\n",
       "      <td>2021. 12. 23. 13:00</td>\n",
       "      <td>며칠 전 친구와 쇼핑을 나갔다가 손님이 바글바글한 역삼역 맛집에 방문하게 됐어요. ...</td>\n",
       "    </tr>\n",
       "    <tr>\n",
       "      <th>7</th>\n",
       "      <td>역삼맛집 소이연남! 점심 뭐먹지? 태국음식 리뷰</td>\n",
       "      <td>델피늄\\n(kba7628)</td>\n",
       "      <td>2021. 12. 21. 10:44</td>\n",
       "      <td>http://naver.me/GgekT3fA 아침부터 쌀쌀한 날씨에\\n따끈한 국물이...</td>\n",
       "    </tr>\n",
       "    <tr>\n",
       "      <th>8</th>\n",
       "      <td>[역삼 맛집] 정갈한 한식 반상이 있는 한식 다이닝, 수라선</td>\n",
       "      <td>템포</td>\n",
       "      <td>2021. 11. 13. 8:50</td>\n",
       "      <td>흔히 말하는 집 밥에서부터\\n다양한 메뉴들이 나오는 고급 진 한정식까지\\n한식의 종...</td>\n",
       "    </tr>\n",
       "    <tr>\n",
       "      <th>9</th>\n",
       "      <td>[역삼] 파스타맛집 그리고 치즈팩토리 케이크 🍝 디스팅트</td>\n",
       "      <td>100그리고100</td>\n",
       "      <td>2021. 12. 27. 8:50</td>\n",
       "      <td>회사에서 팀회식을 위해 알아보던 중 \\n양식을 메뉴로 선정함에 근처 맛집을 찾았다....</td>\n",
       "    </tr>\n",
       "  </tbody>\n",
       "</table>\n",
       "</div>"
      ],
      "text/plain": [
       "                                           title             nickname  \\\n",
       "0                                 무조건인 역삼 맛집 모음          어신\\n(ranboy)   \n",
       "1                                만족스러운 역삼 맛집 리스트   김새침\\n(kikijayoung)   \n",
       "2  [역삼 맛집] 센터필드 차알 역삼점, 역시나 맛은 실망시키지 않는 중식 레스토랑!   여행하지마리오\\n(sh_road)   \n",
       "3                                역삼맛집 도야짬뽕 맛있어요   수자매하우스\\n(lovely-oh)   \n",
       "4                            눈과 입이 즐거운 역삼 맛집 리스트                 두덩두덩   \n",
       "5                                풍요로웠던 역삼 맛집 리스트     느느\\n(mephisto69)   \n",
       "6                                 중독적인 역삼역 맛집 모음                 먹방토끼   \n",
       "7                     역삼맛집 소이연남! 점심 뭐먹지? 태국음식 리뷰       델피늄\\n(kba7628)   \n",
       "8              [역삼 맛집] 정갈한 한식 반상이 있는 한식 다이닝, 수라선                   템포   \n",
       "9                [역삼] 파스타맛집 그리고 치즈팩토리 케이크 🍝 디스팅트            100그리고100   \n",
       "\n",
       "              datetime                                            content  \n",
       "0  2021. 11. 23. 11:30  지난 주에 역삼에 사는 친구를 만나러 갔다가 순메밀로 유명한 식당이 있다기에 역삼 ...  \n",
       "1    2021. 10. 5. 9:10  안녕 김새침언니에요.\\n예전에 살던 동네를 마주치게 되면\\n익숙한 골목골목 지나면서...  \n",
       "2   2021. 12. 1. 12:00  지난주 월요일 여자친구와 예비 처제, 동서와 4명이서 센터필드 맛집인 '차알' 역삼...  \n",
       "3   2021. 12. 29. 3:41  오랫만에 남편이랑 점심 데이트 \\n사실 남편이 중식을 좋아해서 중식 메뉴 골라주면 ...  \n",
       "4    2021. 11. 9. 9:00  안녕하세요. 두덩이에요 :)\\n오늘은 역삼 맛집들을 포스팅할까 합니다!\\n그중에서도...  \n",
       "5  2021. 11. 22. 13:00  지난 주에 친구와 점심 약속을 잡고 역삼 맛집에 다녀왔는데요. 덮밥을 수북히 쌓아주...  \n",
       "6  2021. 12. 23. 13:00  며칠 전 친구와 쇼핑을 나갔다가 손님이 바글바글한 역삼역 맛집에 방문하게 됐어요. ...  \n",
       "7  2021. 12. 21. 10:44  http://naver.me/GgekT3fA 아침부터 쌀쌀한 날씨에\\n따끈한 국물이...  \n",
       "8   2021. 11. 13. 8:50  흔히 말하는 집 밥에서부터\\n다양한 메뉴들이 나오는 고급 진 한정식까지\\n한식의 종...  \n",
       "9   2021. 12. 27. 8:50  회사에서 팀회식을 위해 알아보던 중 \\n양식을 메뉴로 선정함에 근처 맛집을 찾았다....  "
      ]
     },
     "execution_count": 31,
     "metadata": {},
     "output_type": "execute_result"
    }
   ],
   "source": [
    "# 판다스로 만들기\n",
    "import pandas as pd\n",
    "result_df = pd.DataFrame.from_dict(dict, 'index')\n",
    "result_df"
   ]
  },
  {
   "cell_type": "code",
   "execution_count": 32,
   "metadata": {
    "id": "rxYCIxaE-kvv",
    "scrolled": true
   },
   "outputs": [],
   "source": [
    "# 엑셀로 저장하기\n",
    "result_df.to_excel(\"blog_content.xlsx\", encoding='utf-8-sig')"
   ]
  },
  {
   "cell_type": "code",
   "execution_count": 33,
   "metadata": {
    "id": "8tlfMsDm-kvv",
    "outputId": "4fa392b3-ae52-4762-ba70-cbc58cc0d074"
   },
   "outputs": [
    {
     "data": {
      "text/plain": [
       "'/Users/aiden/Dropbox/Mac/Desktop/03.crawling'"
      ]
     },
     "execution_count": 33,
     "metadata": {},
     "output_type": "execute_result"
    }
   ],
   "source": [
    "pwd"
   ]
  },
  {
   "cell_type": "code",
   "execution_count": null,
   "metadata": {
    "id": "lDj94wBC-kvv"
   },
   "outputs": [],
   "source": []
  },
  {
   "cell_type": "code",
   "execution_count": null,
   "metadata": {
    "id": "G9C5ou9Q-kvv"
   },
   "outputs": [],
   "source": []
  }
 ],
 "metadata": {
  "colab": {
   "name": "네이버블로그(202105)_크롤러.ipynb",
   "provenance": []
  },
  "kernelspec": {
   "display_name": "Python 3",
   "language": "python",
   "name": "python3"
  },
  "language_info": {
   "codemirror_mode": {
    "name": "ipython",
    "version": 3
   },
   "file_extension": ".py",
   "mimetype": "text/x-python",
   "name": "python",
   "nbconvert_exporter": "python",
   "pygments_lexer": "ipython3",
   "version": "3.8.5"
  },
  "toc": {
   "base_numbering": 1,
   "nav_menu": {},
   "number_sections": false,
   "sideBar": true,
   "skip_h1_title": false,
   "title_cell": "Table of Contents",
   "title_sidebar": "Contents",
   "toc_cell": false,
   "toc_position": {},
   "toc_section_display": true,
   "toc_window_display": false
  },
  "varInspector": {
   "cols": {
    "lenName": 16,
    "lenType": 16,
    "lenVar": 40
   },
   "kernels_config": {
    "python": {
     "delete_cmd_postfix": "",
     "delete_cmd_prefix": "del ",
     "library": "var_list.py",
     "varRefreshCmd": "print(var_dic_list())"
    },
    "r": {
     "delete_cmd_postfix": ") ",
     "delete_cmd_prefix": "rm(",
     "library": "var_list.r",
     "varRefreshCmd": "cat(var_dic_list()) "
    }
   },
   "position": {
    "height": "600px",
    "left": "554.76px",
    "right": "20px",
    "top": "88px",
    "width": "424px"
   },
   "types_to_exclude": [
    "module",
    "function",
    "builtin_function_or_method",
    "instance",
    "_Feature"
   ],
   "window_display": false
  }
 },
 "nbformat": 4,
 "nbformat_minor": 1
}
